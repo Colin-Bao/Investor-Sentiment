{
 "cells": [
  {
   "cell_type": "markdown",
   "source": [
    "# 数据处理专用"
   ],
   "metadata": {
    "collapsed": false
   }
  },
  {
   "cell_type": "code",
   "execution_count": 1,
   "outputs": [],
   "source": [
    "import cudf"
   ],
   "metadata": {
    "collapsed": false
   }
  },
  {
   "cell_type": "code",
   "execution_count": 3,
   "outputs": [
    {
     "data": {
      "text/plain": "   ﻿SgnYear  Dnum NDnum     DMB     NDMB      PDND  LogPDND\n0      1991     1    14  0.6049   4.8106   -4.2057  -0.9005\n1      1992     4    72  2.4407   4.5652   -2.1245  -0.2720\n2      1993    42   182  2.2759   2.6085   -0.3325  -0.0592\n3      1994   160   193  1.3538   1.7117   -0.3578  -0.1019\n4      1995   265   116  1.0813   1.1420   -0.0607  -0.0237\n5      1996   239   357  1.8867   2.1904   -0.3038  -0.0648\n6      1997   215   599  2.1294   2.4667   -0.3373  -0.0639\n7      1998   283   638  2.0322   2.2689   -0.2367  -0.0479\n8      1999   304   719  2.2116   2.4395   -0.2278  -0.0426\n9      2000   353   818  2.9219   3.6668   -0.7449  -0.0986\n10     2001   777   470  2.3160   3.0632   -0.7472  -0.1214\n11     2002   743   560  1.7153   2.2822   -0.5669  -0.1240\n12     2003   679   688  1.3655   1.5618   -0.1963  -0.0583\n13     2004   674   783  1.0758   1.1857   -0.1099  -0.0422\n14     2005   785   659  0.8572   0.9100   -0.0528  -0.0260\n15     2006   672   801  1.3098   3.9957   -2.6859  -0.4844\n16     2007   764   781  2.8963   3.4932   -0.5969  -0.0814\n17     2008   855   810  1.1291   1.4735   -0.3445  -0.1156\n18     2009   900   863  2.2522  61.2571  -59.0050  -1.4346\n19     2010  1069  1025  2.5991   5.4130   -2.8139  -0.3186\n20     2011  1387   983  1.5468   2.3853   -0.8386  -0.1881\n21     2012  1736   796  1.4306   2.5759   -1.1453  -0.2554\n22     2013  1857   656  1.7662   2.8644   -1.0981  -0.2100\n23     2014  1936   617  2.0459   4.6196   -2.5738  -0.3537\n24     2015  2037   697  3.4264   6.7271   -3.3007  -0.2930\n25     2016  2080   924  2.6078   4.2670   -1.6592  -0.2139\n26     2017  2582   839  2.0386   3.0191   -0.9805  -0.1705\n27     2018  2937   718  1.3863   2.0359   -0.6495  -0.1669\n28     2019  2799  1042  1.7314   2.2075   -0.4761  -0.1055\n29     2020  2914  1342  2.1411   2.2787   -0.1376  -0.0270\n30     2021  3258  1429  2.3111   2.4866   -0.1755  -0.0318",
      "text/html": "<div>\n<style scoped>\n    .dataframe tbody tr th:only-of-type {\n        vertical-align: middle;\n    }\n\n    .dataframe tbody tr th {\n        vertical-align: top;\n    }\n\n    .dataframe thead th {\n        text-align: right;\n    }\n</style>\n<table border=\"1\" class=\"dataframe\">\n  <thead>\n    <tr style=\"text-align: right;\">\n      <th></th>\n      <th>﻿SgnYear</th>\n      <th>Dnum</th>\n      <th>NDnum</th>\n      <th>DMB</th>\n      <th>NDMB</th>\n      <th>PDND</th>\n      <th>LogPDND</th>\n    </tr>\n  </thead>\n  <tbody>\n    <tr>\n      <th>0</th>\n      <td>1991</td>\n      <td>1</td>\n      <td>14</td>\n      <td>0.6049</td>\n      <td>4.8106</td>\n      <td>-4.2057</td>\n      <td>-0.9005</td>\n    </tr>\n    <tr>\n      <th>1</th>\n      <td>1992</td>\n      <td>4</td>\n      <td>72</td>\n      <td>2.4407</td>\n      <td>4.5652</td>\n      <td>-2.1245</td>\n      <td>-0.2720</td>\n    </tr>\n    <tr>\n      <th>2</th>\n      <td>1993</td>\n      <td>42</td>\n      <td>182</td>\n      <td>2.2759</td>\n      <td>2.6085</td>\n      <td>-0.3325</td>\n      <td>-0.0592</td>\n    </tr>\n    <tr>\n      <th>3</th>\n      <td>1994</td>\n      <td>160</td>\n      <td>193</td>\n      <td>1.3538</td>\n      <td>1.7117</td>\n      <td>-0.3578</td>\n      <td>-0.1019</td>\n    </tr>\n    <tr>\n      <th>4</th>\n      <td>1995</td>\n      <td>265</td>\n      <td>116</td>\n      <td>1.0813</td>\n      <td>1.1420</td>\n      <td>-0.0607</td>\n      <td>-0.0237</td>\n    </tr>\n    <tr>\n      <th>5</th>\n      <td>1996</td>\n      <td>239</td>\n      <td>357</td>\n      <td>1.8867</td>\n      <td>2.1904</td>\n      <td>-0.3038</td>\n      <td>-0.0648</td>\n    </tr>\n    <tr>\n      <th>6</th>\n      <td>1997</td>\n      <td>215</td>\n      <td>599</td>\n      <td>2.1294</td>\n      <td>2.4667</td>\n      <td>-0.3373</td>\n      <td>-0.0639</td>\n    </tr>\n    <tr>\n      <th>7</th>\n      <td>1998</td>\n      <td>283</td>\n      <td>638</td>\n      <td>2.0322</td>\n      <td>2.2689</td>\n      <td>-0.2367</td>\n      <td>-0.0479</td>\n    </tr>\n    <tr>\n      <th>8</th>\n      <td>1999</td>\n      <td>304</td>\n      <td>719</td>\n      <td>2.2116</td>\n      <td>2.4395</td>\n      <td>-0.2278</td>\n      <td>-0.0426</td>\n    </tr>\n    <tr>\n      <th>9</th>\n      <td>2000</td>\n      <td>353</td>\n      <td>818</td>\n      <td>2.9219</td>\n      <td>3.6668</td>\n      <td>-0.7449</td>\n      <td>-0.0986</td>\n    </tr>\n    <tr>\n      <th>10</th>\n      <td>2001</td>\n      <td>777</td>\n      <td>470</td>\n      <td>2.3160</td>\n      <td>3.0632</td>\n      <td>-0.7472</td>\n      <td>-0.1214</td>\n    </tr>\n    <tr>\n      <th>11</th>\n      <td>2002</td>\n      <td>743</td>\n      <td>560</td>\n      <td>1.7153</td>\n      <td>2.2822</td>\n      <td>-0.5669</td>\n      <td>-0.1240</td>\n    </tr>\n    <tr>\n      <th>12</th>\n      <td>2003</td>\n      <td>679</td>\n      <td>688</td>\n      <td>1.3655</td>\n      <td>1.5618</td>\n      <td>-0.1963</td>\n      <td>-0.0583</td>\n    </tr>\n    <tr>\n      <th>13</th>\n      <td>2004</td>\n      <td>674</td>\n      <td>783</td>\n      <td>1.0758</td>\n      <td>1.1857</td>\n      <td>-0.1099</td>\n      <td>-0.0422</td>\n    </tr>\n    <tr>\n      <th>14</th>\n      <td>2005</td>\n      <td>785</td>\n      <td>659</td>\n      <td>0.8572</td>\n      <td>0.9100</td>\n      <td>-0.0528</td>\n      <td>-0.0260</td>\n    </tr>\n    <tr>\n      <th>15</th>\n      <td>2006</td>\n      <td>672</td>\n      <td>801</td>\n      <td>1.3098</td>\n      <td>3.9957</td>\n      <td>-2.6859</td>\n      <td>-0.4844</td>\n    </tr>\n    <tr>\n      <th>16</th>\n      <td>2007</td>\n      <td>764</td>\n      <td>781</td>\n      <td>2.8963</td>\n      <td>3.4932</td>\n      <td>-0.5969</td>\n      <td>-0.0814</td>\n    </tr>\n    <tr>\n      <th>17</th>\n      <td>2008</td>\n      <td>855</td>\n      <td>810</td>\n      <td>1.1291</td>\n      <td>1.4735</td>\n      <td>-0.3445</td>\n      <td>-0.1156</td>\n    </tr>\n    <tr>\n      <th>18</th>\n      <td>2009</td>\n      <td>900</td>\n      <td>863</td>\n      <td>2.2522</td>\n      <td>61.2571</td>\n      <td>-59.0050</td>\n      <td>-1.4346</td>\n    </tr>\n    <tr>\n      <th>19</th>\n      <td>2010</td>\n      <td>1069</td>\n      <td>1025</td>\n      <td>2.5991</td>\n      <td>5.4130</td>\n      <td>-2.8139</td>\n      <td>-0.3186</td>\n    </tr>\n    <tr>\n      <th>20</th>\n      <td>2011</td>\n      <td>1387</td>\n      <td>983</td>\n      <td>1.5468</td>\n      <td>2.3853</td>\n      <td>-0.8386</td>\n      <td>-0.1881</td>\n    </tr>\n    <tr>\n      <th>21</th>\n      <td>2012</td>\n      <td>1736</td>\n      <td>796</td>\n      <td>1.4306</td>\n      <td>2.5759</td>\n      <td>-1.1453</td>\n      <td>-0.2554</td>\n    </tr>\n    <tr>\n      <th>22</th>\n      <td>2013</td>\n      <td>1857</td>\n      <td>656</td>\n      <td>1.7662</td>\n      <td>2.8644</td>\n      <td>-1.0981</td>\n      <td>-0.2100</td>\n    </tr>\n    <tr>\n      <th>23</th>\n      <td>2014</td>\n      <td>1936</td>\n      <td>617</td>\n      <td>2.0459</td>\n      <td>4.6196</td>\n      <td>-2.5738</td>\n      <td>-0.3537</td>\n    </tr>\n    <tr>\n      <th>24</th>\n      <td>2015</td>\n      <td>2037</td>\n      <td>697</td>\n      <td>3.4264</td>\n      <td>6.7271</td>\n      <td>-3.3007</td>\n      <td>-0.2930</td>\n    </tr>\n    <tr>\n      <th>25</th>\n      <td>2016</td>\n      <td>2080</td>\n      <td>924</td>\n      <td>2.6078</td>\n      <td>4.2670</td>\n      <td>-1.6592</td>\n      <td>-0.2139</td>\n    </tr>\n    <tr>\n      <th>26</th>\n      <td>2017</td>\n      <td>2582</td>\n      <td>839</td>\n      <td>2.0386</td>\n      <td>3.0191</td>\n      <td>-0.9805</td>\n      <td>-0.1705</td>\n    </tr>\n    <tr>\n      <th>27</th>\n      <td>2018</td>\n      <td>2937</td>\n      <td>718</td>\n      <td>1.3863</td>\n      <td>2.0359</td>\n      <td>-0.6495</td>\n      <td>-0.1669</td>\n    </tr>\n    <tr>\n      <th>28</th>\n      <td>2019</td>\n      <td>2799</td>\n      <td>1042</td>\n      <td>1.7314</td>\n      <td>2.2075</td>\n      <td>-0.4761</td>\n      <td>-0.1055</td>\n    </tr>\n    <tr>\n      <th>29</th>\n      <td>2020</td>\n      <td>2914</td>\n      <td>1342</td>\n      <td>2.1411</td>\n      <td>2.2787</td>\n      <td>-0.1376</td>\n      <td>-0.0270</td>\n    </tr>\n    <tr>\n      <th>30</th>\n      <td>2021</td>\n      <td>3258</td>\n      <td>1429</td>\n      <td>2.3111</td>\n      <td>2.4866</td>\n      <td>-0.1755</td>\n      <td>-0.0318</td>\n    </tr>\n  </tbody>\n</table>\n</div>"
     },
     "execution_count": 3,
     "metadata": {},
     "output_type": "execute_result"
    }
   ],
   "source": [
    "cudf.read_csv('/data/DataSets/BW_INDEX_CSMAR/BW_5_CSMAR/QX_DIVIDENDPREMIUM.csv')"
   ],
   "metadata": {
    "collapsed": false
   }
  }
 ],
 "metadata": {
  "kernelspec": {
   "name": "pytorch",
   "language": "python",
   "display_name": "Rapids"
  },
  "language_info": {
   "codemirror_mode": {
    "name": "ipython",
    "version": 2
   },
   "file_extension": ".py",
   "mimetype": "text/x-python",
   "name": "python",
   "nbconvert_exporter": "python",
   "pygments_lexer": "ipython2",
   "version": "2.7.6"
  }
 },
 "nbformat": 4,
 "nbformat_minor": 0
}
