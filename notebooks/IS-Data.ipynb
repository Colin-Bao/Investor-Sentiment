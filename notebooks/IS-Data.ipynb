{
 "cells": [
  {
   "cell_type": "markdown",
   "source": [
    "# 数据处理专用\n",
    "整合数据,包含了所有处理的数据,用于对联合分布进行探索性分析和错误排查\n",
    "000985.SH为沪深全A"
   ],
   "metadata": {
    "collapsed": false
   }
  },
  {
   "cell_type": "code",
   "execution_count": 31,
   "outputs": [],
   "source": [
    "import sys\n",
    "import pandas as pd\n",
    "\n",
    "# 自行编写的包\n",
    "sys.path.append('/home/ubuntu/notebooks/pycharm_projects/Investor-Sentiment')\n",
    "sys.path.append('/usr/local/stata17/utilities')\n",
    "\n",
    "# Stata\n",
    "from pystata import config\n",
    "\n",
    "config.init('mp')"
   ],
   "metadata": {
    "collapsed": false,
    "ExecuteTime": {
     "start_time": "2023-04-13T07:52:51.608344Z",
     "end_time": "2023-04-13T07:52:51.665728Z"
    }
   }
  },
  {
   "cell_type": "markdown",
   "source": [
    "## 金融市场情绪 - 时间序列"
   ],
   "metadata": {
    "collapsed": false
   }
  },
  {
   "cell_type": "code",
   "execution_count": 32,
   "outputs": [
    {
     "data": {
      "text/plain": "      trade_date  trade_year       CEFD      RIPO  NIPO     TURN   TURN_MA  \\\n1       20100105        2010 -17.840000  0.000000   0.0  0.00819 -0.005408   \n2       20100106        2010 -17.720000  0.617127   3.0  0.00802 -0.005580   \n3       20100107        2010 -16.870000  0.058932   1.0  0.00834 -0.005263   \n4       20100108        2010 -17.595926  0.319774   6.0  0.00643 -0.007174   \n5       20100111        2010 -16.700000  0.000000   0.0  0.00875 -0.004857   \n...          ...         ...        ...       ...   ...      ...       ...   \n2912    20211227        2021  -2.258667  0.079280   1.0  0.00675  0.001142   \n2913    20211228        2021  -2.880625  0.107463   4.0  0.00647  0.000860   \n2914    20211229        2021  -2.787500  0.000000   0.0  0.00624  0.000628   \n2915    20211230        2021  -3.135625  0.259762   3.0  0.00627  0.000655   \n2916    20211231        2021   0.180000  0.441176   1.0  0.00672  0.001102   \n\n      trade_month     SR    lnPD  ...    NIPO_R    RIPO_R       SR_R  \\\n1          201001  32.76 -0.3186  ... -0.930690 -0.277455  16.537449   \n2          201001  32.76 -0.3186  ...  2.069310  0.339671  16.537449   \n3          201001  32.76 -0.3186  ...  0.069310 -0.218523  16.537449   \n4          201001  32.76 -0.3186  ...  5.069310  0.042319  16.537449   \n5          201001  32.76 -0.3186  ... -0.930690 -0.277455  16.537449   \n...           ...    ...     ...  ...       ...       ...        ...   \n2912       202112   6.95 -0.0318  ... -0.044895 -0.374305  -2.832969   \n2913       202112   6.95 -0.0318  ...  2.955105 -0.346122  -2.832969   \n2914       202112   6.95 -0.0318  ... -1.044895 -0.453585  -2.832969   \n2915       202112   6.95 -0.0318  ...  1.955105 -0.193822  -2.832969   \n2916       202112   6.95 -0.0318  ... -0.044895 -0.012409  -2.832969   \n\n      l1_TURN_R    lnPD_R  SENT_INDEX_R  SENT_INDEX_EX  SENT_INDEX_DEX  \\\n1      0.000834 -0.100608     -1.244143      -0.430662       -0.285413   \n2      0.001924 -0.100608     -0.035316      -0.489220       -0.286190   \n3      0.001754 -0.100608     -0.860132      -0.450119       -0.287520   \n4      0.002074 -0.100608      0.640860      -0.478187       -0.287617   \n5      0.000164 -0.100608     -1.183935      -0.387898       -0.288697   \n...         ...       ...           ...            ...             ...   \n2912   0.001832  0.097983      0.390557       1.170102        1.302731   \n2913   0.000582  0.097983      1.186737       1.127746        1.298598   \n2914   0.000302  0.097983      0.013389       1.149856        1.293518   \n2915   0.000072  0.097983      0.972127       1.079838        1.288670   \n2916   0.000102  0.097983      0.720920       1.088991        1.283711   \n\n      SENT_INDEX_R_EX  SENT_INDEX_R_DEX  \n1           -0.331016          0.058454  \n2           -0.412211          0.055876  \n3           -0.378698          0.051982  \n4           -0.421506          0.049377  \n5           -0.327042          0.044932  \n...               ...               ...  \n2912         0.960139          1.050876  \n2913         0.909492          1.046500  \n2914         0.934144          1.040757  \n2915         0.852272          1.035358  \n2916         0.862929          1.029868  \n\n[2916 rows x 26 columns]",
      "text/html": "<div>\n<style scoped>\n    .dataframe tbody tr th:only-of-type {\n        vertical-align: middle;\n    }\n\n    .dataframe tbody tr th {\n        vertical-align: top;\n    }\n\n    .dataframe thead th {\n        text-align: right;\n    }\n</style>\n<table border=\"1\" class=\"dataframe\">\n  <thead>\n    <tr style=\"text-align: right;\">\n      <th></th>\n      <th>trade_date</th>\n      <th>trade_year</th>\n      <th>CEFD</th>\n      <th>RIPO</th>\n      <th>NIPO</th>\n      <th>TURN</th>\n      <th>TURN_MA</th>\n      <th>trade_month</th>\n      <th>SR</th>\n      <th>lnPD</th>\n      <th>...</th>\n      <th>NIPO_R</th>\n      <th>RIPO_R</th>\n      <th>SR_R</th>\n      <th>l1_TURN_R</th>\n      <th>lnPD_R</th>\n      <th>SENT_INDEX_R</th>\n      <th>SENT_INDEX_EX</th>\n      <th>SENT_INDEX_DEX</th>\n      <th>SENT_INDEX_R_EX</th>\n      <th>SENT_INDEX_R_DEX</th>\n    </tr>\n  </thead>\n  <tbody>\n    <tr>\n      <th>1</th>\n      <td>20100105</td>\n      <td>2010</td>\n      <td>-17.840000</td>\n      <td>0.000000</td>\n      <td>0.0</td>\n      <td>0.00819</td>\n      <td>-0.005408</td>\n      <td>201001</td>\n      <td>32.76</td>\n      <td>-0.3186</td>\n      <td>...</td>\n      <td>-0.930690</td>\n      <td>-0.277455</td>\n      <td>16.537449</td>\n      <td>0.000834</td>\n      <td>-0.100608</td>\n      <td>-1.244143</td>\n      <td>-0.430662</td>\n      <td>-0.285413</td>\n      <td>-0.331016</td>\n      <td>0.058454</td>\n    </tr>\n    <tr>\n      <th>2</th>\n      <td>20100106</td>\n      <td>2010</td>\n      <td>-17.720000</td>\n      <td>0.617127</td>\n      <td>3.0</td>\n      <td>0.00802</td>\n      <td>-0.005580</td>\n      <td>201001</td>\n      <td>32.76</td>\n      <td>-0.3186</td>\n      <td>...</td>\n      <td>2.069310</td>\n      <td>0.339671</td>\n      <td>16.537449</td>\n      <td>0.001924</td>\n      <td>-0.100608</td>\n      <td>-0.035316</td>\n      <td>-0.489220</td>\n      <td>-0.286190</td>\n      <td>-0.412211</td>\n      <td>0.055876</td>\n    </tr>\n    <tr>\n      <th>3</th>\n      <td>20100107</td>\n      <td>2010</td>\n      <td>-16.870000</td>\n      <td>0.058932</td>\n      <td>1.0</td>\n      <td>0.00834</td>\n      <td>-0.005263</td>\n      <td>201001</td>\n      <td>32.76</td>\n      <td>-0.3186</td>\n      <td>...</td>\n      <td>0.069310</td>\n      <td>-0.218523</td>\n      <td>16.537449</td>\n      <td>0.001754</td>\n      <td>-0.100608</td>\n      <td>-0.860132</td>\n      <td>-0.450119</td>\n      <td>-0.287520</td>\n      <td>-0.378698</td>\n      <td>0.051982</td>\n    </tr>\n    <tr>\n      <th>4</th>\n      <td>20100108</td>\n      <td>2010</td>\n      <td>-17.595926</td>\n      <td>0.319774</td>\n      <td>6.0</td>\n      <td>0.00643</td>\n      <td>-0.007174</td>\n      <td>201001</td>\n      <td>32.76</td>\n      <td>-0.3186</td>\n      <td>...</td>\n      <td>5.069310</td>\n      <td>0.042319</td>\n      <td>16.537449</td>\n      <td>0.002074</td>\n      <td>-0.100608</td>\n      <td>0.640860</td>\n      <td>-0.478187</td>\n      <td>-0.287617</td>\n      <td>-0.421506</td>\n      <td>0.049377</td>\n    </tr>\n    <tr>\n      <th>5</th>\n      <td>20100111</td>\n      <td>2010</td>\n      <td>-16.700000</td>\n      <td>0.000000</td>\n      <td>0.0</td>\n      <td>0.00875</td>\n      <td>-0.004857</td>\n      <td>201001</td>\n      <td>32.76</td>\n      <td>-0.3186</td>\n      <td>...</td>\n      <td>-0.930690</td>\n      <td>-0.277455</td>\n      <td>16.537449</td>\n      <td>0.000164</td>\n      <td>-0.100608</td>\n      <td>-1.183935</td>\n      <td>-0.387898</td>\n      <td>-0.288697</td>\n      <td>-0.327042</td>\n      <td>0.044932</td>\n    </tr>\n    <tr>\n      <th>...</th>\n      <td>...</td>\n      <td>...</td>\n      <td>...</td>\n      <td>...</td>\n      <td>...</td>\n      <td>...</td>\n      <td>...</td>\n      <td>...</td>\n      <td>...</td>\n      <td>...</td>\n      <td>...</td>\n      <td>...</td>\n      <td>...</td>\n      <td>...</td>\n      <td>...</td>\n      <td>...</td>\n      <td>...</td>\n      <td>...</td>\n      <td>...</td>\n      <td>...</td>\n      <td>...</td>\n    </tr>\n    <tr>\n      <th>2912</th>\n      <td>20211227</td>\n      <td>2021</td>\n      <td>-2.258667</td>\n      <td>0.079280</td>\n      <td>1.0</td>\n      <td>0.00675</td>\n      <td>0.001142</td>\n      <td>202112</td>\n      <td>6.95</td>\n      <td>-0.0318</td>\n      <td>...</td>\n      <td>-0.044895</td>\n      <td>-0.374305</td>\n      <td>-2.832969</td>\n      <td>0.001832</td>\n      <td>0.097983</td>\n      <td>0.390557</td>\n      <td>1.170102</td>\n      <td>1.302731</td>\n      <td>0.960139</td>\n      <td>1.050876</td>\n    </tr>\n    <tr>\n      <th>2913</th>\n      <td>20211228</td>\n      <td>2021</td>\n      <td>-2.880625</td>\n      <td>0.107463</td>\n      <td>4.0</td>\n      <td>0.00647</td>\n      <td>0.000860</td>\n      <td>202112</td>\n      <td>6.95</td>\n      <td>-0.0318</td>\n      <td>...</td>\n      <td>2.955105</td>\n      <td>-0.346122</td>\n      <td>-2.832969</td>\n      <td>0.000582</td>\n      <td>0.097983</td>\n      <td>1.186737</td>\n      <td>1.127746</td>\n      <td>1.298598</td>\n      <td>0.909492</td>\n      <td>1.046500</td>\n    </tr>\n    <tr>\n      <th>2914</th>\n      <td>20211229</td>\n      <td>2021</td>\n      <td>-2.787500</td>\n      <td>0.000000</td>\n      <td>0.0</td>\n      <td>0.00624</td>\n      <td>0.000628</td>\n      <td>202112</td>\n      <td>6.95</td>\n      <td>-0.0318</td>\n      <td>...</td>\n      <td>-1.044895</td>\n      <td>-0.453585</td>\n      <td>-2.832969</td>\n      <td>0.000302</td>\n      <td>0.097983</td>\n      <td>0.013389</td>\n      <td>1.149856</td>\n      <td>1.293518</td>\n      <td>0.934144</td>\n      <td>1.040757</td>\n    </tr>\n    <tr>\n      <th>2915</th>\n      <td>20211230</td>\n      <td>2021</td>\n      <td>-3.135625</td>\n      <td>0.259762</td>\n      <td>3.0</td>\n      <td>0.00627</td>\n      <td>0.000655</td>\n      <td>202112</td>\n      <td>6.95</td>\n      <td>-0.0318</td>\n      <td>...</td>\n      <td>1.955105</td>\n      <td>-0.193822</td>\n      <td>-2.832969</td>\n      <td>0.000072</td>\n      <td>0.097983</td>\n      <td>0.972127</td>\n      <td>1.079838</td>\n      <td>1.288670</td>\n      <td>0.852272</td>\n      <td>1.035358</td>\n    </tr>\n    <tr>\n      <th>2916</th>\n      <td>20211231</td>\n      <td>2021</td>\n      <td>0.180000</td>\n      <td>0.441176</td>\n      <td>1.0</td>\n      <td>0.00672</td>\n      <td>0.001102</td>\n      <td>202112</td>\n      <td>6.95</td>\n      <td>-0.0318</td>\n      <td>...</td>\n      <td>-0.044895</td>\n      <td>-0.012409</td>\n      <td>-2.832969</td>\n      <td>0.000102</td>\n      <td>0.097983</td>\n      <td>0.720920</td>\n      <td>1.088991</td>\n      <td>1.283711</td>\n      <td>0.862929</td>\n      <td>1.029868</td>\n    </tr>\n  </tbody>\n</table>\n<p>2916 rows × 26 columns</p>\n</div>"
     },
     "execution_count": 32,
     "metadata": {},
     "output_type": "execute_result"
    }
   ],
   "source": [
    "df_finmarket = pd.read_parquet('/home/ubuntu/notebooks/DataSets/investor_sentiment/FIN_SENT_STATA_2010_2021.parquet')\n",
    "df_finmarket"
   ],
   "metadata": {
    "collapsed": false,
    "ExecuteTime": {
     "start_time": "2023-04-13T07:52:51.611082Z",
     "end_time": "2023-04-13T07:52:51.692384Z"
    }
   }
  },
  {
   "cell_type": "markdown",
   "source": [
    "## 分析师情绪 - 面板"
   ],
   "metadata": {
    "collapsed": false
   }
  },
  {
   "cell_type": "code",
   "execution_count": 33,
   "outputs": [
    {
     "data": {
      "text/plain": "       trade_date    ts_code  CON_YEAR        CON_OR        CON_NP  CON_EPS  \\\n0        20140102  000010.SH      2014  1.229380e+09  20139.051805   0.8059   \n1        20140102  000015.SH      2014  5.889377e+08  15328.983195   0.8057   \n2        20140102  000016.SH      2014  8.063073e+08  13294.314326   0.8620   \n3        20140102  000300.SH      2014  1.553438e+09  22802.196329   0.7898   \n4        20140102  000903.SH      2014  1.219844e+09  20305.917391   0.8299   \n...           ...        ...       ...           ...           ...      ...   \n23560    20221028  000906.SH      2022  5.610430e+09  51796.277367   0.9641   \n23561    20221028  000985.SH      2022  7.224144e+09  58403.840993   0.7555   \n23562    20221028  399005.SZ      2022  3.308684e+08   3156.638702   0.9635   \n23563    20221028  399006.SZ      2022  1.580034e+08   1800.383211   1.3799   \n23564    20221028  399310.SZ      2022  1.525638e+09  15430.058098   1.3643   \n\n             CON_NA  CON_PB  CON_PS   CON_PE  ...   close_l1  close_chg  \\\n0      1.356969e+09  1.0078  0.7662   6.7909  ...  5040.2700  -0.599174   \n1      9.912300e+08  0.8505  0.8438   5.4999  ...  1681.4600  -0.397274   \n2      8.877149e+08  0.9876  0.7290   6.5949  ...  1574.7800  -0.868693   \n3      1.569081e+09  1.0997  0.7828   7.5674  ...  2330.0300  -0.345489   \n4      1.353838e+09  0.9884  0.7627   6.5896  ...  2155.2300  -0.593904   \n...             ...     ...     ...      ...  ...        ...        ...   \n23560  4.774941e+09  1.1471  0.9763  10.5749  ...  4024.5400  -2.622412   \n23561  5.825681e+09  1.3191  1.0637  13.1574  ...  4640.7167  -2.964490   \n23562  2.227230e+08  2.8926  1.9471  20.4090  ...  7293.5300  -3.140318   \n23563  1.220097e+08  4.4799  3.4594  30.3598  ...  2337.2500  -3.711199   \n23564  1.151031e+09  1.4075  1.0619  10.4997  ...  5682.8900  -2.940229   \n\n       img_neg  tex_neg  riskfree_return  opt_profit_yoy     opt_pe  \\\n0          0.0      0.0         0.015460      106.321095 -36.175752   \n1          0.0      0.0         0.015460       19.072326 -30.115629   \n2          0.0      0.0         0.015460      131.053412 -32.636364   \n3          0.0      0.0         0.015460       76.005909 -36.833055   \n4          0.0      0.0         0.015460       80.367172 -35.141732   \n...        ...      ...              ...             ...        ...   \n23560      NaN      NaN         0.004842      203.012356 -18.087529   \n23561      NaN      NaN         0.004842      241.903541 -22.694477   \n23562      NaN      NaN         0.004842       83.540859 -23.129944   \n23563      NaN      NaN         0.004842     8845.061854 -24.327517   \n23564      NaN      NaN         0.004842      202.048409 -17.063981   \n\n       opt_profit    time  close_chg_s  \n0        6.534466     1.0     0.359010  \n1        4.676568     1.0     0.157826  \n2        6.312925     1.0     0.754627  \n3        7.697893     1.0     0.119363  \n4        6.049136     1.0     0.352722  \n...           ...     ...          ...  \n23560   40.330525  2146.0     6.877042  \n23561   36.381384  2141.0     8.788203  \n23562   50.151677  2144.0     9.861594  \n23563   52.148060  2144.0    13.772998  \n23564   35.863497  2114.0     8.644949  \n\n[23565 rows x 46 columns]",
      "text/html": "<div>\n<style scoped>\n    .dataframe tbody tr th:only-of-type {\n        vertical-align: middle;\n    }\n\n    .dataframe tbody tr th {\n        vertical-align: top;\n    }\n\n    .dataframe thead th {\n        text-align: right;\n    }\n</style>\n<table border=\"1\" class=\"dataframe\">\n  <thead>\n    <tr style=\"text-align: right;\">\n      <th></th>\n      <th>trade_date</th>\n      <th>ts_code</th>\n      <th>CON_YEAR</th>\n      <th>CON_OR</th>\n      <th>CON_NP</th>\n      <th>CON_EPS</th>\n      <th>CON_NA</th>\n      <th>CON_PB</th>\n      <th>CON_PS</th>\n      <th>CON_PE</th>\n      <th>...</th>\n      <th>close_l1</th>\n      <th>close_chg</th>\n      <th>img_neg</th>\n      <th>tex_neg</th>\n      <th>riskfree_return</th>\n      <th>opt_profit_yoy</th>\n      <th>opt_pe</th>\n      <th>opt_profit</th>\n      <th>time</th>\n      <th>close_chg_s</th>\n    </tr>\n  </thead>\n  <tbody>\n    <tr>\n      <th>0</th>\n      <td>20140102</td>\n      <td>000010.SH</td>\n      <td>2014</td>\n      <td>1.229380e+09</td>\n      <td>20139.051805</td>\n      <td>0.8059</td>\n      <td>1.356969e+09</td>\n      <td>1.0078</td>\n      <td>0.7662</td>\n      <td>6.7909</td>\n      <td>...</td>\n      <td>5040.2700</td>\n      <td>-0.599174</td>\n      <td>0.0</td>\n      <td>0.0</td>\n      <td>0.015460</td>\n      <td>106.321095</td>\n      <td>-36.175752</td>\n      <td>6.534466</td>\n      <td>1.0</td>\n      <td>0.359010</td>\n    </tr>\n    <tr>\n      <th>1</th>\n      <td>20140102</td>\n      <td>000015.SH</td>\n      <td>2014</td>\n      <td>5.889377e+08</td>\n      <td>15328.983195</td>\n      <td>0.8057</td>\n      <td>9.912300e+08</td>\n      <td>0.8505</td>\n      <td>0.8438</td>\n      <td>5.4999</td>\n      <td>...</td>\n      <td>1681.4600</td>\n      <td>-0.397274</td>\n      <td>0.0</td>\n      <td>0.0</td>\n      <td>0.015460</td>\n      <td>19.072326</td>\n      <td>-30.115629</td>\n      <td>4.676568</td>\n      <td>1.0</td>\n      <td>0.157826</td>\n    </tr>\n    <tr>\n      <th>2</th>\n      <td>20140102</td>\n      <td>000016.SH</td>\n      <td>2014</td>\n      <td>8.063073e+08</td>\n      <td>13294.314326</td>\n      <td>0.8620</td>\n      <td>8.877149e+08</td>\n      <td>0.9876</td>\n      <td>0.7290</td>\n      <td>6.5949</td>\n      <td>...</td>\n      <td>1574.7800</td>\n      <td>-0.868693</td>\n      <td>0.0</td>\n      <td>0.0</td>\n      <td>0.015460</td>\n      <td>131.053412</td>\n      <td>-32.636364</td>\n      <td>6.312925</td>\n      <td>1.0</td>\n      <td>0.754627</td>\n    </tr>\n    <tr>\n      <th>3</th>\n      <td>20140102</td>\n      <td>000300.SH</td>\n      <td>2014</td>\n      <td>1.553438e+09</td>\n      <td>22802.196329</td>\n      <td>0.7898</td>\n      <td>1.569081e+09</td>\n      <td>1.0997</td>\n      <td>0.7828</td>\n      <td>7.5674</td>\n      <td>...</td>\n      <td>2330.0300</td>\n      <td>-0.345489</td>\n      <td>0.0</td>\n      <td>0.0</td>\n      <td>0.015460</td>\n      <td>76.005909</td>\n      <td>-36.833055</td>\n      <td>7.697893</td>\n      <td>1.0</td>\n      <td>0.119363</td>\n    </tr>\n    <tr>\n      <th>4</th>\n      <td>20140102</td>\n      <td>000903.SH</td>\n      <td>2014</td>\n      <td>1.219844e+09</td>\n      <td>20305.917391</td>\n      <td>0.8299</td>\n      <td>1.353838e+09</td>\n      <td>0.9884</td>\n      <td>0.7627</td>\n      <td>6.5896</td>\n      <td>...</td>\n      <td>2155.2300</td>\n      <td>-0.593904</td>\n      <td>0.0</td>\n      <td>0.0</td>\n      <td>0.015460</td>\n      <td>80.367172</td>\n      <td>-35.141732</td>\n      <td>6.049136</td>\n      <td>1.0</td>\n      <td>0.352722</td>\n    </tr>\n    <tr>\n      <th>...</th>\n      <td>...</td>\n      <td>...</td>\n      <td>...</td>\n      <td>...</td>\n      <td>...</td>\n      <td>...</td>\n      <td>...</td>\n      <td>...</td>\n      <td>...</td>\n      <td>...</td>\n      <td>...</td>\n      <td>...</td>\n      <td>...</td>\n      <td>...</td>\n      <td>...</td>\n      <td>...</td>\n      <td>...</td>\n      <td>...</td>\n      <td>...</td>\n      <td>...</td>\n      <td>...</td>\n    </tr>\n    <tr>\n      <th>23560</th>\n      <td>20221028</td>\n      <td>000906.SH</td>\n      <td>2022</td>\n      <td>5.610430e+09</td>\n      <td>51796.277367</td>\n      <td>0.9641</td>\n      <td>4.774941e+09</td>\n      <td>1.1471</td>\n      <td>0.9763</td>\n      <td>10.5749</td>\n      <td>...</td>\n      <td>4024.5400</td>\n      <td>-2.622412</td>\n      <td>NaN</td>\n      <td>NaN</td>\n      <td>0.004842</td>\n      <td>203.012356</td>\n      <td>-18.087529</td>\n      <td>40.330525</td>\n      <td>2146.0</td>\n      <td>6.877042</td>\n    </tr>\n    <tr>\n      <th>23561</th>\n      <td>20221028</td>\n      <td>000985.SH</td>\n      <td>2022</td>\n      <td>7.224144e+09</td>\n      <td>58403.840993</td>\n      <td>0.7555</td>\n      <td>5.825681e+09</td>\n      <td>1.3191</td>\n      <td>1.0637</td>\n      <td>13.1574</td>\n      <td>...</td>\n      <td>4640.7167</td>\n      <td>-2.964490</td>\n      <td>NaN</td>\n      <td>NaN</td>\n      <td>0.004842</td>\n      <td>241.903541</td>\n      <td>-22.694477</td>\n      <td>36.381384</td>\n      <td>2141.0</td>\n      <td>8.788203</td>\n    </tr>\n    <tr>\n      <th>23562</th>\n      <td>20221028</td>\n      <td>399005.SZ</td>\n      <td>2022</td>\n      <td>3.308684e+08</td>\n      <td>3156.638702</td>\n      <td>0.9635</td>\n      <td>2.227230e+08</td>\n      <td>2.8926</td>\n      <td>1.9471</td>\n      <td>20.4090</td>\n      <td>...</td>\n      <td>7293.5300</td>\n      <td>-3.140318</td>\n      <td>NaN</td>\n      <td>NaN</td>\n      <td>0.004842</td>\n      <td>83.540859</td>\n      <td>-23.129944</td>\n      <td>50.151677</td>\n      <td>2144.0</td>\n      <td>9.861594</td>\n    </tr>\n    <tr>\n      <th>23563</th>\n      <td>20221028</td>\n      <td>399006.SZ</td>\n      <td>2022</td>\n      <td>1.580034e+08</td>\n      <td>1800.383211</td>\n      <td>1.3799</td>\n      <td>1.220097e+08</td>\n      <td>4.4799</td>\n      <td>3.4594</td>\n      <td>30.3598</td>\n      <td>...</td>\n      <td>2337.2500</td>\n      <td>-3.711199</td>\n      <td>NaN</td>\n      <td>NaN</td>\n      <td>0.004842</td>\n      <td>8845.061854</td>\n      <td>-24.327517</td>\n      <td>52.148060</td>\n      <td>2144.0</td>\n      <td>13.772998</td>\n    </tr>\n    <tr>\n      <th>23564</th>\n      <td>20221028</td>\n      <td>399310.SZ</td>\n      <td>2022</td>\n      <td>1.525638e+09</td>\n      <td>15430.058098</td>\n      <td>1.3643</td>\n      <td>1.151031e+09</td>\n      <td>1.4075</td>\n      <td>1.0619</td>\n      <td>10.4997</td>\n      <td>...</td>\n      <td>5682.8900</td>\n      <td>-2.940229</td>\n      <td>NaN</td>\n      <td>NaN</td>\n      <td>0.004842</td>\n      <td>202.048409</td>\n      <td>-17.063981</td>\n      <td>35.863497</td>\n      <td>2114.0</td>\n      <td>8.644949</td>\n    </tr>\n  </tbody>\n</table>\n<p>23565 rows × 46 columns</p>\n</div>"
     },
     "execution_count": 33,
     "metadata": {},
     "output_type": "execute_result"
    }
   ],
   "source": [
    "df_analyst = pd.read_parquet('/home/ubuntu/notebooks/DataSets/investor_sentiment/ANALYST_SENT_STATA_2014_2021.parquet').astype(\n",
    "        dtype={'trade_date': 'uint32'})\n",
    "df_analyst"
   ],
   "metadata": {
    "collapsed": false,
    "ExecuteTime": {
     "start_time": "2023-04-13T07:52:51.643110Z",
     "end_time": "2023-04-13T07:52:51.759445Z"
    }
   }
  },
  {
   "cell_type": "markdown",
   "source": [
    "## 投资者情绪 - 时间序列"
   ],
   "metadata": {
    "collapsed": false
   }
  },
  {
   "cell_type": "code",
   "execution_count": 34,
   "outputs": [
    {
     "data": {
      "text/plain": "      trade_date    IndexA    IndexB     Posts     Readings   Comments  \\\n0       20140102  0.000000  0.000000       0.0          0.0        0.0   \n1       20140103  0.000000  0.000000       2.0     107379.0      342.0   \n2       20140106  0.000000  0.000000       2.0      22652.0       47.0   \n3       20140107  0.000000  0.000000       0.0          0.0        0.0   \n4       20140108  0.000000  0.000000       0.0          0.0        0.0   \n...          ...       ...       ...       ...          ...        ...   \n1891    20211012 -0.229368 -0.467035  120497.0  26442508.27   273224.2   \n1892    20211013 -0.226023 -0.459981  123178.0  27651587.71  288526.17   \n1893    20211014 -0.188129 -0.380788  135718.0  30212375.19  303991.93   \n1894    20211015 -0.268408 -0.550281   96804.0  19564087.44  218796.43   \n1895    20211018  0.000000  0.000000       0.0          0.0        0.0   \n\n       ThumbUps  PosPosts  NeuPosts  NegPosts  PosRatio  NeuRatio  NegRatio  \n0           0.0       0.0       0.0       0.0  0.000000  0.000000  0.000000  \n1           2.0       1.0       0.0       1.0  0.500000  0.000000  0.500000  \n2           0.0       1.0       0.0       1.0  0.500000  0.000000  0.500000  \n3           0.0       0.0       0.0       0.0  0.000000  0.000000  0.000000  \n4           0.0       0.0       0.0       0.0  0.000000  0.000000  0.000000  \n...         ...       ...       ...       ...       ...       ...       ...  \n1891  172338.87   42169.0   11057.0   67271.0  0.349959  0.091762  0.558279  \n1892  177561.46   43256.0   11402.0   68520.0  0.351167  0.092565  0.556268  \n1893  188185.02   50036.0   12457.0   73225.0  0.368676  0.091786  0.539538  \n1894  121423.77   32133.0    8960.0   55711.0  0.331939  0.092558  0.575503  \n1895        0.0       0.0       0.0       0.0  0.000000  0.000000  0.000000  \n\n[1896 rows x 13 columns]",
      "text/html": "<div>\n<style scoped>\n    .dataframe tbody tr th:only-of-type {\n        vertical-align: middle;\n    }\n\n    .dataframe tbody tr th {\n        vertical-align: top;\n    }\n\n    .dataframe thead th {\n        text-align: right;\n    }\n</style>\n<table border=\"1\" class=\"dataframe\">\n  <thead>\n    <tr style=\"text-align: right;\">\n      <th></th>\n      <th>trade_date</th>\n      <th>IndexA</th>\n      <th>IndexB</th>\n      <th>Posts</th>\n      <th>Readings</th>\n      <th>Comments</th>\n      <th>ThumbUps</th>\n      <th>PosPosts</th>\n      <th>NeuPosts</th>\n      <th>NegPosts</th>\n      <th>PosRatio</th>\n      <th>NeuRatio</th>\n      <th>NegRatio</th>\n    </tr>\n  </thead>\n  <tbody>\n    <tr>\n      <th>0</th>\n      <td>20140102</td>\n      <td>0.000000</td>\n      <td>0.000000</td>\n      <td>0.0</td>\n      <td>0.0</td>\n      <td>0.0</td>\n      <td>0.0</td>\n      <td>0.0</td>\n      <td>0.0</td>\n      <td>0.0</td>\n      <td>0.000000</td>\n      <td>0.000000</td>\n      <td>0.000000</td>\n    </tr>\n    <tr>\n      <th>1</th>\n      <td>20140103</td>\n      <td>0.000000</td>\n      <td>0.000000</td>\n      <td>2.0</td>\n      <td>107379.0</td>\n      <td>342.0</td>\n      <td>2.0</td>\n      <td>1.0</td>\n      <td>0.0</td>\n      <td>1.0</td>\n      <td>0.500000</td>\n      <td>0.000000</td>\n      <td>0.500000</td>\n    </tr>\n    <tr>\n      <th>2</th>\n      <td>20140106</td>\n      <td>0.000000</td>\n      <td>0.000000</td>\n      <td>2.0</td>\n      <td>22652.0</td>\n      <td>47.0</td>\n      <td>0.0</td>\n      <td>1.0</td>\n      <td>0.0</td>\n      <td>1.0</td>\n      <td>0.500000</td>\n      <td>0.000000</td>\n      <td>0.500000</td>\n    </tr>\n    <tr>\n      <th>3</th>\n      <td>20140107</td>\n      <td>0.000000</td>\n      <td>0.000000</td>\n      <td>0.0</td>\n      <td>0.0</td>\n      <td>0.0</td>\n      <td>0.0</td>\n      <td>0.0</td>\n      <td>0.0</td>\n      <td>0.0</td>\n      <td>0.000000</td>\n      <td>0.000000</td>\n      <td>0.000000</td>\n    </tr>\n    <tr>\n      <th>4</th>\n      <td>20140108</td>\n      <td>0.000000</td>\n      <td>0.000000</td>\n      <td>0.0</td>\n      <td>0.0</td>\n      <td>0.0</td>\n      <td>0.0</td>\n      <td>0.0</td>\n      <td>0.0</td>\n      <td>0.0</td>\n      <td>0.000000</td>\n      <td>0.000000</td>\n      <td>0.000000</td>\n    </tr>\n    <tr>\n      <th>...</th>\n      <td>...</td>\n      <td>...</td>\n      <td>...</td>\n      <td>...</td>\n      <td>...</td>\n      <td>...</td>\n      <td>...</td>\n      <td>...</td>\n      <td>...</td>\n      <td>...</td>\n      <td>...</td>\n      <td>...</td>\n      <td>...</td>\n    </tr>\n    <tr>\n      <th>1891</th>\n      <td>20211012</td>\n      <td>-0.229368</td>\n      <td>-0.467035</td>\n      <td>120497.0</td>\n      <td>26442508.27</td>\n      <td>273224.2</td>\n      <td>172338.87</td>\n      <td>42169.0</td>\n      <td>11057.0</td>\n      <td>67271.0</td>\n      <td>0.349959</td>\n      <td>0.091762</td>\n      <td>0.558279</td>\n    </tr>\n    <tr>\n      <th>1892</th>\n      <td>20211013</td>\n      <td>-0.226023</td>\n      <td>-0.459981</td>\n      <td>123178.0</td>\n      <td>27651587.71</td>\n      <td>288526.17</td>\n      <td>177561.46</td>\n      <td>43256.0</td>\n      <td>11402.0</td>\n      <td>68520.0</td>\n      <td>0.351167</td>\n      <td>0.092565</td>\n      <td>0.556268</td>\n    </tr>\n    <tr>\n      <th>1893</th>\n      <td>20211014</td>\n      <td>-0.188129</td>\n      <td>-0.380788</td>\n      <td>135718.0</td>\n      <td>30212375.19</td>\n      <td>303991.93</td>\n      <td>188185.02</td>\n      <td>50036.0</td>\n      <td>12457.0</td>\n      <td>73225.0</td>\n      <td>0.368676</td>\n      <td>0.091786</td>\n      <td>0.539538</td>\n    </tr>\n    <tr>\n      <th>1894</th>\n      <td>20211015</td>\n      <td>-0.268408</td>\n      <td>-0.550281</td>\n      <td>96804.0</td>\n      <td>19564087.44</td>\n      <td>218796.43</td>\n      <td>121423.77</td>\n      <td>32133.0</td>\n      <td>8960.0</td>\n      <td>55711.0</td>\n      <td>0.331939</td>\n      <td>0.092558</td>\n      <td>0.575503</td>\n    </tr>\n    <tr>\n      <th>1895</th>\n      <td>20211018</td>\n      <td>0.000000</td>\n      <td>0.000000</td>\n      <td>0.0</td>\n      <td>0.0</td>\n      <td>0.0</td>\n      <td>0.0</td>\n      <td>0.0</td>\n      <td>0.0</td>\n      <td>0.0</td>\n      <td>0.000000</td>\n      <td>0.000000</td>\n      <td>0.000000</td>\n    </tr>\n  </tbody>\n</table>\n<p>1896 rows × 13 columns</p>\n</div>"
     },
     "execution_count": 34,
     "metadata": {},
     "output_type": "execute_result"
    }
   ],
   "source": [
    "df_forum_tdate = pd.read_parquet('/home/ubuntu/notebooks/DataSets/investor_sentiment/FORUM_SENT_TDATE_CSMAR.parquet').reset_index()\n",
    "df_forum_tdate = df_forum_tdate.fillna(0)\n",
    "df_forum_tdate"
   ],
   "metadata": {
    "collapsed": false,
    "ExecuteTime": {
     "start_time": "2023-04-13T07:52:51.730286Z",
     "end_time": "2023-04-13T07:52:51.759582Z"
    }
   }
  },
  {
   "cell_type": "markdown",
   "source": [
    "## 媒体情绪 - 时间序列"
   ],
   "metadata": {
    "collapsed": false
   }
  },
  {
   "cell_type": "markdown",
   "source": [
    "## 构建合并的数据"
   ],
   "metadata": {
    "collapsed": false
   }
  },
  {
   "cell_type": "code",
   "execution_count": 35,
   "outputs": [
    {
     "data": {
      "text/plain": "       trade_date    ts_code  CON_YEAR        CON_OR        CON_NP  CON_EPS  \\\n0        20100105        NaN       NaN           NaN           NaN      NaN   \n1        20100106        NaN       NaN           NaN           NaN      NaN   \n2        20100107        NaN       NaN           NaN           NaN      NaN   \n3        20100108        NaN       NaN           NaN           NaN      NaN   \n4        20100111        NaN       NaN           NaN           NaN      NaN   \n...           ...        ...       ...           ...           ...      ...   \n22359    20211231  000906.SH    2021.0  4.951278e+09  47259.658498   0.8905   \n22360    20211231  000985.SH    2021.0  6.389440e+09  53655.694957   0.7111   \n22361    20211231  399005.SZ    2021.0  2.653902e+08   2509.326960   0.7512   \n22362    20211231  399006.SZ    2021.0  1.119425e+08   1353.545015   1.0905   \n22363    20211231  399310.SZ    2021.0  1.417442e+09  14707.354200   1.3410   \n\n             CON_NA  CON_PB  CON_PS   CON_PE  ...  Posts  Readings  Comments  \\\n0               NaN     NaN     NaN      NaN  ...    NaN      <NA>      <NA>   \n1               NaN     NaN     NaN      NaN  ...    NaN      <NA>      <NA>   \n2               NaN     NaN     NaN      NaN  ...    NaN      <NA>      <NA>   \n3               NaN     NaN     NaN      NaN  ...    NaN      <NA>      <NA>   \n4               NaN     NaN     NaN      NaN  ...    NaN      <NA>      <NA>   \n...             ...     ...     ...      ...  ...    ...       ...       ...   \n22359  4.271503e+09  1.5753  1.3590  14.2378  ...    NaN      <NA>      <NA>   \n22360  5.237010e+09  1.7997  1.4751  17.5661  ...    NaN      <NA>      <NA>   \n22361  2.053548e+08  4.1858  3.2389  34.2554  ...    NaN      <NA>      <NA>   \n22362  9.921329e+07  7.8148  6.9262  57.2816  ...    NaN      <NA>      <NA>   \n22363  1.058007e+09  2.1236  1.5851  15.2769  ...    NaN      <NA>      <NA>   \n\n       ThumbUps  PosPosts  NeuPosts  NegPosts  PosRatio  NeuRatio  NegRatio  \n0          <NA>       NaN       NaN       NaN       NaN       NaN       NaN  \n1          <NA>       NaN       NaN       NaN       NaN       NaN       NaN  \n2          <NA>       NaN       NaN       NaN       NaN       NaN       NaN  \n3          <NA>       NaN       NaN       NaN       NaN       NaN       NaN  \n4          <NA>       NaN       NaN       NaN       NaN       NaN       NaN  \n...         ...       ...       ...       ...       ...       ...       ...  \n22359      <NA>       NaN       NaN       NaN       NaN       NaN       NaN  \n22360      <NA>       NaN       NaN       NaN       NaN       NaN       NaN  \n22361      <NA>       NaN       NaN       NaN       NaN       NaN       NaN  \n22362      <NA>       NaN       NaN       NaN       NaN       NaN       NaN  \n22363      <NA>       NaN       NaN       NaN       NaN       NaN       NaN  \n\n[22364 rows x 82 columns]",
      "text/html": "<div>\n<style scoped>\n    .dataframe tbody tr th:only-of-type {\n        vertical-align: middle;\n    }\n\n    .dataframe tbody tr th {\n        vertical-align: top;\n    }\n\n    .dataframe thead th {\n        text-align: right;\n    }\n</style>\n<table border=\"1\" class=\"dataframe\">\n  <thead>\n    <tr style=\"text-align: right;\">\n      <th></th>\n      <th>trade_date</th>\n      <th>ts_code</th>\n      <th>CON_YEAR</th>\n      <th>CON_OR</th>\n      <th>CON_NP</th>\n      <th>CON_EPS</th>\n      <th>CON_NA</th>\n      <th>CON_PB</th>\n      <th>CON_PS</th>\n      <th>CON_PE</th>\n      <th>...</th>\n      <th>Posts</th>\n      <th>Readings</th>\n      <th>Comments</th>\n      <th>ThumbUps</th>\n      <th>PosPosts</th>\n      <th>NeuPosts</th>\n      <th>NegPosts</th>\n      <th>PosRatio</th>\n      <th>NeuRatio</th>\n      <th>NegRatio</th>\n    </tr>\n  </thead>\n  <tbody>\n    <tr>\n      <th>0</th>\n      <td>20100105</td>\n      <td>NaN</td>\n      <td>NaN</td>\n      <td>NaN</td>\n      <td>NaN</td>\n      <td>NaN</td>\n      <td>NaN</td>\n      <td>NaN</td>\n      <td>NaN</td>\n      <td>NaN</td>\n      <td>...</td>\n      <td>NaN</td>\n      <td>&lt;NA&gt;</td>\n      <td>&lt;NA&gt;</td>\n      <td>&lt;NA&gt;</td>\n      <td>NaN</td>\n      <td>NaN</td>\n      <td>NaN</td>\n      <td>NaN</td>\n      <td>NaN</td>\n      <td>NaN</td>\n    </tr>\n    <tr>\n      <th>1</th>\n      <td>20100106</td>\n      <td>NaN</td>\n      <td>NaN</td>\n      <td>NaN</td>\n      <td>NaN</td>\n      <td>NaN</td>\n      <td>NaN</td>\n      <td>NaN</td>\n      <td>NaN</td>\n      <td>NaN</td>\n      <td>...</td>\n      <td>NaN</td>\n      <td>&lt;NA&gt;</td>\n      <td>&lt;NA&gt;</td>\n      <td>&lt;NA&gt;</td>\n      <td>NaN</td>\n      <td>NaN</td>\n      <td>NaN</td>\n      <td>NaN</td>\n      <td>NaN</td>\n      <td>NaN</td>\n    </tr>\n    <tr>\n      <th>2</th>\n      <td>20100107</td>\n      <td>NaN</td>\n      <td>NaN</td>\n      <td>NaN</td>\n      <td>NaN</td>\n      <td>NaN</td>\n      <td>NaN</td>\n      <td>NaN</td>\n      <td>NaN</td>\n      <td>NaN</td>\n      <td>...</td>\n      <td>NaN</td>\n      <td>&lt;NA&gt;</td>\n      <td>&lt;NA&gt;</td>\n      <td>&lt;NA&gt;</td>\n      <td>NaN</td>\n      <td>NaN</td>\n      <td>NaN</td>\n      <td>NaN</td>\n      <td>NaN</td>\n      <td>NaN</td>\n    </tr>\n    <tr>\n      <th>3</th>\n      <td>20100108</td>\n      <td>NaN</td>\n      <td>NaN</td>\n      <td>NaN</td>\n      <td>NaN</td>\n      <td>NaN</td>\n      <td>NaN</td>\n      <td>NaN</td>\n      <td>NaN</td>\n      <td>NaN</td>\n      <td>...</td>\n      <td>NaN</td>\n      <td>&lt;NA&gt;</td>\n      <td>&lt;NA&gt;</td>\n      <td>&lt;NA&gt;</td>\n      <td>NaN</td>\n      <td>NaN</td>\n      <td>NaN</td>\n      <td>NaN</td>\n      <td>NaN</td>\n      <td>NaN</td>\n    </tr>\n    <tr>\n      <th>4</th>\n      <td>20100111</td>\n      <td>NaN</td>\n      <td>NaN</td>\n      <td>NaN</td>\n      <td>NaN</td>\n      <td>NaN</td>\n      <td>NaN</td>\n      <td>NaN</td>\n      <td>NaN</td>\n      <td>NaN</td>\n      <td>...</td>\n      <td>NaN</td>\n      <td>&lt;NA&gt;</td>\n      <td>&lt;NA&gt;</td>\n      <td>&lt;NA&gt;</td>\n      <td>NaN</td>\n      <td>NaN</td>\n      <td>NaN</td>\n      <td>NaN</td>\n      <td>NaN</td>\n      <td>NaN</td>\n    </tr>\n    <tr>\n      <th>...</th>\n      <td>...</td>\n      <td>...</td>\n      <td>...</td>\n      <td>...</td>\n      <td>...</td>\n      <td>...</td>\n      <td>...</td>\n      <td>...</td>\n      <td>...</td>\n      <td>...</td>\n      <td>...</td>\n      <td>...</td>\n      <td>...</td>\n      <td>...</td>\n      <td>...</td>\n      <td>...</td>\n      <td>...</td>\n      <td>...</td>\n      <td>...</td>\n      <td>...</td>\n      <td>...</td>\n    </tr>\n    <tr>\n      <th>22359</th>\n      <td>20211231</td>\n      <td>000906.SH</td>\n      <td>2021.0</td>\n      <td>4.951278e+09</td>\n      <td>47259.658498</td>\n      <td>0.8905</td>\n      <td>4.271503e+09</td>\n      <td>1.5753</td>\n      <td>1.3590</td>\n      <td>14.2378</td>\n      <td>...</td>\n      <td>NaN</td>\n      <td>&lt;NA&gt;</td>\n      <td>&lt;NA&gt;</td>\n      <td>&lt;NA&gt;</td>\n      <td>NaN</td>\n      <td>NaN</td>\n      <td>NaN</td>\n      <td>NaN</td>\n      <td>NaN</td>\n      <td>NaN</td>\n    </tr>\n    <tr>\n      <th>22360</th>\n      <td>20211231</td>\n      <td>000985.SH</td>\n      <td>2021.0</td>\n      <td>6.389440e+09</td>\n      <td>53655.694957</td>\n      <td>0.7111</td>\n      <td>5.237010e+09</td>\n      <td>1.7997</td>\n      <td>1.4751</td>\n      <td>17.5661</td>\n      <td>...</td>\n      <td>NaN</td>\n      <td>&lt;NA&gt;</td>\n      <td>&lt;NA&gt;</td>\n      <td>&lt;NA&gt;</td>\n      <td>NaN</td>\n      <td>NaN</td>\n      <td>NaN</td>\n      <td>NaN</td>\n      <td>NaN</td>\n      <td>NaN</td>\n    </tr>\n    <tr>\n      <th>22361</th>\n      <td>20211231</td>\n      <td>399005.SZ</td>\n      <td>2021.0</td>\n      <td>2.653902e+08</td>\n      <td>2509.326960</td>\n      <td>0.7512</td>\n      <td>2.053548e+08</td>\n      <td>4.1858</td>\n      <td>3.2389</td>\n      <td>34.2554</td>\n      <td>...</td>\n      <td>NaN</td>\n      <td>&lt;NA&gt;</td>\n      <td>&lt;NA&gt;</td>\n      <td>&lt;NA&gt;</td>\n      <td>NaN</td>\n      <td>NaN</td>\n      <td>NaN</td>\n      <td>NaN</td>\n      <td>NaN</td>\n      <td>NaN</td>\n    </tr>\n    <tr>\n      <th>22362</th>\n      <td>20211231</td>\n      <td>399006.SZ</td>\n      <td>2021.0</td>\n      <td>1.119425e+08</td>\n      <td>1353.545015</td>\n      <td>1.0905</td>\n      <td>9.921329e+07</td>\n      <td>7.8148</td>\n      <td>6.9262</td>\n      <td>57.2816</td>\n      <td>...</td>\n      <td>NaN</td>\n      <td>&lt;NA&gt;</td>\n      <td>&lt;NA&gt;</td>\n      <td>&lt;NA&gt;</td>\n      <td>NaN</td>\n      <td>NaN</td>\n      <td>NaN</td>\n      <td>NaN</td>\n      <td>NaN</td>\n      <td>NaN</td>\n    </tr>\n    <tr>\n      <th>22363</th>\n      <td>20211231</td>\n      <td>399310.SZ</td>\n      <td>2021.0</td>\n      <td>1.417442e+09</td>\n      <td>14707.354200</td>\n      <td>1.3410</td>\n      <td>1.058007e+09</td>\n      <td>2.1236</td>\n      <td>1.5851</td>\n      <td>15.2769</td>\n      <td>...</td>\n      <td>NaN</td>\n      <td>&lt;NA&gt;</td>\n      <td>&lt;NA&gt;</td>\n      <td>&lt;NA&gt;</td>\n      <td>NaN</td>\n      <td>NaN</td>\n      <td>NaN</td>\n      <td>NaN</td>\n      <td>NaN</td>\n      <td>NaN</td>\n    </tr>\n  </tbody>\n</table>\n<p>22364 rows × 82 columns</p>\n</div>"
     },
     "execution_count": 35,
     "metadata": {},
     "output_type": "execute_result"
    }
   ],
   "source": [
    "df_merge = (pd.merge(df_analyst, df_finmarket.drop(columns=['trade_year']), on='trade_date', how='right'))\n",
    "df_merge = pd.merge(df_merge, df_forum_tdate, on='trade_date', how='left')\n",
    "df_merge"
   ],
   "metadata": {
    "collapsed": false,
    "ExecuteTime": {
     "start_time": "2023-04-13T07:52:51.730776Z",
     "end_time": "2023-04-13T07:52:51.776955Z"
    }
   }
  },
  {
   "cell_type": "code",
   "execution_count": 36,
   "outputs": [
    {
     "data": {
      "text/plain": "      trade_date    ts_code  CON_YEAR        CON_OR        CON_NP  CON_EPS  \\\n969     20140102  000300.SH    2014.0  1.553438e+09  22802.196329   0.7898   \n980     20140103  000300.SH    2014.0  1.552978e+09  22802.725902   0.7899   \n991     20140106  000300.SH    2014.0  1.552134e+09  22787.968501   0.7892   \n1002    20140107  000300.SH    2014.0  1.547392e+09  22760.528642   0.7883   \n1013    20140108  000300.SH    2014.0  1.548595e+09  22757.923887   0.7880   \n...          ...        ...       ...           ...           ...      ...   \n22312   20211227  000300.SH    2021.0  3.718829e+09  39708.903508   1.0018   \n22323   20211228  000300.SH    2021.0  3.719126e+09  39702.186689   1.0016   \n22334   20211229  000300.SH    2021.0  3.718571e+09  39654.119352   1.0004   \n22345   20211230  000300.SH    2021.0  3.719497e+09  39654.372789   1.0004   \n22356   20211231  000300.SH    2021.0  3.719127e+09  39647.261856   1.0002   \n\n             CON_NA  CON_PB  CON_PS   CON_PE  ...  Posts  Readings  Comments  \\\n969    1.569081e+09  1.0997  0.7828   7.5674  ...    0.0       0.0       0.0   \n980    1.569368e+09  1.0867  0.7740   7.4791  ...    2.0  107379.0     342.0   \n991    1.569193e+09  1.0706  0.7627   7.3722  ...    2.0   22652.0      47.0   \n1002   1.568942e+09  1.0685  0.7626   7.3652  ...    0.0       0.0       0.0   \n1013   1.570331e+09  1.0664  0.7617   7.3584  ...    0.0       0.0       0.0   \n...             ...     ...     ...      ...  ...    ...       ...       ...   \n22312  3.516292e+09  1.5122  1.4298  13.3905  ...    NaN      <NA>      <NA>   \n22323  3.516225e+09  1.5209  1.4379  13.4697  ...    NaN      <NA>      <NA>   \n22334  3.515745e+09  1.5015  1.4196  13.3121  ...    NaN      <NA>      <NA>   \n22345  3.515747e+09  1.5101  1.4274  13.3886  ...    NaN      <NA>      <NA>   \n22356  3.515676e+09  1.5153  1.4325  13.4372  ...    NaN      <NA>      <NA>   \n\n       ThumbUps  PosPosts  NeuPosts  NegPosts  PosRatio  NeuRatio  NegRatio  \n969         0.0       0.0       0.0       0.0       0.0       0.0       0.0  \n980         2.0       1.0       0.0       1.0       0.5       0.0       0.5  \n991         0.0       1.0       0.0       1.0       0.5       0.0       0.5  \n1002        0.0       0.0       0.0       0.0       0.0       0.0       0.0  \n1013        0.0       0.0       0.0       0.0       0.0       0.0       0.0  \n...         ...       ...       ...       ...       ...       ...       ...  \n22312      <NA>       NaN       NaN       NaN       NaN       NaN       NaN  \n22323      <NA>       NaN       NaN       NaN       NaN       NaN       NaN  \n22334      <NA>       NaN       NaN       NaN       NaN       NaN       NaN  \n22345      <NA>       NaN       NaN       NaN       NaN       NaN       NaN  \n22356      <NA>       NaN       NaN       NaN       NaN       NaN       NaN  \n\n[1949 rows x 82 columns]",
      "text/html": "<div>\n<style scoped>\n    .dataframe tbody tr th:only-of-type {\n        vertical-align: middle;\n    }\n\n    .dataframe tbody tr th {\n        vertical-align: top;\n    }\n\n    .dataframe thead th {\n        text-align: right;\n    }\n</style>\n<table border=\"1\" class=\"dataframe\">\n  <thead>\n    <tr style=\"text-align: right;\">\n      <th></th>\n      <th>trade_date</th>\n      <th>ts_code</th>\n      <th>CON_YEAR</th>\n      <th>CON_OR</th>\n      <th>CON_NP</th>\n      <th>CON_EPS</th>\n      <th>CON_NA</th>\n      <th>CON_PB</th>\n      <th>CON_PS</th>\n      <th>CON_PE</th>\n      <th>...</th>\n      <th>Posts</th>\n      <th>Readings</th>\n      <th>Comments</th>\n      <th>ThumbUps</th>\n      <th>PosPosts</th>\n      <th>NeuPosts</th>\n      <th>NegPosts</th>\n      <th>PosRatio</th>\n      <th>NeuRatio</th>\n      <th>NegRatio</th>\n    </tr>\n  </thead>\n  <tbody>\n    <tr>\n      <th>969</th>\n      <td>20140102</td>\n      <td>000300.SH</td>\n      <td>2014.0</td>\n      <td>1.553438e+09</td>\n      <td>22802.196329</td>\n      <td>0.7898</td>\n      <td>1.569081e+09</td>\n      <td>1.0997</td>\n      <td>0.7828</td>\n      <td>7.5674</td>\n      <td>...</td>\n      <td>0.0</td>\n      <td>0.0</td>\n      <td>0.0</td>\n      <td>0.0</td>\n      <td>0.0</td>\n      <td>0.0</td>\n      <td>0.0</td>\n      <td>0.0</td>\n      <td>0.0</td>\n      <td>0.0</td>\n    </tr>\n    <tr>\n      <th>980</th>\n      <td>20140103</td>\n      <td>000300.SH</td>\n      <td>2014.0</td>\n      <td>1.552978e+09</td>\n      <td>22802.725902</td>\n      <td>0.7899</td>\n      <td>1.569368e+09</td>\n      <td>1.0867</td>\n      <td>0.7740</td>\n      <td>7.4791</td>\n      <td>...</td>\n      <td>2.0</td>\n      <td>107379.0</td>\n      <td>342.0</td>\n      <td>2.0</td>\n      <td>1.0</td>\n      <td>0.0</td>\n      <td>1.0</td>\n      <td>0.5</td>\n      <td>0.0</td>\n      <td>0.5</td>\n    </tr>\n    <tr>\n      <th>991</th>\n      <td>20140106</td>\n      <td>000300.SH</td>\n      <td>2014.0</td>\n      <td>1.552134e+09</td>\n      <td>22787.968501</td>\n      <td>0.7892</td>\n      <td>1.569193e+09</td>\n      <td>1.0706</td>\n      <td>0.7627</td>\n      <td>7.3722</td>\n      <td>...</td>\n      <td>2.0</td>\n      <td>22652.0</td>\n      <td>47.0</td>\n      <td>0.0</td>\n      <td>1.0</td>\n      <td>0.0</td>\n      <td>1.0</td>\n      <td>0.5</td>\n      <td>0.0</td>\n      <td>0.5</td>\n    </tr>\n    <tr>\n      <th>1002</th>\n      <td>20140107</td>\n      <td>000300.SH</td>\n      <td>2014.0</td>\n      <td>1.547392e+09</td>\n      <td>22760.528642</td>\n      <td>0.7883</td>\n      <td>1.568942e+09</td>\n      <td>1.0685</td>\n      <td>0.7626</td>\n      <td>7.3652</td>\n      <td>...</td>\n      <td>0.0</td>\n      <td>0.0</td>\n      <td>0.0</td>\n      <td>0.0</td>\n      <td>0.0</td>\n      <td>0.0</td>\n      <td>0.0</td>\n      <td>0.0</td>\n      <td>0.0</td>\n      <td>0.0</td>\n    </tr>\n    <tr>\n      <th>1013</th>\n      <td>20140108</td>\n      <td>000300.SH</td>\n      <td>2014.0</td>\n      <td>1.548595e+09</td>\n      <td>22757.923887</td>\n      <td>0.7880</td>\n      <td>1.570331e+09</td>\n      <td>1.0664</td>\n      <td>0.7617</td>\n      <td>7.3584</td>\n      <td>...</td>\n      <td>0.0</td>\n      <td>0.0</td>\n      <td>0.0</td>\n      <td>0.0</td>\n      <td>0.0</td>\n      <td>0.0</td>\n      <td>0.0</td>\n      <td>0.0</td>\n      <td>0.0</td>\n      <td>0.0</td>\n    </tr>\n    <tr>\n      <th>...</th>\n      <td>...</td>\n      <td>...</td>\n      <td>...</td>\n      <td>...</td>\n      <td>...</td>\n      <td>...</td>\n      <td>...</td>\n      <td>...</td>\n      <td>...</td>\n      <td>...</td>\n      <td>...</td>\n      <td>...</td>\n      <td>...</td>\n      <td>...</td>\n      <td>...</td>\n      <td>...</td>\n      <td>...</td>\n      <td>...</td>\n      <td>...</td>\n      <td>...</td>\n      <td>...</td>\n    </tr>\n    <tr>\n      <th>22312</th>\n      <td>20211227</td>\n      <td>000300.SH</td>\n      <td>2021.0</td>\n      <td>3.718829e+09</td>\n      <td>39708.903508</td>\n      <td>1.0018</td>\n      <td>3.516292e+09</td>\n      <td>1.5122</td>\n      <td>1.4298</td>\n      <td>13.3905</td>\n      <td>...</td>\n      <td>NaN</td>\n      <td>&lt;NA&gt;</td>\n      <td>&lt;NA&gt;</td>\n      <td>&lt;NA&gt;</td>\n      <td>NaN</td>\n      <td>NaN</td>\n      <td>NaN</td>\n      <td>NaN</td>\n      <td>NaN</td>\n      <td>NaN</td>\n    </tr>\n    <tr>\n      <th>22323</th>\n      <td>20211228</td>\n      <td>000300.SH</td>\n      <td>2021.0</td>\n      <td>3.719126e+09</td>\n      <td>39702.186689</td>\n      <td>1.0016</td>\n      <td>3.516225e+09</td>\n      <td>1.5209</td>\n      <td>1.4379</td>\n      <td>13.4697</td>\n      <td>...</td>\n      <td>NaN</td>\n      <td>&lt;NA&gt;</td>\n      <td>&lt;NA&gt;</td>\n      <td>&lt;NA&gt;</td>\n      <td>NaN</td>\n      <td>NaN</td>\n      <td>NaN</td>\n      <td>NaN</td>\n      <td>NaN</td>\n      <td>NaN</td>\n    </tr>\n    <tr>\n      <th>22334</th>\n      <td>20211229</td>\n      <td>000300.SH</td>\n      <td>2021.0</td>\n      <td>3.718571e+09</td>\n      <td>39654.119352</td>\n      <td>1.0004</td>\n      <td>3.515745e+09</td>\n      <td>1.5015</td>\n      <td>1.4196</td>\n      <td>13.3121</td>\n      <td>...</td>\n      <td>NaN</td>\n      <td>&lt;NA&gt;</td>\n      <td>&lt;NA&gt;</td>\n      <td>&lt;NA&gt;</td>\n      <td>NaN</td>\n      <td>NaN</td>\n      <td>NaN</td>\n      <td>NaN</td>\n      <td>NaN</td>\n      <td>NaN</td>\n    </tr>\n    <tr>\n      <th>22345</th>\n      <td>20211230</td>\n      <td>000300.SH</td>\n      <td>2021.0</td>\n      <td>3.719497e+09</td>\n      <td>39654.372789</td>\n      <td>1.0004</td>\n      <td>3.515747e+09</td>\n      <td>1.5101</td>\n      <td>1.4274</td>\n      <td>13.3886</td>\n      <td>...</td>\n      <td>NaN</td>\n      <td>&lt;NA&gt;</td>\n      <td>&lt;NA&gt;</td>\n      <td>&lt;NA&gt;</td>\n      <td>NaN</td>\n      <td>NaN</td>\n      <td>NaN</td>\n      <td>NaN</td>\n      <td>NaN</td>\n      <td>NaN</td>\n    </tr>\n    <tr>\n      <th>22356</th>\n      <td>20211231</td>\n      <td>000300.SH</td>\n      <td>2021.0</td>\n      <td>3.719127e+09</td>\n      <td>39647.261856</td>\n      <td>1.0002</td>\n      <td>3.515676e+09</td>\n      <td>1.5153</td>\n      <td>1.4325</td>\n      <td>13.4372</td>\n      <td>...</td>\n      <td>NaN</td>\n      <td>&lt;NA&gt;</td>\n      <td>&lt;NA&gt;</td>\n      <td>&lt;NA&gt;</td>\n      <td>NaN</td>\n      <td>NaN</td>\n      <td>NaN</td>\n      <td>NaN</td>\n      <td>NaN</td>\n      <td>NaN</td>\n    </tr>\n  </tbody>\n</table>\n<p>1949 rows × 82 columns</p>\n</div>"
     },
     "execution_count": 36,
     "metadata": {},
     "output_type": "execute_result"
    }
   ],
   "source": [
    "#000985.SH 399310.SZ 000300.SH\n",
    "df_merge = df_merge.query(\"ts_code=='000300.SH'\").astype(dtype={'trade_date': 'str'})\n",
    "df_merge.to_csv('/home/ubuntu/notebooks/DataSets/investor_sentiment/FINAL_DATA_2014_2021.csv')\n",
    "df_merge"
   ],
   "metadata": {
    "collapsed": false,
    "ExecuteTime": {
     "start_time": "2023-04-13T07:52:51.775808Z",
     "end_time": "2023-04-13T07:52:52.510594Z"
    }
   }
  },
  {
   "cell_type": "code",
   "execution_count": 37,
   "outputs": [
    {
     "data": {
      "text/plain": "trade_date     object\nts_code        object\nCON_YEAR      float64\nCON_OR        float64\nCON_NP        float64\n               ...   \nNeuPosts      float64\nNegPosts      float64\nPosRatio      float64\nNeuRatio      float64\nNegRatio      float64\nLength: 82, dtype: object"
     },
     "execution_count": 37,
     "metadata": {},
     "output_type": "execute_result"
    }
   ],
   "source": [
    "df_merge.dtypes"
   ],
   "metadata": {
    "collapsed": false,
    "ExecuteTime": {
     "start_time": "2023-04-13T07:52:52.324165Z",
     "end_time": "2023-04-13T07:52:52.511839Z"
    }
   }
  },
  {
   "cell_type": "code",
   "execution_count": 38,
   "outputs": [],
   "source": [
    "# @formatter:off"
   ],
   "metadata": {
    "collapsed": false,
    "ExecuteTime": {
     "start_time": "2023-04-13T07:52:52.324627Z",
     "end_time": "2023-04-13T07:52:52.511895Z"
    }
   }
  },
  {
   "cell_type": "markdown",
   "source": [
    "# 指标对比分析"
   ],
   "metadata": {
    "collapsed": false
   }
  },
  {
   "cell_type": "markdown",
   "source": [
    "## 相关矩阵"
   ],
   "metadata": {
    "collapsed": false
   }
  },
  {
   "cell_type": "code",
   "execution_count": null,
   "outputs": [],
   "source": [],
   "metadata": {
    "collapsed": false
   }
  },
  {
   "cell_type": "markdown",
   "source": [
    "## 样本外预测"
   ],
   "metadata": {
    "collapsed": false
   }
  },
  {
   "cell_type": "code",
   "execution_count": 43,
   "outputs": [
    {
     "name": "stdout",
     "output_type": "stream",
     "text": [
      "\n",
      ". /*{*/\n",
      ". //清除估计结果\n",
      ". est clear\n",
      "\n",
      ". \n",
      ". //生成时间变量 (已排序)\n",
      ". ge date=_n\n",
      "\n",
      ". tsset date\n",
      "\n",
      "Time variable: date, 1 to 1949\n",
      "        Delta: 1 unit\n",
      "\n",
      ". \n",
      ". // 划分训练集和测试集\n",
      ". ge byte in_train = (date < 1944*0.8)\n",
      "\n",
      ". ge byte in_test = (date >= 1944*0.8)\n",
      "\n",
      ". \n",
      ". //计算测试集中因变量的均值\n",
      ". egen mean_close_chg = mean(close_chg) if in_test\n",
      "(1,555 missing values generated)\n",
      "\n",
      ". \n",
      ". //计算实际值与均值之间的平方差异的总和\n",
      ". egen sum_sq_diff_mean = total((close_chg - mean_close_chg)^2) if in_test\n",
      "(1,555 missing values generated)\n",
      "\n",
      ". \n",
      ". //计算基准模型预测误差\n",
      ". ge error_benchmark = close_chg - mean_close_chg if in_test\n",
      "(1,555 missing values generated)\n",
      "\n",
      ". \n",
      ". //定义待对比的指标\n",
      ". local independent_vars \"img_neg tex_neg SENT_INDEX_EX SENT_INDEX_R_EX opt_pro\n",
      "> fit IndexA IndexB\"\n",
      "\n",
      ". \n",
      ". //循环\n",
      ". foreach var of local independent_vars{\n",
      "  2. \n",
      ".         //1.样本外OOS R2\n",
      ". \n",
      ".         //使用训练集进行线性回归建模 滞后1期\n",
      ".         eststo `var': reg close_chg l.`var' if in_train\n",
      "  3.         scalar coef = e(b)[1, 1]\n",
      "  4.         estadd scalar coef\n",
      "  5.         scalar tstat = e(b)[1, 1]/(sqrt(e(V)[1, 1]))\n",
      "  6.         estadd scalar tstat\n",
      "  7. \n",
      ".         //进行样本外预测,线性预测值\n",
      ".         predict pred_`var' if in_test\n",
      "  8. \n",
      ".         //计算MSPE\n",
      ".         egen mspe_`var' = mean((close_chg - pred_`var')^2) if in_test /*{*/\n",
      "  9.         qui sum mspe_`var' if in_test\n",
      " 10.         scalar mspe = r(mean)\n",
      " 11.         estadd scalar mspe\n",
      " 12. \n",
      ".         //计算实际值与预测值之间的平方差异的总和\n",
      ".         egen sum_sq_diff_pred_`var' = total((close_chg - pred_`var')^2) if in\n",
      "> _test\n",
      " 13. \n",
      ".         //计算样本外 R-squared (OOS R2)\n",
      ".         ge oos_r2_`var' = 1 - (sum_sq_diff_pred_`var' / sum_sq_diff_mean) if \n",
      "> in_test\n",
      " 14.         qui sum oos_r2_`var' if in_test\n",
      " 15.         scalar oos_r2 = r(mean)\n",
      " 16.         estadd scalar oos_r2\n",
      " 17. \n",
      ".         //2.CW测试\n",
      ". \n",
      ".         // 计算预测误差\n",
      ".         ge error_`var' = close_chg - pred_`var' if in_test\n",
      " 18. \n",
      ".         //计算误差差值(Error differences)\n",
      ".         ge error_diff_`var' = error_`var'^2 - error_benchmark^2 if in_test\n",
      " 19. \n",
      ".         //使用误差差值执行线性回归\n",
      ".         reg error_diff_`var' l.error_diff_`var' if in_test\n",
      " 20. \n",
      ". }\n",
      "\n",
      "      Source |       SS           df       MS      Number of obs   =     1,554\n",
      "-------------+----------------------------------   F(1, 1552)      =      3.73\n",
      "       Model |  8.41855553         1  8.41855553   Prob > F        =    0.0538\n",
      "    Residual |  3507.40463     1,552  2.25992567   R-squared       =    0.0024\n",
      "-------------+----------------------------------   Adj R-squared   =    0.0018\n",
      "       Total |  3515.82319     1,553   2.2638913   Root MSE        =    1.5033\n",
      "\n",
      "------------------------------------------------------------------------------\n",
      "   close_chg | Coefficient  Std. err.      t    P>|t|     [95% conf. interval]\n",
      "-------------+----------------------------------------------------------------\n",
      "     img_neg |\n",
      "         L1. |  -.4749025   .2460553    -1.93   0.054    -.9575384    .0077334\n",
      "             |\n",
      "       _cons |   .1332726   .0601397     2.22   0.027     .0153089    .2512363\n",
      "------------------------------------------------------------------------------\n",
      "\n",
      "added scalar:\n",
      "               e(coef) =  -.47490251\n",
      "\n",
      "added scalar:\n",
      "              e(tstat) =  -1.930064\n",
      "(option xb assumed; fitted values)\n",
      "(1,555 missing values generated)\n",
      "(1,555 missing values generated)\n",
      "\n",
      "added scalar:\n",
      "               e(mspe) =  1.4701183\n",
      "(1,555 missing values generated)\n",
      "(1,555 missing values generated)\n",
      "\n",
      "added scalar:\n",
      "             e(oos_r2) =  .00466703\n",
      "(1,555 missing values generated)\n",
      "(1,555 missing values generated)\n",
      "\n",
      "      Source |       SS           df       MS      Number of obs   =       393\n",
      "-------------+----------------------------------   F(1, 391)       =      0.79\n",
      "       Model |  .021485708         1  .021485708   Prob > F        =    0.3757\n",
      "    Residual |  10.6824712       391  .027320898   R-squared       =    0.0020\n",
      "-------------+----------------------------------   Adj R-squared   =   -0.0005\n",
      "       Total |   10.703957       392  .027306013   Root MSE        =    .16529\n",
      "\n",
      "------------------------------------------------------------------------------\n",
      "error_diff~g | Coefficient  Std. err.      t    P>|t|     [95% conf. interval]\n",
      "-------------+----------------------------------------------------------------\n",
      "error_diff~g |\n",
      "         L1. |   .0448227   .0505441     0.89   0.376    -.0545496     .144195\n",
      "             |\n",
      "       _cons |  -.0066118   .0083456    -0.79   0.429    -.0230197    .0097961\n",
      "------------------------------------------------------------------------------\n",
      "\n",
      "      Source |       SS           df       MS      Number of obs   =     1,554\n",
      "-------------+----------------------------------   F(1, 1552)      =      0.27\n",
      "       Model |  .606522441         1  .606522441   Prob > F        =    0.6049\n",
      "    Residual |  3515.21667     1,552  2.26495919   R-squared       =    0.0002\n",
      "-------------+----------------------------------   Adj R-squared   =   -0.0005\n",
      "       Total |  3515.82319     1,553   2.2638913   Root MSE        =     1.505\n",
      "\n",
      "------------------------------------------------------------------------------\n",
      "   close_chg | Coefficient  Std. err.      t    P>|t|     [95% conf. interval]\n",
      "-------------+----------------------------------------------------------------\n",
      "     tex_neg |\n",
      "         L1. |   .1194501   .2308306     0.52   0.605    -.3333227     .572223\n",
      "             |\n",
      "       _cons |   .0206272   .0584329     0.35   0.724    -.0939886    .1352431\n",
      "------------------------------------------------------------------------------\n",
      "\n",
      "added scalar:\n",
      "               e(coef) =  .11945015\n",
      "\n",
      "added scalar:\n",
      "              e(tstat) =  .51747961\n",
      "(option xb assumed; fitted values)\n",
      "(1,555 missing values generated)\n",
      "(1,555 missing values generated)\n",
      "\n",
      "added scalar:\n",
      "               e(mspe) =  1.4787413\n",
      "(1,555 missing values generated)\n",
      "(1,555 missing values generated)\n",
      "\n",
      "added scalar:\n",
      "             e(oos_r2) =  -.00117111\n",
      "(1,555 missing values generated)\n",
      "(1,555 missing values generated)\n",
      "\n",
      "      Source |       SS           df       MS      Number of obs   =       393\n",
      "-------------+----------------------------------   F(1, 391)       =      1.44\n",
      "       Model |  .007419983         1  .007419983   Prob > F        =    0.2314\n",
      "    Residual |  2.01954042       391  .005165065   R-squared       =    0.0037\n",
      "-------------+----------------------------------   Adj R-squared   =    0.0011\n",
      "       Total |   2.0269604       392  .005170817   Root MSE        =    .07187\n",
      "\n",
      "------------------------------------------------------------------------------\n",
      "er~f_tex_neg | Coefficient  Std. err.      t    P>|t|     [95% conf. interval]\n",
      "-------------+----------------------------------------------------------------\n",
      "er~f_tex_neg |\n",
      "         L1. |   .0605044   .0504805     1.20   0.231    -.0387427    .1597515\n",
      "             |\n",
      "       _cons |   .0016133   .0036263     0.44   0.657    -.0055162    .0087428\n",
      "------------------------------------------------------------------------------\n",
      "\n",
      "      Source |       SS           df       MS      Number of obs   =     1,554\n",
      "-------------+----------------------------------   F(1, 1552)      =      0.00\n",
      "       Model |  .010034285         1  .010034285   Prob > F        =    0.9469\n",
      "    Residual |  3515.81315     1,552  2.26534353   R-squared       =    0.0000\n",
      "-------------+----------------------------------   Adj R-squared   =   -0.0006\n",
      "       Total |  3515.82319     1,553   2.2638913   Root MSE        =    1.5051\n",
      "\n",
      "------------------------------------------------------------------------------\n",
      "   close_chg | Coefficient  Std. err.      t    P>|t|     [95% conf. interval]\n",
      "-------------+----------------------------------------------------------------\n",
      "SENT_IN~X_EX |\n",
      "         L1. |   .0050111    .075294     0.07   0.947    -.1426775    .1526998\n",
      "             |\n",
      "       _cons |   .0440811   .0391036     1.13   0.260    -.0326205    .1207826\n",
      "------------------------------------------------------------------------------\n",
      "\n",
      "added scalar:\n",
      "               e(coef) =  .00501114\n",
      "\n",
      "added scalar:\n",
      "              e(tstat) =  .06655431\n",
      "(option xb assumed; fitted values)\n",
      "(1,555 missing values generated)\n",
      "(1,555 missing values generated)\n",
      "\n",
      "added scalar:\n",
      "               e(mspe) =  1.4778165\n",
      "(1,555 missing values generated)\n",
      "(1,555 missing values generated)\n",
      "\n",
      "added scalar:\n",
      "             e(oos_r2) =  -.00054497\n",
      "(1,555 missing values generated)\n",
      "(1,555 missing values generated)\n",
      "\n",
      "      Source |       SS           df       MS      Number of obs   =       393\n",
      "-------------+----------------------------------   F(1, 391)       =      1.36\n",
      "       Model |  .003840106         1  .003840106   Prob > F        =    0.2443\n",
      "    Residual |  1.10408367       391  .002823743   R-squared       =    0.0035\n",
      "-------------+----------------------------------   Adj R-squared   =    0.0009\n",
      "       Total |  1.10792378       392  .002826336   Root MSE        =    .05314\n",
      "\n",
      "------------------------------------------------------------------------------\n",
      "error_diff~X | Coefficient  Std. err.      t    P>|t|     [95% conf. interval]\n",
      "-------------+----------------------------------------------------------------\n",
      "error_diff~X |\n",
      "         L1. |    .058878   .0504887     1.17   0.244    -.0403853    .1581413\n",
      "             |\n",
      "       _cons |   .0007519   .0026808     0.28   0.779    -.0045186    .0060225\n",
      "------------------------------------------------------------------------------\n",
      "\n",
      "      Source |       SS           df       MS      Number of obs   =     1,554\n",
      "-------------+----------------------------------   F(1, 1552)      =      0.18\n",
      "       Model |  .418611462         1  .418611462   Prob > F        =    0.6673\n",
      "    Residual |  3515.40458     1,552  2.26508027   R-squared       =    0.0001\n",
      "-------------+----------------------------------   Adj R-squared   =   -0.0005\n",
      "       Total |  3515.82319     1,553   2.2638913   Root MSE        =     1.505\n",
      "\n",
      "------------------------------------------------------------------------------\n",
      "   close_chg | Coefficient  Std. err.      t    P>|t|     [95% conf. interval]\n",
      "-------------+----------------------------------------------------------------\n",
      "SENT_IN~R_EX |\n",
      "         L1. |   .0309169   .0719171     0.43   0.667     -.110148    .1719818\n",
      "             |\n",
      "       _cons |   .0498988   .0409612     1.22   0.223    -.0304463    .1302439\n",
      "------------------------------------------------------------------------------\n",
      "\n",
      "added scalar:\n",
      "               e(coef) =  .03091689\n",
      "\n",
      "added scalar:\n",
      "              e(tstat) =  .42989635\n",
      "(option xb assumed; fitted values)\n",
      "(1,555 missing values generated)\n",
      "(1,555 missing values generated)\n",
      "\n",
      "added scalar:\n",
      "               e(mspe) =  1.4809678\n",
      "(1,555 missing values generated)\n",
      "(1,555 missing values generated)\n",
      "\n",
      "added scalar:\n",
      "             e(oos_r2) =  -.00267857\n",
      "(1,555 missing values generated)\n",
      "(1,555 missing values generated)\n",
      "\n",
      "      Source |       SS           df       MS      Number of obs   =       393\n",
      "-------------+----------------------------------   F(1, 391)       =      0.33\n",
      "       Model |   .00081782         1   .00081782   Prob > F        =    0.5685\n",
      "    Residual |  .981381282       391  .002509927   R-squared       =    0.0008\n",
      "-------------+----------------------------------   Adj R-squared   =   -0.0017\n",
      "       Total |  .982199101       392   .00250561   Root MSE        =     .0501\n",
      "\n",
      "------------------------------------------------------------------------------\n",
      "error_d~R_EX | Coefficient  Std. err.      t    P>|t|     [95% conf. interval]\n",
      "-------------+----------------------------------------------------------------\n",
      "error_d~R_EX |\n",
      "         L1. |    .028856    .050552     0.57   0.568    -.0705317    .1282438\n",
      "             |\n",
      "       _cons |   .0038479   .0025351     1.52   0.130    -.0011363    .0088321\n",
      "------------------------------------------------------------------------------\n",
      "\n",
      "      Source |       SS           df       MS      Number of obs   =     1,554\n",
      "-------------+----------------------------------   F(1, 1552)      =      5.01\n",
      "       Model |  11.3054315         1  11.3054315   Prob > F        =    0.0254\n",
      "    Residual |  3504.51776     1,552  2.25806557   R-squared       =    0.0032\n",
      "-------------+----------------------------------   Adj R-squared   =    0.0026\n",
      "       Total |  3515.82319     1,553   2.2638913   Root MSE        =    1.5027\n",
      "\n",
      "------------------------------------------------------------------------------\n",
      "   close_chg | Coefficient  Std. err.      t    P>|t|     [95% conf. interval]\n",
      "-------------+----------------------------------------------------------------\n",
      "  opt_profit |\n",
      "         L1. |  -.0229451   .0102545    -2.24   0.025    -.0430592    -.002831\n",
      "             |\n",
      "       _cons |   .1793385   .0716766     2.50   0.012     .0387454    .3199317\n",
      "------------------------------------------------------------------------------\n",
      "\n",
      "added scalar:\n",
      "               e(coef) =  -.02294507\n",
      "\n",
      "added scalar:\n",
      "              e(tstat) =  -2.2375631\n",
      "(option xb assumed; fitted values)\n",
      "(1,555 missing values generated)\n",
      "(1,555 missing values generated)\n",
      "\n",
      "added scalar:\n",
      "               e(mspe) =  1.4804225\n",
      "(1,555 missing values generated)\n",
      "(1,555 missing values generated)\n",
      "\n",
      "added scalar:\n",
      "             e(oos_r2) =  -.00230929\n",
      "(1,555 missing values generated)\n",
      "(1,555 missing values generated)\n",
      "\n",
      "      Source |       SS           df       MS      Number of obs   =       393\n",
      "-------------+----------------------------------   F(1, 391)       =      3.15\n",
      "       Model |  .084944265         1  .084944265   Prob > F        =    0.0765\n",
      "    Residual |  10.5276283       391  .026924881   R-squared       =    0.0080\n",
      "-------------+----------------------------------   Adj R-squared   =    0.0055\n",
      "       Total |  10.6125726       392  .027072889   Root MSE        =    .16409\n",
      "\n",
      "------------------------------------------------------------------------------\n",
      "error_diff~t | Coefficient  Std. err.      t    P>|t|     [95% conf. interval]\n",
      "-------------+----------------------------------------------------------------\n",
      "error_diff~t |\n",
      "         L1. |   .0894761   .0503752     1.78   0.076    -.0095641    .1885163\n",
      "             |\n",
      "       _cons |    .003122   .0082788     0.38   0.706    -.0131545    .0193986\n",
      "------------------------------------------------------------------------------\n",
      "\n",
      "      Source |       SS           df       MS      Number of obs   =     1,554\n",
      "-------------+----------------------------------   F(1, 1552)      =      0.45\n",
      "       Model |  1.01828816         1  1.01828816   Prob > F        =    0.5026\n",
      "    Residual |   3514.8049     1,552  2.26469388   R-squared       =    0.0003\n",
      "-------------+----------------------------------   Adj R-squared   =   -0.0004\n",
      "       Total |  3515.82319     1,553   2.2638913   Root MSE        =    1.5049\n",
      "\n",
      "------------------------------------------------------------------------------\n",
      "   close_chg | Coefficient  Std. err.      t    P>|t|     [95% conf. interval]\n",
      "-------------+----------------------------------------------------------------\n",
      "      IndexA |\n",
      "         L1. |  -.0581539   .0867258    -0.67   0.503    -.2282661    .1119583\n",
      "             |\n",
      "       _cons |   .0503558   .0395131     1.27   0.203     -.027149    .1278605\n",
      "------------------------------------------------------------------------------\n",
      "\n",
      "added scalar:\n",
      "               e(coef) =  -.05815394\n",
      "\n",
      "added scalar:\n",
      "              e(tstat) =  -.67054912\n",
      "(option xb assumed; fitted values)\n",
      "(1,608 missing values generated)\n",
      "(1,555 missing values generated)\n",
      "\n",
      "added scalar:\n",
      "               e(mspe) =  1.6165303\n",
      "(1,555 missing values generated)\n",
      "(1,555 missing values generated)\n",
      "\n",
      "added scalar:\n",
      "             e(oos_r2) =  .05276423\n",
      "(1,608 missing values generated)\n",
      "(1,608 missing values generated)\n",
      "\n",
      "      Source |       SS           df       MS      Number of obs   =       340\n",
      "-------------+----------------------------------   F(1, 338)       =      3.43\n",
      "       Model |  .003681841         1  .003681841   Prob > F        =    0.0650\n",
      "    Residual |  .363119163       338  .001074317   R-squared       =    0.0100\n",
      "-------------+----------------------------------   Adj R-squared   =    0.0071\n",
      "       Total |  .366801005       339  .001082009   Root MSE        =    .03278\n",
      "\n",
      "------------------------------------------------------------------------------\n",
      "error_diff~A | Coefficient  Std. err.      t    P>|t|     [95% conf. interval]\n",
      "-------------+----------------------------------------------------------------\n",
      "error_diff~A |\n",
      "         L1. |   .1004104   .0542391     1.85   0.065    -.0062783     .207099\n",
      "             |\n",
      "       _cons |   .0004504   .0017777     0.25   0.800    -.0030464    .0039471\n",
      "------------------------------------------------------------------------------\n",
      "\n",
      "      Source |       SS           df       MS      Number of obs   =     1,554\n",
      "-------------+----------------------------------   F(1, 1552)      =      0.72\n",
      "       Model |    1.629049         1    1.629049   Prob > F        =    0.3965\n",
      "    Residual |  3514.19414     1,552  2.26430035   R-squared       =    0.0005\n",
      "-------------+----------------------------------   Adj R-squared   =   -0.0002\n",
      "       Total |  3515.82319     1,553   2.2638913   Root MSE        =    1.5048\n",
      "\n",
      "------------------------------------------------------------------------------\n",
      "   close_chg | Coefficient  Std. err.      t    P>|t|     [95% conf. interval]\n",
      "-------------+----------------------------------------------------------------\n",
      "      IndexB |\n",
      "         L1. |   -.054829   .0646413    -0.85   0.396    -.1816224    .0719645\n",
      "             |\n",
      "       _cons |    .052331   .0395603     1.32   0.186    -.0252661    .1299282\n",
      "------------------------------------------------------------------------------\n",
      "\n",
      "added scalar:\n",
      "               e(coef) =  -.05482896\n",
      "\n",
      "added scalar:\n",
      "              e(tstat) =  -.84820349\n",
      "(option xb assumed; fitted values)\n",
      "(1,608 missing values generated)\n",
      "(1,555 missing values generated)\n",
      "\n",
      "added scalar:\n",
      "               e(mspe) =  1.616292\n",
      "(1,555 missing values generated)\n",
      "(1,555 missing values generated)\n",
      "\n",
      "added scalar:\n",
      "             e(oos_r2) =  .05290382\n",
      "(1,608 missing values generated)\n",
      "(1,608 missing values generated)\n",
      "\n",
      "      Source |       SS           df       MS      Number of obs   =       340\n",
      "-------------+----------------------------------   F(1, 338)       =      9.17\n",
      "       Model |  .003577184         1  .003577184   Prob > F        =    0.0026\n",
      "    Residual |  .131798712       338  .000389937   R-squared       =    0.0264\n",
      "-------------+----------------------------------   Adj R-squared   =    0.0235\n",
      "       Total |  .135375896       339  .000399339   Root MSE        =    .01975\n",
      "\n",
      "------------------------------------------------------------------------------\n",
      "error_diff~B | Coefficient  Std. err.      t    P>|t|     [95% conf. interval]\n",
      "-------------+----------------------------------------------------------------\n",
      "error_diff~B |\n",
      "         L1. |    .163374   .0539398     3.03   0.003      .057274     .269474\n",
      "             |\n",
      "       _cons |   .0002307   .0010709     0.22   0.830    -.0018758    .0023373\n",
      "------------------------------------------------------------------------------\n",
      "\n",
      ". \n",
      ". \n"
     ]
    }
   ],
   "source": [
    "%%stata -d df_merge -force -doutd DATAFRAME\n",
    "/*{*/\n",
    "//清除估计结果\n",
    "est clear\n",
    "\n",
    "//生成时间变量 (已排序)\n",
    "ge date=_n\n",
    "tsset date\n",
    "\n",
    "// 划分训练集和测试集\n",
    "ge byte in_train = (date < 1944*0.8)\n",
    "ge byte in_test = (date >= 1944*0.8)\n",
    "\n",
    "//计算测试集中因变量的均值\n",
    "egen mean_close_chg = mean(close_chg) if in_test\n",
    "\n",
    "//计算实际值与均值之间的平方差异的总和\n",
    "egen sum_sq_diff_mean = total((close_chg - mean_close_chg)^2) if in_test\n",
    "\n",
    "//计算基准模型预测误差\n",
    "ge error_benchmark = close_chg - mean_close_chg if in_test\n",
    "\n",
    "//定义待对比的指标\n",
    "local independent_vars \"img_neg tex_neg SENT_INDEX_EX SENT_INDEX_R_EX opt_profit IndexA IndexB\"\n",
    "\n",
    "//循环\n",
    "foreach var of local independent_vars{\n",
    "\n",
    "        //1.样本外OOS R2\n",
    "\n",
    "        //使用训练集进行线性回归建模 滞后1期\n",
    "        eststo `var': reg close_chg l.`var' if in_train\n",
    "        scalar coef = e(b)[1, 1]\n",
    "        estadd scalar coef\n",
    "        scalar tstat = e(b)[1, 1]/(sqrt(e(V)[1, 1]))\n",
    "        estadd scalar tstat\n",
    "\n",
    "        //进行样本外预测,线性预测值\n",
    "        predict pred_`var' if in_test\n",
    "\n",
    "        //计算MSPE\n",
    "        egen mspe_`var' = mean((close_chg - pred_`var')^2) if in_test /*{*/\n",
    "        qui sum mspe_`var' if in_test\n",
    "        scalar mspe = r(mean)\n",
    "        estadd scalar mspe\n",
    "\n",
    "        //计算实际值与预测值之间的平方差异的总和\n",
    "        egen sum_sq_diff_pred_`var' = total((close_chg - pred_`var')^2) if in_test\n",
    "\n",
    "        //计算样本外 R-squared (OOS R2)\n",
    "        ge oos_r2_`var' = 1 - (sum_sq_diff_pred_`var' / sum_sq_diff_mean) if in_test\n",
    "        qui sum oos_r2_`var' if in_test\n",
    "        scalar oos_r2 = r(mean)\n",
    "        estadd scalar oos_r2\n",
    "\n",
    "        //2.CW测试\n",
    "\n",
    "        // 计算预测误差\n",
    "        ge error_`var' = close_chg - pred_`var' if in_test\n",
    "\n",
    "        //计算误差差值(Error differences)\n",
    "        ge error_diff_`var' = error_`var'^2 - error_benchmark^2 if in_test\n",
    "\n",
    "        //使用误差差值执行线性回归\n",
    "        reg error_diff_`var' l.error_diff_`var' if in_test\n",
    "\n",
    "}\n"
   ],
   "metadata": {
    "collapsed": false,
    "ExecuteTime": {
     "start_time": "2023-04-13T08:05:37.395968Z",
     "end_time": "2023-04-13T08:05:37.988051Z"
    }
   }
  },
  {
   "cell_type": "markdown",
   "source": [
    "显示结果"
   ],
   "metadata": {
    "collapsed": false
   }
  },
  {
   "cell_type": "code",
   "execution_count": 40,
   "outputs": [
    {
     "name": "stdout",
     "output_type": "stream",
     "text": [
      "\n",
      ". ereturn list\n",
      "\n",
      "scalars:\n",
      "                  e(N) =  340\n",
      "               e(df_m) =  1\n",
      "               e(df_r) =  338\n",
      "                  e(F) =  9.173747920134824\n",
      "                 e(r2) =  .0264240829702516\n",
      "               e(rmse) =  .0197468229603713\n",
      "                e(mss) =  .0035771838989465\n",
      "                e(rss) =  .1317987117555474\n",
      "               e(r2_a) =  .0235436808488617\n",
      "                 e(ll) =  852.9831570079118\n",
      "               e(ll_0) =  848.4306464932889\n",
      "               e(rank) =  2\n",
      "\n",
      "macros:\n",
      "            e(cmdline) : \"regress error_diff_IndexB l.error_diff_IndexB if ..\"\n",
      "              e(title) : \"Linear regression\"\n",
      "          e(marginsok) : \"XB default\"\n",
      "                e(vce) : \"ols\"\n",
      "             e(depvar) : \"error_diff_IndexB\"\n",
      "                e(cmd) : \"regress\"\n",
      "         e(properties) : \"b V\"\n",
      "            e(predict) : \"regres_p\"\n",
      "              e(model) : \"ols\"\n",
      "          e(estat_cmd) : \"regress_estat\"\n",
      "\n",
      "matrices:\n",
      "                  e(b) :  1 x 2\n",
      "                  e(V) :  2 x 2\n",
      "               e(beta) :  1 x 1\n",
      "\n",
      "functions:\n",
      "             e(sample)   \n",
      "\n",
      ". esttab ,star(* 0.1 ** 0.05 *** 0.01)  scalars(coef tstat r2 mspe oos_r2)\n",
      "(tabulating estimates stored by eststo; specify \".\" to tabulate the active resu\n",
      "> lts)\n",
      "\n",
      "-------------------------------------------------------------------------------\n",
      "> ---------------------------------------------\n",
      "                      (1)             (2)             (3)             (4)      \n",
      ">        (5)             (6)             (7)   \n",
      "                close_chg       close_chg       close_chg       close_chg      \n",
      ">  close_chg       close_chg       close_chg   \n",
      "-------------------------------------------------------------------------------\n",
      "> ---------------------------------------------\n",
      "L.img_neg          -0.475*                                                     \n",
      ">                                              \n",
      "                  (-1.93)                                                      \n",
      ">                                              \n",
      "\n",
      "L.tex_neg                           0.119                                      \n",
      ">                                              \n",
      "                                   (0.52)                                      \n",
      ">                                              \n",
      "\n",
      "L.SENT_~X_EX                                      0.00501                      \n",
      ">                                              \n",
      "                                                   (0.07)                      \n",
      ">                                              \n",
      "\n",
      "L.SENT_~R_EX                                                       0.0309      \n",
      ">                                              \n",
      "                                                                   (0.43)      \n",
      ">                                              \n",
      "\n",
      "L.opt_profit                                                                   \n",
      ">    -0.0229**                                 \n",
      "                                                                               \n",
      ">    (-2.24)                                   \n",
      "\n",
      "L.IndexA                                                                       \n",
      ">                    -0.0582                   \n",
      "                                                                               \n",
      ">                    (-0.67)                   \n",
      "\n",
      "L.IndexB                                                                       \n",
      ">                                    -0.0548   \n",
      "                                                                               \n",
      ">                                    (-0.85)   \n",
      "\n",
      "_cons               0.133**        0.0206          0.0441          0.0499      \n",
      ">      0.179**        0.0504          0.0523   \n",
      "                   (2.22)          (0.35)          (1.13)          (1.22)      \n",
      ">     (2.50)          (1.27)          (1.32)   \n",
      "-------------------------------------------------------------------------------\n",
      "> ---------------------------------------------\n",
      "N                    1554            1554            1554            1554      \n",
      ">       1554            1554            1554   \n",
      "coef               -0.475           0.119         0.00501          0.0309      \n",
      ">    -0.0229         -0.0582         -0.0548   \n",
      "tstat              -1.930           0.517          0.0666           0.430      \n",
      ">     -2.238          -0.671          -0.848   \n",
      "r2                0.00239        0.000173      0.00000285        0.000119      \n",
      ">    0.00322        0.000290        0.000463   \n",
      "mspe                1.470           1.479           1.478           1.481      \n",
      ">      1.480           1.617           1.616   \n",
      "oos_r2            0.00467        -0.00117       -0.000545        -0.00268      \n",
      ">   -0.00231          0.0528          0.0529   \n",
      "-------------------------------------------------------------------------------\n",
      "> ---------------------------------------------\n",
      "t statistics in parentheses\n",
      "* p<0.1, ** p<0.05, *** p<0.01\n",
      "\n",
      ". mat R = r(stats)'\n",
      "\n",
      ". esttab mat(R) using pycharm_projects/Investor-Sentiment/outputs/sentindex_com\n",
      "> pare.rtf,r nomtitle\n",
      "(output written to pycharm_projects/Investor-Sentiment/outputs/sentindex_compar\n",
      "> e.rtf)\n",
      "\n",
      ". \n",
      ". \n"
     ]
    }
   ],
   "source": [
    "%%stata\n",
    "ereturn list\n",
    "esttab ,star(* 0.1 ** 0.05 *** 0.01)  scalars(coef tstat r2 mspe oos_r2)\n",
    "mat R = r(stats)'\n",
    "esttab mat(R) using pycharm_projects/Investor-Sentiment/outputs/sentindex_compare.rtf,r nomtitle\n"
   ],
   "metadata": {
    "collapsed": false,
    "ExecuteTime": {
     "start_time": "2023-04-13T07:52:52.375145Z",
     "end_time": "2023-04-13T07:52:52.606831Z"
    }
   }
  },
  {
   "cell_type": "markdown",
   "source": [],
   "metadata": {
    "collapsed": false
   }
  },
  {
   "cell_type": "code",
   "execution_count": 41,
   "outputs": [
    {
     "data": {
      "text/plain": "       mspe_img_neg  oos_r2_img_neg   mspe_tex_neg  oos_r2_tex_neg  \\\n0     8.988466e+307   8.988466e+307  8.988466e+307   8.988466e+307   \n1     8.988466e+307   8.988466e+307  8.988466e+307   8.988466e+307   \n2     8.988466e+307   8.988466e+307  8.988466e+307   8.988466e+307   \n3     8.988466e+307   8.988466e+307  8.988466e+307   8.988466e+307   \n4     8.988466e+307   8.988466e+307  8.988466e+307   8.988466e+307   \n...             ...             ...            ...             ...   \n1944   1.470118e+00    4.667028e-03   1.478741e+00   -1.171110e-03   \n1945   1.470118e+00    4.667028e-03   1.478741e+00   -1.171110e-03   \n1946   1.470118e+00    4.667028e-03   1.478741e+00   -1.171110e-03   \n1947   1.470118e+00    4.667028e-03   1.478741e+00   -1.171110e-03   \n1948   1.470118e+00    4.667028e-03   1.478741e+00   -1.171110e-03   \n\n      mspe_SENT_INDEX_EX  oos_r2_SENT_INDEX_EX  mspe_SENT_INDEX_R_EX  \\\n0          8.988466e+307         8.988466e+307         8.988466e+307   \n1          8.988466e+307         8.988466e+307         8.988466e+307   \n2          8.988466e+307         8.988466e+307         8.988466e+307   \n3          8.988466e+307         8.988466e+307         8.988466e+307   \n4          8.988466e+307         8.988466e+307         8.988466e+307   \n...                  ...                   ...                   ...   \n1944        1.477816e+00         -5.449656e-04          1.480968e+00   \n1945        1.477816e+00         -5.449656e-04          1.480968e+00   \n1946        1.477816e+00         -5.449656e-04          1.480968e+00   \n1947        1.477816e+00         -5.449656e-04          1.480968e+00   \n1948        1.477816e+00         -5.449656e-04          1.480968e+00   \n\n      oos_r2_SENT_INDEX_R_EX  mspe_opt_profit  oos_r2_opt_profit  \\\n0              8.988466e+307    8.988466e+307      8.988466e+307   \n1              8.988466e+307    8.988466e+307      8.988466e+307   \n2              8.988466e+307    8.988466e+307      8.988466e+307   \n3              8.988466e+307    8.988466e+307      8.988466e+307   \n4              8.988466e+307    8.988466e+307      8.988466e+307   \n...                      ...              ...                ...   \n1944           -2.678575e-03     1.480422e+00      -2.309287e-03   \n1945           -2.678575e-03     1.480422e+00      -2.309287e-03   \n1946           -2.678575e-03     1.480422e+00      -2.309287e-03   \n1947           -2.678575e-03     1.480422e+00      -2.309287e-03   \n1948           -2.678575e-03     1.480422e+00      -2.309287e-03   \n\n        mspe_IndexA  oos_r2_IndexA    mspe_IndexB  oos_r2_IndexB  \n0     8.988466e+307  8.988466e+307  8.988466e+307  8.988466e+307  \n1     8.988466e+307  8.988466e+307  8.988466e+307  8.988466e+307  \n2     8.988466e+307  8.988466e+307  8.988466e+307  8.988466e+307  \n3     8.988466e+307  8.988466e+307  8.988466e+307  8.988466e+307  \n4     8.988466e+307  8.988466e+307  8.988466e+307  8.988466e+307  \n...             ...            ...            ...            ...  \n1944   1.616530e+00   5.276423e-02   1.616292e+00   5.290382e-02  \n1945   1.616530e+00   5.276423e-02   1.616292e+00   5.290382e-02  \n1946   1.616530e+00   5.276423e-02   1.616292e+00   5.290382e-02  \n1947   1.616530e+00   5.276423e-02   1.616292e+00   5.290382e-02  \n1948   1.616530e+00   5.276423e-02   1.616292e+00   5.290382e-02  \n\n[1949 rows x 14 columns]",
      "text/html": "<div>\n<style scoped>\n    .dataframe tbody tr th:only-of-type {\n        vertical-align: middle;\n    }\n\n    .dataframe tbody tr th {\n        vertical-align: top;\n    }\n\n    .dataframe thead th {\n        text-align: right;\n    }\n</style>\n<table border=\"1\" class=\"dataframe\">\n  <thead>\n    <tr style=\"text-align: right;\">\n      <th></th>\n      <th>mspe_img_neg</th>\n      <th>oos_r2_img_neg</th>\n      <th>mspe_tex_neg</th>\n      <th>oos_r2_tex_neg</th>\n      <th>mspe_SENT_INDEX_EX</th>\n      <th>oos_r2_SENT_INDEX_EX</th>\n      <th>mspe_SENT_INDEX_R_EX</th>\n      <th>oos_r2_SENT_INDEX_R_EX</th>\n      <th>mspe_opt_profit</th>\n      <th>oos_r2_opt_profit</th>\n      <th>mspe_IndexA</th>\n      <th>oos_r2_IndexA</th>\n      <th>mspe_IndexB</th>\n      <th>oos_r2_IndexB</th>\n    </tr>\n  </thead>\n  <tbody>\n    <tr>\n      <th>0</th>\n      <td>8.988466e+307</td>\n      <td>8.988466e+307</td>\n      <td>8.988466e+307</td>\n      <td>8.988466e+307</td>\n      <td>8.988466e+307</td>\n      <td>8.988466e+307</td>\n      <td>8.988466e+307</td>\n      <td>8.988466e+307</td>\n      <td>8.988466e+307</td>\n      <td>8.988466e+307</td>\n      <td>8.988466e+307</td>\n      <td>8.988466e+307</td>\n      <td>8.988466e+307</td>\n      <td>8.988466e+307</td>\n    </tr>\n    <tr>\n      <th>1</th>\n      <td>8.988466e+307</td>\n      <td>8.988466e+307</td>\n      <td>8.988466e+307</td>\n      <td>8.988466e+307</td>\n      <td>8.988466e+307</td>\n      <td>8.988466e+307</td>\n      <td>8.988466e+307</td>\n      <td>8.988466e+307</td>\n      <td>8.988466e+307</td>\n      <td>8.988466e+307</td>\n      <td>8.988466e+307</td>\n      <td>8.988466e+307</td>\n      <td>8.988466e+307</td>\n      <td>8.988466e+307</td>\n    </tr>\n    <tr>\n      <th>2</th>\n      <td>8.988466e+307</td>\n      <td>8.988466e+307</td>\n      <td>8.988466e+307</td>\n      <td>8.988466e+307</td>\n      <td>8.988466e+307</td>\n      <td>8.988466e+307</td>\n      <td>8.988466e+307</td>\n      <td>8.988466e+307</td>\n      <td>8.988466e+307</td>\n      <td>8.988466e+307</td>\n      <td>8.988466e+307</td>\n      <td>8.988466e+307</td>\n      <td>8.988466e+307</td>\n      <td>8.988466e+307</td>\n    </tr>\n    <tr>\n      <th>3</th>\n      <td>8.988466e+307</td>\n      <td>8.988466e+307</td>\n      <td>8.988466e+307</td>\n      <td>8.988466e+307</td>\n      <td>8.988466e+307</td>\n      <td>8.988466e+307</td>\n      <td>8.988466e+307</td>\n      <td>8.988466e+307</td>\n      <td>8.988466e+307</td>\n      <td>8.988466e+307</td>\n      <td>8.988466e+307</td>\n      <td>8.988466e+307</td>\n      <td>8.988466e+307</td>\n      <td>8.988466e+307</td>\n    </tr>\n    <tr>\n      <th>4</th>\n      <td>8.988466e+307</td>\n      <td>8.988466e+307</td>\n      <td>8.988466e+307</td>\n      <td>8.988466e+307</td>\n      <td>8.988466e+307</td>\n      <td>8.988466e+307</td>\n      <td>8.988466e+307</td>\n      <td>8.988466e+307</td>\n      <td>8.988466e+307</td>\n      <td>8.988466e+307</td>\n      <td>8.988466e+307</td>\n      <td>8.988466e+307</td>\n      <td>8.988466e+307</td>\n      <td>8.988466e+307</td>\n    </tr>\n    <tr>\n      <th>...</th>\n      <td>...</td>\n      <td>...</td>\n      <td>...</td>\n      <td>...</td>\n      <td>...</td>\n      <td>...</td>\n      <td>...</td>\n      <td>...</td>\n      <td>...</td>\n      <td>...</td>\n      <td>...</td>\n      <td>...</td>\n      <td>...</td>\n      <td>...</td>\n    </tr>\n    <tr>\n      <th>1944</th>\n      <td>1.470118e+00</td>\n      <td>4.667028e-03</td>\n      <td>1.478741e+00</td>\n      <td>-1.171110e-03</td>\n      <td>1.477816e+00</td>\n      <td>-5.449656e-04</td>\n      <td>1.480968e+00</td>\n      <td>-2.678575e-03</td>\n      <td>1.480422e+00</td>\n      <td>-2.309287e-03</td>\n      <td>1.616530e+00</td>\n      <td>5.276423e-02</td>\n      <td>1.616292e+00</td>\n      <td>5.290382e-02</td>\n    </tr>\n    <tr>\n      <th>1945</th>\n      <td>1.470118e+00</td>\n      <td>4.667028e-03</td>\n      <td>1.478741e+00</td>\n      <td>-1.171110e-03</td>\n      <td>1.477816e+00</td>\n      <td>-5.449656e-04</td>\n      <td>1.480968e+00</td>\n      <td>-2.678575e-03</td>\n      <td>1.480422e+00</td>\n      <td>-2.309287e-03</td>\n      <td>1.616530e+00</td>\n      <td>5.276423e-02</td>\n      <td>1.616292e+00</td>\n      <td>5.290382e-02</td>\n    </tr>\n    <tr>\n      <th>1946</th>\n      <td>1.470118e+00</td>\n      <td>4.667028e-03</td>\n      <td>1.478741e+00</td>\n      <td>-1.171110e-03</td>\n      <td>1.477816e+00</td>\n      <td>-5.449656e-04</td>\n      <td>1.480968e+00</td>\n      <td>-2.678575e-03</td>\n      <td>1.480422e+00</td>\n      <td>-2.309287e-03</td>\n      <td>1.616530e+00</td>\n      <td>5.276423e-02</td>\n      <td>1.616292e+00</td>\n      <td>5.290382e-02</td>\n    </tr>\n    <tr>\n      <th>1947</th>\n      <td>1.470118e+00</td>\n      <td>4.667028e-03</td>\n      <td>1.478741e+00</td>\n      <td>-1.171110e-03</td>\n      <td>1.477816e+00</td>\n      <td>-5.449656e-04</td>\n      <td>1.480968e+00</td>\n      <td>-2.678575e-03</td>\n      <td>1.480422e+00</td>\n      <td>-2.309287e-03</td>\n      <td>1.616530e+00</td>\n      <td>5.276423e-02</td>\n      <td>1.616292e+00</td>\n      <td>5.290382e-02</td>\n    </tr>\n    <tr>\n      <th>1948</th>\n      <td>1.470118e+00</td>\n      <td>4.667028e-03</td>\n      <td>1.478741e+00</td>\n      <td>-1.171110e-03</td>\n      <td>1.477816e+00</td>\n      <td>-5.449656e-04</td>\n      <td>1.480968e+00</td>\n      <td>-2.678575e-03</td>\n      <td>1.480422e+00</td>\n      <td>-2.309287e-03</td>\n      <td>1.616530e+00</td>\n      <td>5.276423e-02</td>\n      <td>1.616292e+00</td>\n      <td>5.290382e-02</td>\n    </tr>\n  </tbody>\n</table>\n<p>1949 rows × 14 columns</p>\n</div>"
     },
     "execution_count": 41,
     "metadata": {},
     "output_type": "execute_result"
    }
   ],
   "source": [
    "DATAFRAME[[i for i in DATAFRAME.columns if i.startswith('oos_r2') or i.startswith('mspe')]]"
   ],
   "metadata": {
    "collapsed": false,
    "ExecuteTime": {
     "start_time": "2023-04-13T07:52:52.505927Z",
     "end_time": "2023-04-13T07:52:52.606986Z"
    }
   }
  },
  {
   "cell_type": "code",
   "execution_count": 41,
   "outputs": [],
   "source": [],
   "metadata": {
    "collapsed": false,
    "ExecuteTime": {
     "start_time": "2023-04-13T07:52:52.506528Z",
     "end_time": "2023-04-13T07:52:52.607017Z"
    }
   }
  }
 ],
 "metadata": {
  "kernelspec": {
   "name": "pytorch",
   "language": "python",
   "display_name": "Rapids"
  },
  "language_info": {
   "codemirror_mode": {
    "name": "ipython",
    "version": 2
   },
   "file_extension": ".py",
   "mimetype": "text/x-python",
   "name": "python",
   "nbconvert_exporter": "python",
   "pygments_lexer": "ipython2",
   "version": "2.7.6"
  }
 },
 "nbformat": 4,
 "nbformat_minor": 0
}
