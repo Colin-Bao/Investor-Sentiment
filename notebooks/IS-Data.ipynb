{
 "cells": [
  {
   "cell_type": "markdown",
   "source": [
    "# 数据处理专用\n",
    "整合数据"
   ],
   "metadata": {
    "collapsed": false
   }
  },
  {
   "cell_type": "code",
   "execution_count": 1,
   "outputs": [],
   "source": [
    "import cudf\n",
    "import sys\n",
    "import pandas as pd\n",
    "\n",
    "# 自行编写的包\n",
    "sys.path.append('/home/ubuntu/notebooks/pycharm_projects/Investor-Sentiment')\n",
    "sys.path.append('/usr/local/stata17/utilities')"
   ],
   "metadata": {
    "collapsed": false
   }
  },
  {
   "cell_type": "markdown",
   "source": [
    "## 金融市场情绪"
   ],
   "metadata": {
    "collapsed": false
   }
  },
  {
   "cell_type": "code",
   "execution_count": 19,
   "outputs": [
    {
     "data": {
      "text/plain": "      trade_date  trade_year       CEFD      RIPO  NIPO     TURN   TURN_MA  \\\n1       20100105        2010 -17.840000  0.000000   0.0  0.00819 -0.005408   \n2       20100106        2010 -17.720000  0.617127   3.0  0.00802 -0.005580   \n3       20100107        2010 -16.870000  0.058932   1.0  0.00834 -0.005263   \n4       20100108        2010 -17.595926  0.319774   6.0  0.00643 -0.007174   \n5       20100111        2010 -16.700000  0.000000   0.0  0.00875 -0.004857   \n...          ...         ...        ...       ...   ...      ...       ...   \n2912    20211227        2021  -2.258667  0.079280   1.0  0.00675  0.001142   \n2913    20211228        2021  -2.880625  0.107463   4.0  0.00647  0.000860   \n2914    20211229        2021  -2.787500  0.000000   0.0  0.00624  0.000628   \n2915    20211230        2021  -3.135625  0.259762   3.0  0.00627  0.000655   \n2916    20211231        2021   0.180000  0.441176   1.0  0.00672  0.001102   \n\n      trade_month     SR    lnPD  ...    NIPO_R    RIPO_R       SR_R  \\\n1          201001  32.76 -0.3186  ... -0.930690 -0.277455  16.537449   \n2          201001  32.76 -0.3186  ...  2.069310  0.339671  16.537449   \n3          201001  32.76 -0.3186  ...  0.069310 -0.218523  16.537449   \n4          201001  32.76 -0.3186  ...  5.069310  0.042319  16.537449   \n5          201001  32.76 -0.3186  ... -0.930690 -0.277455  16.537449   \n...           ...    ...     ...  ...       ...       ...        ...   \n2912       202112   6.95 -0.0318  ... -0.044895 -0.374305  -2.832969   \n2913       202112   6.95 -0.0318  ...  2.955105 -0.346122  -2.832969   \n2914       202112   6.95 -0.0318  ... -1.044895 -0.453585  -2.832969   \n2915       202112   6.95 -0.0318  ...  1.955105 -0.193822  -2.832969   \n2916       202112   6.95 -0.0318  ... -0.044895 -0.012409  -2.832969   \n\n      l1_TURN_R    lnPD_R  SENT_INDEX_R  SENT_INDEX_EX  SENT_INDEX_DEX  \\\n1      0.000834 -0.100608     -1.244143      -0.430662       -0.285413   \n2      0.001924 -0.100608     -0.035316      -0.489220       -0.286190   \n3      0.001754 -0.100608     -0.860132      -0.450119       -0.287520   \n4      0.002074 -0.100608      0.640860      -0.478187       -0.287617   \n5      0.000164 -0.100608     -1.183935      -0.387898       -0.288697   \n...         ...       ...           ...            ...             ...   \n2912   0.001832  0.097983      0.390557       1.170102        1.302731   \n2913   0.000582  0.097983      1.186737       1.127746        1.298598   \n2914   0.000302  0.097983      0.013389       1.149856        1.293518   \n2915   0.000072  0.097983      0.972127       1.079838        1.288670   \n2916   0.000102  0.097983      0.720920       1.088991        1.283711   \n\n      SENT_INDEX_R_EX  SENT_INDEX_R_DEX  \n1           -0.331016          0.058454  \n2           -0.412211          0.055876  \n3           -0.378698          0.051982  \n4           -0.421506          0.049377  \n5           -0.327042          0.044932  \n...               ...               ...  \n2912         0.960139          1.050876  \n2913         0.909492          1.046500  \n2914         0.934144          1.040757  \n2915         0.852272          1.035358  \n2916         0.862929          1.029868  \n\n[2916 rows x 26 columns]",
      "text/html": "<div>\n<style scoped>\n    .dataframe tbody tr th:only-of-type {\n        vertical-align: middle;\n    }\n\n    .dataframe tbody tr th {\n        vertical-align: top;\n    }\n\n    .dataframe thead th {\n        text-align: right;\n    }\n</style>\n<table border=\"1\" class=\"dataframe\">\n  <thead>\n    <tr style=\"text-align: right;\">\n      <th></th>\n      <th>trade_date</th>\n      <th>trade_year</th>\n      <th>CEFD</th>\n      <th>RIPO</th>\n      <th>NIPO</th>\n      <th>TURN</th>\n      <th>TURN_MA</th>\n      <th>trade_month</th>\n      <th>SR</th>\n      <th>lnPD</th>\n      <th>...</th>\n      <th>NIPO_R</th>\n      <th>RIPO_R</th>\n      <th>SR_R</th>\n      <th>l1_TURN_R</th>\n      <th>lnPD_R</th>\n      <th>SENT_INDEX_R</th>\n      <th>SENT_INDEX_EX</th>\n      <th>SENT_INDEX_DEX</th>\n      <th>SENT_INDEX_R_EX</th>\n      <th>SENT_INDEX_R_DEX</th>\n    </tr>\n  </thead>\n  <tbody>\n    <tr>\n      <th>1</th>\n      <td>20100105</td>\n      <td>2010</td>\n      <td>-17.840000</td>\n      <td>0.000000</td>\n      <td>0.0</td>\n      <td>0.00819</td>\n      <td>-0.005408</td>\n      <td>201001</td>\n      <td>32.76</td>\n      <td>-0.3186</td>\n      <td>...</td>\n      <td>-0.930690</td>\n      <td>-0.277455</td>\n      <td>16.537449</td>\n      <td>0.000834</td>\n      <td>-0.100608</td>\n      <td>-1.244143</td>\n      <td>-0.430662</td>\n      <td>-0.285413</td>\n      <td>-0.331016</td>\n      <td>0.058454</td>\n    </tr>\n    <tr>\n      <th>2</th>\n      <td>20100106</td>\n      <td>2010</td>\n      <td>-17.720000</td>\n      <td>0.617127</td>\n      <td>3.0</td>\n      <td>0.00802</td>\n      <td>-0.005580</td>\n      <td>201001</td>\n      <td>32.76</td>\n      <td>-0.3186</td>\n      <td>...</td>\n      <td>2.069310</td>\n      <td>0.339671</td>\n      <td>16.537449</td>\n      <td>0.001924</td>\n      <td>-0.100608</td>\n      <td>-0.035316</td>\n      <td>-0.489220</td>\n      <td>-0.286190</td>\n      <td>-0.412211</td>\n      <td>0.055876</td>\n    </tr>\n    <tr>\n      <th>3</th>\n      <td>20100107</td>\n      <td>2010</td>\n      <td>-16.870000</td>\n      <td>0.058932</td>\n      <td>1.0</td>\n      <td>0.00834</td>\n      <td>-0.005263</td>\n      <td>201001</td>\n      <td>32.76</td>\n      <td>-0.3186</td>\n      <td>...</td>\n      <td>0.069310</td>\n      <td>-0.218523</td>\n      <td>16.537449</td>\n      <td>0.001754</td>\n      <td>-0.100608</td>\n      <td>-0.860132</td>\n      <td>-0.450119</td>\n      <td>-0.287520</td>\n      <td>-0.378698</td>\n      <td>0.051982</td>\n    </tr>\n    <tr>\n      <th>4</th>\n      <td>20100108</td>\n      <td>2010</td>\n      <td>-17.595926</td>\n      <td>0.319774</td>\n      <td>6.0</td>\n      <td>0.00643</td>\n      <td>-0.007174</td>\n      <td>201001</td>\n      <td>32.76</td>\n      <td>-0.3186</td>\n      <td>...</td>\n      <td>5.069310</td>\n      <td>0.042319</td>\n      <td>16.537449</td>\n      <td>0.002074</td>\n      <td>-0.100608</td>\n      <td>0.640860</td>\n      <td>-0.478187</td>\n      <td>-0.287617</td>\n      <td>-0.421506</td>\n      <td>0.049377</td>\n    </tr>\n    <tr>\n      <th>5</th>\n      <td>20100111</td>\n      <td>2010</td>\n      <td>-16.700000</td>\n      <td>0.000000</td>\n      <td>0.0</td>\n      <td>0.00875</td>\n      <td>-0.004857</td>\n      <td>201001</td>\n      <td>32.76</td>\n      <td>-0.3186</td>\n      <td>...</td>\n      <td>-0.930690</td>\n      <td>-0.277455</td>\n      <td>16.537449</td>\n      <td>0.000164</td>\n      <td>-0.100608</td>\n      <td>-1.183935</td>\n      <td>-0.387898</td>\n      <td>-0.288697</td>\n      <td>-0.327042</td>\n      <td>0.044932</td>\n    </tr>\n    <tr>\n      <th>...</th>\n      <td>...</td>\n      <td>...</td>\n      <td>...</td>\n      <td>...</td>\n      <td>...</td>\n      <td>...</td>\n      <td>...</td>\n      <td>...</td>\n      <td>...</td>\n      <td>...</td>\n      <td>...</td>\n      <td>...</td>\n      <td>...</td>\n      <td>...</td>\n      <td>...</td>\n      <td>...</td>\n      <td>...</td>\n      <td>...</td>\n      <td>...</td>\n      <td>...</td>\n      <td>...</td>\n    </tr>\n    <tr>\n      <th>2912</th>\n      <td>20211227</td>\n      <td>2021</td>\n      <td>-2.258667</td>\n      <td>0.079280</td>\n      <td>1.0</td>\n      <td>0.00675</td>\n      <td>0.001142</td>\n      <td>202112</td>\n      <td>6.95</td>\n      <td>-0.0318</td>\n      <td>...</td>\n      <td>-0.044895</td>\n      <td>-0.374305</td>\n      <td>-2.832969</td>\n      <td>0.001832</td>\n      <td>0.097983</td>\n      <td>0.390557</td>\n      <td>1.170102</td>\n      <td>1.302731</td>\n      <td>0.960139</td>\n      <td>1.050876</td>\n    </tr>\n    <tr>\n      <th>2913</th>\n      <td>20211228</td>\n      <td>2021</td>\n      <td>-2.880625</td>\n      <td>0.107463</td>\n      <td>4.0</td>\n      <td>0.00647</td>\n      <td>0.000860</td>\n      <td>202112</td>\n      <td>6.95</td>\n      <td>-0.0318</td>\n      <td>...</td>\n      <td>2.955105</td>\n      <td>-0.346122</td>\n      <td>-2.832969</td>\n      <td>0.000582</td>\n      <td>0.097983</td>\n      <td>1.186737</td>\n      <td>1.127746</td>\n      <td>1.298598</td>\n      <td>0.909492</td>\n      <td>1.046500</td>\n    </tr>\n    <tr>\n      <th>2914</th>\n      <td>20211229</td>\n      <td>2021</td>\n      <td>-2.787500</td>\n      <td>0.000000</td>\n      <td>0.0</td>\n      <td>0.00624</td>\n      <td>0.000628</td>\n      <td>202112</td>\n      <td>6.95</td>\n      <td>-0.0318</td>\n      <td>...</td>\n      <td>-1.044895</td>\n      <td>-0.453585</td>\n      <td>-2.832969</td>\n      <td>0.000302</td>\n      <td>0.097983</td>\n      <td>0.013389</td>\n      <td>1.149856</td>\n      <td>1.293518</td>\n      <td>0.934144</td>\n      <td>1.040757</td>\n    </tr>\n    <tr>\n      <th>2915</th>\n      <td>20211230</td>\n      <td>2021</td>\n      <td>-3.135625</td>\n      <td>0.259762</td>\n      <td>3.0</td>\n      <td>0.00627</td>\n      <td>0.000655</td>\n      <td>202112</td>\n      <td>6.95</td>\n      <td>-0.0318</td>\n      <td>...</td>\n      <td>1.955105</td>\n      <td>-0.193822</td>\n      <td>-2.832969</td>\n      <td>0.000072</td>\n      <td>0.097983</td>\n      <td>0.972127</td>\n      <td>1.079838</td>\n      <td>1.288670</td>\n      <td>0.852272</td>\n      <td>1.035358</td>\n    </tr>\n    <tr>\n      <th>2916</th>\n      <td>20211231</td>\n      <td>2021</td>\n      <td>0.180000</td>\n      <td>0.441176</td>\n      <td>1.0</td>\n      <td>0.00672</td>\n      <td>0.001102</td>\n      <td>202112</td>\n      <td>6.95</td>\n      <td>-0.0318</td>\n      <td>...</td>\n      <td>-0.044895</td>\n      <td>-0.012409</td>\n      <td>-2.832969</td>\n      <td>0.000102</td>\n      <td>0.097983</td>\n      <td>0.720920</td>\n      <td>1.088991</td>\n      <td>1.283711</td>\n      <td>0.862929</td>\n      <td>1.029868</td>\n    </tr>\n  </tbody>\n</table>\n<p>2916 rows × 26 columns</p>\n</div>"
     },
     "execution_count": 19,
     "metadata": {},
     "output_type": "execute_result"
    }
   ],
   "source": [
    "df_finmarket = pd.read_parquet('/home/ubuntu/notebooks/DataSets/investor_sentiment/FIN_SENT_STATA_2010_2021.parquet')\n",
    "df_finmarket"
   ],
   "metadata": {
    "collapsed": false
   }
  },
  {
   "cell_type": "markdown",
   "source": [
    "## 分析师情绪"
   ],
   "metadata": {
    "collapsed": false
   }
  },
  {
   "cell_type": "code",
   "execution_count": null,
   "outputs": [],
   "source": [],
   "metadata": {
    "collapsed": false
   }
  },
  {
   "cell_type": "code",
   "execution_count": null,
   "outputs": [],
   "source": [],
   "metadata": {
    "collapsed": false
   }
  }
 ],
 "metadata": {
  "kernelspec": {
   "name": "pytorch",
   "language": "python",
   "display_name": "Rapids"
  },
  "language_info": {
   "codemirror_mode": {
    "name": "ipython",
    "version": 2
   },
   "file_extension": ".py",
   "mimetype": "text/x-python",
   "name": "python",
   "nbconvert_exporter": "python",
   "pygments_lexer": "ipython2",
   "version": "2.7.6"
  }
 },
 "nbformat": 4,
 "nbformat_minor": 0
}
