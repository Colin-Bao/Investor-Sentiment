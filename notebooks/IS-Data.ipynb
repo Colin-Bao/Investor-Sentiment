{
 "cells": [
  {
   "cell_type": "markdown",
   "source": [
    "# 数据处理专用\n",
    "整合数据"
   ],
   "metadata": {
    "collapsed": false
   }
  },
  {
   "cell_type": "code",
   "execution_count": 1,
   "outputs": [],
   "source": [
    "import cudf\n",
    "import sys\n",
    "import pandas as pd\n",
    "\n",
    "# 自行编写的包\n",
    "sys.path.append('/home/ubuntu/notebooks/pycharm_projects/Investor-Sentiment')\n",
    "sys.path.append('/usr/local/stata17/utilities')"
   ],
   "metadata": {
    "collapsed": false
   }
  },
  {
   "cell_type": "code",
   "execution_count": 13,
   "outputs": [
    {
     "data": {
      "text/plain": "     trade_date     on     1w     2w     1m      3m      6m      9m      1y\n0      20140102  3.131  4.981  5.759  5.910  5.5657  4.9306  4.9501  4.9677\n1      20140103  3.006  4.711  5.524  6.201  5.5661  4.9389  4.9582  4.9757\n2      20140106  2.920  4.633  5.433  6.475  5.5732  4.9476  4.9660  4.9824\n3      20140107  2.875  4.259  5.074  5.925  5.5760  4.9547  4.9713  4.9869\n4      20140108  2.830  4.126  4.927  5.650  5.5821  4.9585  4.9742  4.9904\n...         ...    ...    ...    ...    ...     ...     ...     ...     ...\n2220   20221226  0.820  1.961  3.039  2.306  2.4050  2.4940  2.5500  2.6230\n2221   20221227  0.632  2.004  3.084  2.321  2.4110  2.4980  2.5540  2.6200\n2222   20221228  0.522  2.019  3.190  2.332  2.4160  2.5040  2.5580  2.6200\n2223   20221229  0.441  2.261  3.165  2.340  2.4180  2.5050  2.5610  2.6190\n2224   20221230  1.957  2.223  3.145  2.346  2.4220  2.5080  2.5650  2.6190\n\n[2225 rows x 9 columns]",
      "text/html": "<div>\n<style scoped>\n    .dataframe tbody tr th:only-of-type {\n        vertical-align: middle;\n    }\n\n    .dataframe tbody tr th {\n        vertical-align: top;\n    }\n\n    .dataframe thead th {\n        text-align: right;\n    }\n</style>\n<table border=\"1\" class=\"dataframe\">\n  <thead>\n    <tr style=\"text-align: right;\">\n      <th></th>\n      <th>trade_date</th>\n      <th>on</th>\n      <th>1w</th>\n      <th>2w</th>\n      <th>1m</th>\n      <th>3m</th>\n      <th>6m</th>\n      <th>9m</th>\n      <th>1y</th>\n    </tr>\n  </thead>\n  <tbody>\n    <tr>\n      <th>0</th>\n      <td>20140102</td>\n      <td>3.131</td>\n      <td>4.981</td>\n      <td>5.759</td>\n      <td>5.910</td>\n      <td>5.5657</td>\n      <td>4.9306</td>\n      <td>4.9501</td>\n      <td>4.9677</td>\n    </tr>\n    <tr>\n      <th>1</th>\n      <td>20140103</td>\n      <td>3.006</td>\n      <td>4.711</td>\n      <td>5.524</td>\n      <td>6.201</td>\n      <td>5.5661</td>\n      <td>4.9389</td>\n      <td>4.9582</td>\n      <td>4.9757</td>\n    </tr>\n    <tr>\n      <th>2</th>\n      <td>20140106</td>\n      <td>2.920</td>\n      <td>4.633</td>\n      <td>5.433</td>\n      <td>6.475</td>\n      <td>5.5732</td>\n      <td>4.9476</td>\n      <td>4.9660</td>\n      <td>4.9824</td>\n    </tr>\n    <tr>\n      <th>3</th>\n      <td>20140107</td>\n      <td>2.875</td>\n      <td>4.259</td>\n      <td>5.074</td>\n      <td>5.925</td>\n      <td>5.5760</td>\n      <td>4.9547</td>\n      <td>4.9713</td>\n      <td>4.9869</td>\n    </tr>\n    <tr>\n      <th>4</th>\n      <td>20140108</td>\n      <td>2.830</td>\n      <td>4.126</td>\n      <td>4.927</td>\n      <td>5.650</td>\n      <td>5.5821</td>\n      <td>4.9585</td>\n      <td>4.9742</td>\n      <td>4.9904</td>\n    </tr>\n    <tr>\n      <th>...</th>\n      <td>...</td>\n      <td>...</td>\n      <td>...</td>\n      <td>...</td>\n      <td>...</td>\n      <td>...</td>\n      <td>...</td>\n      <td>...</td>\n      <td>...</td>\n    </tr>\n    <tr>\n      <th>2220</th>\n      <td>20221226</td>\n      <td>0.820</td>\n      <td>1.961</td>\n      <td>3.039</td>\n      <td>2.306</td>\n      <td>2.4050</td>\n      <td>2.4940</td>\n      <td>2.5500</td>\n      <td>2.6230</td>\n    </tr>\n    <tr>\n      <th>2221</th>\n      <td>20221227</td>\n      <td>0.632</td>\n      <td>2.004</td>\n      <td>3.084</td>\n      <td>2.321</td>\n      <td>2.4110</td>\n      <td>2.4980</td>\n      <td>2.5540</td>\n      <td>2.6200</td>\n    </tr>\n    <tr>\n      <th>2222</th>\n      <td>20221228</td>\n      <td>0.522</td>\n      <td>2.019</td>\n      <td>3.190</td>\n      <td>2.332</td>\n      <td>2.4160</td>\n      <td>2.5040</td>\n      <td>2.5580</td>\n      <td>2.6200</td>\n    </tr>\n    <tr>\n      <th>2223</th>\n      <td>20221229</td>\n      <td>0.441</td>\n      <td>2.261</td>\n      <td>3.165</td>\n      <td>2.340</td>\n      <td>2.4180</td>\n      <td>2.5050</td>\n      <td>2.5610</td>\n      <td>2.6190</td>\n    </tr>\n    <tr>\n      <th>2224</th>\n      <td>20221230</td>\n      <td>1.957</td>\n      <td>2.223</td>\n      <td>3.145</td>\n      <td>2.346</td>\n      <td>2.4220</td>\n      <td>2.5080</td>\n      <td>2.5650</td>\n      <td>2.6190</td>\n    </tr>\n  </tbody>\n</table>\n<p>2225 rows × 9 columns</p>\n</div>"
     },
     "execution_count": 13,
     "metadata": {},
     "output_type": "execute_result"
    }
   ],
   "source": [
    "from loader.findata_loader import TuShare\n",
    "\n",
    "tu = TuShare()\n",
    "df_shibor = pd.concat(\n",
    "        [tu.PRO_API.shibor(start_date='20140101', end_date='20220101'), tu.PRO_API.shibor(start_date='20220102', end_date='20221231')])\n",
    "df_shibor = df_shibor.rename(columns={'date': 'trade_date'}).set_index('trade_date').sort_index().reset_index()\n",
    "df_shibor.to_parquet('/home/ubuntu/notebooks/DataSets/MACRO_DATA/SHIBOR_TS_2014_2022.parquet')\n",
    "df_shibor"
   ],
   "metadata": {
    "collapsed": false
   }
  },
  {
   "cell_type": "markdown",
   "source": [
    "## 分析师情绪"
   ],
   "metadata": {
    "collapsed": false
   }
  },
  {
   "cell_type": "code",
   "execution_count": 7,
   "outputs": [
    {
     "data": {
      "text/plain": "      trade_date   img_neg   tex_neg\n0       20140102  0.000000  0.000000\n1       20140103  0.000000  0.333333\n2       20140106  0.285714  0.142857\n3       20140107  0.000000  0.333333\n4       20140108  0.333333  0.000000\n...          ...       ...       ...\n2059    20220621  0.238095  0.285714\n2060    20220622  0.227273  0.227273\n2061    20220623  0.363636  0.363636\n2062    20220624  0.200000  0.300000\n2063    20220627  0.200000  0.133333\n\n[2064 rows x 3 columns]",
      "text/html": "<div>\n<style scoped>\n    .dataframe tbody tr th:only-of-type {\n        vertical-align: middle;\n    }\n\n    .dataframe tbody tr th {\n        vertical-align: top;\n    }\n\n    .dataframe thead th {\n        text-align: right;\n    }\n</style>\n<table border=\"1\" class=\"dataframe\">\n  <thead>\n    <tr style=\"text-align: right;\">\n      <th></th>\n      <th>trade_date</th>\n      <th>img_neg</th>\n      <th>tex_neg</th>\n    </tr>\n  </thead>\n  <tbody>\n    <tr>\n      <th>0</th>\n      <td>20140102</td>\n      <td>0.000000</td>\n      <td>0.000000</td>\n    </tr>\n    <tr>\n      <th>1</th>\n      <td>20140103</td>\n      <td>0.000000</td>\n      <td>0.333333</td>\n    </tr>\n    <tr>\n      <th>2</th>\n      <td>20140106</td>\n      <td>0.285714</td>\n      <td>0.142857</td>\n    </tr>\n    <tr>\n      <th>3</th>\n      <td>20140107</td>\n      <td>0.000000</td>\n      <td>0.333333</td>\n    </tr>\n    <tr>\n      <th>4</th>\n      <td>20140108</td>\n      <td>0.333333</td>\n      <td>0.000000</td>\n    </tr>\n    <tr>\n      <th>...</th>\n      <td>...</td>\n      <td>...</td>\n      <td>...</td>\n    </tr>\n    <tr>\n      <th>2059</th>\n      <td>20220621</td>\n      <td>0.238095</td>\n      <td>0.285714</td>\n    </tr>\n    <tr>\n      <th>2060</th>\n      <td>20220622</td>\n      <td>0.227273</td>\n      <td>0.227273</td>\n    </tr>\n    <tr>\n      <th>2061</th>\n      <td>20220623</td>\n      <td>0.363636</td>\n      <td>0.363636</td>\n    </tr>\n    <tr>\n      <th>2062</th>\n      <td>20220624</td>\n      <td>0.200000</td>\n      <td>0.300000</td>\n    </tr>\n    <tr>\n      <th>2063</th>\n      <td>20220627</td>\n      <td>0.200000</td>\n      <td>0.133333</td>\n    </tr>\n  </tbody>\n</table>\n<p>2064 rows × 3 columns</p>\n</div>"
     },
     "execution_count": 7,
     "metadata": {},
     "output_type": "execute_result"
    }
   ],
   "source": [
    "df_wc = cudf.read_parquet('/home/ubuntu/notebooks/DataSets/investor_sentiment/WC_SNET_NEG.parquet').rename(\n",
    "        columns={'img_neg_index': 'img_neg', 'tex_neg_index': 'tex_neg'})\n",
    "df_wc.to_parquet('/home/ubuntu/notebooks/DataSets/WC_SENT/WC_SENT_2014_2021.parquet')\n",
    "df_wc"
   ],
   "metadata": {
    "collapsed": false
   }
  },
  {
   "cell_type": "code",
   "execution_count": null,
   "outputs": [],
   "source": [],
   "metadata": {
    "collapsed": false
   }
  }
 ],
 "metadata": {
  "kernelspec": {
   "name": "pytorch",
   "language": "python",
   "display_name": "Rapids"
  },
  "language_info": {
   "codemirror_mode": {
    "name": "ipython",
    "version": 2
   },
   "file_extension": ".py",
   "mimetype": "text/x-python",
   "name": "python",
   "nbconvert_exporter": "python",
   "pygments_lexer": "ipython2",
   "version": "2.7.6"
  }
 },
 "nbformat": 4,
 "nbformat_minor": 0
}
