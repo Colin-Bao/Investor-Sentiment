{
 "cells": [
  {
   "cell_type": "markdown",
   "source": [
    "# 数据处理专用\n",
    "整合数据,包含了所有处理的数据,用于对联合分布进行探索性分析和错误排查\n",
    "000985.SH为沪深全A"
   ],
   "metadata": {
    "collapsed": false
   }
  },
  {
   "cell_type": "code",
   "execution_count": 1,
   "outputs": [
    {
     "name": "stdout",
     "output_type": "stream",
     "text": [
      "\n",
      "  ___  ____  ____  ____  ____ ®\n",
      " /__    /   ____/   /   ____/      17.0\n",
      "___/   /   /___/   /   /___/       MP—Parallel Edition\n",
      "\n",
      " Statistics and Data Science       Copyright 1985-2021 StataCorp LLC\n",
      "                                   StataCorp\n",
      "                                   4905 Lakeway Drive\n",
      "                                   College Station, Texas 77845 USA\n",
      "                                   800-STATA-PC        https://www.stata.com\n",
      "                                   979-696-4600        stata@stata.com\n",
      "\n",
      "Stata license: Single-user 8-core , expiring  1 Jan 2025\n",
      "Serial number: 501709301094\n",
      "  Licensed to: Colin's Stata 17 MP\n",
      "               Love you\n",
      "\n",
      "Notes:\n",
      "      1. Unicode is supported; see help unicode_advice.\n",
      "      2. More than 2 billion observations are allowed; see help obs_advice.\n",
      "      3. Maximum number of variables is set to 5,000; see help set_maxvar.\n"
     ]
    }
   ],
   "source": [
    "import sys\n",
    "import pandas as pd\n",
    "\n",
    "# 自行编写的包\n",
    "sys.path.append('/home/ubuntu/notebooks/pycharm_projects/Investor-Sentiment')\n",
    "sys.path.append('/usr/local/stata17/utilities')\n",
    "\n",
    "# Stata\n",
    "from pystata import config\n",
    "\n",
    "config.init('mp')"
   ],
   "metadata": {
    "collapsed": false
   }
  },
  {
   "cell_type": "markdown",
   "source": [
    "## 金融市场情绪 - 时间序列"
   ],
   "metadata": {
    "collapsed": false
   }
  },
  {
   "cell_type": "code",
   "execution_count": 2,
   "outputs": [
    {
     "data": {
      "text/plain": "      trade_date  trade_year       CEFD      RIPO  NIPO     TURN   TURN_MA  \\\n1       20100105        2010 -17.840000  0.000000   0.0  0.00819 -0.005408   \n2       20100106        2010 -17.720000  0.617127   3.0  0.00802 -0.005580   \n3       20100107        2010 -16.870000  0.058932   1.0  0.00834 -0.005263   \n4       20100108        2010 -17.595926  0.319774   6.0  0.00643 -0.007174   \n5       20100111        2010 -16.700000  0.000000   0.0  0.00875 -0.004857   \n...          ...         ...        ...       ...   ...      ...       ...   \n2912    20211227        2021  -2.258667  0.079280   1.0  0.00675  0.001142   \n2913    20211228        2021  -2.880625  0.107463   4.0  0.00647  0.000860   \n2914    20211229        2021  -2.787500  0.000000   0.0  0.00624  0.000628   \n2915    20211230        2021  -3.135625  0.259762   3.0  0.00627  0.000655   \n2916    20211231        2021   0.180000  0.441176   1.0  0.00672  0.001102   \n\n      trade_month     SR    lnPD  ...    NIPO_R    RIPO_R       SR_R  \\\n1          201001  32.76 -0.3186  ... -0.930690 -0.277455  16.537449   \n2          201001  32.76 -0.3186  ...  2.069310  0.339671  16.537449   \n3          201001  32.76 -0.3186  ...  0.069310 -0.218523  16.537449   \n4          201001  32.76 -0.3186  ...  5.069310  0.042319  16.537449   \n5          201001  32.76 -0.3186  ... -0.930690 -0.277455  16.537449   \n...           ...    ...     ...  ...       ...       ...        ...   \n2912       202112   6.95 -0.0318  ... -0.044895 -0.374305  -2.832969   \n2913       202112   6.95 -0.0318  ...  2.955105 -0.346122  -2.832969   \n2914       202112   6.95 -0.0318  ... -1.044895 -0.453585  -2.832969   \n2915       202112   6.95 -0.0318  ...  1.955105 -0.193822  -2.832969   \n2916       202112   6.95 -0.0318  ... -0.044895 -0.012409  -2.832969   \n\n      l1_TURN_R    lnPD_R  SENT_INDEX_R  SENT_INDEX_EX  SENT_INDEX_DEX  \\\n1      0.000834 -0.100608     -1.244143      -0.430662       -0.285413   \n2      0.001924 -0.100608     -0.035316      -0.489220       -0.286190   \n3      0.001754 -0.100608     -0.860132      -0.450119       -0.287520   \n4      0.002074 -0.100608      0.640860      -0.478187       -0.287617   \n5      0.000164 -0.100608     -1.183935      -0.387898       -0.288697   \n...         ...       ...           ...            ...             ...   \n2912   0.001832  0.097983      0.390557       1.170102        1.302731   \n2913   0.000582  0.097983      1.186737       1.127746        1.298598   \n2914   0.000302  0.097983      0.013389       1.149856        1.293518   \n2915   0.000072  0.097983      0.972127       1.079838        1.288670   \n2916   0.000102  0.097983      0.720920       1.088991        1.283711   \n\n      SENT_INDEX_R_EX  SENT_INDEX_R_DEX  \n1           -0.331016          0.058454  \n2           -0.412211          0.055876  \n3           -0.378698          0.051982  \n4           -0.421506          0.049377  \n5           -0.327042          0.044932  \n...               ...               ...  \n2912         0.960139          1.050876  \n2913         0.909492          1.046500  \n2914         0.934144          1.040757  \n2915         0.852272          1.035358  \n2916         0.862929          1.029868  \n\n[2916 rows x 26 columns]",
      "text/html": "<div>\n<style scoped>\n    .dataframe tbody tr th:only-of-type {\n        vertical-align: middle;\n    }\n\n    .dataframe tbody tr th {\n        vertical-align: top;\n    }\n\n    .dataframe thead th {\n        text-align: right;\n    }\n</style>\n<table border=\"1\" class=\"dataframe\">\n  <thead>\n    <tr style=\"text-align: right;\">\n      <th></th>\n      <th>trade_date</th>\n      <th>trade_year</th>\n      <th>CEFD</th>\n      <th>RIPO</th>\n      <th>NIPO</th>\n      <th>TURN</th>\n      <th>TURN_MA</th>\n      <th>trade_month</th>\n      <th>SR</th>\n      <th>lnPD</th>\n      <th>...</th>\n      <th>NIPO_R</th>\n      <th>RIPO_R</th>\n      <th>SR_R</th>\n      <th>l1_TURN_R</th>\n      <th>lnPD_R</th>\n      <th>SENT_INDEX_R</th>\n      <th>SENT_INDEX_EX</th>\n      <th>SENT_INDEX_DEX</th>\n      <th>SENT_INDEX_R_EX</th>\n      <th>SENT_INDEX_R_DEX</th>\n    </tr>\n  </thead>\n  <tbody>\n    <tr>\n      <th>1</th>\n      <td>20100105</td>\n      <td>2010</td>\n      <td>-17.840000</td>\n      <td>0.000000</td>\n      <td>0.0</td>\n      <td>0.00819</td>\n      <td>-0.005408</td>\n      <td>201001</td>\n      <td>32.76</td>\n      <td>-0.3186</td>\n      <td>...</td>\n      <td>-0.930690</td>\n      <td>-0.277455</td>\n      <td>16.537449</td>\n      <td>0.000834</td>\n      <td>-0.100608</td>\n      <td>-1.244143</td>\n      <td>-0.430662</td>\n      <td>-0.285413</td>\n      <td>-0.331016</td>\n      <td>0.058454</td>\n    </tr>\n    <tr>\n      <th>2</th>\n      <td>20100106</td>\n      <td>2010</td>\n      <td>-17.720000</td>\n      <td>0.617127</td>\n      <td>3.0</td>\n      <td>0.00802</td>\n      <td>-0.005580</td>\n      <td>201001</td>\n      <td>32.76</td>\n      <td>-0.3186</td>\n      <td>...</td>\n      <td>2.069310</td>\n      <td>0.339671</td>\n      <td>16.537449</td>\n      <td>0.001924</td>\n      <td>-0.100608</td>\n      <td>-0.035316</td>\n      <td>-0.489220</td>\n      <td>-0.286190</td>\n      <td>-0.412211</td>\n      <td>0.055876</td>\n    </tr>\n    <tr>\n      <th>3</th>\n      <td>20100107</td>\n      <td>2010</td>\n      <td>-16.870000</td>\n      <td>0.058932</td>\n      <td>1.0</td>\n      <td>0.00834</td>\n      <td>-0.005263</td>\n      <td>201001</td>\n      <td>32.76</td>\n      <td>-0.3186</td>\n      <td>...</td>\n      <td>0.069310</td>\n      <td>-0.218523</td>\n      <td>16.537449</td>\n      <td>0.001754</td>\n      <td>-0.100608</td>\n      <td>-0.860132</td>\n      <td>-0.450119</td>\n      <td>-0.287520</td>\n      <td>-0.378698</td>\n      <td>0.051982</td>\n    </tr>\n    <tr>\n      <th>4</th>\n      <td>20100108</td>\n      <td>2010</td>\n      <td>-17.595926</td>\n      <td>0.319774</td>\n      <td>6.0</td>\n      <td>0.00643</td>\n      <td>-0.007174</td>\n      <td>201001</td>\n      <td>32.76</td>\n      <td>-0.3186</td>\n      <td>...</td>\n      <td>5.069310</td>\n      <td>0.042319</td>\n      <td>16.537449</td>\n      <td>0.002074</td>\n      <td>-0.100608</td>\n      <td>0.640860</td>\n      <td>-0.478187</td>\n      <td>-0.287617</td>\n      <td>-0.421506</td>\n      <td>0.049377</td>\n    </tr>\n    <tr>\n      <th>5</th>\n      <td>20100111</td>\n      <td>2010</td>\n      <td>-16.700000</td>\n      <td>0.000000</td>\n      <td>0.0</td>\n      <td>0.00875</td>\n      <td>-0.004857</td>\n      <td>201001</td>\n      <td>32.76</td>\n      <td>-0.3186</td>\n      <td>...</td>\n      <td>-0.930690</td>\n      <td>-0.277455</td>\n      <td>16.537449</td>\n      <td>0.000164</td>\n      <td>-0.100608</td>\n      <td>-1.183935</td>\n      <td>-0.387898</td>\n      <td>-0.288697</td>\n      <td>-0.327042</td>\n      <td>0.044932</td>\n    </tr>\n    <tr>\n      <th>...</th>\n      <td>...</td>\n      <td>...</td>\n      <td>...</td>\n      <td>...</td>\n      <td>...</td>\n      <td>...</td>\n      <td>...</td>\n      <td>...</td>\n      <td>...</td>\n      <td>...</td>\n      <td>...</td>\n      <td>...</td>\n      <td>...</td>\n      <td>...</td>\n      <td>...</td>\n      <td>...</td>\n      <td>...</td>\n      <td>...</td>\n      <td>...</td>\n      <td>...</td>\n      <td>...</td>\n    </tr>\n    <tr>\n      <th>2912</th>\n      <td>20211227</td>\n      <td>2021</td>\n      <td>-2.258667</td>\n      <td>0.079280</td>\n      <td>1.0</td>\n      <td>0.00675</td>\n      <td>0.001142</td>\n      <td>202112</td>\n      <td>6.95</td>\n      <td>-0.0318</td>\n      <td>...</td>\n      <td>-0.044895</td>\n      <td>-0.374305</td>\n      <td>-2.832969</td>\n      <td>0.001832</td>\n      <td>0.097983</td>\n      <td>0.390557</td>\n      <td>1.170102</td>\n      <td>1.302731</td>\n      <td>0.960139</td>\n      <td>1.050876</td>\n    </tr>\n    <tr>\n      <th>2913</th>\n      <td>20211228</td>\n      <td>2021</td>\n      <td>-2.880625</td>\n      <td>0.107463</td>\n      <td>4.0</td>\n      <td>0.00647</td>\n      <td>0.000860</td>\n      <td>202112</td>\n      <td>6.95</td>\n      <td>-0.0318</td>\n      <td>...</td>\n      <td>2.955105</td>\n      <td>-0.346122</td>\n      <td>-2.832969</td>\n      <td>0.000582</td>\n      <td>0.097983</td>\n      <td>1.186737</td>\n      <td>1.127746</td>\n      <td>1.298598</td>\n      <td>0.909492</td>\n      <td>1.046500</td>\n    </tr>\n    <tr>\n      <th>2914</th>\n      <td>20211229</td>\n      <td>2021</td>\n      <td>-2.787500</td>\n      <td>0.000000</td>\n      <td>0.0</td>\n      <td>0.00624</td>\n      <td>0.000628</td>\n      <td>202112</td>\n      <td>6.95</td>\n      <td>-0.0318</td>\n      <td>...</td>\n      <td>-1.044895</td>\n      <td>-0.453585</td>\n      <td>-2.832969</td>\n      <td>0.000302</td>\n      <td>0.097983</td>\n      <td>0.013389</td>\n      <td>1.149856</td>\n      <td>1.293518</td>\n      <td>0.934144</td>\n      <td>1.040757</td>\n    </tr>\n    <tr>\n      <th>2915</th>\n      <td>20211230</td>\n      <td>2021</td>\n      <td>-3.135625</td>\n      <td>0.259762</td>\n      <td>3.0</td>\n      <td>0.00627</td>\n      <td>0.000655</td>\n      <td>202112</td>\n      <td>6.95</td>\n      <td>-0.0318</td>\n      <td>...</td>\n      <td>1.955105</td>\n      <td>-0.193822</td>\n      <td>-2.832969</td>\n      <td>0.000072</td>\n      <td>0.097983</td>\n      <td>0.972127</td>\n      <td>1.079838</td>\n      <td>1.288670</td>\n      <td>0.852272</td>\n      <td>1.035358</td>\n    </tr>\n    <tr>\n      <th>2916</th>\n      <td>20211231</td>\n      <td>2021</td>\n      <td>0.180000</td>\n      <td>0.441176</td>\n      <td>1.0</td>\n      <td>0.00672</td>\n      <td>0.001102</td>\n      <td>202112</td>\n      <td>6.95</td>\n      <td>-0.0318</td>\n      <td>...</td>\n      <td>-0.044895</td>\n      <td>-0.012409</td>\n      <td>-2.832969</td>\n      <td>0.000102</td>\n      <td>0.097983</td>\n      <td>0.720920</td>\n      <td>1.088991</td>\n      <td>1.283711</td>\n      <td>0.862929</td>\n      <td>1.029868</td>\n    </tr>\n  </tbody>\n</table>\n<p>2916 rows × 26 columns</p>\n</div>"
     },
     "execution_count": 2,
     "metadata": {},
     "output_type": "execute_result"
    }
   ],
   "source": [
    "df_finmarket = pd.read_parquet('/home/ubuntu/notebooks/DataSets/investor_sentiment/FIN_SENT_STATA_2010_2021.parquet')\n",
    "df_finmarket"
   ],
   "metadata": {
    "collapsed": false
   }
  },
  {
   "cell_type": "markdown",
   "source": [
    "## 分析师情绪 - 面板"
   ],
   "metadata": {
    "collapsed": false
   }
  },
  {
   "cell_type": "code",
   "execution_count": 3,
   "outputs": [
    {
     "data": {
      "text/plain": "       trade_date    ts_code  CON_YEAR        CON_OR        CON_NP  CON_EPS  \\\n0        20140102  000010.SH      2014  1.229380e+09  20139.051805   0.8059   \n1        20140102  000015.SH      2014  5.889377e+08  15328.983195   0.8057   \n2        20140102  000016.SH      2014  8.063073e+08  13294.314326   0.8620   \n3        20140102  000300.SH      2014  1.553438e+09  22802.196329   0.7898   \n4        20140102  000903.SH      2014  1.219844e+09  20305.917391   0.8299   \n...           ...        ...       ...           ...           ...      ...   \n23560    20221028  000906.SH      2022  5.610430e+09  51796.277367   0.9641   \n23561    20221028  000985.SH      2022  7.224144e+09  58403.840993   0.7555   \n23562    20221028  399005.SZ      2022  3.308684e+08   3156.638702   0.9635   \n23563    20221028  399006.SZ      2022  1.580034e+08   1800.383211   1.3799   \n23564    20221028  399310.SZ      2022  1.525638e+09  15430.058098   1.3643   \n\n             CON_NA  CON_PB  CON_PS   CON_PE  ...   close_l1  close_chg  \\\n0      1.356969e+09  1.0078  0.7662   6.7909  ...  5040.2700  -0.599174   \n1      9.912300e+08  0.8505  0.8438   5.4999  ...  1681.4600  -0.397274   \n2      8.877149e+08  0.9876  0.7290   6.5949  ...  1574.7800  -0.868693   \n3      1.569081e+09  1.0997  0.7828   7.5674  ...  2330.0300  -0.345489   \n4      1.353838e+09  0.9884  0.7627   6.5896  ...  2155.2300  -0.593904   \n...             ...     ...     ...      ...  ...        ...        ...   \n23560  4.774941e+09  1.1471  0.9763  10.5749  ...  4024.5400  -2.622412   \n23561  5.825681e+09  1.3191  1.0637  13.1574  ...  4640.7167  -2.964490   \n23562  2.227230e+08  2.8926  1.9471  20.4090  ...  7293.5300  -3.140318   \n23563  1.220097e+08  4.4799  3.4594  30.3598  ...  2337.2500  -3.711199   \n23564  1.151031e+09  1.4075  1.0619  10.4997  ...  5682.8900  -2.940229   \n\n       img_neg  tex_neg  riskfree_return  opt_profit_yoy     opt_pe  \\\n0          0.0      0.0         0.015460      106.321095 -36.175752   \n1          0.0      0.0         0.015460       19.072326 -30.115629   \n2          0.0      0.0         0.015460      131.053412 -32.636364   \n3          0.0      0.0         0.015460       76.005909 -36.833055   \n4          0.0      0.0         0.015460       80.367172 -35.141732   \n...        ...      ...              ...             ...        ...   \n23560      NaN      NaN         0.004842      203.012356 -18.087529   \n23561      NaN      NaN         0.004842      241.903541 -22.694477   \n23562      NaN      NaN         0.004842       83.540859 -23.129944   \n23563      NaN      NaN         0.004842     8845.061854 -24.327517   \n23564      NaN      NaN         0.004842      202.048409 -17.063981   \n\n       opt_profit    time  close_chg_s  \n0        6.534466     1.0     0.359010  \n1        4.676568     1.0     0.157826  \n2        6.312925     1.0     0.754627  \n3        7.697893     1.0     0.119363  \n4        6.049136     1.0     0.352722  \n...           ...     ...          ...  \n23560   40.330525  2146.0     6.877042  \n23561   36.381384  2141.0     8.788203  \n23562   50.151677  2144.0     9.861594  \n23563   52.148060  2144.0    13.772998  \n23564   35.863497  2114.0     8.644949  \n\n[23565 rows x 46 columns]",
      "text/html": "<div>\n<style scoped>\n    .dataframe tbody tr th:only-of-type {\n        vertical-align: middle;\n    }\n\n    .dataframe tbody tr th {\n        vertical-align: top;\n    }\n\n    .dataframe thead th {\n        text-align: right;\n    }\n</style>\n<table border=\"1\" class=\"dataframe\">\n  <thead>\n    <tr style=\"text-align: right;\">\n      <th></th>\n      <th>trade_date</th>\n      <th>ts_code</th>\n      <th>CON_YEAR</th>\n      <th>CON_OR</th>\n      <th>CON_NP</th>\n      <th>CON_EPS</th>\n      <th>CON_NA</th>\n      <th>CON_PB</th>\n      <th>CON_PS</th>\n      <th>CON_PE</th>\n      <th>...</th>\n      <th>close_l1</th>\n      <th>close_chg</th>\n      <th>img_neg</th>\n      <th>tex_neg</th>\n      <th>riskfree_return</th>\n      <th>opt_profit_yoy</th>\n      <th>opt_pe</th>\n      <th>opt_profit</th>\n      <th>time</th>\n      <th>close_chg_s</th>\n    </tr>\n  </thead>\n  <tbody>\n    <tr>\n      <th>0</th>\n      <td>20140102</td>\n      <td>000010.SH</td>\n      <td>2014</td>\n      <td>1.229380e+09</td>\n      <td>20139.051805</td>\n      <td>0.8059</td>\n      <td>1.356969e+09</td>\n      <td>1.0078</td>\n      <td>0.7662</td>\n      <td>6.7909</td>\n      <td>...</td>\n      <td>5040.2700</td>\n      <td>-0.599174</td>\n      <td>0.0</td>\n      <td>0.0</td>\n      <td>0.015460</td>\n      <td>106.321095</td>\n      <td>-36.175752</td>\n      <td>6.534466</td>\n      <td>1.0</td>\n      <td>0.359010</td>\n    </tr>\n    <tr>\n      <th>1</th>\n      <td>20140102</td>\n      <td>000015.SH</td>\n      <td>2014</td>\n      <td>5.889377e+08</td>\n      <td>15328.983195</td>\n      <td>0.8057</td>\n      <td>9.912300e+08</td>\n      <td>0.8505</td>\n      <td>0.8438</td>\n      <td>5.4999</td>\n      <td>...</td>\n      <td>1681.4600</td>\n      <td>-0.397274</td>\n      <td>0.0</td>\n      <td>0.0</td>\n      <td>0.015460</td>\n      <td>19.072326</td>\n      <td>-30.115629</td>\n      <td>4.676568</td>\n      <td>1.0</td>\n      <td>0.157826</td>\n    </tr>\n    <tr>\n      <th>2</th>\n      <td>20140102</td>\n      <td>000016.SH</td>\n      <td>2014</td>\n      <td>8.063073e+08</td>\n      <td>13294.314326</td>\n      <td>0.8620</td>\n      <td>8.877149e+08</td>\n      <td>0.9876</td>\n      <td>0.7290</td>\n      <td>6.5949</td>\n      <td>...</td>\n      <td>1574.7800</td>\n      <td>-0.868693</td>\n      <td>0.0</td>\n      <td>0.0</td>\n      <td>0.015460</td>\n      <td>131.053412</td>\n      <td>-32.636364</td>\n      <td>6.312925</td>\n      <td>1.0</td>\n      <td>0.754627</td>\n    </tr>\n    <tr>\n      <th>3</th>\n      <td>20140102</td>\n      <td>000300.SH</td>\n      <td>2014</td>\n      <td>1.553438e+09</td>\n      <td>22802.196329</td>\n      <td>0.7898</td>\n      <td>1.569081e+09</td>\n      <td>1.0997</td>\n      <td>0.7828</td>\n      <td>7.5674</td>\n      <td>...</td>\n      <td>2330.0300</td>\n      <td>-0.345489</td>\n      <td>0.0</td>\n      <td>0.0</td>\n      <td>0.015460</td>\n      <td>76.005909</td>\n      <td>-36.833055</td>\n      <td>7.697893</td>\n      <td>1.0</td>\n      <td>0.119363</td>\n    </tr>\n    <tr>\n      <th>4</th>\n      <td>20140102</td>\n      <td>000903.SH</td>\n      <td>2014</td>\n      <td>1.219844e+09</td>\n      <td>20305.917391</td>\n      <td>0.8299</td>\n      <td>1.353838e+09</td>\n      <td>0.9884</td>\n      <td>0.7627</td>\n      <td>6.5896</td>\n      <td>...</td>\n      <td>2155.2300</td>\n      <td>-0.593904</td>\n      <td>0.0</td>\n      <td>0.0</td>\n      <td>0.015460</td>\n      <td>80.367172</td>\n      <td>-35.141732</td>\n      <td>6.049136</td>\n      <td>1.0</td>\n      <td>0.352722</td>\n    </tr>\n    <tr>\n      <th>...</th>\n      <td>...</td>\n      <td>...</td>\n      <td>...</td>\n      <td>...</td>\n      <td>...</td>\n      <td>...</td>\n      <td>...</td>\n      <td>...</td>\n      <td>...</td>\n      <td>...</td>\n      <td>...</td>\n      <td>...</td>\n      <td>...</td>\n      <td>...</td>\n      <td>...</td>\n      <td>...</td>\n      <td>...</td>\n      <td>...</td>\n      <td>...</td>\n      <td>...</td>\n      <td>...</td>\n    </tr>\n    <tr>\n      <th>23560</th>\n      <td>20221028</td>\n      <td>000906.SH</td>\n      <td>2022</td>\n      <td>5.610430e+09</td>\n      <td>51796.277367</td>\n      <td>0.9641</td>\n      <td>4.774941e+09</td>\n      <td>1.1471</td>\n      <td>0.9763</td>\n      <td>10.5749</td>\n      <td>...</td>\n      <td>4024.5400</td>\n      <td>-2.622412</td>\n      <td>NaN</td>\n      <td>NaN</td>\n      <td>0.004842</td>\n      <td>203.012356</td>\n      <td>-18.087529</td>\n      <td>40.330525</td>\n      <td>2146.0</td>\n      <td>6.877042</td>\n    </tr>\n    <tr>\n      <th>23561</th>\n      <td>20221028</td>\n      <td>000985.SH</td>\n      <td>2022</td>\n      <td>7.224144e+09</td>\n      <td>58403.840993</td>\n      <td>0.7555</td>\n      <td>5.825681e+09</td>\n      <td>1.3191</td>\n      <td>1.0637</td>\n      <td>13.1574</td>\n      <td>...</td>\n      <td>4640.7167</td>\n      <td>-2.964490</td>\n      <td>NaN</td>\n      <td>NaN</td>\n      <td>0.004842</td>\n      <td>241.903541</td>\n      <td>-22.694477</td>\n      <td>36.381384</td>\n      <td>2141.0</td>\n      <td>8.788203</td>\n    </tr>\n    <tr>\n      <th>23562</th>\n      <td>20221028</td>\n      <td>399005.SZ</td>\n      <td>2022</td>\n      <td>3.308684e+08</td>\n      <td>3156.638702</td>\n      <td>0.9635</td>\n      <td>2.227230e+08</td>\n      <td>2.8926</td>\n      <td>1.9471</td>\n      <td>20.4090</td>\n      <td>...</td>\n      <td>7293.5300</td>\n      <td>-3.140318</td>\n      <td>NaN</td>\n      <td>NaN</td>\n      <td>0.004842</td>\n      <td>83.540859</td>\n      <td>-23.129944</td>\n      <td>50.151677</td>\n      <td>2144.0</td>\n      <td>9.861594</td>\n    </tr>\n    <tr>\n      <th>23563</th>\n      <td>20221028</td>\n      <td>399006.SZ</td>\n      <td>2022</td>\n      <td>1.580034e+08</td>\n      <td>1800.383211</td>\n      <td>1.3799</td>\n      <td>1.220097e+08</td>\n      <td>4.4799</td>\n      <td>3.4594</td>\n      <td>30.3598</td>\n      <td>...</td>\n      <td>2337.2500</td>\n      <td>-3.711199</td>\n      <td>NaN</td>\n      <td>NaN</td>\n      <td>0.004842</td>\n      <td>8845.061854</td>\n      <td>-24.327517</td>\n      <td>52.148060</td>\n      <td>2144.0</td>\n      <td>13.772998</td>\n    </tr>\n    <tr>\n      <th>23564</th>\n      <td>20221028</td>\n      <td>399310.SZ</td>\n      <td>2022</td>\n      <td>1.525638e+09</td>\n      <td>15430.058098</td>\n      <td>1.3643</td>\n      <td>1.151031e+09</td>\n      <td>1.4075</td>\n      <td>1.0619</td>\n      <td>10.4997</td>\n      <td>...</td>\n      <td>5682.8900</td>\n      <td>-2.940229</td>\n      <td>NaN</td>\n      <td>NaN</td>\n      <td>0.004842</td>\n      <td>202.048409</td>\n      <td>-17.063981</td>\n      <td>35.863497</td>\n      <td>2114.0</td>\n      <td>8.644949</td>\n    </tr>\n  </tbody>\n</table>\n<p>23565 rows × 46 columns</p>\n</div>"
     },
     "execution_count": 3,
     "metadata": {},
     "output_type": "execute_result"
    }
   ],
   "source": [
    "df_analyst = pd.read_parquet('/home/ubuntu/notebooks/DataSets/investor_sentiment/ANALYST_SENT_STATA_2014_2021.parquet').astype(\n",
    "        dtype={'trade_date': 'uint32'})\n",
    "df_analyst"
   ],
   "metadata": {
    "collapsed": false
   }
  },
  {
   "cell_type": "markdown",
   "source": [
    "## 投资者情绪 - 时间序列"
   ],
   "metadata": {
    "collapsed": false
   }
  },
  {
   "cell_type": "code",
   "execution_count": 4,
   "outputs": [
    {
     "data": {
      "text/plain": "              IndexA    IndexB     Posts     Readings   Comments   ThumbUps  \\\ntrade_date                                                                    \n20140102         NaN  0.000000       0.0         <NA>       <NA>       <NA>   \n20140103    0.000000  0.000000       2.0     107379.0      342.0        2.0   \n20140106    0.000000  0.000000       2.0      22652.0       47.0        0.0   \n20140107         NaN  0.000000       0.0         <NA>       <NA>       <NA>   \n20140108         NaN  0.000000       0.0         <NA>       <NA>       <NA>   \n...              ...       ...       ...          ...        ...        ...   \n20211012   -0.229368 -0.467035  120497.0  26442508.27   273224.2  172338.87   \n20211013   -0.226023 -0.459981  123178.0  27651587.71  288526.17  177561.46   \n20211014   -0.188129 -0.380788  135718.0  30212375.19  303991.93  188185.02   \n20211015   -0.268408 -0.550281   96804.0  19564087.44  218796.43  121423.77   \n20211018         NaN  0.000000       0.0         <NA>       <NA>       <NA>   \n\n            PosPosts  NeuPosts  NegPosts  PosRatio  NeuRatio  NegRatio  \ntrade_date                                                              \n20140102         0.0       0.0       0.0       NaN       NaN       NaN  \n20140103         1.0       0.0       1.0  0.500000  0.000000  0.500000  \n20140106         1.0       0.0       1.0  0.500000  0.000000  0.500000  \n20140107         0.0       0.0       0.0       NaN       NaN       NaN  \n20140108         0.0       0.0       0.0       NaN       NaN       NaN  \n...              ...       ...       ...       ...       ...       ...  \n20211012     42169.0   11057.0   67271.0  0.349959  0.091762  0.558279  \n20211013     43256.0   11402.0   68520.0  0.351167  0.092565  0.556268  \n20211014     50036.0   12457.0   73225.0  0.368676  0.091786  0.539538  \n20211015     32133.0    8960.0   55711.0  0.331939  0.092558  0.575503  \n20211018         0.0       0.0       0.0       NaN       NaN       NaN  \n\n[1896 rows x 12 columns]",
      "text/html": "<div>\n<style scoped>\n    .dataframe tbody tr th:only-of-type {\n        vertical-align: middle;\n    }\n\n    .dataframe tbody tr th {\n        vertical-align: top;\n    }\n\n    .dataframe thead th {\n        text-align: right;\n    }\n</style>\n<table border=\"1\" class=\"dataframe\">\n  <thead>\n    <tr style=\"text-align: right;\">\n      <th></th>\n      <th>IndexA</th>\n      <th>IndexB</th>\n      <th>Posts</th>\n      <th>Readings</th>\n      <th>Comments</th>\n      <th>ThumbUps</th>\n      <th>PosPosts</th>\n      <th>NeuPosts</th>\n      <th>NegPosts</th>\n      <th>PosRatio</th>\n      <th>NeuRatio</th>\n      <th>NegRatio</th>\n    </tr>\n    <tr>\n      <th>trade_date</th>\n      <th></th>\n      <th></th>\n      <th></th>\n      <th></th>\n      <th></th>\n      <th></th>\n      <th></th>\n      <th></th>\n      <th></th>\n      <th></th>\n      <th></th>\n      <th></th>\n    </tr>\n  </thead>\n  <tbody>\n    <tr>\n      <th>20140102</th>\n      <td>NaN</td>\n      <td>0.000000</td>\n      <td>0.0</td>\n      <td>&lt;NA&gt;</td>\n      <td>&lt;NA&gt;</td>\n      <td>&lt;NA&gt;</td>\n      <td>0.0</td>\n      <td>0.0</td>\n      <td>0.0</td>\n      <td>NaN</td>\n      <td>NaN</td>\n      <td>NaN</td>\n    </tr>\n    <tr>\n      <th>20140103</th>\n      <td>0.000000</td>\n      <td>0.000000</td>\n      <td>2.0</td>\n      <td>107379.0</td>\n      <td>342.0</td>\n      <td>2.0</td>\n      <td>1.0</td>\n      <td>0.0</td>\n      <td>1.0</td>\n      <td>0.500000</td>\n      <td>0.000000</td>\n      <td>0.500000</td>\n    </tr>\n    <tr>\n      <th>20140106</th>\n      <td>0.000000</td>\n      <td>0.000000</td>\n      <td>2.0</td>\n      <td>22652.0</td>\n      <td>47.0</td>\n      <td>0.0</td>\n      <td>1.0</td>\n      <td>0.0</td>\n      <td>1.0</td>\n      <td>0.500000</td>\n      <td>0.000000</td>\n      <td>0.500000</td>\n    </tr>\n    <tr>\n      <th>20140107</th>\n      <td>NaN</td>\n      <td>0.000000</td>\n      <td>0.0</td>\n      <td>&lt;NA&gt;</td>\n      <td>&lt;NA&gt;</td>\n      <td>&lt;NA&gt;</td>\n      <td>0.0</td>\n      <td>0.0</td>\n      <td>0.0</td>\n      <td>NaN</td>\n      <td>NaN</td>\n      <td>NaN</td>\n    </tr>\n    <tr>\n      <th>20140108</th>\n      <td>NaN</td>\n      <td>0.000000</td>\n      <td>0.0</td>\n      <td>&lt;NA&gt;</td>\n      <td>&lt;NA&gt;</td>\n      <td>&lt;NA&gt;</td>\n      <td>0.0</td>\n      <td>0.0</td>\n      <td>0.0</td>\n      <td>NaN</td>\n      <td>NaN</td>\n      <td>NaN</td>\n    </tr>\n    <tr>\n      <th>...</th>\n      <td>...</td>\n      <td>...</td>\n      <td>...</td>\n      <td>...</td>\n      <td>...</td>\n      <td>...</td>\n      <td>...</td>\n      <td>...</td>\n      <td>...</td>\n      <td>...</td>\n      <td>...</td>\n      <td>...</td>\n    </tr>\n    <tr>\n      <th>20211012</th>\n      <td>-0.229368</td>\n      <td>-0.467035</td>\n      <td>120497.0</td>\n      <td>26442508.27</td>\n      <td>273224.2</td>\n      <td>172338.87</td>\n      <td>42169.0</td>\n      <td>11057.0</td>\n      <td>67271.0</td>\n      <td>0.349959</td>\n      <td>0.091762</td>\n      <td>0.558279</td>\n    </tr>\n    <tr>\n      <th>20211013</th>\n      <td>-0.226023</td>\n      <td>-0.459981</td>\n      <td>123178.0</td>\n      <td>27651587.71</td>\n      <td>288526.17</td>\n      <td>177561.46</td>\n      <td>43256.0</td>\n      <td>11402.0</td>\n      <td>68520.0</td>\n      <td>0.351167</td>\n      <td>0.092565</td>\n      <td>0.556268</td>\n    </tr>\n    <tr>\n      <th>20211014</th>\n      <td>-0.188129</td>\n      <td>-0.380788</td>\n      <td>135718.0</td>\n      <td>30212375.19</td>\n      <td>303991.93</td>\n      <td>188185.02</td>\n      <td>50036.0</td>\n      <td>12457.0</td>\n      <td>73225.0</td>\n      <td>0.368676</td>\n      <td>0.091786</td>\n      <td>0.539538</td>\n    </tr>\n    <tr>\n      <th>20211015</th>\n      <td>-0.268408</td>\n      <td>-0.550281</td>\n      <td>96804.0</td>\n      <td>19564087.44</td>\n      <td>218796.43</td>\n      <td>121423.77</td>\n      <td>32133.0</td>\n      <td>8960.0</td>\n      <td>55711.0</td>\n      <td>0.331939</td>\n      <td>0.092558</td>\n      <td>0.575503</td>\n    </tr>\n    <tr>\n      <th>20211018</th>\n      <td>NaN</td>\n      <td>0.000000</td>\n      <td>0.0</td>\n      <td>&lt;NA&gt;</td>\n      <td>&lt;NA&gt;</td>\n      <td>&lt;NA&gt;</td>\n      <td>0.0</td>\n      <td>0.0</td>\n      <td>0.0</td>\n      <td>NaN</td>\n      <td>NaN</td>\n      <td>NaN</td>\n    </tr>\n  </tbody>\n</table>\n<p>1896 rows × 12 columns</p>\n</div>"
     },
     "execution_count": 4,
     "metadata": {},
     "output_type": "execute_result"
    }
   ],
   "source": [
    "df_forum_tdate = pd.read_parquet('/home/ubuntu/notebooks/DataSets/investor_sentiment/FORUM_SENT_TDATE_CSMAR.parquet')\n",
    "df_forum_tdate"
   ],
   "metadata": {
    "collapsed": false
   }
  },
  {
   "cell_type": "markdown",
   "source": [
    "## 媒体情绪 - 时间序列"
   ],
   "metadata": {
    "collapsed": false
   }
  },
  {
   "cell_type": "markdown",
   "source": [
    "## 构建合并的数据"
   ],
   "metadata": {
    "collapsed": false
   }
  },
  {
   "cell_type": "code",
   "execution_count": 5,
   "outputs": [
    {
     "data": {
      "text/plain": "      trade_date    ts_code  CON_YEAR        CON_OR        CON_NP  CON_EPS  \\\n7       20140102  000985.SH      2014  3.034892e+09  27421.678403   0.6857   \n18      20140103  000985.SH      2014  3.033876e+09  27421.601209   0.6857   \n29      20140106  000985.SH      2014  3.033345e+09  27412.012060   0.6854   \n40      20140107  000985.SH      2014  3.028546e+09  27384.608096   0.6846   \n51      20140108  000985.SH      2014  3.028892e+09  27355.547003   0.6838   \n...          ...        ...       ...           ...           ...      ...   \n21350   20211227  000985.SH      2021  6.389869e+09  53799.927579   0.7131   \n21361   20211228  000985.SH      2021  6.391559e+09  53788.880275   0.7129   \n21372   20211229  000985.SH      2021  6.389955e+09  53725.674838   0.7120   \n21383   20211230  000985.SH      2021  6.390729e+09  53695.625032   0.7116   \n21394   20211231  000985.SH      2021  6.389440e+09  53655.694957   0.7111   \n\n             CON_NA  CON_PB  CON_PS   CON_PE  ...    NIPO_R    RIPO_R  \\\n7      2.017385e+09  1.3334  0.8863   9.8095  ... -0.993200 -0.429099   \n18     2.017584e+09  1.3213  0.8787   9.7214  ... -0.993200 -0.429099   \n29     2.027389e+09  1.2895  0.8619   9.5373  ... -0.993200 -0.429099   \n40     2.027386e+09  1.2917  0.8647   9.5629  ... -0.993200 -0.429099   \n51     2.028490e+09  1.2935  0.8663   9.5920  ... -0.993200 -0.429099   \n...             ...     ...     ...      ...  ...       ...       ...   \n21350  5.236956e+09  1.7835  1.4617  17.3613  ... -0.044895 -0.374305   \n21361  5.237495e+09  1.7933  1.4695  17.4615  ...  2.955105 -0.346122   \n21372  5.237052e+09  1.7779  1.4571  17.3305  ... -1.044895 -0.453585   \n21383  5.236812e+09  1.7905  1.4672  17.4624  ...  1.955105 -0.193822   \n21394  5.237010e+09  1.7997  1.4751  17.5661  ... -0.044895 -0.012409   \n\n            SR_R  l1_TURN_R    lnPD_R  SENT_INDEX_R  SENT_INDEX_EX  \\\n7      15.745780  -0.003943 -0.208500     -1.191905      -0.571980   \n18     15.745780  -0.004333 -0.208500     -1.182604      -0.598652   \n29     15.745780  -0.003813 -0.208500     -1.175354      -0.623006   \n40     15.745780  -0.003643 -0.208500     -1.172984      -0.644795   \n51     15.745780  -0.004513 -0.208500     -1.185114      -0.664723   \n...          ...        ...       ...           ...            ...   \n21350  -2.832969   0.001832  0.097983      0.390557       1.170102   \n21361  -2.832969   0.000582  0.097983      1.186737       1.127746   \n21372  -2.832969   0.000302  0.097983      0.013389       1.149856   \n21383  -2.832969   0.000072  0.097983      0.972127       1.079838   \n21394  -2.832969   0.000102  0.097983      0.720920       1.088991   \n\n       SENT_INDEX_DEX  SENT_INDEX_R_EX  SENT_INDEX_R_DEX  \n7           -0.588495        -0.435412         -0.451046  \n18          -0.588830        -0.502679         -0.452930  \n29          -0.589509        -0.563137         -0.455863  \n40          -0.590505        -0.617575         -0.459753  \n51          -0.591815        -0.666961         -0.464538  \n...               ...              ...               ...  \n21350        1.302731         0.960139          1.050876  \n21361        1.298598         0.909492          1.046500  \n21372        1.293518         0.934144          1.040757  \n21383        1.288670         0.852272          1.035358  \n21394        1.283711         0.862929          1.029868  \n\n[1944 rows x 70 columns]",
      "text/html": "<div>\n<style scoped>\n    .dataframe tbody tr th:only-of-type {\n        vertical-align: middle;\n    }\n\n    .dataframe tbody tr th {\n        vertical-align: top;\n    }\n\n    .dataframe thead th {\n        text-align: right;\n    }\n</style>\n<table border=\"1\" class=\"dataframe\">\n  <thead>\n    <tr style=\"text-align: right;\">\n      <th></th>\n      <th>trade_date</th>\n      <th>ts_code</th>\n      <th>CON_YEAR</th>\n      <th>CON_OR</th>\n      <th>CON_NP</th>\n      <th>CON_EPS</th>\n      <th>CON_NA</th>\n      <th>CON_PB</th>\n      <th>CON_PS</th>\n      <th>CON_PE</th>\n      <th>...</th>\n      <th>NIPO_R</th>\n      <th>RIPO_R</th>\n      <th>SR_R</th>\n      <th>l1_TURN_R</th>\n      <th>lnPD_R</th>\n      <th>SENT_INDEX_R</th>\n      <th>SENT_INDEX_EX</th>\n      <th>SENT_INDEX_DEX</th>\n      <th>SENT_INDEX_R_EX</th>\n      <th>SENT_INDEX_R_DEX</th>\n    </tr>\n  </thead>\n  <tbody>\n    <tr>\n      <th>7</th>\n      <td>20140102</td>\n      <td>000985.SH</td>\n      <td>2014</td>\n      <td>3.034892e+09</td>\n      <td>27421.678403</td>\n      <td>0.6857</td>\n      <td>2.017385e+09</td>\n      <td>1.3334</td>\n      <td>0.8863</td>\n      <td>9.8095</td>\n      <td>...</td>\n      <td>-0.993200</td>\n      <td>-0.429099</td>\n      <td>15.745780</td>\n      <td>-0.003943</td>\n      <td>-0.208500</td>\n      <td>-1.191905</td>\n      <td>-0.571980</td>\n      <td>-0.588495</td>\n      <td>-0.435412</td>\n      <td>-0.451046</td>\n    </tr>\n    <tr>\n      <th>18</th>\n      <td>20140103</td>\n      <td>000985.SH</td>\n      <td>2014</td>\n      <td>3.033876e+09</td>\n      <td>27421.601209</td>\n      <td>0.6857</td>\n      <td>2.017584e+09</td>\n      <td>1.3213</td>\n      <td>0.8787</td>\n      <td>9.7214</td>\n      <td>...</td>\n      <td>-0.993200</td>\n      <td>-0.429099</td>\n      <td>15.745780</td>\n      <td>-0.004333</td>\n      <td>-0.208500</td>\n      <td>-1.182604</td>\n      <td>-0.598652</td>\n      <td>-0.588830</td>\n      <td>-0.502679</td>\n      <td>-0.452930</td>\n    </tr>\n    <tr>\n      <th>29</th>\n      <td>20140106</td>\n      <td>000985.SH</td>\n      <td>2014</td>\n      <td>3.033345e+09</td>\n      <td>27412.012060</td>\n      <td>0.6854</td>\n      <td>2.027389e+09</td>\n      <td>1.2895</td>\n      <td>0.8619</td>\n      <td>9.5373</td>\n      <td>...</td>\n      <td>-0.993200</td>\n      <td>-0.429099</td>\n      <td>15.745780</td>\n      <td>-0.003813</td>\n      <td>-0.208500</td>\n      <td>-1.175354</td>\n      <td>-0.623006</td>\n      <td>-0.589509</td>\n      <td>-0.563137</td>\n      <td>-0.455863</td>\n    </tr>\n    <tr>\n      <th>40</th>\n      <td>20140107</td>\n      <td>000985.SH</td>\n      <td>2014</td>\n      <td>3.028546e+09</td>\n      <td>27384.608096</td>\n      <td>0.6846</td>\n      <td>2.027386e+09</td>\n      <td>1.2917</td>\n      <td>0.8647</td>\n      <td>9.5629</td>\n      <td>...</td>\n      <td>-0.993200</td>\n      <td>-0.429099</td>\n      <td>15.745780</td>\n      <td>-0.003643</td>\n      <td>-0.208500</td>\n      <td>-1.172984</td>\n      <td>-0.644795</td>\n      <td>-0.590505</td>\n      <td>-0.617575</td>\n      <td>-0.459753</td>\n    </tr>\n    <tr>\n      <th>51</th>\n      <td>20140108</td>\n      <td>000985.SH</td>\n      <td>2014</td>\n      <td>3.028892e+09</td>\n      <td>27355.547003</td>\n      <td>0.6838</td>\n      <td>2.028490e+09</td>\n      <td>1.2935</td>\n      <td>0.8663</td>\n      <td>9.5920</td>\n      <td>...</td>\n      <td>-0.993200</td>\n      <td>-0.429099</td>\n      <td>15.745780</td>\n      <td>-0.004513</td>\n      <td>-0.208500</td>\n      <td>-1.185114</td>\n      <td>-0.664723</td>\n      <td>-0.591815</td>\n      <td>-0.666961</td>\n      <td>-0.464538</td>\n    </tr>\n    <tr>\n      <th>...</th>\n      <td>...</td>\n      <td>...</td>\n      <td>...</td>\n      <td>...</td>\n      <td>...</td>\n      <td>...</td>\n      <td>...</td>\n      <td>...</td>\n      <td>...</td>\n      <td>...</td>\n      <td>...</td>\n      <td>...</td>\n      <td>...</td>\n      <td>...</td>\n      <td>...</td>\n      <td>...</td>\n      <td>...</td>\n      <td>...</td>\n      <td>...</td>\n      <td>...</td>\n      <td>...</td>\n    </tr>\n    <tr>\n      <th>21350</th>\n      <td>20211227</td>\n      <td>000985.SH</td>\n      <td>2021</td>\n      <td>6.389869e+09</td>\n      <td>53799.927579</td>\n      <td>0.7131</td>\n      <td>5.236956e+09</td>\n      <td>1.7835</td>\n      <td>1.4617</td>\n      <td>17.3613</td>\n      <td>...</td>\n      <td>-0.044895</td>\n      <td>-0.374305</td>\n      <td>-2.832969</td>\n      <td>0.001832</td>\n      <td>0.097983</td>\n      <td>0.390557</td>\n      <td>1.170102</td>\n      <td>1.302731</td>\n      <td>0.960139</td>\n      <td>1.050876</td>\n    </tr>\n    <tr>\n      <th>21361</th>\n      <td>20211228</td>\n      <td>000985.SH</td>\n      <td>2021</td>\n      <td>6.391559e+09</td>\n      <td>53788.880275</td>\n      <td>0.7129</td>\n      <td>5.237495e+09</td>\n      <td>1.7933</td>\n      <td>1.4695</td>\n      <td>17.4615</td>\n      <td>...</td>\n      <td>2.955105</td>\n      <td>-0.346122</td>\n      <td>-2.832969</td>\n      <td>0.000582</td>\n      <td>0.097983</td>\n      <td>1.186737</td>\n      <td>1.127746</td>\n      <td>1.298598</td>\n      <td>0.909492</td>\n      <td>1.046500</td>\n    </tr>\n    <tr>\n      <th>21372</th>\n      <td>20211229</td>\n      <td>000985.SH</td>\n      <td>2021</td>\n      <td>6.389955e+09</td>\n      <td>53725.674838</td>\n      <td>0.7120</td>\n      <td>5.237052e+09</td>\n      <td>1.7779</td>\n      <td>1.4571</td>\n      <td>17.3305</td>\n      <td>...</td>\n      <td>-1.044895</td>\n      <td>-0.453585</td>\n      <td>-2.832969</td>\n      <td>0.000302</td>\n      <td>0.097983</td>\n      <td>0.013389</td>\n      <td>1.149856</td>\n      <td>1.293518</td>\n      <td>0.934144</td>\n      <td>1.040757</td>\n    </tr>\n    <tr>\n      <th>21383</th>\n      <td>20211230</td>\n      <td>000985.SH</td>\n      <td>2021</td>\n      <td>6.390729e+09</td>\n      <td>53695.625032</td>\n      <td>0.7116</td>\n      <td>5.236812e+09</td>\n      <td>1.7905</td>\n      <td>1.4672</td>\n      <td>17.4624</td>\n      <td>...</td>\n      <td>1.955105</td>\n      <td>-0.193822</td>\n      <td>-2.832969</td>\n      <td>0.000072</td>\n      <td>0.097983</td>\n      <td>0.972127</td>\n      <td>1.079838</td>\n      <td>1.288670</td>\n      <td>0.852272</td>\n      <td>1.035358</td>\n    </tr>\n    <tr>\n      <th>21394</th>\n      <td>20211231</td>\n      <td>000985.SH</td>\n      <td>2021</td>\n      <td>6.389440e+09</td>\n      <td>53655.694957</td>\n      <td>0.7111</td>\n      <td>5.237010e+09</td>\n      <td>1.7997</td>\n      <td>1.4751</td>\n      <td>17.5661</td>\n      <td>...</td>\n      <td>-0.044895</td>\n      <td>-0.012409</td>\n      <td>-2.832969</td>\n      <td>0.000102</td>\n      <td>0.097983</td>\n      <td>0.720920</td>\n      <td>1.088991</td>\n      <td>1.283711</td>\n      <td>0.862929</td>\n      <td>1.029868</td>\n    </tr>\n  </tbody>\n</table>\n<p>1944 rows × 70 columns</p>\n</div>"
     },
     "execution_count": 5,
     "metadata": {},
     "output_type": "execute_result"
    }
   ],
   "source": [
    "df_merge = (pd.merge(df_analyst, df_finmarket.drop(columns=['trade_year']), on='trade_date'))\n",
    "df_merge = df_merge.query(\"ts_code=='000985.SH'\").astype(dtype={'trade_date': 'str'})\n",
    "df_merge.to_csv('/home/ubuntu/notebooks/DataSets/investor_sentiment/SEM_MAF_2014_2021.csv')\n",
    "df_merge"
   ],
   "metadata": {
    "collapsed": false
   }
  },
  {
   "cell_type": "code",
   "execution_count": 6,
   "outputs": [
    {
     "data": {
      "text/plain": "trade_date           object\nts_code              object\nCON_YEAR             uint32\nCON_OR              float64\nCON_NP              float64\n                     ...   \nSENT_INDEX_R        float64\nSENT_INDEX_EX       float64\nSENT_INDEX_DEX      float64\nSENT_INDEX_R_EX     float64\nSENT_INDEX_R_DEX    float64\nLength: 70, dtype: object"
     },
     "execution_count": 6,
     "metadata": {},
     "output_type": "execute_result"
    }
   ],
   "source": [
    "df_merge.dtypes"
   ],
   "metadata": {
    "collapsed": false
   }
  },
  {
   "cell_type": "code",
   "execution_count": 7,
   "outputs": [],
   "source": [
    "# @formatter:off"
   ],
   "metadata": {
    "collapsed": false
   }
  },
  {
   "cell_type": "code",
   "execution_count": 8,
   "outputs": [
    {
     "name": "stdout",
     "output_type": "stream",
     "text": [
      "\n",
      ". /*{*/\n",
      ". \n",
      ". //模型设定\n",
      ". encode ts_code,gen(id)\n",
      "\n",
      ". tsset time\n",
      "\n",
      "Time variable: time, 1 to 1944\n",
      "        Delta: 1 unit\n",
      "\n",
      ". \n",
      ". //描述性统计\n",
      ". sum\n",
      "\n",
      "    Variable |        Obs        Mean    Std. dev.       Min        Max\n",
      "-------------+---------------------------------------------------------\n",
      "  trade_date |          0\n",
      "     ts_code |          0\n",
      "    CON_YEAR |      1,944    2017.494    2.294114       2014       2021\n",
      "      CON_OR |      1,944    4.26e+09    1.09e+09   2.93e+09   6.40e+09\n",
      "      CON_NP |      1,944    38306.35    9191.262   26014.47   54574.08\n",
      "-------------+---------------------------------------------------------\n",
      "     CON_EPS |      1,944    .6575764    .0637289      .5207      .7794\n",
      "      CON_NA |      1,944    3.46e+09    1.01e+09   1.98e+09   5.24e+09\n",
      "      CON_PB |      1,944    1.694112    .3116495     1.1529     3.1461\n",
      "      CON_PS |      1,944    1.363639    .2681875      .8453     2.3851\n",
      "      CON_PE |      1,944    15.10981    2.918055     9.2849    25.8688\n",
      "-------------+---------------------------------------------------------\n",
      "     CON_PEG |      1,944    .9039973      .29446      .5178      1.851\n",
      "     CON_ROE |      1,944    11.29745    1.007213       9.65      13.59\n",
      "  CON_OR_YOY |      1,944    12.72128    3.931676       4.78      20.11\n",
      "  CON_NP_YOY |      1,944    20.69729    5.830806       7.08       33.9\n",
      "CON_NPCGR~2Y |      1,944     17.5365    3.275933      9.137    23.3378\n",
      "-------------+---------------------------------------------------------\n",
      "     CON_PEI |      1,944    88.32646    8.870969    72.0523   107.1494\n",
      "  trade_year |      1,944    2017.494    2.294114       2014       2021\n",
      "      profit |      1,944     8295.95    2252.433    5944.98   12871.95\n",
      " year_profit |      1,944    33445.22    8202.261   23693.49   47927.24\n",
      " year_pe_ttm |      1,944     18.3109    2.899204      12.74      21.84\n",
      "-------------+---------------------------------------------------------\n",
      "year_profi~1 |      1,944    30226.48    6829.587   22142.41   40609.31\n",
      "year_profi~y |      1,944     10.3875    7.795018  -.3933651   25.35867\n",
      "   code_name |          0\n",
      "       close |      1,944    4651.062    885.1674    2734.65    7984.43\n",
      "pe_ttm_wei~t |      1,944    17.65285    3.182932       10.9      29.42\n",
      "-------------+---------------------------------------------------------\n",
      "pe_ttm_equal |      1,944    51.90006    17.69155      26.64     131.21\n",
      "pb_ttm_wei~t |      1,944    1.844727    .3130206       1.35       3.42\n",
      "pb_ttm_equal |      1,944      3.2157     .970571       1.85       7.83\n",
      "    div_rate |      1,944    1.683809    .3217731      .8887     2.5438\n",
      "         roe |      1,944    10.60174    1.303135       8.64      13.33\n",
      "-------------+---------------------------------------------------------\n",
      "  profit_avg |      1,944     10.5268    .5496269       9.41      12.08\n",
      "      mv_avg |      1,944    185.9348    34.78755     110.76     323.05\n",
      "    float_mv |      1,944      415634    136257.4   178984.3   743760.2\n",
      "    total_mv |      1,944     56.4247    17.46977   24.59948    97.4151\n",
      " total_mv_l1 |      1,944    563883.9    174595.3   245994.8     974151\n",
      "-------------+---------------------------------------------------------\n",
      "total_mv_chg |      1,944    .0805891    1.607212  -18.20984     13.421\n",
      "    close_l1 |      1,944    4649.479    885.5586    2734.65    7984.43\n",
      "   close_chg |      1,944    .0485919    1.498098  -8.187696   5.767831\n",
      "     img_neg |      1,944    .1987118    .1458662          0          1\n",
      "     tex_neg |      1,944    .1955912    .1547798          0          1\n",
      "-------------+---------------------------------------------------------\n",
      "riskfree_r~n |      1,944    .0095197    .0027366   .0038639   .0155658\n",
      "opt_profit~y |      1,944    680.5693    1482.082  -29.76762   5527.527\n",
      "      opt_pe |      1,944   -16.78514    13.71358  -47.24908   23.51256\n",
      "  opt_profit |      1,944    14.80878    5.892696   3.972945   27.29966\n",
      "        time |      1,944       972.5    561.3288          1       1944\n",
      "-------------+---------------------------------------------------------\n",
      " close_chg_s |      1,944    2.245504    5.939644   2.32e-07   67.03837\n",
      "        CEFD |      1,944   -8.861369    5.046561  -19.50286        .18\n",
      "        RIPO |      1,944    .4255711    .6665123  -.0320717   3.407369\n",
      "        NIPO |      1,944    1.088477     1.35146          0          6\n",
      "        TURN |      1,944    .0064707    .0036778     .00199     .01984\n",
      "-------------+---------------------------------------------------------\n",
      "     TURN_MA |      1,944     .000596    .0041682  -.0043854   .0220632\n",
      " trade_month |      1,944      201756     229.439     201401     202112\n",
      "          SR |      1,944    12.83094    6.155165       6.23      24.67\n",
      "        lnPD |      1,944   -.1706532    .1088315     -.3537      -.027\n",
      "       c_yoy |      1,944    8.113436    6.005527      -15.8       34.2\n",
      "-------------+---------------------------------------------------------\n",
      "       p_yoy |      1,944    5.894532    2.167761       -1.1       14.1\n",
      "           n |      1,944    1941.965    563.3921        968       2917\n",
      "     l1_TURN |      1,944    .0064686    .0036784     .00199     .01984\n",
      "  SENT_INDEX |      1,944    .1837996    .9094533  -1.073721   3.128778\n",
      "      CEFD_R |      1,944      .04975    5.056566  -10.61441   9.194729\n",
      "-------------+---------------------------------------------------------\n",
      "      NIPO_R |      1,944    .0947738    1.349573  -1.167026   5.042466\n",
      "      RIPO_R |      1,944    .0664838    .6688181  -.7170224   3.441808\n",
      "        SR_R |      1,944   -.9007566     6.32622  -24.87769   15.74578\n",
      "   l1_TURN_R |      1,944    .0003665    .0036667  -.0046307   .0140264\n",
      "      lnPD_R |      1,944     .005568    .1015713  -.2085001   .3348389\n",
      "-------------+---------------------------------------------------------\n",
      "SENT_INDEX_R |      1,944    .0888279    .9223283  -1.194827    3.23979\n",
      "SENT_IN~X_EX |      1,944    .1721732    .7383512  -.9153179   1.891219\n",
      "SENT_I~X_DEX |      1,944     .129532    .6958647  -.7988879   1.629092\n",
      "SENT_IN~R_EX |      1,944    .0812574    .7666776  -1.083049   2.099405\n",
      "SENT_I~R_DEX |      1,944    .0539826    .7268505  -.8474488   1.663493\n",
      "-------------+---------------------------------------------------------\n",
      "          id |      1,944           1           0          1          1\n",
      "\n",
      ". \n",
      ". //缩尾\n",
      ". winsor2 close_chg img_neg, cut(1 99) by(id) label\n",
      "\n",
      ". \n",
      ". //\n",
      ". reg close_chg l(1/5).img_neg,r\n",
      "\n",
      "Linear regression                               Number of obs     =      1,939\n",
      "                                                F(5, 1933)        =       2.03\n",
      "                                                Prob > F          =     0.0717\n",
      "                                                R-squared         =     0.0056\n",
      "                                                Root MSE          =     1.4965\n",
      "\n",
      "------------------------------------------------------------------------------\n",
      "             |               Robust\n",
      "   close_chg | Coefficient  std. err.      t    P>|t|     [95% conf. interval]\n",
      "-------------+----------------------------------------------------------------\n",
      "     img_neg |\n",
      "         L1. |   -.587573   .2639105    -2.23   0.026    -1.105152   -.0699938\n",
      "         L2. |   .0676059   .2500916     0.27   0.787    -.4228717    .5580836\n",
      "         L3. |    .083629   .2421297     0.35   0.730    -.3912339    .5584919\n",
      "         L4. |   .0915707   .2479644     0.37   0.712     -.394735    .5778765\n",
      "         L5. |  -.5049129   .2489994    -2.03   0.043    -.9932485   -.0165772\n",
      "             |\n",
      "       _cons |   .2188885   .1055242     2.07   0.038     .0119353    .4258417\n",
      "------------------------------------------------------------------------------\n",
      "\n",
      ". \n",
      ". reg close_chg l(1/5).tex_neg,r\n",
      "\n",
      "Linear regression                               Number of obs     =      1,939\n",
      "                                                F(5, 1933)        =       0.90\n",
      "                                                Prob > F          =     0.4819\n",
      "                                                R-squared         =     0.0029\n",
      "                                                Root MSE          =     1.4985\n",
      "\n",
      "------------------------------------------------------------------------------\n",
      "             |               Robust\n",
      "   close_chg | Coefficient  std. err.      t    P>|t|     [95% conf. interval]\n",
      "-------------+----------------------------------------------------------------\n",
      "     tex_neg |\n",
      "         L1. |   .1750246   .2176086     0.80   0.421    -.2517477    .6017969\n",
      "         L2. |  -.1352457   .2210278    -0.61   0.541    -.5687237    .2982322\n",
      "         L3. |   -.306369   .2273341    -1.35   0.178    -.7522147    .1394768\n",
      "         L4. |  -.3031042   .2353356    -1.29   0.198    -.7646425    .1584342\n",
      "         L5. |  -.0847285   .2409044    -0.35   0.725    -.5571882    .3877312\n",
      "             |\n",
      "       _cons |   .1779156   .1022541     1.74   0.082    -.0226243    .3784555\n",
      "------------------------------------------------------------------------------\n",
      "\n",
      ". \n"
     ]
    }
   ],
   "source": [
    "%%stata -d df_merge -force\n",
    "/*{*/\n",
    "\n",
    "//模型设定\n",
    "encode ts_code,gen(id)\n",
    "tsset time\n",
    "\n",
    "//描述性统计\n",
    "sum\n",
    "\n",
    "//缩尾\n",
    "winsor2 close_chg img_neg, cut(1 99) by(id) label\n",
    "\n",
    "//回归分析验证\n",
    "reg close_chg l(1/5).img_neg,r\n",
    "\n",
    "reg close_chg l(1/5).tex_neg,r\n"
   ],
   "metadata": {
    "collapsed": false
   }
  }
 ],
 "metadata": {
  "kernelspec": {
   "name": "pytorch",
   "language": "python",
   "display_name": "Rapids"
  },
  "language_info": {
   "codemirror_mode": {
    "name": "ipython",
    "version": 2
   },
   "file_extension": ".py",
   "mimetype": "text/x-python",
   "name": "python",
   "nbconvert_exporter": "python",
   "pygments_lexer": "ipython2",
   "version": "2.7.6"
  }
 },
 "nbformat": 4,
 "nbformat_minor": 0
}
