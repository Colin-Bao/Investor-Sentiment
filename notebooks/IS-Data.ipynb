{
 "cells": [
  {
   "cell_type": "markdown",
   "source": [
    "# 数据处理专用\n",
    "整合数据"
   ],
   "metadata": {
    "collapsed": false
   }
  },
  {
   "cell_type": "code",
   "execution_count": 8,
   "outputs": [],
   "source": [
    "import cudf\n",
    "import sys\n",
    "import pandas as pd\n",
    "  \n",
    "# 自行编写的包\n",
    "sys.path.append('/home/ubuntu/notebooks/pycharm_projects/Investor-Sentiment')\n",
    "sys.path.append('/usr/local/stata17/utilities')"
   ],
   "metadata": {
    "collapsed": false
   }
  },
  {
   "cell_type": "markdown",
   "source": [
    "## 金融市场情绪 - 时间序列"
   ],
   "metadata": {
    "collapsed": false
   }
  },
  {
   "cell_type": "code",
   "execution_count": 9,
   "outputs": [
    {
     "data": {
      "text/plain": "      trade_date  trade_year       CEFD      RIPO  NIPO     TURN   TURN_MA  \\\n1       20100105        2010 -17.840000  0.000000   0.0  0.00819 -0.005408   \n2       20100106        2010 -17.720000  0.617127   3.0  0.00802 -0.005580   \n3       20100107        2010 -16.870000  0.058932   1.0  0.00834 -0.005263   \n4       20100108        2010 -17.595926  0.319774   6.0  0.00643 -0.007174   \n5       20100111        2010 -16.700000  0.000000   0.0  0.00875 -0.004857   \n...          ...         ...        ...       ...   ...      ...       ...   \n2912    20211227        2021  -2.258667  0.079280   1.0  0.00675  0.001142   \n2913    20211228        2021  -2.880625  0.107463   4.0  0.00647  0.000860   \n2914    20211229        2021  -2.787500  0.000000   0.0  0.00624  0.000628   \n2915    20211230        2021  -3.135625  0.259762   3.0  0.00627  0.000655   \n2916    20211231        2021   0.180000  0.441176   1.0  0.00672  0.001102   \n\n      trade_month     SR    lnPD  ...    NIPO_R    RIPO_R       SR_R  \\\n1          201001  32.76 -0.3186  ... -0.930690 -0.277455  16.537449   \n2          201001  32.76 -0.3186  ...  2.069310  0.339671  16.537449   \n3          201001  32.76 -0.3186  ...  0.069310 -0.218523  16.537449   \n4          201001  32.76 -0.3186  ...  5.069310  0.042319  16.537449   \n5          201001  32.76 -0.3186  ... -0.930690 -0.277455  16.537449   \n...           ...    ...     ...  ...       ...       ...        ...   \n2912       202112   6.95 -0.0318  ... -0.044895 -0.374305  -2.832969   \n2913       202112   6.95 -0.0318  ...  2.955105 -0.346122  -2.832969   \n2914       202112   6.95 -0.0318  ... -1.044895 -0.453585  -2.832969   \n2915       202112   6.95 -0.0318  ...  1.955105 -0.193822  -2.832969   \n2916       202112   6.95 -0.0318  ... -0.044895 -0.012409  -2.832969   \n\n      l1_TURN_R    lnPD_R  SENT_INDEX_R  SENT_INDEX_EX  SENT_INDEX_DEX  \\\n1      0.000834 -0.100608     -1.244143      -0.430662       -0.285413   \n2      0.001924 -0.100608     -0.035316      -0.489220       -0.286190   \n3      0.001754 -0.100608     -0.860132      -0.450119       -0.287520   \n4      0.002074 -0.100608      0.640860      -0.478187       -0.287617   \n5      0.000164 -0.100608     -1.183935      -0.387898       -0.288697   \n...         ...       ...           ...            ...             ...   \n2912   0.001832  0.097983      0.390557       1.170102        1.302731   \n2913   0.000582  0.097983      1.186737       1.127746        1.298598   \n2914   0.000302  0.097983      0.013389       1.149856        1.293518   \n2915   0.000072  0.097983      0.972127       1.079838        1.288670   \n2916   0.000102  0.097983      0.720920       1.088991        1.283711   \n\n      SENT_INDEX_R_EX  SENT_INDEX_R_DEX  \n1           -0.331016          0.058454  \n2           -0.412211          0.055876  \n3           -0.378698          0.051982  \n4           -0.421506          0.049377  \n5           -0.327042          0.044932  \n...               ...               ...  \n2912         0.960139          1.050876  \n2913         0.909492          1.046500  \n2914         0.934144          1.040757  \n2915         0.852272          1.035358  \n2916         0.862929          1.029868  \n\n[2916 rows x 26 columns]",
      "text/html": "<div>\n<style scoped>\n    .dataframe tbody tr th:only-of-type {\n        vertical-align: middle;\n    }\n\n    .dataframe tbody tr th {\n        vertical-align: top;\n    }\n\n    .dataframe thead th {\n        text-align: right;\n    }\n</style>\n<table border=\"1\" class=\"dataframe\">\n  <thead>\n    <tr style=\"text-align: right;\">\n      <th></th>\n      <th>trade_date</th>\n      <th>trade_year</th>\n      <th>CEFD</th>\n      <th>RIPO</th>\n      <th>NIPO</th>\n      <th>TURN</th>\n      <th>TURN_MA</th>\n      <th>trade_month</th>\n      <th>SR</th>\n      <th>lnPD</th>\n      <th>...</th>\n      <th>NIPO_R</th>\n      <th>RIPO_R</th>\n      <th>SR_R</th>\n      <th>l1_TURN_R</th>\n      <th>lnPD_R</th>\n      <th>SENT_INDEX_R</th>\n      <th>SENT_INDEX_EX</th>\n      <th>SENT_INDEX_DEX</th>\n      <th>SENT_INDEX_R_EX</th>\n      <th>SENT_INDEX_R_DEX</th>\n    </tr>\n  </thead>\n  <tbody>\n    <tr>\n      <th>1</th>\n      <td>20100105</td>\n      <td>2010</td>\n      <td>-17.840000</td>\n      <td>0.000000</td>\n      <td>0.0</td>\n      <td>0.00819</td>\n      <td>-0.005408</td>\n      <td>201001</td>\n      <td>32.76</td>\n      <td>-0.3186</td>\n      <td>...</td>\n      <td>-0.930690</td>\n      <td>-0.277455</td>\n      <td>16.537449</td>\n      <td>0.000834</td>\n      <td>-0.100608</td>\n      <td>-1.244143</td>\n      <td>-0.430662</td>\n      <td>-0.285413</td>\n      <td>-0.331016</td>\n      <td>0.058454</td>\n    </tr>\n    <tr>\n      <th>2</th>\n      <td>20100106</td>\n      <td>2010</td>\n      <td>-17.720000</td>\n      <td>0.617127</td>\n      <td>3.0</td>\n      <td>0.00802</td>\n      <td>-0.005580</td>\n      <td>201001</td>\n      <td>32.76</td>\n      <td>-0.3186</td>\n      <td>...</td>\n      <td>2.069310</td>\n      <td>0.339671</td>\n      <td>16.537449</td>\n      <td>0.001924</td>\n      <td>-0.100608</td>\n      <td>-0.035316</td>\n      <td>-0.489220</td>\n      <td>-0.286190</td>\n      <td>-0.412211</td>\n      <td>0.055876</td>\n    </tr>\n    <tr>\n      <th>3</th>\n      <td>20100107</td>\n      <td>2010</td>\n      <td>-16.870000</td>\n      <td>0.058932</td>\n      <td>1.0</td>\n      <td>0.00834</td>\n      <td>-0.005263</td>\n      <td>201001</td>\n      <td>32.76</td>\n      <td>-0.3186</td>\n      <td>...</td>\n      <td>0.069310</td>\n      <td>-0.218523</td>\n      <td>16.537449</td>\n      <td>0.001754</td>\n      <td>-0.100608</td>\n      <td>-0.860132</td>\n      <td>-0.450119</td>\n      <td>-0.287520</td>\n      <td>-0.378698</td>\n      <td>0.051982</td>\n    </tr>\n    <tr>\n      <th>4</th>\n      <td>20100108</td>\n      <td>2010</td>\n      <td>-17.595926</td>\n      <td>0.319774</td>\n      <td>6.0</td>\n      <td>0.00643</td>\n      <td>-0.007174</td>\n      <td>201001</td>\n      <td>32.76</td>\n      <td>-0.3186</td>\n      <td>...</td>\n      <td>5.069310</td>\n      <td>0.042319</td>\n      <td>16.537449</td>\n      <td>0.002074</td>\n      <td>-0.100608</td>\n      <td>0.640860</td>\n      <td>-0.478187</td>\n      <td>-0.287617</td>\n      <td>-0.421506</td>\n      <td>0.049377</td>\n    </tr>\n    <tr>\n      <th>5</th>\n      <td>20100111</td>\n      <td>2010</td>\n      <td>-16.700000</td>\n      <td>0.000000</td>\n      <td>0.0</td>\n      <td>0.00875</td>\n      <td>-0.004857</td>\n      <td>201001</td>\n      <td>32.76</td>\n      <td>-0.3186</td>\n      <td>...</td>\n      <td>-0.930690</td>\n      <td>-0.277455</td>\n      <td>16.537449</td>\n      <td>0.000164</td>\n      <td>-0.100608</td>\n      <td>-1.183935</td>\n      <td>-0.387898</td>\n      <td>-0.288697</td>\n      <td>-0.327042</td>\n      <td>0.044932</td>\n    </tr>\n    <tr>\n      <th>...</th>\n      <td>...</td>\n      <td>...</td>\n      <td>...</td>\n      <td>...</td>\n      <td>...</td>\n      <td>...</td>\n      <td>...</td>\n      <td>...</td>\n      <td>...</td>\n      <td>...</td>\n      <td>...</td>\n      <td>...</td>\n      <td>...</td>\n      <td>...</td>\n      <td>...</td>\n      <td>...</td>\n      <td>...</td>\n      <td>...</td>\n      <td>...</td>\n      <td>...</td>\n      <td>...</td>\n    </tr>\n    <tr>\n      <th>2912</th>\n      <td>20211227</td>\n      <td>2021</td>\n      <td>-2.258667</td>\n      <td>0.079280</td>\n      <td>1.0</td>\n      <td>0.00675</td>\n      <td>0.001142</td>\n      <td>202112</td>\n      <td>6.95</td>\n      <td>-0.0318</td>\n      <td>...</td>\n      <td>-0.044895</td>\n      <td>-0.374305</td>\n      <td>-2.832969</td>\n      <td>0.001832</td>\n      <td>0.097983</td>\n      <td>0.390557</td>\n      <td>1.170102</td>\n      <td>1.302731</td>\n      <td>0.960139</td>\n      <td>1.050876</td>\n    </tr>\n    <tr>\n      <th>2913</th>\n      <td>20211228</td>\n      <td>2021</td>\n      <td>-2.880625</td>\n      <td>0.107463</td>\n      <td>4.0</td>\n      <td>0.00647</td>\n      <td>0.000860</td>\n      <td>202112</td>\n      <td>6.95</td>\n      <td>-0.0318</td>\n      <td>...</td>\n      <td>2.955105</td>\n      <td>-0.346122</td>\n      <td>-2.832969</td>\n      <td>0.000582</td>\n      <td>0.097983</td>\n      <td>1.186737</td>\n      <td>1.127746</td>\n      <td>1.298598</td>\n      <td>0.909492</td>\n      <td>1.046500</td>\n    </tr>\n    <tr>\n      <th>2914</th>\n      <td>20211229</td>\n      <td>2021</td>\n      <td>-2.787500</td>\n      <td>0.000000</td>\n      <td>0.0</td>\n      <td>0.00624</td>\n      <td>0.000628</td>\n      <td>202112</td>\n      <td>6.95</td>\n      <td>-0.0318</td>\n      <td>...</td>\n      <td>-1.044895</td>\n      <td>-0.453585</td>\n      <td>-2.832969</td>\n      <td>0.000302</td>\n      <td>0.097983</td>\n      <td>0.013389</td>\n      <td>1.149856</td>\n      <td>1.293518</td>\n      <td>0.934144</td>\n      <td>1.040757</td>\n    </tr>\n    <tr>\n      <th>2915</th>\n      <td>20211230</td>\n      <td>2021</td>\n      <td>-3.135625</td>\n      <td>0.259762</td>\n      <td>3.0</td>\n      <td>0.00627</td>\n      <td>0.000655</td>\n      <td>202112</td>\n      <td>6.95</td>\n      <td>-0.0318</td>\n      <td>...</td>\n      <td>1.955105</td>\n      <td>-0.193822</td>\n      <td>-2.832969</td>\n      <td>0.000072</td>\n      <td>0.097983</td>\n      <td>0.972127</td>\n      <td>1.079838</td>\n      <td>1.288670</td>\n      <td>0.852272</td>\n      <td>1.035358</td>\n    </tr>\n    <tr>\n      <th>2916</th>\n      <td>20211231</td>\n      <td>2021</td>\n      <td>0.180000</td>\n      <td>0.441176</td>\n      <td>1.0</td>\n      <td>0.00672</td>\n      <td>0.001102</td>\n      <td>202112</td>\n      <td>6.95</td>\n      <td>-0.0318</td>\n      <td>...</td>\n      <td>-0.044895</td>\n      <td>-0.012409</td>\n      <td>-2.832969</td>\n      <td>0.000102</td>\n      <td>0.097983</td>\n      <td>0.720920</td>\n      <td>1.088991</td>\n      <td>1.283711</td>\n      <td>0.862929</td>\n      <td>1.029868</td>\n    </tr>\n  </tbody>\n</table>\n<p>2916 rows × 26 columns</p>\n</div>"
     },
     "execution_count": 9,
     "metadata": {},
     "output_type": "execute_result"
    }
   ],
   "source": [
    "df_finmarket = pd.read_parquet('/home/ubuntu/notebooks/DataSets/investor_sentiment/FIN_SENT_STATA_2010_2021.parquet')\n",
    "df_finmarket"
   ],
   "metadata": {
    "collapsed": false
   }
  },
  {
   "cell_type": "markdown",
   "source": [
    "## 分析师情绪 - 面板"
   ],
   "metadata": {
    "collapsed": false
   }
  },
  {
   "cell_type": "code",
   "execution_count": 10,
   "outputs": [
    {
     "data": {
      "text/plain": "      trade_date    ts_code  CON_YEAR        CON_OR        CON_NP  CON_EPS  \\\n0       20140102  000010.SH      2014  1.229380e+09  20139.051805   0.8059   \n1       20140102  000015.SH      2014  5.889377e+08  15328.983195   0.8057   \n2       20140102  000016.SH      2014  8.063073e+08  13294.314326   0.8620   \n3       20140102  000300.SH      2014  1.553438e+09  22802.196329   0.7898   \n4       20140102  000903.SH      2014  1.219844e+09  20305.917391   0.8299   \n...          ...        ...       ...           ...           ...      ...   \n23560   20221028  000906.SH      2022  5.610430e+09  51796.277367   0.9641   \n23561   20221028  000985.SH      2022  7.224144e+09  58403.840993   0.7555   \n23562   20221028  399005.SZ      2022  3.308684e+08   3156.638702   0.9635   \n23563   20221028  399006.SZ      2022  1.580034e+08   1800.383211   1.3799   \n23564   20221028  399310.SZ      2022  1.525638e+09  15430.058098   1.3643   \n\n             CON_NA  CON_PB  CON_PS   CON_PE  ...   close_l1  close_chg  \\\n0      1.356969e+09  1.0078  0.7662   6.7909  ...  5040.2700  -0.599174   \n1      9.912300e+08  0.8505  0.8438   5.4999  ...  1681.4600  -0.397274   \n2      8.877149e+08  0.9876  0.7290   6.5949  ...  1574.7800  -0.868693   \n3      1.569081e+09  1.0997  0.7828   7.5674  ...  2330.0300  -0.345489   \n4      1.353838e+09  0.9884  0.7627   6.5896  ...  2155.2300  -0.593904   \n...             ...     ...     ...      ...  ...        ...        ...   \n23560  4.774941e+09  1.1471  0.9763  10.5749  ...  4024.5400  -2.622412   \n23561  5.825681e+09  1.3191  1.0637  13.1574  ...  4640.7167  -2.964490   \n23562  2.227230e+08  2.8926  1.9471  20.4090  ...  7293.5300  -3.140318   \n23563  1.220097e+08  4.4799  3.4594  30.3598  ...  2337.2500  -3.711199   \n23564  1.151031e+09  1.4075  1.0619  10.4997  ...  5682.8900  -2.940229   \n\n       img_neg  tex_neg  riskfree_return  opt_profit_yoy     opt_pe  \\\n0          0.0      0.0         0.015460      106.321095 -36.175752   \n1          0.0      0.0         0.015460       19.072326 -30.115629   \n2          0.0      0.0         0.015460      131.053412 -32.636364   \n3          0.0      0.0         0.015460       76.005909 -36.833055   \n4          0.0      0.0         0.015460       80.367172 -35.141732   \n...        ...      ...              ...             ...        ...   \n23560      NaN      NaN         0.004842      203.012356 -18.087529   \n23561      NaN      NaN         0.004842      241.903541 -22.694477   \n23562      NaN      NaN         0.004842       83.540859 -23.129944   \n23563      NaN      NaN         0.004842     8845.061854 -24.327517   \n23564      NaN      NaN         0.004842      202.048409 -17.063981   \n\n       opt_profit    time  close_chg_s  \n0        6.534466     1.0     0.359010  \n1        4.676568     1.0     0.157826  \n2        6.312925     1.0     0.754627  \n3        7.697893     1.0     0.119363  \n4        6.049136     1.0     0.352722  \n...           ...     ...          ...  \n23560   40.330525  2146.0     6.877042  \n23561   36.381384  2141.0     8.788203  \n23562   50.151677  2144.0     9.861594  \n23563   52.148060  2144.0    13.772998  \n23564   35.863497  2114.0     8.644949  \n\n[23565 rows x 46 columns]",
      "text/html": "<div>\n<style scoped>\n    .dataframe tbody tr th:only-of-type {\n        vertical-align: middle;\n    }\n\n    .dataframe tbody tr th {\n        vertical-align: top;\n    }\n\n    .dataframe thead th {\n        text-align: right;\n    }\n</style>\n<table border=\"1\" class=\"dataframe\">\n  <thead>\n    <tr style=\"text-align: right;\">\n      <th></th>\n      <th>trade_date</th>\n      <th>ts_code</th>\n      <th>CON_YEAR</th>\n      <th>CON_OR</th>\n      <th>CON_NP</th>\n      <th>CON_EPS</th>\n      <th>CON_NA</th>\n      <th>CON_PB</th>\n      <th>CON_PS</th>\n      <th>CON_PE</th>\n      <th>...</th>\n      <th>close_l1</th>\n      <th>close_chg</th>\n      <th>img_neg</th>\n      <th>tex_neg</th>\n      <th>riskfree_return</th>\n      <th>opt_profit_yoy</th>\n      <th>opt_pe</th>\n      <th>opt_profit</th>\n      <th>time</th>\n      <th>close_chg_s</th>\n    </tr>\n  </thead>\n  <tbody>\n    <tr>\n      <th>0</th>\n      <td>20140102</td>\n      <td>000010.SH</td>\n      <td>2014</td>\n      <td>1.229380e+09</td>\n      <td>20139.051805</td>\n      <td>0.8059</td>\n      <td>1.356969e+09</td>\n      <td>1.0078</td>\n      <td>0.7662</td>\n      <td>6.7909</td>\n      <td>...</td>\n      <td>5040.2700</td>\n      <td>-0.599174</td>\n      <td>0.0</td>\n      <td>0.0</td>\n      <td>0.015460</td>\n      <td>106.321095</td>\n      <td>-36.175752</td>\n      <td>6.534466</td>\n      <td>1.0</td>\n      <td>0.359010</td>\n    </tr>\n    <tr>\n      <th>1</th>\n      <td>20140102</td>\n      <td>000015.SH</td>\n      <td>2014</td>\n      <td>5.889377e+08</td>\n      <td>15328.983195</td>\n      <td>0.8057</td>\n      <td>9.912300e+08</td>\n      <td>0.8505</td>\n      <td>0.8438</td>\n      <td>5.4999</td>\n      <td>...</td>\n      <td>1681.4600</td>\n      <td>-0.397274</td>\n      <td>0.0</td>\n      <td>0.0</td>\n      <td>0.015460</td>\n      <td>19.072326</td>\n      <td>-30.115629</td>\n      <td>4.676568</td>\n      <td>1.0</td>\n      <td>0.157826</td>\n    </tr>\n    <tr>\n      <th>2</th>\n      <td>20140102</td>\n      <td>000016.SH</td>\n      <td>2014</td>\n      <td>8.063073e+08</td>\n      <td>13294.314326</td>\n      <td>0.8620</td>\n      <td>8.877149e+08</td>\n      <td>0.9876</td>\n      <td>0.7290</td>\n      <td>6.5949</td>\n      <td>...</td>\n      <td>1574.7800</td>\n      <td>-0.868693</td>\n      <td>0.0</td>\n      <td>0.0</td>\n      <td>0.015460</td>\n      <td>131.053412</td>\n      <td>-32.636364</td>\n      <td>6.312925</td>\n      <td>1.0</td>\n      <td>0.754627</td>\n    </tr>\n    <tr>\n      <th>3</th>\n      <td>20140102</td>\n      <td>000300.SH</td>\n      <td>2014</td>\n      <td>1.553438e+09</td>\n      <td>22802.196329</td>\n      <td>0.7898</td>\n      <td>1.569081e+09</td>\n      <td>1.0997</td>\n      <td>0.7828</td>\n      <td>7.5674</td>\n      <td>...</td>\n      <td>2330.0300</td>\n      <td>-0.345489</td>\n      <td>0.0</td>\n      <td>0.0</td>\n      <td>0.015460</td>\n      <td>76.005909</td>\n      <td>-36.833055</td>\n      <td>7.697893</td>\n      <td>1.0</td>\n      <td>0.119363</td>\n    </tr>\n    <tr>\n      <th>4</th>\n      <td>20140102</td>\n      <td>000903.SH</td>\n      <td>2014</td>\n      <td>1.219844e+09</td>\n      <td>20305.917391</td>\n      <td>0.8299</td>\n      <td>1.353838e+09</td>\n      <td>0.9884</td>\n      <td>0.7627</td>\n      <td>6.5896</td>\n      <td>...</td>\n      <td>2155.2300</td>\n      <td>-0.593904</td>\n      <td>0.0</td>\n      <td>0.0</td>\n      <td>0.015460</td>\n      <td>80.367172</td>\n      <td>-35.141732</td>\n      <td>6.049136</td>\n      <td>1.0</td>\n      <td>0.352722</td>\n    </tr>\n    <tr>\n      <th>...</th>\n      <td>...</td>\n      <td>...</td>\n      <td>...</td>\n      <td>...</td>\n      <td>...</td>\n      <td>...</td>\n      <td>...</td>\n      <td>...</td>\n      <td>...</td>\n      <td>...</td>\n      <td>...</td>\n      <td>...</td>\n      <td>...</td>\n      <td>...</td>\n      <td>...</td>\n      <td>...</td>\n      <td>...</td>\n      <td>...</td>\n      <td>...</td>\n      <td>...</td>\n      <td>...</td>\n    </tr>\n    <tr>\n      <th>23560</th>\n      <td>20221028</td>\n      <td>000906.SH</td>\n      <td>2022</td>\n      <td>5.610430e+09</td>\n      <td>51796.277367</td>\n      <td>0.9641</td>\n      <td>4.774941e+09</td>\n      <td>1.1471</td>\n      <td>0.9763</td>\n      <td>10.5749</td>\n      <td>...</td>\n      <td>4024.5400</td>\n      <td>-2.622412</td>\n      <td>NaN</td>\n      <td>NaN</td>\n      <td>0.004842</td>\n      <td>203.012356</td>\n      <td>-18.087529</td>\n      <td>40.330525</td>\n      <td>2146.0</td>\n      <td>6.877042</td>\n    </tr>\n    <tr>\n      <th>23561</th>\n      <td>20221028</td>\n      <td>000985.SH</td>\n      <td>2022</td>\n      <td>7.224144e+09</td>\n      <td>58403.840993</td>\n      <td>0.7555</td>\n      <td>5.825681e+09</td>\n      <td>1.3191</td>\n      <td>1.0637</td>\n      <td>13.1574</td>\n      <td>...</td>\n      <td>4640.7167</td>\n      <td>-2.964490</td>\n      <td>NaN</td>\n      <td>NaN</td>\n      <td>0.004842</td>\n      <td>241.903541</td>\n      <td>-22.694477</td>\n      <td>36.381384</td>\n      <td>2141.0</td>\n      <td>8.788203</td>\n    </tr>\n    <tr>\n      <th>23562</th>\n      <td>20221028</td>\n      <td>399005.SZ</td>\n      <td>2022</td>\n      <td>3.308684e+08</td>\n      <td>3156.638702</td>\n      <td>0.9635</td>\n      <td>2.227230e+08</td>\n      <td>2.8926</td>\n      <td>1.9471</td>\n      <td>20.4090</td>\n      <td>...</td>\n      <td>7293.5300</td>\n      <td>-3.140318</td>\n      <td>NaN</td>\n      <td>NaN</td>\n      <td>0.004842</td>\n      <td>83.540859</td>\n      <td>-23.129944</td>\n      <td>50.151677</td>\n      <td>2144.0</td>\n      <td>9.861594</td>\n    </tr>\n    <tr>\n      <th>23563</th>\n      <td>20221028</td>\n      <td>399006.SZ</td>\n      <td>2022</td>\n      <td>1.580034e+08</td>\n      <td>1800.383211</td>\n      <td>1.3799</td>\n      <td>1.220097e+08</td>\n      <td>4.4799</td>\n      <td>3.4594</td>\n      <td>30.3598</td>\n      <td>...</td>\n      <td>2337.2500</td>\n      <td>-3.711199</td>\n      <td>NaN</td>\n      <td>NaN</td>\n      <td>0.004842</td>\n      <td>8845.061854</td>\n      <td>-24.327517</td>\n      <td>52.148060</td>\n      <td>2144.0</td>\n      <td>13.772998</td>\n    </tr>\n    <tr>\n      <th>23564</th>\n      <td>20221028</td>\n      <td>399310.SZ</td>\n      <td>2022</td>\n      <td>1.525638e+09</td>\n      <td>15430.058098</td>\n      <td>1.3643</td>\n      <td>1.151031e+09</td>\n      <td>1.4075</td>\n      <td>1.0619</td>\n      <td>10.4997</td>\n      <td>...</td>\n      <td>5682.8900</td>\n      <td>-2.940229</td>\n      <td>NaN</td>\n      <td>NaN</td>\n      <td>0.004842</td>\n      <td>202.048409</td>\n      <td>-17.063981</td>\n      <td>35.863497</td>\n      <td>2114.0</td>\n      <td>8.644949</td>\n    </tr>\n  </tbody>\n</table>\n<p>23565 rows × 46 columns</p>\n</div>"
     },
     "execution_count": 10,
     "metadata": {},
     "output_type": "execute_result"
    }
   ],
   "source": [
    "pd.read_parquet('/home/ubuntu/notebooks/DataSets/investor_sentiment/ANALYST_SENT_STATA_2014_2021.parquet')"
   ],
   "metadata": {
    "collapsed": false
   }
  },
  {
   "cell_type": "code",
   "execution_count": 10,
   "outputs": [],
   "source": [],
   "metadata": {
    "collapsed": false
   }
  }
 ],
 "metadata": {
  "kernelspec": {
   "name": "pytorch",
   "language": "python",
   "display_name": "Rapids"
  },
  "language_info": {
   "codemirror_mode": {
    "name": "ipython",
    "version": 2
   },
   "file_extension": ".py",
   "mimetype": "text/x-python",
   "name": "python",
   "nbconvert_exporter": "python",
   "pygments_lexer": "ipython2",
   "version": "2.7.6"
  }
 },
 "nbformat": 4,
 "nbformat_minor": 0
}
