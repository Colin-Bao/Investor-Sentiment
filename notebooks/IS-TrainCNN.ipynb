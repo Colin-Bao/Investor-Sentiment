{
 "cells": [
  {
   "cell_type": "markdown",
   "source": [
    "# CNN迁移学习"
   ],
   "metadata": {
    "collapsed": false
   }
  },
  {
   "cell_type": "markdown",
   "source": [
    "## 环境导入"
   ],
   "metadata": {
    "collapsed": false
   }
  },
  {
   "cell_type": "markdown",
   "source": [
    "参数区"
   ],
   "metadata": {
    "collapsed": false
   }
  },
  {
   "cell_type": "code",
   "execution_count": 1,
   "outputs": [],
   "source": [
    "DATASET_PATH_ROOT = '/data/DataSets/TWITTER_IMG_SENT_2015/dataset/'\n",
    "OUT_PATH_ROOT = '/data/Models/TWITTER_SENT_2015/'\n",
    "OUT_LOG_PATH = OUT_PATH_ROOT + 'logs/'\n",
    "BATCH_SIZE = 512\n",
    "TOTAL_EPOCH = 100"
   ],
   "metadata": {
    "collapsed": false
   }
  },
  {
   "cell_type": "code",
   "execution_count": 2,
   "outputs": [
    {
     "name": "stderr",
     "output_type": "stream",
     "text": [
      "2023-01-06 21:26:53.328618: I tensorflow/core/util/util.cc:169] oneDNN custom operations are on. You may see slightly different numerical results due to floating-point round-off errors from different computation orders. To turn them off, set the environment variable `TF_ENABLE_ONEDNN_OPTS=0`.\n"
     ]
    }
   ],
   "source": [
    "import os\n",
    "## 导入 Inceptionv3 模型\n",
    "from keras.applications.inception_v3 import InceptionV3, preprocess_input\n",
    "\n",
    "## 导入建立神经网络的基本模块\n",
    "from keras.preprocessing import image\n",
    "from keras.models import Model\n",
    "from keras.layers import Dense, GlobalAveragePooling2D\n",
    "\n",
    "from keras.optimizers import *\n",
    "from keras.losses import categorical_crossentropy\n",
    "\n",
    "## 导入数据增强模块\n",
    "import cv2\n",
    "from keras_preprocessing.image import ImageDataGenerator\n",
    "\n",
    "# 可视化\n",
    "# from keras.utils import plot_model\n",
    "# from keras_visualizer import visualizer\n",
    "# from IPython.display import Image, SVG, display\n",
    "from keras.callbacks import TensorBoard\n",
    "import datetime\n"
   ],
   "metadata": {
    "collapsed": false
   }
  },
  {
   "cell_type": "markdown",
   "source": [
    "## 数据准备"
   ],
   "metadata": {
    "collapsed": false
   }
  },
  {
   "cell_type": "code",
   "execution_count": 3,
   "outputs": [
    {
     "name": "stdout",
     "output_type": "stream",
     "text": [
      "Found 617 images belonging to 2 classes.\n",
      "Found 176 images belonging to 2 classes.\n"
     ]
    }
   ],
   "source": [
    "\n",
    "# 数据增强\n",
    "train_datagen = ImageDataGenerator(\n",
    "        preprocessing_function=preprocess_input,\n",
    "        # rescale=1. / 255,\n",
    "        rotation_range=30,\n",
    "        width_shift_range=0.2,\n",
    "        height_shift_range=0.2,\n",
    "        shear_range=0.2,\n",
    "        zoom_range=0.2,\n",
    "        horizontal_flip=True,\n",
    ")\n",
    "\n",
    "#\n",
    "val_datagen = ImageDataGenerator(\n",
    "        preprocessing_function=preprocess_input,\n",
    "        # rescale=1. / 255,\n",
    "        rotation_range=30,\n",
    "        width_shift_range=0.2,\n",
    "        height_shift_range=0.2,\n",
    "        shear_range=0.2,\n",
    "        zoom_range=0.2,\n",
    "        horizontal_flip=True,\n",
    ")\n",
    "\n",
    "# 数据输入 #Inception V3规定大小\n",
    "train_generator = train_datagen.flow_from_directory(directory=f'{DATASET_PATH_ROOT}train', target_size=(299, 299), batch_size=BATCH_SIZE)\n",
    "val_generator = val_datagen.flow_from_directory(directory=f'{DATASET_PATH_ROOT}validation', target_size=(299, 299), batch_size=BATCH_SIZE)"
   ],
   "metadata": {
    "collapsed": false
   }
  },
  {
   "cell_type": "markdown",
   "source": [
    "## 模型设定"
   ],
   "metadata": {
    "collapsed": false
   }
  },
  {
   "cell_type": "code",
   "execution_count": 4,
   "outputs": [
    {
     "name": "stderr",
     "output_type": "stream",
     "text": [
      "2023-01-06 21:26:55.243252: I tensorflow/stream_executor/cuda/cuda_gpu_executor.cc:975] successful NUMA node read from SysFS had negative value (-1), but there must be at least one NUMA node, so returning NUMA node zero\n",
      "2023-01-06 21:26:55.251679: I tensorflow/stream_executor/cuda/cuda_gpu_executor.cc:975] successful NUMA node read from SysFS had negative value (-1), but there must be at least one NUMA node, so returning NUMA node zero\n",
      "2023-01-06 21:26:55.253212: I tensorflow/stream_executor/cuda/cuda_gpu_executor.cc:975] successful NUMA node read from SysFS had negative value (-1), but there must be at least one NUMA node, so returning NUMA node zero\n",
      "2023-01-06 21:26:55.255151: I tensorflow/core/platform/cpu_feature_guard.cc:193] This TensorFlow binary is optimized with oneAPI Deep Neural Network Library (oneDNN) to use the following CPU instructions in performance-critical operations:  SSE4.1 SSE4.2 AVX AVX2 AVX512F AVX512_VNNI FMA\n",
      "To enable them in other operations, rebuild TensorFlow with the appropriate compiler flags.\n",
      "2023-01-06 21:26:55.255846: I tensorflow/stream_executor/cuda/cuda_gpu_executor.cc:975] successful NUMA node read from SysFS had negative value (-1), but there must be at least one NUMA node, so returning NUMA node zero\n",
      "2023-01-06 21:26:55.257404: I tensorflow/stream_executor/cuda/cuda_gpu_executor.cc:975] successful NUMA node read from SysFS had negative value (-1), but there must be at least one NUMA node, so returning NUMA node zero\n",
      "2023-01-06 21:26:55.258940: I tensorflow/stream_executor/cuda/cuda_gpu_executor.cc:975] successful NUMA node read from SysFS had negative value (-1), but there must be at least one NUMA node, so returning NUMA node zero\n",
      "2023-01-06 21:26:56.054803: I tensorflow/stream_executor/cuda/cuda_gpu_executor.cc:975] successful NUMA node read from SysFS had negative value (-1), but there must be at least one NUMA node, so returning NUMA node zero\n",
      "2023-01-06 21:26:56.056370: I tensorflow/stream_executor/cuda/cuda_gpu_executor.cc:975] successful NUMA node read from SysFS had negative value (-1), but there must be at least one NUMA node, so returning NUMA node zero\n",
      "2023-01-06 21:26:56.057870: I tensorflow/stream_executor/cuda/cuda_gpu_executor.cc:975] successful NUMA node read from SysFS had negative value (-1), but there must be at least one NUMA node, so returning NUMA node zero\n",
      "2023-01-06 21:26:56.059299: I tensorflow/core/common_runtime/gpu/gpu_device.cc:1532] Created device /job:localhost/replica:0/task:0/device:GPU:0 with 30964 MB memory:  -> device: 0, name: Tesla V100-SXM2-32GB, pci bus id: 0000:00:08.0, compute capability: 7.0\n"
     ]
    }
   ],
   "source": [
    "# 构建基础模型\n",
    "base_model = InceptionV3(weights='imagenet', include_top=False)  #去掉最后一层\n",
    "\n",
    "# 增加新的输出层\n",
    "x = base_model.output\n",
    "x = GlobalAveragePooling2D()(x)  # 添加全局平均池化层 将 MxNxC 的张量转换成 1xC 张量，C是通道数\n",
    "x = Dense(1024, activation='relu')(x)  # 添加一个全连接层\n",
    "predictions = Dense(2, activation='softmax')(x)  # 自定义自己的分类器，这是一个2分类的分类器\n",
    "model = Model(inputs=base_model.input, outputs=predictions)  # 构建我们需要训练的完整模型"
   ],
   "metadata": {
    "collapsed": false
   }
  },
  {
   "cell_type": "markdown",
   "source": [
    "## 迁移学习"
   ],
   "metadata": {
    "collapsed": false
   }
  },
  {
   "cell_type": "code",
   "execution_count": 5,
   "outputs": [
    {
     "data": {
      "text/plain": "Launching TensorBoard..."
     },
     "metadata": {},
     "output_type": "display_data"
    }
   ],
   "source": [
    "# 输出日志\n",
    "log_dir = OUT_LOG_PATH + 'fit/' + datetime.datetime.now().strftime(\"%Y%m%d-%H%M%S\")\n",
    "os.environ['TENSORBOARD_BINARY'] = '/usr/local/miniconda3/envs/TensorFlow/bin/tensorboard'\n",
    "\n",
    "# @formatter:off\n",
    "%load_ext tensorboard\n",
    "%tensorboard --logdir {log_dir} --port 6006 --bind_all\n",
    "# @formatter:on"
   ],
   "metadata": {
    "collapsed": false
   }
  },
  {
   "cell_type": "code",
   "execution_count": null,
   "outputs": [
    {
     "name": "stderr",
     "output_type": "stream",
     "text": [
      "2023-01-06 21:27:01.554440: I tensorflow/core/profiler/lib/profiler_session.cc:99] Profiler session initializing.\n",
      "2023-01-06 21:27:01.554481: I tensorflow/core/profiler/lib/profiler_session.cc:114] Profiler session started.\n",
      "2023-01-06 21:27:01.554520: I tensorflow/core/profiler/internal/gpu/cupti_tracer.cc:1665] Profiler found 1 GPUs\n",
      "2023-01-06 21:27:01.796254: I tensorflow/core/profiler/lib/profiler_session.cc:126] Profiler session tear down.\n",
      "/tmp/ipykernel_10651/2262979340.py:9: UserWarning: `Model.fit_generator` is deprecated and will be removed in a future version. Please use `Model.fit`, which supports generators.\n",
      "  history_tl = model.fit_generator(generator=train_generator,\n",
      "2023-01-06 21:27:01.798769: I tensorflow/core/profiler/internal/gpu/cupti_tracer.cc:1799] CUPTI activity buffer flushed\n"
     ]
    },
    {
     "name": "stdout",
     "output_type": "stream",
     "text": [
      "Epoch 1/100\n"
     ]
    },
    {
     "name": "stderr",
     "output_type": "stream",
     "text": [
      "2023-01-06 21:27:27.694415: I tensorflow/stream_executor/cuda/cuda_dnn.cc:384] Loaded cuDNN version 8401\n",
      "2023-01-06 21:27:28.502350: I tensorflow/core/platform/default/subprocess.cc:304] Start cannot spawn child process: No such file or directory\n"
     ]
    },
    {
     "name": "stdout",
     "output_type": "stream",
     "text": [
      "1/1 [==============================] - 34s 34s/step - loss: 0.8131 - accuracy: 0.3730\n",
      "Epoch 2/100\n",
      "1/1 [==============================] - 13s 13s/step - loss: 6.6307 - accuracy: 0.6758\n",
      "Epoch 3/100\n",
      "1/1 [==============================] - 13s 13s/step - loss: 4.1017 - accuracy: 0.6699\n",
      "Epoch 4/100\n",
      "1/1 [==============================] - 9s 9s/step - loss: 1.4719 - accuracy: 0.6667\n",
      "Epoch 5/100\n"
     ]
    },
    {
     "name": "stderr",
     "output_type": "stream",
     "text": [
      "2023-01-06 21:28:27.771513: I tensorflow/core/profiler/lib/profiler_session.cc:99] Profiler session initializing.\n",
      "2023-01-06 21:28:27.771553: I tensorflow/core/profiler/lib/profiler_session.cc:114] Profiler session started.\n"
     ]
    },
    {
     "name": "stdout",
     "output_type": "stream",
     "text": [
      "1/1 [==============================] - ETA: 0s - loss: 0.5495 - accuracy: 0.7619"
     ]
    },
    {
     "name": "stderr",
     "output_type": "stream",
     "text": [
      "2023-01-06 21:28:30.619713: I tensorflow/core/profiler/lib/profiler_session.cc:66] Profiler session collecting data.\n",
      "2023-01-06 21:28:30.623023: I tensorflow/core/profiler/internal/gpu/cupti_tracer.cc:1799] CUPTI activity buffer flushed\n",
      "2023-01-06 21:28:30.664436: I tensorflow/core/profiler/internal/gpu/cupti_collector.cc:521]  GpuTracer has collected 573 callback api events and 572 activity events. \n",
      "2023-01-06 21:28:30.676577: I tensorflow/core/profiler/lib/profiler_session.cc:126] Profiler session tear down.\n",
      "2023-01-06 21:28:30.687110: I tensorflow/core/profiler/rpc/client/save_profile.cc:136] Creating directory: /data/Models/TWITTER_SENT_2015/logs/fit/20230106-212658/plugins/profile/2023_01_06_21_28_30\n",
      "\n",
      "2023-01-06 21:28:30.694958: I tensorflow/core/profiler/rpc/client/save_profile.cc:142] Dumped gzipped tool data for trace.json.gz to /data/Models/TWITTER_SENT_2015/logs/fit/20230106-212658/plugins/profile/2023_01_06_21_28_30/VM-0-11-ubuntu.trace.json.gz\n",
      "2023-01-06 21:28:30.734703: I tensorflow/core/profiler/rpc/client/save_profile.cc:136] Creating directory: /data/Models/TWITTER_SENT_2015/logs/fit/20230106-212658/plugins/profile/2023_01_06_21_28_30\n",
      "\n",
      "2023-01-06 21:28:30.740423: I tensorflow/core/profiler/rpc/client/save_profile.cc:142] Dumped gzipped tool data for memory_profile.json.gz to /data/Models/TWITTER_SENT_2015/logs/fit/20230106-212658/plugins/profile/2023_01_06_21_28_30/VM-0-11-ubuntu.memory_profile.json.gz\n",
      "2023-01-06 21:28:30.741775: I tensorflow/core/profiler/rpc/client/capture_profile.cc:251] Creating directory: /data/Models/TWITTER_SENT_2015/logs/fit/20230106-212658/plugins/profile/2023_01_06_21_28_30\n",
      "Dumped tool data for xplane.pb to /data/Models/TWITTER_SENT_2015/logs/fit/20230106-212658/plugins/profile/2023_01_06_21_28_30/VM-0-11-ubuntu.xplane.pb\n",
      "Dumped tool data for overview_page.pb to /data/Models/TWITTER_SENT_2015/logs/fit/20230106-212658/plugins/profile/2023_01_06_21_28_30/VM-0-11-ubuntu.overview_page.pb\n",
      "Dumped tool data for input_pipeline.pb to /data/Models/TWITTER_SENT_2015/logs/fit/20230106-212658/plugins/profile/2023_01_06_21_28_30/VM-0-11-ubuntu.input_pipeline.pb\n",
      "Dumped tool data for tensorflow_stats.pb to /data/Models/TWITTER_SENT_2015/logs/fit/20230106-212658/plugins/profile/2023_01_06_21_28_30/VM-0-11-ubuntu.tensorflow_stats.pb\n",
      "Dumped tool data for kernel_stats.pb to /data/Models/TWITTER_SENT_2015/logs/fit/20230106-212658/plugins/profile/2023_01_06_21_28_30/VM-0-11-ubuntu.kernel_stats.pb\n",
      "\n"
     ]
    },
    {
     "name": "stdout",
     "output_type": "stream",
     "text": [
      "1/1 [==============================] - 5s 5s/step - loss: 0.5495 - accuracy: 0.7619\n",
      "Epoch 6/100\n",
      "1/1 [==============================] - 5s 5s/step - loss: 1.0349 - accuracy: 0.3238\n",
      "Epoch 7/100\n",
      "1/1 [==============================] - 5s 5s/step - loss: 1.0429 - accuracy: 0.3429\n",
      "Epoch 8/100\n",
      "1/1 [==============================] - 5s 5s/step - loss: 0.8627 - accuracy: 0.3905\n"
     ]
    }
   ],
   "source": [
    "# 锁层\n",
    "for layer in base_model.layers:\n",
    "    layer.trainable = False\n",
    "\n",
    "# 编译模型\n",
    "model.compile(optimizer='adam', loss='categorical_crossentropy', metrics=['accuracy'])  # rmsprop\n",
    "\n",
    "# 拟合模型\n",
    "history_tl = model.fit_generator(generator=train_generator,\n",
    "                                 steps_per_epoch=(617 // BATCH_SIZE),  #800\n",
    "                                 epochs=TOTAL_EPOCH,  #2\n",
    "                                 validation_data=val_generator,\n",
    "                                 validation_steps=(176 // BATCH_SIZE),  #12\n",
    "                                 class_weight=None,  #不要这个,\n",
    "                                 callbacks=[TensorBoard(log_dir=log_dir, profile_batch=5, histogram_freq=1)]\n",
    "                                 )\n",
    "# 保存\n",
    "model.save(f'{OUT_PATH_ROOT}Twitter2015_iv3_tl.h5')"
   ],
   "metadata": {
    "collapsed": false,
    "pycharm": {
     "is_executing": true
    }
   }
  }
 ],
 "metadata": {
  "kernelspec": {
   "name": "tensorflow",
   "language": "python",
   "display_name": "TensorFlow"
  },
  "language_info": {
   "codemirror_mode": {
    "name": "ipython",
    "version": 2
   },
   "file_extension": ".py",
   "mimetype": "text/x-python",
   "name": "python",
   "nbconvert_exporter": "python",
   "pygments_lexer": "ipython2",
   "version": "2.7.6"
  }
 },
 "nbformat": 4,
 "nbformat_minor": 0
}
