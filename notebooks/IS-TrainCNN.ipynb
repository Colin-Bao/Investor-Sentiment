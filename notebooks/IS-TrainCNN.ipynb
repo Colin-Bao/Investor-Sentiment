{
 "cells": [
  {
   "cell_type": "markdown",
   "metadata": {},
   "source": [
    "# CNN迁移学习"
   ]
  },
  {
   "cell_type": "markdown",
   "metadata": {},
   "source": [
    "## 环境导入"
   ]
  },
  {
   "cell_type": "code",
   "execution_count": null,
   "outputs": [],
   "source": [],
   "metadata": {
    "collapsed": false
   }
  },
  {
   "cell_type": "code",
   "execution_count": null,
   "metadata": {
    "collapsed": false,
    "execution": {
     "iopub.execute_input": "2023-01-06T22:57:53.487034Z",
     "iopub.status.busy": "2023-01-06T22:57:53.486794Z",
     "iopub.status.idle": "2023-01-06T22:57:55.389696Z",
     "shell.execute_reply": "2023-01-06T22:57:55.389019Z",
     "shell.execute_reply.started": "2023-01-06T22:57:53.486981Z"
    },
    "jupyter": {
     "outputs_hidden": false
    }
   },
   "outputs": [
    {
     "name": "stderr",
     "output_type": "stream",
     "text": [
      "2023-02-26 11:43:42.371250: I tensorflow/core/util/util.cc:169] oneDNN custom operations are on. You may see slightly different numerical results due to floating-point round-off errors from different computation orders. To turn them off, set the environment variable `TF_ENABLE_ONEDNN_OPTS=0`.\n"
     ]
    }
   ],
   "source": [
    "import os\n",
    "## 导入 Inceptionv3 模型\n",
    "from keras.applications.inception_v3 import InceptionV3, preprocess_input\n",
    "\n",
    "# 导入建立神经网络的基本模块\n",
    "from keras.preprocessing import image\n",
    "from keras.models import Model, load_model\n",
    "from keras.layers import Dense, GlobalAveragePooling2D, Dropout\n",
    "from keras.optimizers import *\n",
    "from keras.losses import categorical_crossentropy\n",
    "\n",
    "# 导入数据增强模块\n",
    "import cv2\n",
    "from keras_preprocessing.image import ImageDataGenerator\n",
    "\n",
    "# 超参数调节\n",
    "import tensorflow as tf\n",
    "from tensorboard.plugins.hparams import api as hp\n",
    "\n",
    "# 可视化\n",
    "# from keras.utils import plot_model\n",
    "# from keras_visualizer import visualizer\n",
    "# from IPython.display import Image, SVG, display\n",
    "import datetime\n",
    "from packaging import version\n",
    "\n",
    "# 回调\n",
    "from keras.callbacks import TensorBoard, ModelCheckpoint, EarlyStopping, ReduceLROnPlateau\n",
    "\n",
    "# from tensorflow.keras import mixed_precision"
   ]
  },
  {
   "cell_type": "markdown",
   "metadata": {},
   "source": [
    "## 参数区"
   ]
  },
  {
   "cell_type": "code",
   "execution_count": null,
   "metadata": {
    "collapsed": false,
    "execution": {
     "iopub.execute_input": "2023-01-06T22:57:55.391852Z",
     "iopub.status.busy": "2023-01-06T22:57:55.391148Z",
     "iopub.status.idle": "2023-01-06T22:57:55.394671Z",
     "shell.execute_reply": "2023-01-06T22:57:55.394102Z",
     "shell.execute_reply.started": "2023-01-06T22:57:55.391829Z"
    },
    "jupyter": {
     "outputs_hidden": false
    }
   },
   "outputs": [],
   "source": [
    "# policy = mixed_precision.Policy('mixed_float16')\n",
    "# mixed_precision.set_global_policy(policy)\n",
    "# os.environ['TF_KERAS'] = '1'  # 必须使用tf.keras\n",
    "# os.environ['TF_XLA_FLAGS'] = '--tf_xla_auto_jit=1'  # 启用XLA"
   ]
  },
  {
   "cell_type": "code",
   "execution_count": null,
   "metadata": {
    "collapsed": false,
    "execution": {
     "iopub.execute_input": "2023-01-06T22:57:55.396014Z",
     "iopub.status.busy": "2023-01-06T22:57:55.395791Z",
     "iopub.status.idle": "2023-01-06T22:57:55.400927Z",
     "shell.execute_reply": "2023-01-06T22:57:55.400381Z",
     "shell.execute_reply.started": "2023-01-06T22:57:55.395996Z"
    },
    "jupyter": {
     "outputs_hidden": false
    }
   },
   "outputs": [],
   "source": [
    "DATASET_PATH_ROOT = '/data/DataSets/TWITTER_IMG_SENT_2015/dataset/'\n",
    "OUT_PATH_ROOT = '/data/Models/TWITTER_SENT_2015/'\n",
    "OUT_LOG_PATH = OUT_PATH_ROOT + 'logs/'\n",
    "\n",
    "TOTAL_EPOCH = 500\n",
    "VAL_FREQ = 1"
   ]
  },
  {
   "cell_type": "markdown",
   "metadata": {},
   "source": [
    "超参数\n",
    "\n",
    "200次迭代后表现良好\n",
    "\n",
    "/home/ubuntu/notebook/Models/TWITTER_SENT_2015/logs/hparam_tuning/20230107-065755/run-2"
   ]
  },
  {
   "cell_type": "code",
   "execution_count": null,
   "metadata": {
    "collapsed": false,
    "execution": {
     "iopub.execute_input": "2023-01-06T22:57:55.402067Z",
     "iopub.status.busy": "2023-01-06T22:57:55.401647Z",
     "iopub.status.idle": "2023-01-06T22:57:55.407257Z",
     "shell.execute_reply": "2023-01-06T22:57:55.406732Z",
     "shell.execute_reply.started": "2023-01-06T22:57:55.402040Z"
    },
    "jupyter": {
     "outputs_hidden": false
    }
   },
   "outputs": [],
   "source": [
    "HP_NUM_UNITS = hp.HParam('num_units', hp.Discrete([512, ]))\n",
    "HP_DROPOUT = hp.HParam('dropout', hp.Discrete([0.2]))\n",
    "HP_OPTIMIZER = hp.HParam('optimizer', hp.Discrete(['adam']))\n",
    "# HP_METHOD = hp.HParam('train_method', hp.Discrete(['TransferLearning', 'FineTune']))\n",
    "HP_L_RATE = hp.HParam('learning_rate', hp.Discrete([0.001, 0.0001, 0.00001]))"
   ]
  },
  {
   "cell_type": "markdown",
   "metadata": {},
   "source": [
    "## 数据准备"
   ]
  },
  {
   "cell_type": "code",
   "execution_count": null,
   "metadata": {
    "collapsed": false,
    "execution": {
     "iopub.execute_input": "2023-01-06T22:57:55.408388Z",
     "iopub.status.busy": "2023-01-06T22:57:55.408000Z",
     "iopub.status.idle": "2023-01-06T22:57:55.477795Z",
     "shell.execute_reply": "2023-01-06T22:57:55.477188Z",
     "shell.execute_reply.started": "2023-01-06T22:57:55.408368Z"
    },
    "jupyter": {
     "outputs_hidden": false
    }
   },
   "outputs": [],
   "source": [
    "# 训练集\n",
    "train_datagen = ImageDataGenerator(\n",
    "        preprocessing_function=preprocess_input,\n",
    "        # rescale=1. / 255,\n",
    "        rotation_range=30,\n",
    "        width_shift_range=0.2,\n",
    "        height_shift_range=0.2,\n",
    "        shear_range=0.2,\n",
    "        zoom_range=0.2,\n",
    "        horizontal_flip=True,\n",
    ")\n",
    "\n",
    "#验证集\n",
    "val_datagen = ImageDataGenerator(\n",
    "        preprocessing_function=preprocess_input,\n",
    "        # rescale=1. / 255,\n",
    "        rotation_range=30,\n",
    "        width_shift_range=0.2,\n",
    "        height_shift_range=0.2,\n",
    "        shear_range=0.2,\n",
    "        zoom_range=0.2,\n",
    "        horizontal_flip=True,\n",
    ")\n",
    "\n",
    "# 测试集\n",
    "test_datagen = ImageDataGenerator(preprocessing_function=preprocess_input, )\n",
    "\n",
    "# 数据输入\n",
    "train_generator = train_datagen.flow_from_directory(directory=f'{DATASET_PATH_ROOT}train', target_size=(299, 299), batch_size=617)\n",
    "val_generator = val_datagen.flow_from_directory(directory=f'{DATASET_PATH_ROOT}validation', target_size=(299, 299), batch_size=176)\n",
    "test_generator = test_datagen.flow_from_directory(directory=f'{DATASET_PATH_ROOT}test', target_size=(299, 299), batch_size=89)"
   ]
  },
  {
   "cell_type": "markdown",
   "metadata": {},
   "source": [
    "## 迁移学习"
   ]
  },
  {
   "cell_type": "code",
   "execution_count": null,
   "metadata": {
    "collapsed": false,
    "execution": {
     "iopub.execute_input": "2023-01-06T22:57:55.479095Z",
     "iopub.status.busy": "2023-01-06T22:57:55.478623Z"
    },
    "jupyter": {
     "outputs_hidden": false
    }
   },
   "outputs": [],
   "source": [
    "# 输出日志\n",
    "LOG_DIR = OUT_LOG_PATH + 'hparam_tuning/' + datetime.datetime.now().strftime(\"%Y%m%d-%H%M%S\") + '/'\n",
    "os.environ['TENSORBOARD_BINARY'] = '/usr/local/miniconda3/envs/TensorFlow/bin/tensorboard'\n",
    "\n",
    "# @formatter:off\n",
    "%load_ext tensorboard\n",
    "%tensorboard --logdir {LOG_DIR} --port 6006 --bind_all\n",
    "# tensorboard --logdir /data/Models/TWITTER_SENT_2015/logs/hparam_tuning/20230110-172807 --port 6006 --bind_all\n",
    "# @formatter:on"
   ]
  },
  {
   "cell_type": "code",
   "execution_count": null,
   "metadata": {
    "collapsed": false,
    "jupyter": {
     "outputs_hidden": false
    }
   },
   "outputs": [],
   "source": [
    "def start_transfer_learning(run_dir, hparams):\n",
    "    # 构建基础模型\n",
    "    base_model = InceptionV3(weights='imagenet', include_top=False)  #去掉最后一层\n",
    "\n",
    "    # 增加新的输出层\n",
    "    x = base_model.output\n",
    "    x = GlobalAveragePooling2D()(x)  # 添加全局平均池化层 将 MxNxC 的张量转换成 1xC 张量，C是通道数\n",
    "    x = Dense(hparams[HP_NUM_UNITS], activation='relu')(x)  # 添加一个全连接层\n",
    "    x = Dropout(hparams[HP_DROPOUT])(x)  # 添加一个隐藏层\n",
    "    predictions = Dense(2, activation='softmax')(x)  # 自定义自己的分类器，这是一个2分类的分类器\n",
    "    model = Model(inputs=base_model.input, outputs=predictions)  # 构建我们需要训练的完整模型\n",
    "\n",
    "    # 锁层\n",
    "    base_model.trainable = False\n",
    "\n",
    "    # 学习率调整\n",
    "    if hparams[HP_OPTIMIZER] == 'adam':\n",
    "        optimizer = Adam(learning_rate=hparams[HP_L_RATE])\n",
    "    elif hparams[HP_OPTIMIZER] == 'svd':\n",
    "        optimizer = SGD(learning_rate=hparams[HP_L_RATE])\n",
    "    else:\n",
    "        raise Exception('No optimizer')\n",
    "\n",
    "    # 编译模型\n",
    "    model.compile(optimizer=optimizer, loss='categorical_crossentropy', metrics=['accuracy'])\n",
    "    # model.summary()\n",
    "\n",
    "    # 训练\n",
    "    model.fit(train_generator,\n",
    "              steps_per_epoch=1,  #800\n",
    "              epochs=TOTAL_EPOCH,\n",
    "              validation_data=val_generator,\n",
    "              validation_steps=1,\n",
    "              validation_freq=VAL_FREQ,  # 验证频率\n",
    "              class_weight=None,  # 样本是均衡的\n",
    "              callbacks=\n",
    "              [TensorBoard(log_dir=run_dir, ),  #TensorBoardprofile_batch='1,10',\n",
    "               hp.KerasCallback(run_dir, hparams),  #超参数\n",
    "               # EarlyStopping(monitor='val_accuracy',patience=20,baseline=0.88,restore_best_weights=True, ),  # 早停选项\n",
    "               # ReduceLROnPlateau(monitor='val_accuracy', ),  # 学习率衰减\n",
    "               ModelCheckpoint(f'{run_dir}/Twitter2015_iv3_tl.h5', monitor='val_accuracy', save_best_only=True, save_freq='epoch')  #检查点\n",
    "               ],\n",
    "              workers=10,  # 线程\n",
    "              )\n",
    "\n",
    "    # 微调 mixed8 248\n",
    "    # for layer in model.layers[:248]: layer.trainable = False\n",
    "    # for layer in model.layers[248:]: layer.trainable = True\n",
    "    #\n",
    "    # # 编译模型\n",
    "    # model.compile(optimizer=SGD(lr=0.0001, momentum=0.9), loss='categorical_crossentropy', metrics=['accuracy'])\n",
    "    # model.summary()\n",
    "    #\n",
    "    # # 训练\n",
    "    # model.fit(train_generator,\n",
    "    #           steps_per_epoch=1,  #800\n",
    "    #           epochs=TOTAL_EPOCH,\n",
    "    #           validation_data=val_generator,\n",
    "    #           validation_steps=1,\n",
    "    #           validation_freq=VAL_FREQ,  # 验证频率\n",
    "    #           class_weight=None,  # 样本是均衡的\n",
    "    #           callbacks=\n",
    "    #           [TensorBoard(log_dir=run_dir, histogram_freq=1, profile_batch='500,520'),  #TensorBoard\n",
    "    #            hp.KerasCallback(run_dir, hparams),  #超参数\n",
    "    #            EarlyStopping(monitor='val_accuracy', patience=20),  # 早停选项\n",
    "    #            ReduceLROnPlateau(monitor='val_accuracy', patience=20),  # 学习率衰减\n",
    "    #            ModelCheckpoint(f'{run_dir}/Twitter2015_iv3_tl.h5', monitor='val_accuracy', save_best_only=True, save_freq='epoch')  #检查点\n",
    "    #            ],\n",
    "    #           workers=5,  # 线程\n",
    "    #           )\n",
    "\n",
    "    # 在测试集上评估\n",
    "    # scores = model.evaluate_generator(test_generator)\n",
    "    # print(scores)\n",
    "\n",
    "    # return scores\n"
   ]
  },
  {
   "cell_type": "markdown",
   "metadata": {},
   "source": [
    "## 超参数调整"
   ]
  },
  {
   "cell_type": "code",
   "execution_count": null,
   "metadata": {
    "collapsed": false,
    "jupyter": {
     "outputs_hidden": false
    },
    "tags": []
   },
   "outputs": [],
   "source": [
    "# 超参数运行\n",
    "def run_hparams():\n",
    "    session_num = 0\n",
    "    for num_units in HP_NUM_UNITS.domain.values:\n",
    "        for dropout_rate in HP_DROPOUT.domain.values:\n",
    "            for optimizer in HP_OPTIMIZER.domain.values:\n",
    "                for learning_rate in HP_L_RATE.domain.values:\n",
    "                    start_transfer_learning(\n",
    "                            LOG_DIR + f'run-{session_num}',\n",
    "                            {\n",
    "                                    HP_NUM_UNITS: num_units,\n",
    "                                    HP_DROPOUT  : dropout_rate,\n",
    "                                    HP_OPTIMIZER: optimizer,\n",
    "                                    HP_L_RATE   : learning_rate,\n",
    "                            }\n",
    "                    )\n",
    "                    session_num += 1\n",
    "\n",
    "# run_hparams()"
   ]
  },
  {
   "cell_type": "markdown",
   "metadata": {},
   "source": [
    "## 推理任务"
   ]
  },
  {
   "cell_type": "code",
   "execution_count": null,
   "metadata": {
    "collapsed": false,
    "jupyter": {
     "outputs_hidden": false
    }
   },
   "outputs": [],
   "source": [
    "\n",
    "# BEST_TRAINACC_MODEL = f'/home/ubuntu/notebook/Models/TWITTER_SENT_2015/logs/hparam_tuning/20230107-065755/run-7/Twitter2015_iv3_tl.h5'\n",
    "# read_model = load_model(BEST_TRAINACC_MODEL)\n",
    "# read_model.evaluate(test_generator)\n"
   ]
  }
 ],
 "metadata": {
  "kernelspec": {
   "name": "pytorch",
   "language": "python",
   "display_name": "Rapids"
  },
  "language_info": {
   "codemirror_mode": {
    "name": "ipython",
    "version": 3
   },
   "file_extension": ".py",
   "mimetype": "text/x-python",
   "name": "python",
   "nbconvert_exporter": "python",
   "pygments_lexer": "ipython3",
   "version": "3.9.15"
  }
 },
 "nbformat": 4,
 "nbformat_minor": 4
}
