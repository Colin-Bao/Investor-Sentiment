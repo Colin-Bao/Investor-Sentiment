{
 "cells": [
  {
   "cell_type": "markdown",
   "source": [
    "# 结构方程模型专题\n"
   ],
   "metadata": {
    "collapsed": false
   }
  },
  {
   "cell_type": "code",
   "execution_count": null,
   "outputs": [],
   "source": [
    "import sys\n",
    "import os\n",
    "import cudf  #CUDA计算\n",
    "import pandas as pd\n",
    "import numpy as np\n",
    "\n",
    "# 自行编写的包\n",
    "sys.path.append('/home/ubuntu/notebook/Investor-Sentiment')\n",
    "sys.path.append('/usr/local/stata17/utilities')\n",
    "from loader.findata_loader import Loader\n",
    "from utils.sql import DB\n",
    "\n",
    "# Stata\n",
    "from pystata import config\n",
    "\n",
    "config.init('mp')\n",
    "# ------------------------------数据集路径----------------------------------#\n",
    "DATASETS_PATH = '/data/DataSets/investor_sentiment/'\n",
    "# 结构方程模型专题\n",
    "#"
   ],
   "metadata": {
    "collapsed": false
   }
  },
  {
   "cell_type": "markdown",
   "source": [
    "## 数据准备\n",
    "详细的各个指标计算见每个笔记本,这里是已经处理和计算好的数据"
   ],
   "metadata": {
    "collapsed": false
   }
  },
  {
   "cell_type": "markdown",
   "source": [
    "### 媒体情绪"
   ],
   "metadata": {
    "collapsed": false
   }
  },
  {
   "cell_type": "code",
   "execution_count": null,
   "outputs": [],
   "source": [
    "df_media = cudf.read_parquet(DATASETS_PATH + 'MEDIA_SENT_TDATE_WC.parquet')\n",
    "df_media"
   ],
   "metadata": {
    "collapsed": false
   }
  },
  {
   "cell_type": "markdown",
   "source": [
    "### 投资者情绪"
   ],
   "metadata": {
    "collapsed": false
   }
  },
  {
   "cell_type": "code",
   "execution_count": null,
   "outputs": [],
   "source": [
    "df_investor = cudf.read_parquet(DATASETS_PATH + 'FORUM_SENT_TDATE_CSMAR.parquet').fillna(0)\n",
    "df_investor"
   ],
   "metadata": {
    "collapsed": false
   }
  },
  {
   "cell_type": "markdown",
   "source": [
    "### 分析师情绪"
   ],
   "metadata": {
    "collapsed": false
   }
  },
  {
   "cell_type": "code",
   "execution_count": null,
   "outputs": [],
   "source": [
    "df_analyst = cudf.read_parquet(DATASETS_PATH + 'ANALYST_SENT_TDATE_SUNTIME.parquet')\n",
    "df_analyst"
   ],
   "metadata": {
    "collapsed": false
   }
  },
  {
   "cell_type": "markdown",
   "source": [
    "### 合并和筛选"
   ],
   "metadata": {
    "collapsed": false
   }
  },
  {
   "cell_type": "code",
   "execution_count": null,
   "outputs": [],
   "source": [
    "df_sem = (\n",
    "        cudf.merge(df_analyst.reset_index(),\n",
    "                   cudf.merge(df_media.reset_index(), df_investor.reset_index(), on='trade_date', how='left'),\n",
    "                   on='trade_date', how='left').astype(dtype={'trade_date': 'str'})\n",
    "        .set_index(['trade_date', 'ts_code']).sort_index().reset_index()\n",
    ")\n",
    "\n",
    "df_sem"
   ],
   "metadata": {
    "collapsed": false
   }
  },
  {
   "cell_type": "markdown",
   "source": [
    "## 结构方程模型"
   ],
   "metadata": {
    "collapsed": false
   }
  },
  {
   "cell_type": "code",
   "execution_count": null,
   "outputs": [],
   "source": [
    "# 导出到stata分析\n",
    "# df_sem.to_csv(DATASETS_PATH + 'stata_sem.csv')\n",
    "# pd.DataFrame.to_stata()"
   ],
   "metadata": {
    "collapsed": false
   }
  },
  {
   "cell_type": "markdown",
   "source": [],
   "metadata": {
    "collapsed": false
   }
  },
  {
   "cell_type": "markdown",
   "source": [
    "## 数据准备\n",
    "详细的各个指标计算见每个笔记本,这里是已经处理和计算好的数据"
   ],
   "metadata": {
    "collapsed": false
   }
  },
  {
   "cell_type": "markdown",
   "source": [
    "### 媒体情绪"
   ],
   "metadata": {
    "collapsed": false
   }
  },
  {
   "cell_type": "code",
   "execution_count": 2,
   "outputs": [
    {
     "data": {
      "text/plain": "             img_neg   tex_neg\ntrade_date                    \n20140102    0.000000  0.000000\n20140103    0.000000  0.333333\n20140106    0.285714  0.142857\n20140107    0.000000  0.333333\n20140108    0.333333  0.000000\n...              ...       ...\n20220621    0.238095  0.285714\n20220622    0.227273  0.227273\n20220623    0.363636  0.363636\n20220624    0.200000  0.300000\n20220627    0.200000  0.133333\n\n[2064 rows x 2 columns]",
      "text/html": "<div>\n<style scoped>\n    .dataframe tbody tr th:only-of-type {\n        vertical-align: middle;\n    }\n\n    .dataframe tbody tr th {\n        vertical-align: top;\n    }\n\n    .dataframe thead th {\n        text-align: right;\n    }\n</style>\n<table border=\"1\" class=\"dataframe\">\n  <thead>\n    <tr style=\"text-align: right;\">\n      <th></th>\n      <th>img_neg</th>\n      <th>tex_neg</th>\n    </tr>\n    <tr>\n      <th>trade_date</th>\n      <th></th>\n      <th></th>\n    </tr>\n  </thead>\n  <tbody>\n    <tr>\n      <th>20140102</th>\n      <td>0.000000</td>\n      <td>0.000000</td>\n    </tr>\n    <tr>\n      <th>20140103</th>\n      <td>0.000000</td>\n      <td>0.333333</td>\n    </tr>\n    <tr>\n      <th>20140106</th>\n      <td>0.285714</td>\n      <td>0.142857</td>\n    </tr>\n    <tr>\n      <th>20140107</th>\n      <td>0.000000</td>\n      <td>0.333333</td>\n    </tr>\n    <tr>\n      <th>20140108</th>\n      <td>0.333333</td>\n      <td>0.000000</td>\n    </tr>\n    <tr>\n      <th>...</th>\n      <td>...</td>\n      <td>...</td>\n    </tr>\n    <tr>\n      <th>20220621</th>\n      <td>0.238095</td>\n      <td>0.285714</td>\n    </tr>\n    <tr>\n      <th>20220622</th>\n      <td>0.227273</td>\n      <td>0.227273</td>\n    </tr>\n    <tr>\n      <th>20220623</th>\n      <td>0.363636</td>\n      <td>0.363636</td>\n    </tr>\n    <tr>\n      <th>20220624</th>\n      <td>0.200000</td>\n      <td>0.300000</td>\n    </tr>\n    <tr>\n      <th>20220627</th>\n      <td>0.200000</td>\n      <td>0.133333</td>\n    </tr>\n  </tbody>\n</table>\n<p>2064 rows × 2 columns</p>\n</div>"
     },
     "execution_count": 2,
     "metadata": {},
     "output_type": "execute_result"
    }
   ],
   "source": [
    "df_media = cudf.read_parquet(DATASETS_PATH + 'MEDIA_SENT_TDATE_WC.parquet')\n",
    "df_media"
   ],
   "metadata": {
    "collapsed": false
   }
  },
  {
   "cell_type": "markdown",
   "source": [
    "### 投资者情绪"
   ],
   "metadata": {
    "collapsed": false
   }
  },
  {
   "cell_type": "code",
   "execution_count": 3,
   "outputs": [
    {
     "data": {
      "text/plain": "              IndexA    IndexB     Posts     Readings   Comments   ThumbUps  \\\ntrade_date                                                                    \n20140102    0.000000  0.000000       0.0         0.00       0.00       0.00   \n20140103    0.000000  0.000000       2.0    107379.00     342.00       2.00   \n20140106    0.000000  0.000000       2.0     22652.00      47.00       0.00   \n20140107    0.000000  0.000000       0.0         0.00       0.00       0.00   \n20140108    0.000000  0.000000       0.0         0.00       0.00       0.00   \n...              ...       ...       ...          ...        ...        ...   \n20211012   -0.229368 -0.467035  120497.0  26442508.27  273224.20  172338.87   \n20211013   -0.226023 -0.459981  123178.0  27651587.71  288526.17  177561.46   \n20211014   -0.188129 -0.380788  135718.0  30212375.19  303991.93  188185.02   \n20211015   -0.268408 -0.550281   96804.0  19564087.44  218796.43  121423.77   \n20211018    0.000000  0.000000       0.0         0.00       0.00       0.00   \n\n            PosPosts  NeuPosts  NegPosts  PosRatio  NeuRatio  NegRatio  \ntrade_date                                                              \n20140102         0.0       0.0       0.0  0.000000  0.000000  0.000000  \n20140103         1.0       0.0       1.0  0.500000  0.000000  0.500000  \n20140106         1.0       0.0       1.0  0.500000  0.000000  0.500000  \n20140107         0.0       0.0       0.0  0.000000  0.000000  0.000000  \n20140108         0.0       0.0       0.0  0.000000  0.000000  0.000000  \n...              ...       ...       ...       ...       ...       ...  \n20211012     42169.0   11057.0   67271.0  0.349959  0.091762  0.558279  \n20211013     43256.0   11402.0   68520.0  0.351167  0.092565  0.556268  \n20211014     50036.0   12457.0   73225.0  0.368676  0.091786  0.539538  \n20211015     32133.0    8960.0   55711.0  0.331939  0.092558  0.575503  \n20211018         0.0       0.0       0.0  0.000000  0.000000  0.000000  \n\n[1896 rows x 12 columns]",
      "text/html": "<div>\n<style scoped>\n    .dataframe tbody tr th:only-of-type {\n        vertical-align: middle;\n    }\n\n    .dataframe tbody tr th {\n        vertical-align: top;\n    }\n\n    .dataframe thead th {\n        text-align: right;\n    }\n</style>\n<table border=\"1\" class=\"dataframe\">\n  <thead>\n    <tr style=\"text-align: right;\">\n      <th></th>\n      <th>IndexA</th>\n      <th>IndexB</th>\n      <th>Posts</th>\n      <th>Readings</th>\n      <th>Comments</th>\n      <th>ThumbUps</th>\n      <th>PosPosts</th>\n      <th>NeuPosts</th>\n      <th>NegPosts</th>\n      <th>PosRatio</th>\n      <th>NeuRatio</th>\n      <th>NegRatio</th>\n    </tr>\n    <tr>\n      <th>trade_date</th>\n      <th></th>\n      <th></th>\n      <th></th>\n      <th></th>\n      <th></th>\n      <th></th>\n      <th></th>\n      <th></th>\n      <th></th>\n      <th></th>\n      <th></th>\n      <th></th>\n    </tr>\n  </thead>\n  <tbody>\n    <tr>\n      <th>20140102</th>\n      <td>0.000000</td>\n      <td>0.000000</td>\n      <td>0.0</td>\n      <td>0.00</td>\n      <td>0.00</td>\n      <td>0.00</td>\n      <td>0.0</td>\n      <td>0.0</td>\n      <td>0.0</td>\n      <td>0.000000</td>\n      <td>0.000000</td>\n      <td>0.000000</td>\n    </tr>\n    <tr>\n      <th>20140103</th>\n      <td>0.000000</td>\n      <td>0.000000</td>\n      <td>2.0</td>\n      <td>107379.00</td>\n      <td>342.00</td>\n      <td>2.00</td>\n      <td>1.0</td>\n      <td>0.0</td>\n      <td>1.0</td>\n      <td>0.500000</td>\n      <td>0.000000</td>\n      <td>0.500000</td>\n    </tr>\n    <tr>\n      <th>20140106</th>\n      <td>0.000000</td>\n      <td>0.000000</td>\n      <td>2.0</td>\n      <td>22652.00</td>\n      <td>47.00</td>\n      <td>0.00</td>\n      <td>1.0</td>\n      <td>0.0</td>\n      <td>1.0</td>\n      <td>0.500000</td>\n      <td>0.000000</td>\n      <td>0.500000</td>\n    </tr>\n    <tr>\n      <th>20140107</th>\n      <td>0.000000</td>\n      <td>0.000000</td>\n      <td>0.0</td>\n      <td>0.00</td>\n      <td>0.00</td>\n      <td>0.00</td>\n      <td>0.0</td>\n      <td>0.0</td>\n      <td>0.0</td>\n      <td>0.000000</td>\n      <td>0.000000</td>\n      <td>0.000000</td>\n    </tr>\n    <tr>\n      <th>20140108</th>\n      <td>0.000000</td>\n      <td>0.000000</td>\n      <td>0.0</td>\n      <td>0.00</td>\n      <td>0.00</td>\n      <td>0.00</td>\n      <td>0.0</td>\n      <td>0.0</td>\n      <td>0.0</td>\n      <td>0.000000</td>\n      <td>0.000000</td>\n      <td>0.000000</td>\n    </tr>\n    <tr>\n      <th>...</th>\n      <td>...</td>\n      <td>...</td>\n      <td>...</td>\n      <td>...</td>\n      <td>...</td>\n      <td>...</td>\n      <td>...</td>\n      <td>...</td>\n      <td>...</td>\n      <td>...</td>\n      <td>...</td>\n      <td>...</td>\n    </tr>\n    <tr>\n      <th>20211012</th>\n      <td>-0.229368</td>\n      <td>-0.467035</td>\n      <td>120497.0</td>\n      <td>26442508.27</td>\n      <td>273224.20</td>\n      <td>172338.87</td>\n      <td>42169.0</td>\n      <td>11057.0</td>\n      <td>67271.0</td>\n      <td>0.349959</td>\n      <td>0.091762</td>\n      <td>0.558279</td>\n    </tr>\n    <tr>\n      <th>20211013</th>\n      <td>-0.226023</td>\n      <td>-0.459981</td>\n      <td>123178.0</td>\n      <td>27651587.71</td>\n      <td>288526.17</td>\n      <td>177561.46</td>\n      <td>43256.0</td>\n      <td>11402.0</td>\n      <td>68520.0</td>\n      <td>0.351167</td>\n      <td>0.092565</td>\n      <td>0.556268</td>\n    </tr>\n    <tr>\n      <th>20211014</th>\n      <td>-0.188129</td>\n      <td>-0.380788</td>\n      <td>135718.0</td>\n      <td>30212375.19</td>\n      <td>303991.93</td>\n      <td>188185.02</td>\n      <td>50036.0</td>\n      <td>12457.0</td>\n      <td>73225.0</td>\n      <td>0.368676</td>\n      <td>0.091786</td>\n      <td>0.539538</td>\n    </tr>\n    <tr>\n      <th>20211015</th>\n      <td>-0.268408</td>\n      <td>-0.550281</td>\n      <td>96804.0</td>\n      <td>19564087.44</td>\n      <td>218796.43</td>\n      <td>121423.77</td>\n      <td>32133.0</td>\n      <td>8960.0</td>\n      <td>55711.0</td>\n      <td>0.331939</td>\n      <td>0.092558</td>\n      <td>0.575503</td>\n    </tr>\n    <tr>\n      <th>20211018</th>\n      <td>0.000000</td>\n      <td>0.000000</td>\n      <td>0.0</td>\n      <td>0.00</td>\n      <td>0.00</td>\n      <td>0.00</td>\n      <td>0.0</td>\n      <td>0.0</td>\n      <td>0.0</td>\n      <td>0.000000</td>\n      <td>0.000000</td>\n      <td>0.000000</td>\n    </tr>\n  </tbody>\n</table>\n<p>1896 rows × 12 columns</p>\n</div>"
     },
     "execution_count": 3,
     "metadata": {},
     "output_type": "execute_result"
    }
   ],
   "source": [
    "df_investor = cudf.read_parquet(DATASETS_PATH + 'FORUM_SENT_TDATE_CSMAR.parquet').fillna(0)\n",
    "df_investor"
   ],
   "metadata": {
    "collapsed": false
   }
  },
  {
   "cell_type": "markdown",
   "source": [
    "### 分析师情绪"
   ],
   "metadata": {
    "collapsed": false
   }
  },
  {
   "cell_type": "code",
   "execution_count": 4,
   "outputs": [
    {
     "data": {
      "text/plain": "                      CON_YEAR        CON_OR        CON_NP  CON_EPS  \\\ntrade_date ts_code                                                    \n20140102   000010.SH      2014  1.229380e+09  20139.051805   0.8059   \n           000015.SH      2014  5.889377e+08  15328.983195   0.8057   \n           000016.SH      2014  8.063073e+08  13294.314326   0.8620   \n           000300.SH      2014  1.553438e+09  22802.196329   0.7898   \n           000903.SH      2014  1.219844e+09  20305.917391   0.8299   \n...                        ...           ...           ...      ...   \n20221028   000906.SH      2022  5.610430e+09  51796.277367   0.9641   \n           000985.SH      2022  7.224144e+09  58403.840993   0.7555   \n           399005.SZ      2022  3.308684e+08   3156.638702   0.9635   \n           399006.SZ      2022  1.580034e+08   1800.383211   1.3799   \n           399310.SZ      2022  1.525638e+09  15430.058098   1.3643   \n\n                            CON_NA  CON_PB  CON_PS   CON_PE  CON_PEG  CON_ROE  \\\ntrade_date ts_code                                                              \n20140102   000010.SH  1.356969e+09  1.0078  0.7662   6.7909   0.5332    14.84   \n           000015.SH  9.912300e+08  0.8505  0.8438   5.4999   0.5358    15.46   \n           000016.SH  8.877149e+08  0.9876  0.7290   6.5949   0.5269    14.98   \n           000300.SH  1.569081e+09  1.0997  0.7828   7.5674   0.5488    14.53   \n           000903.SH  1.353838e+09  0.9884  0.7627   6.5896   0.5254    15.00   \n...                            ...     ...     ...      ...      ...      ...   \n20221028   000906.SH  4.774941e+09  1.1471  0.9763  10.5749   0.7286    10.85   \n           000985.SH  5.825681e+09  1.3191  1.0637  13.1574   0.7802    10.03   \n           399005.SZ  2.227230e+08  2.8926  1.9471  20.4090   0.5528    14.17   \n           399006.SZ  1.220097e+08  4.4799  3.4594  30.3598   0.7268    14.76   \n           399310.SZ  1.151031e+09  1.4075  1.0619  10.4997   0.8521    13.41   \n\n                      ...  total_mv_l1  total_mv_chg   close_l1  close_chg  \\\ntrade_date ts_code    ...                                                    \n20140102   000010.SH  ...    136823.66     -0.545520  5040.2700  -0.599174   \n           000015.SH  ...     85036.43     -0.535747  1681.4600  -0.397274   \n           000016.SH  ...     87771.07     -0.634059  1574.7800  -0.868693   \n           000300.SH  ...    171737.19     -0.385246  2330.0300  -0.345489   \n           000903.SH  ...    133275.65     -0.527471  2155.2300  -0.593904   \n...                   ...          ...           ...        ...        ...   \n20221028   000906.SH  ...    559898.44     -2.218877  4024.5400  -2.622412   \n           000985.SH  ...    828763.95     -2.492601  4640.7167  -2.964490   \n           399005.SZ  ...     66542.30     -3.186169  7293.5300  -3.140318   \n           399006.SZ  ...     56664.70     -3.546670  2337.2500  -3.711199   \n           399310.SZ  ...    166216.95     -2.517926  5682.8900  -2.940229   \n\n                      riskfree_return  opt_profit_yoy     opt_pe  opt_profit  \\\ntrade_date ts_code                                                             \n20140102   000010.SH         0.015460      106.321095 -36.175752    6.534466   \n           000015.SH         0.015460       19.072326 -30.115629    4.676568   \n           000016.SH         0.015460      131.053412 -32.636364    6.312925   \n           000300.SH         0.015460       76.005909 -36.833055    7.697893   \n           000903.SH         0.015460       80.367172 -35.141732    6.049136   \n...                               ...             ...        ...         ...   \n20221028   000906.SH         0.004842      203.012356 -18.087529   40.330525   \n           000985.SH         0.004842      241.903541 -22.694477   36.381384   \n           399005.SZ         0.004842       83.540859 -23.129944   50.151677   \n           399006.SZ         0.004842     8845.061854 -24.327517   52.148060   \n           399310.SZ         0.004842      202.048409 -17.063981   35.863497   \n\n                        time  close_chg_s  \ntrade_date ts_code                         \n20140102   000010.SH     1.0     0.359010  \n           000015.SH     1.0     0.157826  \n           000016.SH     1.0     0.754627  \n           000300.SH     1.0     0.119363  \n           000903.SH     1.0     0.352722  \n...                      ...          ...  \n20221028   000906.SH  2146.0     6.877042  \n           000985.SH  2141.0     8.788203  \n           399005.SZ  2144.0     9.861594  \n           399006.SZ  2144.0    13.772998  \n           399310.SZ  2114.0     8.644949  \n\n[23565 rows x 42 columns]",
      "text/html": "<div>\n<style scoped>\n    .dataframe tbody tr th:only-of-type {\n        vertical-align: middle;\n    }\n\n    .dataframe tbody tr th {\n        vertical-align: top;\n    }\n\n    .dataframe thead th {\n        text-align: right;\n    }\n</style>\n<table border=\"1\" class=\"dataframe\">\n  <thead>\n    <tr style=\"text-align: right;\">\n      <th></th>\n      <th></th>\n      <th>CON_YEAR</th>\n      <th>CON_OR</th>\n      <th>CON_NP</th>\n      <th>CON_EPS</th>\n      <th>CON_NA</th>\n      <th>CON_PB</th>\n      <th>CON_PS</th>\n      <th>CON_PE</th>\n      <th>CON_PEG</th>\n      <th>CON_ROE</th>\n      <th>...</th>\n      <th>total_mv_l1</th>\n      <th>total_mv_chg</th>\n      <th>close_l1</th>\n      <th>close_chg</th>\n      <th>riskfree_return</th>\n      <th>opt_profit_yoy</th>\n      <th>opt_pe</th>\n      <th>opt_profit</th>\n      <th>time</th>\n      <th>close_chg_s</th>\n    </tr>\n    <tr>\n      <th>trade_date</th>\n      <th>ts_code</th>\n      <th></th>\n      <th></th>\n      <th></th>\n      <th></th>\n      <th></th>\n      <th></th>\n      <th></th>\n      <th></th>\n      <th></th>\n      <th></th>\n      <th></th>\n      <th></th>\n      <th></th>\n      <th></th>\n      <th></th>\n      <th></th>\n      <th></th>\n      <th></th>\n      <th></th>\n      <th></th>\n      <th></th>\n    </tr>\n  </thead>\n  <tbody>\n    <tr>\n      <th rowspan=\"5\" valign=\"top\">20140102</th>\n      <th>000010.SH</th>\n      <td>2014</td>\n      <td>1.229380e+09</td>\n      <td>20139.051805</td>\n      <td>0.8059</td>\n      <td>1.356969e+09</td>\n      <td>1.0078</td>\n      <td>0.7662</td>\n      <td>6.7909</td>\n      <td>0.5332</td>\n      <td>14.84</td>\n      <td>...</td>\n      <td>136823.66</td>\n      <td>-0.545520</td>\n      <td>5040.2700</td>\n      <td>-0.599174</td>\n      <td>0.015460</td>\n      <td>106.321095</td>\n      <td>-36.175752</td>\n      <td>6.534466</td>\n      <td>1.0</td>\n      <td>0.359010</td>\n    </tr>\n    <tr>\n      <th>000015.SH</th>\n      <td>2014</td>\n      <td>5.889377e+08</td>\n      <td>15328.983195</td>\n      <td>0.8057</td>\n      <td>9.912300e+08</td>\n      <td>0.8505</td>\n      <td>0.8438</td>\n      <td>5.4999</td>\n      <td>0.5358</td>\n      <td>15.46</td>\n      <td>...</td>\n      <td>85036.43</td>\n      <td>-0.535747</td>\n      <td>1681.4600</td>\n      <td>-0.397274</td>\n      <td>0.015460</td>\n      <td>19.072326</td>\n      <td>-30.115629</td>\n      <td>4.676568</td>\n      <td>1.0</td>\n      <td>0.157826</td>\n    </tr>\n    <tr>\n      <th>000016.SH</th>\n      <td>2014</td>\n      <td>8.063073e+08</td>\n      <td>13294.314326</td>\n      <td>0.8620</td>\n      <td>8.877149e+08</td>\n      <td>0.9876</td>\n      <td>0.7290</td>\n      <td>6.5949</td>\n      <td>0.5269</td>\n      <td>14.98</td>\n      <td>...</td>\n      <td>87771.07</td>\n      <td>-0.634059</td>\n      <td>1574.7800</td>\n      <td>-0.868693</td>\n      <td>0.015460</td>\n      <td>131.053412</td>\n      <td>-32.636364</td>\n      <td>6.312925</td>\n      <td>1.0</td>\n      <td>0.754627</td>\n    </tr>\n    <tr>\n      <th>000300.SH</th>\n      <td>2014</td>\n      <td>1.553438e+09</td>\n      <td>22802.196329</td>\n      <td>0.7898</td>\n      <td>1.569081e+09</td>\n      <td>1.0997</td>\n      <td>0.7828</td>\n      <td>7.5674</td>\n      <td>0.5488</td>\n      <td>14.53</td>\n      <td>...</td>\n      <td>171737.19</td>\n      <td>-0.385246</td>\n      <td>2330.0300</td>\n      <td>-0.345489</td>\n      <td>0.015460</td>\n      <td>76.005909</td>\n      <td>-36.833055</td>\n      <td>7.697893</td>\n      <td>1.0</td>\n      <td>0.119363</td>\n    </tr>\n    <tr>\n      <th>000903.SH</th>\n      <td>2014</td>\n      <td>1.219844e+09</td>\n      <td>20305.917391</td>\n      <td>0.8299</td>\n      <td>1.353838e+09</td>\n      <td>0.9884</td>\n      <td>0.7627</td>\n      <td>6.5896</td>\n      <td>0.5254</td>\n      <td>15.00</td>\n      <td>...</td>\n      <td>133275.65</td>\n      <td>-0.527471</td>\n      <td>2155.2300</td>\n      <td>-0.593904</td>\n      <td>0.015460</td>\n      <td>80.367172</td>\n      <td>-35.141732</td>\n      <td>6.049136</td>\n      <td>1.0</td>\n      <td>0.352722</td>\n    </tr>\n    <tr>\n      <th>...</th>\n      <th>...</th>\n      <td>...</td>\n      <td>...</td>\n      <td>...</td>\n      <td>...</td>\n      <td>...</td>\n      <td>...</td>\n      <td>...</td>\n      <td>...</td>\n      <td>...</td>\n      <td>...</td>\n      <td>...</td>\n      <td>...</td>\n      <td>...</td>\n      <td>...</td>\n      <td>...</td>\n      <td>...</td>\n      <td>...</td>\n      <td>...</td>\n      <td>...</td>\n      <td>...</td>\n      <td>...</td>\n    </tr>\n    <tr>\n      <th rowspan=\"5\" valign=\"top\">20221028</th>\n      <th>000906.SH</th>\n      <td>2022</td>\n      <td>5.610430e+09</td>\n      <td>51796.277367</td>\n      <td>0.9641</td>\n      <td>4.774941e+09</td>\n      <td>1.1471</td>\n      <td>0.9763</td>\n      <td>10.5749</td>\n      <td>0.7286</td>\n      <td>10.85</td>\n      <td>...</td>\n      <td>559898.44</td>\n      <td>-2.218877</td>\n      <td>4024.5400</td>\n      <td>-2.622412</td>\n      <td>0.004842</td>\n      <td>203.012356</td>\n      <td>-18.087529</td>\n      <td>40.330525</td>\n      <td>2146.0</td>\n      <td>6.877042</td>\n    </tr>\n    <tr>\n      <th>000985.SH</th>\n      <td>2022</td>\n      <td>7.224144e+09</td>\n      <td>58403.840993</td>\n      <td>0.7555</td>\n      <td>5.825681e+09</td>\n      <td>1.3191</td>\n      <td>1.0637</td>\n      <td>13.1574</td>\n      <td>0.7802</td>\n      <td>10.03</td>\n      <td>...</td>\n      <td>828763.95</td>\n      <td>-2.492601</td>\n      <td>4640.7167</td>\n      <td>-2.964490</td>\n      <td>0.004842</td>\n      <td>241.903541</td>\n      <td>-22.694477</td>\n      <td>36.381384</td>\n      <td>2141.0</td>\n      <td>8.788203</td>\n    </tr>\n    <tr>\n      <th>399005.SZ</th>\n      <td>2022</td>\n      <td>3.308684e+08</td>\n      <td>3156.638702</td>\n      <td>0.9635</td>\n      <td>2.227230e+08</td>\n      <td>2.8926</td>\n      <td>1.9471</td>\n      <td>20.4090</td>\n      <td>0.5528</td>\n      <td>14.17</td>\n      <td>...</td>\n      <td>66542.30</td>\n      <td>-3.186169</td>\n      <td>7293.5300</td>\n      <td>-3.140318</td>\n      <td>0.004842</td>\n      <td>83.540859</td>\n      <td>-23.129944</td>\n      <td>50.151677</td>\n      <td>2144.0</td>\n      <td>9.861594</td>\n    </tr>\n    <tr>\n      <th>399006.SZ</th>\n      <td>2022</td>\n      <td>1.580034e+08</td>\n      <td>1800.383211</td>\n      <td>1.3799</td>\n      <td>1.220097e+08</td>\n      <td>4.4799</td>\n      <td>3.4594</td>\n      <td>30.3598</td>\n      <td>0.7268</td>\n      <td>14.76</td>\n      <td>...</td>\n      <td>56664.70</td>\n      <td>-3.546670</td>\n      <td>2337.2500</td>\n      <td>-3.711199</td>\n      <td>0.004842</td>\n      <td>8845.061854</td>\n      <td>-24.327517</td>\n      <td>52.148060</td>\n      <td>2144.0</td>\n      <td>13.772998</td>\n    </tr>\n    <tr>\n      <th>399310.SZ</th>\n      <td>2022</td>\n      <td>1.525638e+09</td>\n      <td>15430.058098</td>\n      <td>1.3643</td>\n      <td>1.151031e+09</td>\n      <td>1.4075</td>\n      <td>1.0619</td>\n      <td>10.4997</td>\n      <td>0.8521</td>\n      <td>13.41</td>\n      <td>...</td>\n      <td>166216.95</td>\n      <td>-2.517926</td>\n      <td>5682.8900</td>\n      <td>-2.940229</td>\n      <td>0.004842</td>\n      <td>202.048409</td>\n      <td>-17.063981</td>\n      <td>35.863497</td>\n      <td>2114.0</td>\n      <td>8.644949</td>\n    </tr>\n  </tbody>\n</table>\n<p>23565 rows × 42 columns</p>\n</div>"
     },
     "execution_count": 4,
     "metadata": {},
     "output_type": "execute_result"
    }
   ],
   "source": [
    "df_analyst = cudf.read_parquet(DATASETS_PATH + 'ANALYST_SENT_TDATE_SUNTIME.parquet')\n",
    "df_analyst"
   ],
   "metadata": {
    "collapsed": false
   }
  },
  {
   "cell_type": "markdown",
   "source": [
    "### 合并和筛选"
   ],
   "metadata": {
    "collapsed": false
   }
  },
  {
   "cell_type": "code",
   "execution_count": 9,
   "outputs": [
    {
     "data": {
      "text/plain": "      trade_date    ts_code  CON_YEAR        CON_OR        CON_NP  CON_EPS  \\\n0       20140102  000010.SH      2014  1.229380e+09  20139.051805   0.8059   \n1       20140102  000015.SH      2014  5.889377e+08  15328.983195   0.8057   \n2       20140102  000016.SH      2014  8.063073e+08  13294.314326   0.8620   \n3       20140102  000300.SH      2014  1.553438e+09  22802.196329   0.7898   \n4       20140102  000903.SH      2014  1.219844e+09  20305.917391   0.8299   \n...          ...        ...       ...           ...           ...      ...   \n23560   20221028  000906.SH      2022  5.610430e+09  51796.277367   0.9641   \n23561   20221028  000985.SH      2022  7.224144e+09  58403.840993   0.7555   \n23562   20221028  399005.SZ      2022  3.308684e+08   3156.638702   0.9635   \n23563   20221028  399006.SZ      2022  1.580034e+08   1800.383211   1.3799   \n23564   20221028  399310.SZ      2022  1.525638e+09  15430.058098   1.3643   \n\n             CON_NA  CON_PB  CON_PS   CON_PE  ...  Posts Readings Comments  \\\n0      1.356969e+09  1.0078  0.7662   6.7909  ...    0.0      0.0      0.0   \n1      9.912300e+08  0.8505  0.8438   5.4999  ...    0.0      0.0      0.0   \n2      8.877149e+08  0.9876  0.7290   6.5949  ...    0.0      0.0      0.0   \n3      1.569081e+09  1.0997  0.7828   7.5674  ...    0.0      0.0      0.0   \n4      1.353838e+09  0.9884  0.7627   6.5896  ...    0.0      0.0      0.0   \n...             ...     ...     ...      ...  ...    ...      ...      ...   \n23560  4.774941e+09  1.1471  0.9763  10.5749  ...   <NA>     <NA>     <NA>   \n23561  5.825681e+09  1.3191  1.0637  13.1574  ...   <NA>     <NA>     <NA>   \n23562  2.227230e+08  2.8926  1.9471  20.4090  ...   <NA>     <NA>     <NA>   \n23563  1.220097e+08  4.4799  3.4594  30.3598  ...   <NA>     <NA>     <NA>   \n23564  1.151031e+09  1.4075  1.0619  10.4997  ...   <NA>     <NA>     <NA>   \n\n      ThumbUps PosPosts NeuPosts NegPosts PosRatio NeuRatio NegRatio  \n0          0.0      0.0      0.0      0.0      0.0      0.0      0.0  \n1          0.0      0.0      0.0      0.0      0.0      0.0      0.0  \n2          0.0      0.0      0.0      0.0      0.0      0.0      0.0  \n3          0.0      0.0      0.0      0.0      0.0      0.0      0.0  \n4          0.0      0.0      0.0      0.0      0.0      0.0      0.0  \n...        ...      ...      ...      ...      ...      ...      ...  \n23560     <NA>     <NA>     <NA>     <NA>     <NA>     <NA>     <NA>  \n23561     <NA>     <NA>     <NA>     <NA>     <NA>     <NA>     <NA>  \n23562     <NA>     <NA>     <NA>     <NA>     <NA>     <NA>     <NA>  \n23563     <NA>     <NA>     <NA>     <NA>     <NA>     <NA>     <NA>  \n23564     <NA>     <NA>     <NA>     <NA>     <NA>     <NA>     <NA>  \n\n[23565 rows x 58 columns]",
      "text/html": "<div>\n<style scoped>\n    .dataframe tbody tr th:only-of-type {\n        vertical-align: middle;\n    }\n\n    .dataframe tbody tr th {\n        vertical-align: top;\n    }\n\n    .dataframe thead th {\n        text-align: right;\n    }\n</style>\n<table border=\"1\" class=\"dataframe\">\n  <thead>\n    <tr style=\"text-align: right;\">\n      <th></th>\n      <th>trade_date</th>\n      <th>ts_code</th>\n      <th>CON_YEAR</th>\n      <th>CON_OR</th>\n      <th>CON_NP</th>\n      <th>CON_EPS</th>\n      <th>CON_NA</th>\n      <th>CON_PB</th>\n      <th>CON_PS</th>\n      <th>CON_PE</th>\n      <th>...</th>\n      <th>Posts</th>\n      <th>Readings</th>\n      <th>Comments</th>\n      <th>ThumbUps</th>\n      <th>PosPosts</th>\n      <th>NeuPosts</th>\n      <th>NegPosts</th>\n      <th>PosRatio</th>\n      <th>NeuRatio</th>\n      <th>NegRatio</th>\n    </tr>\n  </thead>\n  <tbody>\n    <tr>\n      <th>0</th>\n      <td>20140102</td>\n      <td>000010.SH</td>\n      <td>2014</td>\n      <td>1.229380e+09</td>\n      <td>20139.051805</td>\n      <td>0.8059</td>\n      <td>1.356969e+09</td>\n      <td>1.0078</td>\n      <td>0.7662</td>\n      <td>6.7909</td>\n      <td>...</td>\n      <td>0.0</td>\n      <td>0.0</td>\n      <td>0.0</td>\n      <td>0.0</td>\n      <td>0.0</td>\n      <td>0.0</td>\n      <td>0.0</td>\n      <td>0.0</td>\n      <td>0.0</td>\n      <td>0.0</td>\n    </tr>\n    <tr>\n      <th>1</th>\n      <td>20140102</td>\n      <td>000015.SH</td>\n      <td>2014</td>\n      <td>5.889377e+08</td>\n      <td>15328.983195</td>\n      <td>0.8057</td>\n      <td>9.912300e+08</td>\n      <td>0.8505</td>\n      <td>0.8438</td>\n      <td>5.4999</td>\n      <td>...</td>\n      <td>0.0</td>\n      <td>0.0</td>\n      <td>0.0</td>\n      <td>0.0</td>\n      <td>0.0</td>\n      <td>0.0</td>\n      <td>0.0</td>\n      <td>0.0</td>\n      <td>0.0</td>\n      <td>0.0</td>\n    </tr>\n    <tr>\n      <th>2</th>\n      <td>20140102</td>\n      <td>000016.SH</td>\n      <td>2014</td>\n      <td>8.063073e+08</td>\n      <td>13294.314326</td>\n      <td>0.8620</td>\n      <td>8.877149e+08</td>\n      <td>0.9876</td>\n      <td>0.7290</td>\n      <td>6.5949</td>\n      <td>...</td>\n      <td>0.0</td>\n      <td>0.0</td>\n      <td>0.0</td>\n      <td>0.0</td>\n      <td>0.0</td>\n      <td>0.0</td>\n      <td>0.0</td>\n      <td>0.0</td>\n      <td>0.0</td>\n      <td>0.0</td>\n    </tr>\n    <tr>\n      <th>3</th>\n      <td>20140102</td>\n      <td>000300.SH</td>\n      <td>2014</td>\n      <td>1.553438e+09</td>\n      <td>22802.196329</td>\n      <td>0.7898</td>\n      <td>1.569081e+09</td>\n      <td>1.0997</td>\n      <td>0.7828</td>\n      <td>7.5674</td>\n      <td>...</td>\n      <td>0.0</td>\n      <td>0.0</td>\n      <td>0.0</td>\n      <td>0.0</td>\n      <td>0.0</td>\n      <td>0.0</td>\n      <td>0.0</td>\n      <td>0.0</td>\n      <td>0.0</td>\n      <td>0.0</td>\n    </tr>\n    <tr>\n      <th>4</th>\n      <td>20140102</td>\n      <td>000903.SH</td>\n      <td>2014</td>\n      <td>1.219844e+09</td>\n      <td>20305.917391</td>\n      <td>0.8299</td>\n      <td>1.353838e+09</td>\n      <td>0.9884</td>\n      <td>0.7627</td>\n      <td>6.5896</td>\n      <td>...</td>\n      <td>0.0</td>\n      <td>0.0</td>\n      <td>0.0</td>\n      <td>0.0</td>\n      <td>0.0</td>\n      <td>0.0</td>\n      <td>0.0</td>\n      <td>0.0</td>\n      <td>0.0</td>\n      <td>0.0</td>\n    </tr>\n    <tr>\n      <th>...</th>\n      <td>...</td>\n      <td>...</td>\n      <td>...</td>\n      <td>...</td>\n      <td>...</td>\n      <td>...</td>\n      <td>...</td>\n      <td>...</td>\n      <td>...</td>\n      <td>...</td>\n      <td>...</td>\n      <td>...</td>\n      <td>...</td>\n      <td>...</td>\n      <td>...</td>\n      <td>...</td>\n      <td>...</td>\n      <td>...</td>\n      <td>...</td>\n      <td>...</td>\n      <td>...</td>\n    </tr>\n    <tr>\n      <th>23560</th>\n      <td>20221028</td>\n      <td>000906.SH</td>\n      <td>2022</td>\n      <td>5.610430e+09</td>\n      <td>51796.277367</td>\n      <td>0.9641</td>\n      <td>4.774941e+09</td>\n      <td>1.1471</td>\n      <td>0.9763</td>\n      <td>10.5749</td>\n      <td>...</td>\n      <td>&lt;NA&gt;</td>\n      <td>&lt;NA&gt;</td>\n      <td>&lt;NA&gt;</td>\n      <td>&lt;NA&gt;</td>\n      <td>&lt;NA&gt;</td>\n      <td>&lt;NA&gt;</td>\n      <td>&lt;NA&gt;</td>\n      <td>&lt;NA&gt;</td>\n      <td>&lt;NA&gt;</td>\n      <td>&lt;NA&gt;</td>\n    </tr>\n    <tr>\n      <th>23561</th>\n      <td>20221028</td>\n      <td>000985.SH</td>\n      <td>2022</td>\n      <td>7.224144e+09</td>\n      <td>58403.840993</td>\n      <td>0.7555</td>\n      <td>5.825681e+09</td>\n      <td>1.3191</td>\n      <td>1.0637</td>\n      <td>13.1574</td>\n      <td>...</td>\n      <td>&lt;NA&gt;</td>\n      <td>&lt;NA&gt;</td>\n      <td>&lt;NA&gt;</td>\n      <td>&lt;NA&gt;</td>\n      <td>&lt;NA&gt;</td>\n      <td>&lt;NA&gt;</td>\n      <td>&lt;NA&gt;</td>\n      <td>&lt;NA&gt;</td>\n      <td>&lt;NA&gt;</td>\n      <td>&lt;NA&gt;</td>\n    </tr>\n    <tr>\n      <th>23562</th>\n      <td>20221028</td>\n      <td>399005.SZ</td>\n      <td>2022</td>\n      <td>3.308684e+08</td>\n      <td>3156.638702</td>\n      <td>0.9635</td>\n      <td>2.227230e+08</td>\n      <td>2.8926</td>\n      <td>1.9471</td>\n      <td>20.4090</td>\n      <td>...</td>\n      <td>&lt;NA&gt;</td>\n      <td>&lt;NA&gt;</td>\n      <td>&lt;NA&gt;</td>\n      <td>&lt;NA&gt;</td>\n      <td>&lt;NA&gt;</td>\n      <td>&lt;NA&gt;</td>\n      <td>&lt;NA&gt;</td>\n      <td>&lt;NA&gt;</td>\n      <td>&lt;NA&gt;</td>\n      <td>&lt;NA&gt;</td>\n    </tr>\n    <tr>\n      <th>23563</th>\n      <td>20221028</td>\n      <td>399006.SZ</td>\n      <td>2022</td>\n      <td>1.580034e+08</td>\n      <td>1800.383211</td>\n      <td>1.3799</td>\n      <td>1.220097e+08</td>\n      <td>4.4799</td>\n      <td>3.4594</td>\n      <td>30.3598</td>\n      <td>...</td>\n      <td>&lt;NA&gt;</td>\n      <td>&lt;NA&gt;</td>\n      <td>&lt;NA&gt;</td>\n      <td>&lt;NA&gt;</td>\n      <td>&lt;NA&gt;</td>\n      <td>&lt;NA&gt;</td>\n      <td>&lt;NA&gt;</td>\n      <td>&lt;NA&gt;</td>\n      <td>&lt;NA&gt;</td>\n      <td>&lt;NA&gt;</td>\n    </tr>\n    <tr>\n      <th>23564</th>\n      <td>20221028</td>\n      <td>399310.SZ</td>\n      <td>2022</td>\n      <td>1.525638e+09</td>\n      <td>15430.058098</td>\n      <td>1.3643</td>\n      <td>1.151031e+09</td>\n      <td>1.4075</td>\n      <td>1.0619</td>\n      <td>10.4997</td>\n      <td>...</td>\n      <td>&lt;NA&gt;</td>\n      <td>&lt;NA&gt;</td>\n      <td>&lt;NA&gt;</td>\n      <td>&lt;NA&gt;</td>\n      <td>&lt;NA&gt;</td>\n      <td>&lt;NA&gt;</td>\n      <td>&lt;NA&gt;</td>\n      <td>&lt;NA&gt;</td>\n      <td>&lt;NA&gt;</td>\n      <td>&lt;NA&gt;</td>\n    </tr>\n  </tbody>\n</table>\n<p>23565 rows × 58 columns</p>\n</div>"
     },
     "execution_count": 9,
     "metadata": {},
     "output_type": "execute_result"
    }
   ],
   "source": [
    "df_sem = (\n",
    "        cudf.merge(df_analyst.reset_index(),\n",
    "                   cudf.merge(df_media.reset_index(), df_investor.reset_index(), on='trade_date', how='left'),\n",
    "                   on='trade_date', how='left').astype(dtype={'trade_date': 'str'})\n",
    "        .set_index(['trade_date', 'ts_code']).sort_index().reset_index()\n",
    ")\n",
    "\n",
    "df_sem"
   ],
   "metadata": {
    "collapsed": false
   }
  },
  {
   "cell_type": "markdown",
   "source": [
    "## 结构方程模型"
   ],
   "metadata": {
    "collapsed": false
   }
  },
  {
   "cell_type": "code",
   "execution_count": 6,
   "outputs": [],
   "source": [
    "# 导出到stata分析\n",
    "# df_sem.to_csv(DATASETS_PATH + 'stata_sem.csv')\n",
    "# pd.DataFrame.to_stata()"
   ],
   "metadata": {
    "collapsed": false
   }
  },
  {
   "cell_type": "markdown",
   "source": [],
   "metadata": {
    "collapsed": false
   }
  }
 ],
 "metadata": {
  "kernelspec": {
   "name": "pytorch",
   "language": "python",
   "display_name": "Rapids"
  },
  "language_info": {
   "codemirror_mode": {
    "name": "ipython",
    "version": 2
   },
   "file_extension": ".py",
   "mimetype": "text/x-python",
   "name": "python",
   "nbconvert_exporter": "python",
   "pygments_lexer": "ipython2",
   "version": "2.7.6"
  }
 },
 "nbformat": 4,
 "nbformat_minor": 0
}
