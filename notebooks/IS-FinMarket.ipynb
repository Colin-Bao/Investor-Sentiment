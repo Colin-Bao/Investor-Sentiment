{
 "cells": [
  {
   "cell_type": "markdown",
   "source": [
    "# 金融市场情绪专题\n",
    "PCA"
   ],
   "metadata": {
    "collapsed": false
   }
  },
  {
   "cell_type": "code",
   "execution_count": 1,
   "outputs": [],
   "source": [
    "import sys\n",
    "import os\n",
    "import cudf\n",
    "import pandas as pd\n",
    "\n",
    "# ------------------------------数据集路径----------------------------------#\n",
    "# /usr/local/miniconda3/envs/Rapids/bin/python\n",
    "DATASETS_PATH = '/data/DataSets/BW_INDEX_CSMAR/BW_5_CSMAR/'"
   ],
   "metadata": {
    "collapsed": false
   }
  },
  {
   "cell_type": "code",
   "execution_count": 2,
   "outputs": [
    {
     "data": {
      "text/plain": "['QX_STOCKRATE[DES][csv].txt',\n 'QX_TRM1.csv',\n 'QX_FUNDDISCOUNTPREMIUM[DES][csv].txt',\n 'QX_DIVIDENDPREMIUM.csv',\n 'QX_FUNDDISCOUNTPREMIUM1.csv',\n 'QX_FUNDDISCOUNTPREMIUM.csv',\n 'QX_DIVIDENDPREMIUM[DES][csv].txt',\n 'QX_FUNDDISCOUNTPREMIUM.parquet',\n 'QX_TRM.csv',\n 'QX_TRM[DES][csv].txt',\n 'QX_STOCKRATE.csv',\n 'QX_IPO[DES][csv].txt',\n 'QX_IPO.csv']"
     },
     "execution_count": 2,
     "metadata": {},
     "output_type": "execute_result"
    }
   ],
   "source": [
    "os.listdir(DATASETS_PATH)"
   ],
   "metadata": {
    "collapsed": false
   }
  },
  {
   "cell_type": "markdown",
   "source": [
    "### 股利溢价-年\n",
    "SgnYear [统计年度] - YYYY\n",
    "Dnum [分红公司数目] - 指当年发生了现金分红的上市公司数量\n",
    "NDnum [未分红公司数目] - 指当年没有现金分红的上市公司数量\n",
    "DMB [分红公司平均市值账面比] - 计算公式为：所有分红的公司的市值账面比的平均数\n",
    "NDMB [未分红公司平均市值账面比] - 计算公式为：所有未分红的公司的市值账面比的平均数\n",
    "PDND [股利溢价] - 计算公式为：分红公司平均市值账面比-未分红公司平均市值账面比\n",
    "LogPDND [对数股利溢价] - 计算公式为：股利溢价的对数"
   ],
   "metadata": {
    "collapsed": false
   }
  },
  {
   "cell_type": "code",
   "execution_count": 3,
   "outputs": [],
   "source": [
    "# pd.read_csv(f'{DATASETS_PATH}QX_DIVIDENDPREMIUM.csv')"
   ],
   "metadata": {
    "collapsed": false
   }
  },
  {
   "cell_type": "markdown",
   "source": [
    "### 股票融资占股票债券融资比例-年"
   ],
   "metadata": {
    "collapsed": false
   }
  },
  {
   "cell_type": "code",
   "execution_count": 4,
   "outputs": [],
   "source": [
    "# pd.read_csv(f'{DATASETS_PATH}QX_STOCKRATE.csv')"
   ],
   "metadata": {
    "collapsed": false
   }
  },
  {
   "cell_type": "markdown",
   "source": [
    "### 基金折溢价率CEFD-面板\n",
    "Symbol [基金代码] -\n",
    "TradingDate [交易日期] -\n",
    "CategoryID [基金类别] - S0601=股票型基金;S0602=债券型基金;S0603=货币型基金;S0604=混合型基金;S0605=FOF;S0606=股指期货型基金;S0699=其他\n",
    "FundTypeID [基金运作方式] - S0501=契约型开放式;S0502=契约型封闭式\n",
    "IsETF [是否ETF] - 1=是；2=否\n",
    "IsLOF [是否LOF] - 1=是；2=否\n",
    "IsIndexFund [是否指数基金] - 1=是；2=否\n",
    "IsInnovative [是否创新型基金] - 1=是；2=否\n",
    "NAV [基金份额净值] -\n",
    "AccumulativeNAV [基金份额累计净值] -\n",
    "ClosePrice [收盘价] -\n",
    "CovertRate [溢价率(%)] - 计算公式为：（收盘价-基金份额净值）*101/基金份额净值\n",
    "TurnoverRate [换手率] -"
   ],
   "metadata": {
    "collapsed": false
   }
  },
  {
   "cell_type": "code",
   "execution_count": 14,
   "outputs": [
    {
     "data": {
      "text/plain": "                   CategoryID FundTypeID  IsETF  IsLOF  IsIndexFund  \\\nTradingDate Symbol                                                    \n19980430    184688      S0601      S0502      2      2            2   \n            500001      S0601      S0502      2      2            2   \n19980630    184688      S0601      S0502      2      2            2   \n            500001      S0601      S0502      2      2            2   \n            500003      S0601      S0502      2      2            2   \n...                       ...        ...    ...    ...          ...   \n20221222    501098      S0604      S0502      2      2            2   \n            501099      S0604      S0502      2      2            2   \n            501200      S0604      S0502      2      2            2   \n            501201      S0604      S0502      2      2            2   \n            501202      S0604      S0502      2      2            2   \n\n                    IsInnovative     NAV  AccumulativeNAV  ClosePrice  \\\nTradingDate Symbol                                                      \n19980430    184688             2  1.0000           1.0000       2.020   \n            500001             2  1.0448           1.0448       2.100   \n19980630    184688             2  1.0442           1.0442       1.680   \n            500001             2  1.0409           1.0409       1.680   \n            500003             2  1.0184           1.0184       1.580   \n...                          ...     ...              ...         ...   \n20221222    501098             2  1.0215           1.0215       1.024   \n            501099             2  1.3172           1.3172       1.316   \n            501200             2  0.7318           0.7318       0.815   \n            501201             2  1.5362           1.5362       1.544   \n            501202             2  0.9975           0.9975       0.980   \n\n                    CovertRate TurnoverRate    DayAvgCR  \nTradingDate Symbol                                       \n19980430    184688      102.00         <NA>  101.500000  \n            500001      101.00         <NA>  101.500000  \n19980630    184688       60.89         <NA>   60.272500  \n            500001       61.40         <NA>   60.272500  \n            500003       55.15         <NA>   60.272500  \n...                        ...          ...         ...  \n20221222    501098        0.24     0.001429    0.293333  \n            501099       -0.09     0.001591    0.293333  \n            501200       11.37     0.003242    0.293333  \n            501201        0.51     0.002085    0.293333  \n            501202       -1.75      0.00039    0.293333  \n\n[35712 rows x 12 columns]",
      "text/html": "<div>\n<style scoped>\n    .dataframe tbody tr th:only-of-type {\n        vertical-align: middle;\n    }\n\n    .dataframe tbody tr th {\n        vertical-align: top;\n    }\n\n    .dataframe thead th {\n        text-align: right;\n    }\n</style>\n<table border=\"1\" class=\"dataframe\">\n  <thead>\n    <tr style=\"text-align: right;\">\n      <th></th>\n      <th></th>\n      <th>CategoryID</th>\n      <th>FundTypeID</th>\n      <th>IsETF</th>\n      <th>IsLOF</th>\n      <th>IsIndexFund</th>\n      <th>IsInnovative</th>\n      <th>NAV</th>\n      <th>AccumulativeNAV</th>\n      <th>ClosePrice</th>\n      <th>CovertRate</th>\n      <th>TurnoverRate</th>\n      <th>DayAvgCR</th>\n    </tr>\n    <tr>\n      <th>TradingDate</th>\n      <th>Symbol</th>\n      <th></th>\n      <th></th>\n      <th></th>\n      <th></th>\n      <th></th>\n      <th></th>\n      <th></th>\n      <th></th>\n      <th></th>\n      <th></th>\n      <th></th>\n      <th></th>\n    </tr>\n  </thead>\n  <tbody>\n    <tr>\n      <th rowspan=\"2\" valign=\"top\">19980430</th>\n      <th>184688</th>\n      <td>S0601</td>\n      <td>S0502</td>\n      <td>2</td>\n      <td>2</td>\n      <td>2</td>\n      <td>2</td>\n      <td>1.0000</td>\n      <td>1.0000</td>\n      <td>2.020</td>\n      <td>102.00</td>\n      <td>&lt;NA&gt;</td>\n      <td>101.500000</td>\n    </tr>\n    <tr>\n      <th>500001</th>\n      <td>S0601</td>\n      <td>S0502</td>\n      <td>2</td>\n      <td>2</td>\n      <td>2</td>\n      <td>2</td>\n      <td>1.0448</td>\n      <td>1.0448</td>\n      <td>2.100</td>\n      <td>101.00</td>\n      <td>&lt;NA&gt;</td>\n      <td>101.500000</td>\n    </tr>\n    <tr>\n      <th rowspan=\"3\" valign=\"top\">19980630</th>\n      <th>184688</th>\n      <td>S0601</td>\n      <td>S0502</td>\n      <td>2</td>\n      <td>2</td>\n      <td>2</td>\n      <td>2</td>\n      <td>1.0442</td>\n      <td>1.0442</td>\n      <td>1.680</td>\n      <td>60.89</td>\n      <td>&lt;NA&gt;</td>\n      <td>60.272500</td>\n    </tr>\n    <tr>\n      <th>500001</th>\n      <td>S0601</td>\n      <td>S0502</td>\n      <td>2</td>\n      <td>2</td>\n      <td>2</td>\n      <td>2</td>\n      <td>1.0409</td>\n      <td>1.0409</td>\n      <td>1.680</td>\n      <td>61.40</td>\n      <td>&lt;NA&gt;</td>\n      <td>60.272500</td>\n    </tr>\n    <tr>\n      <th>500003</th>\n      <td>S0601</td>\n      <td>S0502</td>\n      <td>2</td>\n      <td>2</td>\n      <td>2</td>\n      <td>2</td>\n      <td>1.0184</td>\n      <td>1.0184</td>\n      <td>1.580</td>\n      <td>55.15</td>\n      <td>&lt;NA&gt;</td>\n      <td>60.272500</td>\n    </tr>\n    <tr>\n      <th>...</th>\n      <th>...</th>\n      <td>...</td>\n      <td>...</td>\n      <td>...</td>\n      <td>...</td>\n      <td>...</td>\n      <td>...</td>\n      <td>...</td>\n      <td>...</td>\n      <td>...</td>\n      <td>...</td>\n      <td>...</td>\n      <td>...</td>\n    </tr>\n    <tr>\n      <th rowspan=\"5\" valign=\"top\">20221222</th>\n      <th>501098</th>\n      <td>S0604</td>\n      <td>S0502</td>\n      <td>2</td>\n      <td>2</td>\n      <td>2</td>\n      <td>2</td>\n      <td>1.0215</td>\n      <td>1.0215</td>\n      <td>1.024</td>\n      <td>0.24</td>\n      <td>0.001429</td>\n      <td>0.293333</td>\n    </tr>\n    <tr>\n      <th>501099</th>\n      <td>S0604</td>\n      <td>S0502</td>\n      <td>2</td>\n      <td>2</td>\n      <td>2</td>\n      <td>2</td>\n      <td>1.3172</td>\n      <td>1.3172</td>\n      <td>1.316</td>\n      <td>-0.09</td>\n      <td>0.001591</td>\n      <td>0.293333</td>\n    </tr>\n    <tr>\n      <th>501200</th>\n      <td>S0604</td>\n      <td>S0502</td>\n      <td>2</td>\n      <td>2</td>\n      <td>2</td>\n      <td>2</td>\n      <td>0.7318</td>\n      <td>0.7318</td>\n      <td>0.815</td>\n      <td>11.37</td>\n      <td>0.003242</td>\n      <td>0.293333</td>\n    </tr>\n    <tr>\n      <th>501201</th>\n      <td>S0604</td>\n      <td>S0502</td>\n      <td>2</td>\n      <td>2</td>\n      <td>2</td>\n      <td>2</td>\n      <td>1.5362</td>\n      <td>1.5362</td>\n      <td>1.544</td>\n      <td>0.51</td>\n      <td>0.002085</td>\n      <td>0.293333</td>\n    </tr>\n    <tr>\n      <th>501202</th>\n      <td>S0604</td>\n      <td>S0502</td>\n      <td>2</td>\n      <td>2</td>\n      <td>2</td>\n      <td>2</td>\n      <td>0.9975</td>\n      <td>0.9975</td>\n      <td>0.980</td>\n      <td>-1.75</td>\n      <td>0.00039</td>\n      <td>0.293333</td>\n    </tr>\n  </tbody>\n</table>\n<p>35712 rows × 12 columns</p>\n</div>"
     },
     "execution_count": 14,
     "metadata": {},
     "output_type": "execute_result"
    }
   ],
   "source": [
    "\n",
    "def cal_cefd():\n",
    "    \"\"\"\n",
    "    计算封闭式基金溢价\n",
    "    \"\"\"\n",
    "    \n",
    "    '''\n",
    "    保留 封闭式基金\n",
    "    剔除 LOF基金,创新型基金,股票指数基金\n",
    "    '''\n",
    "\n",
    "    df = (\n",
    "            cudf.from_pandas(\n",
    "                    cudf.read_parquet(f'{DATASETS_PATH}QX_FUNDDISCOUNTPREMIUM.parquet').sort_index().to_pandas()\n",
    "                    .query(\" FundTypeID=='S0502'& IsLOF==2 & IsInnovative==2 & IsIndexFund==2\")\n",
    "            )\n",
    "    )\n",
    "\n",
    "    '''\n",
    "    平均加权CovertRate\n",
    "    '''\n",
    "\n",
    "    df['DayAvgCR'] = df.groupby(level=['TradingDate'])['CovertRate'].transform('mean')\n",
    "\n",
    "    # CovertRate\n",
    "    return df\n",
    "\n",
    "\n",
    "df_cefd = cal_cefd()\n",
    "df_cefd"
   ],
   "metadata": {
    "collapsed": false
   }
  },
  {
   "cell_type": "markdown",
   "source": [
    "### 市场换手率-面板数据\n",
    "TradingDate [交易日期] -\n",
    "MarketType [市场类型] - 1=上证A股市场；2=上证B股市场；4=深证A股市场；8=深证B股市场；6=主板；5=沪深A股市场；7=中小板；10=沪深B股市场；15=沪深AB股市场；16=创业板；20=深证A股和创业板；21=沪深A股和创业板；31=沪深AB股和创业板；32=科创板；33=上证A股和科创板；37=沪深A股和科创板；47=沪深AB股和科创板；53=沪深A股和创业板和科创板；63=沪深AB股和创业板和科创板；64=北证A股市场；69=沪深京A股市场；79=沪深京AB股市场；85=沪深京A股和创业板；95=沪深京AB股和创业板；101=沪深京A股和科创板；111=沪深京AB股和科创板；117=沪深京A股和创业板和科创板；127=沪深京AB股和创业板和科创板；\n",
    "Parameter [参数值] - 字段说明见说明书“附录 参数说明”\n",
    "Unit [参数单位] -\n",
    "TurnoverRate1 [换手率(总股本)] - 计算公式为：交易量/总股本\n",
    "TurnoverRate2 [换手率(流通股本)] - 计算公式为：交易量/流通股本"
   ],
   "metadata": {
    "collapsed": false
   }
  },
  {
   "cell_type": "code",
   "execution_count": 6,
   "outputs": [],
   "source": [
    "# pd.read_csv(f'{DATASETS_PATH}QX_TRM.csv')"
   ],
   "metadata": {
    "collapsed": false
   }
  },
  {
   "cell_type": "markdown",
   "source": [
    "### IPO股票信息-面板数据\n",
    "Symbol [股票代码] -\n",
    "ListedDate [上市日期] -\n",
    "ListedYear [上市年份] -\n",
    "ABSymbol [AB股交叉码] - 指公司同时发行了A和B股的情况\n",
    "HSymbol [H股交叉码] - 指的是公司同时发行了H股的情况\n",
    "EstablishDate [公司成立日期] -\n",
    "IpoDate [首次招股日期] -\n",
    "CompanyListedDate [公司上市日期] -\n",
    "IsIPO [是否首次发行] - A=是；B=否\n",
    "TotalShares [实际发行总量] -\n",
    "IssuePrice [发行价格] -\n",
    "CurrencyCode [发行价格币种] -\n",
    "ClosePrice [上市首日收盘价] -\n",
    "ReturnRate [上市首日回报率] -\n",
    "TurnoverRate1 [上市首日换手率(总股本)] -\n",
    "TurnoverRate2 [上市首日换手率(流通股本)] -\n",
    "PE [上市首日市盈率] -\n",
    "PB [上市首日市净率] -"
   ],
   "metadata": {
    "collapsed": false
   }
  },
  {
   "cell_type": "code",
   "execution_count": 7,
   "outputs": [],
   "source": [
    "# pd.read_csv(f'{DATASETS_PATH}QX_IPO.csv')"
   ],
   "metadata": {
    "collapsed": false
   }
  },
  {
   "cell_type": "markdown",
   "source": [],
   "metadata": {
    "collapsed": false
   }
  }
 ],
 "metadata": {
  "kernelspec": {
   "name": "pytorch",
   "language": "python",
   "display_name": "Rapids"
  },
  "language_info": {
   "codemirror_mode": {
    "name": "ipython",
    "version": 2
   },
   "file_extension": ".py",
   "mimetype": "text/x-python",
   "name": "python",
   "nbconvert_exporter": "python",
   "pygments_lexer": "ipython2",
   "version": "2.7.6"
  }
 },
 "nbformat": 4,
 "nbformat_minor": 0
}
