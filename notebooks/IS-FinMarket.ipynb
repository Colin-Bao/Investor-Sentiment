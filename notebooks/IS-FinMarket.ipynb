{
 "cells": [
  {
   "cell_type": "markdown",
   "source": [
    "# 金融市场情绪专题\n",
    "PCA"
   ],
   "metadata": {
    "collapsed": false
   }
  },
  {
   "cell_type": "code",
   "execution_count": 1,
   "outputs": [],
   "source": [
    "import sys\n",
    "import os\n",
    "import cudf\n",
    "import pandas as pd\n",
    "\n",
    "# ------------------------------数据集路径----------------------------------#\n",
    "# /usr/local/miniconda3/envs/Rapids/bin/python\n",
    "DATASETS_PATH = '/data/DataSets/BW_INDEX_CSMAR/BW_5_CSMAR/'"
   ],
   "metadata": {
    "collapsed": false
   }
  },
  {
   "cell_type": "code",
   "execution_count": 2,
   "outputs": [
    {
     "data": {
      "text/plain": "['QX_STOCKRATE[DES][csv].txt',\n 'QX_TRM1.csv',\n 'QX_FUNDDISCOUNTPREMIUM[DES][csv].txt',\n 'QX_DIVIDENDPREMIUM.csv',\n 'QX_FUNDDISCOUNTPREMIUM1.csv',\n 'QX_FUNDDISCOUNTPREMIUM.csv',\n 'QX_DIVIDENDPREMIUM[DES][csv].txt',\n 'QX_DIVIDENDPREMIUM.parquet',\n 'QX_FUNDDISCOUNTPREMIUM.parquet',\n 'QX_TRM.csv',\n 'QX_TRM[DES][csv].txt',\n 'QX_STOCKRATE.csv',\n 'QX_IPO[DES][csv].txt',\n 'QX_IPO.csv',\n 'QX_IPO.parquet']"
     },
     "execution_count": 2,
     "metadata": {},
     "output_type": "execute_result"
    }
   ],
   "source": [
    "os.listdir(DATASETS_PATH)"
   ],
   "metadata": {
    "collapsed": false
   }
  },
  {
   "cell_type": "markdown",
   "source": [
    "### 股利溢价-年\n",
    "SgnYear [统计年度] - YYYY\n",
    "Dnum [分红公司数目] - 指当年发生了现金分红的上市公司数量\n",
    "NDnum [未分红公司数目] - 指当年没有现金分红的上市公司数量\n",
    "DMB [分红公司平均市值账面比] - 计算公式为：所有分红的公司的市值账面比的平均数\n",
    "NDMB [未分红公司平均市值账面比] - 计算公式为：所有未分红的公司的市值账面比的平均数\n",
    "PDND [股利溢价] - 计算公式为：分红公司平均市值账面比-未分红公司平均市值账面比\n",
    "LogPDND [对数股利溢价] - 计算公式为：股利溢价的对数"
   ],
   "metadata": {
    "collapsed": false
   }
  },
  {
   "cell_type": "code",
   "execution_count": 3,
   "outputs": [
    {
     "data": {
      "text/plain": "         LogPDND\nSgnYear         \n1991     -0.9005\n1992     -0.2720\n1993     -0.0592\n1994     -0.1019\n1995     -0.0237\n1996     -0.0648\n1997     -0.0639\n1998     -0.0479\n1999     -0.0426\n2000     -0.0986\n2001     -0.1214\n2002     -0.1240\n2003     -0.0583\n2004     -0.0422\n2005     -0.0260\n2006     -0.4844\n2007     -0.0814\n2008     -0.1156\n2009     -1.4346\n2010     -0.3186\n2011     -0.1881\n2012     -0.2554\n2013     -0.2100\n2014     -0.3537\n2015     -0.2930\n2016     -0.2139\n2017     -0.1705\n2018     -0.1669\n2019     -0.1055\n2020     -0.0270\n2021     -0.0318",
      "text/html": "<div>\n<style scoped>\n    .dataframe tbody tr th:only-of-type {\n        vertical-align: middle;\n    }\n\n    .dataframe tbody tr th {\n        vertical-align: top;\n    }\n\n    .dataframe thead th {\n        text-align: right;\n    }\n</style>\n<table border=\"1\" class=\"dataframe\">\n  <thead>\n    <tr style=\"text-align: right;\">\n      <th></th>\n      <th>LogPDND</th>\n    </tr>\n    <tr>\n      <th>SgnYear</th>\n      <th></th>\n    </tr>\n  </thead>\n  <tbody>\n    <tr>\n      <th>1991</th>\n      <td>-0.9005</td>\n    </tr>\n    <tr>\n      <th>1992</th>\n      <td>-0.2720</td>\n    </tr>\n    <tr>\n      <th>1993</th>\n      <td>-0.0592</td>\n    </tr>\n    <tr>\n      <th>1994</th>\n      <td>-0.1019</td>\n    </tr>\n    <tr>\n      <th>1995</th>\n      <td>-0.0237</td>\n    </tr>\n    <tr>\n      <th>1996</th>\n      <td>-0.0648</td>\n    </tr>\n    <tr>\n      <th>1997</th>\n      <td>-0.0639</td>\n    </tr>\n    <tr>\n      <th>1998</th>\n      <td>-0.0479</td>\n    </tr>\n    <tr>\n      <th>1999</th>\n      <td>-0.0426</td>\n    </tr>\n    <tr>\n      <th>2000</th>\n      <td>-0.0986</td>\n    </tr>\n    <tr>\n      <th>2001</th>\n      <td>-0.1214</td>\n    </tr>\n    <tr>\n      <th>2002</th>\n      <td>-0.1240</td>\n    </tr>\n    <tr>\n      <th>2003</th>\n      <td>-0.0583</td>\n    </tr>\n    <tr>\n      <th>2004</th>\n      <td>-0.0422</td>\n    </tr>\n    <tr>\n      <th>2005</th>\n      <td>-0.0260</td>\n    </tr>\n    <tr>\n      <th>2006</th>\n      <td>-0.4844</td>\n    </tr>\n    <tr>\n      <th>2007</th>\n      <td>-0.0814</td>\n    </tr>\n    <tr>\n      <th>2008</th>\n      <td>-0.1156</td>\n    </tr>\n    <tr>\n      <th>2009</th>\n      <td>-1.4346</td>\n    </tr>\n    <tr>\n      <th>2010</th>\n      <td>-0.3186</td>\n    </tr>\n    <tr>\n      <th>2011</th>\n      <td>-0.1881</td>\n    </tr>\n    <tr>\n      <th>2012</th>\n      <td>-0.2554</td>\n    </tr>\n    <tr>\n      <th>2013</th>\n      <td>-0.2100</td>\n    </tr>\n    <tr>\n      <th>2014</th>\n      <td>-0.3537</td>\n    </tr>\n    <tr>\n      <th>2015</th>\n      <td>-0.2930</td>\n    </tr>\n    <tr>\n      <th>2016</th>\n      <td>-0.2139</td>\n    </tr>\n    <tr>\n      <th>2017</th>\n      <td>-0.1705</td>\n    </tr>\n    <tr>\n      <th>2018</th>\n      <td>-0.1669</td>\n    </tr>\n    <tr>\n      <th>2019</th>\n      <td>-0.1055</td>\n    </tr>\n    <tr>\n      <th>2020</th>\n      <td>-0.0270</td>\n    </tr>\n    <tr>\n      <th>2021</th>\n      <td>-0.0318</td>\n    </tr>\n  </tbody>\n</table>\n</div>"
     },
     "execution_count": 3,
     "metadata": {},
     "output_type": "execute_result"
    }
   ],
   "source": [
    "def cal_pd():\n",
    "    df = cudf.read_parquet(f'{DATASETS_PATH}QX_DIVIDENDPREMIUM.parquet')\n",
    "    return df[['LogPDND']]\n",
    "\n",
    "\n",
    "df_pd = cal_pd()\n",
    "df_pd"
   ],
   "metadata": {
    "collapsed": false
   }
  },
  {
   "cell_type": "markdown",
   "source": [
    "### 股票融资占股票债券融资比例-年"
   ],
   "metadata": {
    "collapsed": false
   }
  },
  {
   "cell_type": "code",
   "execution_count": 4,
   "outputs": [],
   "source": [
    "# pd.read_csv(f'{DATASETS_PATH}QX_STOCKRATE.csv')"
   ],
   "metadata": {
    "collapsed": false
   }
  },
  {
   "cell_type": "markdown",
   "source": [
    "### 基金折溢价率CEFD-面板\n",
    "Symbol [基金代码] -\n",
    "TradingDate [交易日期] -\n",
    "CategoryID [基金类别] - S0601=股票型基金;S0602=债券型基金;S0603=货币型基金;S0604=混合型基金;S0605=FOF;S0606=股指期货型基金;S0699=其他\n",
    "FundTypeID [基金运作方式] - S0501=契约型开放式;S0502=契约型封闭式\n",
    "IsETF [是否ETF] - 1=是；2=否\n",
    "IsLOF [是否LOF] - 1=是；2=否\n",
    "IsIndexFund [是否指数基金] - 1=是；2=否\n",
    "IsInnovative [是否创新型基金] - 1=是；2=否\n",
    "NAV [基金份额净值] -\n",
    "AccumulativeNAV [基金份额累计净值] -\n",
    "ClosePrice [收盘价] -\n",
    "CovertRate [溢价率(%)] - 计算公式为：（收盘价-基金份额净值）*101/基金份额净值\n",
    "TurnoverRate [换手率] -"
   ],
   "metadata": {
    "collapsed": false
   }
  },
  {
   "cell_type": "code",
   "execution_count": 5,
   "outputs": [
    {
     "data": {
      "text/plain": "                   CEFD\nTradingDate            \n19980430     101.500000\n19980630      60.272500\n19980731      41.500000\n19980831      28.418000\n19980930      31.054000\n...                 ...\n20221216       4.303333\n20221219       1.501667\n20221220       0.239091\n20221221       0.583000\n20221222       0.293333\n\n[2637 rows x 1 columns]",
      "text/html": "<div>\n<style scoped>\n    .dataframe tbody tr th:only-of-type {\n        vertical-align: middle;\n    }\n\n    .dataframe tbody tr th {\n        vertical-align: top;\n    }\n\n    .dataframe thead th {\n        text-align: right;\n    }\n</style>\n<table border=\"1\" class=\"dataframe\">\n  <thead>\n    <tr style=\"text-align: right;\">\n      <th></th>\n      <th>CEFD</th>\n    </tr>\n    <tr>\n      <th>TradingDate</th>\n      <th></th>\n    </tr>\n  </thead>\n  <tbody>\n    <tr>\n      <th>19980430</th>\n      <td>101.500000</td>\n    </tr>\n    <tr>\n      <th>19980630</th>\n      <td>60.272500</td>\n    </tr>\n    <tr>\n      <th>19980731</th>\n      <td>41.500000</td>\n    </tr>\n    <tr>\n      <th>19980831</th>\n      <td>28.418000</td>\n    </tr>\n    <tr>\n      <th>19980930</th>\n      <td>31.054000</td>\n    </tr>\n    <tr>\n      <th>...</th>\n      <td>...</td>\n    </tr>\n    <tr>\n      <th>20221216</th>\n      <td>4.303333</td>\n    </tr>\n    <tr>\n      <th>20221219</th>\n      <td>1.501667</td>\n    </tr>\n    <tr>\n      <th>20221220</th>\n      <td>0.239091</td>\n    </tr>\n    <tr>\n      <th>20221221</th>\n      <td>0.583000</td>\n    </tr>\n    <tr>\n      <th>20221222</th>\n      <td>0.293333</td>\n    </tr>\n  </tbody>\n</table>\n<p>2637 rows × 1 columns</p>\n</div>"
     },
     "execution_count": 5,
     "metadata": {},
     "output_type": "execute_result"
    }
   ],
   "source": [
    "\n",
    "def cal_cefd():\n",
    "    \"\"\"\n",
    "    计算封闭式基金溢价\n",
    "    \"\"\"\n",
    "\n",
    "    '''\n",
    "    保留 封闭式基金\n",
    "    剔除 LOF基金,创新型基金,股票指数基金\n",
    "    '''\n",
    "\n",
    "    df = (\n",
    "            cudf.from_pandas(\n",
    "                    cudf.read_parquet(f'{DATASETS_PATH}QX_FUNDDISCOUNTPREMIUM.parquet').sort_index().to_pandas()\n",
    "                    .query(\" FundTypeID=='S0502'& IsLOF==2 & IsInnovative==2 & IsIndexFund==2\")\n",
    "            )\n",
    "    )\n",
    "\n",
    "    '''\n",
    "    CovertRate 平均加权\n",
    "    '''\n",
    "    df['DayAvgCR'] = df.groupby(level=['TradingDate'])['CovertRate'].transform('mean')\n",
    "\n",
    "    '''\n",
    "    时间序列\n",
    "    '''\n",
    "    df = df.groupby(level=['TradingDate']).first()[['DayAvgCR']]\n",
    "\n",
    "    return df.rename(columns={'DayAvgCR': 'CEFD'})\n",
    "\n",
    "\n",
    "df_cefd = cal_cefd()\n",
    "df_cefd"
   ],
   "metadata": {
    "collapsed": false
   }
  },
  {
   "cell_type": "markdown",
   "source": [
    "### 市场换手率-面板数据\n",
    "TradingDate [交易日期] -\n",
    "MarketType [市场类型] - 1=上证A股市场；2=上证B股市场；4=深证A股市场；8=深证B股市场；6=主板；5=沪深A股市场；7=中小板；10=沪深B股市场；15=沪深AB股市场；16=创业板；20=深证A股和创业板；21=沪深A股和创业板；31=沪深AB股和创业板；32=科创板；33=上证A股和科创板；37=沪深A股和科创板；47=沪深AB股和科创板；53=沪深A股和创业板和科创板；63=沪深AB股和创业板和科创板；64=北证A股市场；69=沪深京A股市场；79=沪深京AB股市场；85=沪深京A股和创业板；95=沪深京AB股和创业板；101=沪深京A股和科创板；111=沪深京AB股和科创板；117=沪深京A股和创业板和科创板；127=沪深京AB股和创业板和科创板；\n",
    "Parameter [参数值] - 字段说明见说明书“附录 参数说明”\n",
    "Unit [参数单位] -\n",
    "TurnoverRate1 [换手率(总股本)] - 计算公式为：交易量/总股本\n",
    "TurnoverRate2 [换手率(流通股本)] - 计算公式为：交易量/流通股本"
   ],
   "metadata": {
    "collapsed": false
   }
  },
  {
   "cell_type": "code",
   "execution_count": 6,
   "outputs": [],
   "source": [
    "# pd.read_csv(f'{DATASETS_PATH}QX_TRM.csv')"
   ],
   "metadata": {
    "collapsed": false
   }
  },
  {
   "cell_type": "markdown",
   "source": [
    "### IPO股票信息-面板数据\n",
    "Symbol [股票代码] -\n",
    "ListedDate [上市日期] -\n",
    "ListedYear [上市年份] -\n",
    "ABSymbol [AB股交叉码] - 指公司同时发行了A和B股的情况\n",
    "HSymbol [H股交叉码] - 指的是公司同时发行了H股的情况\n",
    "EstablishDate [公司成立日期] -\n",
    "IpoDate [首次招股日期] -\n",
    "CompanyListedDate [公司上市日期] -\n",
    "IsIPO [是否首次发行] - A=是；B=否\n",
    "TotalShares [实际发行总量] -\n",
    "IssuePrice [发行价格] -\n",
    "CurrencyCode [发行价格币种] -\n",
    "ClosePrice [上市首日收盘价] -\n",
    "ReturnRate [上市首日回报率] -\n",
    "TurnoverRate1 [上市首日换手率(总股本)] -\n",
    "TurnoverRate2 [上市首日换手率(流通股本)] -\n",
    "PE [上市首日市盈率] -\n",
    "PB [上市首日市净率] -"
   ],
   "metadata": {
    "collapsed": false
   }
  },
  {
   "cell_type": "code",
   "execution_count": 7,
   "outputs": [
    {
     "data": {
      "text/plain": "               DayAvgRR  NIPO\nListedDate                   \n19901210          0.803     1\n19901219    48.89698229     7\n19910114          14.98     1\n19910129          13.58     1\n19910403          0.225     1\n...                 ...   ...\n20221216      0.1284755     2\n20221221       0.156567     1\n20221222       0.157636     2\n20221223           <NA>     0\n20221226           <NA>     0\n\n[2615 rows x 2 columns]",
      "text/html": "<div>\n<style scoped>\n    .dataframe tbody tr th:only-of-type {\n        vertical-align: middle;\n    }\n\n    .dataframe tbody tr th {\n        vertical-align: top;\n    }\n\n    .dataframe thead th {\n        text-align: right;\n    }\n</style>\n<table border=\"1\" class=\"dataframe\">\n  <thead>\n    <tr style=\"text-align: right;\">\n      <th></th>\n      <th>DayAvgRR</th>\n      <th>NIPO</th>\n    </tr>\n    <tr>\n      <th>ListedDate</th>\n      <th></th>\n      <th></th>\n    </tr>\n  </thead>\n  <tbody>\n    <tr>\n      <th>19901210</th>\n      <td>0.803</td>\n      <td>1</td>\n    </tr>\n    <tr>\n      <th>19901219</th>\n      <td>48.89698229</td>\n      <td>7</td>\n    </tr>\n    <tr>\n      <th>19910114</th>\n      <td>14.98</td>\n      <td>1</td>\n    </tr>\n    <tr>\n      <th>19910129</th>\n      <td>13.58</td>\n      <td>1</td>\n    </tr>\n    <tr>\n      <th>19910403</th>\n      <td>0.225</td>\n      <td>1</td>\n    </tr>\n    <tr>\n      <th>...</th>\n      <td>...</td>\n      <td>...</td>\n    </tr>\n    <tr>\n      <th>20221216</th>\n      <td>0.1284755</td>\n      <td>2</td>\n    </tr>\n    <tr>\n      <th>20221221</th>\n      <td>0.156567</td>\n      <td>1</td>\n    </tr>\n    <tr>\n      <th>20221222</th>\n      <td>0.157636</td>\n      <td>2</td>\n    </tr>\n    <tr>\n      <th>20221223</th>\n      <td>&lt;NA&gt;</td>\n      <td>0</td>\n    </tr>\n    <tr>\n      <th>20221226</th>\n      <td>&lt;NA&gt;</td>\n      <td>0</td>\n    </tr>\n  </tbody>\n</table>\n<p>2615 rows × 2 columns</p>\n</div>"
     },
     "execution_count": 7,
     "metadata": {},
     "output_type": "execute_result"
    }
   ],
   "source": [
    "def cal_ipo():\n",
    "    \"\"\"\n",
    "    计算IPO信息\n",
    "    \"\"\"\n",
    "    df = cudf.read_parquet(f'{DATASETS_PATH}QX_IPO.parquet')\n",
    "\n",
    "    '''\n",
    "    计算平均首日收益\n",
    "    '''\n",
    "    df['DayAvgRR'] = df.groupby(level=['ListedDate'])['ReturnRate'].transform('mean')\n",
    "    df['DayTotalN'] = df.groupby(level=['ListedDate'])['ReturnRate'].transform('count')\n",
    "    df = df.groupby(level=['ListedDate']).first()[['DayAvgRR', 'DayTotalN']]\n",
    "\n",
    "    return df.rename(columns={'DayAvgCR': 'RIPO', 'DayTotalN': 'NIPO'})\n",
    "\n",
    "\n",
    "df_ipo = cal_ipo()\n",
    "df_ipo"
   ],
   "metadata": {
    "collapsed": false
   }
  },
  {
   "cell_type": "markdown",
   "source": [
    "## 合成"
   ],
   "metadata": {
    "collapsed": false
   }
  },
  {
   "cell_type": "code",
   "execution_count": 8,
   "outputs": [
    {
     "data": {
      "text/plain": "             DayAvgRR  NIPO         CEFD\n19901210        0.803     1         <NA>\n19901219  48.89698229     7         <NA>\n19910114        14.98     1         <NA>\n19910129        13.58     1         <NA>\n19910403        0.225     1         <NA>\n...               ...   ...          ...\n20221216    0.1284755     2  4.303333333\n20221221     0.156567     1        0.583\n20221222     0.157636     2  0.293333333\n20221223         <NA>     0         <NA>\n20221226         <NA>     0         <NA>\n\n[2615 rows x 3 columns]",
      "text/html": "<div>\n<style scoped>\n    .dataframe tbody tr th:only-of-type {\n        vertical-align: middle;\n    }\n\n    .dataframe tbody tr th {\n        vertical-align: top;\n    }\n\n    .dataframe thead th {\n        text-align: right;\n    }\n</style>\n<table border=\"1\" class=\"dataframe\">\n  <thead>\n    <tr style=\"text-align: right;\">\n      <th></th>\n      <th>DayAvgRR</th>\n      <th>NIPO</th>\n      <th>CEFD</th>\n    </tr>\n  </thead>\n  <tbody>\n    <tr>\n      <th>19901210</th>\n      <td>0.803</td>\n      <td>1</td>\n      <td>&lt;NA&gt;</td>\n    </tr>\n    <tr>\n      <th>19901219</th>\n      <td>48.89698229</td>\n      <td>7</td>\n      <td>&lt;NA&gt;</td>\n    </tr>\n    <tr>\n      <th>19910114</th>\n      <td>14.98</td>\n      <td>1</td>\n      <td>&lt;NA&gt;</td>\n    </tr>\n    <tr>\n      <th>19910129</th>\n      <td>13.58</td>\n      <td>1</td>\n      <td>&lt;NA&gt;</td>\n    </tr>\n    <tr>\n      <th>19910403</th>\n      <td>0.225</td>\n      <td>1</td>\n      <td>&lt;NA&gt;</td>\n    </tr>\n    <tr>\n      <th>...</th>\n      <td>...</td>\n      <td>...</td>\n      <td>...</td>\n    </tr>\n    <tr>\n      <th>20221216</th>\n      <td>0.1284755</td>\n      <td>2</td>\n      <td>4.303333333</td>\n    </tr>\n    <tr>\n      <th>20221221</th>\n      <td>0.156567</td>\n      <td>1</td>\n      <td>0.583</td>\n    </tr>\n    <tr>\n      <th>20221222</th>\n      <td>0.157636</td>\n      <td>2</td>\n      <td>0.293333333</td>\n    </tr>\n    <tr>\n      <th>20221223</th>\n      <td>&lt;NA&gt;</td>\n      <td>0</td>\n      <td>&lt;NA&gt;</td>\n    </tr>\n    <tr>\n      <th>20221226</th>\n      <td>&lt;NA&gt;</td>\n      <td>0</td>\n      <td>&lt;NA&gt;</td>\n    </tr>\n  </tbody>\n</table>\n<p>2615 rows × 3 columns</p>\n</div>"
     },
     "execution_count": 8,
     "metadata": {},
     "output_type": "execute_result"
    }
   ],
   "source": [
    "df_pca = df_ipo.join(df_cefd)\n",
    "df_pca.sort_index()"
   ],
   "metadata": {
    "collapsed": false
   }
  },
  {
   "cell_type": "markdown",
   "source": [],
   "metadata": {
    "collapsed": false
   }
  }
 ],
 "metadata": {
  "kernelspec": {
   "name": "pytorch",
   "language": "python",
   "display_name": "Rapids"
  },
  "language_info": {
   "codemirror_mode": {
    "name": "ipython",
    "version": 2
   },
   "file_extension": ".py",
   "mimetype": "text/x-python",
   "name": "python",
   "nbconvert_exporter": "python",
   "pygments_lexer": "ipython2",
   "version": "2.7.6"
  }
 },
 "nbformat": 4,
 "nbformat_minor": 0
}
