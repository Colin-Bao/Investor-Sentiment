{
 "cells": [
  {
   "cell_type": "markdown",
   "source": [
    "# 金融市场情绪专题\n",
    "PCA"
   ],
   "metadata": {
    "collapsed": false
   }
  },
  {
   "cell_type": "code",
   "execution_count": 2,
   "outputs": [
    {
     "name": "stdout",
     "output_type": "stream",
     "text": [
      "\n",
      "  ___  ____  ____  ____  ____ ©\n",
      " /__    /   ____/   /   ____/      17.0\n",
      "___/   /   /___/   /   /___/       MP—Parallel Edition\n",
      "\n",
      " Statistics and Data Science       Copyright 1985-2021 StataCorp LLC\n",
      "                                   StataCorp\n",
      "                                   4905 Lakeway Drive\n",
      "                                   College Station, Texas 77845 USA\n",
      "                                   800-STATA-PC        https://www.stata.com\n",
      "                                   979-696-4600        stata@stata.com\n",
      "\n",
      "Stata license: Single-user 8-core , expiring  1 Jan 2025\n",
      "Serial number: 501709301094\n",
      "  Licensed to: Colin's Stata\n",
      "               Love U\n",
      "\n",
      "Notes:\n",
      "      1. Unicode is supported; see help unicode_advice.\n",
      "      2. More than 2 billion observations are allowed; see help obs_advice.\n",
      "      3. Maximum number of variables is set to 5,000; see help set_maxvar.\n"
     ]
    }
   ],
   "source": [
    "import sys\n",
    "import os\n",
    "import cudf  #CUDA计算\n",
    "import pandas as pd\n",
    "import numpy as np\n",
    "\n",
    "# 自行编写的包\n",
    "sys.path.append('/home/ubuntu/notebook/Investor-Sentiment')\n",
    "sys.path.append('/usr/local/stata17/utilities')\n",
    "from loader.findata_loader import Loader\n",
    "from utils.sql import DB\n",
    "\n",
    "# Stata\n",
    "from pystata import config\n",
    "\n",
    "config.init('mp')\n",
    "# ------------------------------数据集路径----------------------------------#\n",
    "DATASETS_PATH = '/data/DataSets/investor_sentiment/'"
   ],
   "metadata": {
    "collapsed": false
   }
  },
  {
   "cell_type": "markdown",
   "source": [
    "### 数据提取"
   ],
   "metadata": {
    "collapsed": false
   }
  },
  {
   "cell_type": "code",
   "execution_count": 4,
   "outputs": [
    {
     "data": {
      "text/plain": "['QX_STOCKRATE[DES][csv].txt',\n 'QX_TRM1.csv',\n 'QX_FUNDDISCOUNTPREMIUM[DES][csv].txt',\n 'QX_DIVIDENDPREMIUM.csv',\n 'QX_FUNDDISCOUNTPREMIUM1.csv',\n 'QX_FUNDDISCOUNTPREMIUM.csv',\n 'QX_DIVIDENDPREMIUM[DES][csv].txt',\n 'QX_TRM.csv',\n 'QX_TRM[DES][csv].txt',\n 'QX_STOCKRATE.csv',\n 'QX_IPO[DES][csv].txt',\n 'QX_IPO.csv']"
     },
     "execution_count": 4,
     "metadata": {},
     "output_type": "execute_result"
    }
   ],
   "source": [
    "os.listdir('/data/DataSets/BW_FInMarket_CSMAR/BW_5_CSMAR/')"
   ],
   "metadata": {
    "collapsed": false
   }
  },
  {
   "cell_type": "markdown",
   "source": [
    "### 股利溢价"
   ],
   "metadata": {
    "collapsed": false
   }
  },
  {
   "cell_type": "code",
   "execution_count": 3,
   "outputs": [
    {
     "data": {
      "text/plain": "    SgnYear  Dnum  NDnum     DMB     NDMB     PDND  LogPDND\n0      1991     1     14  0.6049   4.8106  -4.2057  -0.9005\n1      1992     4     72  2.4407   4.5652  -2.1245  -0.2720\n2      1993    42    182  2.2759   2.6085  -0.3325  -0.0592\n3      1994   160    193  1.3538   1.7117  -0.3578  -0.1019\n4      1995   265    116  1.0813   1.1420  -0.0607  -0.0237\n5      1996   239    357  1.8867   2.1904  -0.3038  -0.0648\n6      1997   215    599  2.1294   2.4667  -0.3373  -0.0639\n7      1998   283    638  2.0322   2.2689  -0.2367  -0.0479\n8      1999   304    719  2.2116   2.4395  -0.2278  -0.0426\n9      2000   353    818  2.9219   3.6668  -0.7449  -0.0986\n10     2001   777    470  2.3160   3.0632  -0.7472  -0.1214\n11     2002   743    560  1.7153   2.2822  -0.5669  -0.1240\n12     2003   679    688  1.3655   1.5618  -0.1963  -0.0583\n13     2004   674    783  1.0758   1.1857  -0.1099  -0.0422\n14     2005   785    659  0.8572   0.9100  -0.0528  -0.0260\n15     2006   672    801  1.3098   3.9957  -2.6859  -0.4844\n16     2007   764    781  2.8963   3.4932  -0.5969  -0.0814\n17     2008   855    810  1.1291   1.4735  -0.3445  -0.1156\n18     2009   900    863  2.2522  61.2571 -59.0050  -1.4346\n19     2010  1069   1025  2.5991   5.4130  -2.8139  -0.3186\n20     2011  1387    983  1.5468   2.3853  -0.8386  -0.1881\n21     2012  1736    796  1.4306   2.5759  -1.1453  -0.2554\n22     2013  1857    656  1.7662   2.8644  -1.0981  -0.2100\n23     2014  1936    617  2.0459   4.6196  -2.5738  -0.3537\n24     2015  2037    697  3.4264   6.7271  -3.3007  -0.2930\n25     2016  2080    924  2.6078   4.2670  -1.6592  -0.2139\n26     2017  2582    839  2.0386   3.0191  -0.9805  -0.1705\n27     2018  2937    718  1.3863   2.0359  -0.6495  -0.1669\n28     2019  2799   1042  1.7314   2.2075  -0.4761  -0.1055\n29     2020  2914   1342  2.1411   2.2787  -0.1376  -0.0270\n30     2021  3258   1429  2.3111   2.4866  -0.1755  -0.0318",
      "text/html": "<div>\n<style scoped>\n    .dataframe tbody tr th:only-of-type {\n        vertical-align: middle;\n    }\n\n    .dataframe tbody tr th {\n        vertical-align: top;\n    }\n\n    .dataframe thead th {\n        text-align: right;\n    }\n</style>\n<table border=\"1\" class=\"dataframe\">\n  <thead>\n    <tr style=\"text-align: right;\">\n      <th></th>\n      <th>SgnYear</th>\n      <th>Dnum</th>\n      <th>NDnum</th>\n      <th>DMB</th>\n      <th>NDMB</th>\n      <th>PDND</th>\n      <th>LogPDND</th>\n    </tr>\n  </thead>\n  <tbody>\n    <tr>\n      <th>0</th>\n      <td>1991</td>\n      <td>1</td>\n      <td>14</td>\n      <td>0.6049</td>\n      <td>4.8106</td>\n      <td>-4.2057</td>\n      <td>-0.9005</td>\n    </tr>\n    <tr>\n      <th>1</th>\n      <td>1992</td>\n      <td>4</td>\n      <td>72</td>\n      <td>2.4407</td>\n      <td>4.5652</td>\n      <td>-2.1245</td>\n      <td>-0.2720</td>\n    </tr>\n    <tr>\n      <th>2</th>\n      <td>1993</td>\n      <td>42</td>\n      <td>182</td>\n      <td>2.2759</td>\n      <td>2.6085</td>\n      <td>-0.3325</td>\n      <td>-0.0592</td>\n    </tr>\n    <tr>\n      <th>3</th>\n      <td>1994</td>\n      <td>160</td>\n      <td>193</td>\n      <td>1.3538</td>\n      <td>1.7117</td>\n      <td>-0.3578</td>\n      <td>-0.1019</td>\n    </tr>\n    <tr>\n      <th>4</th>\n      <td>1995</td>\n      <td>265</td>\n      <td>116</td>\n      <td>1.0813</td>\n      <td>1.1420</td>\n      <td>-0.0607</td>\n      <td>-0.0237</td>\n    </tr>\n    <tr>\n      <th>5</th>\n      <td>1996</td>\n      <td>239</td>\n      <td>357</td>\n      <td>1.8867</td>\n      <td>2.1904</td>\n      <td>-0.3038</td>\n      <td>-0.0648</td>\n    </tr>\n    <tr>\n      <th>6</th>\n      <td>1997</td>\n      <td>215</td>\n      <td>599</td>\n      <td>2.1294</td>\n      <td>2.4667</td>\n      <td>-0.3373</td>\n      <td>-0.0639</td>\n    </tr>\n    <tr>\n      <th>7</th>\n      <td>1998</td>\n      <td>283</td>\n      <td>638</td>\n      <td>2.0322</td>\n      <td>2.2689</td>\n      <td>-0.2367</td>\n      <td>-0.0479</td>\n    </tr>\n    <tr>\n      <th>8</th>\n      <td>1999</td>\n      <td>304</td>\n      <td>719</td>\n      <td>2.2116</td>\n      <td>2.4395</td>\n      <td>-0.2278</td>\n      <td>-0.0426</td>\n    </tr>\n    <tr>\n      <th>9</th>\n      <td>2000</td>\n      <td>353</td>\n      <td>818</td>\n      <td>2.9219</td>\n      <td>3.6668</td>\n      <td>-0.7449</td>\n      <td>-0.0986</td>\n    </tr>\n    <tr>\n      <th>10</th>\n      <td>2001</td>\n      <td>777</td>\n      <td>470</td>\n      <td>2.3160</td>\n      <td>3.0632</td>\n      <td>-0.7472</td>\n      <td>-0.1214</td>\n    </tr>\n    <tr>\n      <th>11</th>\n      <td>2002</td>\n      <td>743</td>\n      <td>560</td>\n      <td>1.7153</td>\n      <td>2.2822</td>\n      <td>-0.5669</td>\n      <td>-0.1240</td>\n    </tr>\n    <tr>\n      <th>12</th>\n      <td>2003</td>\n      <td>679</td>\n      <td>688</td>\n      <td>1.3655</td>\n      <td>1.5618</td>\n      <td>-0.1963</td>\n      <td>-0.0583</td>\n    </tr>\n    <tr>\n      <th>13</th>\n      <td>2004</td>\n      <td>674</td>\n      <td>783</td>\n      <td>1.0758</td>\n      <td>1.1857</td>\n      <td>-0.1099</td>\n      <td>-0.0422</td>\n    </tr>\n    <tr>\n      <th>14</th>\n      <td>2005</td>\n      <td>785</td>\n      <td>659</td>\n      <td>0.8572</td>\n      <td>0.9100</td>\n      <td>-0.0528</td>\n      <td>-0.0260</td>\n    </tr>\n    <tr>\n      <th>15</th>\n      <td>2006</td>\n      <td>672</td>\n      <td>801</td>\n      <td>1.3098</td>\n      <td>3.9957</td>\n      <td>-2.6859</td>\n      <td>-0.4844</td>\n    </tr>\n    <tr>\n      <th>16</th>\n      <td>2007</td>\n      <td>764</td>\n      <td>781</td>\n      <td>2.8963</td>\n      <td>3.4932</td>\n      <td>-0.5969</td>\n      <td>-0.0814</td>\n    </tr>\n    <tr>\n      <th>17</th>\n      <td>2008</td>\n      <td>855</td>\n      <td>810</td>\n      <td>1.1291</td>\n      <td>1.4735</td>\n      <td>-0.3445</td>\n      <td>-0.1156</td>\n    </tr>\n    <tr>\n      <th>18</th>\n      <td>2009</td>\n      <td>900</td>\n      <td>863</td>\n      <td>2.2522</td>\n      <td>61.2571</td>\n      <td>-59.0050</td>\n      <td>-1.4346</td>\n    </tr>\n    <tr>\n      <th>19</th>\n      <td>2010</td>\n      <td>1069</td>\n      <td>1025</td>\n      <td>2.5991</td>\n      <td>5.4130</td>\n      <td>-2.8139</td>\n      <td>-0.3186</td>\n    </tr>\n    <tr>\n      <th>20</th>\n      <td>2011</td>\n      <td>1387</td>\n      <td>983</td>\n      <td>1.5468</td>\n      <td>2.3853</td>\n      <td>-0.8386</td>\n      <td>-0.1881</td>\n    </tr>\n    <tr>\n      <th>21</th>\n      <td>2012</td>\n      <td>1736</td>\n      <td>796</td>\n      <td>1.4306</td>\n      <td>2.5759</td>\n      <td>-1.1453</td>\n      <td>-0.2554</td>\n    </tr>\n    <tr>\n      <th>22</th>\n      <td>2013</td>\n      <td>1857</td>\n      <td>656</td>\n      <td>1.7662</td>\n      <td>2.8644</td>\n      <td>-1.0981</td>\n      <td>-0.2100</td>\n    </tr>\n    <tr>\n      <th>23</th>\n      <td>2014</td>\n      <td>1936</td>\n      <td>617</td>\n      <td>2.0459</td>\n      <td>4.6196</td>\n      <td>-2.5738</td>\n      <td>-0.3537</td>\n    </tr>\n    <tr>\n      <th>24</th>\n      <td>2015</td>\n      <td>2037</td>\n      <td>697</td>\n      <td>3.4264</td>\n      <td>6.7271</td>\n      <td>-3.3007</td>\n      <td>-0.2930</td>\n    </tr>\n    <tr>\n      <th>25</th>\n      <td>2016</td>\n      <td>2080</td>\n      <td>924</td>\n      <td>2.6078</td>\n      <td>4.2670</td>\n      <td>-1.6592</td>\n      <td>-0.2139</td>\n    </tr>\n    <tr>\n      <th>26</th>\n      <td>2017</td>\n      <td>2582</td>\n      <td>839</td>\n      <td>2.0386</td>\n      <td>3.0191</td>\n      <td>-0.9805</td>\n      <td>-0.1705</td>\n    </tr>\n    <tr>\n      <th>27</th>\n      <td>2018</td>\n      <td>2937</td>\n      <td>718</td>\n      <td>1.3863</td>\n      <td>2.0359</td>\n      <td>-0.6495</td>\n      <td>-0.1669</td>\n    </tr>\n    <tr>\n      <th>28</th>\n      <td>2019</td>\n      <td>2799</td>\n      <td>1042</td>\n      <td>1.7314</td>\n      <td>2.2075</td>\n      <td>-0.4761</td>\n      <td>-0.1055</td>\n    </tr>\n    <tr>\n      <th>29</th>\n      <td>2020</td>\n      <td>2914</td>\n      <td>1342</td>\n      <td>2.1411</td>\n      <td>2.2787</td>\n      <td>-0.1376</td>\n      <td>-0.0270</td>\n    </tr>\n    <tr>\n      <th>30</th>\n      <td>2021</td>\n      <td>3258</td>\n      <td>1429</td>\n      <td>2.3111</td>\n      <td>2.4866</td>\n      <td>-0.1755</td>\n      <td>-0.0318</td>\n    </tr>\n  </tbody>\n</table>\n</div>"
     },
     "execution_count": 3,
     "metadata": {},
     "output_type": "execute_result"
    }
   ],
   "source": [
    "pd.read_csv('/data/DataSets/BW_FInMarket_CSMAR/BW_5_CSMAR/QX_DIVIDENDPREMIUM.csv')"
   ],
   "metadata": {
    "collapsed": false
   }
  },
  {
   "cell_type": "markdown",
   "source": [
    "### 股票融资占股票债券融资比例"
   ],
   "metadata": {
    "collapsed": false
   }
  },
  {
   "cell_type": "code",
   "execution_count": 5,
   "outputs": [
    {
     "data": {
      "text/plain": "    SgnYear      IPO  APublic  APrivate       Rs  Refinance   Ashares  \\\n0      1990     5.86     0.00      0.00     0.00       0.00      5.86   \n1      1991     2.39     2.48      0.00     0.00       2.48      4.87   \n2      1992   153.42     0.00      0.00     0.00       0.00    153.42   \n3      1993   370.50     0.00      0.00     1.95       1.95    372.45   \n4      1994   186.47     7.68      0.00    12.29      19.97    206.44   \n5      1995    25.79     0.00      0.00    25.41      25.41     51.20   \n6      1996   224.91     0.00      0.00    56.17      56.17    281.08   \n7      1997   618.39     0.00      0.00   186.96     186.96    805.35   \n8      1998   405.32    50.54      0.00   327.44     377.98    783.30   \n9      1999   505.03    55.10      4.65   319.62     379.37    884.40   \n10     2000   852.05   143.73      0.00   492.63     636.36   1488.41   \n11     2001   614.86   193.05      0.00   430.64     623.69   1238.55   \n12     2002   499.48   164.69      0.00    56.61     221.30    720.78   \n13     2003   473.01   116.15      0.00    76.52     192.67    665.68   \n14     2004   361.05   159.74      0.00   104.77     264.51    625.56   \n15     2005    57.63   278.78      0.00     2.62     281.40    339.03   \n16     2006  1280.86   111.32    896.57     4.32    1012.21   2293.07   \n17     2007  4894.84   616.89   2252.22   227.70    3096.81   7991.65   \n18     2008  1063.83   576.38   1618.04   151.57    2345.99   3409.82   \n19     2009  1878.98   261.69   2660.40   105.97    3028.06   4907.04   \n20     2010  4793.36   377.14   3246.62  1438.22    5061.98   9855.34   \n21     2011  2824.43   288.79   4287.24   421.96    4997.99   7822.42   \n22     2012  1060.40   105.20   3385.16   121.00    3611.36   4671.76   \n23     2013     0.00    80.43   3614.06   475.73    4170.22   4170.22   \n24     2014   668.89     3.65   7959.96   137.97    8101.58   8770.47   \n25     2015  1576.39     0.00  15088.23    42.34   15130.57  16706.96   \n26     2016  1496.08     0.00  18520.64   298.51   18819.15  20315.23   \n27     2017  2301.09     0.00  13328.93   162.96   13491.89  15792.98   \n28     2018  1378.15     0.00   8918.41   228.32    9146.73  10524.88   \n29     2019  2489.81    89.50   9480.04   133.88    9703.42  12193.23   \n30     2020  4624.58    25.71   8505.83   512.97    9044.51  13669.09   \n31     2021  5323.73     0.00   9334.22   493.35    9827.57  15151.30   \n\n         Bond  SRate  \n0       93.49   5.90  \n1      199.09   2.39  \n2      395.64  27.94  \n3      304.54  55.02  \n4      418.86  33.01  \n5      376.89  11.96  \n6     1883.26  12.99  \n7      835.22  49.09  \n8      104.10  88.27  \n9      424.10  67.59  \n10     325.50  82.06  \n11    1085.00  53.30  \n12    1775.50  28.87  \n13    2091.57  24.14  \n14    3098.13  16.80  \n15    5534.80   5.77  \n16    7480.08  23.46  \n17    6656.68  54.56  \n18    8607.95  28.37  \n19   18267.66  21.17  \n20   20225.83  32.76  \n21   16171.49  32.60  \n22   21687.94  17.72  \n23   22336.97  15.73  \n24   26774.97  24.67  \n25   71716.38  18.89  \n26  115452.63  14.96  \n27   95810.06  14.15  \n28  116760.42   8.27  \n29  133264.86   8.38  \n30  205889.03   6.23  \n31  202870.10   6.95  ",
      "text/html": "<div>\n<style scoped>\n    .dataframe tbody tr th:only-of-type {\n        vertical-align: middle;\n    }\n\n    .dataframe tbody tr th {\n        vertical-align: top;\n    }\n\n    .dataframe thead th {\n        text-align: right;\n    }\n</style>\n<table border=\"1\" class=\"dataframe\">\n  <thead>\n    <tr style=\"text-align: right;\">\n      <th></th>\n      <th>SgnYear</th>\n      <th>IPO</th>\n      <th>APublic</th>\n      <th>APrivate</th>\n      <th>Rs</th>\n      <th>Refinance</th>\n      <th>Ashares</th>\n      <th>Bond</th>\n      <th>SRate</th>\n    </tr>\n  </thead>\n  <tbody>\n    <tr>\n      <th>0</th>\n      <td>1990</td>\n      <td>5.86</td>\n      <td>0.00</td>\n      <td>0.00</td>\n      <td>0.00</td>\n      <td>0.00</td>\n      <td>5.86</td>\n      <td>93.49</td>\n      <td>5.90</td>\n    </tr>\n    <tr>\n      <th>1</th>\n      <td>1991</td>\n      <td>2.39</td>\n      <td>2.48</td>\n      <td>0.00</td>\n      <td>0.00</td>\n      <td>2.48</td>\n      <td>4.87</td>\n      <td>199.09</td>\n      <td>2.39</td>\n    </tr>\n    <tr>\n      <th>2</th>\n      <td>1992</td>\n      <td>153.42</td>\n      <td>0.00</td>\n      <td>0.00</td>\n      <td>0.00</td>\n      <td>0.00</td>\n      <td>153.42</td>\n      <td>395.64</td>\n      <td>27.94</td>\n    </tr>\n    <tr>\n      <th>3</th>\n      <td>1993</td>\n      <td>370.50</td>\n      <td>0.00</td>\n      <td>0.00</td>\n      <td>1.95</td>\n      <td>1.95</td>\n      <td>372.45</td>\n      <td>304.54</td>\n      <td>55.02</td>\n    </tr>\n    <tr>\n      <th>4</th>\n      <td>1994</td>\n      <td>186.47</td>\n      <td>7.68</td>\n      <td>0.00</td>\n      <td>12.29</td>\n      <td>19.97</td>\n      <td>206.44</td>\n      <td>418.86</td>\n      <td>33.01</td>\n    </tr>\n    <tr>\n      <th>5</th>\n      <td>1995</td>\n      <td>25.79</td>\n      <td>0.00</td>\n      <td>0.00</td>\n      <td>25.41</td>\n      <td>25.41</td>\n      <td>51.20</td>\n      <td>376.89</td>\n      <td>11.96</td>\n    </tr>\n    <tr>\n      <th>6</th>\n      <td>1996</td>\n      <td>224.91</td>\n      <td>0.00</td>\n      <td>0.00</td>\n      <td>56.17</td>\n      <td>56.17</td>\n      <td>281.08</td>\n      <td>1883.26</td>\n      <td>12.99</td>\n    </tr>\n    <tr>\n      <th>7</th>\n      <td>1997</td>\n      <td>618.39</td>\n      <td>0.00</td>\n      <td>0.00</td>\n      <td>186.96</td>\n      <td>186.96</td>\n      <td>805.35</td>\n      <td>835.22</td>\n      <td>49.09</td>\n    </tr>\n    <tr>\n      <th>8</th>\n      <td>1998</td>\n      <td>405.32</td>\n      <td>50.54</td>\n      <td>0.00</td>\n      <td>327.44</td>\n      <td>377.98</td>\n      <td>783.30</td>\n      <td>104.10</td>\n      <td>88.27</td>\n    </tr>\n    <tr>\n      <th>9</th>\n      <td>1999</td>\n      <td>505.03</td>\n      <td>55.10</td>\n      <td>4.65</td>\n      <td>319.62</td>\n      <td>379.37</td>\n      <td>884.40</td>\n      <td>424.10</td>\n      <td>67.59</td>\n    </tr>\n    <tr>\n      <th>10</th>\n      <td>2000</td>\n      <td>852.05</td>\n      <td>143.73</td>\n      <td>0.00</td>\n      <td>492.63</td>\n      <td>636.36</td>\n      <td>1488.41</td>\n      <td>325.50</td>\n      <td>82.06</td>\n    </tr>\n    <tr>\n      <th>11</th>\n      <td>2001</td>\n      <td>614.86</td>\n      <td>193.05</td>\n      <td>0.00</td>\n      <td>430.64</td>\n      <td>623.69</td>\n      <td>1238.55</td>\n      <td>1085.00</td>\n      <td>53.30</td>\n    </tr>\n    <tr>\n      <th>12</th>\n      <td>2002</td>\n      <td>499.48</td>\n      <td>164.69</td>\n      <td>0.00</td>\n      <td>56.61</td>\n      <td>221.30</td>\n      <td>720.78</td>\n      <td>1775.50</td>\n      <td>28.87</td>\n    </tr>\n    <tr>\n      <th>13</th>\n      <td>2003</td>\n      <td>473.01</td>\n      <td>116.15</td>\n      <td>0.00</td>\n      <td>76.52</td>\n      <td>192.67</td>\n      <td>665.68</td>\n      <td>2091.57</td>\n      <td>24.14</td>\n    </tr>\n    <tr>\n      <th>14</th>\n      <td>2004</td>\n      <td>361.05</td>\n      <td>159.74</td>\n      <td>0.00</td>\n      <td>104.77</td>\n      <td>264.51</td>\n      <td>625.56</td>\n      <td>3098.13</td>\n      <td>16.80</td>\n    </tr>\n    <tr>\n      <th>15</th>\n      <td>2005</td>\n      <td>57.63</td>\n      <td>278.78</td>\n      <td>0.00</td>\n      <td>2.62</td>\n      <td>281.40</td>\n      <td>339.03</td>\n      <td>5534.80</td>\n      <td>5.77</td>\n    </tr>\n    <tr>\n      <th>16</th>\n      <td>2006</td>\n      <td>1280.86</td>\n      <td>111.32</td>\n      <td>896.57</td>\n      <td>4.32</td>\n      <td>1012.21</td>\n      <td>2293.07</td>\n      <td>7480.08</td>\n      <td>23.46</td>\n    </tr>\n    <tr>\n      <th>17</th>\n      <td>2007</td>\n      <td>4894.84</td>\n      <td>616.89</td>\n      <td>2252.22</td>\n      <td>227.70</td>\n      <td>3096.81</td>\n      <td>7991.65</td>\n      <td>6656.68</td>\n      <td>54.56</td>\n    </tr>\n    <tr>\n      <th>18</th>\n      <td>2008</td>\n      <td>1063.83</td>\n      <td>576.38</td>\n      <td>1618.04</td>\n      <td>151.57</td>\n      <td>2345.99</td>\n      <td>3409.82</td>\n      <td>8607.95</td>\n      <td>28.37</td>\n    </tr>\n    <tr>\n      <th>19</th>\n      <td>2009</td>\n      <td>1878.98</td>\n      <td>261.69</td>\n      <td>2660.40</td>\n      <td>105.97</td>\n      <td>3028.06</td>\n      <td>4907.04</td>\n      <td>18267.66</td>\n      <td>21.17</td>\n    </tr>\n    <tr>\n      <th>20</th>\n      <td>2010</td>\n      <td>4793.36</td>\n      <td>377.14</td>\n      <td>3246.62</td>\n      <td>1438.22</td>\n      <td>5061.98</td>\n      <td>9855.34</td>\n      <td>20225.83</td>\n      <td>32.76</td>\n    </tr>\n    <tr>\n      <th>21</th>\n      <td>2011</td>\n      <td>2824.43</td>\n      <td>288.79</td>\n      <td>4287.24</td>\n      <td>421.96</td>\n      <td>4997.99</td>\n      <td>7822.42</td>\n      <td>16171.49</td>\n      <td>32.60</td>\n    </tr>\n    <tr>\n      <th>22</th>\n      <td>2012</td>\n      <td>1060.40</td>\n      <td>105.20</td>\n      <td>3385.16</td>\n      <td>121.00</td>\n      <td>3611.36</td>\n      <td>4671.76</td>\n      <td>21687.94</td>\n      <td>17.72</td>\n    </tr>\n    <tr>\n      <th>23</th>\n      <td>2013</td>\n      <td>0.00</td>\n      <td>80.43</td>\n      <td>3614.06</td>\n      <td>475.73</td>\n      <td>4170.22</td>\n      <td>4170.22</td>\n      <td>22336.97</td>\n      <td>15.73</td>\n    </tr>\n    <tr>\n      <th>24</th>\n      <td>2014</td>\n      <td>668.89</td>\n      <td>3.65</td>\n      <td>7959.96</td>\n      <td>137.97</td>\n      <td>8101.58</td>\n      <td>8770.47</td>\n      <td>26774.97</td>\n      <td>24.67</td>\n    </tr>\n    <tr>\n      <th>25</th>\n      <td>2015</td>\n      <td>1576.39</td>\n      <td>0.00</td>\n      <td>15088.23</td>\n      <td>42.34</td>\n      <td>15130.57</td>\n      <td>16706.96</td>\n      <td>71716.38</td>\n      <td>18.89</td>\n    </tr>\n    <tr>\n      <th>26</th>\n      <td>2016</td>\n      <td>1496.08</td>\n      <td>0.00</td>\n      <td>18520.64</td>\n      <td>298.51</td>\n      <td>18819.15</td>\n      <td>20315.23</td>\n      <td>115452.63</td>\n      <td>14.96</td>\n    </tr>\n    <tr>\n      <th>27</th>\n      <td>2017</td>\n      <td>2301.09</td>\n      <td>0.00</td>\n      <td>13328.93</td>\n      <td>162.96</td>\n      <td>13491.89</td>\n      <td>15792.98</td>\n      <td>95810.06</td>\n      <td>14.15</td>\n    </tr>\n    <tr>\n      <th>28</th>\n      <td>2018</td>\n      <td>1378.15</td>\n      <td>0.00</td>\n      <td>8918.41</td>\n      <td>228.32</td>\n      <td>9146.73</td>\n      <td>10524.88</td>\n      <td>116760.42</td>\n      <td>8.27</td>\n    </tr>\n    <tr>\n      <th>29</th>\n      <td>2019</td>\n      <td>2489.81</td>\n      <td>89.50</td>\n      <td>9480.04</td>\n      <td>133.88</td>\n      <td>9703.42</td>\n      <td>12193.23</td>\n      <td>133264.86</td>\n      <td>8.38</td>\n    </tr>\n    <tr>\n      <th>30</th>\n      <td>2020</td>\n      <td>4624.58</td>\n      <td>25.71</td>\n      <td>8505.83</td>\n      <td>512.97</td>\n      <td>9044.51</td>\n      <td>13669.09</td>\n      <td>205889.03</td>\n      <td>6.23</td>\n    </tr>\n    <tr>\n      <th>31</th>\n      <td>2021</td>\n      <td>5323.73</td>\n      <td>0.00</td>\n      <td>9334.22</td>\n      <td>493.35</td>\n      <td>9827.57</td>\n      <td>15151.30</td>\n      <td>202870.10</td>\n      <td>6.95</td>\n    </tr>\n  </tbody>\n</table>\n</div>"
     },
     "execution_count": 5,
     "metadata": {},
     "output_type": "execute_result"
    }
   ],
   "source": [
    "pd.read_csv('/data/DataSets/BW_FInMarket_CSMAR/BW_5_CSMAR/QX_STOCKRATE.csv')"
   ],
   "metadata": {
    "collapsed": false
   }
  },
  {
   "cell_type": "markdown",
   "source": [
    "### 基金折溢价率\n",
    "Symbol [基金代码] -\n",
    "TradingDate [交易日期] -\n",
    "CategoryID [基金类别] - S0601=股票型基金;S0602=债券型基金;S0603=货币型基金;S0604=混合型基金;S0605=FOF;S0606=股指期货型基金;S0699=其他\n",
    "FundTypeID [基金运作方式] - S0501=契约型开放式;S0502=契约型封闭式\n",
    "IsETF [是否ETF] - 1=是；2=否\n",
    "IsLOF [是否LOF] - 1=是；2=否\n",
    "IsIndexFund [是否指数基金] - 1=是；2=否\n",
    "IsInnovative [是否创新型基金] - 1=是；2=否\n",
    "NAV [基金份额净值] -\n",
    "AccumulativeNAV [基金份额累计净值] -\n",
    "ClosePrice [收盘价] -\n",
    "CovertRate [溢价率(%)] - 计算公式为：（收盘价-基金份额净值）*101/基金份额净值\n",
    "TurnoverRate [换手率] -"
   ],
   "metadata": {
    "collapsed": false
   }
  },
  {
   "cell_type": "code",
   "execution_count": 6,
   "outputs": [
    {
     "data": {
      "text/plain": "        Symbol TradingDate CategoryID FundTypeID  IsETF  IsLOF  IsIndexFund  \\\n0       150001  2007-09-21      S0601      S0501      2      2            1   \n1       150001  2007-09-24      S0601      S0501      2      2            1   \n2       150001  2007-09-25      S0601      S0501      2      2            1   \n3       150001  2007-09-26      S0601      S0501      2      2            1   \n4       150001  2007-09-27      S0601      S0501      2      2            1   \n...        ...         ...        ...        ...    ...    ...          ...   \n999995  165313  2021-07-23      S0604      S0501      2      1            2   \n999996  165313  2021-07-26      S0604      S0501      2      1            2   \n999997  165313  2021-07-27      S0604      S0501      2      1            2   \n999998  165313  2021-07-28      S0604      S0501      2      1            2   \n999999  165313  2021-07-29      S0604      S0501      2      1            2   \n\n        IsInnovative    NAV  AccumulativeNAV  ClosePrice  CovertRate  \\\n0                  1  1.523            1.523       1.454       -4.53   \n1                  1  1.537            1.537       1.448       -5.79   \n2                  1  1.501            1.501       1.387       -7.59   \n3                  1  1.470            1.470       1.329       -9.59   \n4                  1  1.504            1.504       1.372       -8.78   \n...              ...    ...              ...         ...         ...   \n999995             2  3.424            3.424       3.415       -0.26   \n999996             2  3.379            3.379       3.335       -1.30   \n999997             2  3.291            3.291       3.299        0.24   \n999998             2  3.278            3.278       3.255       -0.70   \n999999             2  3.390            3.390       3.355       -1.03   \n\n        TurnoverRate  \n0                NaN  \n1                NaN  \n2                NaN  \n3                NaN  \n4                NaN  \n...              ...  \n999995      0.009300  \n999996      0.008049  \n999997      0.008134  \n999998      0.006857  \n999999      0.007977  \n\n[1000000 rows x 13 columns]",
      "text/html": "<div>\n<style scoped>\n    .dataframe tbody tr th:only-of-type {\n        vertical-align: middle;\n    }\n\n    .dataframe tbody tr th {\n        vertical-align: top;\n    }\n\n    .dataframe thead th {\n        text-align: right;\n    }\n</style>\n<table border=\"1\" class=\"dataframe\">\n  <thead>\n    <tr style=\"text-align: right;\">\n      <th></th>\n      <th>Symbol</th>\n      <th>TradingDate</th>\n      <th>CategoryID</th>\n      <th>FundTypeID</th>\n      <th>IsETF</th>\n      <th>IsLOF</th>\n      <th>IsIndexFund</th>\n      <th>IsInnovative</th>\n      <th>NAV</th>\n      <th>AccumulativeNAV</th>\n      <th>ClosePrice</th>\n      <th>CovertRate</th>\n      <th>TurnoverRate</th>\n    </tr>\n  </thead>\n  <tbody>\n    <tr>\n      <th>0</th>\n      <td>150001</td>\n      <td>2007-09-21</td>\n      <td>S0601</td>\n      <td>S0501</td>\n      <td>2</td>\n      <td>2</td>\n      <td>1</td>\n      <td>1</td>\n      <td>1.523</td>\n      <td>1.523</td>\n      <td>1.454</td>\n      <td>-4.53</td>\n      <td>NaN</td>\n    </tr>\n    <tr>\n      <th>1</th>\n      <td>150001</td>\n      <td>2007-09-24</td>\n      <td>S0601</td>\n      <td>S0501</td>\n      <td>2</td>\n      <td>2</td>\n      <td>1</td>\n      <td>1</td>\n      <td>1.537</td>\n      <td>1.537</td>\n      <td>1.448</td>\n      <td>-5.79</td>\n      <td>NaN</td>\n    </tr>\n    <tr>\n      <th>2</th>\n      <td>150001</td>\n      <td>2007-09-25</td>\n      <td>S0601</td>\n      <td>S0501</td>\n      <td>2</td>\n      <td>2</td>\n      <td>1</td>\n      <td>1</td>\n      <td>1.501</td>\n      <td>1.501</td>\n      <td>1.387</td>\n      <td>-7.59</td>\n      <td>NaN</td>\n    </tr>\n    <tr>\n      <th>3</th>\n      <td>150001</td>\n      <td>2007-09-26</td>\n      <td>S0601</td>\n      <td>S0501</td>\n      <td>2</td>\n      <td>2</td>\n      <td>1</td>\n      <td>1</td>\n      <td>1.470</td>\n      <td>1.470</td>\n      <td>1.329</td>\n      <td>-9.59</td>\n      <td>NaN</td>\n    </tr>\n    <tr>\n      <th>4</th>\n      <td>150001</td>\n      <td>2007-09-27</td>\n      <td>S0601</td>\n      <td>S0501</td>\n      <td>2</td>\n      <td>2</td>\n      <td>1</td>\n      <td>1</td>\n      <td>1.504</td>\n      <td>1.504</td>\n      <td>1.372</td>\n      <td>-8.78</td>\n      <td>NaN</td>\n    </tr>\n    <tr>\n      <th>...</th>\n      <td>...</td>\n      <td>...</td>\n      <td>...</td>\n      <td>...</td>\n      <td>...</td>\n      <td>...</td>\n      <td>...</td>\n      <td>...</td>\n      <td>...</td>\n      <td>...</td>\n      <td>...</td>\n      <td>...</td>\n      <td>...</td>\n    </tr>\n    <tr>\n      <th>999995</th>\n      <td>165313</td>\n      <td>2021-07-23</td>\n      <td>S0604</td>\n      <td>S0501</td>\n      <td>2</td>\n      <td>1</td>\n      <td>2</td>\n      <td>2</td>\n      <td>3.424</td>\n      <td>3.424</td>\n      <td>3.415</td>\n      <td>-0.26</td>\n      <td>0.009300</td>\n    </tr>\n    <tr>\n      <th>999996</th>\n      <td>165313</td>\n      <td>2021-07-26</td>\n      <td>S0604</td>\n      <td>S0501</td>\n      <td>2</td>\n      <td>1</td>\n      <td>2</td>\n      <td>2</td>\n      <td>3.379</td>\n      <td>3.379</td>\n      <td>3.335</td>\n      <td>-1.30</td>\n      <td>0.008049</td>\n    </tr>\n    <tr>\n      <th>999997</th>\n      <td>165313</td>\n      <td>2021-07-27</td>\n      <td>S0604</td>\n      <td>S0501</td>\n      <td>2</td>\n      <td>1</td>\n      <td>2</td>\n      <td>2</td>\n      <td>3.291</td>\n      <td>3.291</td>\n      <td>3.299</td>\n      <td>0.24</td>\n      <td>0.008134</td>\n    </tr>\n    <tr>\n      <th>999998</th>\n      <td>165313</td>\n      <td>2021-07-28</td>\n      <td>S0604</td>\n      <td>S0501</td>\n      <td>2</td>\n      <td>1</td>\n      <td>2</td>\n      <td>2</td>\n      <td>3.278</td>\n      <td>3.278</td>\n      <td>3.255</td>\n      <td>-0.70</td>\n      <td>0.006857</td>\n    </tr>\n    <tr>\n      <th>999999</th>\n      <td>165313</td>\n      <td>2021-07-29</td>\n      <td>S0604</td>\n      <td>S0501</td>\n      <td>2</td>\n      <td>1</td>\n      <td>2</td>\n      <td>2</td>\n      <td>3.390</td>\n      <td>3.390</td>\n      <td>3.355</td>\n      <td>-1.03</td>\n      <td>0.007977</td>\n    </tr>\n  </tbody>\n</table>\n<p>1000000 rows × 13 columns</p>\n</div>"
     },
     "execution_count": 6,
     "metadata": {},
     "output_type": "execute_result"
    }
   ],
   "source": [
    "\n",
    "pd.read_csv('/data/DataSets/BW_FInMarket_CSMAR/BW_5_CSMAR/QX_FUNDDISCOUNTPREMIUM.csv')"
   ],
   "metadata": {
    "collapsed": false
   }
  },
  {
   "cell_type": "markdown",
   "source": [
    "### 市场换手率"
   ],
   "metadata": {
    "collapsed": false
   }
  },
  {
   "cell_type": "code",
   "execution_count": 7,
   "outputs": [
    {
     "data": {
      "text/plain": "       TradingDate  MarketType  Parameter Unit  TurnoverRate1  TurnoverRate2\n0       1990-12-19           5          1    日        0.00023        0.00062\n1       1990-12-19           1          1    日        0.00023        0.00062\n2       1990-12-19          31          1    日        0.00023        0.00062\n3       1990-12-19          15          1    日        0.00023        0.00062\n4       1990-12-19           6          1    日        0.00023        0.00062\n...            ...         ...        ...  ...            ...            ...\n999995  2022-12-09          37         10    日        0.09454        0.10513\n999996  2022-12-09          47         10    日        0.09229        0.10251\n999997  2022-12-09          53         10    日        0.09989        0.11220\n999998  2022-12-09          63         10    日        0.09767        0.10957\n999999  2022-12-09          33         10    日        0.06478        0.07156\n\n[1000000 rows x 6 columns]",
      "text/html": "<div>\n<style scoped>\n    .dataframe tbody tr th:only-of-type {\n        vertical-align: middle;\n    }\n\n    .dataframe tbody tr th {\n        vertical-align: top;\n    }\n\n    .dataframe thead th {\n        text-align: right;\n    }\n</style>\n<table border=\"1\" class=\"dataframe\">\n  <thead>\n    <tr style=\"text-align: right;\">\n      <th></th>\n      <th>TradingDate</th>\n      <th>MarketType</th>\n      <th>Parameter</th>\n      <th>Unit</th>\n      <th>TurnoverRate1</th>\n      <th>TurnoverRate2</th>\n    </tr>\n  </thead>\n  <tbody>\n    <tr>\n      <th>0</th>\n      <td>1990-12-19</td>\n      <td>5</td>\n      <td>1</td>\n      <td>日</td>\n      <td>0.00023</td>\n      <td>0.00062</td>\n    </tr>\n    <tr>\n      <th>1</th>\n      <td>1990-12-19</td>\n      <td>1</td>\n      <td>1</td>\n      <td>日</td>\n      <td>0.00023</td>\n      <td>0.00062</td>\n    </tr>\n    <tr>\n      <th>2</th>\n      <td>1990-12-19</td>\n      <td>31</td>\n      <td>1</td>\n      <td>日</td>\n      <td>0.00023</td>\n      <td>0.00062</td>\n    </tr>\n    <tr>\n      <th>3</th>\n      <td>1990-12-19</td>\n      <td>15</td>\n      <td>1</td>\n      <td>日</td>\n      <td>0.00023</td>\n      <td>0.00062</td>\n    </tr>\n    <tr>\n      <th>4</th>\n      <td>1990-12-19</td>\n      <td>6</td>\n      <td>1</td>\n      <td>日</td>\n      <td>0.00023</td>\n      <td>0.00062</td>\n    </tr>\n    <tr>\n      <th>...</th>\n      <td>...</td>\n      <td>...</td>\n      <td>...</td>\n      <td>...</td>\n      <td>...</td>\n      <td>...</td>\n    </tr>\n    <tr>\n      <th>999995</th>\n      <td>2022-12-09</td>\n      <td>37</td>\n      <td>10</td>\n      <td>日</td>\n      <td>0.09454</td>\n      <td>0.10513</td>\n    </tr>\n    <tr>\n      <th>999996</th>\n      <td>2022-12-09</td>\n      <td>47</td>\n      <td>10</td>\n      <td>日</td>\n      <td>0.09229</td>\n      <td>0.10251</td>\n    </tr>\n    <tr>\n      <th>999997</th>\n      <td>2022-12-09</td>\n      <td>53</td>\n      <td>10</td>\n      <td>日</td>\n      <td>0.09989</td>\n      <td>0.11220</td>\n    </tr>\n    <tr>\n      <th>999998</th>\n      <td>2022-12-09</td>\n      <td>63</td>\n      <td>10</td>\n      <td>日</td>\n      <td>0.09767</td>\n      <td>0.10957</td>\n    </tr>\n    <tr>\n      <th>999999</th>\n      <td>2022-12-09</td>\n      <td>33</td>\n      <td>10</td>\n      <td>日</td>\n      <td>0.06478</td>\n      <td>0.07156</td>\n    </tr>\n  </tbody>\n</table>\n<p>1000000 rows × 6 columns</p>\n</div>"
     },
     "execution_count": 7,
     "metadata": {},
     "output_type": "execute_result"
    }
   ],
   "source": [
    "pd.read_csv('/data/DataSets/BW_FInMarket_CSMAR/BW_5_CSMAR/QX_TRM.csv')"
   ],
   "metadata": {
    "collapsed": false
   }
  },
  {
   "cell_type": "markdown",
   "source": [
    "#### IPO股票信息\n",
    "Symbol [股票代码] -\n",
    "ListedDate [上市日期] -\n",
    "ListedYear [上市年份] -\n",
    "ABSymbol [AB股交叉码] - 指公司同时发行了A和B股的情况\n",
    "HSymbol [H股交叉码] - 指的是公司同时发行了H股的情况\n",
    "EstablishDate [公司成立日期] -\n",
    "IpoDate [首次招股日期] -\n",
    "CompanyListedDate [公司上市日期] -\n",
    "IsIPO [是否首次发行] - A=是；B=否\n",
    "TotalShares [实际发行总量] -\n",
    "IssuePrice [发行价格] -\n",
    "CurrencyCode [发行价格币种] -\n",
    "ClosePrice [上市首日收盘价] -\n",
    "ReturnRate [上市首日回报率] -\n",
    "TurnoverRate1 [上市首日换手率(总股本)] -\n",
    "TurnoverRate2 [上市首日换手率(流通股本)] -\n",
    "PE [上市首日市盈率] -\n",
    "PB [上市首日市净率] -"
   ],
   "metadata": {
    "collapsed": false
   }
  },
  {
   "cell_type": "code",
   "execution_count": 8,
   "outputs": [
    {
     "data": {
      "text/plain": "      Symbol  ListedDate  ListedYear  ABSymbol  HSymbol EstablishDate  \\\n0          1  1991-04-03        1991       NaN      NaN    1987-12-22   \n1          2  1991-01-29        1991       NaN   2202.0    1984-05-30   \n2          3  1991-07-03        1991       NaN      NaN    1988-11-09   \n3          4  1991-01-14        1991       NaN      NaN    1986-05-05   \n4          5  1990-12-10        1990       NaN      NaN    1987-07-23   \n...      ...         ...         ...       ...      ...           ...   \n5210  900952  1998-05-19        1998  600190.0      NaN    1993-02-09   \n5211  900953  1998-06-24        1998       NaN      NaN    1998-06-19   \n5212  900955  1999-01-18        1999       NaN      NaN    1999-01-14   \n5213  900956  1999-07-15        1999       NaN      NaN    1999-03-10   \n5214  900957  2000-07-28        2000       NaN      NaN    1998-12-28   \n\n         IpoDate CompanyListedDate IsIPO  TotalShares  IssuePrice  \\\n0     1989-03-10        1991-04-03     A     350000.0      40.000   \n1     1988-12-28        1991-01-29     A   28000000.0       1.000   \n2     1989-02-28        1991-07-03     A   42716330.0      10.000   \n3     1989-12-23        1991-01-14     A   12500000.0       1.000   \n4     1990-03-03        1990-12-10     A   44338500.0      10.000   \n...          ...               ...   ...          ...         ...   \n5210  1998-05-05        1998-05-19     A  100000000.0       0.210   \n5211  1998-05-29        1998-06-24     A  240000000.0       0.276   \n5212  1998-12-24        1999-01-18     A  126500000.0       0.280   \n5213  1999-06-23        1999-07-15     A  115000000.0       0.198   \n5214  2000-07-06        2000-07-28     A  160000000.0       0.240   \n\n     CurrencyCode  ClosePrice  ReturnRate  TurnoverRate1  TurnoverRate2  \\\n0             CNY      49.000    0.225000        0.00000        0.00000   \n1             CNY      14.580   13.580000        0.00004        0.00005   \n2             CNY       6.300   -0.370000        0.00303        0.00536   \n3             CNY      15.980   14.980000        0.00004        0.00010   \n4             CNY      18.030    0.803000            NaN            NaN   \n...           ...         ...         ...            ...            ...   \n5210          USD       0.222    0.057143        0.01507        0.08439   \n5211          USD       0.274   -0.007246        0.00773        0.02060   \n5212          USD       0.282    0.007143        0.00717        0.02305   \n5213          USD       0.256    0.292929        0.22066        0.48546   \n5214          USD       0.318    0.325000        0.17892        0.36343   \n\n         PE     PB  \n0       NaN    NaN  \n1       NaN    NaN  \n2       NaN    NaN  \n3       NaN    NaN  \n4       NaN  24.66  \n...     ...    ...  \n5210   6.07   1.57  \n5211  10.20   3.07  \n5212   6.86   2.99  \n5213   6.35   4.27  \n5214   9.42   3.92  \n\n[5215 rows x 18 columns]",
      "text/html": "<div>\n<style scoped>\n    .dataframe tbody tr th:only-of-type {\n        vertical-align: middle;\n    }\n\n    .dataframe tbody tr th {\n        vertical-align: top;\n    }\n\n    .dataframe thead th {\n        text-align: right;\n    }\n</style>\n<table border=\"1\" class=\"dataframe\">\n  <thead>\n    <tr style=\"text-align: right;\">\n      <th></th>\n      <th>Symbol</th>\n      <th>ListedDate</th>\n      <th>ListedYear</th>\n      <th>ABSymbol</th>\n      <th>HSymbol</th>\n      <th>EstablishDate</th>\n      <th>IpoDate</th>\n      <th>CompanyListedDate</th>\n      <th>IsIPO</th>\n      <th>TotalShares</th>\n      <th>IssuePrice</th>\n      <th>CurrencyCode</th>\n      <th>ClosePrice</th>\n      <th>ReturnRate</th>\n      <th>TurnoverRate1</th>\n      <th>TurnoverRate2</th>\n      <th>PE</th>\n      <th>PB</th>\n    </tr>\n  </thead>\n  <tbody>\n    <tr>\n      <th>0</th>\n      <td>1</td>\n      <td>1991-04-03</td>\n      <td>1991</td>\n      <td>NaN</td>\n      <td>NaN</td>\n      <td>1987-12-22</td>\n      <td>1989-03-10</td>\n      <td>1991-04-03</td>\n      <td>A</td>\n      <td>350000.0</td>\n      <td>40.000</td>\n      <td>CNY</td>\n      <td>49.000</td>\n      <td>0.225000</td>\n      <td>0.00000</td>\n      <td>0.00000</td>\n      <td>NaN</td>\n      <td>NaN</td>\n    </tr>\n    <tr>\n      <th>1</th>\n      <td>2</td>\n      <td>1991-01-29</td>\n      <td>1991</td>\n      <td>NaN</td>\n      <td>2202.0</td>\n      <td>1984-05-30</td>\n      <td>1988-12-28</td>\n      <td>1991-01-29</td>\n      <td>A</td>\n      <td>28000000.0</td>\n      <td>1.000</td>\n      <td>CNY</td>\n      <td>14.580</td>\n      <td>13.580000</td>\n      <td>0.00004</td>\n      <td>0.00005</td>\n      <td>NaN</td>\n      <td>NaN</td>\n    </tr>\n    <tr>\n      <th>2</th>\n      <td>3</td>\n      <td>1991-07-03</td>\n      <td>1991</td>\n      <td>NaN</td>\n      <td>NaN</td>\n      <td>1988-11-09</td>\n      <td>1989-02-28</td>\n      <td>1991-07-03</td>\n      <td>A</td>\n      <td>42716330.0</td>\n      <td>10.000</td>\n      <td>CNY</td>\n      <td>6.300</td>\n      <td>-0.370000</td>\n      <td>0.00303</td>\n      <td>0.00536</td>\n      <td>NaN</td>\n      <td>NaN</td>\n    </tr>\n    <tr>\n      <th>3</th>\n      <td>4</td>\n      <td>1991-01-14</td>\n      <td>1991</td>\n      <td>NaN</td>\n      <td>NaN</td>\n      <td>1986-05-05</td>\n      <td>1989-12-23</td>\n      <td>1991-01-14</td>\n      <td>A</td>\n      <td>12500000.0</td>\n      <td>1.000</td>\n      <td>CNY</td>\n      <td>15.980</td>\n      <td>14.980000</td>\n      <td>0.00004</td>\n      <td>0.00010</td>\n      <td>NaN</td>\n      <td>NaN</td>\n    </tr>\n    <tr>\n      <th>4</th>\n      <td>5</td>\n      <td>1990-12-10</td>\n      <td>1990</td>\n      <td>NaN</td>\n      <td>NaN</td>\n      <td>1987-07-23</td>\n      <td>1990-03-03</td>\n      <td>1990-12-10</td>\n      <td>A</td>\n      <td>44338500.0</td>\n      <td>10.000</td>\n      <td>CNY</td>\n      <td>18.030</td>\n      <td>0.803000</td>\n      <td>NaN</td>\n      <td>NaN</td>\n      <td>NaN</td>\n      <td>24.66</td>\n    </tr>\n    <tr>\n      <th>...</th>\n      <td>...</td>\n      <td>...</td>\n      <td>...</td>\n      <td>...</td>\n      <td>...</td>\n      <td>...</td>\n      <td>...</td>\n      <td>...</td>\n      <td>...</td>\n      <td>...</td>\n      <td>...</td>\n      <td>...</td>\n      <td>...</td>\n      <td>...</td>\n      <td>...</td>\n      <td>...</td>\n      <td>...</td>\n      <td>...</td>\n    </tr>\n    <tr>\n      <th>5210</th>\n      <td>900952</td>\n      <td>1998-05-19</td>\n      <td>1998</td>\n      <td>600190.0</td>\n      <td>NaN</td>\n      <td>1993-02-09</td>\n      <td>1998-05-05</td>\n      <td>1998-05-19</td>\n      <td>A</td>\n      <td>100000000.0</td>\n      <td>0.210</td>\n      <td>USD</td>\n      <td>0.222</td>\n      <td>0.057143</td>\n      <td>0.01507</td>\n      <td>0.08439</td>\n      <td>6.07</td>\n      <td>1.57</td>\n    </tr>\n    <tr>\n      <th>5211</th>\n      <td>900953</td>\n      <td>1998-06-24</td>\n      <td>1998</td>\n      <td>NaN</td>\n      <td>NaN</td>\n      <td>1998-06-19</td>\n      <td>1998-05-29</td>\n      <td>1998-06-24</td>\n      <td>A</td>\n      <td>240000000.0</td>\n      <td>0.276</td>\n      <td>USD</td>\n      <td>0.274</td>\n      <td>-0.007246</td>\n      <td>0.00773</td>\n      <td>0.02060</td>\n      <td>10.20</td>\n      <td>3.07</td>\n    </tr>\n    <tr>\n      <th>5212</th>\n      <td>900955</td>\n      <td>1999-01-18</td>\n      <td>1999</td>\n      <td>NaN</td>\n      <td>NaN</td>\n      <td>1999-01-14</td>\n      <td>1998-12-24</td>\n      <td>1999-01-18</td>\n      <td>A</td>\n      <td>126500000.0</td>\n      <td>0.280</td>\n      <td>USD</td>\n      <td>0.282</td>\n      <td>0.007143</td>\n      <td>0.00717</td>\n      <td>0.02305</td>\n      <td>6.86</td>\n      <td>2.99</td>\n    </tr>\n    <tr>\n      <th>5213</th>\n      <td>900956</td>\n      <td>1999-07-15</td>\n      <td>1999</td>\n      <td>NaN</td>\n      <td>NaN</td>\n      <td>1999-03-10</td>\n      <td>1999-06-23</td>\n      <td>1999-07-15</td>\n      <td>A</td>\n      <td>115000000.0</td>\n      <td>0.198</td>\n      <td>USD</td>\n      <td>0.256</td>\n      <td>0.292929</td>\n      <td>0.22066</td>\n      <td>0.48546</td>\n      <td>6.35</td>\n      <td>4.27</td>\n    </tr>\n    <tr>\n      <th>5214</th>\n      <td>900957</td>\n      <td>2000-07-28</td>\n      <td>2000</td>\n      <td>NaN</td>\n      <td>NaN</td>\n      <td>1998-12-28</td>\n      <td>2000-07-06</td>\n      <td>2000-07-28</td>\n      <td>A</td>\n      <td>160000000.0</td>\n      <td>0.240</td>\n      <td>USD</td>\n      <td>0.318</td>\n      <td>0.325000</td>\n      <td>0.17892</td>\n      <td>0.36343</td>\n      <td>9.42</td>\n      <td>3.92</td>\n    </tr>\n  </tbody>\n</table>\n<p>5215 rows × 18 columns</p>\n</div>"
     },
     "execution_count": 8,
     "metadata": {},
     "output_type": "execute_result"
    }
   ],
   "source": [
    "pd.read_csv('/data/DataSets/BW_FInMarket_CSMAR/BW_5_CSMAR/QX_IPO.csv')"
   ],
   "metadata": {
    "collapsed": false
   }
  },
  {
   "cell_type": "markdown",
   "source": [],
   "metadata": {
    "collapsed": false
   }
  }
 ],
 "metadata": {
  "kernelspec": {
   "name": "stata",
   "language": "python",
   "display_name": "Stata"
  },
  "language_info": {
   "codemirror_mode": {
    "name": "ipython",
    "version": 2
   },
   "file_extension": ".py",
   "mimetype": "text/x-python",
   "name": "python",
   "nbconvert_exporter": "python",
   "pygments_lexer": "ipython2",
   "version": "2.7.6"
  }
 },
 "nbformat": 4,
 "nbformat_minor": 0
}
