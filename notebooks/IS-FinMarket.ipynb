{
 "cells": [
  {
   "cell_type": "markdown",
   "source": [
    "# 金融市场情绪专题\n",
    "PCA"
   ],
   "metadata": {
    "collapsed": false
   }
  },
  {
   "cell_type": "code",
   "execution_count": 1,
   "outputs": [],
   "source": [
    "import sys\n",
    "import os\n",
    "import cudf\n",
    "import pandas as pd\n",
    "\n",
    "# ------------------------------数据集路径----------------------------------#\n",
    "# /usr/local/miniconda3/envs/Rapids/bin/python\n",
    "DATASETS_PATH = '/data/DataSets/BW_INDEX_CSMAR/BW_5_CSMAR/'"
   ],
   "metadata": {
    "collapsed": false
   }
  },
  {
   "cell_type": "code",
   "execution_count": 2,
   "outputs": [
    {
     "data": {
      "text/plain": "['QX_STOCKRATE[DES][csv].txt',\n 'QX_TRM1.csv',\n 'QX_FUNDDISCOUNTPREMIUM[DES][csv].txt',\n 'QX_DIVIDENDPREMIUM.csv',\n 'QX_FUNDDISCOUNTPREMIUM1.csv',\n 'QX_TRM.parquet',\n 'QX_FUNDDISCOUNTPREMIUM.csv',\n 'QX_DIVIDENDPREMIUM[DES][csv].txt',\n 'QX_DIVIDENDPREMIUM.parquet',\n 'QX_FUNDDISCOUNTPREMIUM.parquet',\n 'QX_TRM.csv',\n 'QX_TRM[DES][csv].txt',\n 'QX_STOCKRATE.csv',\n 'QX_IPO[DES][csv].txt',\n 'QX_IPO.csv',\n 'QX_IPO.parquet']"
     },
     "execution_count": 2,
     "metadata": {},
     "output_type": "execute_result"
    }
   ],
   "source": [
    "os.listdir(DATASETS_PATH)"
   ],
   "metadata": {
    "collapsed": false
   }
  },
  {
   "cell_type": "markdown",
   "source": [
    "### 股利溢价\n",
    "SgnYear [统计年度] - YYYY\n",
    "Dnum [分红公司数目] - 指当年发生了现金分红的上市公司数量\n",
    "NDnum [未分红公司数目] - 指当年没有现金分红的上市公司数量\n",
    "DMB [分红公司平均市值账面比] - 计算公式为：所有分红的公司的市值账面比的平均数\n",
    "NDMB [未分红公司平均市值账面比] - 计算公式为：所有未分红的公司的市值账面比的平均数\n",
    "PDND [股利溢价] - 计算公式为：分红公司平均市值账面比-未分红公司平均市值账面比\n",
    "LogPDND [对数股利溢价] - 计算公式为：股利溢价的对数"
   ],
   "metadata": {
    "collapsed": false
   }
  },
  {
   "cell_type": "code",
   "execution_count": 3,
   "outputs": [
    {
     "data": {
      "text/plain": "           lnPD\nSgnYear        \n1991    -0.9005\n1992    -0.2720\n1993    -0.0592\n1994    -0.1019\n1995    -0.0237\n1996    -0.0648\n1997    -0.0639\n1998    -0.0479\n1999    -0.0426\n2000    -0.0986\n2001    -0.1214\n2002    -0.1240\n2003    -0.0583\n2004    -0.0422\n2005    -0.0260\n2006    -0.4844\n2007    -0.0814\n2008    -0.1156\n2009    -1.4346\n2010    -0.3186\n2011    -0.1881\n2012    -0.2554\n2013    -0.2100\n2014    -0.3537\n2015    -0.2930\n2016    -0.2139\n2017    -0.1705\n2018    -0.1669\n2019    -0.1055\n2020    -0.0270\n2021    -0.0318",
      "text/html": "<div>\n<style scoped>\n    .dataframe tbody tr th:only-of-type {\n        vertical-align: middle;\n    }\n\n    .dataframe tbody tr th {\n        vertical-align: top;\n    }\n\n    .dataframe thead th {\n        text-align: right;\n    }\n</style>\n<table border=\"1\" class=\"dataframe\">\n  <thead>\n    <tr style=\"text-align: right;\">\n      <th></th>\n      <th>lnPD</th>\n    </tr>\n    <tr>\n      <th>SgnYear</th>\n      <th></th>\n    </tr>\n  </thead>\n  <tbody>\n    <tr>\n      <th>1991</th>\n      <td>-0.9005</td>\n    </tr>\n    <tr>\n      <th>1992</th>\n      <td>-0.2720</td>\n    </tr>\n    <tr>\n      <th>1993</th>\n      <td>-0.0592</td>\n    </tr>\n    <tr>\n      <th>1994</th>\n      <td>-0.1019</td>\n    </tr>\n    <tr>\n      <th>1995</th>\n      <td>-0.0237</td>\n    </tr>\n    <tr>\n      <th>1996</th>\n      <td>-0.0648</td>\n    </tr>\n    <tr>\n      <th>1997</th>\n      <td>-0.0639</td>\n    </tr>\n    <tr>\n      <th>1998</th>\n      <td>-0.0479</td>\n    </tr>\n    <tr>\n      <th>1999</th>\n      <td>-0.0426</td>\n    </tr>\n    <tr>\n      <th>2000</th>\n      <td>-0.0986</td>\n    </tr>\n    <tr>\n      <th>2001</th>\n      <td>-0.1214</td>\n    </tr>\n    <tr>\n      <th>2002</th>\n      <td>-0.1240</td>\n    </tr>\n    <tr>\n      <th>2003</th>\n      <td>-0.0583</td>\n    </tr>\n    <tr>\n      <th>2004</th>\n      <td>-0.0422</td>\n    </tr>\n    <tr>\n      <th>2005</th>\n      <td>-0.0260</td>\n    </tr>\n    <tr>\n      <th>2006</th>\n      <td>-0.4844</td>\n    </tr>\n    <tr>\n      <th>2007</th>\n      <td>-0.0814</td>\n    </tr>\n    <tr>\n      <th>2008</th>\n      <td>-0.1156</td>\n    </tr>\n    <tr>\n      <th>2009</th>\n      <td>-1.4346</td>\n    </tr>\n    <tr>\n      <th>2010</th>\n      <td>-0.3186</td>\n    </tr>\n    <tr>\n      <th>2011</th>\n      <td>-0.1881</td>\n    </tr>\n    <tr>\n      <th>2012</th>\n      <td>-0.2554</td>\n    </tr>\n    <tr>\n      <th>2013</th>\n      <td>-0.2100</td>\n    </tr>\n    <tr>\n      <th>2014</th>\n      <td>-0.3537</td>\n    </tr>\n    <tr>\n      <th>2015</th>\n      <td>-0.2930</td>\n    </tr>\n    <tr>\n      <th>2016</th>\n      <td>-0.2139</td>\n    </tr>\n    <tr>\n      <th>2017</th>\n      <td>-0.1705</td>\n    </tr>\n    <tr>\n      <th>2018</th>\n      <td>-0.1669</td>\n    </tr>\n    <tr>\n      <th>2019</th>\n      <td>-0.1055</td>\n    </tr>\n    <tr>\n      <th>2020</th>\n      <td>-0.0270</td>\n    </tr>\n    <tr>\n      <th>2021</th>\n      <td>-0.0318</td>\n    </tr>\n  </tbody>\n</table>\n</div>"
     },
     "execution_count": 3,
     "metadata": {},
     "output_type": "execute_result"
    }
   ],
   "source": [
    "def cal_pd():\n",
    "    df = cudf.read_parquet(f'{DATASETS_PATH}QX_DIVIDENDPREMIUM.parquet')\n",
    "    return df.rename(columns={'LogPDND': 'lnPD'})[['lnPD']]\n",
    "\n",
    "\n",
    "df_pd = cal_pd()\n",
    "df_pd"
   ],
   "metadata": {
    "collapsed": false
   }
  },
  {
   "cell_type": "markdown",
   "source": [
    "### 股票融资占股票债券融资比例\n",
    "SgnYear [统计年度] - YYYY-MM\n",
    "IPO [A股首次发行金额] - 当年IPO的A股融资额\n",
    "APublic [A股公开增发金额] -\n",
    "APrivate [A股非公开增发金额] -\n",
    "Rs [A股配股金额] -\n",
    "Refinance [A股再筹资金额] - 通过增发配股等方式融资额\n",
    "Ashares [A股股票融资总额] - 计算公式为：IPO+再融资之和\n",
    "Bond [债券市场筹资总额] - 计算公式为：债券市场各类债券发行的总额\n",
    "SRate [股票融资占股票债券融资比例(%)] - 计算公式为：股票融资*100/(股票融资+债券融资)"
   ],
   "metadata": {
    "collapsed": false
   }
  },
  {
   "cell_type": "code",
   "execution_count": 9,
   "outputs": [
    {
     "data": {
      "text/plain": "    SgnYear      IPO  APublic  APrivate       Rs  Refinance   Ashares  \\\n0      1990     5.86     0.00      0.00     0.00       0.00      5.86   \n1      1991     2.39     2.48      0.00     0.00       2.48      4.87   \n2      1992   153.42     0.00      0.00     0.00       0.00    153.42   \n3      1993   370.50     0.00      0.00     1.95       1.95    372.45   \n4      1994   186.47     7.68      0.00    12.29      19.97    206.44   \n5      1995    25.79     0.00      0.00    25.41      25.41     51.20   \n6      1996   224.91     0.00      0.00    56.17      56.17    281.08   \n7      1997   618.39     0.00      0.00   186.96     186.96    805.35   \n8      1998   405.32    50.54      0.00   327.44     377.98    783.30   \n9      1999   505.03    55.10      4.65   319.62     379.37    884.40   \n10     2000   852.05   143.73      0.00   492.63     636.36   1488.41   \n11     2001   614.86   193.05      0.00   430.64     623.69   1238.55   \n12     2002   499.48   164.69      0.00    56.61     221.30    720.78   \n13     2003   473.01   116.15      0.00    76.52     192.67    665.68   \n14     2004   361.05   159.74      0.00   104.77     264.51    625.56   \n15     2005    57.63   278.78      0.00     2.62     281.40    339.03   \n16     2006  1280.86   111.32    896.57     4.32    1012.21   2293.07   \n17     2007  4894.84   616.89   2252.22   227.70    3096.81   7991.65   \n18     2008  1063.83   576.38   1618.04   151.57    2345.99   3409.82   \n19     2009  1878.98   261.69   2660.40   105.97    3028.06   4907.04   \n20     2010  4793.36   377.14   3246.62  1438.22    5061.98   9855.34   \n21     2011  2824.43   288.79   4287.24   421.96    4997.99   7822.42   \n22     2012  1060.40   105.20   3385.16   121.00    3611.36   4671.76   \n23     2013     0.00    80.43   3614.06   475.73    4170.22   4170.22   \n24     2014   668.89     3.65   7959.96   137.97    8101.58   8770.47   \n25     2015  1576.39     0.00  15088.23    42.34   15130.57  16706.96   \n26     2016  1496.08     0.00  18520.64   298.51   18819.15  20315.23   \n27     2017  2301.09     0.00  13328.93   162.96   13491.89  15792.98   \n28     2018  1378.15     0.00   8918.41   228.32    9146.73  10524.88   \n29     2019  2489.81    89.50   9480.04   133.88    9703.42  12193.23   \n30     2020  4624.58    25.71   8505.83   512.97    9044.51  13669.09   \n31     2021  5323.73     0.00   9334.22   493.35    9827.57  15151.30   \n\n         Bond  SRate  \n0       93.49   5.90  \n1      199.09   2.39  \n2      395.64  27.94  \n3      304.54  55.02  \n4      418.86  33.01  \n5      376.89  11.96  \n6     1883.26  12.99  \n7      835.22  49.09  \n8      104.10  88.27  \n9      424.10  67.59  \n10     325.50  82.06  \n11    1085.00  53.30  \n12    1775.50  28.87  \n13    2091.57  24.14  \n14    3098.13  16.80  \n15    5534.80   5.77  \n16    7480.08  23.46  \n17    6656.68  54.56  \n18    8607.95  28.37  \n19   18267.66  21.17  \n20   20225.83  32.76  \n21   16171.49  32.60  \n22   21687.94  17.72  \n23   22336.97  15.73  \n24   26774.97  24.67  \n25   71716.38  18.89  \n26  115452.63  14.96  \n27   95810.06  14.15  \n28  116760.42   8.27  \n29  133264.86   8.38  \n30  205889.03   6.23  \n31  202870.10   6.95  ",
      "text/html": "<div>\n<style scoped>\n    .dataframe tbody tr th:only-of-type {\n        vertical-align: middle;\n    }\n\n    .dataframe tbody tr th {\n        vertical-align: top;\n    }\n\n    .dataframe thead th {\n        text-align: right;\n    }\n</style>\n<table border=\"1\" class=\"dataframe\">\n  <thead>\n    <tr style=\"text-align: right;\">\n      <th></th>\n      <th>SgnYear</th>\n      <th>IPO</th>\n      <th>APublic</th>\n      <th>APrivate</th>\n      <th>Rs</th>\n      <th>Refinance</th>\n      <th>Ashares</th>\n      <th>Bond</th>\n      <th>SRate</th>\n    </tr>\n  </thead>\n  <tbody>\n    <tr>\n      <th>0</th>\n      <td>1990</td>\n      <td>5.86</td>\n      <td>0.00</td>\n      <td>0.00</td>\n      <td>0.00</td>\n      <td>0.00</td>\n      <td>5.86</td>\n      <td>93.49</td>\n      <td>5.90</td>\n    </tr>\n    <tr>\n      <th>1</th>\n      <td>1991</td>\n      <td>2.39</td>\n      <td>2.48</td>\n      <td>0.00</td>\n      <td>0.00</td>\n      <td>2.48</td>\n      <td>4.87</td>\n      <td>199.09</td>\n      <td>2.39</td>\n    </tr>\n    <tr>\n      <th>2</th>\n      <td>1992</td>\n      <td>153.42</td>\n      <td>0.00</td>\n      <td>0.00</td>\n      <td>0.00</td>\n      <td>0.00</td>\n      <td>153.42</td>\n      <td>395.64</td>\n      <td>27.94</td>\n    </tr>\n    <tr>\n      <th>3</th>\n      <td>1993</td>\n      <td>370.50</td>\n      <td>0.00</td>\n      <td>0.00</td>\n      <td>1.95</td>\n      <td>1.95</td>\n      <td>372.45</td>\n      <td>304.54</td>\n      <td>55.02</td>\n    </tr>\n    <tr>\n      <th>4</th>\n      <td>1994</td>\n      <td>186.47</td>\n      <td>7.68</td>\n      <td>0.00</td>\n      <td>12.29</td>\n      <td>19.97</td>\n      <td>206.44</td>\n      <td>418.86</td>\n      <td>33.01</td>\n    </tr>\n    <tr>\n      <th>5</th>\n      <td>1995</td>\n      <td>25.79</td>\n      <td>0.00</td>\n      <td>0.00</td>\n      <td>25.41</td>\n      <td>25.41</td>\n      <td>51.20</td>\n      <td>376.89</td>\n      <td>11.96</td>\n    </tr>\n    <tr>\n      <th>6</th>\n      <td>1996</td>\n      <td>224.91</td>\n      <td>0.00</td>\n      <td>0.00</td>\n      <td>56.17</td>\n      <td>56.17</td>\n      <td>281.08</td>\n      <td>1883.26</td>\n      <td>12.99</td>\n    </tr>\n    <tr>\n      <th>7</th>\n      <td>1997</td>\n      <td>618.39</td>\n      <td>0.00</td>\n      <td>0.00</td>\n      <td>186.96</td>\n      <td>186.96</td>\n      <td>805.35</td>\n      <td>835.22</td>\n      <td>49.09</td>\n    </tr>\n    <tr>\n      <th>8</th>\n      <td>1998</td>\n      <td>405.32</td>\n      <td>50.54</td>\n      <td>0.00</td>\n      <td>327.44</td>\n      <td>377.98</td>\n      <td>783.30</td>\n      <td>104.10</td>\n      <td>88.27</td>\n    </tr>\n    <tr>\n      <th>9</th>\n      <td>1999</td>\n      <td>505.03</td>\n      <td>55.10</td>\n      <td>4.65</td>\n      <td>319.62</td>\n      <td>379.37</td>\n      <td>884.40</td>\n      <td>424.10</td>\n      <td>67.59</td>\n    </tr>\n    <tr>\n      <th>10</th>\n      <td>2000</td>\n      <td>852.05</td>\n      <td>143.73</td>\n      <td>0.00</td>\n      <td>492.63</td>\n      <td>636.36</td>\n      <td>1488.41</td>\n      <td>325.50</td>\n      <td>82.06</td>\n    </tr>\n    <tr>\n      <th>11</th>\n      <td>2001</td>\n      <td>614.86</td>\n      <td>193.05</td>\n      <td>0.00</td>\n      <td>430.64</td>\n      <td>623.69</td>\n      <td>1238.55</td>\n      <td>1085.00</td>\n      <td>53.30</td>\n    </tr>\n    <tr>\n      <th>12</th>\n      <td>2002</td>\n      <td>499.48</td>\n      <td>164.69</td>\n      <td>0.00</td>\n      <td>56.61</td>\n      <td>221.30</td>\n      <td>720.78</td>\n      <td>1775.50</td>\n      <td>28.87</td>\n    </tr>\n    <tr>\n      <th>13</th>\n      <td>2003</td>\n      <td>473.01</td>\n      <td>116.15</td>\n      <td>0.00</td>\n      <td>76.52</td>\n      <td>192.67</td>\n      <td>665.68</td>\n      <td>2091.57</td>\n      <td>24.14</td>\n    </tr>\n    <tr>\n      <th>14</th>\n      <td>2004</td>\n      <td>361.05</td>\n      <td>159.74</td>\n      <td>0.00</td>\n      <td>104.77</td>\n      <td>264.51</td>\n      <td>625.56</td>\n      <td>3098.13</td>\n      <td>16.80</td>\n    </tr>\n    <tr>\n      <th>15</th>\n      <td>2005</td>\n      <td>57.63</td>\n      <td>278.78</td>\n      <td>0.00</td>\n      <td>2.62</td>\n      <td>281.40</td>\n      <td>339.03</td>\n      <td>5534.80</td>\n      <td>5.77</td>\n    </tr>\n    <tr>\n      <th>16</th>\n      <td>2006</td>\n      <td>1280.86</td>\n      <td>111.32</td>\n      <td>896.57</td>\n      <td>4.32</td>\n      <td>1012.21</td>\n      <td>2293.07</td>\n      <td>7480.08</td>\n      <td>23.46</td>\n    </tr>\n    <tr>\n      <th>17</th>\n      <td>2007</td>\n      <td>4894.84</td>\n      <td>616.89</td>\n      <td>2252.22</td>\n      <td>227.70</td>\n      <td>3096.81</td>\n      <td>7991.65</td>\n      <td>6656.68</td>\n      <td>54.56</td>\n    </tr>\n    <tr>\n      <th>18</th>\n      <td>2008</td>\n      <td>1063.83</td>\n      <td>576.38</td>\n      <td>1618.04</td>\n      <td>151.57</td>\n      <td>2345.99</td>\n      <td>3409.82</td>\n      <td>8607.95</td>\n      <td>28.37</td>\n    </tr>\n    <tr>\n      <th>19</th>\n      <td>2009</td>\n      <td>1878.98</td>\n      <td>261.69</td>\n      <td>2660.40</td>\n      <td>105.97</td>\n      <td>3028.06</td>\n      <td>4907.04</td>\n      <td>18267.66</td>\n      <td>21.17</td>\n    </tr>\n    <tr>\n      <th>20</th>\n      <td>2010</td>\n      <td>4793.36</td>\n      <td>377.14</td>\n      <td>3246.62</td>\n      <td>1438.22</td>\n      <td>5061.98</td>\n      <td>9855.34</td>\n      <td>20225.83</td>\n      <td>32.76</td>\n    </tr>\n    <tr>\n      <th>21</th>\n      <td>2011</td>\n      <td>2824.43</td>\n      <td>288.79</td>\n      <td>4287.24</td>\n      <td>421.96</td>\n      <td>4997.99</td>\n      <td>7822.42</td>\n      <td>16171.49</td>\n      <td>32.60</td>\n    </tr>\n    <tr>\n      <th>22</th>\n      <td>2012</td>\n      <td>1060.40</td>\n      <td>105.20</td>\n      <td>3385.16</td>\n      <td>121.00</td>\n      <td>3611.36</td>\n      <td>4671.76</td>\n      <td>21687.94</td>\n      <td>17.72</td>\n    </tr>\n    <tr>\n      <th>23</th>\n      <td>2013</td>\n      <td>0.00</td>\n      <td>80.43</td>\n      <td>3614.06</td>\n      <td>475.73</td>\n      <td>4170.22</td>\n      <td>4170.22</td>\n      <td>22336.97</td>\n      <td>15.73</td>\n    </tr>\n    <tr>\n      <th>24</th>\n      <td>2014</td>\n      <td>668.89</td>\n      <td>3.65</td>\n      <td>7959.96</td>\n      <td>137.97</td>\n      <td>8101.58</td>\n      <td>8770.47</td>\n      <td>26774.97</td>\n      <td>24.67</td>\n    </tr>\n    <tr>\n      <th>25</th>\n      <td>2015</td>\n      <td>1576.39</td>\n      <td>0.00</td>\n      <td>15088.23</td>\n      <td>42.34</td>\n      <td>15130.57</td>\n      <td>16706.96</td>\n      <td>71716.38</td>\n      <td>18.89</td>\n    </tr>\n    <tr>\n      <th>26</th>\n      <td>2016</td>\n      <td>1496.08</td>\n      <td>0.00</td>\n      <td>18520.64</td>\n      <td>298.51</td>\n      <td>18819.15</td>\n      <td>20315.23</td>\n      <td>115452.63</td>\n      <td>14.96</td>\n    </tr>\n    <tr>\n      <th>27</th>\n      <td>2017</td>\n      <td>2301.09</td>\n      <td>0.00</td>\n      <td>13328.93</td>\n      <td>162.96</td>\n      <td>13491.89</td>\n      <td>15792.98</td>\n      <td>95810.06</td>\n      <td>14.15</td>\n    </tr>\n    <tr>\n      <th>28</th>\n      <td>2018</td>\n      <td>1378.15</td>\n      <td>0.00</td>\n      <td>8918.41</td>\n      <td>228.32</td>\n      <td>9146.73</td>\n      <td>10524.88</td>\n      <td>116760.42</td>\n      <td>8.27</td>\n    </tr>\n    <tr>\n      <th>29</th>\n      <td>2019</td>\n      <td>2489.81</td>\n      <td>89.50</td>\n      <td>9480.04</td>\n      <td>133.88</td>\n      <td>9703.42</td>\n      <td>12193.23</td>\n      <td>133264.86</td>\n      <td>8.38</td>\n    </tr>\n    <tr>\n      <th>30</th>\n      <td>2020</td>\n      <td>4624.58</td>\n      <td>25.71</td>\n      <td>8505.83</td>\n      <td>512.97</td>\n      <td>9044.51</td>\n      <td>13669.09</td>\n      <td>205889.03</td>\n      <td>6.23</td>\n    </tr>\n    <tr>\n      <th>31</th>\n      <td>2021</td>\n      <td>5323.73</td>\n      <td>0.00</td>\n      <td>9334.22</td>\n      <td>493.35</td>\n      <td>9827.57</td>\n      <td>15151.30</td>\n      <td>202870.10</td>\n      <td>6.95</td>\n    </tr>\n  </tbody>\n</table>\n</div>"
     },
     "execution_count": 9,
     "metadata": {},
     "output_type": "execute_result"
    }
   ],
   "source": [
    "# df_r = pd.read_csv(f'{DATASETS_PATH}QX_STOCKRATE.csv')\n",
    "# df_r"
   ],
   "metadata": {
    "collapsed": false
   }
  },
  {
   "cell_type": "markdown",
   "source": [
    "### 基金折溢价率CEFD\n",
    "Symbol [基金代码] -\n",
    "TradingDate [交易日期] -\n",
    "CategoryID [基金类别] - S0601=股票型基金;S0602=债券型基金;S0603=货币型基金;S0604=混合型基金;S0605=FOF;S0606=股指期货型基金;S0699=其他\n",
    "FundTypeID [基金运作方式] - S0501=契约型开放式;S0502=契约型封闭式\n",
    "IsETF [是否ETF] - 1=是；2=否\n",
    "IsLOF [是否LOF] - 1=是；2=否\n",
    "IsIndexFund [是否指数基金] - 1=是；2=否\n",
    "IsInnovative [是否创新型基金] - 1=是；2=否\n",
    "NAV [基金份额净值] -\n",
    "AccumulativeNAV [基金份额累计净值] -\n",
    "ClosePrice [收盘价] -\n",
    "CovertRate [溢价率(%)] - 计算公式为：（收盘价-基金份额净值）*101/基金份额净值\n",
    "TurnoverRate [换手率] -"
   ],
   "metadata": {
    "collapsed": false
   }
  },
  {
   "cell_type": "code",
   "execution_count": 5,
   "outputs": [
    {
     "data": {
      "text/plain": "                   CEFD\nTradingDate            \n19980430     101.500000\n19980630      60.272500\n19980731      41.500000\n19980831      28.418000\n19980930      31.054000\n...                 ...\n20221216       4.303333\n20221219       1.501667\n20221220       0.239091\n20221221       0.583000\n20221222       0.293333\n\n[2637 rows x 1 columns]",
      "text/html": "<div>\n<style scoped>\n    .dataframe tbody tr th:only-of-type {\n        vertical-align: middle;\n    }\n\n    .dataframe tbody tr th {\n        vertical-align: top;\n    }\n\n    .dataframe thead th {\n        text-align: right;\n    }\n</style>\n<table border=\"1\" class=\"dataframe\">\n  <thead>\n    <tr style=\"text-align: right;\">\n      <th></th>\n      <th>CEFD</th>\n    </tr>\n    <tr>\n      <th>TradingDate</th>\n      <th></th>\n    </tr>\n  </thead>\n  <tbody>\n    <tr>\n      <th>19980430</th>\n      <td>101.500000</td>\n    </tr>\n    <tr>\n      <th>19980630</th>\n      <td>60.272500</td>\n    </tr>\n    <tr>\n      <th>19980731</th>\n      <td>41.500000</td>\n    </tr>\n    <tr>\n      <th>19980831</th>\n      <td>28.418000</td>\n    </tr>\n    <tr>\n      <th>19980930</th>\n      <td>31.054000</td>\n    </tr>\n    <tr>\n      <th>...</th>\n      <td>...</td>\n    </tr>\n    <tr>\n      <th>20221216</th>\n      <td>4.303333</td>\n    </tr>\n    <tr>\n      <th>20221219</th>\n      <td>1.501667</td>\n    </tr>\n    <tr>\n      <th>20221220</th>\n      <td>0.239091</td>\n    </tr>\n    <tr>\n      <th>20221221</th>\n      <td>0.583000</td>\n    </tr>\n    <tr>\n      <th>20221222</th>\n      <td>0.293333</td>\n    </tr>\n  </tbody>\n</table>\n<p>2637 rows × 1 columns</p>\n</div>"
     },
     "execution_count": 5,
     "metadata": {},
     "output_type": "execute_result"
    }
   ],
   "source": [
    "\n",
    "def cal_cefd():\n",
    "    \"\"\"\n",
    "    计算封闭式基金溢价\n",
    "    \"\"\"\n",
    "\n",
    "    '''\n",
    "    保留 封闭式基金\n",
    "    剔除 LOF基金,创新型基金,股票指数基金\n",
    "    '''\n",
    "\n",
    "    df = (\n",
    "            cudf.from_pandas(\n",
    "                    cudf.read_parquet(f'{DATASETS_PATH}QX_FUNDDISCOUNTPREMIUM.parquet').sort_index().to_pandas()\n",
    "                    .query(\" FundTypeID=='S0502'& IsLOF==2 & IsInnovative==2 & IsIndexFund==2\")\n",
    "            )\n",
    "    )\n",
    "\n",
    "    '''\n",
    "    CovertRate 平均加权\n",
    "    '''\n",
    "    df['DayAvgCR'] = df.groupby(level=['TradingDate'])['CovertRate'].transform('mean')\n",
    "\n",
    "    '''\n",
    "    时间序列\n",
    "    '''\n",
    "    df = df.groupby(level=['TradingDate']).first()\n",
    "\n",
    "    return df.rename(columns={'DayAvgCR': 'CEFD'})[['CEFD']]\n",
    "\n",
    "\n",
    "df_cefd = cal_cefd()\n",
    "df_cefd"
   ],
   "metadata": {
    "collapsed": false
   }
  },
  {
   "cell_type": "markdown",
   "source": [
    "### 市场换手率\n",
    "TradingDate [交易日期] -\n",
    "MarketType [市场类型] - 1=上证A股市场；2=上证B股市场；4=深证A股市场；8=深证B股市场；6=主板；5=沪深A股市场；7=中小板；10=沪深B股市场；15=沪深AB股市场；16=创业板；20=深证A股和创业板；21=沪深A股和创业板；31=沪深AB股和创业板；32=科创板；33=上证A股和科创板；37=沪深A股和科创板；47=沪深AB股和科创板；53=沪深A股和创业板和科创板；63=沪深AB股和创业板和科创板；64=北证A股市场；69=沪深京A股市场；79=沪深京AB股市场；85=沪深京A股和创业板；95=沪深京AB股和创业板；101=沪深京A股和科创板；111=沪深京AB股和科创板；117=沪深京A股和创业板和科创板；127=沪深京AB股和创业板和科创板；\n",
    "Parameter [参数值] - 字段说明见说明书“附录 参数说明”\n",
    "Unit [参数单位] -\n",
    "TurnoverRate1 [换手率(总股本)] - 计算公式为：交易量/总股本\n",
    "TurnoverRate2 [换手率(流通股本)] - 计算公式为：交易量/流通股本"
   ],
   "metadata": {
    "collapsed": false
   }
  },
  {
   "cell_type": "code",
   "execution_count": 6,
   "outputs": [
    {
     "data": {
      "text/plain": "                TURN\nTradingDate         \n19901219     0.00062\n19901220     0.00012\n19901221     0.00003\n19901224     0.00004\n19901225     0.00001\n...              ...\n20221221     0.08464\n20221221     0.18570\n20221221     0.52087\n20221221     1.74546\n20221221     2.35661\n\n[54588 rows x 1 columns]",
      "text/html": "<div>\n<style scoped>\n    .dataframe tbody tr th:only-of-type {\n        vertical-align: middle;\n    }\n\n    .dataframe tbody tr th {\n        vertical-align: top;\n    }\n\n    .dataframe thead th {\n        text-align: right;\n    }\n</style>\n<table border=\"1\" class=\"dataframe\">\n  <thead>\n    <tr style=\"text-align: right;\">\n      <th></th>\n      <th>TURN</th>\n    </tr>\n    <tr>\n      <th>TradingDate</th>\n      <th></th>\n    </tr>\n  </thead>\n  <tbody>\n    <tr>\n      <th>19901219</th>\n      <td>0.00062</td>\n    </tr>\n    <tr>\n      <th>19901220</th>\n      <td>0.00012</td>\n    </tr>\n    <tr>\n      <th>19901221</th>\n      <td>0.00003</td>\n    </tr>\n    <tr>\n      <th>19901224</th>\n      <td>0.00004</td>\n    </tr>\n    <tr>\n      <th>19901225</th>\n      <td>0.00001</td>\n    </tr>\n    <tr>\n      <th>...</th>\n      <td>...</td>\n    </tr>\n    <tr>\n      <th>20221221</th>\n      <td>0.08464</td>\n    </tr>\n    <tr>\n      <th>20221221</th>\n      <td>0.18570</td>\n    </tr>\n    <tr>\n      <th>20221221</th>\n      <td>0.52087</td>\n    </tr>\n    <tr>\n      <th>20221221</th>\n      <td>1.74546</td>\n    </tr>\n    <tr>\n      <th>20221221</th>\n      <td>2.35661</td>\n    </tr>\n  </tbody>\n</table>\n<p>54588 rows × 1 columns</p>\n</div>"
     },
     "execution_count": 6,
     "metadata": {},
     "output_type": "execute_result"
    }
   ],
   "source": [
    "def transform():\n",
    "    \"\"\"\n",
    "    转换函数\n",
    "    \"\"\"\n",
    "    df_turn = pd.concat([pd.read_csv(f'{DATASETS_PATH}QX_TRM.csv'), pd.read_csv(f'{DATASETS_PATH}QX_TRM1.csv')])\n",
    "    df_turn['TradingDate'] = df_turn['TradingDate'].str.replace('-', '').astype('uint32')\n",
    "    df_turn = df_turn.set_index(['TradingDate', 'MarketType']).sort_index()\n",
    "    df_turn.to_parquet(f'{DATASETS_PATH}QX_TRM.parquet')\n",
    "    return df_turn\n",
    "\n",
    "\n",
    "def cal_turn():\n",
    "    \"\"\"\n",
    "    计算换手率\n",
    "    :return:\n",
    "    \"\"\"\n",
    "    df = cudf.read_parquet(f'{DATASETS_PATH}QX_TRM.parquet').query(\"MarketType==5\")\n",
    "    return df.reset_index(['MarketType']).rename(columns={'TurnoverRate2': 'TURN'})[['TURN']]\n",
    "\n",
    "\n",
    "cal_turn()"
   ],
   "metadata": {
    "collapsed": false
   }
  },
  {
   "cell_type": "markdown",
   "source": [
    "### IPO股票信息\n",
    "Symbol [股票代码] -\n",
    "ListedDate [上市日期] -\n",
    "ListedYear [上市年份] -\n",
    "ABSymbol [AB股交叉码] - 指公司同时发行了A和B股的情况\n",
    "HSymbol [H股交叉码] - 指的是公司同时发行了H股的情况\n",
    "EstablishDate [公司成立日期] -\n",
    "IpoDate [首次招股日期] -\n",
    "CompanyListedDate [公司上市日期] -\n",
    "IsIPO [是否首次发行] - A=是；B=否\n",
    "TotalShares [实际发行总量] -\n",
    "IssuePrice [发行价格] -\n",
    "CurrencyCode [发行价格币种] -\n",
    "ClosePrice [上市首日收盘价] -\n",
    "ReturnRate [上市首日回报率] -\n",
    "TurnoverRate1 [上市首日换手率(总股本)] -\n",
    "TurnoverRate2 [上市首日换手率(流通股本)] -\n",
    "PE [上市首日市盈率] -\n",
    "PB [上市首日市净率] -"
   ],
   "metadata": {
    "collapsed": false
   }
  },
  {
   "cell_type": "code",
   "execution_count": 7,
   "outputs": [
    {
     "data": {
      "text/plain": "                   RIPO  NIPO\nListedDate                   \n19901210          0.803     1\n19901219    48.89698229     7\n19910114          14.98     1\n19910129          13.58     1\n19910403          0.225     1\n...                 ...   ...\n20221216      0.1284755     2\n20221221       0.156567     1\n20221222       0.157636     2\n20221223           <NA>     0\n20221226           <NA>     0\n\n[2615 rows x 2 columns]",
      "text/html": "<div>\n<style scoped>\n    .dataframe tbody tr th:only-of-type {\n        vertical-align: middle;\n    }\n\n    .dataframe tbody tr th {\n        vertical-align: top;\n    }\n\n    .dataframe thead th {\n        text-align: right;\n    }\n</style>\n<table border=\"1\" class=\"dataframe\">\n  <thead>\n    <tr style=\"text-align: right;\">\n      <th></th>\n      <th>RIPO</th>\n      <th>NIPO</th>\n    </tr>\n    <tr>\n      <th>ListedDate</th>\n      <th></th>\n      <th></th>\n    </tr>\n  </thead>\n  <tbody>\n    <tr>\n      <th>19901210</th>\n      <td>0.803</td>\n      <td>1</td>\n    </tr>\n    <tr>\n      <th>19901219</th>\n      <td>48.89698229</td>\n      <td>7</td>\n    </tr>\n    <tr>\n      <th>19910114</th>\n      <td>14.98</td>\n      <td>1</td>\n    </tr>\n    <tr>\n      <th>19910129</th>\n      <td>13.58</td>\n      <td>1</td>\n    </tr>\n    <tr>\n      <th>19910403</th>\n      <td>0.225</td>\n      <td>1</td>\n    </tr>\n    <tr>\n      <th>...</th>\n      <td>...</td>\n      <td>...</td>\n    </tr>\n    <tr>\n      <th>20221216</th>\n      <td>0.1284755</td>\n      <td>2</td>\n    </tr>\n    <tr>\n      <th>20221221</th>\n      <td>0.156567</td>\n      <td>1</td>\n    </tr>\n    <tr>\n      <th>20221222</th>\n      <td>0.157636</td>\n      <td>2</td>\n    </tr>\n    <tr>\n      <th>20221223</th>\n      <td>&lt;NA&gt;</td>\n      <td>0</td>\n    </tr>\n    <tr>\n      <th>20221226</th>\n      <td>&lt;NA&gt;</td>\n      <td>0</td>\n    </tr>\n  </tbody>\n</table>\n<p>2615 rows × 2 columns</p>\n</div>"
     },
     "execution_count": 7,
     "metadata": {},
     "output_type": "execute_result"
    }
   ],
   "source": [
    "def cal_ipo():\n",
    "    \"\"\"\n",
    "    计算IPO信息\n",
    "    \"\"\"\n",
    "    df = cudf.read_parquet(f'{DATASETS_PATH}QX_IPO.parquet')\n",
    "\n",
    "    '''\n",
    "    计算平均首日收益\n",
    "    '''\n",
    "    df['DayAvgRR'] = df.groupby(level=['ListedDate'])['ReturnRate'].transform('mean')\n",
    "    df['DayTotalN'] = df.groupby(level=['ListedDate'])['ReturnRate'].transform('count')\n",
    "    df = df.groupby(level=['ListedDate']).first()\n",
    "\n",
    "    return df.rename(columns={'DayAvgRR': 'RIPO', 'DayTotalN': 'NIPO'})[['RIPO', 'NIPO']]\n",
    "\n",
    "\n",
    "df_ipo = cal_ipo()\n",
    "df_ipo"
   ],
   "metadata": {
    "collapsed": false
   }
  },
  {
   "cell_type": "markdown",
   "source": [
    "## 合成"
   ],
   "metadata": {
    "collapsed": false
   }
  },
  {
   "cell_type": "code",
   "execution_count": 32,
   "outputs": [
    {
     "data": {
      "text/plain": "                   CEFD      RIPO  NIPO\nTradingDate                            \n19980430     101.500000       NaN   NaN\n19980630      60.272500  1.081585   1.0\n19980731      41.500000       NaN   NaN\n19980831      28.418000       NaN   NaN\n19980930      31.054000       NaN   NaN\n...                 ...       ...   ...\n20221216       4.303333  0.128475   2.0\n20221219       1.501667       NaN   NaN\n20221220       0.239091       NaN   NaN\n20221221       0.583000  0.156567   1.0\n20221222       0.293333  0.157636   2.0\n\n[2637 rows x 3 columns]",
      "text/html": "<div>\n<style scoped>\n    .dataframe tbody tr th:only-of-type {\n        vertical-align: middle;\n    }\n\n    .dataframe tbody tr th {\n        vertical-align: top;\n    }\n\n    .dataframe thead th {\n        text-align: right;\n    }\n</style>\n<table border=\"1\" class=\"dataframe\">\n  <thead>\n    <tr style=\"text-align: right;\">\n      <th></th>\n      <th>CEFD</th>\n      <th>RIPO</th>\n      <th>NIPO</th>\n    </tr>\n    <tr>\n      <th>TradingDate</th>\n      <th></th>\n      <th></th>\n      <th></th>\n    </tr>\n  </thead>\n  <tbody>\n    <tr>\n      <th>19980430</th>\n      <td>101.500000</td>\n      <td>NaN</td>\n      <td>NaN</td>\n    </tr>\n    <tr>\n      <th>19980630</th>\n      <td>60.272500</td>\n      <td>1.081585</td>\n      <td>1.0</td>\n    </tr>\n    <tr>\n      <th>19980731</th>\n      <td>41.500000</td>\n      <td>NaN</td>\n      <td>NaN</td>\n    </tr>\n    <tr>\n      <th>19980831</th>\n      <td>28.418000</td>\n      <td>NaN</td>\n      <td>NaN</td>\n    </tr>\n    <tr>\n      <th>19980930</th>\n      <td>31.054000</td>\n      <td>NaN</td>\n      <td>NaN</td>\n    </tr>\n    <tr>\n      <th>...</th>\n      <td>...</td>\n      <td>...</td>\n      <td>...</td>\n    </tr>\n    <tr>\n      <th>20221216</th>\n      <td>4.303333</td>\n      <td>0.128475</td>\n      <td>2.0</td>\n    </tr>\n    <tr>\n      <th>20221219</th>\n      <td>1.501667</td>\n      <td>NaN</td>\n      <td>NaN</td>\n    </tr>\n    <tr>\n      <th>20221220</th>\n      <td>0.239091</td>\n      <td>NaN</td>\n      <td>NaN</td>\n    </tr>\n    <tr>\n      <th>20221221</th>\n      <td>0.583000</td>\n      <td>0.156567</td>\n      <td>1.0</td>\n    </tr>\n    <tr>\n      <th>20221222</th>\n      <td>0.293333</td>\n      <td>0.157636</td>\n      <td>2.0</td>\n    </tr>\n  </tbody>\n</table>\n<p>2637 rows × 3 columns</p>\n</div>"
     },
     "execution_count": 32,
     "metadata": {},
     "output_type": "execute_result"
    }
   ],
   "source": [
    "# df_pca = df_cefd.to_pandas().join(df_ipo.to_pandas())\n",
    "pd.merge(df_cefd.to_pandas().reset_index(), df_ipo.to_pandas().reset_index(), left_on='TradingDate', right_on='ListedDate', how='left')\n",
    "df_pca"
   ],
   "metadata": {
    "collapsed": false
   }
  },
  {
   "cell_type": "markdown",
   "source": [],
   "metadata": {
    "collapsed": false
   }
  }
 ],
 "metadata": {
  "kernelspec": {
   "name": "pytorch",
   "language": "python",
   "display_name": "Rapids"
  },
  "language_info": {
   "codemirror_mode": {
    "name": "ipython",
    "version": 2
   },
   "file_extension": ".py",
   "mimetype": "text/x-python",
   "name": "python",
   "nbconvert_exporter": "python",
   "pygments_lexer": "ipython2",
   "version": "2.7.6"
  }
 },
 "nbformat": 4,
 "nbformat_minor": 0
}
