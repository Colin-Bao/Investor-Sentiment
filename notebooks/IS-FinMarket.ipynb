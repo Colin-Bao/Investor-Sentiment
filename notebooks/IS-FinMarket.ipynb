{
 "cells": [
  {
   "cell_type": "markdown",
   "source": [
    "# 金融市场情绪专题\n",
    "PCA"
   ],
   "metadata": {
    "collapsed": false
   }
  },
  {
   "cell_type": "code",
   "execution_count": 1,
   "outputs": [
    {
     "name": "stdout",
     "output_type": "stream",
     "text": [
      "\n",
      "  ___  ____  ____  ____  ____ ©\n",
      " /__    /   ____/   /   ____/      17.0\n",
      "___/   /   /___/   /   /___/       MP—Parallel Edition\n",
      "\n",
      " Statistics and Data Science       Copyright 1985-2021 StataCorp LLC\n",
      "                                   StataCorp\n",
      "                                   4905 Lakeway Drive\n",
      "                                   College Station, Texas 77845 USA\n",
      "                                   800-STATA-PC        https://www.stata.com\n",
      "                                   979-696-4600        stata@stata.com\n",
      "\n",
      "Stata license: Single-user 8-core , expiring  1 Jan 2025\n",
      "Serial number: 501709301094\n",
      "  Licensed to: Colin's Stata 17 MP\n",
      "               Love you\n",
      "\n",
      "Notes:\n",
      "      1. Unicode is supported; see help unicode_advice.\n",
      "      2. More than 2 billion observations are allowed; see help obs_advice.\n",
      "      3. Maximum number of variables is set to 5,000; see help set_maxvar.\n"
     ]
    }
   ],
   "source": [
    "import sys\n",
    "import os\n",
    "import cudf\n",
    "import cupy\n",
    "import pandas as pd\n",
    "\n",
    "# 自行编写的包\n",
    "sys.path.append('/home/ubuntu/notebook/Investor-Sentiment')\n",
    "sys.path.append('/usr/local/stata17/utilities')\n",
    "\n",
    "# from loader.findata_loader import Loader\n",
    "# from utils.sql import DB\n",
    "\n",
    "# Stata\n",
    "\n",
    "from pystata import config  # noqa\n",
    "\n",
    "config.init('mp')  # noqa\n",
    "# ------------------------------数据集路径----------------------------------#\n",
    "# /usr/local/miniconda3/envs/Rapids/bin/python\n",
    "DATASETS_PATH = '/data/DataSets/BW_INDEX_CSMAR/BW_5_CSMAR/'"
   ],
   "metadata": {
    "collapsed": false
   }
  },
  {
   "cell_type": "markdown",
   "source": [
    "### 股利溢价 lnPD\n",
    "SgnYear [统计年度] - YYYY\n",
    "Dnum [分红公司数目] - 指当年发生了现金分红的上市公司数量\n",
    "NDnum [未分红公司数目] - 指当年没有现金分红的上市公司数量\n",
    "DMB [分红公司平均市值账面比] - 计算公式为：所有分红的公司的市值账面比的平均数\n",
    "NDMB [未分红公司平均市值账面比] - 计算公式为：所有未分红的公司的市值账面比的平均数\n",
    "PDND [股利溢价] - 计算公式为：分红公司平均市值账面比-未分红公司平均市值账面比\n",
    "LogPDND [对数股利溢价] - 计算公式为：股利溢价的对数"
   ],
   "metadata": {
    "collapsed": false
   }
  },
  {
   "cell_type": "code",
   "execution_count": 2,
   "outputs": [
    {
     "data": {
      "text/plain": "           lnPD\nSgnYear        \n1991    -0.9005\n1992    -0.2720\n1993    -0.0592\n1994    -0.1019\n1995    -0.0237\n1996    -0.0648\n1997    -0.0639\n1998    -0.0479\n1999    -0.0426\n2000    -0.0986\n2001    -0.1214\n2002    -0.1240\n2003    -0.0583\n2004    -0.0422\n2005    -0.0260\n2006    -0.4844\n2007    -0.0814\n2008    -0.1156\n2009    -1.4346\n2010    -0.3186\n2011    -0.1881\n2012    -0.2554\n2013    -0.2100\n2014    -0.3537\n2015    -0.2930\n2016    -0.2139\n2017    -0.1705\n2018    -0.1669\n2019    -0.1055\n2020    -0.0270\n2021    -0.0318",
      "text/html": "<div>\n<style scoped>\n    .dataframe tbody tr th:only-of-type {\n        vertical-align: middle;\n    }\n\n    .dataframe tbody tr th {\n        vertical-align: top;\n    }\n\n    .dataframe thead th {\n        text-align: right;\n    }\n</style>\n<table border=\"1\" class=\"dataframe\">\n  <thead>\n    <tr style=\"text-align: right;\">\n      <th></th>\n      <th>lnPD</th>\n    </tr>\n    <tr>\n      <th>SgnYear</th>\n      <th></th>\n    </tr>\n  </thead>\n  <tbody>\n    <tr>\n      <th>1991</th>\n      <td>-0.9005</td>\n    </tr>\n    <tr>\n      <th>1992</th>\n      <td>-0.2720</td>\n    </tr>\n    <tr>\n      <th>1993</th>\n      <td>-0.0592</td>\n    </tr>\n    <tr>\n      <th>1994</th>\n      <td>-0.1019</td>\n    </tr>\n    <tr>\n      <th>1995</th>\n      <td>-0.0237</td>\n    </tr>\n    <tr>\n      <th>1996</th>\n      <td>-0.0648</td>\n    </tr>\n    <tr>\n      <th>1997</th>\n      <td>-0.0639</td>\n    </tr>\n    <tr>\n      <th>1998</th>\n      <td>-0.0479</td>\n    </tr>\n    <tr>\n      <th>1999</th>\n      <td>-0.0426</td>\n    </tr>\n    <tr>\n      <th>2000</th>\n      <td>-0.0986</td>\n    </tr>\n    <tr>\n      <th>2001</th>\n      <td>-0.1214</td>\n    </tr>\n    <tr>\n      <th>2002</th>\n      <td>-0.1240</td>\n    </tr>\n    <tr>\n      <th>2003</th>\n      <td>-0.0583</td>\n    </tr>\n    <tr>\n      <th>2004</th>\n      <td>-0.0422</td>\n    </tr>\n    <tr>\n      <th>2005</th>\n      <td>-0.0260</td>\n    </tr>\n    <tr>\n      <th>2006</th>\n      <td>-0.4844</td>\n    </tr>\n    <tr>\n      <th>2007</th>\n      <td>-0.0814</td>\n    </tr>\n    <tr>\n      <th>2008</th>\n      <td>-0.1156</td>\n    </tr>\n    <tr>\n      <th>2009</th>\n      <td>-1.4346</td>\n    </tr>\n    <tr>\n      <th>2010</th>\n      <td>-0.3186</td>\n    </tr>\n    <tr>\n      <th>2011</th>\n      <td>-0.1881</td>\n    </tr>\n    <tr>\n      <th>2012</th>\n      <td>-0.2554</td>\n    </tr>\n    <tr>\n      <th>2013</th>\n      <td>-0.2100</td>\n    </tr>\n    <tr>\n      <th>2014</th>\n      <td>-0.3537</td>\n    </tr>\n    <tr>\n      <th>2015</th>\n      <td>-0.2930</td>\n    </tr>\n    <tr>\n      <th>2016</th>\n      <td>-0.2139</td>\n    </tr>\n    <tr>\n      <th>2017</th>\n      <td>-0.1705</td>\n    </tr>\n    <tr>\n      <th>2018</th>\n      <td>-0.1669</td>\n    </tr>\n    <tr>\n      <th>2019</th>\n      <td>-0.1055</td>\n    </tr>\n    <tr>\n      <th>2020</th>\n      <td>-0.0270</td>\n    </tr>\n    <tr>\n      <th>2021</th>\n      <td>-0.0318</td>\n    </tr>\n  </tbody>\n</table>\n</div>"
     },
     "execution_count": 2,
     "metadata": {},
     "output_type": "execute_result"
    }
   ],
   "source": [
    "def cal_pd():\n",
    "    df = cudf.read_parquet(f'{DATASETS_PATH}QX_DIVIDENDPREMIUM.parquet')\n",
    "    return df.rename(columns={'LogPDND': 'lnPD'})[['lnPD']]\n",
    "\n",
    "\n",
    "cal_pd()"
   ],
   "metadata": {
    "collapsed": false
   }
  },
  {
   "cell_type": "markdown",
   "source": [
    "### 股票融资占股票债券融资比例 SR\n",
    "SgnYear [统计年度] - YYYY-MM\n",
    "IPO [A股首次发行金额] - 当年IPO的A股融资额\n",
    "APublic [A股公开增发金额] -\n",
    "APrivate [A股非公开增发金额] -\n",
    "Rs [A股配股金额] -\n",
    "Refinance [A股再筹资金额] - 通过增发配股等方式融资额\n",
    "Ashares [A股股票融资总额] - 计算公式为：IPO+再融资之和\n",
    "Bond [债券市场筹资总额] - 计算公式为：债券市场各类债券发行的总额\n",
    "SRate [股票融资占股票债券融资比例(%)] - 计算公式为：股票融资*100/(股票融资+债券融资)"
   ],
   "metadata": {
    "collapsed": false
   }
  },
  {
   "cell_type": "code",
   "execution_count": 3,
   "outputs": [
    {
     "data": {
      "text/plain": "            SR\nSgnYear       \n1990      5.90\n1991      2.39\n1992     27.94\n1993     55.02\n1994     33.01\n1995     11.96\n1996     12.99\n1997     49.09\n1998     88.27\n1999     67.59\n2000     82.06\n2001     53.30\n2002     28.87\n2003     24.14\n2004     16.80\n2005      5.77\n2006     23.46\n2007     54.56\n2008     28.37\n2009     21.17\n2010     32.76\n2011     32.60\n2012     17.72\n2013     15.73\n2014     24.67\n2015     18.89\n2016     14.96\n2017     14.15\n2018      8.27\n2019      8.38\n2020      6.23\n2021      6.95",
      "text/html": "<div>\n<style scoped>\n    .dataframe tbody tr th:only-of-type {\n        vertical-align: middle;\n    }\n\n    .dataframe tbody tr th {\n        vertical-align: top;\n    }\n\n    .dataframe thead th {\n        text-align: right;\n    }\n</style>\n<table border=\"1\" class=\"dataframe\">\n  <thead>\n    <tr style=\"text-align: right;\">\n      <th></th>\n      <th>SR</th>\n    </tr>\n    <tr>\n      <th>SgnYear</th>\n      <th></th>\n    </tr>\n  </thead>\n  <tbody>\n    <tr>\n      <th>1990</th>\n      <td>5.90</td>\n    </tr>\n    <tr>\n      <th>1991</th>\n      <td>2.39</td>\n    </tr>\n    <tr>\n      <th>1992</th>\n      <td>27.94</td>\n    </tr>\n    <tr>\n      <th>1993</th>\n      <td>55.02</td>\n    </tr>\n    <tr>\n      <th>1994</th>\n      <td>33.01</td>\n    </tr>\n    <tr>\n      <th>1995</th>\n      <td>11.96</td>\n    </tr>\n    <tr>\n      <th>1996</th>\n      <td>12.99</td>\n    </tr>\n    <tr>\n      <th>1997</th>\n      <td>49.09</td>\n    </tr>\n    <tr>\n      <th>1998</th>\n      <td>88.27</td>\n    </tr>\n    <tr>\n      <th>1999</th>\n      <td>67.59</td>\n    </tr>\n    <tr>\n      <th>2000</th>\n      <td>82.06</td>\n    </tr>\n    <tr>\n      <th>2001</th>\n      <td>53.30</td>\n    </tr>\n    <tr>\n      <th>2002</th>\n      <td>28.87</td>\n    </tr>\n    <tr>\n      <th>2003</th>\n      <td>24.14</td>\n    </tr>\n    <tr>\n      <th>2004</th>\n      <td>16.80</td>\n    </tr>\n    <tr>\n      <th>2005</th>\n      <td>5.77</td>\n    </tr>\n    <tr>\n      <th>2006</th>\n      <td>23.46</td>\n    </tr>\n    <tr>\n      <th>2007</th>\n      <td>54.56</td>\n    </tr>\n    <tr>\n      <th>2008</th>\n      <td>28.37</td>\n    </tr>\n    <tr>\n      <th>2009</th>\n      <td>21.17</td>\n    </tr>\n    <tr>\n      <th>2010</th>\n      <td>32.76</td>\n    </tr>\n    <tr>\n      <th>2011</th>\n      <td>32.60</td>\n    </tr>\n    <tr>\n      <th>2012</th>\n      <td>17.72</td>\n    </tr>\n    <tr>\n      <th>2013</th>\n      <td>15.73</td>\n    </tr>\n    <tr>\n      <th>2014</th>\n      <td>24.67</td>\n    </tr>\n    <tr>\n      <th>2015</th>\n      <td>18.89</td>\n    </tr>\n    <tr>\n      <th>2016</th>\n      <td>14.96</td>\n    </tr>\n    <tr>\n      <th>2017</th>\n      <td>14.15</td>\n    </tr>\n    <tr>\n      <th>2018</th>\n      <td>8.27</td>\n    </tr>\n    <tr>\n      <th>2019</th>\n      <td>8.38</td>\n    </tr>\n    <tr>\n      <th>2020</th>\n      <td>6.23</td>\n    </tr>\n    <tr>\n      <th>2021</th>\n      <td>6.95</td>\n    </tr>\n  </tbody>\n</table>\n</div>"
     },
     "execution_count": 3,
     "metadata": {},
     "output_type": "execute_result"
    }
   ],
   "source": [
    "def cal_sr():\n",
    "    \"\"\"\n",
    "    :return:\n",
    "    \"\"\"\n",
    "    df = cudf.read_parquet(f'{DATASETS_PATH}QX_STOCKRATE.parquet')\n",
    "    return df.rename(columns={'SRate': 'SR'})[['SR']]\n",
    "\n",
    "\n",
    "cal_sr()"
   ],
   "metadata": {
    "collapsed": false
   }
  },
  {
   "cell_type": "markdown",
   "source": [
    "### 基金折溢价率 CEFD\n",
    "Symbol [基金代码] -\n",
    "TradingDate [交易日期] -\n",
    "CategoryID [基金类别] - S0601=股票型基金;S0602=债券型基金;S0603=货币型基金;S0604=混合型基金;S0605=FOF;S0606=股指期货型基金;S0699=其他\n",
    "FundTypeID [基金运作方式] - S0501=契约型开放式;S0502=契约型封闭式\n",
    "IsETF [是否ETF] - 1=是；2=否\n",
    "IsLOF [是否LOF] - 1=是；2=否\n",
    "IsIndexFund [是否指数基金] - 1=是；2=否\n",
    "IsInnovative [是否创新型基金] - 1=是；2=否\n",
    "NAV [基金份额净值] -\n",
    "AccumulativeNAV [基金份额累计净值] -\n",
    "ClosePrice [收盘价] -\n",
    "CovertRate [溢价率(%)] - 计算公式为：（收盘价-基金份额净值）*101/基金份额净值\n",
    "TurnoverRate [换手率] -"
   ],
   "metadata": {
    "collapsed": false
   }
  },
  {
   "cell_type": "code",
   "execution_count": 4,
   "outputs": [
    {
     "data": {
      "text/plain": "                   CEFD\nTradingDate            \n19980430     101.500000\n19980630      60.272500\n19980731      41.500000\n19980831      28.418000\n19980930      31.054000\n...                 ...\n20221216       1.787500\n20221219       0.104000\n20221220      -0.458947\n20221221      -0.160000\n20221222       0.008667\n\n[2638 rows x 1 columns]",
      "text/html": "<div>\n<style scoped>\n    .dataframe tbody tr th:only-of-type {\n        vertical-align: middle;\n    }\n\n    .dataframe tbody tr th {\n        vertical-align: top;\n    }\n\n    .dataframe thead th {\n        text-align: right;\n    }\n</style>\n<table border=\"1\" class=\"dataframe\">\n  <thead>\n    <tr style=\"text-align: right;\">\n      <th></th>\n      <th>CEFD</th>\n    </tr>\n    <tr>\n      <th>TradingDate</th>\n      <th></th>\n    </tr>\n  </thead>\n  <tbody>\n    <tr>\n      <th>19980430</th>\n      <td>101.500000</td>\n    </tr>\n    <tr>\n      <th>19980630</th>\n      <td>60.272500</td>\n    </tr>\n    <tr>\n      <th>19980731</th>\n      <td>41.500000</td>\n    </tr>\n    <tr>\n      <th>19980831</th>\n      <td>28.418000</td>\n    </tr>\n    <tr>\n      <th>19980930</th>\n      <td>31.054000</td>\n    </tr>\n    <tr>\n      <th>...</th>\n      <td>...</td>\n    </tr>\n    <tr>\n      <th>20221216</th>\n      <td>1.787500</td>\n    </tr>\n    <tr>\n      <th>20221219</th>\n      <td>0.104000</td>\n    </tr>\n    <tr>\n      <th>20221220</th>\n      <td>-0.458947</td>\n    </tr>\n    <tr>\n      <th>20221221</th>\n      <td>-0.160000</td>\n    </tr>\n    <tr>\n      <th>20221222</th>\n      <td>0.008667</td>\n    </tr>\n  </tbody>\n</table>\n<p>2638 rows × 1 columns</p>\n</div>"
     },
     "execution_count": 4,
     "metadata": {},
     "output_type": "execute_result"
    }
   ],
   "source": [
    "\n",
    "def cal_cefd():\n",
    "    \"\"\"\n",
    "    计算封闭式基金溢价\n",
    "    \"\"\"\n",
    "\n",
    "    '''\n",
    "    保留 封闭式基金\n",
    "    剔除 LOF基金,创新型基金,股票指数基金\n",
    "    '''\n",
    "\n",
    "    df = (\n",
    "            cudf.from_pandas(\n",
    "                    cudf.read_parquet(f'{DATASETS_PATH}QX_FUNDDISCOUNTPREMIUM.parquet').sort_index().to_pandas()\n",
    "                    .query(\" FundTypeID=='S0502'&IsInnovative==2 \")\n",
    "            )\n",
    "    )\n",
    "\n",
    "    '''\n",
    "    CovertRate 平均加权\n",
    "    '''\n",
    "    df['DayAvgCR'] = df.groupby(level=['TradingDate'])['CovertRate'].transform('mean')\n",
    "\n",
    "    '''\n",
    "    时间序列\n",
    "    '''\n",
    "    df = df.groupby(level=['TradingDate']).first()\n",
    "\n",
    "    return df.rename(columns={'DayAvgCR': 'CEFD'})[['CEFD']]\n",
    "\n",
    "\n",
    "cal_cefd()"
   ],
   "metadata": {
    "collapsed": false
   }
  },
  {
   "cell_type": "markdown",
   "source": [
    "### 市场换手率 TURN\n",
    "TradingDate [交易日期] -\n",
    "MarketType [市场类型] - 1=上证A股市场；2=上证B股市场；4=深证A股市场；8=深证B股市场；6=主板；5=沪深A股市场；7=中小板；10=沪深B股市场；15=沪深AB股市场；16=创业板；20=深证A股和创业板；21=沪深A股和创业板；31=沪深AB股和创业板；32=科创板；33=上证A股和科创板；37=沪深A股和科创板；47=沪深AB股和科创板；53=沪深A股和创业板和科创板；63=沪深AB股和创业板和科创板；64=北证A股市场；69=沪深京A股市场；79=沪深京AB股市场；85=沪深京A股和创业板；95=沪深京AB股和创业板；101=沪深京A股和科创板；111=沪深京AB股和科创板；117=沪深京A股和创业板和科创板；127=沪深京AB股和创业板和科创板；\n",
    "Parameter [参数值] - 字段说明见说明书“附录 参数说明”\n",
    "Unit [参数单位] -\n",
    "TurnoverRate1 [换手率(总股本)] - 计算公式为：交易量/总股本\n",
    "TurnoverRate2 [换手率(流通股本)] - 计算公式为：交易量/流通股本"
   ],
   "metadata": {
    "collapsed": false
   }
  },
  {
   "cell_type": "code",
   "execution_count": 5,
   "outputs": [
    {
     "data": {
      "text/plain": "                TURN       TURN_MA\nTradingDate                       \n19901219     0.00062          <NA>\n19901220     0.00012          <NA>\n19901221     0.00003          <NA>\n19901224     0.00004          <NA>\n19901225     0.00001          <NA>\n...              ...           ...\n20221215     0.00468  -0.001257842\n20221216     0.00498   -0.00095675\n20221219     0.00538  -0.000556983\n20221220     0.00422  -0.001715833\n20221221     0.00363  -0.002304983\n\n[7821 rows x 2 columns]",
      "text/html": "<div>\n<style scoped>\n    .dataframe tbody tr th:only-of-type {\n        vertical-align: middle;\n    }\n\n    .dataframe tbody tr th {\n        vertical-align: top;\n    }\n\n    .dataframe thead th {\n        text-align: right;\n    }\n</style>\n<table border=\"1\" class=\"dataframe\">\n  <thead>\n    <tr style=\"text-align: right;\">\n      <th></th>\n      <th>TURN</th>\n      <th>TURN_MA</th>\n    </tr>\n    <tr>\n      <th>TradingDate</th>\n      <th></th>\n      <th></th>\n    </tr>\n  </thead>\n  <tbody>\n    <tr>\n      <th>19901219</th>\n      <td>0.00062</td>\n      <td>&lt;NA&gt;</td>\n    </tr>\n    <tr>\n      <th>19901220</th>\n      <td>0.00012</td>\n      <td>&lt;NA&gt;</td>\n    </tr>\n    <tr>\n      <th>19901221</th>\n      <td>0.00003</td>\n      <td>&lt;NA&gt;</td>\n    </tr>\n    <tr>\n      <th>19901224</th>\n      <td>0.00004</td>\n      <td>&lt;NA&gt;</td>\n    </tr>\n    <tr>\n      <th>19901225</th>\n      <td>0.00001</td>\n      <td>&lt;NA&gt;</td>\n    </tr>\n    <tr>\n      <th>...</th>\n      <td>...</td>\n      <td>...</td>\n    </tr>\n    <tr>\n      <th>20221215</th>\n      <td>0.00468</td>\n      <td>-0.001257842</td>\n    </tr>\n    <tr>\n      <th>20221216</th>\n      <td>0.00498</td>\n      <td>-0.00095675</td>\n    </tr>\n    <tr>\n      <th>20221219</th>\n      <td>0.00538</td>\n      <td>-0.000556983</td>\n    </tr>\n    <tr>\n      <th>20221220</th>\n      <td>0.00422</td>\n      <td>-0.001715833</td>\n    </tr>\n    <tr>\n      <th>20221221</th>\n      <td>0.00363</td>\n      <td>-0.002304983</td>\n    </tr>\n  </tbody>\n</table>\n<p>7821 rows × 2 columns</p>\n</div>"
     },
     "execution_count": 5,
     "metadata": {},
     "output_type": "execute_result"
    }
   ],
   "source": [
    "def transform():\n",
    "    \"\"\"\n",
    "    转换函数\n",
    "    \"\"\"\n",
    "    df_turn = pd.concat([pd.read_csv(f'{DATASETS_PATH}QX_TRM.csv'), pd.read_csv(f'{DATASETS_PATH}QX_TRM1.csv')])\n",
    "    df_turn['TradingDate'] = df_turn['TradingDate'].str.replace('-', '').astype('uint32')\n",
    "    df_turn = df_turn.set_index(['TradingDate', 'MarketType']).sort_index()\n",
    "    df_turn.to_parquet(f'{DATASETS_PATH}QX_TRM.parquet')\n",
    "    return df_turn\n",
    "\n",
    "\n",
    "def cal_turn():\n",
    "    \"\"\"\n",
    "    计算换手率\n",
    "    :return:\n",
    "    \"\"\"\n",
    "    \"\"\"\n",
    "    筛选参数\n",
    "    \"\"\"\n",
    "    df = cudf.read_parquet(f'{DATASETS_PATH}QX_TRM.parquet').query(\"MarketType==5&Parameter==1\").sort_index()\n",
    "\n",
    "    \"\"\"\n",
    "    计算滑动指标\n",
    "    \"\"\"\n",
    "    # df['TurnoverRate2_MA'] = df['TurnoverRate2'].rolling(240 * 5).mean()\n",
    "    # df['lnTURN'] = cupy.log((df['TurnoverRate2'].rolling(240 * 5).mean().fillna(1)))\n",
    "    # df['lnTURN'] = cupy.log((df['lnTURN']))\n",
    "    df['TURN_MA'] = (df['TurnoverRate2'] - df['TurnoverRate2'].rolling(240 * 5).mean())\n",
    "\n",
    "    return (\n",
    "            df.reset_index(['MarketType']).rename(columns={'TurnoverRate2': 'TURN'})\n",
    "            [['TURN', 'TURN_MA']]\n",
    "    )\n",
    "\n",
    "\n",
    "cal_turn()"
   ],
   "metadata": {
    "collapsed": false
   }
  },
  {
   "cell_type": "markdown",
   "source": [
    "### IPO股票信息 RIPO,NIPO\n",
    "Symbol [股票代码] -\n",
    "ListedDate [上市日期] -\n",
    "ListedYear [上市年份] -\n",
    "ABSymbol [AB股交叉码] - 指公司同时发行了A和B股的情况\n",
    "HSymbol [H股交叉码] - 指的是公司同时发行了H股的情况\n",
    "EstablishDate [公司成立日期] -\n",
    "IpoDate [首次招股日期] -\n",
    "CompanyListedDate [公司上市日期] -\n",
    "IsIPO [是否首次发行] - A=是；B=否\n",
    "TotalShares [实际发行总量] -\n",
    "IssuePrice [发行价格] -\n",
    "CurrencyCode [发行价格币种] -\n",
    "ClosePrice [上市首日收盘价] -\n",
    "ReturnRate [上市首日回报率] -\n",
    "TurnoverRate1 [上市首日换手率(总股本)] -\n",
    "TurnoverRate2 [上市首日换手率(流通股本)] -\n",
    "PE [上市首日市盈率] -\n",
    "PB [上市首日市净率] -"
   ],
   "metadata": {
    "collapsed": false
   }
  },
  {
   "cell_type": "code",
   "execution_count": 6,
   "outputs": [
    {
     "data": {
      "text/plain": "                   RIPO  NIPO\nListedDate                   \n19901210          0.803     1\n19901219    48.89698229     7\n19910114          14.98     1\n19910129          13.58     1\n19910403          0.225     1\n...                 ...   ...\n20221216      0.1284755     2\n20221221       0.156567     1\n20221222       0.157636     2\n20221223           <NA>     0\n20221226           <NA>     0\n\n[2615 rows x 2 columns]",
      "text/html": "<div>\n<style scoped>\n    .dataframe tbody tr th:only-of-type {\n        vertical-align: middle;\n    }\n\n    .dataframe tbody tr th {\n        vertical-align: top;\n    }\n\n    .dataframe thead th {\n        text-align: right;\n    }\n</style>\n<table border=\"1\" class=\"dataframe\">\n  <thead>\n    <tr style=\"text-align: right;\">\n      <th></th>\n      <th>RIPO</th>\n      <th>NIPO</th>\n    </tr>\n    <tr>\n      <th>ListedDate</th>\n      <th></th>\n      <th></th>\n    </tr>\n  </thead>\n  <tbody>\n    <tr>\n      <th>19901210</th>\n      <td>0.803</td>\n      <td>1</td>\n    </tr>\n    <tr>\n      <th>19901219</th>\n      <td>48.89698229</td>\n      <td>7</td>\n    </tr>\n    <tr>\n      <th>19910114</th>\n      <td>14.98</td>\n      <td>1</td>\n    </tr>\n    <tr>\n      <th>19910129</th>\n      <td>13.58</td>\n      <td>1</td>\n    </tr>\n    <tr>\n      <th>19910403</th>\n      <td>0.225</td>\n      <td>1</td>\n    </tr>\n    <tr>\n      <th>...</th>\n      <td>...</td>\n      <td>...</td>\n    </tr>\n    <tr>\n      <th>20221216</th>\n      <td>0.1284755</td>\n      <td>2</td>\n    </tr>\n    <tr>\n      <th>20221221</th>\n      <td>0.156567</td>\n      <td>1</td>\n    </tr>\n    <tr>\n      <th>20221222</th>\n      <td>0.157636</td>\n      <td>2</td>\n    </tr>\n    <tr>\n      <th>20221223</th>\n      <td>&lt;NA&gt;</td>\n      <td>0</td>\n    </tr>\n    <tr>\n      <th>20221226</th>\n      <td>&lt;NA&gt;</td>\n      <td>0</td>\n    </tr>\n  </tbody>\n</table>\n<p>2615 rows × 2 columns</p>\n</div>"
     },
     "execution_count": 6,
     "metadata": {},
     "output_type": "execute_result"
    }
   ],
   "source": [
    "def cal_ipo():\n",
    "    \"\"\"\n",
    "    计算IPO信息\n",
    "    \"\"\"\n",
    "    df = cudf.read_parquet(f'{DATASETS_PATH}QX_IPO.parquet')\n",
    "\n",
    "    '''\n",
    "    计算平均首日收益\n",
    "    '''\n",
    "    df['DayAvgRR'] = df.groupby(level=['ListedDate'])['ReturnRate'].transform('mean')\n",
    "    df['DayTotalN'] = df.groupby(level=['ListedDate'])['ReturnRate'].transform('count')\n",
    "    df = df.groupby(level=['ListedDate']).first()\n",
    "\n",
    "    return df.rename(columns={'DayAvgRR': 'RIPO', 'DayTotalN': 'NIPO'})[['RIPO', 'NIPO']]\n",
    "\n",
    "\n",
    "cal_ipo()"
   ],
   "metadata": {
    "collapsed": false
   }
  },
  {
   "cell_type": "markdown",
   "source": [
    "## 合成"
   ],
   "metadata": {
    "collapsed": false
   }
  },
  {
   "cell_type": "code",
   "execution_count": 7,
   "outputs": [
    {
     "data": {
      "text/plain": "                      pct_chg  index  trade_year       CEFD      RIPO  NIPO  \\\ntrade_date ts_code                                                            \n20100104   000001.SH  -1.0185   4670        2010 -17.830000  0.000000   0.0   \n20100105   000001.SH   1.1844   4671        2010 -17.840000  0.000000   0.0   \n20100106   000001.SH  -0.8520   4672        2010 -17.720000  0.617127   3.0   \n20100107   000001.SH  -1.8880   4673        2010 -16.870000  0.058932   1.0   \n20100108   000001.SH   0.1009   4674        2010 -17.595926  0.319774   6.0   \n...                       ...    ...         ...        ...       ...   ...   \n20211227   000001.SH  -0.0575   7582        2021  -2.258667  0.079280   1.0   \n20211228   000001.SH   0.3910   7583        2021  -2.880625  0.107463   4.0   \n20211229   000001.SH  -0.9121   7584        2021  -2.787500  0.000000   0.0   \n20211230   000001.SH   0.6169   7585        2021  -3.135625  0.259762   3.0   \n20211231   000001.SH   0.5688   7586        2021   2.008500  0.441176   1.0   \n\n                         TURN   TURN_MA     SR    lnPD  \ntrade_date ts_code                                      \n20100104   000001.SH  0.00710 -0.006496  32.76 -0.3186  \n20100105   000001.SH  0.00819 -0.005408  32.76 -0.3186  \n20100106   000001.SH  0.00802 -0.005580  32.76 -0.3186  \n20100107   000001.SH  0.00834 -0.005263  32.76 -0.3186  \n20100108   000001.SH  0.00643 -0.007174  32.76 -0.3186  \n...                       ...       ...    ...     ...  \n20211227   000001.SH  0.00675  0.001142   6.95 -0.0318  \n20211228   000001.SH  0.00647  0.000860   6.95 -0.0318  \n20211229   000001.SH  0.00624  0.000628   6.95 -0.0318  \n20211230   000001.SH  0.00627  0.000655   6.95 -0.0318  \n20211231   000001.SH  0.00672  0.001102   6.95 -0.0318  \n\n[2917 rows x 10 columns]",
      "text/html": "<div>\n<style scoped>\n    .dataframe tbody tr th:only-of-type {\n        vertical-align: middle;\n    }\n\n    .dataframe tbody tr th {\n        vertical-align: top;\n    }\n\n    .dataframe thead th {\n        text-align: right;\n    }\n</style>\n<table border=\"1\" class=\"dataframe\">\n  <thead>\n    <tr style=\"text-align: right;\">\n      <th></th>\n      <th></th>\n      <th>pct_chg</th>\n      <th>index</th>\n      <th>trade_year</th>\n      <th>CEFD</th>\n      <th>RIPO</th>\n      <th>NIPO</th>\n      <th>TURN</th>\n      <th>TURN_MA</th>\n      <th>SR</th>\n      <th>lnPD</th>\n    </tr>\n    <tr>\n      <th>trade_date</th>\n      <th>ts_code</th>\n      <th></th>\n      <th></th>\n      <th></th>\n      <th></th>\n      <th></th>\n      <th></th>\n      <th></th>\n      <th></th>\n      <th></th>\n      <th></th>\n    </tr>\n  </thead>\n  <tbody>\n    <tr>\n      <th>20100104</th>\n      <th>000001.SH</th>\n      <td>-1.0185</td>\n      <td>4670</td>\n      <td>2010</td>\n      <td>-17.830000</td>\n      <td>0.000000</td>\n      <td>0.0</td>\n      <td>0.00710</td>\n      <td>-0.006496</td>\n      <td>32.76</td>\n      <td>-0.3186</td>\n    </tr>\n    <tr>\n      <th>20100105</th>\n      <th>000001.SH</th>\n      <td>1.1844</td>\n      <td>4671</td>\n      <td>2010</td>\n      <td>-17.840000</td>\n      <td>0.000000</td>\n      <td>0.0</td>\n      <td>0.00819</td>\n      <td>-0.005408</td>\n      <td>32.76</td>\n      <td>-0.3186</td>\n    </tr>\n    <tr>\n      <th>20100106</th>\n      <th>000001.SH</th>\n      <td>-0.8520</td>\n      <td>4672</td>\n      <td>2010</td>\n      <td>-17.720000</td>\n      <td>0.617127</td>\n      <td>3.0</td>\n      <td>0.00802</td>\n      <td>-0.005580</td>\n      <td>32.76</td>\n      <td>-0.3186</td>\n    </tr>\n    <tr>\n      <th>20100107</th>\n      <th>000001.SH</th>\n      <td>-1.8880</td>\n      <td>4673</td>\n      <td>2010</td>\n      <td>-16.870000</td>\n      <td>0.058932</td>\n      <td>1.0</td>\n      <td>0.00834</td>\n      <td>-0.005263</td>\n      <td>32.76</td>\n      <td>-0.3186</td>\n    </tr>\n    <tr>\n      <th>20100108</th>\n      <th>000001.SH</th>\n      <td>0.1009</td>\n      <td>4674</td>\n      <td>2010</td>\n      <td>-17.595926</td>\n      <td>0.319774</td>\n      <td>6.0</td>\n      <td>0.00643</td>\n      <td>-0.007174</td>\n      <td>32.76</td>\n      <td>-0.3186</td>\n    </tr>\n    <tr>\n      <th>...</th>\n      <th>...</th>\n      <td>...</td>\n      <td>...</td>\n      <td>...</td>\n      <td>...</td>\n      <td>...</td>\n      <td>...</td>\n      <td>...</td>\n      <td>...</td>\n      <td>...</td>\n      <td>...</td>\n    </tr>\n    <tr>\n      <th>20211227</th>\n      <th>000001.SH</th>\n      <td>-0.0575</td>\n      <td>7582</td>\n      <td>2021</td>\n      <td>-2.258667</td>\n      <td>0.079280</td>\n      <td>1.0</td>\n      <td>0.00675</td>\n      <td>0.001142</td>\n      <td>6.95</td>\n      <td>-0.0318</td>\n    </tr>\n    <tr>\n      <th>20211228</th>\n      <th>000001.SH</th>\n      <td>0.3910</td>\n      <td>7583</td>\n      <td>2021</td>\n      <td>-2.880625</td>\n      <td>0.107463</td>\n      <td>4.0</td>\n      <td>0.00647</td>\n      <td>0.000860</td>\n      <td>6.95</td>\n      <td>-0.0318</td>\n    </tr>\n    <tr>\n      <th>20211229</th>\n      <th>000001.SH</th>\n      <td>-0.9121</td>\n      <td>7584</td>\n      <td>2021</td>\n      <td>-2.787500</td>\n      <td>0.000000</td>\n      <td>0.0</td>\n      <td>0.00624</td>\n      <td>0.000628</td>\n      <td>6.95</td>\n      <td>-0.0318</td>\n    </tr>\n    <tr>\n      <th>20211230</th>\n      <th>000001.SH</th>\n      <td>0.6169</td>\n      <td>7585</td>\n      <td>2021</td>\n      <td>-3.135625</td>\n      <td>0.259762</td>\n      <td>3.0</td>\n      <td>0.00627</td>\n      <td>0.000655</td>\n      <td>6.95</td>\n      <td>-0.0318</td>\n    </tr>\n    <tr>\n      <th>20211231</th>\n      <th>000001.SH</th>\n      <td>0.5688</td>\n      <td>7586</td>\n      <td>2021</td>\n      <td>2.008500</td>\n      <td>0.441176</td>\n      <td>1.0</td>\n      <td>0.00672</td>\n      <td>0.001102</td>\n      <td>6.95</td>\n      <td>-0.0318</td>\n    </tr>\n  </tbody>\n</table>\n<p>2917 rows × 10 columns</p>\n</div>"
     },
     "execution_count": 7,
     "metadata": {},
     "output_type": "execute_result"
    }
   ],
   "source": [
    "def merge_bw():\n",
    "    \"\"\"\n",
    "    合成函数\n",
    "    \"\"\"\n",
    "    df = cal_cefd().to_pandas().join(cal_ipo().to_pandas(), how='outer').join(cal_turn().to_pandas(), how='outer')\n",
    "    df.index.names = ['trade_date']\n",
    "    df = df.reset_index()\n",
    "\n",
    "    \"\"\"\n",
    "    PD和SR只有年份数据\n",
    "    \"\"\"\n",
    "    df['trade_year'] = (df['trade_date'] // 10000).astype('int64')\n",
    "    df = df.set_index('trade_year').join(cal_sr().to_pandas(), how='outer').join(cal_pd().to_pandas(), how='outer')\n",
    "    df.index.names = ['trade_year']\n",
    "    df = df.reset_index()\n",
    "\n",
    "    \"\"\"\n",
    "    合并股指市场数据\n",
    "    \"\"\"\n",
    "    df = (\n",
    "            pd.merge(\n",
    "                    pd.read_parquet('/data/DataSets/investor_sentiment/IDX_BAR_PANEL.parquet',\n",
    "                                    columns=['ts_code', 'pct_chg']).reset_index(),\n",
    "                    df.reset_index(),\n",
    "                    left_on='trade_date', right_on='trade_date', how='left'\n",
    "            ).set_index(['trade_date', 'ts_code']).sort_index()\n",
    "            .query(\"ts_code=='000001.SH'&20100101<=trade_date<=20211231\")\n",
    "    )\n",
    "\n",
    "    \"\"\"\n",
    "    空值处理,IPO填充0,CEFD用历史数据回填\n",
    "    \"\"\"\n",
    "    df.loc[:, ['RIPO', 'NIPO']] = df.loc[:, ['RIPO', 'NIPO']].fillna(value=0)\n",
    "    df.loc[:, ['CEFD']] = df.loc[:, ['CEFD']].fillna(method=\"ffill\")\n",
    "\n",
    "    return df\n",
    "\n",
    "\n",
    "df_pca = merge_bw()\n",
    "df_pca.to_csv('/home/ubuntu/notebooks/DataSets/BW_INDEX_CSMAR/BW_5_CSMAR/BW6.csv')\n",
    "df_pca"
   ],
   "metadata": {
    "collapsed": false
   }
  },
  {
   "cell_type": "code",
   "execution_count": 8,
   "outputs": [],
   "source": [
    "# @formatter:off"
   ],
   "metadata": {
    "collapsed": false
   }
  },
  {
   "cell_type": "code",
   "execution_count": 16,
   "outputs": [
    {
     "name": "stdout",
     "output_type": "stream",
     "text": [
      "\n",
      ". /*主成分分析*/\n",
      ". pca CEFD RIPO NIPO TURN SR lnPD, means\n",
      "\n",
      "Principal components/correlation                 Number of obs    =      2,917\n",
      "                                                 Number of comp.  =          6\n",
      "                                                 Trace            =          6\n",
      "    Rotation: (unrotated = principal)            Rho              =     1.0000\n",
      "\n",
      "    --------------------------------------------------------------------------\n",
      "       Component |   Eigenvalue   Difference         Proportion   Cumulative\n",
      "    -------------+------------------------------------------------------------\n",
      "           Comp1 |      2.15079      .953806             0.3585       0.3585\n",
      "           Comp2 |      1.19698      .101253             0.1995       0.5580\n",
      "           Comp3 |      1.09573      .367286             0.1826       0.7406\n",
      "           Comp4 |      .728445      .134371             0.1214       0.8620\n",
      "           Comp5 |      .594074      .360099             0.0990       0.9610\n",
      "           Comp6 |      .233975            .             0.0390       1.0000\n",
      "    --------------------------------------------------------------------------\n",
      "\n",
      "Principal components (eigenvectors) \n",
      "\n",
      "    --------------------------------------------------------------------------\n",
      "        Variable |    Comp1     Comp2     Comp3     Comp4     Comp5     Comp6 \n",
      "    -------------+------------------------------------------------------------\n",
      "            CEFD |   0.2638   -0.2224    0.6408    0.6821    0.0549   -0.0454 \n",
      "            RIPO |   0.4608    0.3345    0.0951   -0.2277    0.7777   -0.1002 \n",
      "            NIPO |   0.2811    0.5199    0.4644   -0.3371   -0.5583   -0.0984 \n",
      "            TURN |  -0.0036    0.6913   -0.3838    0.5993   -0.0586    0.1103 \n",
      "              SR |  -0.5328    0.2227    0.4195   -0.0900    0.2268    0.6565 \n",
      "            lnPD |   0.5960   -0.2022   -0.2035   -0.0438   -0.1599    0.7315 \n",
      "    --------------------------------------------------------------------------\n",
      "\n",
      "    ---------------------------\n",
      "        Variable | Unexplained \n",
      "    -------------+-------------\n",
      "            CEFD |           0 \n",
      "            RIPO |           0 \n",
      "            NIPO |           0 \n",
      "            TURN |           0 \n",
      "              SR |           0 \n",
      "            lnPD |           0 \n",
      "    ---------------------------\n",
      "\n",
      "Summary statistics of the variables\n",
      "\n",
      "  -------------------------------------------------------------------\n",
      "      Variable |         Mean      Std. dev.         Min          Max\n",
      "  -------------+-----------------------------------------------------\n",
      "          CEFD |    -9.066944      4.697672       -21.36      15.7225\n",
      "          RIPO |      .335359      .7588905     -.202256     19.42581\n",
      "          NIPO |     1.027425      1.566518            0           25\n",
      "          TURN |     .0057862      .0034802       .00166       .02701\n",
      "            SR |     16.77931      8.833098         6.23        32.76\n",
      "          lnPD |    -.1945728      .0995059       -.3537        -.027\n",
      "  -------------------------------------------------------------------\n",
      "\n",
      ". \n"
     ]
    }
   ],
   "source": [
    "%%stata -d df_pca -force\n",
    "/*主成分分析*/\n",
    "\n",
    "/*主成分分析*/\n",
    "pca CEFD RIPO NIPO TURN SR lnPD, means"
   ],
   "metadata": {
    "collapsed": false
   }
  },
  {
   "cell_type": "code",
   "execution_count": 10,
   "outputs": [],
   "source": [
    "# @formatter:on"
   ],
   "metadata": {
    "collapsed": false
   }
  }
 ],
 "metadata": {
  "kernelspec": {
   "name": "pytorch",
   "language": "python",
   "display_name": "Rapids"
  },
  "language_info": {
   "codemirror_mode": {
    "name": "ipython",
    "version": 2
   },
   "file_extension": ".py",
   "mimetype": "text/x-python",
   "name": "python",
   "nbconvert_exporter": "python",
   "pygments_lexer": "ipython2",
   "version": "2.7.6"
  }
 },
 "nbformat": 4,
 "nbformat_minor": 0
}
