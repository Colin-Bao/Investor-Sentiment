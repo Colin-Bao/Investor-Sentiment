{
 "cells": [
  {
   "cell_type": "markdown",
   "source": [
    "# 股价预测专题"
   ],
   "metadata": {
    "collapsed": false
   }
  },
  {
   "cell_type": "code",
   "execution_count": 1,
   "outputs": [
    {
     "name": "stderr",
     "output_type": "stream",
     "text": [
      "2023-03-11 17:03:28.792299: I tensorflow/core/util/util.cc:169] oneDNN custom operations are on. You may see slightly different numerical results due to floating-point round-off errors from different computation orders. To turn them off, set the environment variable `TF_ENABLE_ONEDNN_OPTS=0`.\n"
     ]
    }
   ],
   "source": [
    "# 必要的库\n",
    "import sys\n",
    "import numpy as np\n",
    "import matplotlib.pyplot as plt\n",
    "import pandas as pd\n",
    "from sklearn.metrics import mean_squared_error\n",
    "from keras.models import Sequential\n",
    "from keras.layers.core import Dense, Dropout, Activation\n",
    "from keras.layers import LSTM\n",
    "from sklearn.preprocessing import MinMaxScaler  # 进行归一化操作\n",
    "\n",
    "# 自行编写的包\n",
    "sys.path.append('/home/ubuntu/notebooks/pycharm_projects/Investor-Sentiment')\n"
   ],
   "metadata": {
    "collapsed": false
   }
  },
  {
   "cell_type": "markdown",
   "source": [
    "## 数据准备"
   ],
   "metadata": {
    "collapsed": false
   }
  },
  {
   "cell_type": "markdown",
   "source": [
    "### 参数区"
   ],
   "metadata": {
    "collapsed": false
   }
  },
  {
   "cell_type": "code",
   "execution_count": 2,
   "outputs": [],
   "source": [
    "# 特征工程和数据集\n",
    "# factor_column = ['close', 'img_neg', 'tex_neg', 'SENT_INDEX', 'SENT_INDEX_R']\n",
    "factor_column = ['close']\n",
    "df_data = pd.read_csv('/data/DataSets/investor_sentiment/FINAL_DATA_2014_2021.csv', usecols=factor_column)\n",
    "\n",
    "# 参数区\n",
    "TIME_STEPS = 30  # 时间窗\n",
    "BATCH_SIZE = 1024\n",
    "EPOCHS = 100\n",
    "amount_of_features = len(factor_column)  # 特征\n",
    "train_size, val_size = int(len(df_data) * 0.6), int(len(df_data) * 0.8)  #训练集,测试集"
   ],
   "metadata": {
    "collapsed": false
   }
  },
  {
   "cell_type": "markdown",
   "source": [
    "### 数据集转换"
   ],
   "metadata": {
    "collapsed": false
   }
  },
  {
   "cell_type": "code",
   "execution_count": 3,
   "outputs": [
    {
     "data": {
      "text/plain": "((1136, 30, 1), (359, 30, 1), (359, 30, 1))"
     },
     "execution_count": 3,
     "metadata": {},
     "output_type": "execute_result"
    }
   ],
   "source": [
    "# 归一化 将数据缩放到 [0, 1] 范围内\n",
    "Scaler = MinMaxScaler()\n",
    "df_std = Scaler.fit_transform(df_data)\n",
    "\n",
    "# 将数据集分为训练集,验证集和测试集\n",
    "train_data, val_data, test_data = df_std[0:train_size, :], df_std[train_size:val_size, :], df_std[val_size:, :]\n",
    "\n",
    "\n",
    "# 将时间序列数据转换为监督学习数据\n",
    "def create_dataset(dataset, look_back):\n",
    "    samples, labels = [], []\n",
    "    for i in range(look_back, len(dataset)):\n",
    "        samples.append(dataset[i - look_back:i])\n",
    "        labels.append(dataset[i, -1])\n",
    "    return np.array(samples), np.array(labels)\n",
    "\n",
    "\n",
    "# 生成训练集和测试集\n",
    "train_X, train_Y = create_dataset(train_data, TIME_STEPS)\n",
    "val_X, val_Y = create_dataset(val_data, TIME_STEPS)\n",
    "test_X, test_Y = create_dataset(test_data, TIME_STEPS)\n",
    "train_X.shape, val_X.shape, test_X.shape  # [样本数, 时间步数, 特征数]"
   ],
   "metadata": {
    "collapsed": false
   }
  },
  {
   "cell_type": "markdown",
   "source": [
    "## 模型构建"
   ],
   "metadata": {
    "collapsed": false
   }
  },
  {
   "cell_type": "code",
   "execution_count": 4,
   "outputs": [
    {
     "name": "stderr",
     "output_type": "stream",
     "text": [
      "2023-03-11 17:03:30.151243: I tensorflow/stream_executor/cuda/cuda_gpu_executor.cc:975] successful NUMA node read from SysFS had negative value (-1), but there must be at least one NUMA node, so returning NUMA node zero\n",
      "2023-03-11 17:03:30.159669: I tensorflow/stream_executor/cuda/cuda_gpu_executor.cc:975] successful NUMA node read from SysFS had negative value (-1), but there must be at least one NUMA node, so returning NUMA node zero\n",
      "2023-03-11 17:03:30.161276: I tensorflow/stream_executor/cuda/cuda_gpu_executor.cc:975] successful NUMA node read from SysFS had negative value (-1), but there must be at least one NUMA node, so returning NUMA node zero\n",
      "2023-03-11 17:03:30.163027: I tensorflow/core/platform/cpu_feature_guard.cc:193] This TensorFlow binary is optimized with oneAPI Deep Neural Network Library (oneDNN) to use the following CPU instructions in performance-critical operations:  SSE4.1 SSE4.2 AVX AVX2 AVX512F AVX512_VNNI FMA\n",
      "To enable them in other operations, rebuild TensorFlow with the appropriate compiler flags.\n",
      "2023-03-11 17:03:30.163857: I tensorflow/stream_executor/cuda/cuda_gpu_executor.cc:975] successful NUMA node read from SysFS had negative value (-1), but there must be at least one NUMA node, so returning NUMA node zero\n",
      "2023-03-11 17:03:30.165416: I tensorflow/stream_executor/cuda/cuda_gpu_executor.cc:975] successful NUMA node read from SysFS had negative value (-1), but there must be at least one NUMA node, so returning NUMA node zero\n",
      "2023-03-11 17:03:30.166939: I tensorflow/stream_executor/cuda/cuda_gpu_executor.cc:975] successful NUMA node read from SysFS had negative value (-1), but there must be at least one NUMA node, so returning NUMA node zero\n",
      "2023-03-11 17:03:30.958587: I tensorflow/stream_executor/cuda/cuda_gpu_executor.cc:975] successful NUMA node read from SysFS had negative value (-1), but there must be at least one NUMA node, so returning NUMA node zero\n",
      "2023-03-11 17:03:30.960138: I tensorflow/stream_executor/cuda/cuda_gpu_executor.cc:975] successful NUMA node read from SysFS had negative value (-1), but there must be at least one NUMA node, so returning NUMA node zero\n",
      "2023-03-11 17:03:30.961603: I tensorflow/stream_executor/cuda/cuda_gpu_executor.cc:975] successful NUMA node read from SysFS had negative value (-1), but there must be at least one NUMA node, so returning NUMA node zero\n",
      "2023-03-11 17:03:30.963027: I tensorflow/core/common_runtime/gpu/gpu_device.cc:1532] Created device /job:localhost/replica:0/task:0/device:GPU:0 with 30964 MB memory:  -> device: 0, name: Tesla V100-SXM2-32GB, pci bus id: 0000:00:09.0, compute capability: 7.0\n"
     ]
    },
    {
     "name": "stdout",
     "output_type": "stream",
     "text": [
      "Model: \"sequential\"\n",
      "_________________________________________________________________\n",
      " Layer (type)                Output Shape              Param #   \n",
      "=================================================================\n",
      " lstm (LSTM)                 (None, 30, 64)            16896     \n",
      "                                                                 \n",
      " dropout (Dropout)           (None, 30, 64)            0         \n",
      "                                                                 \n",
      " lstm_1 (LSTM)               (None, 30, 64)            33024     \n",
      "                                                                 \n",
      " dropout_1 (Dropout)         (None, 30, 64)            0         \n",
      "                                                                 \n",
      " lstm_2 (LSTM)               (None, 30, 64)            33024     \n",
      "                                                                 \n",
      " dropout_2 (Dropout)         (None, 30, 64)            0         \n",
      "                                                                 \n",
      " lstm_3 (LSTM)               (None, 64)                33024     \n",
      "                                                                 \n",
      " dropout_3 (Dropout)         (None, 64)                0         \n",
      "                                                                 \n",
      " dense (Dense)               (None, 1)                 65        \n",
      "                                                                 \n",
      "=================================================================\n",
      "Total params: 116,033\n",
      "Trainable params: 116,033\n",
      "Non-trainable params: 0\n",
      "_________________________________________________________________\n"
     ]
    }
   ],
   "source": [
    "# 构建LSTM模型\n",
    "model = Sequential([\n",
    "        LSTM(units=64, input_shape=(TIME_STEPS, amount_of_features), return_sequences=True),\n",
    "        Dropout(0.2),\n",
    "        LSTM(units=64, return_sequences=True),\n",
    "        Dropout(0.2),\n",
    "        LSTM(units=64, return_sequences=True),\n",
    "        Dropout(0.2),\n",
    "        LSTM(units=64),\n",
    "        Dropout(0.2),\n",
    "        Dense(1)\n",
    "])\n",
    "\n",
    "# 编译模型\n",
    "model.compile(optimizer='adam', loss='mse')\n",
    "model.summary()"
   ],
   "metadata": {
    "collapsed": false
   }
  },
  {
   "cell_type": "markdown",
   "source": [
    "## 模型训练"
   ],
   "metadata": {
    "collapsed": false
   }
  },
  {
   "cell_type": "code",
   "execution_count": 5,
   "outputs": [
    {
     "name": "stdout",
     "output_type": "stream",
     "text": [
      "Epoch 1/100\n"
     ]
    },
    {
     "name": "stderr",
     "output_type": "stream",
     "text": [
      "2023-03-11 17:03:36.893349: I tensorflow/stream_executor/cuda/cuda_dnn.cc:384] Loaded cuDNN version 8401\n",
      "Could not load symbol cublasGetSmCountTarget from libcublas.so.11. Error: /usr/local/miniconda3/envs/Rapids/lib/python3.9/site-packages/tensorflow/python/../../../../libcublas.so.11: undefined symbol: cublasGetSmCountTarget\n"
     ]
    },
    {
     "name": "stdout",
     "output_type": "stream",
     "text": [
      "2/2 [==============================] - 6s 1s/step - loss: 0.1456 - val_loss: 0.0285\n",
      "Epoch 2/100\n",
      "2/2 [==============================] - 0s 30ms/step - loss: 0.0550 - val_loss: 0.0089\n",
      "Epoch 3/100\n",
      "2/2 [==============================] - 0s 29ms/step - loss: 0.0167 - val_loss: 0.0177\n",
      "Epoch 4/100\n",
      "2/2 [==============================] - 0s 27ms/step - loss: 0.0220 - val_loss: 0.0016\n",
      "Epoch 5/100\n",
      "2/2 [==============================] - 0s 27ms/step - loss: 0.0115 - val_loss: 0.0054\n",
      "Epoch 6/100\n",
      "2/2 [==============================] - 0s 28ms/step - loss: 0.0203 - val_loss: 0.0050\n",
      "Epoch 7/100\n",
      "2/2 [==============================] - 0s 30ms/step - loss: 0.0187 - val_loss: 0.0019\n",
      "Epoch 8/100\n",
      "2/2 [==============================] - 0s 31ms/step - loss: 0.0115 - val_loss: 0.0034\n",
      "Epoch 9/100\n",
      "2/2 [==============================] - 0s 32ms/step - loss: 0.0093 - val_loss: 0.0082\n",
      "Epoch 10/100\n",
      "2/2 [==============================] - 0s 29ms/step - loss: 0.0120 - val_loss: 0.0068\n",
      "Epoch 11/100\n",
      "2/2 [==============================] - 0s 27ms/step - loss: 0.0112 - val_loss: 0.0026\n",
      "Epoch 12/100\n",
      "2/2 [==============================] - 0s 29ms/step - loss: 0.0078 - val_loss: 0.0015\n",
      "Epoch 13/100\n",
      "2/2 [==============================] - 0s 29ms/step - loss: 0.0089 - val_loss: 0.0018\n",
      "Epoch 14/100\n",
      "2/2 [==============================] - 0s 32ms/step - loss: 0.0091 - val_loss: 0.0016\n",
      "Epoch 15/100\n",
      "2/2 [==============================] - 0s 30ms/step - loss: 0.0082 - val_loss: 0.0016\n",
      "Epoch 16/100\n",
      "2/2 [==============================] - 0s 30ms/step - loss: 0.0071 - val_loss: 0.0029\n",
      "Epoch 17/100\n",
      "2/2 [==============================] - 0s 30ms/step - loss: 0.0070 - val_loss: 0.0031\n",
      "Epoch 18/100\n",
      "2/2 [==============================] - 0s 29ms/step - loss: 0.0073 - val_loss: 0.0016\n",
      "Epoch 19/100\n",
      "2/2 [==============================] - 0s 30ms/step - loss: 0.0062 - val_loss: 0.0016\n",
      "Epoch 20/100\n",
      "2/2 [==============================] - 0s 29ms/step - loss: 0.0064 - val_loss: 0.0020\n",
      "Epoch 21/100\n",
      "2/2 [==============================] - 0s 31ms/step - loss: 0.0062 - val_loss: 0.0017\n",
      "Epoch 22/100\n",
      "2/2 [==============================] - 0s 31ms/step - loss: 0.0056 - val_loss: 0.0016\n",
      "Epoch 23/100\n",
      "2/2 [==============================] - 0s 31ms/step - loss: 0.0057 - val_loss: 0.0018\n",
      "Epoch 24/100\n",
      "2/2 [==============================] - 0s 28ms/step - loss: 0.0063 - val_loss: 0.0015\n",
      "Epoch 25/100\n",
      "2/2 [==============================] - 0s 27ms/step - loss: 0.0056 - val_loss: 0.0019\n",
      "Epoch 26/100\n",
      "2/2 [==============================] - 0s 29ms/step - loss: 0.0059 - val_loss: 0.0022\n",
      "Epoch 27/100\n",
      "2/2 [==============================] - 0s 29ms/step - loss: 0.0060 - val_loss: 0.0016\n",
      "Epoch 28/100\n",
      "2/2 [==============================] - 0s 32ms/step - loss: 0.0056 - val_loss: 0.0016\n",
      "Epoch 29/100\n",
      "2/2 [==============================] - 0s 30ms/step - loss: 0.0059 - val_loss: 0.0018\n",
      "Epoch 30/100\n",
      "2/2 [==============================] - 0s 58ms/step - loss: 0.0059 - val_loss: 0.0014\n",
      "Epoch 31/100\n",
      "2/2 [==============================] - 0s 29ms/step - loss: 0.0054 - val_loss: 0.0017\n",
      "Epoch 32/100\n",
      "2/2 [==============================] - 0s 30ms/step - loss: 0.0056 - val_loss: 0.0015\n",
      "Epoch 33/100\n",
      "2/2 [==============================] - 0s 30ms/step - loss: 0.0057 - val_loss: 0.0014\n",
      "Epoch 34/100\n",
      "2/2 [==============================] - 0s 31ms/step - loss: 0.0050 - val_loss: 0.0017\n",
      "Epoch 35/100\n",
      "2/2 [==============================] - 0s 33ms/step - loss: 0.0056 - val_loss: 0.0015\n",
      "Epoch 36/100\n",
      "2/2 [==============================] - 0s 30ms/step - loss: 0.0053 - val_loss: 0.0014\n",
      "Epoch 37/100\n",
      "2/2 [==============================] - 0s 31ms/step - loss: 0.0050 - val_loss: 0.0015\n",
      "Epoch 38/100\n",
      "2/2 [==============================] - 0s 30ms/step - loss: 0.0051 - val_loss: 0.0015\n",
      "Epoch 39/100\n",
      "2/2 [==============================] - 0s 29ms/step - loss: 0.0059 - val_loss: 0.0013\n",
      "Epoch 40/100\n",
      "2/2 [==============================] - 0s 28ms/step - loss: 0.0049 - val_loss: 0.0014\n",
      "Epoch 41/100\n",
      "2/2 [==============================] - 0s 29ms/step - loss: 0.0049 - val_loss: 0.0016\n",
      "Epoch 42/100\n",
      "2/2 [==============================] - 0s 31ms/step - loss: 0.0050 - val_loss: 0.0013\n",
      "Epoch 43/100\n",
      "2/2 [==============================] - 0s 31ms/step - loss: 0.0046 - val_loss: 0.0013\n",
      "Epoch 44/100\n",
      "2/2 [==============================] - 0s 32ms/step - loss: 0.0051 - val_loss: 0.0013\n",
      "Epoch 45/100\n",
      "2/2 [==============================] - 0s 29ms/step - loss: 0.0045 - val_loss: 0.0014\n",
      "Epoch 46/100\n",
      "2/2 [==============================] - 0s 31ms/step - loss: 0.0045 - val_loss: 0.0014\n",
      "Epoch 47/100\n",
      "2/2 [==============================] - 0s 29ms/step - loss: 0.0045 - val_loss: 0.0013\n",
      "Epoch 48/100\n",
      "2/2 [==============================] - 0s 30ms/step - loss: 0.0048 - val_loss: 0.0013\n",
      "Epoch 49/100\n",
      "2/2 [==============================] - 0s 28ms/step - loss: 0.0047 - val_loss: 0.0013\n",
      "Epoch 50/100\n",
      "2/2 [==============================] - 0s 31ms/step - loss: 0.0046 - val_loss: 0.0013\n",
      "Epoch 51/100\n",
      "2/2 [==============================] - 0s 30ms/step - loss: 0.0044 - val_loss: 0.0013\n",
      "Epoch 52/100\n",
      "2/2 [==============================] - 0s 29ms/step - loss: 0.0044 - val_loss: 0.0014\n",
      "Epoch 53/100\n",
      "2/2 [==============================] - 0s 29ms/step - loss: 0.0043 - val_loss: 0.0013\n",
      "Epoch 54/100\n",
      "2/2 [==============================] - 0s 32ms/step - loss: 0.0044 - val_loss: 0.0015\n",
      "Epoch 55/100\n",
      "2/2 [==============================] - 0s 31ms/step - loss: 0.0043 - val_loss: 0.0013\n",
      "Epoch 56/100\n",
      "2/2 [==============================] - 0s 29ms/step - loss: 0.0043 - val_loss: 0.0013\n",
      "Epoch 57/100\n",
      "2/2 [==============================] - 0s 29ms/step - loss: 0.0044 - val_loss: 0.0012\n",
      "Epoch 58/100\n",
      "2/2 [==============================] - 0s 29ms/step - loss: 0.0041 - val_loss: 0.0014\n",
      "Epoch 59/100\n",
      "2/2 [==============================] - 0s 32ms/step - loss: 0.0044 - val_loss: 0.0017\n",
      "Epoch 60/100\n",
      "2/2 [==============================] - 0s 28ms/step - loss: 0.0043 - val_loss: 0.0011\n",
      "Epoch 61/100\n",
      "2/2 [==============================] - 0s 30ms/step - loss: 0.0044 - val_loss: 0.0015\n",
      "Epoch 62/100\n",
      "2/2 [==============================] - 0s 28ms/step - loss: 0.0046 - val_loss: 0.0011\n",
      "Epoch 63/100\n",
      "2/2 [==============================] - 0s 27ms/step - loss: 0.0039 - val_loss: 0.0016\n",
      "Epoch 64/100\n",
      "2/2 [==============================] - 0s 29ms/step - loss: 0.0045 - val_loss: 0.0011\n",
      "Epoch 65/100\n",
      "2/2 [==============================] - 0s 28ms/step - loss: 0.0040 - val_loss: 0.0012\n",
      "Epoch 66/100\n",
      "2/2 [==============================] - 0s 31ms/step - loss: 0.0041 - val_loss: 0.0012\n",
      "Epoch 67/100\n",
      "2/2 [==============================] - 0s 31ms/step - loss: 0.0041 - val_loss: 0.0016\n",
      "Epoch 68/100\n",
      "2/2 [==============================] - 0s 28ms/step - loss: 0.0042 - val_loss: 0.0011\n",
      "Epoch 69/100\n",
      "2/2 [==============================] - 0s 28ms/step - loss: 0.0039 - val_loss: 0.0011\n",
      "Epoch 70/100\n",
      "2/2 [==============================] - 0s 27ms/step - loss: 0.0036 - val_loss: 0.0012\n",
      "Epoch 71/100\n",
      "2/2 [==============================] - 0s 28ms/step - loss: 0.0033 - val_loss: 0.0013\n",
      "Epoch 72/100\n",
      "2/2 [==============================] - 0s 29ms/step - loss: 0.0041 - val_loss: 0.0011\n",
      "Epoch 73/100\n",
      "2/2 [==============================] - 0s 30ms/step - loss: 0.0036 - val_loss: 0.0011\n",
      "Epoch 74/100\n",
      "2/2 [==============================] - 0s 28ms/step - loss: 0.0038 - val_loss: 0.0012\n",
      "Epoch 75/100\n",
      "2/2 [==============================] - 0s 27ms/step - loss: 0.0034 - val_loss: 0.0012\n",
      "Epoch 76/100\n",
      "2/2 [==============================] - 0s 27ms/step - loss: 0.0033 - val_loss: 0.0010\n",
      "Epoch 77/100\n",
      "2/2 [==============================] - 0s 27ms/step - loss: 0.0037 - val_loss: 0.0010\n",
      "Epoch 78/100\n",
      "2/2 [==============================] - 0s 29ms/step - loss: 0.0033 - val_loss: 0.0011\n",
      "Epoch 79/100\n",
      "2/2 [==============================] - 0s 31ms/step - loss: 0.0037 - val_loss: 0.0010\n",
      "Epoch 80/100\n",
      "2/2 [==============================] - 0s 28ms/step - loss: 0.0036 - val_loss: 0.0010\n",
      "Epoch 81/100\n",
      "2/2 [==============================] - 0s 30ms/step - loss: 0.0034 - val_loss: 0.0012\n",
      "Epoch 82/100\n",
      "2/2 [==============================] - 0s 29ms/step - loss: 0.0035 - val_loss: 0.0011\n",
      "Epoch 83/100\n",
      "2/2 [==============================] - 0s 29ms/step - loss: 0.0034 - val_loss: 0.0011\n",
      "Epoch 84/100\n",
      "2/2 [==============================] - 0s 27ms/step - loss: 0.0031 - val_loss: 0.0010\n",
      "Epoch 85/100\n",
      "2/2 [==============================] - 0s 28ms/step - loss: 0.0034 - val_loss: 0.0010\n",
      "Epoch 86/100\n",
      "2/2 [==============================] - 0s 28ms/step - loss: 0.0036 - val_loss: 0.0012\n",
      "Epoch 87/100\n",
      "2/2 [==============================] - 0s 30ms/step - loss: 0.0034 - val_loss: 0.0012\n",
      "Epoch 88/100\n",
      "2/2 [==============================] - 0s 29ms/step - loss: 0.0032 - val_loss: 0.0011\n",
      "Epoch 89/100\n",
      "2/2 [==============================] - 0s 28ms/step - loss: 0.0035 - val_loss: 0.0010\n",
      "Epoch 90/100\n",
      "2/2 [==============================] - 0s 30ms/step - loss: 0.0034 - val_loss: 0.0012\n",
      "Epoch 91/100\n",
      "2/2 [==============================] - 0s 32ms/step - loss: 0.0030 - val_loss: 0.0010\n",
      "Epoch 92/100\n",
      "2/2 [==============================] - 0s 29ms/step - loss: 0.0031 - val_loss: 9.8119e-04\n",
      "Epoch 93/100\n",
      "2/2 [==============================] - 0s 32ms/step - loss: 0.0031 - val_loss: 0.0012\n",
      "Epoch 94/100\n",
      "2/2 [==============================] - 0s 30ms/step - loss: 0.0032 - val_loss: 9.7701e-04\n",
      "Epoch 95/100\n",
      "2/2 [==============================] - 0s 31ms/step - loss: 0.0031 - val_loss: 9.5605e-04\n",
      "Epoch 96/100\n",
      "2/2 [==============================] - 0s 29ms/step - loss: 0.0030 - val_loss: 0.0012\n",
      "Epoch 97/100\n",
      "2/2 [==============================] - 0s 29ms/step - loss: 0.0033 - val_loss: 9.9664e-04\n",
      "Epoch 98/100\n",
      "2/2 [==============================] - 0s 29ms/step - loss: 0.0033 - val_loss: 9.5760e-04\n",
      "Epoch 99/100\n",
      "2/2 [==============================] - 0s 29ms/step - loss: 0.0032 - val_loss: 0.0011\n",
      "Epoch 100/100\n",
      "2/2 [==============================] - 0s 28ms/step - loss: 0.0031 - val_loss: 0.0012\n"
     ]
    }
   ],
   "source": [
    "# 训练模型\n",
    "history = model.fit(train_X, train_Y, epochs=EPOCHS, batch_size=BATCH_SIZE, validation_data=(val_X, val_Y))"
   ],
   "metadata": {
    "collapsed": false
   }
  },
  {
   "cell_type": "code",
   "execution_count": 6,
   "outputs": [
    {
     "name": "stdout",
     "output_type": "stream",
     "text": [
      "12/12 [==============================] - 1s 3ms/step\n"
     ]
    },
    {
     "data": {
      "text/plain": "<matplotlib.legend.Legend at 0x7faa20717220>"
     },
     "execution_count": 6,
     "metadata": {},
     "output_type": "execute_result"
    },
    {
     "data": {
      "text/plain": "<Figure size 640x480 with 1 Axes>",
      "image/png": "[encoded data removed]"
     },
     "metadata": {},
     "output_type": "display_data"
    }
   ],
   "source": [
    "# 预测\n",
    "pred_Y = model.predict(test_X)\n",
    "\n",
    "# 反缩放预测结果\n",
    "pred_Y_sc = Scaler.inverse_transform(pred_Y.reshape(-1, 1))\n",
    "test_Y_sc = Scaler.inverse_transform(test_Y.reshape(-1, 1))\n",
    "\n",
    "plt.plot(test_Y_sc, label='True')\n",
    "plt.plot(pred_Y_sc, label='Predictions')\n",
    "plt.legend()"
   ],
   "metadata": {
    "collapsed": false
   }
  },
  {
   "cell_type": "code",
   "execution_count": 6,
   "outputs": [],
   "source": [],
   "metadata": {
    "collapsed": false
   }
  }
 ],
 "metadata": {
  "kernelspec": {
   "name": "pytorch",
   "language": "python",
   "display_name": "Rapids"
  },
  "language_info": {
   "codemirror_mode": {
    "name": "ipython",
    "version": 2
   },
   "file_extension": ".py",
   "mimetype": "text/x-python",
   "name": "python",
   "nbconvert_exporter": "python",
   "pygments_lexer": "ipython2",
   "version": "2.7.6"
  }
 },
 "nbformat": 4,
 "nbformat_minor": 0
}
