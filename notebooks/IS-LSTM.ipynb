{
 "cells": [
  {
   "cell_type": "markdown",
   "source": [
    "# 股价预测专题"
   ],
   "metadata": {
    "collapsed": false
   }
  },
  {
   "cell_type": "code",
   "execution_count": 1,
   "outputs": [
    {
     "name": "stderr",
     "output_type": "stream",
     "text": [
      "2023-03-12 05:12:07.468041: I tensorflow/core/util/util.cc:169] oneDNN custom operations are on. You may see slightly different numerical results due to floating-point round-off errors from different computation orders. To turn them off, set the environment variable `TF_ENABLE_ONEDNN_OPTS=0`.\n"
     ]
    }
   ],
   "source": [
    "# 必要的库\n",
    "import sys\n",
    "import numpy as np\n",
    "import matplotlib.pyplot as plt\n",
    "import pandas as pd\n",
    "from sklearn.metrics import mean_squared_error\n",
    "from keras.models import Sequential\n",
    "from keras.layers.core import Dense, Dropout, Activation\n",
    "from keras.layers import LSTM\n",
    "from sklearn.preprocessing import MinMaxScaler  # 进行归一化操作\n",
    "\n",
    "# 自行编写的包\n",
    "sys.path.append('/home/ubuntu/notebooks/pycharm_projects/Investor-Sentiment')\n"
   ],
   "metadata": {
    "collapsed": false
   }
  },
  {
   "cell_type": "markdown",
   "source": [
    "## 数据准备"
   ],
   "metadata": {
    "collapsed": false
   }
  },
  {
   "cell_type": "markdown",
   "source": [
    "### 参数区"
   ],
   "metadata": {
    "collapsed": false
   }
  },
  {
   "cell_type": "code",
   "execution_count": 2,
   "outputs": [],
   "source": [
    "# 特征工程和数据集\n",
    "factor_column = ['close', 'img_neg', 'tex_neg', 'SENT_INDEX', 'SENT_INDEX_R']\n",
    "# factor_column = ['close']\n",
    "df_data = pd.read_csv('/data/DataSets/investor_sentiment/FINAL_DATA_2014_2021.csv', usecols=factor_column)\n",
    "df_data = df_data[factor_column]  #第一个是标签\n",
    "\n",
    "# 参数区\n",
    "TIME_STEPS = 1  # 时间窗\n",
    "FORECAST_STEPS = 5  # 未来步长\n",
    "BATCH_SIZE = 1024\n",
    "EPOCHS = 100\n",
    "FEATURES = len(factor_column)  # 特征\n",
    "train_size, val_size = int(len(df_data) * 0.6), int(len(df_data) * 0.8)  #训练集,测试集"
   ],
   "metadata": {
    "collapsed": false
   }
  },
  {
   "cell_type": "code",
   "execution_count": 3,
   "outputs": [
    {
     "data": {
      "text/plain": "          close   img_neg   tex_neg  SENT_INDEX  SENT_INDEX_R\n0     2900.6300  0.000000  0.000000   -0.932715     -1.191905\n1     2874.3200  0.000000  0.333333   -0.928031     -1.182604\n2     2803.2900  0.285714  0.142857   -0.917702     -1.175354\n3     2814.1000  0.000000  0.333333   -0.914326     -1.172984\n4     2825.8200  0.333333  0.000000   -0.931606     -1.185114\n...         ...       ...       ...         ...           ...\n1939  5897.1579  0.220339  0.152542    0.597233      0.390557\n1940  5939.4153  0.047619  0.238095    1.426782      1.186737\n1941  5885.3073  0.250000  0.350000    0.202870      0.013389\n1942  5935.2719  0.388889  0.277778    1.203630      0.972127\n1943  5969.8001  0.142857  0.047619    0.902235      0.720920\n\n[1944 rows x 5 columns]",
      "text/html": "<div>\n<style scoped>\n    .dataframe tbody tr th:only-of-type {\n        vertical-align: middle;\n    }\n\n    .dataframe tbody tr th {\n        vertical-align: top;\n    }\n\n    .dataframe thead th {\n        text-align: right;\n    }\n</style>\n<table border=\"1\" class=\"dataframe\">\n  <thead>\n    <tr style=\"text-align: right;\">\n      <th></th>\n      <th>close</th>\n      <th>img_neg</th>\n      <th>tex_neg</th>\n      <th>SENT_INDEX</th>\n      <th>SENT_INDEX_R</th>\n    </tr>\n  </thead>\n  <tbody>\n    <tr>\n      <th>0</th>\n      <td>2900.6300</td>\n      <td>0.000000</td>\n      <td>0.000000</td>\n      <td>-0.932715</td>\n      <td>-1.191905</td>\n    </tr>\n    <tr>\n      <th>1</th>\n      <td>2874.3200</td>\n      <td>0.000000</td>\n      <td>0.333333</td>\n      <td>-0.928031</td>\n      <td>-1.182604</td>\n    </tr>\n    <tr>\n      <th>2</th>\n      <td>2803.2900</td>\n      <td>0.285714</td>\n      <td>0.142857</td>\n      <td>-0.917702</td>\n      <td>-1.175354</td>\n    </tr>\n    <tr>\n      <th>3</th>\n      <td>2814.1000</td>\n      <td>0.000000</td>\n      <td>0.333333</td>\n      <td>-0.914326</td>\n      <td>-1.172984</td>\n    </tr>\n    <tr>\n      <th>4</th>\n      <td>2825.8200</td>\n      <td>0.333333</td>\n      <td>0.000000</td>\n      <td>-0.931606</td>\n      <td>-1.185114</td>\n    </tr>\n    <tr>\n      <th>...</th>\n      <td>...</td>\n      <td>...</td>\n      <td>...</td>\n      <td>...</td>\n      <td>...</td>\n    </tr>\n    <tr>\n      <th>1939</th>\n      <td>5897.1579</td>\n      <td>0.220339</td>\n      <td>0.152542</td>\n      <td>0.597233</td>\n      <td>0.390557</td>\n    </tr>\n    <tr>\n      <th>1940</th>\n      <td>5939.4153</td>\n      <td>0.047619</td>\n      <td>0.238095</td>\n      <td>1.426782</td>\n      <td>1.186737</td>\n    </tr>\n    <tr>\n      <th>1941</th>\n      <td>5885.3073</td>\n      <td>0.250000</td>\n      <td>0.350000</td>\n      <td>0.202870</td>\n      <td>0.013389</td>\n    </tr>\n    <tr>\n      <th>1942</th>\n      <td>5935.2719</td>\n      <td>0.388889</td>\n      <td>0.277778</td>\n      <td>1.203630</td>\n      <td>0.972127</td>\n    </tr>\n    <tr>\n      <th>1943</th>\n      <td>5969.8001</td>\n      <td>0.142857</td>\n      <td>0.047619</td>\n      <td>0.902235</td>\n      <td>0.720920</td>\n    </tr>\n  </tbody>\n</table>\n<p>1944 rows × 5 columns</p>\n</div>"
     },
     "execution_count": 3,
     "metadata": {},
     "output_type": "execute_result"
    }
   ],
   "source": [
    "df_data"
   ],
   "metadata": {
    "collapsed": false
   }
  },
  {
   "cell_type": "markdown",
   "source": [
    "### 数据集转换"
   ],
   "metadata": {
    "collapsed": false
   }
  },
  {
   "cell_type": "code",
   "execution_count": 4,
   "outputs": [
    {
     "data": {
      "text/plain": "((384, 1, 5), (384, 5))"
     },
     "execution_count": 4,
     "metadata": {},
     "output_type": "execute_result"
    }
   ],
   "source": [
    "# 归一化 将数据缩放到 [0, 1] 范围内\n",
    "Scaler = MinMaxScaler()\n",
    "df_std = Scaler.fit_transform(df_data)\n",
    "\n",
    "# 将数据集分为训练集,验证集和测试集\n",
    "train_data, val_data, test_data = df_std[0:train_size, :], df_std[train_size:val_size, :], df_std[val_size:, :]\n",
    "\n",
    "\n",
    "# 将时间序列数据转换为监督学习数据\n",
    "def create_dataset(dataset, look_back=TIME_STEPS, forecast=FORECAST_STEPS):\n",
    "    x, y = [], []\n",
    "    for i in range(len(dataset) - look_back - forecast + 1):\n",
    "        x.append(dataset[i:(i + look_back), :])  # 已经包含了过去的数据\n",
    "        y.append(dataset[(i + look_back):(i + look_back + forecast), 0])  #第一个是标签\n",
    "    return np.array(x), np.array(y)\n",
    "\n",
    "\n",
    "# 生成训练集和测试集\n",
    "train_X, train_Y = create_dataset(train_data, TIME_STEPS)\n",
    "val_X, val_Y = create_dataset(val_data, TIME_STEPS)\n",
    "test_X, test_Y = create_dataset(test_data, TIME_STEPS)\n",
    "test_X.shape, test_Y.shape,  # [样本数, 时间步数, 特征数]"
   ],
   "metadata": {
    "collapsed": false
   }
  },
  {
   "cell_type": "markdown",
   "source": [
    "## 模型构建"
   ],
   "metadata": {
    "collapsed": false
   }
  },
  {
   "cell_type": "code",
   "execution_count": 5,
   "outputs": [
    {
     "name": "stderr",
     "output_type": "stream",
     "text": [
      "2023-03-12 05:12:08.781063: I tensorflow/stream_executor/cuda/cuda_gpu_executor.cc:975] successful NUMA node read from SysFS had negative value (-1), but there must be at least one NUMA node, so returning NUMA node zero\n",
      "2023-03-12 05:12:08.788105: I tensorflow/stream_executor/cuda/cuda_gpu_executor.cc:975] successful NUMA node read from SysFS had negative value (-1), but there must be at least one NUMA node, so returning NUMA node zero\n",
      "2023-03-12 05:12:08.789664: I tensorflow/stream_executor/cuda/cuda_gpu_executor.cc:975] successful NUMA node read from SysFS had negative value (-1), but there must be at least one NUMA node, so returning NUMA node zero\n",
      "2023-03-12 05:12:08.791805: I tensorflow/core/platform/cpu_feature_guard.cc:193] This TensorFlow binary is optimized with oneAPI Deep Neural Network Library (oneDNN) to use the following CPU instructions in performance-critical operations:  SSE4.1 SSE4.2 AVX AVX2 AVX512F AVX512_VNNI FMA\n",
      "To enable them in other operations, rebuild TensorFlow with the appropriate compiler flags.\n",
      "2023-03-12 05:12:08.792584: I tensorflow/stream_executor/cuda/cuda_gpu_executor.cc:975] successful NUMA node read from SysFS had negative value (-1), but there must be at least one NUMA node, so returning NUMA node zero\n",
      "2023-03-12 05:12:08.794227: I tensorflow/stream_executor/cuda/cuda_gpu_executor.cc:975] successful NUMA node read from SysFS had negative value (-1), but there must be at least one NUMA node, so returning NUMA node zero\n",
      "2023-03-12 05:12:08.795726: I tensorflow/stream_executor/cuda/cuda_gpu_executor.cc:975] successful NUMA node read from SysFS had negative value (-1), but there must be at least one NUMA node, so returning NUMA node zero\n",
      "2023-03-12 05:12:09.580888: I tensorflow/stream_executor/cuda/cuda_gpu_executor.cc:975] successful NUMA node read from SysFS had negative value (-1), but there must be at least one NUMA node, so returning NUMA node zero\n",
      "2023-03-12 05:12:09.582527: I tensorflow/stream_executor/cuda/cuda_gpu_executor.cc:975] successful NUMA node read from SysFS had negative value (-1), but there must be at least one NUMA node, so returning NUMA node zero\n",
      "2023-03-12 05:12:09.583986: I tensorflow/stream_executor/cuda/cuda_gpu_executor.cc:975] successful NUMA node read from SysFS had negative value (-1), but there must be at least one NUMA node, so returning NUMA node zero\n",
      "2023-03-12 05:12:09.585386: I tensorflow/core/common_runtime/gpu/gpu_device.cc:1532] Created device /job:localhost/replica:0/task:0/device:GPU:0 with 30964 MB memory:  -> device: 0, name: Tesla V100-SXM2-32GB, pci bus id: 0000:00:09.0, compute capability: 7.0\n"
     ]
    },
    {
     "name": "stdout",
     "output_type": "stream",
     "text": [
      "Model: \"sequential\"\n",
      "_________________________________________________________________\n",
      " Layer (type)                Output Shape              Param #   \n",
      "=================================================================\n",
      " lstm (LSTM)                 (None, 1, 64)             17920     \n",
      "                                                                 \n",
      " dropout (Dropout)           (None, 1, 64)             0         \n",
      "                                                                 \n",
      " lstm_1 (LSTM)               (None, 1, 64)             33024     \n",
      "                                                                 \n",
      " dropout_1 (Dropout)         (None, 1, 64)             0         \n",
      "                                                                 \n",
      " lstm_2 (LSTM)               (None, 1, 64)             33024     \n",
      "                                                                 \n",
      " dropout_2 (Dropout)         (None, 1, 64)             0         \n",
      "                                                                 \n",
      " lstm_3 (LSTM)               (None, 64)                33024     \n",
      "                                                                 \n",
      " dropout_3 (Dropout)         (None, 64)                0         \n",
      "                                                                 \n",
      " dense (Dense)               (None, 5)                 325       \n",
      "                                                                 \n",
      "=================================================================\n",
      "Total params: 117,317\n",
      "Trainable params: 117,317\n",
      "Non-trainable params: 0\n",
      "_________________________________________________________________\n"
     ]
    }
   ],
   "source": [
    "# 构建LSTM模型\n",
    "model = Sequential([\n",
    "        LSTM(units=64, input_shape=(TIME_STEPS, FEATURES), return_sequences=True),\n",
    "        Dropout(0.2),\n",
    "        LSTM(units=64, return_sequences=True),\n",
    "        Dropout(0.2),\n",
    "        LSTM(units=64, return_sequences=True),\n",
    "        Dropout(0.2),\n",
    "        LSTM(units=64),\n",
    "        Dropout(0.2),\n",
    "        Dense(units=FORECAST_STEPS, activation='sigmoid')  #预测步长\n",
    "])\n",
    "\n",
    "# 编译模型\n",
    "model.compile(optimizer='adam', loss='binary_crossentropy', metrics=['accuracy'])\n",
    "model.summary()"
   ],
   "metadata": {
    "collapsed": false
   }
  },
  {
   "cell_type": "markdown",
   "source": [
    "## 模型训练"
   ],
   "metadata": {
    "collapsed": false
   }
  },
  {
   "cell_type": "code",
   "execution_count": 6,
   "outputs": [
    {
     "name": "stdout",
     "output_type": "stream",
     "text": [
      "Epoch 1/100\n"
     ]
    },
    {
     "name": "stderr",
     "output_type": "stream",
     "text": [
      "2023-03-12 05:12:15.404817: I tensorflow/stream_executor/cuda/cuda_dnn.cc:384] Loaded cuDNN version 8401\n",
      "Could not load symbol cublasGetSmCountTarget from libcublas.so.11. Error: /usr/local/miniconda3/envs/Rapids/lib/python3.9/site-packages/tensorflow/python/../../../../libcublas.so.11: undefined symbol: cublasGetSmCountTarget\n"
     ]
    },
    {
     "name": "stdout",
     "output_type": "stream",
     "text": [
      "2/2 - 6s - loss: 0.6931 - accuracy: 0.1895 - val_loss: 0.6921 - val_accuracy: 0.1693 - 6s/epoch - 3s/step\n",
      "Epoch 2/100\n",
      "2/2 - 0s - loss: 0.6924 - accuracy: 0.2308 - val_loss: 0.6910 - val_accuracy: 0.2682 - 32ms/epoch - 16ms/step\n",
      "Epoch 3/100\n",
      "2/2 - 0s - loss: 0.6916 - accuracy: 0.2412 - val_loss: 0.6899 - val_accuracy: 0.3151 - 30ms/epoch - 15ms/step\n",
      "Epoch 4/100\n",
      "2/2 - 0s - loss: 0.6907 - accuracy: 0.2317 - val_loss: 0.6887 - val_accuracy: 0.3203 - 29ms/epoch - 14ms/step\n",
      "Epoch 5/100\n",
      "2/2 - 0s - loss: 0.6899 - accuracy: 0.2394 - val_loss: 0.6875 - val_accuracy: 0.3203 - 29ms/epoch - 14ms/step\n",
      "Epoch 6/100\n",
      "2/2 - 0s - loss: 0.6890 - accuracy: 0.2506 - val_loss: 0.6861 - val_accuracy: 0.3203 - 29ms/epoch - 15ms/step\n",
      "Epoch 7/100\n",
      "2/2 - 0s - loss: 0.6880 - accuracy: 0.2446 - val_loss: 0.6846 - val_accuracy: 0.3203 - 30ms/epoch - 15ms/step\n",
      "Epoch 8/100\n",
      "2/2 - 0s - loss: 0.6869 - accuracy: 0.2351 - val_loss: 0.6830 - val_accuracy: 0.3203 - 30ms/epoch - 15ms/step\n",
      "Epoch 9/100\n",
      "2/2 - 0s - loss: 0.6858 - accuracy: 0.2265 - val_loss: 0.6812 - val_accuracy: 0.3203 - 29ms/epoch - 15ms/step\n",
      "Epoch 10/100\n",
      "2/2 - 0s - loss: 0.6845 - accuracy: 0.2343 - val_loss: 0.6792 - val_accuracy: 0.3203 - 29ms/epoch - 14ms/step\n",
      "Epoch 11/100\n",
      "2/2 - 0s - loss: 0.6831 - accuracy: 0.2291 - val_loss: 0.6771 - val_accuracy: 0.3203 - 29ms/epoch - 14ms/step\n",
      "Epoch 12/100\n",
      "2/2 - 0s - loss: 0.6816 - accuracy: 0.2205 - val_loss: 0.6747 - val_accuracy: 0.3203 - 29ms/epoch - 14ms/step\n",
      "Epoch 13/100\n",
      "2/2 - 0s - loss: 0.6799 - accuracy: 0.2248 - val_loss: 0.6719 - val_accuracy: 0.3203 - 29ms/epoch - 15ms/step\n",
      "Epoch 14/100\n",
      "2/2 - 0s - loss: 0.6780 - accuracy: 0.2274 - val_loss: 0.6688 - val_accuracy: 0.3203 - 28ms/epoch - 14ms/step\n",
      "Epoch 15/100\n",
      "2/2 - 0s - loss: 0.6760 - accuracy: 0.2506 - val_loss: 0.6653 - val_accuracy: 0.3203 - 28ms/epoch - 14ms/step\n",
      "Epoch 16/100\n",
      "2/2 - 0s - loss: 0.6736 - accuracy: 0.2196 - val_loss: 0.6614 - val_accuracy: 0.3203 - 28ms/epoch - 14ms/step\n",
      "Epoch 17/100\n",
      "2/2 - 0s - loss: 0.6710 - accuracy: 0.2455 - val_loss: 0.6568 - val_accuracy: 0.3203 - 29ms/epoch - 14ms/step\n",
      "Epoch 18/100\n",
      "2/2 - 0s - loss: 0.6679 - accuracy: 0.2239 - val_loss: 0.6516 - val_accuracy: 0.3203 - 29ms/epoch - 15ms/step\n",
      "Epoch 19/100\n",
      "2/2 - 0s - loss: 0.6649 - accuracy: 0.2291 - val_loss: 0.6458 - val_accuracy: 0.3203 - 29ms/epoch - 14ms/step\n",
      "Epoch 20/100\n",
      "2/2 - 0s - loss: 0.6614 - accuracy: 0.2119 - val_loss: 0.6392 - val_accuracy: 0.3203 - 30ms/epoch - 15ms/step\n",
      "Epoch 21/100\n",
      "2/2 - 0s - loss: 0.6577 - accuracy: 0.2369 - val_loss: 0.6320 - val_accuracy: 0.3203 - 30ms/epoch - 15ms/step\n",
      "Epoch 22/100\n",
      "2/2 - 0s - loss: 0.6541 - accuracy: 0.2472 - val_loss: 0.6243 - val_accuracy: 0.3203 - 29ms/epoch - 15ms/step\n",
      "Epoch 23/100\n",
      "2/2 - 0s - loss: 0.6506 - accuracy: 0.2153 - val_loss: 0.6166 - val_accuracy: 0.3203 - 29ms/epoch - 14ms/step\n",
      "Epoch 24/100\n",
      "2/2 - 0s - loss: 0.6476 - accuracy: 0.2369 - val_loss: 0.6096 - val_accuracy: 0.3203 - 29ms/epoch - 14ms/step\n",
      "Epoch 25/100\n",
      "2/2 - 0s - loss: 0.6455 - accuracy: 0.2412 - val_loss: 0.6037 - val_accuracy: 0.3203 - 29ms/epoch - 14ms/step\n",
      "Epoch 26/100\n",
      "2/2 - 0s - loss: 0.6460 - accuracy: 0.2231 - val_loss: 0.5999 - val_accuracy: 0.2969 - 29ms/epoch - 14ms/step\n",
      "Epoch 27/100\n",
      "2/2 - 0s - loss: 0.6457 - accuracy: 0.2119 - val_loss: 0.5982 - val_accuracy: 0.1432 - 30ms/epoch - 15ms/step\n",
      "Epoch 28/100\n",
      "2/2 - 0s - loss: 0.6449 - accuracy: 0.2334 - val_loss: 0.5979 - val_accuracy: 0.1328 - 29ms/epoch - 14ms/step\n",
      "Epoch 29/100\n",
      "2/2 - 0s - loss: 0.6441 - accuracy: 0.2179 - val_loss: 0.5984 - val_accuracy: 0.1328 - 29ms/epoch - 15ms/step\n",
      "Epoch 30/100\n",
      "2/2 - 0s - loss: 0.6424 - accuracy: 0.2317 - val_loss: 0.5992 - val_accuracy: 0.1328 - 31ms/epoch - 15ms/step\n",
      "Epoch 31/100\n",
      "2/2 - 0s - loss: 0.6426 - accuracy: 0.2093 - val_loss: 0.6003 - val_accuracy: 0.1328 - 30ms/epoch - 15ms/step\n",
      "Epoch 32/100\n",
      "2/2 - 0s - loss: 0.6416 - accuracy: 0.2214 - val_loss: 0.6012 - val_accuracy: 0.1328 - 29ms/epoch - 15ms/step\n",
      "Epoch 33/100\n",
      "2/2 - 0s - loss: 0.6409 - accuracy: 0.2059 - val_loss: 0.6018 - val_accuracy: 0.1328 - 29ms/epoch - 14ms/step\n",
      "Epoch 34/100\n",
      "2/2 - 0s - loss: 0.6406 - accuracy: 0.2153 - val_loss: 0.6022 - val_accuracy: 0.1328 - 30ms/epoch - 15ms/step\n",
      "Epoch 35/100\n",
      "2/2 - 0s - loss: 0.6400 - accuracy: 0.2326 - val_loss: 0.6022 - val_accuracy: 0.1328 - 30ms/epoch - 15ms/step\n",
      "Epoch 36/100\n",
      "2/2 - 0s - loss: 0.6399 - accuracy: 0.2205 - val_loss: 0.6018 - val_accuracy: 0.1328 - 30ms/epoch - 15ms/step\n",
      "Epoch 37/100\n",
      "2/2 - 0s - loss: 0.6395 - accuracy: 0.2016 - val_loss: 0.6010 - val_accuracy: 0.1328 - 29ms/epoch - 15ms/step\n",
      "Epoch 38/100\n",
      "2/2 - 0s - loss: 0.6382 - accuracy: 0.1912 - val_loss: 0.6000 - val_accuracy: 0.1432 - 29ms/epoch - 15ms/step\n",
      "Epoch 39/100\n",
      "2/2 - 0s - loss: 0.6382 - accuracy: 0.1964 - val_loss: 0.5992 - val_accuracy: 0.1432 - 29ms/epoch - 15ms/step\n",
      "Epoch 40/100\n",
      "2/2 - 0s - loss: 0.6374 - accuracy: 0.1938 - val_loss: 0.5985 - val_accuracy: 0.1432 - 29ms/epoch - 15ms/step\n",
      "Epoch 41/100\n",
      "2/2 - 0s - loss: 0.6369 - accuracy: 0.2024 - val_loss: 0.5978 - val_accuracy: 0.1432 - 30ms/epoch - 15ms/step\n",
      "Epoch 42/100\n",
      "2/2 - 0s - loss: 0.6359 - accuracy: 0.1955 - val_loss: 0.5971 - val_accuracy: 0.1432 - 30ms/epoch - 15ms/step\n",
      "Epoch 43/100\n",
      "2/2 - 0s - loss: 0.6360 - accuracy: 0.1972 - val_loss: 0.5965 - val_accuracy: 0.1432 - 29ms/epoch - 15ms/step\n",
      "Epoch 44/100\n",
      "2/2 - 0s - loss: 0.6353 - accuracy: 0.2067 - val_loss: 0.5962 - val_accuracy: 0.1432 - 29ms/epoch - 15ms/step\n",
      "Epoch 45/100\n",
      "2/2 - 0s - loss: 0.6344 - accuracy: 0.2334 - val_loss: 0.5960 - val_accuracy: 0.1432 - 30ms/epoch - 15ms/step\n",
      "Epoch 46/100\n",
      "2/2 - 0s - loss: 0.6334 - accuracy: 0.2343 - val_loss: 0.5958 - val_accuracy: 0.1432 - 29ms/epoch - 15ms/step\n",
      "Epoch 47/100\n",
      "2/2 - 0s - loss: 0.6333 - accuracy: 0.1947 - val_loss: 0.5957 - val_accuracy: 0.1432 - 29ms/epoch - 14ms/step\n",
      "Epoch 48/100\n",
      "2/2 - 0s - loss: 0.6315 - accuracy: 0.2257 - val_loss: 0.5956 - val_accuracy: 0.1432 - 29ms/epoch - 14ms/step\n",
      "Epoch 49/100\n",
      "2/2 - 0s - loss: 0.6305 - accuracy: 0.2136 - val_loss: 0.5955 - val_accuracy: 0.1432 - 29ms/epoch - 15ms/step\n",
      "Epoch 50/100\n",
      "2/2 - 0s - loss: 0.6294 - accuracy: 0.2050 - val_loss: 0.5955 - val_accuracy: 0.1432 - 29ms/epoch - 14ms/step\n",
      "Epoch 51/100\n",
      "2/2 - 0s - loss: 0.6279 - accuracy: 0.1792 - val_loss: 0.5951 - val_accuracy: 0.1641 - 29ms/epoch - 14ms/step\n",
      "Epoch 52/100\n",
      "2/2 - 0s - loss: 0.6261 - accuracy: 0.2102 - val_loss: 0.5946 - val_accuracy: 0.1745 - 29ms/epoch - 15ms/step\n",
      "Epoch 53/100\n",
      "2/2 - 0s - loss: 0.6245 - accuracy: 0.2016 - val_loss: 0.5940 - val_accuracy: 0.2266 - 29ms/epoch - 15ms/step\n",
      "Epoch 54/100\n",
      "2/2 - 0s - loss: 0.6227 - accuracy: 0.2214 - val_loss: 0.5929 - val_accuracy: 0.2708 - 30ms/epoch - 15ms/step\n",
      "Epoch 55/100\n",
      "2/2 - 0s - loss: 0.6202 - accuracy: 0.2136 - val_loss: 0.5918 - val_accuracy: 0.2995 - 32ms/epoch - 16ms/step\n",
      "Epoch 56/100\n",
      "2/2 - 0s - loss: 0.6177 - accuracy: 0.2136 - val_loss: 0.5907 - val_accuracy: 0.3151 - 31ms/epoch - 16ms/step\n",
      "Epoch 57/100\n",
      "2/2 - 0s - loss: 0.6143 - accuracy: 0.2076 - val_loss: 0.5899 - val_accuracy: 0.3177 - 30ms/epoch - 15ms/step\n",
      "Epoch 58/100\n",
      "2/2 - 0s - loss: 0.6108 - accuracy: 0.2239 - val_loss: 0.5892 - val_accuracy: 0.3203 - 29ms/epoch - 14ms/step\n",
      "Epoch 59/100\n",
      "2/2 - 0s - loss: 0.6079 - accuracy: 0.2231 - val_loss: 0.5884 - val_accuracy: 0.3203 - 29ms/epoch - 14ms/step\n",
      "Epoch 60/100\n",
      "2/2 - 0s - loss: 0.6043 - accuracy: 0.2076 - val_loss: 0.5876 - val_accuracy: 0.3203 - 28ms/epoch - 14ms/step\n",
      "Epoch 61/100\n",
      "2/2 - 0s - loss: 0.5998 - accuracy: 0.2283 - val_loss: 0.5868 - val_accuracy: 0.3203 - 29ms/epoch - 14ms/step\n",
      "Epoch 62/100\n",
      "2/2 - 0s - loss: 0.5968 - accuracy: 0.2308 - val_loss: 0.5864 - val_accuracy: 0.3203 - 29ms/epoch - 15ms/step\n",
      "Epoch 63/100\n",
      "2/2 - 0s - loss: 0.5933 - accuracy: 0.2205 - val_loss: 0.5864 - val_accuracy: 0.3203 - 29ms/epoch - 15ms/step\n",
      "Epoch 64/100\n",
      "2/2 - 0s - loss: 0.5891 - accuracy: 0.2394 - val_loss: 0.5869 - val_accuracy: 0.3203 - 30ms/epoch - 15ms/step\n",
      "Epoch 65/100\n",
      "2/2 - 0s - loss: 0.5863 - accuracy: 0.2179 - val_loss: 0.5873 - val_accuracy: 0.3203 - 29ms/epoch - 14ms/step\n",
      "Epoch 66/100\n",
      "2/2 - 0s - loss: 0.5849 - accuracy: 0.2033 - val_loss: 0.5873 - val_accuracy: 0.3255 - 29ms/epoch - 14ms/step\n",
      "Epoch 67/100\n",
      "2/2 - 0s - loss: 0.5821 - accuracy: 0.2265 - val_loss: 0.5871 - val_accuracy: 0.3255 - 29ms/epoch - 14ms/step\n",
      "Epoch 68/100\n",
      "2/2 - 0s - loss: 0.5805 - accuracy: 0.2300 - val_loss: 0.5871 - val_accuracy: 0.3255 - 29ms/epoch - 15ms/step\n",
      "Epoch 69/100\n",
      "2/2 - 0s - loss: 0.5781 - accuracy: 0.2188 - val_loss: 0.5869 - val_accuracy: 0.3255 - 29ms/epoch - 15ms/step\n",
      "Epoch 70/100\n",
      "2/2 - 0s - loss: 0.5772 - accuracy: 0.2481 - val_loss: 0.5861 - val_accuracy: 0.3229 - 29ms/epoch - 15ms/step\n",
      "Epoch 71/100\n",
      "2/2 - 0s - loss: 0.5755 - accuracy: 0.2093 - val_loss: 0.5853 - val_accuracy: 0.3203 - 30ms/epoch - 15ms/step\n",
      "Epoch 72/100\n",
      "2/2 - 0s - loss: 0.5738 - accuracy: 0.2283 - val_loss: 0.5849 - val_accuracy: 0.3203 - 29ms/epoch - 15ms/step\n",
      "Epoch 73/100\n",
      "2/2 - 0s - loss: 0.5723 - accuracy: 0.2076 - val_loss: 0.5845 - val_accuracy: 0.3203 - 29ms/epoch - 14ms/step\n",
      "Epoch 74/100\n",
      "2/2 - 0s - loss: 0.5709 - accuracy: 0.2248 - val_loss: 0.5834 - val_accuracy: 0.3203 - 29ms/epoch - 14ms/step\n",
      "Epoch 75/100\n",
      "2/2 - 0s - loss: 0.5695 - accuracy: 0.2162 - val_loss: 0.5824 - val_accuracy: 0.3203 - 30ms/epoch - 15ms/step\n",
      "Epoch 76/100\n",
      "2/2 - 0s - loss: 0.5689 - accuracy: 0.2076 - val_loss: 0.5817 - val_accuracy: 0.3203 - 30ms/epoch - 15ms/step\n",
      "Epoch 77/100\n",
      "2/2 - 0s - loss: 0.5681 - accuracy: 0.2084 - val_loss: 0.5814 - val_accuracy: 0.3203 - 30ms/epoch - 15ms/step\n",
      "Epoch 78/100\n",
      "2/2 - 0s - loss: 0.5681 - accuracy: 0.2300 - val_loss: 0.5815 - val_accuracy: 0.3203 - 31ms/epoch - 15ms/step\n",
      "Epoch 79/100\n",
      "2/2 - 0s - loss: 0.5673 - accuracy: 0.2239 - val_loss: 0.5818 - val_accuracy: 0.3203 - 29ms/epoch - 15ms/step\n",
      "Epoch 80/100\n",
      "2/2 - 0s - loss: 0.5672 - accuracy: 0.2050 - val_loss: 0.5819 - val_accuracy: 0.3203 - 30ms/epoch - 15ms/step\n",
      "Epoch 81/100\n",
      "2/2 - 0s - loss: 0.5671 - accuracy: 0.2067 - val_loss: 0.5822 - val_accuracy: 0.3203 - 32ms/epoch - 16ms/step\n",
      "Epoch 82/100\n",
      "2/2 - 0s - loss: 0.5672 - accuracy: 0.2093 - val_loss: 0.5828 - val_accuracy: 0.3203 - 30ms/epoch - 15ms/step\n",
      "Epoch 83/100\n",
      "2/2 - 0s - loss: 0.5670 - accuracy: 0.2188 - val_loss: 0.5827 - val_accuracy: 0.3203 - 30ms/epoch - 15ms/step\n",
      "Epoch 84/100\n",
      "2/2 - 0s - loss: 0.5672 - accuracy: 0.2162 - val_loss: 0.5824 - val_accuracy: 0.3203 - 30ms/epoch - 15ms/step\n",
      "Epoch 85/100\n",
      "2/2 - 0s - loss: 0.5670 - accuracy: 0.2110 - val_loss: 0.5826 - val_accuracy: 0.3203 - 29ms/epoch - 15ms/step\n",
      "Epoch 86/100\n",
      "2/2 - 0s - loss: 0.5669 - accuracy: 0.2171 - val_loss: 0.5834 - val_accuracy: 0.3203 - 30ms/epoch - 15ms/step\n",
      "Epoch 87/100\n",
      "2/2 - 0s - loss: 0.5666 - accuracy: 0.2179 - val_loss: 0.5835 - val_accuracy: 0.3203 - 30ms/epoch - 15ms/step\n",
      "Epoch 88/100\n",
      "2/2 - 0s - loss: 0.5664 - accuracy: 0.2076 - val_loss: 0.5832 - val_accuracy: 0.3203 - 28ms/epoch - 14ms/step\n",
      "Epoch 89/100\n",
      "2/2 - 0s - loss: 0.5664 - accuracy: 0.2248 - val_loss: 0.5832 - val_accuracy: 0.3203 - 29ms/epoch - 14ms/step\n",
      "Epoch 90/100\n",
      "2/2 - 0s - loss: 0.5666 - accuracy: 0.2205 - val_loss: 0.5829 - val_accuracy: 0.3203 - 29ms/epoch - 14ms/step\n",
      "Epoch 91/100\n",
      "2/2 - 0s - loss: 0.5664 - accuracy: 0.2050 - val_loss: 0.5828 - val_accuracy: 0.3203 - 48ms/epoch - 24ms/step\n",
      "Epoch 92/100\n",
      "2/2 - 0s - loss: 0.5662 - accuracy: 0.2257 - val_loss: 0.5831 - val_accuracy: 0.3203 - 29ms/epoch - 14ms/step\n",
      "Epoch 93/100\n",
      "2/2 - 0s - loss: 0.5658 - accuracy: 0.2050 - val_loss: 0.5835 - val_accuracy: 0.3203 - 29ms/epoch - 14ms/step\n",
      "Epoch 94/100\n",
      "2/2 - 0s - loss: 0.5664 - accuracy: 0.2334 - val_loss: 0.5831 - val_accuracy: 0.3203 - 28ms/epoch - 14ms/step\n",
      "Epoch 95/100\n",
      "2/2 - 0s - loss: 0.5661 - accuracy: 0.2110 - val_loss: 0.5823 - val_accuracy: 0.3203 - 29ms/epoch - 14ms/step\n",
      "Epoch 96/100\n",
      "2/2 - 0s - loss: 0.5662 - accuracy: 0.2239 - val_loss: 0.5823 - val_accuracy: 0.3203 - 29ms/epoch - 15ms/step\n",
      "Epoch 97/100\n",
      "2/2 - 0s - loss: 0.5661 - accuracy: 0.1955 - val_loss: 0.5829 - val_accuracy: 0.3203 - 29ms/epoch - 15ms/step\n",
      "Epoch 98/100\n",
      "2/2 - 0s - loss: 0.5659 - accuracy: 0.2351 - val_loss: 0.5830 - val_accuracy: 0.3203 - 30ms/epoch - 15ms/step\n",
      "Epoch 99/100\n",
      "2/2 - 0s - loss: 0.5660 - accuracy: 0.2179 - val_loss: 0.5826 - val_accuracy: 0.3203 - 30ms/epoch - 15ms/step\n",
      "Epoch 100/100\n",
      "2/2 - 0s - loss: 0.5660 - accuracy: 0.2093 - val_loss: 0.5822 - val_accuracy: 0.3203 - 29ms/epoch - 15ms/step\n"
     ]
    }
   ],
   "source": [
    "# 训练模型\n",
    "history = model.fit(train_X, train_Y, epochs=EPOCHS, batch_size=BATCH_SIZE, validation_data=(val_X, val_Y), verbose=2)"
   ],
   "metadata": {
    "collapsed": false
   }
  },
  {
   "cell_type": "code",
   "execution_count": 7,
   "outputs": [
    {
     "name": "stdout",
     "output_type": "stream",
     "text": [
      "12/12 [==============================] - 1s 2ms/step\n"
     ]
    },
    {
     "data": {
      "text/plain": "<matplotlib.legend.Legend at 0x7fc4d96ea670>"
     },
     "execution_count": 7,
     "metadata": {},
     "output_type": "execute_result"
    },
    {
     "data": {
      "text/plain": "<Figure size 640x480 with 1 Axes>",
      "image/png": "[encoded data removed]"
     },
     "metadata": {},
     "output_type": "display_data"
    }
   ],
   "source": [
    "# 预测\n",
    "pred_Y = model.predict(test_X).reshape(-1, 1)\n",
    "test_Y = test_Y.reshape(-1, 1)\n",
    "\n",
    "# 反缩放预测结果\n",
    "pred_Y_sc = Scaler.inverse_transform(np.concatenate((pred_Y, np.zeros((len(pred_Y), FEATURES - 1))), axis=1))[:, 0]\n",
    "test_Y_sc = Scaler.inverse_transform(np.concatenate((test_Y, np.zeros((len(test_Y), FEATURES - 1))), axis=1))[:, 0]\n",
    "\n",
    "# 计算预测误差\n",
    "mse = np.mean((pred_Y_sc - test_Y_sc) ** 2)\n",
    "mape = np.mean(np.abs((test_Y_sc - pred_Y_sc) / test_Y_sc)) * 100\n",
    "\n",
    "# 可视化预测结果\n",
    "plt.plot(test_Y_sc, label='True')\n",
    "plt.plot(pred_Y_sc, label='Predictions')\n",
    "plt.legend()"
   ],
   "metadata": {
    "collapsed": false
   }
  },
  {
   "cell_type": "code",
   "execution_count": 8,
   "outputs": [
    {
     "data": {
      "text/plain": "(13265.642862471208, 1.58600836450025)"
     },
     "execution_count": 8,
     "metadata": {},
     "output_type": "execute_result"
    }
   ],
   "source": [
    "mse, mape"
   ],
   "metadata": {
    "collapsed": false
   }
  },
  {
   "cell_type": "markdown",
   "source": [
    "## 循环预测"
   ],
   "metadata": {
    "collapsed": false
   }
  },
  {
   "cell_type": "code",
   "execution_count": 28,
   "outputs": [
    {
     "name": "stdout",
     "output_type": "stream",
     "text": [
      "1/1 [==============================] - 0s 16ms/step\n"
     ]
    },
    {
     "data": {
      "text/plain": "array([4346.13788802, 4350.1431523 , 4359.32490775, 4364.44053769,\n       4369.56383394])"
     },
     "execution_count": 28,
     "metadata": {},
     "output_type": "execute_result"
    }
   ],
   "source": [
    "\n",
    "def predict_stock_price():\n",
    "    # input_data = test_X[0]  # 获取测试集最后一个时间步的数据作为起始点\n",
    "    predictions = []  # 存储预测结果\n",
    "\n",
    "    for i in range(len(test_X)):\n",
    "        # 将输入数据重塑为LSTM模型所需的形状\n",
    "        input_data = test_X[i].reshape(1, TIME_STEPS, FEATURES)  # 测试集中第一条数据\n",
    "\n",
    "        # 使用LSTM模型进行预测\n",
    "        pred_y = model.predict(input_data).reshape(-1, 1)\n",
    "        # print(pred_y)\n",
    "\n",
    "        # 将预测结果添加到预测列表中\n",
    "        # predictions.append(pred_y[0][0])\n",
    "\n",
    "        # 将预测结果作为下一个时间步长的输入数据\n",
    "        # input_data = np.append(input_data[:, 1:, :], input_data, axis=1)\n",
    "\n",
    "    # 对预测结果进行反归一化处理\n",
    "    # pred_y_sc = Scaler.inverse_transform(np.concatenate((pred_y, np.zeros((len(pred_y), FEATURES - 1))), axis=1))[:, 0]\n",
    "\n",
    "    return predictions\n",
    "\n",
    "\n",
    "predict_stock_price()\n",
    "\n"
   ],
   "metadata": {
    "collapsed": false
   }
  },
  {
   "cell_type": "code",
   "execution_count": null,
   "outputs": [],
   "source": [],
   "metadata": {
    "collapsed": false
   }
  }
 ],
 "metadata": {
  "kernelspec": {
   "name": "pytorch",
   "language": "python",
   "display_name": "Rapids"
  },
  "language_info": {
   "codemirror_mode": {
    "name": "ipython",
    "version": 2
   },
   "file_extension": ".py",
   "mimetype": "text/x-python",
   "name": "python",
   "nbconvert_exporter": "python",
   "pygments_lexer": "ipython2",
   "version": "2.7.6"
  }
 },
 "nbformat": 4,
 "nbformat_minor": 0
}
