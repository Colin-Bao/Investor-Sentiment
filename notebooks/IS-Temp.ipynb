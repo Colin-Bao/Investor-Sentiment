{
 "cells": [
  {
   "cell_type": "code",
   "execution_count": 1,
   "metadata": {
    "collapsed": true
   },
   "outputs": [],
   "source": [
    "import sys\n",
    "import os\n",
    "import cudf  #CUDA计算\n",
    "import pandas as pd\n",
    "\n",
    "# 自行编写的包\n",
    "sys.path.append('/home/ubuntu/notebook/Investor-Sentiment')\n",
    "from loader.findata_loader import Loader\n",
    "from utils.sql import DB\n",
    "\n",
    "# ------------------------------数据集路径----------------------------------#\n",
    "DATASETS_PATH = '/data/DataSets/investor_sentiment/'"
   ]
  },
  {
   "cell_type": "markdown",
   "source": [
    "提取自然日期"
   ],
   "metadata": {
    "collapsed": false
   }
  },
  {
   "cell_type": "code",
   "execution_count": 2,
   "outputs": [
    {
     "name": "stderr",
     "output_type": "stream",
     "text": [
      "/tmp/ipykernel_26677/2172678335.py:18: SettingWithCopyWarning: \n",
      "A value is trying to be set on a copy of a slice from a DataFrame.\n",
      "Try using .loc[row_indexer,col_indexer] = value instead\n",
      "\n",
      "See the caveats in the documentation: https://pandas.pydata.org/pandas-docs/stable/user_guide/indexing.html#returning-a-view-versus-a-copy\n",
      "  df_select['title_flag'] = df_select['title_neg'].apply(lambda x: 1 if x > 0.5 else 0)\n",
      "/tmp/ipykernel_26677/2172678335.py:19: SettingWithCopyWarning: \n",
      "A value is trying to be set on a copy of a slice from a DataFrame.\n",
      "Try using .loc[row_indexer,col_indexer] = value instead\n",
      "\n",
      "See the caveats in the documentation: https://pandas.pydata.org/pandas-docs/stable/user_guide/indexing.html#returning-a-view-versus-a-copy\n",
      "  df_select['cover_flag'] = df_select['cover_neg'].apply(lambda x: 1 if x > 0.5 else 0)\n",
      "/tmp/ipykernel_26677/2172678335.py:22: SettingWithCopyWarning: \n",
      "A value is trying to be set on a copy of a slice from a DataFrame.\n",
      "Try using .loc[row_indexer,col_indexer] = value instead\n",
      "\n",
      "See the caveats in the documentation: https://pandas.pydata.org/pandas-docs/stable/user_guide/indexing.html#returning-a-view-versus-a-copy\n",
      "  df_select['day_article'] = df_select.groupby('trade_date')['id'].transform('count')\n",
      "/tmp/ipykernel_26677/2172678335.py:24: SettingWithCopyWarning: \n",
      "A value is trying to be set on a copy of a slice from a DataFrame.\n",
      "Try using .loc[row_indexer,col_indexer] = value instead\n",
      "\n",
      "See the caveats in the documentation: https://pandas.pydata.org/pandas-docs/stable/user_guide/indexing.html#returning-a-view-versus-a-copy\n",
      "  df_select['tex_neg'] = df_select['title_flag'] / df_select['day_article']\n",
      "/tmp/ipykernel_26677/2172678335.py:25: SettingWithCopyWarning: \n",
      "A value is trying to be set on a copy of a slice from a DataFrame.\n",
      "Try using .loc[row_indexer,col_indexer] = value instead\n",
      "\n",
      "See the caveats in the documentation: https://pandas.pydata.org/pandas-docs/stable/user_guide/indexing.html#returning-a-view-versus-a-copy\n",
      "  df_select['img_neg'] = df_select['cover_flag'] / df_select['day_article']\n"
     ]
    },
    {
     "data": {
      "text/plain": "       trade_date  img_neg  tex_neg\n0        20140101      0.0      0.0\n1        20140102      0.0      0.0\n2        20140102      0.0      0.0\n3        20140102      0.0      0.0\n4        20140103      0.0      0.0\n...           ...      ...      ...\n26633    20220626      0.0      0.0\n26634    20220626      0.0      0.0\n26635    20220626      0.0      0.0\n26636    20220626      0.0      0.0\n26637    20220627      0.0      0.0\n\n[26638 rows x 3 columns]",
      "text/html": "<div>\n<style scoped>\n    .dataframe tbody tr th:only-of-type {\n        vertical-align: middle;\n    }\n\n    .dataframe tbody tr th {\n        vertical-align: top;\n    }\n\n    .dataframe thead th {\n        text-align: right;\n    }\n</style>\n<table border=\"1\" class=\"dataframe\">\n  <thead>\n    <tr style=\"text-align: right;\">\n      <th></th>\n      <th>trade_date</th>\n      <th>img_neg</th>\n      <th>tex_neg</th>\n    </tr>\n  </thead>\n  <tbody>\n    <tr>\n      <th>0</th>\n      <td>20140101</td>\n      <td>0.0</td>\n      <td>0.0</td>\n    </tr>\n    <tr>\n      <th>1</th>\n      <td>20140102</td>\n      <td>0.0</td>\n      <td>0.0</td>\n    </tr>\n    <tr>\n      <th>2</th>\n      <td>20140102</td>\n      <td>0.0</td>\n      <td>0.0</td>\n    </tr>\n    <tr>\n      <th>3</th>\n      <td>20140102</td>\n      <td>0.0</td>\n      <td>0.0</td>\n    </tr>\n    <tr>\n      <th>4</th>\n      <td>20140103</td>\n      <td>0.0</td>\n      <td>0.0</td>\n    </tr>\n    <tr>\n      <th>...</th>\n      <td>...</td>\n      <td>...</td>\n      <td>...</td>\n    </tr>\n    <tr>\n      <th>26633</th>\n      <td>20220626</td>\n      <td>0.0</td>\n      <td>0.0</td>\n    </tr>\n    <tr>\n      <th>26634</th>\n      <td>20220626</td>\n      <td>0.0</td>\n      <td>0.0</td>\n    </tr>\n    <tr>\n      <th>26635</th>\n      <td>20220626</td>\n      <td>0.0</td>\n      <td>0.0</td>\n    </tr>\n    <tr>\n      <th>26636</th>\n      <td>20220626</td>\n      <td>0.0</td>\n      <td>0.0</td>\n    </tr>\n    <tr>\n      <th>26637</th>\n      <td>20220627</td>\n      <td>0.0</td>\n      <td>0.0</td>\n    </tr>\n  </tbody>\n</table>\n<p>26638 rows × 3 columns</p>\n</div>"
     },
     "execution_count": 2,
     "metadata": {},
     "output_type": "execute_result"
    }
   ],
   "source": [
    "def extract_pdate_wcsentiment():\n",
    "        \"\"\"\n",
    "        提取推文中的情绪\n",
    "        :return:\n",
    "        \"\"\"\n",
    "        # 提取\n",
    "        df_select = pd.read_sql(\n",
    "                \"SELECT id,p_date, title_neg, cover_neg, biz FROM WECAHT_DATA.articles_tag \"\n",
    "                \"WHERE mov=10 AND biz in ('MjM5MzMwNjM0MA==','MjM5NzQ5MTkyMA==','MjY2NzgwMjU0MA==','MjY2NzgwMjU0MA==')\",\n",
    "                con=DB().ENGINE,\n",
    "                parse_dates=[\"p_date\"])\n",
    "\n",
    "        # 筛选\n",
    "        df_select['trade_date'] = df_select['p_date'].dt.strftime('%Y%m%d').astype('uint32')\n",
    "        df_select = df_select.query(\"trade_date>=20140101\")\n",
    "\n",
    "        # 阈值处理\n",
    "        df_select['title_flag'] = df_select['title_neg'].apply(lambda x: 1 if x > 0.5 else 0)\n",
    "        df_select['cover_flag'] = df_select['cover_neg'].apply(lambda x: 1 if x > 0.5 else 0)\n",
    "\n",
    "        # 每日情绪\n",
    "        df_select['day_article'] = df_select.groupby('trade_date')['id'].transform('count')\n",
    "\n",
    "        df_select['tex_neg'] = df_select['title_flag'] / df_select['day_article']\n",
    "        df_select['img_neg'] = df_select['cover_flag'] / df_select['day_article']\n",
    "\n",
    "        # 筛选\n",
    "        return df_select[['trade_date', 'img_neg', 'tex_neg']].set_index('trade_date').sort_index().reset_index()\n",
    "\n",
    "\n",
    "extract_pdate_wcsentiment()"
   ],
   "metadata": {
    "collapsed": false
   }
  },
  {
   "cell_type": "code",
   "execution_count": 2,
   "outputs": [],
   "source": [],
   "metadata": {
    "collapsed": false
   }
  }
 ],
 "metadata": {
  "kernelspec": {
   "name": "stata",
   "language": "python",
   "display_name": "Stata"
  },
  "language_info": {
   "codemirror_mode": {
    "name": "ipython",
    "version": 2
   },
   "file_extension": ".py",
   "mimetype": "text/x-python",
   "name": "python",
   "nbconvert_exporter": "python",
   "pygments_lexer": "ipython2",
   "version": "2.7.6"
  }
 },
 "nbformat": 4,
 "nbformat_minor": 0
}
