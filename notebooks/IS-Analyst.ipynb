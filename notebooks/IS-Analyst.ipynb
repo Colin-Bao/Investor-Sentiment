{
 "cells": [
  {
   "cell_type": "markdown",
   "source": [
    "# 分析师情绪专题"
   ],
   "metadata": {
    "collapsed": false
   }
  },
  {
   "cell_type": "markdown",
   "source": [
    "## 1.数据准备"
   ],
   "metadata": {
    "collapsed": false
   }
  },
  {
   "cell_type": "code",
   "execution_count": 1,
   "outputs": [
    {
     "name": "stdout",
     "output_type": "stream",
     "text": [
      "\n",
      "  ___  ____  ____  ____  ____ ©\n",
      " /__    /   ____/   /   ____/      17.0\n",
      "___/   /   /___/   /   /___/       MP—Parallel Edition\n",
      "\n",
      " Statistics and Data Science       Copyright 1985-2021 StataCorp LLC\n",
      "                                   StataCorp\n",
      "                                   4905 Lakeway Drive\n",
      "                                   College Station, Texas 77845 USA\n",
      "                                   800-STATA-PC        https://www.stata.com\n",
      "                                   979-696-4600        stata@stata.com\n",
      "\n",
      "Stata license: Single-user 8-core , expiring  1 Jan 2025\n",
      "Serial number: 501709301094\n",
      "  Licensed to: Colin's Stata 17 MP\n",
      "               Love you\n",
      "\n",
      "Notes:\n",
      "      1. Unicode is supported; see help unicode_advice.\n",
      "      2. More than 2 billion observations are allowed; see help obs_advice.\n",
      "      3. Maximum number of variables is set to 5,000; see help set_maxvar.\n"
     ]
    }
   ],
   "source": [
    "import sys\n",
    "import os\n",
    "import numpy as np\n",
    "import cudf  #CUDA计算\n",
    "import pandas as pd\n",
    "\n",
    "# 自行编写的包\n",
    "sys.path.append('/home/ubuntu/notebooks/pycharm_projects/Investor-Sentiment')\n",
    "sys.path.append('/usr/local/stata17/utilities')\n",
    "\n",
    "# 多核 groupby Apply\n",
    "# from pandarallel import pandarallel\n",
    "\n",
    "# 数据库\n",
    "from utils.sql import DB\n",
    "\n",
    "from loader.findata_loader import DownLoader\n",
    "from loader.findata_loader import Loader\n",
    "\n",
    "# 统计工具\n",
    "# from statsmodels.regression.rolling import RollingOLS  #滚动回归\n",
    "# from statsmodels.regression.linear_model import OLS  #OLS回归\n",
    "\n",
    "# Stata\n",
    "from pystata import config  # noqa\n",
    "\n",
    "config.init('mp')\n",
    "# ------------------------------数据集路径----------------------------------#\n",
    "DATASETS_PATH = '/data/DataSets/investor_sentiment/'"
   ],
   "metadata": {
    "collapsed": false
   }
  },
  {
   "cell_type": "code",
   "execution_count": 2,
   "outputs": [],
   "source": [
    "# 数据集:个股K线面板数据,个股基本面数据\n",
    "# DownLoader().load_daily_data('shibor', 'FIN_DAILY_MACRO')\n",
    "\n",
    "data_loader = Loader()"
   ],
   "metadata": {
    "collapsed": false
   }
  },
  {
   "cell_type": "markdown",
   "source": [
    "#### 指数盈利预测面板数据"
   ],
   "metadata": {
    "collapsed": false
   }
  },
  {
   "cell_type": "code",
   "execution_count": 3,
   "outputs": [
    {
     "data": {
      "text/plain": "                      CON_YEAR        CON_OR        CON_NP  CON_EPS  \\\ntrade_date ts_code                                                    \n20131231   000002.SH      2013  2.150299e+09  1.996171e+08   0.6183   \n           000010.SH      2013  1.616497e+09  1.803029e+08   0.7227   \n           000015.SH      2013  9.223393e+08  1.402562e+08   0.7359   \n           000016.SH      2013  1.095701e+09  1.190502e+08   0.7747   \n           000067.SH      2013  1.304862e+08  7.875350e+06   0.5807   \n...                        ...           ...           ...      ...   \n20221028   399312.SZ      2022  3.583564e+09  3.023053e+08   1.1050   \n           399313.SZ      2022  2.848629e+09  3.164494e+08   1.1574   \n           399317.SZ      2022  7.321688e+09  5.934493e+08   0.7403   \n           000985.SH      2022  7.224144e+09  5.840384e+08   0.7555   \n           000688.SH      2022  6.009689e+07  7.351126e+06   1.0083   \n\n                            CON_NA  CON_PB  CON_PS   CON_PE  CON_PEG  CON_ROE  \\\ntrade_date ts_code                                                              \n20131231   000002.SH  1.407965e+09  1.2913  0.8455   9.1078   0.5689    14.18   \n           000010.SH  1.156060e+09  1.1894  0.8506   7.6264   0.5842    15.60   \n           000015.SH  8.384264e+08  1.0141  0.9219   6.0624   0.5667    16.73   \n           000016.SH  7.548906e+08  1.1679  0.8046   7.4054   0.5799    15.77   \n           000067.SH  6.214941e+07  2.2588  1.0758  17.8255   0.9922    12.67   \n...                            ...     ...     ...      ...      ...      ...   \n20221028   399312.SZ  2.454648e+09  1.4467  0.9909  11.7465   0.7619    12.32   \n           399313.SZ  2.754211e+09  0.9901  0.9572   8.6169   0.7773    11.49   \n           399317.SZ  5.905421e+09  1.2950  1.0445  12.8868   0.7655    10.05   \n           000985.SH  5.825681e+09  1.3191  1.0637  13.1574   0.7802    10.03   \n           000688.SH  6.128843e+07  4.1037  4.1850  34.2135   0.9417    11.99   \n\n                      CON_OR_YOY  CON_NP_YOY  CON_NPCGRATE_2Y  CON_PEI  \ntrade_date ts_code                                                      \n20131231   000002.SH        9.89       18.25          16.0105  78.4365  \n           000010.SH        8.21       13.78          13.0548  80.9011  \n           000015.SH        5.53       11.24          10.6985  83.8420  \n           000016.SH        7.24       13.37          12.7691  81.7573  \n           000067.SH       12.46       16.76          17.9659  61.4964  \n...                          ...         ...              ...      ...  \n20221028   399312.SZ       15.04       15.51          15.4183  94.5570  \n           399313.SZ       14.36       10.80          11.0863  94.4014  \n           399317.SZ       10.82       15.55          16.8354  80.5216  \n           000985.SH       10.96       15.11          16.8637  80.1858  \n           000688.SH       43.95       46.41          36.3298  98.5569  \n\n[43510 rows x 14 columns]",
      "text/html": "<div>\n<style scoped>\n    .dataframe tbody tr th:only-of-type {\n        vertical-align: middle;\n    }\n\n    .dataframe tbody tr th {\n        vertical-align: top;\n    }\n\n    .dataframe thead th {\n        text-align: right;\n    }\n</style>\n<table border=\"1\" class=\"dataframe\">\n  <thead>\n    <tr style=\"text-align: right;\">\n      <th></th>\n      <th></th>\n      <th>CON_YEAR</th>\n      <th>CON_OR</th>\n      <th>CON_NP</th>\n      <th>CON_EPS</th>\n      <th>CON_NA</th>\n      <th>CON_PB</th>\n      <th>CON_PS</th>\n      <th>CON_PE</th>\n      <th>CON_PEG</th>\n      <th>CON_ROE</th>\n      <th>CON_OR_YOY</th>\n      <th>CON_NP_YOY</th>\n      <th>CON_NPCGRATE_2Y</th>\n      <th>CON_PEI</th>\n    </tr>\n    <tr>\n      <th>trade_date</th>\n      <th>ts_code</th>\n      <th></th>\n      <th></th>\n      <th></th>\n      <th></th>\n      <th></th>\n      <th></th>\n      <th></th>\n      <th></th>\n      <th></th>\n      <th></th>\n      <th></th>\n      <th></th>\n      <th></th>\n      <th></th>\n    </tr>\n  </thead>\n  <tbody>\n    <tr>\n      <th rowspan=\"5\" valign=\"top\">20131231</th>\n      <th>000002.SH</th>\n      <td>2013</td>\n      <td>2.150299e+09</td>\n      <td>1.996171e+08</td>\n      <td>0.6183</td>\n      <td>1.407965e+09</td>\n      <td>1.2913</td>\n      <td>0.8455</td>\n      <td>9.1078</td>\n      <td>0.5689</td>\n      <td>14.18</td>\n      <td>9.89</td>\n      <td>18.25</td>\n      <td>16.0105</td>\n      <td>78.4365</td>\n    </tr>\n    <tr>\n      <th>000010.SH</th>\n      <td>2013</td>\n      <td>1.616497e+09</td>\n      <td>1.803029e+08</td>\n      <td>0.7227</td>\n      <td>1.156060e+09</td>\n      <td>1.1894</td>\n      <td>0.8506</td>\n      <td>7.6264</td>\n      <td>0.5842</td>\n      <td>15.60</td>\n      <td>8.21</td>\n      <td>13.78</td>\n      <td>13.0548</td>\n      <td>80.9011</td>\n    </tr>\n    <tr>\n      <th>000015.SH</th>\n      <td>2013</td>\n      <td>9.223393e+08</td>\n      <td>1.402562e+08</td>\n      <td>0.7359</td>\n      <td>8.384264e+08</td>\n      <td>1.0141</td>\n      <td>0.9219</td>\n      <td>6.0624</td>\n      <td>0.5667</td>\n      <td>16.73</td>\n      <td>5.53</td>\n      <td>11.24</td>\n      <td>10.6985</td>\n      <td>83.8420</td>\n    </tr>\n    <tr>\n      <th>000016.SH</th>\n      <td>2013</td>\n      <td>1.095701e+09</td>\n      <td>1.190502e+08</td>\n      <td>0.7747</td>\n      <td>7.548906e+08</td>\n      <td>1.1679</td>\n      <td>0.8046</td>\n      <td>7.4054</td>\n      <td>0.5799</td>\n      <td>15.77</td>\n      <td>7.24</td>\n      <td>13.37</td>\n      <td>12.7691</td>\n      <td>81.7573</td>\n    </tr>\n    <tr>\n      <th>000067.SH</th>\n      <td>2013</td>\n      <td>1.304862e+08</td>\n      <td>7.875350e+06</td>\n      <td>0.5807</td>\n      <td>6.214941e+07</td>\n      <td>2.2588</td>\n      <td>1.0758</td>\n      <td>17.8255</td>\n      <td>0.9922</td>\n      <td>12.67</td>\n      <td>12.46</td>\n      <td>16.76</td>\n      <td>17.9659</td>\n      <td>61.4964</td>\n    </tr>\n    <tr>\n      <th>...</th>\n      <th>...</th>\n      <td>...</td>\n      <td>...</td>\n      <td>...</td>\n      <td>...</td>\n      <td>...</td>\n      <td>...</td>\n      <td>...</td>\n      <td>...</td>\n      <td>...</td>\n      <td>...</td>\n      <td>...</td>\n      <td>...</td>\n      <td>...</td>\n      <td>...</td>\n    </tr>\n    <tr>\n      <th rowspan=\"5\" valign=\"top\">20221028</th>\n      <th>399312.SZ</th>\n      <td>2022</td>\n      <td>3.583564e+09</td>\n      <td>3.023053e+08</td>\n      <td>1.1050</td>\n      <td>2.454648e+09</td>\n      <td>1.4467</td>\n      <td>0.9909</td>\n      <td>11.7465</td>\n      <td>0.7619</td>\n      <td>12.32</td>\n      <td>15.04</td>\n      <td>15.51</td>\n      <td>15.4183</td>\n      <td>94.5570</td>\n    </tr>\n    <tr>\n      <th>399313.SZ</th>\n      <td>2022</td>\n      <td>2.848629e+09</td>\n      <td>3.164494e+08</td>\n      <td>1.1574</td>\n      <td>2.754211e+09</td>\n      <td>0.9901</td>\n      <td>0.9572</td>\n      <td>8.6169</td>\n      <td>0.7773</td>\n      <td>11.49</td>\n      <td>14.36</td>\n      <td>10.80</td>\n      <td>11.0863</td>\n      <td>94.4014</td>\n    </tr>\n    <tr>\n      <th>399317.SZ</th>\n      <td>2022</td>\n      <td>7.321688e+09</td>\n      <td>5.934493e+08</td>\n      <td>0.7403</td>\n      <td>5.905421e+09</td>\n      <td>1.2950</td>\n      <td>1.0445</td>\n      <td>12.8868</td>\n      <td>0.7655</td>\n      <td>10.05</td>\n      <td>10.82</td>\n      <td>15.55</td>\n      <td>16.8354</td>\n      <td>80.5216</td>\n    </tr>\n    <tr>\n      <th>000985.SH</th>\n      <td>2022</td>\n      <td>7.224144e+09</td>\n      <td>5.840384e+08</td>\n      <td>0.7555</td>\n      <td>5.825681e+09</td>\n      <td>1.3191</td>\n      <td>1.0637</td>\n      <td>13.1574</td>\n      <td>0.7802</td>\n      <td>10.03</td>\n      <td>10.96</td>\n      <td>15.11</td>\n      <td>16.8637</td>\n      <td>80.1858</td>\n    </tr>\n    <tr>\n      <th>000688.SH</th>\n      <td>2022</td>\n      <td>6.009689e+07</td>\n      <td>7.351126e+06</td>\n      <td>1.0083</td>\n      <td>6.128843e+07</td>\n      <td>4.1037</td>\n      <td>4.1850</td>\n      <td>34.2135</td>\n      <td>0.9417</td>\n      <td>11.99</td>\n      <td>43.95</td>\n      <td>46.41</td>\n      <td>36.3298</td>\n      <td>98.5569</td>\n    </tr>\n  </tbody>\n</table>\n<p>43510 rows × 14 columns</p>\n</div>"
     },
     "execution_count": 3,
     "metadata": {},
     "output_type": "execute_result"
    }
   ],
   "source": [
    "data_loader.get_conidx_panel()"
   ],
   "metadata": {
    "collapsed": false
   }
  },
  {
   "cell_type": "markdown",
   "source": [
    "#### A股基本面面板数据"
   ],
   "metadata": {
    "collapsed": false
   }
  },
  {
   "cell_type": "code",
   "execution_count": null,
   "outputs": [],
   "source": [
    "data_loader.get_ashare_panel()"
   ],
   "metadata": {
    "collapsed": false
   }
  },
  {
   "cell_type": "markdown",
   "source": [
    "#### 指数基本面面板数据"
   ],
   "metadata": {
    "collapsed": false
   }
  },
  {
   "cell_type": "code",
   "execution_count": 4,
   "outputs": [
    {
     "data": {
      "text/plain": "                           close        open        high         low  \\\ntrade_date ts_code                                                     \n20140102   000001.SH    2109.387    2112.126     2113.11    2101.016   \n           000016.SH    1561.099    1570.049    1570.049    1553.476   \n           000300.SH    2321.978    2323.433    2325.991    2310.653   \n           000905.SH    3847.879    3823.316    3848.253    3813.806   \n           399001.SZ    8114.388    8083.772    8124.558    8048.274   \n...                          ...         ...         ...         ...   \n20221207   000016.SH    2670.647   2678.6369   2705.2434   2661.2477   \n           000300.SH   3958.4409   3956.6722   3999.5864   3944.1831   \n           000905.SH   6204.0051   6198.0532   6243.9022   6183.3338   \n           399001.SZ  11418.7632  11365.9813  11504.3936  11358.6814   \n           399300.SZ        <NA>        <NA>        <NA>        <NA>   \n\n                       pre_close    change shareindex_return          vol  \\\ntrade_date ts_code                                                          \n20140102   000001.SH    2115.978    -6.591           -0.3115   68485486.0   \n           000016.SH    1574.781   -13.682           -0.8688   15725481.0   \n           000300.SH    2330.026    -8.048           -0.3454   45194291.0   \n           000905.SH    3829.096    18.783            0.4905   30800260.0   \n           399001.SZ    8121.788      -7.4           -0.0911  76523675.97   \n...                          ...       ...               ...          ...   \n20221207   000016.SH   2684.8458  -14.1988           -0.5288   34532578.0   \n           000300.SH   3968.1979    -9.757           -0.2459  143001356.0   \n           000905.SH   6211.2515   -7.2464           -0.1167  137821246.0   \n           399001.SZ  11398.8201   19.9431             0.175  445500812.0   \n           399300.SZ        <NA>      <NA>              <NA>         <NA>   \n\n                           amount      total_mv      float_mv   total_share  \\\ntrade_date ts_code                                                            \n20140102   000001.SH  61921354.65  1.816591e+13  1.355083e+13  3.233397e+12   \n           000016.SH  14982557.38  8.764339e+12  7.067457e+12  1.536462e+12   \n           000300.SH  49012211.12  1.724706e+13  1.263173e+13  2.880502e+12   \n           000905.SH  31417807.02  3.684081e+12  2.879294e+12  4.173544e+11   \n           399001.SZ  95994236.32  1.809932e+12  1.331610e+12  1.431701e+11   \n...                           ...           ...           ...           ...   \n20221207   000016.SH  64178141.48  1.798471e+13  1.500842e+13  1.586560e+12   \n           000300.SH  255490829.0  4.800432e+13  3.634145e+13  4.012892e+12   \n           000905.SH  155238837.7  1.237585e+13  1.067164e+13  1.360448e+12   \n           399001.SZ  546530031.6  2.251881e+13  1.857781e+13  1.292449e+12   \n           399300.SZ         <NA>  4.800432e+13  3.634145e+13  4.012892e+12   \n\n                       float_share    free_share  turnover_rate  \\\ntrade_date ts_code                                                \n20140102   000001.SH  2.358476e+12  7.076779e+11           0.29   \n           000016.SH  1.244444e+12  2.652202e+11           0.13   \n           000300.SH  2.067522e+12  5.658356e+11           0.22   \n           000905.SH  3.399529e+11  1.950857e+11           0.91   \n           399001.SZ  1.126513e+11  7.292581e+10           0.64   \n...                            ...           ...            ...   \n20221207   000016.SH  1.232971e+12  3.381492e+11           0.28   \n           000300.SH  2.885259e+12  1.092071e+12           0.50   \n           000905.SH  1.181857e+12  6.334603e+11           1.17   \n           399001.SZ  1.093008e+12  6.351503e+11           1.19   \n           399300.SZ  2.885259e+12  1.092071e+12           0.50   \n\n                      turnover_rate_f     pe  pe_ttm    pb  \ntrade_date ts_code                                          \n20140102   000001.SH             0.96  10.71    9.64  1.34  \n           000016.SH             0.59   8.35    7.51  1.21  \n           000300.SH             0.80   9.79    8.89  1.33  \n           000905.SH             1.58  31.71   28.78  2.34  \n           399001.SZ             0.99  16.19   14.84  2.20  \n...                               ...    ...     ...   ...  \n20221207   000016.SH             1.02  10.08    9.57  1.22  \n           000300.SH             1.31  12.06   11.55  1.35  \n           000905.SH             2.18  20.31   23.74  1.69  \n           399001.SZ             2.05  25.40   26.56  2.59  \n           399300.SZ             1.31  12.06   11.55  1.35  \n\n[13050 rows x 19 columns]",
      "text/html": "<div>\n<style scoped>\n    .dataframe tbody tr th:only-of-type {\n        vertical-align: middle;\n    }\n\n    .dataframe tbody tr th {\n        vertical-align: top;\n    }\n\n    .dataframe thead th {\n        text-align: right;\n    }\n</style>\n<table border=\"1\" class=\"dataframe\">\n  <thead>\n    <tr style=\"text-align: right;\">\n      <th></th>\n      <th></th>\n      <th>close</th>\n      <th>open</th>\n      <th>high</th>\n      <th>low</th>\n      <th>pre_close</th>\n      <th>change</th>\n      <th>shareindex_return</th>\n      <th>vol</th>\n      <th>amount</th>\n      <th>total_mv</th>\n      <th>float_mv</th>\n      <th>total_share</th>\n      <th>float_share</th>\n      <th>free_share</th>\n      <th>turnover_rate</th>\n      <th>turnover_rate_f</th>\n      <th>pe</th>\n      <th>pe_ttm</th>\n      <th>pb</th>\n    </tr>\n    <tr>\n      <th>trade_date</th>\n      <th>ts_code</th>\n      <th></th>\n      <th></th>\n      <th></th>\n      <th></th>\n      <th></th>\n      <th></th>\n      <th></th>\n      <th></th>\n      <th></th>\n      <th></th>\n      <th></th>\n      <th></th>\n      <th></th>\n      <th></th>\n      <th></th>\n      <th></th>\n      <th></th>\n      <th></th>\n      <th></th>\n    </tr>\n  </thead>\n  <tbody>\n    <tr>\n      <th rowspan=\"5\" valign=\"top\">20140102</th>\n      <th>000001.SH</th>\n      <td>2109.387</td>\n      <td>2112.126</td>\n      <td>2113.11</td>\n      <td>2101.016</td>\n      <td>2115.978</td>\n      <td>-6.591</td>\n      <td>-0.3115</td>\n      <td>68485486.0</td>\n      <td>61921354.65</td>\n      <td>1.816591e+13</td>\n      <td>1.355083e+13</td>\n      <td>3.233397e+12</td>\n      <td>2.358476e+12</td>\n      <td>7.076779e+11</td>\n      <td>0.29</td>\n      <td>0.96</td>\n      <td>10.71</td>\n      <td>9.64</td>\n      <td>1.34</td>\n    </tr>\n    <tr>\n      <th>000016.SH</th>\n      <td>1561.099</td>\n      <td>1570.049</td>\n      <td>1570.049</td>\n      <td>1553.476</td>\n      <td>1574.781</td>\n      <td>-13.682</td>\n      <td>-0.8688</td>\n      <td>15725481.0</td>\n      <td>14982557.38</td>\n      <td>8.764339e+12</td>\n      <td>7.067457e+12</td>\n      <td>1.536462e+12</td>\n      <td>1.244444e+12</td>\n      <td>2.652202e+11</td>\n      <td>0.13</td>\n      <td>0.59</td>\n      <td>8.35</td>\n      <td>7.51</td>\n      <td>1.21</td>\n    </tr>\n    <tr>\n      <th>000300.SH</th>\n      <td>2321.978</td>\n      <td>2323.433</td>\n      <td>2325.991</td>\n      <td>2310.653</td>\n      <td>2330.026</td>\n      <td>-8.048</td>\n      <td>-0.3454</td>\n      <td>45194291.0</td>\n      <td>49012211.12</td>\n      <td>1.724706e+13</td>\n      <td>1.263173e+13</td>\n      <td>2.880502e+12</td>\n      <td>2.067522e+12</td>\n      <td>5.658356e+11</td>\n      <td>0.22</td>\n      <td>0.80</td>\n      <td>9.79</td>\n      <td>8.89</td>\n      <td>1.33</td>\n    </tr>\n    <tr>\n      <th>000905.SH</th>\n      <td>3847.879</td>\n      <td>3823.316</td>\n      <td>3848.253</td>\n      <td>3813.806</td>\n      <td>3829.096</td>\n      <td>18.783</td>\n      <td>0.4905</td>\n      <td>30800260.0</td>\n      <td>31417807.02</td>\n      <td>3.684081e+12</td>\n      <td>2.879294e+12</td>\n      <td>4.173544e+11</td>\n      <td>3.399529e+11</td>\n      <td>1.950857e+11</td>\n      <td>0.91</td>\n      <td>1.58</td>\n      <td>31.71</td>\n      <td>28.78</td>\n      <td>2.34</td>\n    </tr>\n    <tr>\n      <th>399001.SZ</th>\n      <td>8114.388</td>\n      <td>8083.772</td>\n      <td>8124.558</td>\n      <td>8048.274</td>\n      <td>8121.788</td>\n      <td>-7.4</td>\n      <td>-0.0911</td>\n      <td>76523675.97</td>\n      <td>95994236.32</td>\n      <td>1.809932e+12</td>\n      <td>1.331610e+12</td>\n      <td>1.431701e+11</td>\n      <td>1.126513e+11</td>\n      <td>7.292581e+10</td>\n      <td>0.64</td>\n      <td>0.99</td>\n      <td>16.19</td>\n      <td>14.84</td>\n      <td>2.20</td>\n    </tr>\n    <tr>\n      <th>...</th>\n      <th>...</th>\n      <td>...</td>\n      <td>...</td>\n      <td>...</td>\n      <td>...</td>\n      <td>...</td>\n      <td>...</td>\n      <td>...</td>\n      <td>...</td>\n      <td>...</td>\n      <td>...</td>\n      <td>...</td>\n      <td>...</td>\n      <td>...</td>\n      <td>...</td>\n      <td>...</td>\n      <td>...</td>\n      <td>...</td>\n      <td>...</td>\n      <td>...</td>\n    </tr>\n    <tr>\n      <th rowspan=\"5\" valign=\"top\">20221207</th>\n      <th>000016.SH</th>\n      <td>2670.647</td>\n      <td>2678.6369</td>\n      <td>2705.2434</td>\n      <td>2661.2477</td>\n      <td>2684.8458</td>\n      <td>-14.1988</td>\n      <td>-0.5288</td>\n      <td>34532578.0</td>\n      <td>64178141.48</td>\n      <td>1.798471e+13</td>\n      <td>1.500842e+13</td>\n      <td>1.586560e+12</td>\n      <td>1.232971e+12</td>\n      <td>3.381492e+11</td>\n      <td>0.28</td>\n      <td>1.02</td>\n      <td>10.08</td>\n      <td>9.57</td>\n      <td>1.22</td>\n    </tr>\n    <tr>\n      <th>000300.SH</th>\n      <td>3958.4409</td>\n      <td>3956.6722</td>\n      <td>3999.5864</td>\n      <td>3944.1831</td>\n      <td>3968.1979</td>\n      <td>-9.757</td>\n      <td>-0.2459</td>\n      <td>143001356.0</td>\n      <td>255490829.0</td>\n      <td>4.800432e+13</td>\n      <td>3.634145e+13</td>\n      <td>4.012892e+12</td>\n      <td>2.885259e+12</td>\n      <td>1.092071e+12</td>\n      <td>0.50</td>\n      <td>1.31</td>\n      <td>12.06</td>\n      <td>11.55</td>\n      <td>1.35</td>\n    </tr>\n    <tr>\n      <th>000905.SH</th>\n      <td>6204.0051</td>\n      <td>6198.0532</td>\n      <td>6243.9022</td>\n      <td>6183.3338</td>\n      <td>6211.2515</td>\n      <td>-7.2464</td>\n      <td>-0.1167</td>\n      <td>137821246.0</td>\n      <td>155238837.7</td>\n      <td>1.237585e+13</td>\n      <td>1.067164e+13</td>\n      <td>1.360448e+12</td>\n      <td>1.181857e+12</td>\n      <td>6.334603e+11</td>\n      <td>1.17</td>\n      <td>2.18</td>\n      <td>20.31</td>\n      <td>23.74</td>\n      <td>1.69</td>\n    </tr>\n    <tr>\n      <th>399001.SZ</th>\n      <td>11418.7632</td>\n      <td>11365.9813</td>\n      <td>11504.3936</td>\n      <td>11358.6814</td>\n      <td>11398.8201</td>\n      <td>19.9431</td>\n      <td>0.175</td>\n      <td>445500812.0</td>\n      <td>546530031.6</td>\n      <td>2.251881e+13</td>\n      <td>1.857781e+13</td>\n      <td>1.292449e+12</td>\n      <td>1.093008e+12</td>\n      <td>6.351503e+11</td>\n      <td>1.19</td>\n      <td>2.05</td>\n      <td>25.40</td>\n      <td>26.56</td>\n      <td>2.59</td>\n    </tr>\n    <tr>\n      <th>399300.SZ</th>\n      <td>&lt;NA&gt;</td>\n      <td>&lt;NA&gt;</td>\n      <td>&lt;NA&gt;</td>\n      <td>&lt;NA&gt;</td>\n      <td>&lt;NA&gt;</td>\n      <td>&lt;NA&gt;</td>\n      <td>&lt;NA&gt;</td>\n      <td>&lt;NA&gt;</td>\n      <td>&lt;NA&gt;</td>\n      <td>4.800432e+13</td>\n      <td>3.634145e+13</td>\n      <td>4.012892e+12</td>\n      <td>2.885259e+12</td>\n      <td>1.092071e+12</td>\n      <td>0.50</td>\n      <td>1.31</td>\n      <td>12.06</td>\n      <td>11.55</td>\n      <td>1.35</td>\n    </tr>\n  </tbody>\n</table>\n<p>13050 rows × 19 columns</p>\n</div>"
     },
     "execution_count": 4,
     "metadata": {},
     "output_type": "execute_result"
    }
   ],
   "source": [
    "data_loader.get_index_panel()"
   ],
   "metadata": {
    "collapsed": false
   }
  },
  {
   "cell_type": "markdown",
   "source": [
    "#### 时间序列数据"
   ],
   "metadata": {
    "collapsed": false
   }
  },
  {
   "cell_type": "code",
   "execution_count": null,
   "outputs": [],
   "source": [
    "data_loader.get_time_series()"
   ],
   "metadata": {
    "collapsed": false
   }
  },
  {
   "cell_type": "code",
   "execution_count": null,
   "outputs": [],
   "source": [
    "def merge_profit_con_basic():\n",
    "    \"\"\"\n",
    "    合并指数基本面,一致预期,利润数据\n",
    "    :return:\n",
    "    \"\"\"\n",
    "    # ------------------------------------一致预期 - zyyx------------------------------------#\n",
    "    df_idx_con = data_loader.get_conidx_panel().reset_index()\n",
    "    df_idx_con['trade_year'] = df_idx_con['trade_date'] // 10000\n",
    "\n",
    "    # ------------------------------------利润 - 人工录入 wugui-----------------------------------#\n",
    "    df_profit = cudf.read_parquet(f'{DATASETS_PATH}IDX_PANEL_PROFIT.parquet').reset_index()\n",
    "    df_profit = df_profit.groupby(by=['trade_year', 'ts_code'], as_index=False, ).first()\n",
    "    df_profit['year_profit_l1'] = df_profit.groupby(by=['ts_code'], as_index=False, sort=True)['year_profit'].shift(1)\n",
    "    df_profit.drop(columns='quarter', inplace=True)\n",
    "    df_profit['year_profit_yoy'] = 100 * ((df_profit['year_profit'] / df_profit['year_profit_l1']) - 1)\n",
    "\n",
    "    # ------------------------------------基本面 wugui------------------------------------#\n",
    "    df_basic = cudf.read_parquet(f'{DATASETS_PATH}IDX_PANEL_BASIC_WUGUI.parquet').reset_index()\n",
    "    df_basic['total_mv_l1'] = df_basic.groupby(by=['ts_code'], as_index=False, sort=True)['total_mv'].shift(1)\n",
    "    df_basic['total_mv_chg'] = 100 * ((df_basic['total_mv'] / df_basic['total_mv_l1']) - 1)\n",
    "\n",
    "    df_basic['close_l1'] = df_basic.groupby(by=['ts_code'], as_index=False, sort=True)['close'].shift(1)\n",
    "    df_basic['close_chg'] = 100 * ((df_basic['close'] / df_basic['close_l1']) - 1)\n",
    "\n",
    "    return (cudf.merge(\n",
    "            cudf.merge(\n",
    "                    cudf.merge(df_idx_con, df_profit, on=['trade_year', 'ts_code']), df_basic, on=['trade_date', 'ts_code']\n",
    "            ),\n",
    "            data_loader.get_time_series().reset_index(),\n",
    "            on='trade_date')\n",
    "    )\n",
    "\n",
    "\n",
    "merge_profit_con_basic().set_index(['ts_code', 'trade_date', ]).sort_index()"
   ],
   "metadata": {
    "collapsed": false
   }
  },
  {
   "cell_type": "markdown",
   "source": [
    "## 2.分析师情绪指标计算"
   ],
   "metadata": {
    "collapsed": false
   }
  },
  {
   "cell_type": "code",
   "execution_count": null,
   "outputs": [],
   "source": [
    "def cal_analyst_sentiment_tdate():\n",
    "    # 获取数据\n",
    "    df_ana = merge_profit_con_basic()\n",
    "\n",
    "    # 单位换算\n",
    "    df_ana['CON_NP'] = df_ana['CON_NP'] / 10000\n",
    "    df_ana['total_mv'] = df_ana['total_mv'] / 10000\n",
    "\n",
    "    # 计算偏离\n",
    "    df_ana['opt_profit_yoy'] = ((df_ana['CON_NP_YOY'] - df_ana['year_profit_yoy']) / df_ana['year_profit_yoy'].abs()) * 100\n",
    "    df_ana['opt_pe'] = ((df_ana['CON_PE'] - df_ana['year_pe_ttm']) / df_ana['year_pe_ttm'].abs()) * 100\n",
    "    df_ana['opt_profit'] = ((df_ana['CON_NP'] - df_ana['year_profit']) / df_ana['year_profit'].abs()) * 100\n",
    "\n",
    "    # 计算组中日期\n",
    "    df_ana['time'] = df_ana.groupby(by=['ts_code'])['trade_date'].rank()\n",
    "\n",
    "    # 计算平方项\n",
    "    df_ana['close_chg_s'] = df_ana['close_chg'] * df_ana['close_chg']\n",
    "\n",
    "    # 转换数据\n",
    "    return (df_ana.set_index(['trade_date', 'ts_code']).sort_index().reset_index().to_pandas()\n",
    "            .astype(dtype={\"trade_date\": \"str\", \"trade_year\": \"uint32\"}))\n",
    "\n",
    "\n",
    "df_analyst = cal_analyst_sentiment_tdate()\n",
    "df_analyst.set_index(['trade_date', 'ts_code'])"
   ],
   "metadata": {
    "collapsed": false
   }
  },
  {
   "cell_type": "markdown",
   "source": [
    "## 3.媒体情绪对分析师情绪的影响"
   ],
   "metadata": {
    "collapsed": false
   }
  },
  {
   "cell_type": "code",
   "execution_count": null,
   "outputs": [],
   "source": [
    "# @formatter:off"
   ],
   "metadata": {
    "collapsed": false
   }
  },
  {
   "cell_type": "markdown",
   "source": [
    "### 描述性统计"
   ],
   "metadata": {
    "collapsed": false
   }
  },
  {
   "cell_type": "code",
   "execution_count": null,
   "outputs": [],
   "source": [
    "%%stata -d df_analyst -force\n",
    "/*{*/\n",
    "logout, save(Investor-Sentiment/outputs/Table_Sum) replace: tabstat *_neg total_mv pe_ttm_weight , ///\n",
    "s(N sd mean p50 min max ) f(%12.4f) c(s)"
   ],
   "metadata": {
    "collapsed": false
   }
  },
  {
   "cell_type": "markdown",
   "source": [
    "分析师情绪描述性统计"
   ],
   "metadata": {
    "collapsed": false
   }
  },
  {
   "cell_type": "code",
   "execution_count": null,
   "outputs": [],
   "source": [
    "%%stata -d df_analyst -force -qui\n",
    "est clear\n",
    "encode ts_code,gen(id)\n",
    "winsor2 opt_profit, cut(0.5 99.5) by(id) label\n",
    "histogram opt_profit,  ylabel(, angle(0))"
   ],
   "metadata": {
    "collapsed": false
   }
  },
  {
   "cell_type": "markdown",
   "source": [
    "预期与实际盈利预测绘图"
   ],
   "metadata": {
    "collapsed": false
   }
  },
  {
   "cell_type": "code",
   "execution_count": null,
   "outputs": [],
   "source": [
    "%%stata -d df_analyst -force -qui -nogr\n",
    "\n",
    "//模型设定\n",
    "encode ts_code,gen(id)\n",
    "ge dt = date(trade_date, \"YMD\")\n",
    "format dt %tdCCYYNNDD\n",
    "xtset id dt\n",
    "\n",
    "//组别\n",
    "egen group = group(ts_code)\n",
    "su group, meanonly\n",
    "\n",
    "//循环绘图\n",
    "forvalues i = 1/`r(max)' {\n",
    "    twoway (tsline CON_NP, yaxis(1) lpattern(solid)) ///\n",
    "    (tsline opt_profit, yaxis(2) lpattern(tight_dot)) ///\n",
    "    if (group == `i' )&(time<=1900), ///\n",
    "    ytitle(Profit ,axis(1)) ytitle(\"Bias (%)\",axis(2))  ///\n",
    "    xtitle(\"\") legend(off) scheme(sj) xsize(10) ylabel(, nogrid) ///\n",
    "    xlabel(, labgap(medium)) ///\n",
    "    name(code`i',replace) title(\".SH\")\n",
    "}"
   ],
   "metadata": {
    "collapsed": false
   }
  },
  {
   "cell_type": "markdown",
   "source": [
    "图片合成"
   ],
   "metadata": {
    "collapsed": false
   }
  },
  {
   "cell_type": "code",
   "execution_count": null,
   "outputs": [],
   "source": [
    "%%stata -gw 12in -gh 9in -qui\n",
    "graph combine code1 code2 code3 code4 code5 code6 code7 code8 code9, name(c1,replace) scale(0.4) scheme(sj)\n",
    "graph export Investor-Sentiment/outputs/imgs/opt_profit.svg ,replace"
   ],
   "metadata": {
    "collapsed": false
   }
  },
  {
   "cell_type": "markdown",
   "source": [
    "### 模型设定"
   ],
   "metadata": {
    "collapsed": false
   }
  },
  {
   "cell_type": "markdown",
   "source": [
    "\"000010.SH\",\"000015.SH\",\"000016.SH\",\"000300.SH\",\"000903.SH\",\"000905.SH\",\"000906.SH\",\"000985.SH\" 399305.SZ 399306.SZ 399310.SZ"
   ],
   "metadata": {
    "collapsed": false
   }
  },
  {
   "cell_type": "code",
   "execution_count": null,
   "outputs": [],
   "source": [
    "%%stata -d df_analyst -force -qui\n",
    "\n",
    "//声明面板数据\n",
    "encode ts_code,gen(id)\n",
    "xtset id time\n",
    "\n",
    "//缩尾\n",
    "winsor2 opt_profit, cut(1 99) by(id) label replace\n",
    "\n",
    "\n",
    "//变量对数处理\n",
    "foreach var in opt_profit total_mv pe_ttm_weight profit_avg {\n",
    "    ge ln`var'=ln(`var')\n",
    "}"
   ],
   "metadata": {
    "collapsed": false
   }
  },
  {
   "cell_type": "markdown",
   "source": [
    "### 文本情绪基准回归"
   ],
   "metadata": {
    "collapsed": false
   }
  },
  {
   "cell_type": "code",
   "execution_count": null,
   "outputs": [],
   "source": [
    "%%stata\n",
    "//清除估计结果\n",
    "est clear\n",
    "\n",
    "//文本情绪回归\n",
    "rename(tex_neg) (media_neg)\n",
    "by id, sort : eststo:  qui reg  lnopt_profit L.media_neg L.lntotal_mv L.lnpe_ttm_weight L.lnprofit_avg   i.trade_year   ///\n",
    "if inlist(ts_code ,\"000010.SH\",\"000015.SH\",\"000016.SH\",\"000300.SH\",\"000903.SH\",\"000905.SH\",\"000906.SH\",\"000985.SH\"),r\n",
    "rename(media_neg) (tex_neg)\n",
    "\n",
    "//增加固定效应\n",
    "estadd local Year \"Yes\" : *\n",
    "\n",
    "//输出\n",
    "esttab using Investor-Sentiment/outputs/media_to_analyst_text.rtf,r type ///\n",
    "star(* 0.1 ** 0.05 *** 0.01) ///\n",
    "keep(*_neg L.* ) ///\n",
    "stats( Year r2_a N, fmt(%3s %12.2f %12.0f)) ///\n",
    "nogaps compress b(%12.4f) ///\n",
    "title(\"Table MediaSent to AnalystSent Text\") ///\n",
    "mtitle(\"000010.SH\" \"000015.SH\" \"000016.SH\" \"000300.SH\" \"000903.SH\" \"000905.SH\" \"000906.SH\" \"000985.SH\")"
   ],
   "metadata": {
    "collapsed": false
   }
  },
  {
   "cell_type": "markdown",
   "source": [
    "### 图像情绪基准回归"
   ],
   "metadata": {
    "collapsed": false
   }
  },
  {
   "cell_type": "code",
   "execution_count": null,
   "outputs": [],
   "source": [
    "%%stata\n",
    "//清除估计结果\n",
    "est clear\n",
    "\n",
    "//图像情绪回归\n",
    "rename(img_neg) (media_neg)\n",
    "by id, sort : eststo:  qui reg  lnopt_profit L.media_neg  L.lntotal_mv L.lnpe_ttm_weight L.lnprofit_avg   i.trade_year   ///\n",
    "if inlist(ts_code ,\"000010.SH\",\"000015.SH\",\"000016.SH\",\"000300.SH\",\"000903.SH\",\"000905.SH\",\"000906.SH\",\"000985.SH\"),r\n",
    "rename(media_neg) (img_neg)\n",
    "\n",
    "//增加固定效应\n",
    "estadd local Year \"Yes\" : *\n",
    "\n",
    "//输出\n",
    "esttab using Investor-Sentiment/outputs/media_to_analyst_img.rtf,r type ///\n",
    "star(* 0.1 ** 0.05 *** 0.01) ///\n",
    "keep(*_neg L.* ) ///\n",
    "stats( Year r2_a N, fmt(%3s %12.2f %12.0f)) ///\n",
    "nogaps compress b(%12.4f) ///\n",
    "title(\"Table MediaSent to AnalystSent Img\") ///\n",
    "mtitle(\"000010.SH\" \"000015.SH\" \"000016.SH\" \"000300.SH\" \"000903.SH\" \"000905.SH\" \"000906.SH\" \"000985.SH\")"
   ],
   "metadata": {
    "collapsed": false
   }
  },
  {
   "cell_type": "markdown",
   "source": [
    "## 3.分析师情绪对股票市场的影响"
   ],
   "metadata": {
    "collapsed": false
   }
  },
  {
   "cell_type": "code",
   "execution_count": null,
   "outputs": [],
   "source": [
    "%%stata\n",
    "des"
   ],
   "metadata": {
    "collapsed": false
   }
  },
  {
   "cell_type": "code",
   "execution_count": null,
   "outputs": [],
   "source": [
    "%%stata\n",
    "est clear\n",
    "\n",
    "//缩尾\n",
    "winsor2 close_chg, cut(1 99) by(id) label replace\n",
    "\n",
    "//分组回归\n",
    "\n",
    "reg close_chg c.L.img_neg##c.L.lnopt_profit L.close_chg L.close_chg_s  i.trade_year ,r"
   ],
   "metadata": {
    "collapsed": false
   }
  },
  {
   "cell_type": "markdown",
   "source": [],
   "metadata": {
    "collapsed": false
   }
  }
 ],
 "metadata": {
  "kernelspec": {
   "name": "pytorch",
   "language": "python",
   "display_name": "Rapids"
  },
  "language_info": {
   "codemirror_mode": {
    "name": "ipython",
    "version": 2
   },
   "file_extension": ".py",
   "mimetype": "text/x-python",
   "name": "python",
   "nbconvert_exporter": "python",
   "pygments_lexer": "ipython2",
   "version": "2.7.6"
  }
 },
 "nbformat": 4,
 "nbformat_minor": 0
}
