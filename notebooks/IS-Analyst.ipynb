{
 "cells": [
  {
   "cell_type": "markdown",
   "source": [
    "# 分析师情绪专题"
   ],
   "metadata": {
    "collapsed": false
   }
  },
  {
   "cell_type": "markdown",
   "source": [
    "## 1.数据准备"
   ],
   "metadata": {
    "collapsed": false
   }
  },
  {
   "cell_type": "code",
   "execution_count": 1,
   "outputs": [
    {
     "name": "stdout",
     "output_type": "stream",
     "text": [
      "\n",
      "  ___  ____  ____  ____  ____ ©\n",
      " /__    /   ____/   /   ____/      17.0\n",
      "___/   /   /___/   /   /___/       MP—Parallel Edition\n",
      "\n",
      " Statistics and Data Science       Copyright 1985-2021 StataCorp LLC\n",
      "                                   StataCorp\n",
      "                                   4905 Lakeway Drive\n",
      "                                   College Station, Texas 77845 USA\n",
      "                                   800-STATA-PC        https://www.stata.com\n",
      "                                   979-696-4600        stata@stata.com\n",
      "\n",
      "Stata license: Single-user 8-core , expiring  1 Jan 2025\n",
      "Serial number: 501709301094\n",
      "  Licensed to: Colin's Stata 17 MP\n",
      "               Love you\n",
      "\n",
      "Notes:\n",
      "      1. Unicode is supported; see help unicode_advice.\n",
      "      2. More than 2 billion observations are allowed; see help obs_advice.\n",
      "      3. Maximum number of variables is set to 5,000; see help set_maxvar.\n"
     ]
    }
   ],
   "source": [
    "import sys\n",
    "import cudf  #CUDA计算\n",
    "\n",
    "# 自行编写的包\n",
    "sys.path.append('/home/ubuntu/notebooks/pycharm_projects/Investor-Sentiment')\n",
    "sys.path.append('/usr/local/stata17/utilities')\n",
    "\n",
    "# 多核 groupby Apply\n",
    "# from pandarallel import pandarallel\n",
    "\n",
    "# 数据库\n",
    "from utils.sql import DB\n",
    "\n",
    "from loader.findata_loader import DownLoader\n",
    "from loader.findata_loader import Loader\n",
    "\n",
    "# 统计工具\n",
    "# from statsmodels.regression.rolling import RollingOLS  #滚动回归\n",
    "# from statsmodels.regression.linear_model import OLS  #OLS回归\n",
    "\n",
    "# Stata\n",
    "from pystata import config  # noqa\n",
    "\n",
    "config.init('mp')\n",
    "# ------------------------------数据集路径----------------------------------#\n",
    "DATASETS_PATH = '/data/DataSets/investor_sentiment/'"
   ],
   "metadata": {
    "collapsed": false
   }
  },
  {
   "cell_type": "code",
   "execution_count": 2,
   "outputs": [],
   "source": [
    "# 数据集:个股K线面板数据,个股基本面数据\n",
    "# DownLoader().load_daily_data('shibor', 'FIN_DAILY_MACRO')\n",
    "\n",
    "data_loader = Loader()"
   ],
   "metadata": {
    "collapsed": false
   }
  },
  {
   "cell_type": "markdown",
   "source": [
    "#### 指数盈利预测面板数据"
   ],
   "metadata": {
    "collapsed": false
   }
  },
  {
   "cell_type": "code",
   "execution_count": 3,
   "outputs": [
    {
     "data": {
      "text/plain": "                      CON_YEAR        CON_OR        CON_NP  CON_EPS  \\\ntrade_date ts_code                                                    \n20131231   000002.SH      2013  2.150299e+09  1.996171e+08   0.6183   \n           000010.SH      2013  1.616497e+09  1.803029e+08   0.7227   \n           000015.SH      2013  9.223393e+08  1.402562e+08   0.7359   \n           000016.SH      2013  1.095701e+09  1.190502e+08   0.7747   \n           000067.SH      2013  1.304862e+08  7.875350e+06   0.5807   \n...                        ...           ...           ...      ...   \n20221028   399312.SZ      2022  3.583564e+09  3.023053e+08   1.1050   \n           399313.SZ      2022  2.848629e+09  3.164494e+08   1.1574   \n           399317.SZ      2022  7.321688e+09  5.934493e+08   0.7403   \n           000985.SH      2022  7.224144e+09  5.840384e+08   0.7555   \n           000688.SH      2022  6.009689e+07  7.351126e+06   1.0083   \n\n                            CON_NA  CON_PB  CON_PS   CON_PE  CON_PEG  CON_ROE  \\\ntrade_date ts_code                                                              \n20131231   000002.SH  1.407965e+09  1.2913  0.8455   9.1078   0.5689    14.18   \n           000010.SH  1.156060e+09  1.1894  0.8506   7.6264   0.5842    15.60   \n           000015.SH  8.384264e+08  1.0141  0.9219   6.0624   0.5667    16.73   \n           000016.SH  7.548906e+08  1.1679  0.8046   7.4054   0.5799    15.77   \n           000067.SH  6.214941e+07  2.2588  1.0758  17.8255   0.9922    12.67   \n...                            ...     ...     ...      ...      ...      ...   \n20221028   399312.SZ  2.454648e+09  1.4467  0.9909  11.7465   0.7619    12.32   \n           399313.SZ  2.754211e+09  0.9901  0.9572   8.6169   0.7773    11.49   \n           399317.SZ  5.905421e+09  1.2950  1.0445  12.8868   0.7655    10.05   \n           000985.SH  5.825681e+09  1.3191  1.0637  13.1574   0.7802    10.03   \n           000688.SH  6.128843e+07  4.1037  4.1850  34.2135   0.9417    11.99   \n\n                      CON_OR_YOY  CON_NP_YOY  CON_NPCGRATE_2Y  CON_PEI  \ntrade_date ts_code                                                      \n20131231   000002.SH        9.89       18.25          16.0105  78.4365  \n           000010.SH        8.21       13.78          13.0548  80.9011  \n           000015.SH        5.53       11.24          10.6985  83.8420  \n           000016.SH        7.24       13.37          12.7691  81.7573  \n           000067.SH       12.46       16.76          17.9659  61.4964  \n...                          ...         ...              ...      ...  \n20221028   399312.SZ       15.04       15.51          15.4183  94.5570  \n           399313.SZ       14.36       10.80          11.0863  94.4014  \n           399317.SZ       10.82       15.55          16.8354  80.5216  \n           000985.SH       10.96       15.11          16.8637  80.1858  \n           000688.SH       43.95       46.41          36.3298  98.5569  \n\n[43510 rows x 14 columns]",
      "text/html": "<div>\n<style scoped>\n    .dataframe tbody tr th:only-of-type {\n        vertical-align: middle;\n    }\n\n    .dataframe tbody tr th {\n        vertical-align: top;\n    }\n\n    .dataframe thead th {\n        text-align: right;\n    }\n</style>\n<table border=\"1\" class=\"dataframe\">\n  <thead>\n    <tr style=\"text-align: right;\">\n      <th></th>\n      <th></th>\n      <th>CON_YEAR</th>\n      <th>CON_OR</th>\n      <th>CON_NP</th>\n      <th>CON_EPS</th>\n      <th>CON_NA</th>\n      <th>CON_PB</th>\n      <th>CON_PS</th>\n      <th>CON_PE</th>\n      <th>CON_PEG</th>\n      <th>CON_ROE</th>\n      <th>CON_OR_YOY</th>\n      <th>CON_NP_YOY</th>\n      <th>CON_NPCGRATE_2Y</th>\n      <th>CON_PEI</th>\n    </tr>\n    <tr>\n      <th>trade_date</th>\n      <th>ts_code</th>\n      <th></th>\n      <th></th>\n      <th></th>\n      <th></th>\n      <th></th>\n      <th></th>\n      <th></th>\n      <th></th>\n      <th></th>\n      <th></th>\n      <th></th>\n      <th></th>\n      <th></th>\n      <th></th>\n    </tr>\n  </thead>\n  <tbody>\n    <tr>\n      <th rowspan=\"5\" valign=\"top\">20131231</th>\n      <th>000002.SH</th>\n      <td>2013</td>\n      <td>2.150299e+09</td>\n      <td>1.996171e+08</td>\n      <td>0.6183</td>\n      <td>1.407965e+09</td>\n      <td>1.2913</td>\n      <td>0.8455</td>\n      <td>9.1078</td>\n      <td>0.5689</td>\n      <td>14.18</td>\n      <td>9.89</td>\n      <td>18.25</td>\n      <td>16.0105</td>\n      <td>78.4365</td>\n    </tr>\n    <tr>\n      <th>000010.SH</th>\n      <td>2013</td>\n      <td>1.616497e+09</td>\n      <td>1.803029e+08</td>\n      <td>0.7227</td>\n      <td>1.156060e+09</td>\n      <td>1.1894</td>\n      <td>0.8506</td>\n      <td>7.6264</td>\n      <td>0.5842</td>\n      <td>15.60</td>\n      <td>8.21</td>\n      <td>13.78</td>\n      <td>13.0548</td>\n      <td>80.9011</td>\n    </tr>\n    <tr>\n      <th>000015.SH</th>\n      <td>2013</td>\n      <td>9.223393e+08</td>\n      <td>1.402562e+08</td>\n      <td>0.7359</td>\n      <td>8.384264e+08</td>\n      <td>1.0141</td>\n      <td>0.9219</td>\n      <td>6.0624</td>\n      <td>0.5667</td>\n      <td>16.73</td>\n      <td>5.53</td>\n      <td>11.24</td>\n      <td>10.6985</td>\n      <td>83.8420</td>\n    </tr>\n    <tr>\n      <th>000016.SH</th>\n      <td>2013</td>\n      <td>1.095701e+09</td>\n      <td>1.190502e+08</td>\n      <td>0.7747</td>\n      <td>7.548906e+08</td>\n      <td>1.1679</td>\n      <td>0.8046</td>\n      <td>7.4054</td>\n      <td>0.5799</td>\n      <td>15.77</td>\n      <td>7.24</td>\n      <td>13.37</td>\n      <td>12.7691</td>\n      <td>81.7573</td>\n    </tr>\n    <tr>\n      <th>000067.SH</th>\n      <td>2013</td>\n      <td>1.304862e+08</td>\n      <td>7.875350e+06</td>\n      <td>0.5807</td>\n      <td>6.214941e+07</td>\n      <td>2.2588</td>\n      <td>1.0758</td>\n      <td>17.8255</td>\n      <td>0.9922</td>\n      <td>12.67</td>\n      <td>12.46</td>\n      <td>16.76</td>\n      <td>17.9659</td>\n      <td>61.4964</td>\n    </tr>\n    <tr>\n      <th>...</th>\n      <th>...</th>\n      <td>...</td>\n      <td>...</td>\n      <td>...</td>\n      <td>...</td>\n      <td>...</td>\n      <td>...</td>\n      <td>...</td>\n      <td>...</td>\n      <td>...</td>\n      <td>...</td>\n      <td>...</td>\n      <td>...</td>\n      <td>...</td>\n      <td>...</td>\n    </tr>\n    <tr>\n      <th rowspan=\"5\" valign=\"top\">20221028</th>\n      <th>399312.SZ</th>\n      <td>2022</td>\n      <td>3.583564e+09</td>\n      <td>3.023053e+08</td>\n      <td>1.1050</td>\n      <td>2.454648e+09</td>\n      <td>1.4467</td>\n      <td>0.9909</td>\n      <td>11.7465</td>\n      <td>0.7619</td>\n      <td>12.32</td>\n      <td>15.04</td>\n      <td>15.51</td>\n      <td>15.4183</td>\n      <td>94.5570</td>\n    </tr>\n    <tr>\n      <th>399313.SZ</th>\n      <td>2022</td>\n      <td>2.848629e+09</td>\n      <td>3.164494e+08</td>\n      <td>1.1574</td>\n      <td>2.754211e+09</td>\n      <td>0.9901</td>\n      <td>0.9572</td>\n      <td>8.6169</td>\n      <td>0.7773</td>\n      <td>11.49</td>\n      <td>14.36</td>\n      <td>10.80</td>\n      <td>11.0863</td>\n      <td>94.4014</td>\n    </tr>\n    <tr>\n      <th>399317.SZ</th>\n      <td>2022</td>\n      <td>7.321688e+09</td>\n      <td>5.934493e+08</td>\n      <td>0.7403</td>\n      <td>5.905421e+09</td>\n      <td>1.2950</td>\n      <td>1.0445</td>\n      <td>12.8868</td>\n      <td>0.7655</td>\n      <td>10.05</td>\n      <td>10.82</td>\n      <td>15.55</td>\n      <td>16.8354</td>\n      <td>80.5216</td>\n    </tr>\n    <tr>\n      <th>000985.SH</th>\n      <td>2022</td>\n      <td>7.224144e+09</td>\n      <td>5.840384e+08</td>\n      <td>0.7555</td>\n      <td>5.825681e+09</td>\n      <td>1.3191</td>\n      <td>1.0637</td>\n      <td>13.1574</td>\n      <td>0.7802</td>\n      <td>10.03</td>\n      <td>10.96</td>\n      <td>15.11</td>\n      <td>16.8637</td>\n      <td>80.1858</td>\n    </tr>\n    <tr>\n      <th>000688.SH</th>\n      <td>2022</td>\n      <td>6.009689e+07</td>\n      <td>7.351126e+06</td>\n      <td>1.0083</td>\n      <td>6.128843e+07</td>\n      <td>4.1037</td>\n      <td>4.1850</td>\n      <td>34.2135</td>\n      <td>0.9417</td>\n      <td>11.99</td>\n      <td>43.95</td>\n      <td>46.41</td>\n      <td>36.3298</td>\n      <td>98.5569</td>\n    </tr>\n  </tbody>\n</table>\n<p>43510 rows × 14 columns</p>\n</div>"
     },
     "execution_count": 3,
     "metadata": {},
     "output_type": "execute_result"
    }
   ],
   "source": [
    "data_loader.get_conidx_panel()"
   ],
   "metadata": {
    "collapsed": false
   }
  },
  {
   "cell_type": "markdown",
   "source": [
    "#### A股基本面面板数据"
   ],
   "metadata": {
    "collapsed": false
   }
  },
  {
   "cell_type": "code",
   "execution_count": 4,
   "outputs": [
    {
     "data": {
      "text/plain": "                         open     high      low    close  pre_close  change  \\\ntrade_date ts_code                                                            \n20140102   000001.SZ   6.2109   6.3032   6.1751   6.2673     6.2776 -0.0103   \n           000002.SZ   5.4033   5.4574   5.3559   5.4033     5.4303 -0.0270   \n           000004.SZ  11.6400  11.8700  11.4500  11.8100    11.6500  0.1600   \n           000005.SZ   2.5000   2.5200   2.4700   2.4900     2.5000 -0.0100   \n           000006.SZ   3.8968   3.9047   3.8256   3.8494     3.8968 -0.0474   \n...                       ...      ...      ...      ...        ...     ...   \n20221130   872374.BJ   9.7300   9.8100   9.6500   9.6800     9.8500 -0.1700   \n20221201   301290.SZ  49.8100  51.4900  47.9400  48.4800    53.1200 -4.6400   \n           301311.SZ  20.4000  24.2800  20.1600  22.5600    20.0100  2.5500   \n           870199.BJ  29.0000  30.8000  28.1800  30.8000    31.8000 -1.0000   \n           872374.BJ   9.6300   9.7500   9.6300   9.7000     9.6800  0.0200   \n\n                      share_return        vol       amount turnover_rate  ...  \\\ntrade_date ts_code                                                        ...   \n20140102   000001.SZ       -0.1641  489910.89  596223.7444        0.8786  ...   \n           000002.SZ       -0.4972  485299.22  387391.0664        0.5016  ...   \n           000004.SZ        1.3734    9714.74   11417.5556        1.1582  ...   \n           000005.SZ       -0.4000   29997.74    7473.5909        0.3283  ...   \n           000006.SZ       -1.2164   88230.28   43051.9277        0.6604  ...   \n...                            ...        ...          ...           ...  ...   \n20221130   872374.BJ       -1.7259    8135.76    7893.3140          <NA>  ...   \n20221201   301290.SZ       -8.7349  108843.32  534442.0180       48.0937  ...   \n           301311.SZ       12.7436  342502.29  750712.7690       60.1845  ...   \n           870199.BJ       -3.1447   33555.95   97293.8040         28.93  ...   \n           872374.BJ        0.2066    4895.79    4744.5780          <NA>  ...   \n\n                           pb       ps   ps_ttm dv_ratio  dv_ttm  total_share  \\\ntrade_date ts_code                                                              \n20140102   000001.SZ   1.0563   2.5222   2.1079   0.8688  0.8688  819736.0665   \n           000002.SZ   1.2891   0.8534   0.7309   2.2509  2.2509  1101372.497   \n           000004.SZ  12.6589  10.1862   9.4261      0.0    <NA>    8397.6684   \n           000005.SZ    3.486  22.8994  26.6946      0.0    <NA>   91433.3607   \n           000006.SZ    1.749   2.1372   2.4689   1.9556  1.9556  134999.5046   \n...                       ...      ...      ...      ...     ...          ...   \n20221130   872374.BJ     <NA>     <NA>     <NA>     <NA>    <NA>         <NA>   \n20221201   301290.SZ   2.2424  10.8767  10.6376     <NA>    <NA>   10017.3334   \n           301311.SZ   3.1221   2.8278   2.8627     <NA>    <NA>      24000.0   \n           870199.BJ   2.7135   4.5536   3.7651     <NA>    <NA>       4865.0   \n           872374.BJ     <NA>     <NA>     <NA>     <NA>    <NA>         <NA>   \n\n                      float_share   free_share     total_mv      circ_mv  \ntrade_date ts_code                                                        \n20140102   000001.SZ  557590.1875  390867.8851  10025372.09  6819327.993  \n           000002.SZ   967494.124  805584.6474   8799966.25  7730278.051  \n           000004.SZ    8387.5459    6196.0792   99176.4638   99056.9171  \n           000005.SZ   91374.3007   72950.2562  227669.0681  227522.0087  \n           000006.SZ  133595.2936   65409.8872  657447.5874  650609.0798  \n...                           ...          ...          ...          ...  \n20221130   872374.BJ         <NA>         <NA>         <NA>         <NA>  \n20221201   301290.SZ    2263.1536    2263.1536  485640.3232  109717.6865  \n           301311.SZ    5690.8675    5690.8675     541440.0  128385.9708  \n           870199.BJ       1159.9       1159.9     149842.0     35724.92  \n           872374.BJ         <NA>         <NA>         <NA>         <NA>  \n\n[7143120 rows x 24 columns]",
      "text/html": "<div>\n<style scoped>\n    .dataframe tbody tr th:only-of-type {\n        vertical-align: middle;\n    }\n\n    .dataframe tbody tr th {\n        vertical-align: top;\n    }\n\n    .dataframe thead th {\n        text-align: right;\n    }\n</style>\n<table border=\"1\" class=\"dataframe\">\n  <thead>\n    <tr style=\"text-align: right;\">\n      <th></th>\n      <th></th>\n      <th>open</th>\n      <th>high</th>\n      <th>low</th>\n      <th>close</th>\n      <th>pre_close</th>\n      <th>change</th>\n      <th>share_return</th>\n      <th>vol</th>\n      <th>amount</th>\n      <th>turnover_rate</th>\n      <th>...</th>\n      <th>pb</th>\n      <th>ps</th>\n      <th>ps_ttm</th>\n      <th>dv_ratio</th>\n      <th>dv_ttm</th>\n      <th>total_share</th>\n      <th>float_share</th>\n      <th>free_share</th>\n      <th>total_mv</th>\n      <th>circ_mv</th>\n    </tr>\n    <tr>\n      <th>trade_date</th>\n      <th>ts_code</th>\n      <th></th>\n      <th></th>\n      <th></th>\n      <th></th>\n      <th></th>\n      <th></th>\n      <th></th>\n      <th></th>\n      <th></th>\n      <th></th>\n      <th></th>\n      <th></th>\n      <th></th>\n      <th></th>\n      <th></th>\n      <th></th>\n      <th></th>\n      <th></th>\n      <th></th>\n      <th></th>\n      <th></th>\n    </tr>\n  </thead>\n  <tbody>\n    <tr>\n      <th rowspan=\"5\" valign=\"top\">20140102</th>\n      <th>000001.SZ</th>\n      <td>6.2109</td>\n      <td>6.3032</td>\n      <td>6.1751</td>\n      <td>6.2673</td>\n      <td>6.2776</td>\n      <td>-0.0103</td>\n      <td>-0.1641</td>\n      <td>489910.89</td>\n      <td>596223.7444</td>\n      <td>0.8786</td>\n      <td>...</td>\n      <td>1.0563</td>\n      <td>2.5222</td>\n      <td>2.1079</td>\n      <td>0.8688</td>\n      <td>0.8688</td>\n      <td>819736.0665</td>\n      <td>557590.1875</td>\n      <td>390867.8851</td>\n      <td>10025372.09</td>\n      <td>6819327.993</td>\n    </tr>\n    <tr>\n      <th>000002.SZ</th>\n      <td>5.4033</td>\n      <td>5.4574</td>\n      <td>5.3559</td>\n      <td>5.4033</td>\n      <td>5.4303</td>\n      <td>-0.0270</td>\n      <td>-0.4972</td>\n      <td>485299.22</td>\n      <td>387391.0664</td>\n      <td>0.5016</td>\n      <td>...</td>\n      <td>1.2891</td>\n      <td>0.8534</td>\n      <td>0.7309</td>\n      <td>2.2509</td>\n      <td>2.2509</td>\n      <td>1101372.497</td>\n      <td>967494.124</td>\n      <td>805584.6474</td>\n      <td>8799966.25</td>\n      <td>7730278.051</td>\n    </tr>\n    <tr>\n      <th>000004.SZ</th>\n      <td>11.6400</td>\n      <td>11.8700</td>\n      <td>11.4500</td>\n      <td>11.8100</td>\n      <td>11.6500</td>\n      <td>0.1600</td>\n      <td>1.3734</td>\n      <td>9714.74</td>\n      <td>11417.5556</td>\n      <td>1.1582</td>\n      <td>...</td>\n      <td>12.6589</td>\n      <td>10.1862</td>\n      <td>9.4261</td>\n      <td>0.0</td>\n      <td>&lt;NA&gt;</td>\n      <td>8397.6684</td>\n      <td>8387.5459</td>\n      <td>6196.0792</td>\n      <td>99176.4638</td>\n      <td>99056.9171</td>\n    </tr>\n    <tr>\n      <th>000005.SZ</th>\n      <td>2.5000</td>\n      <td>2.5200</td>\n      <td>2.4700</td>\n      <td>2.4900</td>\n      <td>2.5000</td>\n      <td>-0.0100</td>\n      <td>-0.4000</td>\n      <td>29997.74</td>\n      <td>7473.5909</td>\n      <td>0.3283</td>\n      <td>...</td>\n      <td>3.486</td>\n      <td>22.8994</td>\n      <td>26.6946</td>\n      <td>0.0</td>\n      <td>&lt;NA&gt;</td>\n      <td>91433.3607</td>\n      <td>91374.3007</td>\n      <td>72950.2562</td>\n      <td>227669.0681</td>\n      <td>227522.0087</td>\n    </tr>\n    <tr>\n      <th>000006.SZ</th>\n      <td>3.8968</td>\n      <td>3.9047</td>\n      <td>3.8256</td>\n      <td>3.8494</td>\n      <td>3.8968</td>\n      <td>-0.0474</td>\n      <td>-1.2164</td>\n      <td>88230.28</td>\n      <td>43051.9277</td>\n      <td>0.6604</td>\n      <td>...</td>\n      <td>1.749</td>\n      <td>2.1372</td>\n      <td>2.4689</td>\n      <td>1.9556</td>\n      <td>1.9556</td>\n      <td>134999.5046</td>\n      <td>133595.2936</td>\n      <td>65409.8872</td>\n      <td>657447.5874</td>\n      <td>650609.0798</td>\n    </tr>\n    <tr>\n      <th>...</th>\n      <th>...</th>\n      <td>...</td>\n      <td>...</td>\n      <td>...</td>\n      <td>...</td>\n      <td>...</td>\n      <td>...</td>\n      <td>...</td>\n      <td>...</td>\n      <td>...</td>\n      <td>...</td>\n      <td>...</td>\n      <td>...</td>\n      <td>...</td>\n      <td>...</td>\n      <td>...</td>\n      <td>...</td>\n      <td>...</td>\n      <td>...</td>\n      <td>...</td>\n      <td>...</td>\n      <td>...</td>\n    </tr>\n    <tr>\n      <th>20221130</th>\n      <th>872374.BJ</th>\n      <td>9.7300</td>\n      <td>9.8100</td>\n      <td>9.6500</td>\n      <td>9.6800</td>\n      <td>9.8500</td>\n      <td>-0.1700</td>\n      <td>-1.7259</td>\n      <td>8135.76</td>\n      <td>7893.3140</td>\n      <td>&lt;NA&gt;</td>\n      <td>...</td>\n      <td>&lt;NA&gt;</td>\n      <td>&lt;NA&gt;</td>\n      <td>&lt;NA&gt;</td>\n      <td>&lt;NA&gt;</td>\n      <td>&lt;NA&gt;</td>\n      <td>&lt;NA&gt;</td>\n      <td>&lt;NA&gt;</td>\n      <td>&lt;NA&gt;</td>\n      <td>&lt;NA&gt;</td>\n      <td>&lt;NA&gt;</td>\n    </tr>\n    <tr>\n      <th rowspan=\"4\" valign=\"top\">20221201</th>\n      <th>301290.SZ</th>\n      <td>49.8100</td>\n      <td>51.4900</td>\n      <td>47.9400</td>\n      <td>48.4800</td>\n      <td>53.1200</td>\n      <td>-4.6400</td>\n      <td>-8.7349</td>\n      <td>108843.32</td>\n      <td>534442.0180</td>\n      <td>48.0937</td>\n      <td>...</td>\n      <td>2.2424</td>\n      <td>10.8767</td>\n      <td>10.6376</td>\n      <td>&lt;NA&gt;</td>\n      <td>&lt;NA&gt;</td>\n      <td>10017.3334</td>\n      <td>2263.1536</td>\n      <td>2263.1536</td>\n      <td>485640.3232</td>\n      <td>109717.6865</td>\n    </tr>\n    <tr>\n      <th>301311.SZ</th>\n      <td>20.4000</td>\n      <td>24.2800</td>\n      <td>20.1600</td>\n      <td>22.5600</td>\n      <td>20.0100</td>\n      <td>2.5500</td>\n      <td>12.7436</td>\n      <td>342502.29</td>\n      <td>750712.7690</td>\n      <td>60.1845</td>\n      <td>...</td>\n      <td>3.1221</td>\n      <td>2.8278</td>\n      <td>2.8627</td>\n      <td>&lt;NA&gt;</td>\n      <td>&lt;NA&gt;</td>\n      <td>24000.0</td>\n      <td>5690.8675</td>\n      <td>5690.8675</td>\n      <td>541440.0</td>\n      <td>128385.9708</td>\n    </tr>\n    <tr>\n      <th>870199.BJ</th>\n      <td>29.0000</td>\n      <td>30.8000</td>\n      <td>28.1800</td>\n      <td>30.8000</td>\n      <td>31.8000</td>\n      <td>-1.0000</td>\n      <td>-3.1447</td>\n      <td>33555.95</td>\n      <td>97293.8040</td>\n      <td>28.93</td>\n      <td>...</td>\n      <td>2.7135</td>\n      <td>4.5536</td>\n      <td>3.7651</td>\n      <td>&lt;NA&gt;</td>\n      <td>&lt;NA&gt;</td>\n      <td>4865.0</td>\n      <td>1159.9</td>\n      <td>1159.9</td>\n      <td>149842.0</td>\n      <td>35724.92</td>\n    </tr>\n    <tr>\n      <th>872374.BJ</th>\n      <td>9.6300</td>\n      <td>9.7500</td>\n      <td>9.6300</td>\n      <td>9.7000</td>\n      <td>9.6800</td>\n      <td>0.0200</td>\n      <td>0.2066</td>\n      <td>4895.79</td>\n      <td>4744.5780</td>\n      <td>&lt;NA&gt;</td>\n      <td>...</td>\n      <td>&lt;NA&gt;</td>\n      <td>&lt;NA&gt;</td>\n      <td>&lt;NA&gt;</td>\n      <td>&lt;NA&gt;</td>\n      <td>&lt;NA&gt;</td>\n      <td>&lt;NA&gt;</td>\n      <td>&lt;NA&gt;</td>\n      <td>&lt;NA&gt;</td>\n      <td>&lt;NA&gt;</td>\n      <td>&lt;NA&gt;</td>\n    </tr>\n  </tbody>\n</table>\n<p>7143120 rows × 24 columns</p>\n</div>"
     },
     "execution_count": 4,
     "metadata": {},
     "output_type": "execute_result"
    }
   ],
   "source": [
    "data_loader.get_ashare_panel()"
   ],
   "metadata": {
    "collapsed": false
   }
  },
  {
   "cell_type": "markdown",
   "source": [
    "#### 指数基本面面板数据"
   ],
   "metadata": {
    "collapsed": false
   }
  },
  {
   "cell_type": "code",
   "execution_count": 5,
   "outputs": [
    {
     "data": {
      "text/plain": "                           close        open        high         low  \\\ntrade_date ts_code                                                     \n20140102   000001.SH    2109.387    2112.126     2113.11    2101.016   \n           000016.SH    1561.099    1570.049    1570.049    1553.476   \n           000300.SH    2321.978    2323.433    2325.991    2310.653   \n           000905.SH    3847.879    3823.316    3848.253    3813.806   \n           399001.SZ    8114.388    8083.772    8124.558    8048.274   \n...                          ...         ...         ...         ...   \n20221207   000016.SH    2670.647   2678.6369   2705.2434   2661.2477   \n           000300.SH   3958.4409   3956.6722   3999.5864   3944.1831   \n           000905.SH   6204.0051   6198.0532   6243.9022   6183.3338   \n           399001.SZ  11418.7632  11365.9813  11504.3936  11358.6814   \n           399300.SZ        <NA>        <NA>        <NA>        <NA>   \n\n                       pre_close    change shareindex_return          vol  \\\ntrade_date ts_code                                                          \n20140102   000001.SH    2115.978    -6.591           -0.3115   68485486.0   \n           000016.SH    1574.781   -13.682           -0.8688   15725481.0   \n           000300.SH    2330.026    -8.048           -0.3454   45194291.0   \n           000905.SH    3829.096    18.783            0.4905   30800260.0   \n           399001.SZ    8121.788      -7.4           -0.0911  76523675.97   \n...                          ...       ...               ...          ...   \n20221207   000016.SH   2684.8458  -14.1988           -0.5288   34532578.0   \n           000300.SH   3968.1979    -9.757           -0.2459  143001356.0   \n           000905.SH   6211.2515   -7.2464           -0.1167  137821246.0   \n           399001.SZ  11398.8201   19.9431             0.175  445500812.0   \n           399300.SZ        <NA>      <NA>              <NA>         <NA>   \n\n                           amount      total_mv      float_mv   total_share  \\\ntrade_date ts_code                                                            \n20140102   000001.SH  61921354.65  1.816591e+13  1.355083e+13  3.233397e+12   \n           000016.SH  14982557.38  8.764339e+12  7.067457e+12  1.536462e+12   \n           000300.SH  49012211.12  1.724706e+13  1.263173e+13  2.880502e+12   \n           000905.SH  31417807.02  3.684081e+12  2.879294e+12  4.173544e+11   \n           399001.SZ  95994236.32  1.809932e+12  1.331610e+12  1.431701e+11   \n...                           ...           ...           ...           ...   \n20221207   000016.SH  64178141.48  1.798471e+13  1.500842e+13  1.586560e+12   \n           000300.SH  255490829.0  4.800432e+13  3.634145e+13  4.012892e+12   \n           000905.SH  155238837.7  1.237585e+13  1.067164e+13  1.360448e+12   \n           399001.SZ  546530031.6  2.251881e+13  1.857781e+13  1.292449e+12   \n           399300.SZ         <NA>  4.800432e+13  3.634145e+13  4.012892e+12   \n\n                       float_share    free_share  turnover_rate  \\\ntrade_date ts_code                                                \n20140102   000001.SH  2.358476e+12  7.076779e+11           0.29   \n           000016.SH  1.244444e+12  2.652202e+11           0.13   \n           000300.SH  2.067522e+12  5.658356e+11           0.22   \n           000905.SH  3.399529e+11  1.950857e+11           0.91   \n           399001.SZ  1.126513e+11  7.292581e+10           0.64   \n...                            ...           ...            ...   \n20221207   000016.SH  1.232971e+12  3.381492e+11           0.28   \n           000300.SH  2.885259e+12  1.092071e+12           0.50   \n           000905.SH  1.181857e+12  6.334603e+11           1.17   \n           399001.SZ  1.093008e+12  6.351503e+11           1.19   \n           399300.SZ  2.885259e+12  1.092071e+12           0.50   \n\n                      turnover_rate_f     pe  pe_ttm    pb  \ntrade_date ts_code                                          \n20140102   000001.SH             0.96  10.71    9.64  1.34  \n           000016.SH             0.59   8.35    7.51  1.21  \n           000300.SH             0.80   9.79    8.89  1.33  \n           000905.SH             1.58  31.71   28.78  2.34  \n           399001.SZ             0.99  16.19   14.84  2.20  \n...                               ...    ...     ...   ...  \n20221207   000016.SH             1.02  10.08    9.57  1.22  \n           000300.SH             1.31  12.06   11.55  1.35  \n           000905.SH             2.18  20.31   23.74  1.69  \n           399001.SZ             2.05  25.40   26.56  2.59  \n           399300.SZ             1.31  12.06   11.55  1.35  \n\n[13050 rows x 19 columns]",
      "text/html": "<div>\n<style scoped>\n    .dataframe tbody tr th:only-of-type {\n        vertical-align: middle;\n    }\n\n    .dataframe tbody tr th {\n        vertical-align: top;\n    }\n\n    .dataframe thead th {\n        text-align: right;\n    }\n</style>\n<table border=\"1\" class=\"dataframe\">\n  <thead>\n    <tr style=\"text-align: right;\">\n      <th></th>\n      <th></th>\n      <th>close</th>\n      <th>open</th>\n      <th>high</th>\n      <th>low</th>\n      <th>pre_close</th>\n      <th>change</th>\n      <th>shareindex_return</th>\n      <th>vol</th>\n      <th>amount</th>\n      <th>total_mv</th>\n      <th>float_mv</th>\n      <th>total_share</th>\n      <th>float_share</th>\n      <th>free_share</th>\n      <th>turnover_rate</th>\n      <th>turnover_rate_f</th>\n      <th>pe</th>\n      <th>pe_ttm</th>\n      <th>pb</th>\n    </tr>\n    <tr>\n      <th>trade_date</th>\n      <th>ts_code</th>\n      <th></th>\n      <th></th>\n      <th></th>\n      <th></th>\n      <th></th>\n      <th></th>\n      <th></th>\n      <th></th>\n      <th></th>\n      <th></th>\n      <th></th>\n      <th></th>\n      <th></th>\n      <th></th>\n      <th></th>\n      <th></th>\n      <th></th>\n      <th></th>\n      <th></th>\n    </tr>\n  </thead>\n  <tbody>\n    <tr>\n      <th rowspan=\"5\" valign=\"top\">20140102</th>\n      <th>000001.SH</th>\n      <td>2109.387</td>\n      <td>2112.126</td>\n      <td>2113.11</td>\n      <td>2101.016</td>\n      <td>2115.978</td>\n      <td>-6.591</td>\n      <td>-0.3115</td>\n      <td>68485486.0</td>\n      <td>61921354.65</td>\n      <td>1.816591e+13</td>\n      <td>1.355083e+13</td>\n      <td>3.233397e+12</td>\n      <td>2.358476e+12</td>\n      <td>7.076779e+11</td>\n      <td>0.29</td>\n      <td>0.96</td>\n      <td>10.71</td>\n      <td>9.64</td>\n      <td>1.34</td>\n    </tr>\n    <tr>\n      <th>000016.SH</th>\n      <td>1561.099</td>\n      <td>1570.049</td>\n      <td>1570.049</td>\n      <td>1553.476</td>\n      <td>1574.781</td>\n      <td>-13.682</td>\n      <td>-0.8688</td>\n      <td>15725481.0</td>\n      <td>14982557.38</td>\n      <td>8.764339e+12</td>\n      <td>7.067457e+12</td>\n      <td>1.536462e+12</td>\n      <td>1.244444e+12</td>\n      <td>2.652202e+11</td>\n      <td>0.13</td>\n      <td>0.59</td>\n      <td>8.35</td>\n      <td>7.51</td>\n      <td>1.21</td>\n    </tr>\n    <tr>\n      <th>000300.SH</th>\n      <td>2321.978</td>\n      <td>2323.433</td>\n      <td>2325.991</td>\n      <td>2310.653</td>\n      <td>2330.026</td>\n      <td>-8.048</td>\n      <td>-0.3454</td>\n      <td>45194291.0</td>\n      <td>49012211.12</td>\n      <td>1.724706e+13</td>\n      <td>1.263173e+13</td>\n      <td>2.880502e+12</td>\n      <td>2.067522e+12</td>\n      <td>5.658356e+11</td>\n      <td>0.22</td>\n      <td>0.80</td>\n      <td>9.79</td>\n      <td>8.89</td>\n      <td>1.33</td>\n    </tr>\n    <tr>\n      <th>000905.SH</th>\n      <td>3847.879</td>\n      <td>3823.316</td>\n      <td>3848.253</td>\n      <td>3813.806</td>\n      <td>3829.096</td>\n      <td>18.783</td>\n      <td>0.4905</td>\n      <td>30800260.0</td>\n      <td>31417807.02</td>\n      <td>3.684081e+12</td>\n      <td>2.879294e+12</td>\n      <td>4.173544e+11</td>\n      <td>3.399529e+11</td>\n      <td>1.950857e+11</td>\n      <td>0.91</td>\n      <td>1.58</td>\n      <td>31.71</td>\n      <td>28.78</td>\n      <td>2.34</td>\n    </tr>\n    <tr>\n      <th>399001.SZ</th>\n      <td>8114.388</td>\n      <td>8083.772</td>\n      <td>8124.558</td>\n      <td>8048.274</td>\n      <td>8121.788</td>\n      <td>-7.4</td>\n      <td>-0.0911</td>\n      <td>76523675.97</td>\n      <td>95994236.32</td>\n      <td>1.809932e+12</td>\n      <td>1.331610e+12</td>\n      <td>1.431701e+11</td>\n      <td>1.126513e+11</td>\n      <td>7.292581e+10</td>\n      <td>0.64</td>\n      <td>0.99</td>\n      <td>16.19</td>\n      <td>14.84</td>\n      <td>2.20</td>\n    </tr>\n    <tr>\n      <th>...</th>\n      <th>...</th>\n      <td>...</td>\n      <td>...</td>\n      <td>...</td>\n      <td>...</td>\n      <td>...</td>\n      <td>...</td>\n      <td>...</td>\n      <td>...</td>\n      <td>...</td>\n      <td>...</td>\n      <td>...</td>\n      <td>...</td>\n      <td>...</td>\n      <td>...</td>\n      <td>...</td>\n      <td>...</td>\n      <td>...</td>\n      <td>...</td>\n      <td>...</td>\n    </tr>\n    <tr>\n      <th rowspan=\"5\" valign=\"top\">20221207</th>\n      <th>000016.SH</th>\n      <td>2670.647</td>\n      <td>2678.6369</td>\n      <td>2705.2434</td>\n      <td>2661.2477</td>\n      <td>2684.8458</td>\n      <td>-14.1988</td>\n      <td>-0.5288</td>\n      <td>34532578.0</td>\n      <td>64178141.48</td>\n      <td>1.798471e+13</td>\n      <td>1.500842e+13</td>\n      <td>1.586560e+12</td>\n      <td>1.232971e+12</td>\n      <td>3.381492e+11</td>\n      <td>0.28</td>\n      <td>1.02</td>\n      <td>10.08</td>\n      <td>9.57</td>\n      <td>1.22</td>\n    </tr>\n    <tr>\n      <th>000300.SH</th>\n      <td>3958.4409</td>\n      <td>3956.6722</td>\n      <td>3999.5864</td>\n      <td>3944.1831</td>\n      <td>3968.1979</td>\n      <td>-9.757</td>\n      <td>-0.2459</td>\n      <td>143001356.0</td>\n      <td>255490829.0</td>\n      <td>4.800432e+13</td>\n      <td>3.634145e+13</td>\n      <td>4.012892e+12</td>\n      <td>2.885259e+12</td>\n      <td>1.092071e+12</td>\n      <td>0.50</td>\n      <td>1.31</td>\n      <td>12.06</td>\n      <td>11.55</td>\n      <td>1.35</td>\n    </tr>\n    <tr>\n      <th>000905.SH</th>\n      <td>6204.0051</td>\n      <td>6198.0532</td>\n      <td>6243.9022</td>\n      <td>6183.3338</td>\n      <td>6211.2515</td>\n      <td>-7.2464</td>\n      <td>-0.1167</td>\n      <td>137821246.0</td>\n      <td>155238837.7</td>\n      <td>1.237585e+13</td>\n      <td>1.067164e+13</td>\n      <td>1.360448e+12</td>\n      <td>1.181857e+12</td>\n      <td>6.334603e+11</td>\n      <td>1.17</td>\n      <td>2.18</td>\n      <td>20.31</td>\n      <td>23.74</td>\n      <td>1.69</td>\n    </tr>\n    <tr>\n      <th>399001.SZ</th>\n      <td>11418.7632</td>\n      <td>11365.9813</td>\n      <td>11504.3936</td>\n      <td>11358.6814</td>\n      <td>11398.8201</td>\n      <td>19.9431</td>\n      <td>0.175</td>\n      <td>445500812.0</td>\n      <td>546530031.6</td>\n      <td>2.251881e+13</td>\n      <td>1.857781e+13</td>\n      <td>1.292449e+12</td>\n      <td>1.093008e+12</td>\n      <td>6.351503e+11</td>\n      <td>1.19</td>\n      <td>2.05</td>\n      <td>25.40</td>\n      <td>26.56</td>\n      <td>2.59</td>\n    </tr>\n    <tr>\n      <th>399300.SZ</th>\n      <td>&lt;NA&gt;</td>\n      <td>&lt;NA&gt;</td>\n      <td>&lt;NA&gt;</td>\n      <td>&lt;NA&gt;</td>\n      <td>&lt;NA&gt;</td>\n      <td>&lt;NA&gt;</td>\n      <td>&lt;NA&gt;</td>\n      <td>&lt;NA&gt;</td>\n      <td>&lt;NA&gt;</td>\n      <td>4.800432e+13</td>\n      <td>3.634145e+13</td>\n      <td>4.012892e+12</td>\n      <td>2.885259e+12</td>\n      <td>1.092071e+12</td>\n      <td>0.50</td>\n      <td>1.31</td>\n      <td>12.06</td>\n      <td>11.55</td>\n      <td>1.35</td>\n    </tr>\n  </tbody>\n</table>\n<p>13050 rows × 19 columns</p>\n</div>"
     },
     "execution_count": 5,
     "metadata": {},
     "output_type": "execute_result"
    }
   ],
   "source": [
    "data_loader.get_index_panel()"
   ],
   "metadata": {
    "collapsed": false
   }
  },
  {
   "cell_type": "markdown",
   "source": [
    "#### 时间序列数据"
   ],
   "metadata": {
    "collapsed": false
   }
  },
  {
   "cell_type": "code",
   "execution_count": 6,
   "outputs": [
    {
     "ename": "DatabaseError",
     "evalue": "(mysql.connector.errors.DatabaseError) 2003 (HY000): Can't connect to MySQL server on 'localhost:3306' (111)\n(Background on this error at: https://sqlalche.me/e/14/4xp6)",
     "output_type": "error",
     "traceback": [
      "\u001B[0;31m---------------------------------------------------------------------------\u001B[0m",
      "\u001B[0;31mMySQLInterfaceError\u001B[0m                       Traceback (most recent call last)",
      "File \u001B[0;32m/usr/local/miniconda3/envs/Rapids/lib/python3.9/site-packages/mysql/connector/connection_cext.py:288\u001B[0m, in \u001B[0;36mCMySQLConnection._open_connection\u001B[0;34m(self)\u001B[0m\n\u001B[1;32m    287\u001B[0m \u001B[38;5;28;01mtry\u001B[39;00m:\n\u001B[0;32m--> 288\u001B[0m     \u001B[38;5;28;43mself\u001B[39;49m\u001B[38;5;241;43m.\u001B[39;49m\u001B[43m_cmysql\u001B[49m\u001B[38;5;241;43m.\u001B[39;49m\u001B[43mconnect\u001B[49m\u001B[43m(\u001B[49m\u001B[38;5;241;43m*\u001B[39;49m\u001B[38;5;241;43m*\u001B[39;49m\u001B[43mcnx_kwargs\u001B[49m\u001B[43m)\u001B[49m\n\u001B[1;32m    289\u001B[0m     \u001B[38;5;28mself\u001B[39m\u001B[38;5;241m.\u001B[39m_cmysql\u001B[38;5;241m.\u001B[39mconverter_str_fallback \u001B[38;5;241m=\u001B[39m \u001B[38;5;28mself\u001B[39m\u001B[38;5;241m.\u001B[39m_converter_str_fallback\n",
      "\u001B[0;31mMySQLInterfaceError\u001B[0m: Can't connect to MySQL server on 'localhost:3306' (111)",
      "\nThe above exception was the direct cause of the following exception:\n",
      "\u001B[0;31mDatabaseError\u001B[0m                             Traceback (most recent call last)",
      "File \u001B[0;32m/usr/local/miniconda3/envs/Rapids/lib/python3.9/site-packages/sqlalchemy/engine/base.py:3361\u001B[0m, in \u001B[0;36mEngine._wrap_pool_connect\u001B[0;34m(self, fn, connection)\u001B[0m\n\u001B[1;32m   3360\u001B[0m \u001B[38;5;28;01mtry\u001B[39;00m:\n\u001B[0;32m-> 3361\u001B[0m     \u001B[38;5;28;01mreturn\u001B[39;00m \u001B[43mfn\u001B[49m\u001B[43m(\u001B[49m\u001B[43m)\u001B[49m\n\u001B[1;32m   3362\u001B[0m \u001B[38;5;28;01mexcept\u001B[39;00m dialect\u001B[38;5;241m.\u001B[39mdbapi\u001B[38;5;241m.\u001B[39mError \u001B[38;5;28;01mas\u001B[39;00m e:\n",
      "File \u001B[0;32m/usr/local/miniconda3/envs/Rapids/lib/python3.9/site-packages/sqlalchemy/pool/base.py:327\u001B[0m, in \u001B[0;36mPool.connect\u001B[0;34m(self)\u001B[0m\n\u001B[1;32m    320\u001B[0m \u001B[38;5;250m\u001B[39m\u001B[38;5;124;03m\"\"\"Return a DBAPI connection from the pool.\u001B[39;00m\n\u001B[1;32m    321\u001B[0m \n\u001B[1;32m    322\u001B[0m \u001B[38;5;124;03mThe connection is instrumented such that when its\u001B[39;00m\n\u001B[0;32m   (...)\u001B[0m\n\u001B[1;32m    325\u001B[0m \n\u001B[1;32m    326\u001B[0m \u001B[38;5;124;03m\"\"\"\u001B[39;00m\n\u001B[0;32m--> 327\u001B[0m \u001B[38;5;28;01mreturn\u001B[39;00m \u001B[43m_ConnectionFairy\u001B[49m\u001B[38;5;241;43m.\u001B[39;49m\u001B[43m_checkout\u001B[49m\u001B[43m(\u001B[49m\u001B[38;5;28;43mself\u001B[39;49m\u001B[43m)\u001B[49m\n",
      "File \u001B[0;32m/usr/local/miniconda3/envs/Rapids/lib/python3.9/site-packages/sqlalchemy/pool/base.py:894\u001B[0m, in \u001B[0;36m_ConnectionFairy._checkout\u001B[0;34m(cls, pool, threadconns, fairy)\u001B[0m\n\u001B[1;32m    893\u001B[0m \u001B[38;5;28;01mif\u001B[39;00m \u001B[38;5;129;01mnot\u001B[39;00m fairy:\n\u001B[0;32m--> 894\u001B[0m     fairy \u001B[38;5;241m=\u001B[39m \u001B[43m_ConnectionRecord\u001B[49m\u001B[38;5;241;43m.\u001B[39;49m\u001B[43mcheckout\u001B[49m\u001B[43m(\u001B[49m\u001B[43mpool\u001B[49m\u001B[43m)\u001B[49m\n\u001B[1;32m    896\u001B[0m     fairy\u001B[38;5;241m.\u001B[39m_pool \u001B[38;5;241m=\u001B[39m pool\n",
      "File \u001B[0;32m/usr/local/miniconda3/envs/Rapids/lib/python3.9/site-packages/sqlalchemy/pool/base.py:493\u001B[0m, in \u001B[0;36m_ConnectionRecord.checkout\u001B[0;34m(cls, pool)\u001B[0m\n\u001B[1;32m    491\u001B[0m \u001B[38;5;129m@classmethod\u001B[39m\n\u001B[1;32m    492\u001B[0m \u001B[38;5;28;01mdef\u001B[39;00m \u001B[38;5;21mcheckout\u001B[39m(\u001B[38;5;28mcls\u001B[39m, pool):\n\u001B[0;32m--> 493\u001B[0m     rec \u001B[38;5;241m=\u001B[39m \u001B[43mpool\u001B[49m\u001B[38;5;241;43m.\u001B[39;49m\u001B[43m_do_get\u001B[49m\u001B[43m(\u001B[49m\u001B[43m)\u001B[49m\n\u001B[1;32m    494\u001B[0m     \u001B[38;5;28;01mtry\u001B[39;00m:\n",
      "File \u001B[0;32m/usr/local/miniconda3/envs/Rapids/lib/python3.9/site-packages/sqlalchemy/pool/impl.py:146\u001B[0m, in \u001B[0;36mQueuePool._do_get\u001B[0;34m(self)\u001B[0m\n\u001B[1;32m    145\u001B[0m         \u001B[38;5;28;01mwith\u001B[39;00m util\u001B[38;5;241m.\u001B[39msafe_reraise():\n\u001B[0;32m--> 146\u001B[0m             \u001B[38;5;28mself\u001B[39m\u001B[38;5;241m.\u001B[39m_dec_overflow()\n\u001B[1;32m    147\u001B[0m \u001B[38;5;28;01melse\u001B[39;00m:\n",
      "File \u001B[0;32m/usr/local/miniconda3/envs/Rapids/lib/python3.9/site-packages/sqlalchemy/util/langhelpers.py:70\u001B[0m, in \u001B[0;36msafe_reraise.__exit__\u001B[0;34m(self, type_, value, traceback)\u001B[0m\n\u001B[1;32m     69\u001B[0m     \u001B[38;5;28;01mif\u001B[39;00m \u001B[38;5;129;01mnot\u001B[39;00m \u001B[38;5;28mself\u001B[39m\u001B[38;5;241m.\u001B[39mwarn_only:\n\u001B[0;32m---> 70\u001B[0m         \u001B[43mcompat\u001B[49m\u001B[38;5;241;43m.\u001B[39;49m\u001B[43mraise_\u001B[49m\u001B[43m(\u001B[49m\n\u001B[1;32m     71\u001B[0m \u001B[43m            \u001B[49m\u001B[43mexc_value\u001B[49m\u001B[43m,\u001B[49m\n\u001B[1;32m     72\u001B[0m \u001B[43m            \u001B[49m\u001B[43mwith_traceback\u001B[49m\u001B[38;5;241;43m=\u001B[39;49m\u001B[43mexc_tb\u001B[49m\u001B[43m,\u001B[49m\n\u001B[1;32m     73\u001B[0m \u001B[43m        \u001B[49m\u001B[43m)\u001B[49m\n\u001B[1;32m     74\u001B[0m \u001B[38;5;28;01melse\u001B[39;00m:\n",
      "File \u001B[0;32m/usr/local/miniconda3/envs/Rapids/lib/python3.9/site-packages/sqlalchemy/util/compat.py:211\u001B[0m, in \u001B[0;36mraise_\u001B[0;34m(***failed resolving arguments***)\u001B[0m\n\u001B[1;32m    210\u001B[0m \u001B[38;5;28;01mtry\u001B[39;00m:\n\u001B[0;32m--> 211\u001B[0m     \u001B[38;5;28;01mraise\u001B[39;00m exception\n\u001B[1;32m    212\u001B[0m \u001B[38;5;28;01mfinally\u001B[39;00m:\n\u001B[1;32m    213\u001B[0m     \u001B[38;5;66;03m# credit to\u001B[39;00m\n\u001B[1;32m    214\u001B[0m     \u001B[38;5;66;03m# https://cosmicpercolator.com/2016/01/13/exception-leaks-in-python-2-and-3/\u001B[39;00m\n\u001B[1;32m    215\u001B[0m     \u001B[38;5;66;03m# as the __traceback__ object creates a cycle\u001B[39;00m\n",
      "File \u001B[0;32m/usr/local/miniconda3/envs/Rapids/lib/python3.9/site-packages/sqlalchemy/pool/impl.py:143\u001B[0m, in \u001B[0;36mQueuePool._do_get\u001B[0;34m(self)\u001B[0m\n\u001B[1;32m    142\u001B[0m \u001B[38;5;28;01mtry\u001B[39;00m:\n\u001B[0;32m--> 143\u001B[0m     \u001B[38;5;28;01mreturn\u001B[39;00m \u001B[38;5;28;43mself\u001B[39;49m\u001B[38;5;241;43m.\u001B[39;49m\u001B[43m_create_connection\u001B[49m\u001B[43m(\u001B[49m\u001B[43m)\u001B[49m\n\u001B[1;32m    144\u001B[0m \u001B[38;5;28;01mexcept\u001B[39;00m:\n",
      "File \u001B[0;32m/usr/local/miniconda3/envs/Rapids/lib/python3.9/site-packages/sqlalchemy/pool/base.py:273\u001B[0m, in \u001B[0;36mPool._create_connection\u001B[0;34m(self)\u001B[0m\n\u001B[1;32m    271\u001B[0m \u001B[38;5;250m\u001B[39m\u001B[38;5;124;03m\"\"\"Called by subclasses to create a new ConnectionRecord.\"\"\"\u001B[39;00m\n\u001B[0;32m--> 273\u001B[0m \u001B[38;5;28;01mreturn\u001B[39;00m \u001B[43m_ConnectionRecord\u001B[49m\u001B[43m(\u001B[49m\u001B[38;5;28;43mself\u001B[39;49m\u001B[43m)\u001B[49m\n",
      "File \u001B[0;32m/usr/local/miniconda3/envs/Rapids/lib/python3.9/site-packages/sqlalchemy/pool/base.py:388\u001B[0m, in \u001B[0;36m_ConnectionRecord.__init__\u001B[0;34m(self, pool, connect)\u001B[0m\n\u001B[1;32m    387\u001B[0m \u001B[38;5;28;01mif\u001B[39;00m connect:\n\u001B[0;32m--> 388\u001B[0m     \u001B[38;5;28;43mself\u001B[39;49m\u001B[38;5;241;43m.\u001B[39;49m\u001B[43m__connect\u001B[49m\u001B[43m(\u001B[49m\u001B[43m)\u001B[49m\n\u001B[1;32m    389\u001B[0m \u001B[38;5;28mself\u001B[39m\u001B[38;5;241m.\u001B[39mfinalize_callback \u001B[38;5;241m=\u001B[39m deque()\n",
      "File \u001B[0;32m/usr/local/miniconda3/envs/Rapids/lib/python3.9/site-packages/sqlalchemy/pool/base.py:691\u001B[0m, in \u001B[0;36m_ConnectionRecord.__connect\u001B[0;34m(self)\u001B[0m\n\u001B[1;32m    690\u001B[0m     \u001B[38;5;28;01mwith\u001B[39;00m util\u001B[38;5;241m.\u001B[39msafe_reraise():\n\u001B[0;32m--> 691\u001B[0m         pool\u001B[38;5;241m.\u001B[39mlogger\u001B[38;5;241m.\u001B[39mdebug(\u001B[38;5;124m\"\u001B[39m\u001B[38;5;124mError on connect(): \u001B[39m\u001B[38;5;132;01m%s\u001B[39;00m\u001B[38;5;124m\"\u001B[39m, e)\n\u001B[1;32m    692\u001B[0m \u001B[38;5;28;01melse\u001B[39;00m:\n\u001B[1;32m    693\u001B[0m     \u001B[38;5;66;03m# in SQLAlchemy 1.4 the first_connect event is not used by\u001B[39;00m\n\u001B[1;32m    694\u001B[0m     \u001B[38;5;66;03m# the engine, so this will usually not be set\u001B[39;00m\n",
      "File \u001B[0;32m/usr/local/miniconda3/envs/Rapids/lib/python3.9/site-packages/sqlalchemy/util/langhelpers.py:70\u001B[0m, in \u001B[0;36msafe_reraise.__exit__\u001B[0;34m(self, type_, value, traceback)\u001B[0m\n\u001B[1;32m     69\u001B[0m     \u001B[38;5;28;01mif\u001B[39;00m \u001B[38;5;129;01mnot\u001B[39;00m \u001B[38;5;28mself\u001B[39m\u001B[38;5;241m.\u001B[39mwarn_only:\n\u001B[0;32m---> 70\u001B[0m         \u001B[43mcompat\u001B[49m\u001B[38;5;241;43m.\u001B[39;49m\u001B[43mraise_\u001B[49m\u001B[43m(\u001B[49m\n\u001B[1;32m     71\u001B[0m \u001B[43m            \u001B[49m\u001B[43mexc_value\u001B[49m\u001B[43m,\u001B[49m\n\u001B[1;32m     72\u001B[0m \u001B[43m            \u001B[49m\u001B[43mwith_traceback\u001B[49m\u001B[38;5;241;43m=\u001B[39;49m\u001B[43mexc_tb\u001B[49m\u001B[43m,\u001B[49m\n\u001B[1;32m     73\u001B[0m \u001B[43m        \u001B[49m\u001B[43m)\u001B[49m\n\u001B[1;32m     74\u001B[0m \u001B[38;5;28;01melse\u001B[39;00m:\n",
      "File \u001B[0;32m/usr/local/miniconda3/envs/Rapids/lib/python3.9/site-packages/sqlalchemy/util/compat.py:211\u001B[0m, in \u001B[0;36mraise_\u001B[0;34m(***failed resolving arguments***)\u001B[0m\n\u001B[1;32m    210\u001B[0m \u001B[38;5;28;01mtry\u001B[39;00m:\n\u001B[0;32m--> 211\u001B[0m     \u001B[38;5;28;01mraise\u001B[39;00m exception\n\u001B[1;32m    212\u001B[0m \u001B[38;5;28;01mfinally\u001B[39;00m:\n\u001B[1;32m    213\u001B[0m     \u001B[38;5;66;03m# credit to\u001B[39;00m\n\u001B[1;32m    214\u001B[0m     \u001B[38;5;66;03m# https://cosmicpercolator.com/2016/01/13/exception-leaks-in-python-2-and-3/\u001B[39;00m\n\u001B[1;32m    215\u001B[0m     \u001B[38;5;66;03m# as the __traceback__ object creates a cycle\u001B[39;00m\n",
      "File \u001B[0;32m/usr/local/miniconda3/envs/Rapids/lib/python3.9/site-packages/sqlalchemy/pool/base.py:686\u001B[0m, in \u001B[0;36m_ConnectionRecord.__connect\u001B[0;34m(self)\u001B[0m\n\u001B[1;32m    685\u001B[0m \u001B[38;5;28mself\u001B[39m\u001B[38;5;241m.\u001B[39mstarttime \u001B[38;5;241m=\u001B[39m time\u001B[38;5;241m.\u001B[39mtime()\n\u001B[0;32m--> 686\u001B[0m \u001B[38;5;28mself\u001B[39m\u001B[38;5;241m.\u001B[39mdbapi_connection \u001B[38;5;241m=\u001B[39m connection \u001B[38;5;241m=\u001B[39m \u001B[43mpool\u001B[49m\u001B[38;5;241;43m.\u001B[39;49m\u001B[43m_invoke_creator\u001B[49m\u001B[43m(\u001B[49m\u001B[38;5;28;43mself\u001B[39;49m\u001B[43m)\u001B[49m\n\u001B[1;32m    687\u001B[0m pool\u001B[38;5;241m.\u001B[39mlogger\u001B[38;5;241m.\u001B[39mdebug(\u001B[38;5;124m\"\u001B[39m\u001B[38;5;124mCreated new connection \u001B[39m\u001B[38;5;132;01m%r\u001B[39;00m\u001B[38;5;124m\"\u001B[39m, connection)\n",
      "File \u001B[0;32m/usr/local/miniconda3/envs/Rapids/lib/python3.9/site-packages/sqlalchemy/engine/create.py:578\u001B[0m, in \u001B[0;36mcreate_engine.<locals>.connect\u001B[0;34m(connection_record)\u001B[0m\n\u001B[1;32m    577\u001B[0m             \u001B[38;5;28;01mreturn\u001B[39;00m connection\n\u001B[0;32m--> 578\u001B[0m \u001B[38;5;28;01mreturn\u001B[39;00m \u001B[43mdialect\u001B[49m\u001B[38;5;241;43m.\u001B[39;49m\u001B[43mconnect\u001B[49m\u001B[43m(\u001B[49m\u001B[38;5;241;43m*\u001B[39;49m\u001B[43mcargs\u001B[49m\u001B[43m,\u001B[49m\u001B[43m \u001B[49m\u001B[38;5;241;43m*\u001B[39;49m\u001B[38;5;241;43m*\u001B[39;49m\u001B[43mcparams\u001B[49m\u001B[43m)\u001B[49m\n",
      "File \u001B[0;32m/usr/local/miniconda3/envs/Rapids/lib/python3.9/site-packages/sqlalchemy/engine/default.py:598\u001B[0m, in \u001B[0;36mDefaultDialect.connect\u001B[0;34m(self, *cargs, **cparams)\u001B[0m\n\u001B[1;32m    596\u001B[0m \u001B[38;5;28;01mdef\u001B[39;00m \u001B[38;5;21mconnect\u001B[39m(\u001B[38;5;28mself\u001B[39m, \u001B[38;5;241m*\u001B[39mcargs, \u001B[38;5;241m*\u001B[39m\u001B[38;5;241m*\u001B[39mcparams):\n\u001B[1;32m    597\u001B[0m     \u001B[38;5;66;03m# inherits the docstring from interfaces.Dialect.connect\u001B[39;00m\n\u001B[0;32m--> 598\u001B[0m     \u001B[38;5;28;01mreturn\u001B[39;00m \u001B[38;5;28;43mself\u001B[39;49m\u001B[38;5;241;43m.\u001B[39;49m\u001B[43mdbapi\u001B[49m\u001B[38;5;241;43m.\u001B[39;49m\u001B[43mconnect\u001B[49m\u001B[43m(\u001B[49m\u001B[38;5;241;43m*\u001B[39;49m\u001B[43mcargs\u001B[49m\u001B[43m,\u001B[49m\u001B[43m \u001B[49m\u001B[38;5;241;43m*\u001B[39;49m\u001B[38;5;241;43m*\u001B[39;49m\u001B[43mcparams\u001B[49m\u001B[43m)\u001B[49m\n",
      "File \u001B[0;32m/usr/local/miniconda3/envs/Rapids/lib/python3.9/site-packages/mysql/connector/pooling.py:293\u001B[0m, in \u001B[0;36mconnect\u001B[0;34m(*args, **kwargs)\u001B[0m\n\u001B[1;32m    292\u001B[0m \u001B[38;5;28;01mif\u001B[39;00m CMySQLConnection \u001B[38;5;129;01mand\u001B[39;00m \u001B[38;5;129;01mnot\u001B[39;00m use_pure:\n\u001B[0;32m--> 293\u001B[0m     \u001B[38;5;28;01mreturn\u001B[39;00m \u001B[43mCMySQLConnection\u001B[49m\u001B[43m(\u001B[49m\u001B[38;5;241;43m*\u001B[39;49m\u001B[43margs\u001B[49m\u001B[43m,\u001B[49m\u001B[43m \u001B[49m\u001B[38;5;241;43m*\u001B[39;49m\u001B[38;5;241;43m*\u001B[39;49m\u001B[43mkwargs\u001B[49m\u001B[43m)\u001B[49m\n\u001B[1;32m    294\u001B[0m \u001B[38;5;28;01mreturn\u001B[39;00m MySQLConnection(\u001B[38;5;241m*\u001B[39margs, \u001B[38;5;241m*\u001B[39m\u001B[38;5;241m*\u001B[39mkwargs)\n",
      "File \u001B[0;32m/usr/local/miniconda3/envs/Rapids/lib/python3.9/site-packages/mysql/connector/connection_cext.py:118\u001B[0m, in \u001B[0;36mCMySQLConnection.__init__\u001B[0;34m(self, **kwargs)\u001B[0m\n\u001B[1;32m    117\u001B[0m \u001B[38;5;28;01mif\u001B[39;00m kwargs:\n\u001B[0;32m--> 118\u001B[0m     \u001B[38;5;28;43mself\u001B[39;49m\u001B[38;5;241;43m.\u001B[39;49m\u001B[43mconnect\u001B[49m\u001B[43m(\u001B[49m\u001B[38;5;241;43m*\u001B[39;49m\u001B[38;5;241;43m*\u001B[39;49m\u001B[43mkwargs\u001B[49m\u001B[43m)\u001B[49m\n",
      "File \u001B[0;32m/usr/local/miniconda3/envs/Rapids/lib/python3.9/site-packages/mysql/connector/abstracts.py:1178\u001B[0m, in \u001B[0;36mMySQLConnectionAbstract.connect\u001B[0;34m(self, **kwargs)\u001B[0m\n\u001B[1;32m   1177\u001B[0m \u001B[38;5;28mself\u001B[39m\u001B[38;5;241m.\u001B[39mdisconnect()\n\u001B[0;32m-> 1178\u001B[0m \u001B[38;5;28;43mself\u001B[39;49m\u001B[38;5;241;43m.\u001B[39;49m\u001B[43m_open_connection\u001B[49m\u001B[43m(\u001B[49m\u001B[43m)\u001B[49m\n\u001B[1;32m   1179\u001B[0m \u001B[38;5;66;03m# Server does not allow to run any other statement different from ALTER\u001B[39;00m\n\u001B[1;32m   1180\u001B[0m \u001B[38;5;66;03m# when user's password has been expired.\u001B[39;00m\n",
      "File \u001B[0;32m/usr/local/miniconda3/envs/Rapids/lib/python3.9/site-packages/mysql/connector/connection_cext.py:293\u001B[0m, in \u001B[0;36mCMySQLConnection._open_connection\u001B[0;34m(self)\u001B[0m\n\u001B[1;32m    292\u001B[0m \u001B[38;5;28;01mexcept\u001B[39;00m MySQLInterfaceError \u001B[38;5;28;01mas\u001B[39;00m err:\n\u001B[0;32m--> 293\u001B[0m     \u001B[38;5;28;01mraise\u001B[39;00m get_mysql_exception(\n\u001B[1;32m    294\u001B[0m         msg\u001B[38;5;241m=\u001B[39merr\u001B[38;5;241m.\u001B[39mmsg, errno\u001B[38;5;241m=\u001B[39merr\u001B[38;5;241m.\u001B[39merrno, sqlstate\u001B[38;5;241m=\u001B[39merr\u001B[38;5;241m.\u001B[39msqlstate\n\u001B[1;32m    295\u001B[0m     ) \u001B[38;5;28;01mfrom\u001B[39;00m \u001B[38;5;21;01merr\u001B[39;00m\n\u001B[1;32m    297\u001B[0m \u001B[38;5;28mself\u001B[39m\u001B[38;5;241m.\u001B[39m_do_handshake()\n",
      "\u001B[0;31mDatabaseError\u001B[0m: 2003 (HY000): Can't connect to MySQL server on 'localhost:3306' (111)",
      "\nThe above exception was the direct cause of the following exception:\n",
      "\u001B[0;31mDatabaseError\u001B[0m                             Traceback (most recent call last)",
      "Cell \u001B[0;32mIn[6], line 1\u001B[0m\n\u001B[0;32m----> 1\u001B[0m \u001B[43mdata_loader\u001B[49m\u001B[38;5;241;43m.\u001B[39;49m\u001B[43mget_time_series\u001B[49m\u001B[43m(\u001B[49m\u001B[43m)\u001B[49m\n",
      "File \u001B[0;32m~/notebooks/pycharm_projects/Investor-Sentiment/loader/findata_loader.py:342\u001B[0m, in \u001B[0;36mLoader.get_time_series\u001B[0;34m(self)\u001B[0m\n\u001B[1;32m    332\u001B[0m \u001B[38;5;28;01mdef\u001B[39;00m \u001B[38;5;21mget_time_series\u001B[39m(\u001B[38;5;28mself\u001B[39m) \u001B[38;5;241m-\u001B[39m\u001B[38;5;241m>\u001B[39m cudf\u001B[38;5;241m.\u001B[39mDataFrame:\n\u001B[1;32m    333\u001B[0m \u001B[38;5;250m    \u001B[39m\u001B[38;5;124;03m\"\"\"\u001B[39;00m\n\u001B[1;32m    334\u001B[0m \u001B[38;5;124;03m    返回情绪+无风险收益\u001B[39;00m\n\u001B[1;32m    335\u001B[0m \u001B[38;5;124;03m    :return:时间序列数据\u001B[39;00m\n\u001B[1;32m    336\u001B[0m \u001B[38;5;124;03m    \"\"\"\u001B[39;00m\n\u001B[1;32m    337\u001B[0m     df \u001B[38;5;241m=\u001B[39m (cudf\u001B[38;5;241m.\u001B[39mconcat(\n\u001B[1;32m    338\u001B[0m             [\n\u001B[1;32m    339\u001B[0m                     \u001B[38;5;66;03m# 情绪数据\u001B[39;00m\n\u001B[1;32m    340\u001B[0m                     cudf\u001B[38;5;241m.\u001B[39mfrom_pandas(\n\u001B[1;32m    341\u001B[0m                             pd\u001B[38;5;241m.\u001B[39mconcat(\n\u001B[0;32m--> 342\u001B[0m                                     [\u001B[43mpd\u001B[49m\u001B[38;5;241;43m.\u001B[39;49m\u001B[43mread_sql_table\u001B[49m\u001B[43m(\u001B[49m\u001B[38;5;124;43m'\u001B[39;49m\u001B[38;5;124;43mIMG_SENT\u001B[39;49m\u001B[38;5;124;43m'\u001B[39;49m\u001B[43m,\u001B[49m\u001B[43m \u001B[49m\u001B[38;5;28;43mself\u001B[39;49m\u001B[38;5;241;43m.\u001B[39;49m\u001B[43mENGINE\u001B[49m\u001B[43m,\u001B[49m\u001B[43m \u001B[49m\u001B[38;5;124;43m'\u001B[39;49m\u001B[38;5;124;43mSENT_DATA\u001B[39;49m\u001B[38;5;124;43m'\u001B[39;49m\u001B[43m)\u001B[49m\u001B[38;5;241m.\u001B[39mastype(dtype\u001B[38;5;241m=\u001B[39m{\u001B[38;5;124m'\u001B[39m\u001B[38;5;124mtrade_date\u001B[39m\u001B[38;5;124m'\u001B[39m: \u001B[38;5;124m'\u001B[39m\u001B[38;5;124muint32\u001B[39m\u001B[38;5;124m'\u001B[39m})\n\u001B[1;32m    343\u001B[0m                                      \u001B[38;5;241m.\u001B[39mset_index(\u001B[38;5;124m'\u001B[39m\u001B[38;5;124mtrade_date\u001B[39m\u001B[38;5;124m'\u001B[39m)\u001B[38;5;241m.\u001B[39mrename(columns\u001B[38;5;241m=\u001B[39m{\u001B[38;5;124m'\u001B[39m\u001B[38;5;124mneg_index\u001B[39m\u001B[38;5;124m'\u001B[39m: \u001B[38;5;124m'\u001B[39m\u001B[38;5;124mimg_neg\u001B[39m\u001B[38;5;124m'\u001B[39m}),\n\u001B[1;32m    344\u001B[0m \n\u001B[1;32m    345\u001B[0m                                      pd\u001B[38;5;241m.\u001B[39mread_sql_table(\u001B[38;5;124m'\u001B[39m\u001B[38;5;124mTEX_SENT\u001B[39m\u001B[38;5;124m'\u001B[39m, \u001B[38;5;28mself\u001B[39m\u001B[38;5;241m.\u001B[39mENGINE, \u001B[38;5;124m'\u001B[39m\u001B[38;5;124mSENT_DATA\u001B[39m\u001B[38;5;124m'\u001B[39m)\u001B[38;5;241m.\u001B[39mastype(dtype\u001B[38;5;241m=\u001B[39m{\u001B[38;5;124m'\u001B[39m\u001B[38;5;124mtrade_date\u001B[39m\u001B[38;5;124m'\u001B[39m: \u001B[38;5;124m'\u001B[39m\u001B[38;5;124muint32\u001B[39m\u001B[38;5;124m'\u001B[39m})\n\u001B[1;32m    346\u001B[0m                                      \u001B[38;5;241m.\u001B[39mset_index(\u001B[38;5;124m'\u001B[39m\u001B[38;5;124mtrade_date\u001B[39m\u001B[38;5;124m'\u001B[39m)\u001B[38;5;241m.\u001B[39mrename(columns\u001B[38;5;241m=\u001B[39m{\u001B[38;5;124m'\u001B[39m\u001B[38;5;124mneg_index\u001B[39m\u001B[38;5;124m'\u001B[39m: \u001B[38;5;124m'\u001B[39m\u001B[38;5;124mtex_neg\u001B[39m\u001B[38;5;124m'\u001B[39m})\n\u001B[1;32m    347\u001B[0m                                      ], axis\u001B[38;5;241m=\u001B[39m\u001B[38;5;241m1\u001B[39m\n\u001B[1;32m    348\u001B[0m                             )),\n\u001B[1;32m    349\u001B[0m                     \u001B[38;5;66;03m# SHIBOR数据\u001B[39;00m\n\u001B[1;32m    350\u001B[0m                     cudf\u001B[38;5;241m.\u001B[39mfrom_pandas((pd\u001B[38;5;241m.\u001B[39mread_sql_table(\u001B[38;5;124m'\u001B[39m\u001B[38;5;124mSHIBOR\u001B[39m\u001B[38;5;124m'\u001B[39m, \u001B[38;5;28mself\u001B[39m\u001B[38;5;241m.\u001B[39mENGINE, \u001B[38;5;124m'\u001B[39m\u001B[38;5;124mFIN_DAILY_MACRO\u001B[39m\u001B[38;5;124m'\u001B[39m, columns\u001B[38;5;241m=\u001B[39m[\u001B[38;5;124m'\u001B[39m\u001B[38;5;124mtrade_date\u001B[39m\u001B[38;5;124m'\u001B[39m, \u001B[38;5;124m'\u001B[39m\u001B[38;5;124m3m\u001B[39m\u001B[38;5;124m'\u001B[39m])\n\u001B[1;32m    351\u001B[0m                                       \u001B[38;5;241m.\u001B[39mastype(dtype\u001B[38;5;241m=\u001B[39m{\u001B[38;5;124m'\u001B[39m\u001B[38;5;124mtrade_date\u001B[39m\u001B[38;5;124m'\u001B[39m: \u001B[38;5;124m'\u001B[39m\u001B[38;5;124muint32\u001B[39m\u001B[38;5;124m'\u001B[39m})\u001B[38;5;241m.\u001B[39mset_index(\u001B[38;5;124m'\u001B[39m\u001B[38;5;124mtrade_date\u001B[39m\u001B[38;5;124m'\u001B[39m)\n\u001B[1;32m    352\u001B[0m                                       \u001B[38;5;241m.\u001B[39mrename(columns\u001B[38;5;241m=\u001B[39m{\u001B[38;5;124m'\u001B[39m\u001B[38;5;124m3m\u001B[39m\u001B[38;5;124m'\u001B[39m: \u001B[38;5;124m'\u001B[39m\u001B[38;5;124mriskfree_return\u001B[39m\u001B[38;5;124m'\u001B[39m}) \u001B[38;5;241m/\u001B[39m \u001B[38;5;241m360\u001B[39m))\n\u001B[1;32m    353\u001B[0m             ],\n\u001B[1;32m    354\u001B[0m             axis\u001B[38;5;241m=\u001B[39m\u001B[38;5;241m1\u001B[39m, sort\u001B[38;5;241m=\u001B[39m\u001B[38;5;28;01mTrue\u001B[39;00m))\n\u001B[1;32m    356\u001B[0m     \u001B[38;5;28;01mreturn\u001B[39;00m df\n",
      "File \u001B[0;32m/usr/local/miniconda3/envs/Rapids/lib/python3.9/site-packages/pandas/io/sql.py:281\u001B[0m, in \u001B[0;36mread_sql_table\u001B[0;34m(table_name, con, schema, index_col, coerce_float, parse_dates, columns, chunksize)\u001B[0m\n\u001B[1;32m    225\u001B[0m \u001B[38;5;250m\u001B[39m\u001B[38;5;124;03m\"\"\"\u001B[39;00m\n\u001B[1;32m    226\u001B[0m \u001B[38;5;124;03mRead SQL database table into a DataFrame.\u001B[39;00m\n\u001B[1;32m    227\u001B[0m \n\u001B[0;32m   (...)\u001B[0m\n\u001B[1;32m    278\u001B[0m \u001B[38;5;124;03m>>> pd.read_sql_table('table_name', 'postgres:///db_name')  # doctest:+SKIP\u001B[39;00m\n\u001B[1;32m    279\u001B[0m \u001B[38;5;124;03m\"\"\"\u001B[39;00m\n\u001B[1;32m    280\u001B[0m pandas_sql \u001B[38;5;241m=\u001B[39m pandasSQL_builder(con, schema\u001B[38;5;241m=\u001B[39mschema)\n\u001B[0;32m--> 281\u001B[0m \u001B[38;5;28;01mif\u001B[39;00m \u001B[38;5;129;01mnot\u001B[39;00m \u001B[43mpandas_sql\u001B[49m\u001B[38;5;241;43m.\u001B[39;49m\u001B[43mhas_table\u001B[49m\u001B[43m(\u001B[49m\u001B[43mtable_name\u001B[49m\u001B[43m)\u001B[49m:\n\u001B[1;32m    282\u001B[0m     \u001B[38;5;28;01mraise\u001B[39;00m \u001B[38;5;167;01mValueError\u001B[39;00m(\u001B[38;5;124mf\u001B[39m\u001B[38;5;124m\"\u001B[39m\u001B[38;5;124mTable \u001B[39m\u001B[38;5;132;01m{\u001B[39;00mtable_name\u001B[38;5;132;01m}\u001B[39;00m\u001B[38;5;124m not found\u001B[39m\u001B[38;5;124m\"\u001B[39m)\n\u001B[1;32m    284\u001B[0m \u001B[38;5;66;03m# error: Item \"SQLiteDatabase\" of \"Union[SQLDatabase, SQLiteDatabase]\"\u001B[39;00m\n\u001B[1;32m    285\u001B[0m \u001B[38;5;66;03m# has no attribute \"read_table\"\u001B[39;00m\n",
      "File \u001B[0;32m/usr/local/miniconda3/envs/Rapids/lib/python3.9/site-packages/pandas/io/sql.py:1760\u001B[0m, in \u001B[0;36mSQLDatabase.has_table\u001B[0;34m(self, name, schema)\u001B[0m\n\u001B[1;32m   1757\u001B[0m \u001B[38;5;28;01mdef\u001B[39;00m \u001B[38;5;21mhas_table\u001B[39m(\u001B[38;5;28mself\u001B[39m, name: \u001B[38;5;28mstr\u001B[39m, schema: \u001B[38;5;28mstr\u001B[39m \u001B[38;5;241m|\u001B[39m \u001B[38;5;28;01mNone\u001B[39;00m \u001B[38;5;241m=\u001B[39m \u001B[38;5;28;01mNone\u001B[39;00m):\n\u001B[1;32m   1758\u001B[0m     \u001B[38;5;28;01mfrom\u001B[39;00m \u001B[38;5;21;01msqlalchemy\u001B[39;00m \u001B[38;5;28;01mimport\u001B[39;00m inspect \u001B[38;5;28;01mas\u001B[39;00m sqlalchemy_inspect\n\u001B[0;32m-> 1760\u001B[0m     insp \u001B[38;5;241m=\u001B[39m \u001B[43msqlalchemy_inspect\u001B[49m\u001B[43m(\u001B[49m\u001B[38;5;28;43mself\u001B[39;49m\u001B[38;5;241;43m.\u001B[39;49m\u001B[43mconnectable\u001B[49m\u001B[43m)\u001B[49m\n\u001B[1;32m   1761\u001B[0m     \u001B[38;5;28;01mreturn\u001B[39;00m insp\u001B[38;5;241m.\u001B[39mhas_table(name, schema \u001B[38;5;129;01mor\u001B[39;00m \u001B[38;5;28mself\u001B[39m\u001B[38;5;241m.\u001B[39mmeta\u001B[38;5;241m.\u001B[39mschema)\n",
      "File \u001B[0;32m/usr/local/miniconda3/envs/Rapids/lib/python3.9/site-packages/sqlalchemy/inspection.py:64\u001B[0m, in \u001B[0;36minspect\u001B[0;34m(subject, raiseerr)\u001B[0m\n\u001B[1;32m     62\u001B[0m \u001B[38;5;28;01mif\u001B[39;00m reg \u001B[38;5;129;01mis\u001B[39;00m \u001B[38;5;28;01mTrue\u001B[39;00m:\n\u001B[1;32m     63\u001B[0m     \u001B[38;5;28;01mreturn\u001B[39;00m subject\n\u001B[0;32m---> 64\u001B[0m ret \u001B[38;5;241m=\u001B[39m \u001B[43mreg\u001B[49m\u001B[43m(\u001B[49m\u001B[43msubject\u001B[49m\u001B[43m)\u001B[49m\n\u001B[1;32m     65\u001B[0m \u001B[38;5;28;01mif\u001B[39;00m ret \u001B[38;5;129;01mis\u001B[39;00m \u001B[38;5;129;01mnot\u001B[39;00m \u001B[38;5;28;01mNone\u001B[39;00m:\n\u001B[1;32m     66\u001B[0m     \u001B[38;5;28;01mbreak\u001B[39;00m\n",
      "File \u001B[0;32m/usr/local/miniconda3/envs/Rapids/lib/python3.9/site-packages/sqlalchemy/engine/reflection.py:182\u001B[0m, in \u001B[0;36mInspector._engine_insp\u001B[0;34m(bind)\u001B[0m\n\u001B[1;32m    180\u001B[0m \u001B[38;5;129m@inspection\u001B[39m\u001B[38;5;241m.\u001B[39m_inspects(Engine)\n\u001B[1;32m    181\u001B[0m \u001B[38;5;28;01mdef\u001B[39;00m \u001B[38;5;21m_engine_insp\u001B[39m(bind):\n\u001B[0;32m--> 182\u001B[0m     \u001B[38;5;28;01mreturn\u001B[39;00m \u001B[43mInspector\u001B[49m\u001B[38;5;241;43m.\u001B[39;49m\u001B[43m_construct\u001B[49m\u001B[43m(\u001B[49m\u001B[43mInspector\u001B[49m\u001B[38;5;241;43m.\u001B[39;49m\u001B[43m_init_engine\u001B[49m\u001B[43m,\u001B[49m\u001B[43m \u001B[49m\u001B[43mbind\u001B[49m\u001B[43m)\u001B[49m\n",
      "File \u001B[0;32m/usr/local/miniconda3/envs/Rapids/lib/python3.9/site-packages/sqlalchemy/engine/reflection.py:117\u001B[0m, in \u001B[0;36mInspector._construct\u001B[0;34m(cls, init, bind)\u001B[0m\n\u001B[1;32m    114\u001B[0m     \u001B[38;5;28mcls\u001B[39m \u001B[38;5;241m=\u001B[39m bind\u001B[38;5;241m.\u001B[39mdialect\u001B[38;5;241m.\u001B[39minspector\n\u001B[1;32m    116\u001B[0m \u001B[38;5;28mself\u001B[39m \u001B[38;5;241m=\u001B[39m \u001B[38;5;28mcls\u001B[39m\u001B[38;5;241m.\u001B[39m\u001B[38;5;21m__new__\u001B[39m(\u001B[38;5;28mcls\u001B[39m)\n\u001B[0;32m--> 117\u001B[0m \u001B[43minit\u001B[49m\u001B[43m(\u001B[49m\u001B[38;5;28;43mself\u001B[39;49m\u001B[43m,\u001B[49m\u001B[43m \u001B[49m\u001B[43mbind\u001B[49m\u001B[43m)\u001B[49m\n\u001B[1;32m    118\u001B[0m \u001B[38;5;28;01mreturn\u001B[39;00m \u001B[38;5;28mself\u001B[39m\n",
      "File \u001B[0;32m/usr/local/miniconda3/envs/Rapids/lib/python3.9/site-packages/sqlalchemy/engine/reflection.py:128\u001B[0m, in \u001B[0;36mInspector._init_engine\u001B[0;34m(self, engine)\u001B[0m\n\u001B[1;32m    126\u001B[0m \u001B[38;5;28;01mdef\u001B[39;00m \u001B[38;5;21m_init_engine\u001B[39m(\u001B[38;5;28mself\u001B[39m, engine):\n\u001B[1;32m    127\u001B[0m     \u001B[38;5;28mself\u001B[39m\u001B[38;5;241m.\u001B[39mbind \u001B[38;5;241m=\u001B[39m \u001B[38;5;28mself\u001B[39m\u001B[38;5;241m.\u001B[39mengine \u001B[38;5;241m=\u001B[39m engine\n\u001B[0;32m--> 128\u001B[0m     \u001B[43mengine\u001B[49m\u001B[38;5;241;43m.\u001B[39;49m\u001B[43mconnect\u001B[49m\u001B[43m(\u001B[49m\u001B[43m)\u001B[49m\u001B[38;5;241m.\u001B[39mclose()\n\u001B[1;32m    129\u001B[0m     \u001B[38;5;28mself\u001B[39m\u001B[38;5;241m.\u001B[39m_op_context_requires_connect \u001B[38;5;241m=\u001B[39m \u001B[38;5;28;01mTrue\u001B[39;00m\n\u001B[1;32m    130\u001B[0m     \u001B[38;5;28mself\u001B[39m\u001B[38;5;241m.\u001B[39mdialect \u001B[38;5;241m=\u001B[39m \u001B[38;5;28mself\u001B[39m\u001B[38;5;241m.\u001B[39mengine\u001B[38;5;241m.\u001B[39mdialect\n",
      "File \u001B[0;32m/usr/local/miniconda3/envs/Rapids/lib/python3.9/site-packages/sqlalchemy/engine/base.py:3315\u001B[0m, in \u001B[0;36mEngine.connect\u001B[0;34m(self, close_with_result)\u001B[0m\n\u001B[1;32m   3300\u001B[0m \u001B[38;5;28;01mdef\u001B[39;00m \u001B[38;5;21mconnect\u001B[39m(\u001B[38;5;28mself\u001B[39m, close_with_result\u001B[38;5;241m=\u001B[39m\u001B[38;5;28;01mFalse\u001B[39;00m):\n\u001B[1;32m   3301\u001B[0m \u001B[38;5;250m    \u001B[39m\u001B[38;5;124;03m\"\"\"Return a new :class:`_engine.Connection` object.\u001B[39;00m\n\u001B[1;32m   3302\u001B[0m \n\u001B[1;32m   3303\u001B[0m \u001B[38;5;124;03m    The :class:`_engine.Connection` object is a facade that uses a DBAPI\u001B[39;00m\n\u001B[0;32m   (...)\u001B[0m\n\u001B[1;32m   3312\u001B[0m \n\u001B[1;32m   3313\u001B[0m \u001B[38;5;124;03m    \"\"\"\u001B[39;00m\n\u001B[0;32m-> 3315\u001B[0m     \u001B[38;5;28;01mreturn\u001B[39;00m \u001B[38;5;28;43mself\u001B[39;49m\u001B[38;5;241;43m.\u001B[39;49m\u001B[43m_connection_cls\u001B[49m\u001B[43m(\u001B[49m\u001B[38;5;28;43mself\u001B[39;49m\u001B[43m,\u001B[49m\u001B[43m \u001B[49m\u001B[43mclose_with_result\u001B[49m\u001B[38;5;241;43m=\u001B[39;49m\u001B[43mclose_with_result\u001B[49m\u001B[43m)\u001B[49m\n",
      "File \u001B[0;32m/usr/local/miniconda3/envs/Rapids/lib/python3.9/site-packages/sqlalchemy/engine/base.py:96\u001B[0m, in \u001B[0;36mConnection.__init__\u001B[0;34m(self, engine, connection, close_with_result, _branch_from, _execution_options, _dispatch, _has_events, _allow_revalidate)\u001B[0m\n\u001B[1;32m     91\u001B[0m     \u001B[38;5;28mself\u001B[39m\u001B[38;5;241m.\u001B[39m_has_events \u001B[38;5;241m=\u001B[39m _branch_from\u001B[38;5;241m.\u001B[39m_has_events\n\u001B[1;32m     92\u001B[0m \u001B[38;5;28;01melse\u001B[39;00m:\n\u001B[1;32m     93\u001B[0m     \u001B[38;5;28mself\u001B[39m\u001B[38;5;241m.\u001B[39m_dbapi_connection \u001B[38;5;241m=\u001B[39m (\n\u001B[1;32m     94\u001B[0m         connection\n\u001B[1;32m     95\u001B[0m         \u001B[38;5;28;01mif\u001B[39;00m connection \u001B[38;5;129;01mis\u001B[39;00m \u001B[38;5;129;01mnot\u001B[39;00m \u001B[38;5;28;01mNone\u001B[39;00m\n\u001B[0;32m---> 96\u001B[0m         \u001B[38;5;28;01melse\u001B[39;00m \u001B[43mengine\u001B[49m\u001B[38;5;241;43m.\u001B[39;49m\u001B[43mraw_connection\u001B[49m\u001B[43m(\u001B[49m\u001B[43m)\u001B[49m\n\u001B[1;32m     97\u001B[0m     )\n\u001B[1;32m     99\u001B[0m     \u001B[38;5;28mself\u001B[39m\u001B[38;5;241m.\u001B[39m_transaction \u001B[38;5;241m=\u001B[39m \u001B[38;5;28mself\u001B[39m\u001B[38;5;241m.\u001B[39m_nested_transaction \u001B[38;5;241m=\u001B[39m \u001B[38;5;28;01mNone\u001B[39;00m\n\u001B[1;32m    100\u001B[0m     \u001B[38;5;28mself\u001B[39m\u001B[38;5;241m.\u001B[39m__savepoint_seq \u001B[38;5;241m=\u001B[39m \u001B[38;5;241m0\u001B[39m\n",
      "File \u001B[0;32m/usr/local/miniconda3/envs/Rapids/lib/python3.9/site-packages/sqlalchemy/engine/base.py:3394\u001B[0m, in \u001B[0;36mEngine.raw_connection\u001B[0;34m(self, _connection)\u001B[0m\n\u001B[1;32m   3372\u001B[0m \u001B[38;5;28;01mdef\u001B[39;00m \u001B[38;5;21mraw_connection\u001B[39m(\u001B[38;5;28mself\u001B[39m, _connection\u001B[38;5;241m=\u001B[39m\u001B[38;5;28;01mNone\u001B[39;00m):\n\u001B[1;32m   3373\u001B[0m \u001B[38;5;250m    \u001B[39m\u001B[38;5;124;03m\"\"\"Return a \"raw\" DBAPI connection from the connection pool.\u001B[39;00m\n\u001B[1;32m   3374\u001B[0m \n\u001B[1;32m   3375\u001B[0m \u001B[38;5;124;03m    The returned object is a proxied version of the DBAPI\u001B[39;00m\n\u001B[0;32m   (...)\u001B[0m\n\u001B[1;32m   3392\u001B[0m \n\u001B[1;32m   3393\u001B[0m \u001B[38;5;124;03m    \"\"\"\u001B[39;00m\n\u001B[0;32m-> 3394\u001B[0m     \u001B[38;5;28;01mreturn\u001B[39;00m \u001B[38;5;28;43mself\u001B[39;49m\u001B[38;5;241;43m.\u001B[39;49m\u001B[43m_wrap_pool_connect\u001B[49m\u001B[43m(\u001B[49m\u001B[38;5;28;43mself\u001B[39;49m\u001B[38;5;241;43m.\u001B[39;49m\u001B[43mpool\u001B[49m\u001B[38;5;241;43m.\u001B[39;49m\u001B[43mconnect\u001B[49m\u001B[43m,\u001B[49m\u001B[43m \u001B[49m\u001B[43m_connection\u001B[49m\u001B[43m)\u001B[49m\n",
      "File \u001B[0;32m/usr/local/miniconda3/envs/Rapids/lib/python3.9/site-packages/sqlalchemy/engine/base.py:3364\u001B[0m, in \u001B[0;36mEngine._wrap_pool_connect\u001B[0;34m(self, fn, connection)\u001B[0m\n\u001B[1;32m   3362\u001B[0m \u001B[38;5;28;01mexcept\u001B[39;00m dialect\u001B[38;5;241m.\u001B[39mdbapi\u001B[38;5;241m.\u001B[39mError \u001B[38;5;28;01mas\u001B[39;00m e:\n\u001B[1;32m   3363\u001B[0m     \u001B[38;5;28;01mif\u001B[39;00m connection \u001B[38;5;129;01mis\u001B[39;00m \u001B[38;5;28;01mNone\u001B[39;00m:\n\u001B[0;32m-> 3364\u001B[0m         \u001B[43mConnection\u001B[49m\u001B[38;5;241;43m.\u001B[39;49m\u001B[43m_handle_dbapi_exception_noconnection\u001B[49m\u001B[43m(\u001B[49m\n\u001B[1;32m   3365\u001B[0m \u001B[43m            \u001B[49m\u001B[43me\u001B[49m\u001B[43m,\u001B[49m\u001B[43m \u001B[49m\u001B[43mdialect\u001B[49m\u001B[43m,\u001B[49m\u001B[43m \u001B[49m\u001B[38;5;28;43mself\u001B[39;49m\n\u001B[1;32m   3366\u001B[0m \u001B[43m        \u001B[49m\u001B[43m)\u001B[49m\n\u001B[1;32m   3367\u001B[0m     \u001B[38;5;28;01melse\u001B[39;00m:\n\u001B[1;32m   3368\u001B[0m         util\u001B[38;5;241m.\u001B[39mraise_(\n\u001B[1;32m   3369\u001B[0m             sys\u001B[38;5;241m.\u001B[39mexc_info()[\u001B[38;5;241m1\u001B[39m], with_traceback\u001B[38;5;241m=\u001B[39msys\u001B[38;5;241m.\u001B[39mexc_info()[\u001B[38;5;241m2\u001B[39m]\n\u001B[1;32m   3370\u001B[0m         )\n",
      "File \u001B[0;32m/usr/local/miniconda3/envs/Rapids/lib/python3.9/site-packages/sqlalchemy/engine/base.py:2198\u001B[0m, in \u001B[0;36mConnection._handle_dbapi_exception_noconnection\u001B[0;34m(cls, e, dialect, engine)\u001B[0m\n\u001B[1;32m   2196\u001B[0m     util\u001B[38;5;241m.\u001B[39mraise_(newraise, with_traceback\u001B[38;5;241m=\u001B[39mexc_info[\u001B[38;5;241m2\u001B[39m], from_\u001B[38;5;241m=\u001B[39me)\n\u001B[1;32m   2197\u001B[0m \u001B[38;5;28;01melif\u001B[39;00m should_wrap:\n\u001B[0;32m-> 2198\u001B[0m     \u001B[43mutil\u001B[49m\u001B[38;5;241;43m.\u001B[39;49m\u001B[43mraise_\u001B[49m\u001B[43m(\u001B[49m\n\u001B[1;32m   2199\u001B[0m \u001B[43m        \u001B[49m\u001B[43msqlalchemy_exception\u001B[49m\u001B[43m,\u001B[49m\u001B[43m \u001B[49m\u001B[43mwith_traceback\u001B[49m\u001B[38;5;241;43m=\u001B[39;49m\u001B[43mexc_info\u001B[49m\u001B[43m[\u001B[49m\u001B[38;5;241;43m2\u001B[39;49m\u001B[43m]\u001B[49m\u001B[43m,\u001B[49m\u001B[43m \u001B[49m\u001B[43mfrom_\u001B[49m\u001B[38;5;241;43m=\u001B[39;49m\u001B[43me\u001B[49m\n\u001B[1;32m   2200\u001B[0m \u001B[43m    \u001B[49m\u001B[43m)\u001B[49m\n\u001B[1;32m   2201\u001B[0m \u001B[38;5;28;01melse\u001B[39;00m:\n\u001B[1;32m   2202\u001B[0m     util\u001B[38;5;241m.\u001B[39mraise_(exc_info[\u001B[38;5;241m1\u001B[39m], with_traceback\u001B[38;5;241m=\u001B[39mexc_info[\u001B[38;5;241m2\u001B[39m])\n",
      "File \u001B[0;32m/usr/local/miniconda3/envs/Rapids/lib/python3.9/site-packages/sqlalchemy/util/compat.py:211\u001B[0m, in \u001B[0;36mraise_\u001B[0;34m(***failed resolving arguments***)\u001B[0m\n\u001B[1;32m    208\u001B[0m     exception\u001B[38;5;241m.\u001B[39m__cause__ \u001B[38;5;241m=\u001B[39m replace_context\n\u001B[1;32m    210\u001B[0m \u001B[38;5;28;01mtry\u001B[39;00m:\n\u001B[0;32m--> 211\u001B[0m     \u001B[38;5;28;01mraise\u001B[39;00m exception\n\u001B[1;32m    212\u001B[0m \u001B[38;5;28;01mfinally\u001B[39;00m:\n\u001B[1;32m    213\u001B[0m     \u001B[38;5;66;03m# credit to\u001B[39;00m\n\u001B[1;32m    214\u001B[0m     \u001B[38;5;66;03m# https://cosmicpercolator.com/2016/01/13/exception-leaks-in-python-2-and-3/\u001B[39;00m\n\u001B[1;32m    215\u001B[0m     \u001B[38;5;66;03m# as the __traceback__ object creates a cycle\u001B[39;00m\n\u001B[1;32m    216\u001B[0m     \u001B[38;5;28;01mdel\u001B[39;00m exception, replace_context, from_, with_traceback\n",
      "File \u001B[0;32m/usr/local/miniconda3/envs/Rapids/lib/python3.9/site-packages/sqlalchemy/engine/base.py:3361\u001B[0m, in \u001B[0;36mEngine._wrap_pool_connect\u001B[0;34m(self, fn, connection)\u001B[0m\n\u001B[1;32m   3359\u001B[0m dialect \u001B[38;5;241m=\u001B[39m \u001B[38;5;28mself\u001B[39m\u001B[38;5;241m.\u001B[39mdialect\n\u001B[1;32m   3360\u001B[0m \u001B[38;5;28;01mtry\u001B[39;00m:\n\u001B[0;32m-> 3361\u001B[0m     \u001B[38;5;28;01mreturn\u001B[39;00m \u001B[43mfn\u001B[49m\u001B[43m(\u001B[49m\u001B[43m)\u001B[49m\n\u001B[1;32m   3362\u001B[0m \u001B[38;5;28;01mexcept\u001B[39;00m dialect\u001B[38;5;241m.\u001B[39mdbapi\u001B[38;5;241m.\u001B[39mError \u001B[38;5;28;01mas\u001B[39;00m e:\n\u001B[1;32m   3363\u001B[0m     \u001B[38;5;28;01mif\u001B[39;00m connection \u001B[38;5;129;01mis\u001B[39;00m \u001B[38;5;28;01mNone\u001B[39;00m:\n",
      "File \u001B[0;32m/usr/local/miniconda3/envs/Rapids/lib/python3.9/site-packages/sqlalchemy/pool/base.py:327\u001B[0m, in \u001B[0;36mPool.connect\u001B[0;34m(self)\u001B[0m\n\u001B[1;32m    319\u001B[0m \u001B[38;5;28;01mdef\u001B[39;00m \u001B[38;5;21mconnect\u001B[39m(\u001B[38;5;28mself\u001B[39m):\n\u001B[1;32m    320\u001B[0m \u001B[38;5;250m    \u001B[39m\u001B[38;5;124;03m\"\"\"Return a DBAPI connection from the pool.\u001B[39;00m\n\u001B[1;32m    321\u001B[0m \n\u001B[1;32m    322\u001B[0m \u001B[38;5;124;03m    The connection is instrumented such that when its\u001B[39;00m\n\u001B[0;32m   (...)\u001B[0m\n\u001B[1;32m    325\u001B[0m \n\u001B[1;32m    326\u001B[0m \u001B[38;5;124;03m    \"\"\"\u001B[39;00m\n\u001B[0;32m--> 327\u001B[0m     \u001B[38;5;28;01mreturn\u001B[39;00m \u001B[43m_ConnectionFairy\u001B[49m\u001B[38;5;241;43m.\u001B[39;49m\u001B[43m_checkout\u001B[49m\u001B[43m(\u001B[49m\u001B[38;5;28;43mself\u001B[39;49m\u001B[43m)\u001B[49m\n",
      "File \u001B[0;32m/usr/local/miniconda3/envs/Rapids/lib/python3.9/site-packages/sqlalchemy/pool/base.py:894\u001B[0m, in \u001B[0;36m_ConnectionFairy._checkout\u001B[0;34m(cls, pool, threadconns, fairy)\u001B[0m\n\u001B[1;32m    891\u001B[0m \u001B[38;5;129m@classmethod\u001B[39m\n\u001B[1;32m    892\u001B[0m \u001B[38;5;28;01mdef\u001B[39;00m \u001B[38;5;21m_checkout\u001B[39m(\u001B[38;5;28mcls\u001B[39m, pool, threadconns\u001B[38;5;241m=\u001B[39m\u001B[38;5;28;01mNone\u001B[39;00m, fairy\u001B[38;5;241m=\u001B[39m\u001B[38;5;28;01mNone\u001B[39;00m):\n\u001B[1;32m    893\u001B[0m     \u001B[38;5;28;01mif\u001B[39;00m \u001B[38;5;129;01mnot\u001B[39;00m fairy:\n\u001B[0;32m--> 894\u001B[0m         fairy \u001B[38;5;241m=\u001B[39m \u001B[43m_ConnectionRecord\u001B[49m\u001B[38;5;241;43m.\u001B[39;49m\u001B[43mcheckout\u001B[49m\u001B[43m(\u001B[49m\u001B[43mpool\u001B[49m\u001B[43m)\u001B[49m\n\u001B[1;32m    896\u001B[0m         fairy\u001B[38;5;241m.\u001B[39m_pool \u001B[38;5;241m=\u001B[39m pool\n\u001B[1;32m    897\u001B[0m         fairy\u001B[38;5;241m.\u001B[39m_counter \u001B[38;5;241m=\u001B[39m \u001B[38;5;241m0\u001B[39m\n",
      "File \u001B[0;32m/usr/local/miniconda3/envs/Rapids/lib/python3.9/site-packages/sqlalchemy/pool/base.py:493\u001B[0m, in \u001B[0;36m_ConnectionRecord.checkout\u001B[0;34m(cls, pool)\u001B[0m\n\u001B[1;32m    491\u001B[0m \u001B[38;5;129m@classmethod\u001B[39m\n\u001B[1;32m    492\u001B[0m \u001B[38;5;28;01mdef\u001B[39;00m \u001B[38;5;21mcheckout\u001B[39m(\u001B[38;5;28mcls\u001B[39m, pool):\n\u001B[0;32m--> 493\u001B[0m     rec \u001B[38;5;241m=\u001B[39m \u001B[43mpool\u001B[49m\u001B[38;5;241;43m.\u001B[39;49m\u001B[43m_do_get\u001B[49m\u001B[43m(\u001B[49m\u001B[43m)\u001B[49m\n\u001B[1;32m    494\u001B[0m     \u001B[38;5;28;01mtry\u001B[39;00m:\n\u001B[1;32m    495\u001B[0m         dbapi_connection \u001B[38;5;241m=\u001B[39m rec\u001B[38;5;241m.\u001B[39mget_connection()\n",
      "File \u001B[0;32m/usr/local/miniconda3/envs/Rapids/lib/python3.9/site-packages/sqlalchemy/pool/impl.py:146\u001B[0m, in \u001B[0;36mQueuePool._do_get\u001B[0;34m(self)\u001B[0m\n\u001B[1;32m    144\u001B[0m     \u001B[38;5;28;01mexcept\u001B[39;00m:\n\u001B[1;32m    145\u001B[0m         \u001B[38;5;28;01mwith\u001B[39;00m util\u001B[38;5;241m.\u001B[39msafe_reraise():\n\u001B[0;32m--> 146\u001B[0m             \u001B[38;5;28mself\u001B[39m\u001B[38;5;241m.\u001B[39m_dec_overflow()\n\u001B[1;32m    147\u001B[0m \u001B[38;5;28;01melse\u001B[39;00m:\n\u001B[1;32m    148\u001B[0m     \u001B[38;5;28;01mreturn\u001B[39;00m \u001B[38;5;28mself\u001B[39m\u001B[38;5;241m.\u001B[39m_do_get()\n",
      "File \u001B[0;32m/usr/local/miniconda3/envs/Rapids/lib/python3.9/site-packages/sqlalchemy/util/langhelpers.py:70\u001B[0m, in \u001B[0;36msafe_reraise.__exit__\u001B[0;34m(self, type_, value, traceback)\u001B[0m\n\u001B[1;32m     68\u001B[0m     \u001B[38;5;28mself\u001B[39m\u001B[38;5;241m.\u001B[39m_exc_info \u001B[38;5;241m=\u001B[39m \u001B[38;5;28;01mNone\u001B[39;00m  \u001B[38;5;66;03m# remove potential circular references\u001B[39;00m\n\u001B[1;32m     69\u001B[0m     \u001B[38;5;28;01mif\u001B[39;00m \u001B[38;5;129;01mnot\u001B[39;00m \u001B[38;5;28mself\u001B[39m\u001B[38;5;241m.\u001B[39mwarn_only:\n\u001B[0;32m---> 70\u001B[0m         \u001B[43mcompat\u001B[49m\u001B[38;5;241;43m.\u001B[39;49m\u001B[43mraise_\u001B[49m\u001B[43m(\u001B[49m\n\u001B[1;32m     71\u001B[0m \u001B[43m            \u001B[49m\u001B[43mexc_value\u001B[49m\u001B[43m,\u001B[49m\n\u001B[1;32m     72\u001B[0m \u001B[43m            \u001B[49m\u001B[43mwith_traceback\u001B[49m\u001B[38;5;241;43m=\u001B[39;49m\u001B[43mexc_tb\u001B[49m\u001B[43m,\u001B[49m\n\u001B[1;32m     73\u001B[0m \u001B[43m        \u001B[49m\u001B[43m)\u001B[49m\n\u001B[1;32m     74\u001B[0m \u001B[38;5;28;01melse\u001B[39;00m:\n\u001B[1;32m     75\u001B[0m     \u001B[38;5;28;01mif\u001B[39;00m \u001B[38;5;129;01mnot\u001B[39;00m compat\u001B[38;5;241m.\u001B[39mpy3k \u001B[38;5;129;01mand\u001B[39;00m \u001B[38;5;28mself\u001B[39m\u001B[38;5;241m.\u001B[39m_exc_info \u001B[38;5;129;01mand\u001B[39;00m \u001B[38;5;28mself\u001B[39m\u001B[38;5;241m.\u001B[39m_exc_info[\u001B[38;5;241m1\u001B[39m]:\n\u001B[1;32m     76\u001B[0m         \u001B[38;5;66;03m# emulate Py3K's behavior of telling us when an exception\u001B[39;00m\n\u001B[1;32m     77\u001B[0m         \u001B[38;5;66;03m# occurs in an exception handler.\u001B[39;00m\n",
      "File \u001B[0;32m/usr/local/miniconda3/envs/Rapids/lib/python3.9/site-packages/sqlalchemy/util/compat.py:211\u001B[0m, in \u001B[0;36mraise_\u001B[0;34m(***failed resolving arguments***)\u001B[0m\n\u001B[1;32m    208\u001B[0m     exception\u001B[38;5;241m.\u001B[39m__cause__ \u001B[38;5;241m=\u001B[39m replace_context\n\u001B[1;32m    210\u001B[0m \u001B[38;5;28;01mtry\u001B[39;00m:\n\u001B[0;32m--> 211\u001B[0m     \u001B[38;5;28;01mraise\u001B[39;00m exception\n\u001B[1;32m    212\u001B[0m \u001B[38;5;28;01mfinally\u001B[39;00m:\n\u001B[1;32m    213\u001B[0m     \u001B[38;5;66;03m# credit to\u001B[39;00m\n\u001B[1;32m    214\u001B[0m     \u001B[38;5;66;03m# https://cosmicpercolator.com/2016/01/13/exception-leaks-in-python-2-and-3/\u001B[39;00m\n\u001B[1;32m    215\u001B[0m     \u001B[38;5;66;03m# as the __traceback__ object creates a cycle\u001B[39;00m\n\u001B[1;32m    216\u001B[0m     \u001B[38;5;28;01mdel\u001B[39;00m exception, replace_context, from_, with_traceback\n",
      "File \u001B[0;32m/usr/local/miniconda3/envs/Rapids/lib/python3.9/site-packages/sqlalchemy/pool/impl.py:143\u001B[0m, in \u001B[0;36mQueuePool._do_get\u001B[0;34m(self)\u001B[0m\n\u001B[1;32m    141\u001B[0m \u001B[38;5;28;01mif\u001B[39;00m \u001B[38;5;28mself\u001B[39m\u001B[38;5;241m.\u001B[39m_inc_overflow():\n\u001B[1;32m    142\u001B[0m     \u001B[38;5;28;01mtry\u001B[39;00m:\n\u001B[0;32m--> 143\u001B[0m         \u001B[38;5;28;01mreturn\u001B[39;00m \u001B[38;5;28;43mself\u001B[39;49m\u001B[38;5;241;43m.\u001B[39;49m\u001B[43m_create_connection\u001B[49m\u001B[43m(\u001B[49m\u001B[43m)\u001B[49m\n\u001B[1;32m    144\u001B[0m     \u001B[38;5;28;01mexcept\u001B[39;00m:\n\u001B[1;32m    145\u001B[0m         \u001B[38;5;28;01mwith\u001B[39;00m util\u001B[38;5;241m.\u001B[39msafe_reraise():\n",
      "File \u001B[0;32m/usr/local/miniconda3/envs/Rapids/lib/python3.9/site-packages/sqlalchemy/pool/base.py:273\u001B[0m, in \u001B[0;36mPool._create_connection\u001B[0;34m(self)\u001B[0m\n\u001B[1;32m    270\u001B[0m \u001B[38;5;28;01mdef\u001B[39;00m \u001B[38;5;21m_create_connection\u001B[39m(\u001B[38;5;28mself\u001B[39m):\n\u001B[1;32m    271\u001B[0m \u001B[38;5;250m    \u001B[39m\u001B[38;5;124;03m\"\"\"Called by subclasses to create a new ConnectionRecord.\"\"\"\u001B[39;00m\n\u001B[0;32m--> 273\u001B[0m     \u001B[38;5;28;01mreturn\u001B[39;00m \u001B[43m_ConnectionRecord\u001B[49m\u001B[43m(\u001B[49m\u001B[38;5;28;43mself\u001B[39;49m\u001B[43m)\u001B[49m\n",
      "File \u001B[0;32m/usr/local/miniconda3/envs/Rapids/lib/python3.9/site-packages/sqlalchemy/pool/base.py:388\u001B[0m, in \u001B[0;36m_ConnectionRecord.__init__\u001B[0;34m(self, pool, connect)\u001B[0m\n\u001B[1;32m    386\u001B[0m \u001B[38;5;28mself\u001B[39m\u001B[38;5;241m.\u001B[39m__pool \u001B[38;5;241m=\u001B[39m pool\n\u001B[1;32m    387\u001B[0m \u001B[38;5;28;01mif\u001B[39;00m connect:\n\u001B[0;32m--> 388\u001B[0m     \u001B[38;5;28;43mself\u001B[39;49m\u001B[38;5;241;43m.\u001B[39;49m\u001B[43m__connect\u001B[49m\u001B[43m(\u001B[49m\u001B[43m)\u001B[49m\n\u001B[1;32m    389\u001B[0m \u001B[38;5;28mself\u001B[39m\u001B[38;5;241m.\u001B[39mfinalize_callback \u001B[38;5;241m=\u001B[39m deque()\n",
      "File \u001B[0;32m/usr/local/miniconda3/envs/Rapids/lib/python3.9/site-packages/sqlalchemy/pool/base.py:691\u001B[0m, in \u001B[0;36m_ConnectionRecord.__connect\u001B[0;34m(self)\u001B[0m\n\u001B[1;32m    689\u001B[0m \u001B[38;5;28;01mexcept\u001B[39;00m \u001B[38;5;167;01mBaseException\u001B[39;00m \u001B[38;5;28;01mas\u001B[39;00m e:\n\u001B[1;32m    690\u001B[0m     \u001B[38;5;28;01mwith\u001B[39;00m util\u001B[38;5;241m.\u001B[39msafe_reraise():\n\u001B[0;32m--> 691\u001B[0m         pool\u001B[38;5;241m.\u001B[39mlogger\u001B[38;5;241m.\u001B[39mdebug(\u001B[38;5;124m\"\u001B[39m\u001B[38;5;124mError on connect(): \u001B[39m\u001B[38;5;132;01m%s\u001B[39;00m\u001B[38;5;124m\"\u001B[39m, e)\n\u001B[1;32m    692\u001B[0m \u001B[38;5;28;01melse\u001B[39;00m:\n\u001B[1;32m    693\u001B[0m     \u001B[38;5;66;03m# in SQLAlchemy 1.4 the first_connect event is not used by\u001B[39;00m\n\u001B[1;32m    694\u001B[0m     \u001B[38;5;66;03m# the engine, so this will usually not be set\u001B[39;00m\n\u001B[1;32m    695\u001B[0m     \u001B[38;5;28;01mif\u001B[39;00m pool\u001B[38;5;241m.\u001B[39mdispatch\u001B[38;5;241m.\u001B[39mfirst_connect:\n",
      "File \u001B[0;32m/usr/local/miniconda3/envs/Rapids/lib/python3.9/site-packages/sqlalchemy/util/langhelpers.py:70\u001B[0m, in \u001B[0;36msafe_reraise.__exit__\u001B[0;34m(self, type_, value, traceback)\u001B[0m\n\u001B[1;32m     68\u001B[0m     \u001B[38;5;28mself\u001B[39m\u001B[38;5;241m.\u001B[39m_exc_info \u001B[38;5;241m=\u001B[39m \u001B[38;5;28;01mNone\u001B[39;00m  \u001B[38;5;66;03m# remove potential circular references\u001B[39;00m\n\u001B[1;32m     69\u001B[0m     \u001B[38;5;28;01mif\u001B[39;00m \u001B[38;5;129;01mnot\u001B[39;00m \u001B[38;5;28mself\u001B[39m\u001B[38;5;241m.\u001B[39mwarn_only:\n\u001B[0;32m---> 70\u001B[0m         \u001B[43mcompat\u001B[49m\u001B[38;5;241;43m.\u001B[39;49m\u001B[43mraise_\u001B[49m\u001B[43m(\u001B[49m\n\u001B[1;32m     71\u001B[0m \u001B[43m            \u001B[49m\u001B[43mexc_value\u001B[49m\u001B[43m,\u001B[49m\n\u001B[1;32m     72\u001B[0m \u001B[43m            \u001B[49m\u001B[43mwith_traceback\u001B[49m\u001B[38;5;241;43m=\u001B[39;49m\u001B[43mexc_tb\u001B[49m\u001B[43m,\u001B[49m\n\u001B[1;32m     73\u001B[0m \u001B[43m        \u001B[49m\u001B[43m)\u001B[49m\n\u001B[1;32m     74\u001B[0m \u001B[38;5;28;01melse\u001B[39;00m:\n\u001B[1;32m     75\u001B[0m     \u001B[38;5;28;01mif\u001B[39;00m \u001B[38;5;129;01mnot\u001B[39;00m compat\u001B[38;5;241m.\u001B[39mpy3k \u001B[38;5;129;01mand\u001B[39;00m \u001B[38;5;28mself\u001B[39m\u001B[38;5;241m.\u001B[39m_exc_info \u001B[38;5;129;01mand\u001B[39;00m \u001B[38;5;28mself\u001B[39m\u001B[38;5;241m.\u001B[39m_exc_info[\u001B[38;5;241m1\u001B[39m]:\n\u001B[1;32m     76\u001B[0m         \u001B[38;5;66;03m# emulate Py3K's behavior of telling us when an exception\u001B[39;00m\n\u001B[1;32m     77\u001B[0m         \u001B[38;5;66;03m# occurs in an exception handler.\u001B[39;00m\n",
      "File \u001B[0;32m/usr/local/miniconda3/envs/Rapids/lib/python3.9/site-packages/sqlalchemy/util/compat.py:211\u001B[0m, in \u001B[0;36mraise_\u001B[0;34m(***failed resolving arguments***)\u001B[0m\n\u001B[1;32m    208\u001B[0m     exception\u001B[38;5;241m.\u001B[39m__cause__ \u001B[38;5;241m=\u001B[39m replace_context\n\u001B[1;32m    210\u001B[0m \u001B[38;5;28;01mtry\u001B[39;00m:\n\u001B[0;32m--> 211\u001B[0m     \u001B[38;5;28;01mraise\u001B[39;00m exception\n\u001B[1;32m    212\u001B[0m \u001B[38;5;28;01mfinally\u001B[39;00m:\n\u001B[1;32m    213\u001B[0m     \u001B[38;5;66;03m# credit to\u001B[39;00m\n\u001B[1;32m    214\u001B[0m     \u001B[38;5;66;03m# https://cosmicpercolator.com/2016/01/13/exception-leaks-in-python-2-and-3/\u001B[39;00m\n\u001B[1;32m    215\u001B[0m     \u001B[38;5;66;03m# as the __traceback__ object creates a cycle\u001B[39;00m\n\u001B[1;32m    216\u001B[0m     \u001B[38;5;28;01mdel\u001B[39;00m exception, replace_context, from_, with_traceback\n",
      "File \u001B[0;32m/usr/local/miniconda3/envs/Rapids/lib/python3.9/site-packages/sqlalchemy/pool/base.py:686\u001B[0m, in \u001B[0;36m_ConnectionRecord.__connect\u001B[0;34m(self)\u001B[0m\n\u001B[1;32m    684\u001B[0m \u001B[38;5;28;01mtry\u001B[39;00m:\n\u001B[1;32m    685\u001B[0m     \u001B[38;5;28mself\u001B[39m\u001B[38;5;241m.\u001B[39mstarttime \u001B[38;5;241m=\u001B[39m time\u001B[38;5;241m.\u001B[39mtime()\n\u001B[0;32m--> 686\u001B[0m     \u001B[38;5;28mself\u001B[39m\u001B[38;5;241m.\u001B[39mdbapi_connection \u001B[38;5;241m=\u001B[39m connection \u001B[38;5;241m=\u001B[39m \u001B[43mpool\u001B[49m\u001B[38;5;241;43m.\u001B[39;49m\u001B[43m_invoke_creator\u001B[49m\u001B[43m(\u001B[49m\u001B[38;5;28;43mself\u001B[39;49m\u001B[43m)\u001B[49m\n\u001B[1;32m    687\u001B[0m     pool\u001B[38;5;241m.\u001B[39mlogger\u001B[38;5;241m.\u001B[39mdebug(\u001B[38;5;124m\"\u001B[39m\u001B[38;5;124mCreated new connection \u001B[39m\u001B[38;5;132;01m%r\u001B[39;00m\u001B[38;5;124m\"\u001B[39m, connection)\n\u001B[1;32m    688\u001B[0m     \u001B[38;5;28mself\u001B[39m\u001B[38;5;241m.\u001B[39mfresh \u001B[38;5;241m=\u001B[39m \u001B[38;5;28;01mTrue\u001B[39;00m\n",
      "File \u001B[0;32m/usr/local/miniconda3/envs/Rapids/lib/python3.9/site-packages/sqlalchemy/engine/create.py:578\u001B[0m, in \u001B[0;36mcreate_engine.<locals>.connect\u001B[0;34m(connection_record)\u001B[0m\n\u001B[1;32m    576\u001B[0m         \u001B[38;5;28;01mif\u001B[39;00m connection \u001B[38;5;129;01mis\u001B[39;00m \u001B[38;5;129;01mnot\u001B[39;00m \u001B[38;5;28;01mNone\u001B[39;00m:\n\u001B[1;32m    577\u001B[0m             \u001B[38;5;28;01mreturn\u001B[39;00m connection\n\u001B[0;32m--> 578\u001B[0m \u001B[38;5;28;01mreturn\u001B[39;00m \u001B[43mdialect\u001B[49m\u001B[38;5;241;43m.\u001B[39;49m\u001B[43mconnect\u001B[49m\u001B[43m(\u001B[49m\u001B[38;5;241;43m*\u001B[39;49m\u001B[43mcargs\u001B[49m\u001B[43m,\u001B[49m\u001B[43m \u001B[49m\u001B[38;5;241;43m*\u001B[39;49m\u001B[38;5;241;43m*\u001B[39;49m\u001B[43mcparams\u001B[49m\u001B[43m)\u001B[49m\n",
      "File \u001B[0;32m/usr/local/miniconda3/envs/Rapids/lib/python3.9/site-packages/sqlalchemy/engine/default.py:598\u001B[0m, in \u001B[0;36mDefaultDialect.connect\u001B[0;34m(self, *cargs, **cparams)\u001B[0m\n\u001B[1;32m    596\u001B[0m \u001B[38;5;28;01mdef\u001B[39;00m \u001B[38;5;21mconnect\u001B[39m(\u001B[38;5;28mself\u001B[39m, \u001B[38;5;241m*\u001B[39mcargs, \u001B[38;5;241m*\u001B[39m\u001B[38;5;241m*\u001B[39mcparams):\n\u001B[1;32m    597\u001B[0m     \u001B[38;5;66;03m# inherits the docstring from interfaces.Dialect.connect\u001B[39;00m\n\u001B[0;32m--> 598\u001B[0m     \u001B[38;5;28;01mreturn\u001B[39;00m \u001B[38;5;28;43mself\u001B[39;49m\u001B[38;5;241;43m.\u001B[39;49m\u001B[43mdbapi\u001B[49m\u001B[38;5;241;43m.\u001B[39;49m\u001B[43mconnect\u001B[49m\u001B[43m(\u001B[49m\u001B[38;5;241;43m*\u001B[39;49m\u001B[43mcargs\u001B[49m\u001B[43m,\u001B[49m\u001B[43m \u001B[49m\u001B[38;5;241;43m*\u001B[39;49m\u001B[38;5;241;43m*\u001B[39;49m\u001B[43mcparams\u001B[49m\u001B[43m)\u001B[49m\n",
      "File \u001B[0;32m/usr/local/miniconda3/envs/Rapids/lib/python3.9/site-packages/mysql/connector/pooling.py:293\u001B[0m, in \u001B[0;36mconnect\u001B[0;34m(*args, **kwargs)\u001B[0m\n\u001B[1;32m    290\u001B[0m         \u001B[38;5;28;01mraise\u001B[39;00m \u001B[38;5;167;01mImportError\u001B[39;00m(ERROR_NO_CEXT)\n\u001B[1;32m    292\u001B[0m \u001B[38;5;28;01mif\u001B[39;00m CMySQLConnection \u001B[38;5;129;01mand\u001B[39;00m \u001B[38;5;129;01mnot\u001B[39;00m use_pure:\n\u001B[0;32m--> 293\u001B[0m     \u001B[38;5;28;01mreturn\u001B[39;00m \u001B[43mCMySQLConnection\u001B[49m\u001B[43m(\u001B[49m\u001B[38;5;241;43m*\u001B[39;49m\u001B[43margs\u001B[49m\u001B[43m,\u001B[49m\u001B[43m \u001B[49m\u001B[38;5;241;43m*\u001B[39;49m\u001B[38;5;241;43m*\u001B[39;49m\u001B[43mkwargs\u001B[49m\u001B[43m)\u001B[49m\n\u001B[1;32m    294\u001B[0m \u001B[38;5;28;01mreturn\u001B[39;00m MySQLConnection(\u001B[38;5;241m*\u001B[39margs, \u001B[38;5;241m*\u001B[39m\u001B[38;5;241m*\u001B[39mkwargs)\n",
      "File \u001B[0;32m/usr/local/miniconda3/envs/Rapids/lib/python3.9/site-packages/mysql/connector/connection_cext.py:118\u001B[0m, in \u001B[0;36mCMySQLConnection.__init__\u001B[0;34m(self, **kwargs)\u001B[0m\n\u001B[1;32m    115\u001B[0m \u001B[38;5;28msuper\u001B[39m()\u001B[38;5;241m.\u001B[39m\u001B[38;5;21m__init__\u001B[39m()\n\u001B[1;32m    117\u001B[0m \u001B[38;5;28;01mif\u001B[39;00m kwargs:\n\u001B[0;32m--> 118\u001B[0m     \u001B[38;5;28;43mself\u001B[39;49m\u001B[38;5;241;43m.\u001B[39;49m\u001B[43mconnect\u001B[49m\u001B[43m(\u001B[49m\u001B[38;5;241;43m*\u001B[39;49m\u001B[38;5;241;43m*\u001B[39;49m\u001B[43mkwargs\u001B[49m\u001B[43m)\u001B[49m\n",
      "File \u001B[0;32m/usr/local/miniconda3/envs/Rapids/lib/python3.9/site-packages/mysql/connector/abstracts.py:1178\u001B[0m, in \u001B[0;36mMySQLConnectionAbstract.connect\u001B[0;34m(self, **kwargs)\u001B[0m\n\u001B[1;32m   1175\u001B[0m     \u001B[38;5;28mself\u001B[39m\u001B[38;5;241m.\u001B[39mconfig(\u001B[38;5;241m*\u001B[39m\u001B[38;5;241m*\u001B[39mkwargs)\n\u001B[1;32m   1177\u001B[0m \u001B[38;5;28mself\u001B[39m\u001B[38;5;241m.\u001B[39mdisconnect()\n\u001B[0;32m-> 1178\u001B[0m \u001B[38;5;28;43mself\u001B[39;49m\u001B[38;5;241;43m.\u001B[39;49m\u001B[43m_open_connection\u001B[49m\u001B[43m(\u001B[49m\u001B[43m)\u001B[49m\n\u001B[1;32m   1179\u001B[0m \u001B[38;5;66;03m# Server does not allow to run any other statement different from ALTER\u001B[39;00m\n\u001B[1;32m   1180\u001B[0m \u001B[38;5;66;03m# when user's password has been expired.\u001B[39;00m\n\u001B[1;32m   1181\u001B[0m \u001B[38;5;28;01mif\u001B[39;00m \u001B[38;5;129;01mnot\u001B[39;00m \u001B[38;5;28mself\u001B[39m\u001B[38;5;241m.\u001B[39m_client_flags \u001B[38;5;241m&\u001B[39m ClientFlag\u001B[38;5;241m.\u001B[39mCAN_HANDLE_EXPIRED_PASSWORDS:\n",
      "File \u001B[0;32m/usr/local/miniconda3/envs/Rapids/lib/python3.9/site-packages/mysql/connector/connection_cext.py:293\u001B[0m, in \u001B[0;36mCMySQLConnection._open_connection\u001B[0;34m(self)\u001B[0m\n\u001B[1;32m    291\u001B[0m         \u001B[38;5;28mself\u001B[39m\u001B[38;5;241m.\u001B[39mconverter\u001B[38;5;241m.\u001B[39mstr_fallback \u001B[38;5;241m=\u001B[39m \u001B[38;5;28mself\u001B[39m\u001B[38;5;241m.\u001B[39m_converter_str_fallback\n\u001B[1;32m    292\u001B[0m \u001B[38;5;28;01mexcept\u001B[39;00m MySQLInterfaceError \u001B[38;5;28;01mas\u001B[39;00m err:\n\u001B[0;32m--> 293\u001B[0m     \u001B[38;5;28;01mraise\u001B[39;00m get_mysql_exception(\n\u001B[1;32m    294\u001B[0m         msg\u001B[38;5;241m=\u001B[39merr\u001B[38;5;241m.\u001B[39mmsg, errno\u001B[38;5;241m=\u001B[39merr\u001B[38;5;241m.\u001B[39merrno, sqlstate\u001B[38;5;241m=\u001B[39merr\u001B[38;5;241m.\u001B[39msqlstate\n\u001B[1;32m    295\u001B[0m     ) \u001B[38;5;28;01mfrom\u001B[39;00m \u001B[38;5;21;01merr\u001B[39;00m\n\u001B[1;32m    297\u001B[0m \u001B[38;5;28mself\u001B[39m\u001B[38;5;241m.\u001B[39m_do_handshake()\n",
      "\u001B[0;31mDatabaseError\u001B[0m: (mysql.connector.errors.DatabaseError) 2003 (HY000): Can't connect to MySQL server on 'localhost:3306' (111)\n(Background on this error at: https://sqlalche.me/e/14/4xp6)"
     ]
    }
   ],
   "source": [
    "data_loader.get_time_series()"
   ],
   "metadata": {
    "collapsed": false
   }
  },
  {
   "cell_type": "code",
   "execution_count": null,
   "outputs": [],
   "source": [
    "def merge_profit_con_basic():\n",
    "    \"\"\"\n",
    "    合并指数基本面,一致预期,利润数据\n",
    "    :return:\n",
    "    \"\"\"\n",
    "    # ------------------------------------一致预期 - zyyx------------------------------------#\n",
    "    df_idx_con = data_loader.get_conidx_panel().reset_index()\n",
    "    df_idx_con['trade_year'] = df_idx_con['trade_date'] // 10000\n",
    "\n",
    "    # ------------------------------------利润 - 人工录入 wugui-----------------------------------#\n",
    "    df_profit = cudf.read_parquet(f'{DATASETS_PATH}IDX_PANEL_PROFIT.parquet').reset_index()\n",
    "    df_profit = df_profit.groupby(by=['trade_year', 'ts_code'], as_index=False, ).first()\n",
    "    df_profit['year_profit_l1'] = df_profit.groupby(by=['ts_code'], as_index=False, sort=True)['year_profit'].shift(1)\n",
    "    df_profit.drop(columns='quarter', inplace=True)\n",
    "    df_profit['year_profit_yoy'] = 100 * ((df_profit['year_profit'] / df_profit['year_profit_l1']) - 1)\n",
    "\n",
    "    # ------------------------------------基本面 wugui------------------------------------#\n",
    "    df_basic = cudf.read_parquet(f'{DATASETS_PATH}IDX_PANEL_BASIC_WUGUI.parquet').reset_index()\n",
    "    df_basic['total_mv_l1'] = df_basic.groupby(by=['ts_code'], as_index=False, sort=True)['total_mv'].shift(1)\n",
    "    df_basic['total_mv_chg'] = 100 * ((df_basic['total_mv'] / df_basic['total_mv_l1']) - 1)\n",
    "\n",
    "    df_basic['close_l1'] = df_basic.groupby(by=['ts_code'], as_index=False, sort=True)['close'].shift(1)\n",
    "    df_basic['close_chg'] = 100 * ((df_basic['close'] / df_basic['close_l1']) - 1)\n",
    "\n",
    "    return (cudf.merge(\n",
    "            cudf.merge(\n",
    "                    cudf.merge(df_idx_con, df_profit, on=['trade_year', 'ts_code']), df_basic, on=['trade_date', 'ts_code']\n",
    "            ),\n",
    "            data_loader.get_time_series().reset_index(),\n",
    "            on='trade_date')\n",
    "    )\n",
    "\n",
    "\n",
    "merge_profit_con_basic().set_index(['ts_code', 'trade_date', ]).sort_index()"
   ],
   "metadata": {
    "collapsed": false
   }
  },
  {
   "cell_type": "markdown",
   "source": [
    "## 2.分析师情绪指标计算"
   ],
   "metadata": {
    "collapsed": false
   }
  },
  {
   "cell_type": "code",
   "execution_count": null,
   "outputs": [],
   "source": [
    "def cal_analyst_sentiment_tdate():\n",
    "    # 获取数据\n",
    "    df_ana = merge_profit_con_basic()\n",
    "\n",
    "    # 单位换算\n",
    "    df_ana['CON_NP'] = df_ana['CON_NP'] / 10000\n",
    "    df_ana['total_mv'] = df_ana['total_mv'] / 10000\n",
    "\n",
    "    # 计算偏离\n",
    "    df_ana['opt_profit_yoy'] = ((df_ana['CON_NP_YOY'] - df_ana['year_profit_yoy']) / df_ana['year_profit_yoy'].abs()) * 100\n",
    "    df_ana['opt_pe'] = ((df_ana['CON_PE'] - df_ana['year_pe_ttm']) / df_ana['year_pe_ttm'].abs()) * 100\n",
    "    df_ana['opt_profit'] = ((df_ana['CON_NP'] - df_ana['year_profit']) / df_ana['year_profit'].abs()) * 100\n",
    "\n",
    "    # 计算组中日期\n",
    "    df_ana['time'] = df_ana.groupby(by=['ts_code'])['trade_date'].rank()\n",
    "\n",
    "    # 计算平方项\n",
    "    df_ana['close_chg_s'] = df_ana['close_chg'] * df_ana['close_chg']\n",
    "\n",
    "    # 转换数据\n",
    "    return (df_ana.set_index(['trade_date', 'ts_code']).sort_index().reset_index().to_pandas()\n",
    "            .astype(dtype={\"trade_date\": \"str\", \"trade_year\": \"uint32\"}))\n",
    "\n",
    "\n",
    "df_analyst = cal_analyst_sentiment_tdate()\n",
    "df_analyst.set_index(['trade_date', 'ts_code'])"
   ],
   "metadata": {
    "collapsed": false
   }
  },
  {
   "cell_type": "markdown",
   "source": [
    "## 3.媒体情绪对分析师情绪的影响"
   ],
   "metadata": {
    "collapsed": false
   }
  },
  {
   "cell_type": "code",
   "execution_count": null,
   "outputs": [],
   "source": [
    "# @formatter:off"
   ],
   "metadata": {
    "collapsed": false
   }
  },
  {
   "cell_type": "markdown",
   "source": [
    "### 描述性统计"
   ],
   "metadata": {
    "collapsed": false
   }
  },
  {
   "cell_type": "code",
   "execution_count": null,
   "outputs": [],
   "source": [
    "%%stata -d df_analyst -force\n",
    "/*{*/\n",
    "logout, save(Investor-Sentiment/outputs/Table_Sum) replace: tabstat *_neg total_mv pe_ttm_weight , ///\n",
    "s(N sd mean p50 min max ) f(%12.4f) c(s)"
   ],
   "metadata": {
    "collapsed": false
   }
  },
  {
   "cell_type": "markdown",
   "source": [
    "分析师情绪描述性统计"
   ],
   "metadata": {
    "collapsed": false
   }
  },
  {
   "cell_type": "code",
   "execution_count": null,
   "outputs": [],
   "source": [
    "%%stata -d df_analyst -force -qui\n",
    "est clear\n",
    "encode ts_code,gen(id)\n",
    "winsor2 opt_profit, cut(0.5 99.5) by(id) label\n",
    "histogram opt_profit,  ylabel(, angle(0))"
   ],
   "metadata": {
    "collapsed": false
   }
  },
  {
   "cell_type": "markdown",
   "source": [
    "预期与实际盈利预测绘图"
   ],
   "metadata": {
    "collapsed": false
   }
  },
  {
   "cell_type": "code",
   "execution_count": null,
   "outputs": [],
   "source": [
    "%%stata -d df_analyst -force -qui -nogr\n",
    "\n",
    "//模型设定\n",
    "encode ts_code,gen(id)\n",
    "ge dt = date(trade_date, \"YMD\")\n",
    "format dt %tdCCYYNNDD\n",
    "xtset id dt\n",
    "\n",
    "//组别\n",
    "egen group = group(ts_code)\n",
    "su group, meanonly\n",
    "\n",
    "//循环绘图\n",
    "forvalues i = 1/`r(max)' {\n",
    "    twoway (tsline CON_NP, yaxis(1) lpattern(solid)) ///\n",
    "    (tsline opt_profit, yaxis(2) lpattern(tight_dot)) ///\n",
    "    if (group == `i' )&(time<=1900), ///\n",
    "    ytitle(Profit ,axis(1)) ytitle(\"Bias (%)\",axis(2))  ///\n",
    "    xtitle(\"\") legend(off) scheme(sj) xsize(10) ylabel(, nogrid) ///\n",
    "    xlabel(, labgap(medium)) ///\n",
    "    name(code`i',replace) title(\".SH\")\n",
    "}"
   ],
   "metadata": {
    "collapsed": false
   }
  },
  {
   "cell_type": "markdown",
   "source": [
    "图片合成"
   ],
   "metadata": {
    "collapsed": false
   }
  },
  {
   "cell_type": "code",
   "execution_count": null,
   "outputs": [],
   "source": [
    "%%stata -gw 12in -gh 9in -qui\n",
    "graph combine code1 code2 code3 code4 code5 code6 code7 code8 code9, name(c1,replace) scale(0.4) scheme(sj)\n",
    "graph export Investor-Sentiment/outputs/imgs/opt_profit.svg ,replace"
   ],
   "metadata": {
    "collapsed": false
   }
  },
  {
   "cell_type": "markdown",
   "source": [
    "### 模型设定"
   ],
   "metadata": {
    "collapsed": false
   }
  },
  {
   "cell_type": "markdown",
   "source": [
    "\"000010.SH\",\"000015.SH\",\"000016.SH\",\"000300.SH\",\"000903.SH\",\"000905.SH\",\"000906.SH\",\"000985.SH\" 399305.SZ 399306.SZ 399310.SZ"
   ],
   "metadata": {
    "collapsed": false
   }
  },
  {
   "cell_type": "code",
   "execution_count": null,
   "outputs": [],
   "source": [
    "%%stata -d df_analyst -force -qui\n",
    "\n",
    "//声明面板数据\n",
    "encode ts_code,gen(id)\n",
    "xtset id time\n",
    "\n",
    "//缩尾\n",
    "winsor2 opt_profit, cut(1 99) by(id) label replace\n",
    "\n",
    "\n",
    "//变量对数处理\n",
    "foreach var in opt_profit total_mv pe_ttm_weight profit_avg {\n",
    "    ge ln`var'=ln(`var')\n",
    "}"
   ],
   "metadata": {
    "collapsed": false
   }
  },
  {
   "cell_type": "markdown",
   "source": [
    "### 文本情绪基准回归"
   ],
   "metadata": {
    "collapsed": false
   }
  },
  {
   "cell_type": "code",
   "execution_count": null,
   "outputs": [],
   "source": [
    "%%stata\n",
    "//清除估计结果\n",
    "est clear\n",
    "\n",
    "//文本情绪回归\n",
    "rename(tex_neg) (media_neg)\n",
    "by id, sort : eststo:  qui reg  lnopt_profit L.media_neg L.lntotal_mv L.lnpe_ttm_weight L.lnprofit_avg   i.trade_year   ///\n",
    "if inlist(ts_code ,\"000010.SH\",\"000015.SH\",\"000016.SH\",\"000300.SH\",\"000903.SH\",\"000905.SH\",\"000906.SH\",\"000985.SH\"),r\n",
    "rename(media_neg) (tex_neg)\n",
    "\n",
    "//增加固定效应\n",
    "estadd local Year \"Yes\" : *\n",
    "\n",
    "//输出\n",
    "esttab using Investor-Sentiment/outputs/media_to_analyst_text.rtf,r type ///\n",
    "star(* 0.1 ** 0.05 *** 0.01) ///\n",
    "keep(*_neg L.* ) ///\n",
    "stats( Year r2_a N, fmt(%3s %12.2f %12.0f)) ///\n",
    "nogaps compress b(%12.4f) ///\n",
    "title(\"Table MediaSent to AnalystSent Text\") ///\n",
    "mtitle(\"000010.SH\" \"000015.SH\" \"000016.SH\" \"000300.SH\" \"000903.SH\" \"000905.SH\" \"000906.SH\" \"000985.SH\")"
   ],
   "metadata": {
    "collapsed": false
   }
  },
  {
   "cell_type": "markdown",
   "source": [
    "### 图像情绪基准回归"
   ],
   "metadata": {
    "collapsed": false
   }
  },
  {
   "cell_type": "code",
   "execution_count": null,
   "outputs": [],
   "source": [
    "%%stata\n",
    "//清除估计结果\n",
    "est clear\n",
    "\n",
    "//图像情绪回归\n",
    "rename(img_neg) (media_neg)\n",
    "by id, sort : eststo:  qui reg  lnopt_profit L.media_neg  L.lntotal_mv L.lnpe_ttm_weight L.lnprofit_avg   i.trade_year   ///\n",
    "if inlist(ts_code ,\"000010.SH\",\"000015.SH\",\"000016.SH\",\"000300.SH\",\"000903.SH\",\"000905.SH\",\"000906.SH\",\"000985.SH\"),r\n",
    "rename(media_neg) (img_neg)\n",
    "\n",
    "//增加固定效应\n",
    "estadd local Year \"Yes\" : *\n",
    "\n",
    "//输出\n",
    "esttab using Investor-Sentiment/outputs/media_to_analyst_img.rtf,r type ///\n",
    "star(* 0.1 ** 0.05 *** 0.01) ///\n",
    "keep(*_neg L.* ) ///\n",
    "stats( Year r2_a N, fmt(%3s %12.2f %12.0f)) ///\n",
    "nogaps compress b(%12.4f) ///\n",
    "title(\"Table MediaSent to AnalystSent Img\") ///\n",
    "mtitle(\"000010.SH\" \"000015.SH\" \"000016.SH\" \"000300.SH\" \"000903.SH\" \"000905.SH\" \"000906.SH\" \"000985.SH\")"
   ],
   "metadata": {
    "collapsed": false
   }
  },
  {
   "cell_type": "markdown",
   "source": [
    "## 3.分析师情绪对股票市场的影响"
   ],
   "metadata": {
    "collapsed": false
   }
  },
  {
   "cell_type": "code",
   "execution_count": null,
   "outputs": [],
   "source": [
    "%%stata\n",
    "des"
   ],
   "metadata": {
    "collapsed": false
   }
  },
  {
   "cell_type": "code",
   "execution_count": null,
   "outputs": [],
   "source": [
    "%%stata\n",
    "est clear\n",
    "\n",
    "//缩尾\n",
    "winsor2 close_chg, cut(1 99) by(id) label replace\n",
    "\n",
    "//分组回归\n",
    "\n",
    "reg close_chg c.L.img_neg##c.L.lnopt_profit L.close_chg L.close_chg_s  i.trade_year ,r"
   ],
   "metadata": {
    "collapsed": false
   }
  },
  {
   "cell_type": "markdown",
   "source": [],
   "metadata": {
    "collapsed": false
   }
  }
 ],
 "metadata": {
  "kernelspec": {
   "name": "pytorch",
   "language": "python",
   "display_name": "Rapids"
  },
  "language_info": {
   "codemirror_mode": {
    "name": "ipython",
    "version": 2
   },
   "file_extension": ".py",
   "mimetype": "text/x-python",
   "name": "python",
   "nbconvert_exporter": "python",
   "pygments_lexer": "ipython2",
   "version": "2.7.6"
  }
 },
 "nbformat": 4,
 "nbformat_minor": 0
}
