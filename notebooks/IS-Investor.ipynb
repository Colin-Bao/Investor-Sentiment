{
 "cells": [
  {
   "cell_type": "markdown",
   "source": [
    "# 投资者情绪专题\n",
    "在短暂的学习生涯中,窥见了学术前沿中一些令人兴奋的领域...这使我如此渴望接触更大的世界,在研究中\"讲好中国故事\"!\n",
    "- 结果表明,媒体情绪会对投资者情绪产生显著的影响;但经过交易日加权处理后这种影响被弱化了."
   ],
   "metadata": {
    "collapsed": false
   }
  },
  {
   "cell_type": "markdown",
   "source": [
    "## 1.数据准备"
   ],
   "metadata": {
    "collapsed": false
   }
  },
  {
   "cell_type": "code",
   "execution_count": 1,
   "metadata": {
    "collapsed": true
   },
   "outputs": [
    {
     "name": "stdout",
     "output_type": "stream",
     "text": [
      "\n",
      "  ___  ____  ____  ____  ____ ©\n",
      " /__    /   ____/   /   ____/      17.0\n",
      "___/   /   /___/   /   /___/       MP—Parallel Edition\n",
      "\n",
      " Statistics and Data Science       Copyright 1985-2021 StataCorp LLC\n",
      "                                   StataCorp\n",
      "                                   4905 Lakeway Drive\n",
      "                                   College Station, Texas 77845 USA\n",
      "                                   800-STATA-PC        https://www.stata.com\n",
      "                                   979-696-4600        stata@stata.com\n",
      "\n",
      "Stata license: Single-user 8-core , expiring  1 Jan 2025\n",
      "Serial number: 501709301094\n",
      "  Licensed to: Colin's Stata\n",
      "               Love U\n",
      "\n",
      "Notes:\n",
      "      1. Unicode is supported; see help unicode_advice.\n",
      "      2. More than 2 billion observations are allowed; see help obs_advice.\n",
      "      3. Maximum number of variables is set to 5,000; see help set_maxvar.\n"
     ]
    }
   ],
   "source": [
    "import sys\n",
    "import os\n",
    "import cudf  #CUDA计算\n",
    "import pandas as pd\n",
    "import numpy as np\n",
    "\n",
    "# 自行编写的包\n",
    "sys.path.append('/home/ubuntu/notebook/Investor-Sentiment')\n",
    "sys.path.append('/usr/local/stata17/utilities')\n",
    "from loader.findata_loader import Loader\n",
    "from utils.sql import DB\n",
    "\n",
    "# Stata\n",
    "from pystata import config  # noqa\n",
    "\n",
    "config.init('mp')\n",
    "# ------------------------------数据集路径----------------------------------#\n",
    "DATASETS_PATH = '/data/DataSets/investor_sentiment/'"
   ]
  },
  {
   "cell_type": "markdown",
   "source": [],
   "metadata": {
    "collapsed": false
   }
  },
  {
   "cell_type": "markdown",
   "source": [
    "### 媒体情绪数据"
   ],
   "metadata": {
    "collapsed": false
   }
  },
  {
   "cell_type": "code",
   "execution_count": 2,
   "outputs": [
    {
     "data": {
      "text/plain": "        p_date  img_neg   tex_neg\n0     20140101      0.0  0.000000\n1     20140102      0.0  0.000000\n2     20140103      0.0  0.333333\n3     20140104      0.0  0.000000\n4     20140105      0.0  0.000000\n...        ...      ...       ...\n3069  20220623      0.0  0.000000\n3070  20220624      0.0  0.142857\n3071  20220625      0.0  0.000000\n3072  20220626      0.0  0.000000\n3073  20220627      0.0  0.000000\n\n[3074 rows x 3 columns]",
      "text/html": "<div>\n<style scoped>\n    .dataframe tbody tr th:only-of-type {\n        vertical-align: middle;\n    }\n\n    .dataframe tbody tr th {\n        vertical-align: top;\n    }\n\n    .dataframe thead th {\n        text-align: right;\n    }\n</style>\n<table border=\"1\" class=\"dataframe\">\n  <thead>\n    <tr style=\"text-align: right;\">\n      <th></th>\n      <th>p_date</th>\n      <th>img_neg</th>\n      <th>tex_neg</th>\n    </tr>\n  </thead>\n  <tbody>\n    <tr>\n      <th>0</th>\n      <td>20140101</td>\n      <td>0.0</td>\n      <td>0.000000</td>\n    </tr>\n    <tr>\n      <th>1</th>\n      <td>20140102</td>\n      <td>0.0</td>\n      <td>0.000000</td>\n    </tr>\n    <tr>\n      <th>2</th>\n      <td>20140103</td>\n      <td>0.0</td>\n      <td>0.333333</td>\n    </tr>\n    <tr>\n      <th>3</th>\n      <td>20140104</td>\n      <td>0.0</td>\n      <td>0.000000</td>\n    </tr>\n    <tr>\n      <th>4</th>\n      <td>20140105</td>\n      <td>0.0</td>\n      <td>0.000000</td>\n    </tr>\n    <tr>\n      <th>...</th>\n      <td>...</td>\n      <td>...</td>\n      <td>...</td>\n    </tr>\n    <tr>\n      <th>3069</th>\n      <td>20220623</td>\n      <td>0.0</td>\n      <td>0.000000</td>\n    </tr>\n    <tr>\n      <th>3070</th>\n      <td>20220624</td>\n      <td>0.0</td>\n      <td>0.142857</td>\n    </tr>\n    <tr>\n      <th>3071</th>\n      <td>20220625</td>\n      <td>0.0</td>\n      <td>0.000000</td>\n    </tr>\n    <tr>\n      <th>3072</th>\n      <td>20220626</td>\n      <td>0.0</td>\n      <td>0.000000</td>\n    </tr>\n    <tr>\n      <th>3073</th>\n      <td>20220627</td>\n      <td>0.0</td>\n      <td>0.000000</td>\n    </tr>\n  </tbody>\n</table>\n<p>3074 rows × 3 columns</p>\n</div>"
     },
     "execution_count": 2,
     "metadata": {},
     "output_type": "execute_result"
    }
   ],
   "source": [
    "def extract_pdate_mediasent() -> cudf.DataFrame:\n",
    "    \"\"\"\n",
    "    提取推文中的情绪,自然日期\n",
    "    :return:\n",
    "    \"\"\"\n",
    "    # 提取\n",
    "    pd.options.mode.chained_assignment = None  #忽略警告\n",
    "    df_select = pd.read_sql(\n",
    "            \"SELECT id,p_date, title_neg, cover_neg, biz FROM WECAHT_DATA.articles_tag \"\n",
    "            \"WHERE mov=10 AND biz in ('MjM5MzMwNjM0MA==','MjM5NzQ5MTkyMA==','MjY2NzgwMjU0MA==','MjY2NzgwMjU0MA==')\",\n",
    "            con=DB().ENGINE,\n",
    "            parse_dates=[\"p_date\"])\n",
    "\n",
    "    # 筛选\n",
    "    df_select['p_date'] = df_select['p_date'].dt.strftime('%Y%m%d').astype('uint32')\n",
    "    df_select = df_select.query(\"p_date>=20140101\")\n",
    "\n",
    "    # 阈值处理\n",
    "    df_select['title_flag'] = df_select['title_neg'].apply(lambda x: 1 if x > 0.5 else 0)\n",
    "    df_select['cover_flag'] = df_select['cover_neg'].apply(lambda x: 1 if x > 0.5 else 0)\n",
    "\n",
    "    # 每日情绪\n",
    "    df_select['day_article'] = df_select.groupby('p_date')['id'].transform('count')\n",
    "\n",
    "    df_select['tex_neg'] = df_select['title_flag'] / df_select['day_article']\n",
    "    df_select['img_neg'] = df_select['cover_flag'] / df_select['day_article']\n",
    "\n",
    "    # 时间序列\n",
    "    df_select = df_select.groupby(['p_date', ], as_index=False).first()\n",
    "    # 筛选\n",
    "    return cudf.from_pandas(df_select[['p_date', 'img_neg', 'tex_neg']]).set_index('p_date').sort_index().reset_index()\n",
    "\n",
    "\n",
    "def extract_tdate_mediasent() -> cudf.DataFrame:\n",
    "    \"\"\"\n",
    "    按照交易日返回媒体情绪\n",
    "    :return:\n",
    "    \"\"\"\n",
    "    return Loader().get_time_series()[['img_neg', 'tex_neg', ]].sort_index().reset_index().dropna(axis=0)\n",
    "\n",
    "\n",
    "extract_pdate_mediasent()"
   ],
   "metadata": {
    "collapsed": false
   }
  },
  {
   "cell_type": "code",
   "execution_count": 3,
   "outputs": [
    {
     "data": {
      "text/plain": "      trade_date   img_neg   tex_neg\n0       20140102  0.000000  0.000000\n1       20140103  0.000000  0.333333\n2       20140106  0.285714  0.142857\n3       20140107  0.000000  0.333333\n4       20140108  0.333333  0.000000\n...          ...       ...       ...\n2090    20220621  0.238095  0.285714\n2091    20220622  0.227273  0.227273\n2092    20220623  0.363636  0.363636\n2093    20220624  0.200000  0.300000\n2094    20220627  0.200000  0.133333\n\n[2064 rows x 3 columns]",
      "text/html": "<div>\n<style scoped>\n    .dataframe tbody tr th:only-of-type {\n        vertical-align: middle;\n    }\n\n    .dataframe tbody tr th {\n        vertical-align: top;\n    }\n\n    .dataframe thead th {\n        text-align: right;\n    }\n</style>\n<table border=\"1\" class=\"dataframe\">\n  <thead>\n    <tr style=\"text-align: right;\">\n      <th></th>\n      <th>trade_date</th>\n      <th>img_neg</th>\n      <th>tex_neg</th>\n    </tr>\n  </thead>\n  <tbody>\n    <tr>\n      <th>0</th>\n      <td>20140102</td>\n      <td>0.000000</td>\n      <td>0.000000</td>\n    </tr>\n    <tr>\n      <th>1</th>\n      <td>20140103</td>\n      <td>0.000000</td>\n      <td>0.333333</td>\n    </tr>\n    <tr>\n      <th>2</th>\n      <td>20140106</td>\n      <td>0.285714</td>\n      <td>0.142857</td>\n    </tr>\n    <tr>\n      <th>3</th>\n      <td>20140107</td>\n      <td>0.000000</td>\n      <td>0.333333</td>\n    </tr>\n    <tr>\n      <th>4</th>\n      <td>20140108</td>\n      <td>0.333333</td>\n      <td>0.000000</td>\n    </tr>\n    <tr>\n      <th>...</th>\n      <td>...</td>\n      <td>...</td>\n      <td>...</td>\n    </tr>\n    <tr>\n      <th>2090</th>\n      <td>20220621</td>\n      <td>0.238095</td>\n      <td>0.285714</td>\n    </tr>\n    <tr>\n      <th>2091</th>\n      <td>20220622</td>\n      <td>0.227273</td>\n      <td>0.227273</td>\n    </tr>\n    <tr>\n      <th>2092</th>\n      <td>20220623</td>\n      <td>0.363636</td>\n      <td>0.363636</td>\n    </tr>\n    <tr>\n      <th>2093</th>\n      <td>20220624</td>\n      <td>0.200000</td>\n      <td>0.300000</td>\n    </tr>\n    <tr>\n      <th>2094</th>\n      <td>20220627</td>\n      <td>0.200000</td>\n      <td>0.133333</td>\n    </tr>\n  </tbody>\n</table>\n<p>2064 rows × 3 columns</p>\n</div>"
     },
     "execution_count": 3,
     "metadata": {},
     "output_type": "execute_result"
    }
   ],
   "source": [
    "extract_tdate_mediasent()"
   ],
   "metadata": {
    "collapsed": false
   }
  },
  {
   "cell_type": "markdown",
   "source": [
    "### 股吧情绪数据"
   ],
   "metadata": {
    "collapsed": false
   }
  },
  {
   "cell_type": "code",
   "execution_count": 4,
   "outputs": [
    {
     "data": {
      "text/plain": "           p_date  Stockcode  PostSource PositiveSentIndexA  \\\n0        20140101  000030.SZ           1               <NA>   \n1        20140101  000030.SZ           1               <NA>   \n2        20140101  000034.SZ           1               <NA>   \n3        20140101  000034.SZ           1               <NA>   \n4        20140101  000043.SZ           1               <NA>   \n...           ...        ...         ...                ...   \n7510755  20211016  900948.SH           1               <NA>   \n7510756  20211016  900952.SH           1               <NA>   \n7510757  20211016  900953.SH           1               <NA>   \n7510758  20211016  900955.SH           1               <NA>   \n7510759  20211016  900957.SH           1               <NA>   \n\n        PositiveSentIndexB PositivePosts  NeutralPosts NegativePosts  \\\n0                     <NA>           0.0           0.0           0.0   \n1                     <NA>          <NA>           0.0          <NA>   \n2                     <NA>           0.0           0.0           0.0   \n3                     <NA>          <NA>           0.0          <NA>   \n4                     <NA>           0.0           0.0           0.0   \n...                    ...           ...           ...           ...   \n7510755               <NA>           0.0           0.0           0.0   \n7510756               <NA>           0.0           0.0           0.0   \n7510757               <NA>           0.0           0.0           0.0   \n7510758               <NA>           0.0           0.0           0.0   \n7510759               <NA>           0.0           0.0           0.0   \n\n         CumPosts AvgReadings AvgComments AvgThumbUps AvgUserBarAge  \n0               0        <NA>        <NA>        <NA>          <NA>  \n1               0        <NA>        <NA>        <NA>          <NA>  \n2               0        <NA>        <NA>        <NA>          <NA>  \n3               0        <NA>        <NA>        <NA>          <NA>  \n4               0        <NA>        <NA>        <NA>          <NA>  \n...           ...         ...         ...         ...           ...  \n7510755         0        <NA>        <NA>        <NA>          <NA>  \n7510756         0        <NA>        <NA>        <NA>          <NA>  \n7510757         0        <NA>        <NA>        <NA>          <NA>  \n7510758         0        <NA>        <NA>        <NA>          <NA>  \n7510759         0        <NA>        <NA>        <NA>          <NA>  \n\n[7510760 rows x 13 columns]",
      "text/html": "<div>\n<style scoped>\n    .dataframe tbody tr th:only-of-type {\n        vertical-align: middle;\n    }\n\n    .dataframe tbody tr th {\n        vertical-align: top;\n    }\n\n    .dataframe thead th {\n        text-align: right;\n    }\n</style>\n<table border=\"1\" class=\"dataframe\">\n  <thead>\n    <tr style=\"text-align: right;\">\n      <th></th>\n      <th>p_date</th>\n      <th>Stockcode</th>\n      <th>PostSource</th>\n      <th>PositiveSentIndexA</th>\n      <th>PositiveSentIndexB</th>\n      <th>PositivePosts</th>\n      <th>NeutralPosts</th>\n      <th>NegativePosts</th>\n      <th>CumPosts</th>\n      <th>AvgReadings</th>\n      <th>AvgComments</th>\n      <th>AvgThumbUps</th>\n      <th>AvgUserBarAge</th>\n    </tr>\n  </thead>\n  <tbody>\n    <tr>\n      <th>0</th>\n      <td>20140101</td>\n      <td>000030.SZ</td>\n      <td>1</td>\n      <td>&lt;NA&gt;</td>\n      <td>&lt;NA&gt;</td>\n      <td>0.0</td>\n      <td>0.0</td>\n      <td>0.0</td>\n      <td>0</td>\n      <td>&lt;NA&gt;</td>\n      <td>&lt;NA&gt;</td>\n      <td>&lt;NA&gt;</td>\n      <td>&lt;NA&gt;</td>\n    </tr>\n    <tr>\n      <th>1</th>\n      <td>20140101</td>\n      <td>000030.SZ</td>\n      <td>1</td>\n      <td>&lt;NA&gt;</td>\n      <td>&lt;NA&gt;</td>\n      <td>&lt;NA&gt;</td>\n      <td>0.0</td>\n      <td>&lt;NA&gt;</td>\n      <td>0</td>\n      <td>&lt;NA&gt;</td>\n      <td>&lt;NA&gt;</td>\n      <td>&lt;NA&gt;</td>\n      <td>&lt;NA&gt;</td>\n    </tr>\n    <tr>\n      <th>2</th>\n      <td>20140101</td>\n      <td>000034.SZ</td>\n      <td>1</td>\n      <td>&lt;NA&gt;</td>\n      <td>&lt;NA&gt;</td>\n      <td>0.0</td>\n      <td>0.0</td>\n      <td>0.0</td>\n      <td>0</td>\n      <td>&lt;NA&gt;</td>\n      <td>&lt;NA&gt;</td>\n      <td>&lt;NA&gt;</td>\n      <td>&lt;NA&gt;</td>\n    </tr>\n    <tr>\n      <th>3</th>\n      <td>20140101</td>\n      <td>000034.SZ</td>\n      <td>1</td>\n      <td>&lt;NA&gt;</td>\n      <td>&lt;NA&gt;</td>\n      <td>&lt;NA&gt;</td>\n      <td>0.0</td>\n      <td>&lt;NA&gt;</td>\n      <td>0</td>\n      <td>&lt;NA&gt;</td>\n      <td>&lt;NA&gt;</td>\n      <td>&lt;NA&gt;</td>\n      <td>&lt;NA&gt;</td>\n    </tr>\n    <tr>\n      <th>4</th>\n      <td>20140101</td>\n      <td>000043.SZ</td>\n      <td>1</td>\n      <td>&lt;NA&gt;</td>\n      <td>&lt;NA&gt;</td>\n      <td>0.0</td>\n      <td>0.0</td>\n      <td>0.0</td>\n      <td>0</td>\n      <td>&lt;NA&gt;</td>\n      <td>&lt;NA&gt;</td>\n      <td>&lt;NA&gt;</td>\n      <td>&lt;NA&gt;</td>\n    </tr>\n    <tr>\n      <th>...</th>\n      <td>...</td>\n      <td>...</td>\n      <td>...</td>\n      <td>...</td>\n      <td>...</td>\n      <td>...</td>\n      <td>...</td>\n      <td>...</td>\n      <td>...</td>\n      <td>...</td>\n      <td>...</td>\n      <td>...</td>\n      <td>...</td>\n    </tr>\n    <tr>\n      <th>7510755</th>\n      <td>20211016</td>\n      <td>900948.SH</td>\n      <td>1</td>\n      <td>&lt;NA&gt;</td>\n      <td>&lt;NA&gt;</td>\n      <td>0.0</td>\n      <td>0.0</td>\n      <td>0.0</td>\n      <td>0</td>\n      <td>&lt;NA&gt;</td>\n      <td>&lt;NA&gt;</td>\n      <td>&lt;NA&gt;</td>\n      <td>&lt;NA&gt;</td>\n    </tr>\n    <tr>\n      <th>7510756</th>\n      <td>20211016</td>\n      <td>900952.SH</td>\n      <td>1</td>\n      <td>&lt;NA&gt;</td>\n      <td>&lt;NA&gt;</td>\n      <td>0.0</td>\n      <td>0.0</td>\n      <td>0.0</td>\n      <td>0</td>\n      <td>&lt;NA&gt;</td>\n      <td>&lt;NA&gt;</td>\n      <td>&lt;NA&gt;</td>\n      <td>&lt;NA&gt;</td>\n    </tr>\n    <tr>\n      <th>7510757</th>\n      <td>20211016</td>\n      <td>900953.SH</td>\n      <td>1</td>\n      <td>&lt;NA&gt;</td>\n      <td>&lt;NA&gt;</td>\n      <td>0.0</td>\n      <td>0.0</td>\n      <td>0.0</td>\n      <td>0</td>\n      <td>&lt;NA&gt;</td>\n      <td>&lt;NA&gt;</td>\n      <td>&lt;NA&gt;</td>\n      <td>&lt;NA&gt;</td>\n    </tr>\n    <tr>\n      <th>7510758</th>\n      <td>20211016</td>\n      <td>900955.SH</td>\n      <td>1</td>\n      <td>&lt;NA&gt;</td>\n      <td>&lt;NA&gt;</td>\n      <td>0.0</td>\n      <td>0.0</td>\n      <td>0.0</td>\n      <td>0</td>\n      <td>&lt;NA&gt;</td>\n      <td>&lt;NA&gt;</td>\n      <td>&lt;NA&gt;</td>\n      <td>&lt;NA&gt;</td>\n    </tr>\n    <tr>\n      <th>7510759</th>\n      <td>20211016</td>\n      <td>900957.SH</td>\n      <td>1</td>\n      <td>&lt;NA&gt;</td>\n      <td>&lt;NA&gt;</td>\n      <td>0.0</td>\n      <td>0.0</td>\n      <td>0.0</td>\n      <td>0</td>\n      <td>&lt;NA&gt;</td>\n      <td>&lt;NA&gt;</td>\n      <td>&lt;NA&gt;</td>\n      <td>&lt;NA&gt;</td>\n    </tr>\n  </tbody>\n</table>\n<p>7510760 rows × 13 columns</p>\n</div>"
     },
     "execution_count": 4,
     "metadata": {},
     "output_type": "execute_result"
    }
   ],
   "source": [
    "def extract_pdate_forumsent() -> cudf.DataFrame:\n",
    "    \"\"\"\n",
    "    股吧情绪,自然日期\n",
    "    :return:\n",
    "    \"\"\"\n",
    "\n",
    "    df_forum = (\n",
    "            cudf.read_parquet(\n",
    "                    DATASETS_PATH + 'FORUM_SENT_TRANS.parquet',\n",
    "                    columns=['PostDate', 'Stockcode', 'PostSource', 'PositiveSentIndexA', 'PositiveSentIndexB',\n",
    "                             'PositivePosts', 'NeutralPosts', 'NegativePosts',\n",
    "                             'TotalPosts', 'AvgReadings', 'AvgComments', 'AvgThumbUps',\n",
    "                             'AvgUserBarAge'])\n",
    "            .rename(columns={'TotalPosts': 'CumPosts', 'PostDate': 'p_date'})\n",
    "            .astype(dtype={'PositivePosts': 'float64', 'NeutralPosts': 'float64', 'NegativePosts': 'float64'})\n",
    "            .query(\"(p_date>=20140101) & (PostSource==1)\")\n",
    "    )\n",
    "\n",
    "    return df_forum.set_index(['p_date', 'Stockcode']).sort_index().reset_index()\n",
    "\n",
    "\n",
    "#\n",
    "extract_pdate_forumsent()"
   ],
   "metadata": {
    "collapsed": false
   }
  },
  {
   "cell_type": "markdown",
   "source": [
    "### 指数面板数据"
   ],
   "metadata": {
    "collapsed": false
   }
  },
  {
   "cell_type": "code",
   "execution_count": 5,
   "outputs": [
    {
     "data": {
      "text/plain": "       trade_date    ts_code       close   close_l1    close_chg    time\n0        20131231  000001.SH   2115.9800       <NA>         <NA>     1.0\n1        20131231  000010.SH   5040.2700       <NA>         <NA>     1.0\n2        20131231  000015.SH   1681.4600       <NA>         <NA>     1.0\n3        20131231  000016.SH   1574.7800       <NA>         <NA>     1.0\n4        20131231  000300.SH   2330.0300       <NA>         <NA>     1.0\n...           ...        ...         ...        ...          ...     ...\n28251    20221209  000985.SH   4973.3481  4947.6296  0.519814579  2172.0\n28252    20221209  399001.SZ  11501.5800   11389.79  0.981493074  2175.0\n28253    20221209  399005.SZ   7674.1500     7610.6  0.835019578  2175.0\n28254    20221209  399006.SZ   2420.6300    2411.81  0.365700449  2175.0\n28255    20221209  399310.SZ   6441.0700    6351.98  1.402554794  2145.0\n\n[28256 rows x 6 columns]",
      "text/html": "<div>\n<style scoped>\n    .dataframe tbody tr th:only-of-type {\n        vertical-align: middle;\n    }\n\n    .dataframe tbody tr th {\n        vertical-align: top;\n    }\n\n    .dataframe thead th {\n        text-align: right;\n    }\n</style>\n<table border=\"1\" class=\"dataframe\">\n  <thead>\n    <tr style=\"text-align: right;\">\n      <th></th>\n      <th>trade_date</th>\n      <th>ts_code</th>\n      <th>close</th>\n      <th>close_l1</th>\n      <th>close_chg</th>\n      <th>time</th>\n    </tr>\n  </thead>\n  <tbody>\n    <tr>\n      <th>0</th>\n      <td>20131231</td>\n      <td>000001.SH</td>\n      <td>2115.9800</td>\n      <td>&lt;NA&gt;</td>\n      <td>&lt;NA&gt;</td>\n      <td>1.0</td>\n    </tr>\n    <tr>\n      <th>1</th>\n      <td>20131231</td>\n      <td>000010.SH</td>\n      <td>5040.2700</td>\n      <td>&lt;NA&gt;</td>\n      <td>&lt;NA&gt;</td>\n      <td>1.0</td>\n    </tr>\n    <tr>\n      <th>2</th>\n      <td>20131231</td>\n      <td>000015.SH</td>\n      <td>1681.4600</td>\n      <td>&lt;NA&gt;</td>\n      <td>&lt;NA&gt;</td>\n      <td>1.0</td>\n    </tr>\n    <tr>\n      <th>3</th>\n      <td>20131231</td>\n      <td>000016.SH</td>\n      <td>1574.7800</td>\n      <td>&lt;NA&gt;</td>\n      <td>&lt;NA&gt;</td>\n      <td>1.0</td>\n    </tr>\n    <tr>\n      <th>4</th>\n      <td>20131231</td>\n      <td>000300.SH</td>\n      <td>2330.0300</td>\n      <td>&lt;NA&gt;</td>\n      <td>&lt;NA&gt;</td>\n      <td>1.0</td>\n    </tr>\n    <tr>\n      <th>...</th>\n      <td>...</td>\n      <td>...</td>\n      <td>...</td>\n      <td>...</td>\n      <td>...</td>\n      <td>...</td>\n    </tr>\n    <tr>\n      <th>28251</th>\n      <td>20221209</td>\n      <td>000985.SH</td>\n      <td>4973.3481</td>\n      <td>4947.6296</td>\n      <td>0.519814579</td>\n      <td>2172.0</td>\n    </tr>\n    <tr>\n      <th>28252</th>\n      <td>20221209</td>\n      <td>399001.SZ</td>\n      <td>11501.5800</td>\n      <td>11389.79</td>\n      <td>0.981493074</td>\n      <td>2175.0</td>\n    </tr>\n    <tr>\n      <th>28253</th>\n      <td>20221209</td>\n      <td>399005.SZ</td>\n      <td>7674.1500</td>\n      <td>7610.6</td>\n      <td>0.835019578</td>\n      <td>2175.0</td>\n    </tr>\n    <tr>\n      <th>28254</th>\n      <td>20221209</td>\n      <td>399006.SZ</td>\n      <td>2420.6300</td>\n      <td>2411.81</td>\n      <td>0.365700449</td>\n      <td>2175.0</td>\n    </tr>\n    <tr>\n      <th>28255</th>\n      <td>20221209</td>\n      <td>399310.SZ</td>\n      <td>6441.0700</td>\n      <td>6351.98</td>\n      <td>1.402554794</td>\n      <td>2145.0</td>\n    </tr>\n  </tbody>\n</table>\n<p>28256 rows × 6 columns</p>\n</div>"
     },
     "execution_count": 5,
     "metadata": {},
     "output_type": "execute_result"
    }
   ],
   "source": [
    "def extract_index_price() -> cudf.DataFrame:\n",
    "    \"\"\"\n",
    "    提取指数价格数据\n",
    "    :return:\n",
    "    \"\"\"\n",
    "    df_basic = (cudf.read_parquet(f'{DATASETS_PATH}IDX_PANEL_BASIC_WUGUI.parquet', columns=['close'])\n",
    "                .query(\"trade_date>=20131231\").reset_index())\n",
    "    df_basic['close_l1'] = df_basic.groupby(by=['ts_code'], as_index=False, sort=True)['close'].shift(1)\n",
    "    df_basic['close_chg'] = 100 * ((df_basic['close'] / df_basic['close_l1']) - 1)\n",
    "    df_basic['time'] = df_basic.groupby(by=['ts_code'])['trade_date'].rank()\n",
    "    return df_basic.set_index(['trade_date', 'ts_code']).sort_index().reset_index()\n",
    "\n",
    "\n",
    "extract_index_price()"
   ],
   "metadata": {
    "collapsed": false
   }
  },
  {
   "cell_type": "markdown",
   "source": [
    "### 日期映射规则数据\n",
    "映射自然日期到交易日期"
   ],
   "metadata": {
    "collapsed": false
   }
  },
  {
   "cell_type": "code",
   "execution_count": 6,
   "outputs": [
    {
     "data": {
      "text/plain": "        p_date  trade_date  trade_date_l1\n0     20140101    20140102       20140102\n1     20140102    20140102       20140103\n2     20140103    20140103       20140106\n3     20140104    20140106       20140106\n4     20140105    20140106       20140106\n...        ...         ...            ...\n3234  20221109    20221109       20221110\n3235  20221110    20221110       20221111\n3236  20221111    20221111       20221114\n3237  20221112    20221114       20221114\n3238  20221113    20221114       20221114\n\n[3239 rows x 3 columns]",
      "text/html": "<div>\n<style scoped>\n    .dataframe tbody tr th:only-of-type {\n        vertical-align: middle;\n    }\n\n    .dataframe tbody tr th {\n        vertical-align: top;\n    }\n\n    .dataframe thead th {\n        text-align: right;\n    }\n</style>\n<table border=\"1\" class=\"dataframe\">\n  <thead>\n    <tr style=\"text-align: right;\">\n      <th></th>\n      <th>p_date</th>\n      <th>trade_date</th>\n      <th>trade_date_l1</th>\n    </tr>\n  </thead>\n  <tbody>\n    <tr>\n      <th>0</th>\n      <td>20140101</td>\n      <td>20140102</td>\n      <td>20140102</td>\n    </tr>\n    <tr>\n      <th>1</th>\n      <td>20140102</td>\n      <td>20140102</td>\n      <td>20140103</td>\n    </tr>\n    <tr>\n      <th>2</th>\n      <td>20140103</td>\n      <td>20140103</td>\n      <td>20140106</td>\n    </tr>\n    <tr>\n      <th>3</th>\n      <td>20140104</td>\n      <td>20140106</td>\n      <td>20140106</td>\n    </tr>\n    <tr>\n      <th>4</th>\n      <td>20140105</td>\n      <td>20140106</td>\n      <td>20140106</td>\n    </tr>\n    <tr>\n      <th>...</th>\n      <td>...</td>\n      <td>...</td>\n      <td>...</td>\n    </tr>\n    <tr>\n      <th>3234</th>\n      <td>20221109</td>\n      <td>20221109</td>\n      <td>20221110</td>\n    </tr>\n    <tr>\n      <th>3235</th>\n      <td>20221110</td>\n      <td>20221110</td>\n      <td>20221111</td>\n    </tr>\n    <tr>\n      <th>3236</th>\n      <td>20221111</td>\n      <td>20221111</td>\n      <td>20221114</td>\n    </tr>\n    <tr>\n      <th>3237</th>\n      <td>20221112</td>\n      <td>20221114</td>\n      <td>20221114</td>\n    </tr>\n    <tr>\n      <th>3238</th>\n      <td>20221113</td>\n      <td>20221114</td>\n      <td>20221114</td>\n    </tr>\n  </tbody>\n</table>\n<p>3239 rows × 3 columns</p>\n</div>"
     },
     "execution_count": 6,
     "metadata": {},
     "output_type": "execute_result"
    }
   ],
   "source": [
    "def extract_map_date() -> cudf.DataFrame:\n",
    "    \"\"\"\n",
    "    提取映射规则\n",
    "    :return:\n",
    "    \"\"\"\n",
    "    df_mapdate = pd.read_sql_table('map_date', DB().ENGINE, 'FIN_BASIC', parse_dates=['nature_date', 'map_l0'])[\n",
    "        ['nature_date', 'map_l0', 'map_l1']]\n",
    "    df_mapdate['nature_date'] = df_mapdate['nature_date'].dt.strftime('%Y%m%d').astype('uint32')\n",
    "    df_mapdate.dropna(axis=0, subset=['map_l0', 'map_l1'], inplace=True)\n",
    "    df_mapdate['map_l0'] = df_mapdate['map_l0'].dt.strftime('%Y%m%d').astype('uint32')\n",
    "    df_mapdate['map_l1'] = df_mapdate['map_l1'].dt.strftime('%Y%m%d').astype('uint32')\n",
    "    return cudf.from_pandas(df_mapdate.rename(columns={'nature_date': 'p_date', 'map_l0': 'trade_date', 'map_l1': 'trade_date_l1'}))\n",
    "\n",
    "\n",
    "extract_map_date()"
   ],
   "metadata": {
    "collapsed": false
   }
  },
  {
   "cell_type": "markdown",
   "source": [
    "## 2.投资者情绪指标计算"
   ],
   "metadata": {
    "collapsed": false
   }
  },
  {
   "cell_type": "markdown",
   "source": [
    "### 参数区\n",
    "计算加权影响力,参数为影响力系数,点赞评论阅读"
   ],
   "metadata": {
    "collapsed": false
   }
  },
  {
   "cell_type": "code",
   "execution_count": 7,
   "outputs": [],
   "source": [
    "# 5311 5%A 10%B\n",
    "# 1000 9100  X\n",
    "# 1000 X\n",
    "\n",
    "# pdate\n",
    "# A, B, C, D = 0.6, 0.2, 0.1, 0.1\n",
    "A, B, C, D = 1.0, 0.0, 0.0, 0.0\n",
    "# A, B, C, D = 0.0, 1.0, 0.0, 0.0\n",
    "\n",
    "# tdate\n",
    "A2, B2, C2, D2 = 0.6, 0.2, 0.1, 0.1"
   ],
   "metadata": {
    "collapsed": false
   }
  },
  {
   "cell_type": "markdown",
   "source": [
    "### 发布日情绪\n",
    "在数据处理上,无论是否填充0 , 还是删除缺失数据,均显著"
   ],
   "metadata": {
    "collapsed": false
   }
  },
  {
   "cell_type": "code",
   "execution_count": 8,
   "outputs": [
    {
     "data": {
      "text/plain": "        p_date  img_neg   tex_neg  IndexA  IndexB    Age  Posts  Readings  \\\n0     20140101      0.0  0.000000     NaN     NaN    NaN    0.0       NaN   \n1     20140102      0.0  0.000000     NaN     NaN    NaN    0.0       NaN   \n2     20140103      0.0  0.333333     0.0     0.0  0.095    2.0  107379.0   \n3     20140104      0.0  0.000000     NaN     NaN    NaN    0.0       NaN   \n4     20140105      0.0  0.000000     NaN     NaN  0.000    1.0    9694.0   \n...        ...      ...       ...     ...     ...    ...    ...       ...   \n3069  20220623      0.0  0.000000     NaN     NaN    NaN    NaN       NaN   \n3070  20220624      0.0  0.142857     NaN     NaN    NaN    NaN       NaN   \n3071  20220625      0.0  0.000000     NaN     NaN    NaN    NaN       NaN   \n3072  20220626      0.0  0.000000     NaN     NaN    NaN    NaN       NaN   \n3073  20220627      0.0  0.000000     NaN     NaN    NaN    NaN       NaN   \n\n      Comments  ThumbUps  PosPosts  NeuPosts  NegPosts  PosRatio  NeuRatio  \\\n0          NaN       NaN       0.0       0.0       0.0       NaN       NaN   \n1          NaN       NaN       0.0       0.0       0.0       NaN       NaN   \n2        342.0       2.0       1.0       0.0       1.0       0.5       0.0   \n3          NaN       NaN       0.0       0.0       0.0       NaN       NaN   \n4         22.0       0.0       0.0       0.0       1.0       0.0       0.0   \n...        ...       ...       ...       ...       ...       ...       ...   \n3069       NaN       NaN       NaN       NaN       NaN       NaN       NaN   \n3070       NaN       NaN       NaN       NaN       NaN       NaN       NaN   \n3071       NaN       NaN       NaN       NaN       NaN       NaN       NaN   \n3072       NaN       NaN       NaN       NaN       NaN       NaN       NaN   \n3073       NaN       NaN       NaN       NaN       NaN       NaN       NaN   \n\n      NegRatio  \n0          NaN  \n1          NaN  \n2          0.5  \n3          NaN  \n4          1.0  \n...        ...  \n3069       NaN  \n3070       NaN  \n3071       NaN  \n3072       NaN  \n3073       NaN  \n\n[3074 rows x 16 columns]",
      "text/html": "<div>\n<style scoped>\n    .dataframe tbody tr th:only-of-type {\n        vertical-align: middle;\n    }\n\n    .dataframe tbody tr th {\n        vertical-align: top;\n    }\n\n    .dataframe thead th {\n        text-align: right;\n    }\n</style>\n<table border=\"1\" class=\"dataframe\">\n  <thead>\n    <tr style=\"text-align: right;\">\n      <th></th>\n      <th>p_date</th>\n      <th>img_neg</th>\n      <th>tex_neg</th>\n      <th>IndexA</th>\n      <th>IndexB</th>\n      <th>Age</th>\n      <th>Posts</th>\n      <th>Readings</th>\n      <th>Comments</th>\n      <th>ThumbUps</th>\n      <th>PosPosts</th>\n      <th>NeuPosts</th>\n      <th>NegPosts</th>\n      <th>PosRatio</th>\n      <th>NeuRatio</th>\n      <th>NegRatio</th>\n    </tr>\n  </thead>\n  <tbody>\n    <tr>\n      <th>0</th>\n      <td>20140101</td>\n      <td>0.0</td>\n      <td>0.000000</td>\n      <td>NaN</td>\n      <td>NaN</td>\n      <td>NaN</td>\n      <td>0.0</td>\n      <td>NaN</td>\n      <td>NaN</td>\n      <td>NaN</td>\n      <td>0.0</td>\n      <td>0.0</td>\n      <td>0.0</td>\n      <td>NaN</td>\n      <td>NaN</td>\n      <td>NaN</td>\n    </tr>\n    <tr>\n      <th>1</th>\n      <td>20140102</td>\n      <td>0.0</td>\n      <td>0.000000</td>\n      <td>NaN</td>\n      <td>NaN</td>\n      <td>NaN</td>\n      <td>0.0</td>\n      <td>NaN</td>\n      <td>NaN</td>\n      <td>NaN</td>\n      <td>0.0</td>\n      <td>0.0</td>\n      <td>0.0</td>\n      <td>NaN</td>\n      <td>NaN</td>\n      <td>NaN</td>\n    </tr>\n    <tr>\n      <th>2</th>\n      <td>20140103</td>\n      <td>0.0</td>\n      <td>0.333333</td>\n      <td>0.0</td>\n      <td>0.0</td>\n      <td>0.095</td>\n      <td>2.0</td>\n      <td>107379.0</td>\n      <td>342.0</td>\n      <td>2.0</td>\n      <td>1.0</td>\n      <td>0.0</td>\n      <td>1.0</td>\n      <td>0.5</td>\n      <td>0.0</td>\n      <td>0.5</td>\n    </tr>\n    <tr>\n      <th>3</th>\n      <td>20140104</td>\n      <td>0.0</td>\n      <td>0.000000</td>\n      <td>NaN</td>\n      <td>NaN</td>\n      <td>NaN</td>\n      <td>0.0</td>\n      <td>NaN</td>\n      <td>NaN</td>\n      <td>NaN</td>\n      <td>0.0</td>\n      <td>0.0</td>\n      <td>0.0</td>\n      <td>NaN</td>\n      <td>NaN</td>\n      <td>NaN</td>\n    </tr>\n    <tr>\n      <th>4</th>\n      <td>20140105</td>\n      <td>0.0</td>\n      <td>0.000000</td>\n      <td>NaN</td>\n      <td>NaN</td>\n      <td>0.000</td>\n      <td>1.0</td>\n      <td>9694.0</td>\n      <td>22.0</td>\n      <td>0.0</td>\n      <td>0.0</td>\n      <td>0.0</td>\n      <td>1.0</td>\n      <td>0.0</td>\n      <td>0.0</td>\n      <td>1.0</td>\n    </tr>\n    <tr>\n      <th>...</th>\n      <td>...</td>\n      <td>...</td>\n      <td>...</td>\n      <td>...</td>\n      <td>...</td>\n      <td>...</td>\n      <td>...</td>\n      <td>...</td>\n      <td>...</td>\n      <td>...</td>\n      <td>...</td>\n      <td>...</td>\n      <td>...</td>\n      <td>...</td>\n      <td>...</td>\n      <td>...</td>\n    </tr>\n    <tr>\n      <th>3069</th>\n      <td>20220623</td>\n      <td>0.0</td>\n      <td>0.000000</td>\n      <td>NaN</td>\n      <td>NaN</td>\n      <td>NaN</td>\n      <td>NaN</td>\n      <td>NaN</td>\n      <td>NaN</td>\n      <td>NaN</td>\n      <td>NaN</td>\n      <td>NaN</td>\n      <td>NaN</td>\n      <td>NaN</td>\n      <td>NaN</td>\n      <td>NaN</td>\n    </tr>\n    <tr>\n      <th>3070</th>\n      <td>20220624</td>\n      <td>0.0</td>\n      <td>0.142857</td>\n      <td>NaN</td>\n      <td>NaN</td>\n      <td>NaN</td>\n      <td>NaN</td>\n      <td>NaN</td>\n      <td>NaN</td>\n      <td>NaN</td>\n      <td>NaN</td>\n      <td>NaN</td>\n      <td>NaN</td>\n      <td>NaN</td>\n      <td>NaN</td>\n      <td>NaN</td>\n    </tr>\n    <tr>\n      <th>3071</th>\n      <td>20220625</td>\n      <td>0.0</td>\n      <td>0.000000</td>\n      <td>NaN</td>\n      <td>NaN</td>\n      <td>NaN</td>\n      <td>NaN</td>\n      <td>NaN</td>\n      <td>NaN</td>\n      <td>NaN</td>\n      <td>NaN</td>\n      <td>NaN</td>\n      <td>NaN</td>\n      <td>NaN</td>\n      <td>NaN</td>\n      <td>NaN</td>\n    </tr>\n    <tr>\n      <th>3072</th>\n      <td>20220626</td>\n      <td>0.0</td>\n      <td>0.000000</td>\n      <td>NaN</td>\n      <td>NaN</td>\n      <td>NaN</td>\n      <td>NaN</td>\n      <td>NaN</td>\n      <td>NaN</td>\n      <td>NaN</td>\n      <td>NaN</td>\n      <td>NaN</td>\n      <td>NaN</td>\n      <td>NaN</td>\n      <td>NaN</td>\n      <td>NaN</td>\n    </tr>\n    <tr>\n      <th>3073</th>\n      <td>20220627</td>\n      <td>0.0</td>\n      <td>0.000000</td>\n      <td>NaN</td>\n      <td>NaN</td>\n      <td>NaN</td>\n      <td>NaN</td>\n      <td>NaN</td>\n      <td>NaN</td>\n      <td>NaN</td>\n      <td>NaN</td>\n      <td>NaN</td>\n      <td>NaN</td>\n      <td>NaN</td>\n      <td>NaN</td>\n      <td>NaN</td>\n    </tr>\n  </tbody>\n</table>\n<p>3074 rows × 16 columns</p>\n</div>"
     },
     "execution_count": 8,
     "metadata": {},
     "output_type": "execute_result"
    }
   ],
   "source": [
    "def cal_investor_sentiment_pdate() -> pd.DataFrame:\n",
    "    \"\"\"\n",
    "    从论坛面板原始数据中,合并映射日期,并进行聚合\n",
    "    :return:合并了媒体情绪和投资者情绪\n",
    "    \"\"\"\n",
    "\n",
    "    # 映射,多了一列trade_date\n",
    "    df_forum = cudf.merge(extract_pdate_forumsent(), extract_map_date(), on='p_date', how='left')\n",
    "\n",
    "    # 去重\n",
    "    df_forum = df_forum.groupby(['p_date', 'Stockcode']).first().reset_index()\n",
    "\n",
    "    # 计算每日总量\n",
    "    df_forum.eval(\n",
    "            \"\"\"\n",
    "            TotalPosts = PositivePosts+NeutralPosts+NegativePosts\n",
    "            TotalReadings = AvgReadings*TotalPosts\n",
    "            TotalComments = AvgComments*TotalPosts\n",
    "            TotalThumbUps = AvgThumbUps*TotalPosts\n",
    "            \"\"\", inplace=True)\n",
    "\n",
    "    # 汇总每天的注意力数据,以计算每只股票的权重因子\n",
    "    for col in ['AvgUserBarAge',\n",
    "                'TotalPosts', 'TotalReadings', 'TotalComments', 'TotalThumbUps',\n",
    "                'PositivePosts', 'NeutralPosts', 'NegativePosts']:\n",
    "        # 年龄\n",
    "        if col == 'AvgUserBarAge': df_forum['day' + col] = df_forum.groupby(['p_date'])[col].transform('mean')\n",
    "        # 注意力 + 帖子\n",
    "        else: df_forum['day' + col] = df_forum.groupby(['p_date'])[col].transform('sum')\n",
    "\n",
    "    # 计算权重因子\n",
    "    df_forum.eval(\n",
    "            f\"\"\"\n",
    "            factorPositiveSentIndexA = PositiveSentIndexA * ({A}*(TotalPosts/dayTotalPosts)+ {B}*(TotalReadings/dayTotalReadings)+{C}*(TotalComments/dayTotalComments) + {D}*(TotalThumbUps/dayTotalThumbUps))\n",
    "            factorPositiveSentIndexB = PositiveSentIndexB * ({A}*(TotalPosts/dayTotalPosts)+ {B}*(TotalReadings/dayTotalReadings)+{C}*(TotalComments/dayTotalComments) + {D}*(TotalThumbUps/dayTotalThumbUps))\n",
    "\n",
    "            dayPosRatio = dayPositivePosts/dayTotalPosts\n",
    "            dayNeuRatio = dayNeutralPosts/dayTotalPosts\n",
    "            dayNegRatio = dayNegativePosts/dayTotalPosts\n",
    "\n",
    "            \"\"\", inplace=True)\n",
    "\n",
    "    # 计算每日情绪\n",
    "    df_forum['SentIndexA'] = df_forum.groupby(['p_date'])['factorPositiveSentIndexA'].transform('sum')\n",
    "    df_forum['SentIndexB'] = df_forum.groupby(['p_date'])['factorPositiveSentIndexB'].transform('sum')\n",
    "\n",
    "    # 时间序列数据\n",
    "    df_forum = df_forum.groupby(['p_date']).first()[\n",
    "        ['SentIndexA', 'SentIndexB',\n",
    "         'dayAvgUserBarAge',\n",
    "         'dayTotalPosts', 'dayTotalReadings', 'dayTotalComments', 'dayTotalThumbUps',\n",
    "         'dayPositivePosts', 'dayNeutralPosts', 'dayNegativePosts',\n",
    "         'dayPosRatio', 'dayNeuRatio', 'dayNegRatio',\n",
    "         ]].reset_index()\n",
    "\n",
    "    # 方便Stata命名\n",
    "    df_forum.columns = ['p_date',\n",
    "                        'IndexA', 'IndexB',\n",
    "                        'Age', 'Posts', 'Readings', 'Comments', 'ThumbUps',\n",
    "                        'PosPosts', 'NeuPosts', 'NegPosts',\n",
    "                        'PosRatio', 'NeuRatio', 'NegRatio', ]\n",
    "\n",
    "    # 合并媒体情绪\n",
    "    df_merge = cudf.merge(extract_pdate_mediasent(), df_forum, on='p_date', how='left')\n",
    "\n",
    "    # 筛选\n",
    "    return (\n",
    "            df_merge.set_index('p_date').sort_index().reset_index().to_pandas()\n",
    "            .astype(dtype={'p_date': 'str'})\n",
    "    )\n",
    "\n",
    "\n",
    "df_ols_pdate = cal_investor_sentiment_pdate()\n",
    "df_ols_pdate"
   ],
   "metadata": {
    "collapsed": false
   }
  },
  {
   "cell_type": "markdown",
   "source": [
    "### 交易日情绪"
   ],
   "metadata": {
    "collapsed": false
   }
  },
  {
   "cell_type": "code",
   "execution_count": 10,
   "outputs": [
    {
     "data": {
      "text/plain": "     trade_date    IndexA    IndexB     Posts     Readings   Comments  \\\n1720   20140102       NaN  0.000000       0.0          NaN        NaN   \n1721   20140103  0.000000  0.000000       2.0    107379.00     342.00   \n1722   20140106  0.000000  0.000000       2.0     22652.00      47.00   \n1723   20140107       NaN  0.000000       0.0          NaN        NaN   \n1724   20140108       NaN  0.000000       0.0          NaN        NaN   \n...         ...       ...       ...       ...          ...        ...   \n307    20211012 -0.229368 -0.467035  120497.0  26442508.27  273224.20   \n308    20211013 -0.226023 -0.459981  123178.0  27651587.71  288526.17   \n309    20211014 -0.188129 -0.380788  135718.0  30212375.19  303991.93   \n310    20211015 -0.268408 -0.550281   96804.0  19564087.44  218796.43   \n311    20211018       NaN  0.000000       0.0          NaN        NaN   \n\n       ThumbUps  PosPosts  NeuPosts  NegPosts  PosRatio  NeuRatio  NegRatio  \\\n1720        NaN       0.0       0.0       0.0       NaN       NaN       NaN   \n1721       2.00       1.0       0.0       1.0  0.500000  0.000000  0.500000   \n1722       0.00       1.0       0.0       1.0  0.500000  0.000000  0.500000   \n1723        NaN       0.0       0.0       0.0       NaN       NaN       NaN   \n1724        NaN       0.0       0.0       0.0       NaN       NaN       NaN   \n...         ...       ...       ...       ...       ...       ...       ...   \n307   172338.87   42169.0   11057.0   67271.0  0.349959  0.091762  0.558279   \n308   177561.46   43256.0   11402.0   68520.0  0.351167  0.092565  0.556268   \n309   188185.02   50036.0   12457.0   73225.0  0.368676  0.091786  0.539538   \n310   121423.77   32133.0    8960.0   55711.0  0.331939  0.092558  0.575503   \n311         NaN       0.0       0.0       0.0       NaN       NaN       NaN   \n\n       img_neg   tex_neg  \n1720  0.000000  0.000000  \n1721  0.000000  0.333333  \n1722  0.285714  0.142857  \n1723  0.000000  0.333333  \n1724  0.333333  0.000000  \n...        ...       ...  \n307   0.238095  0.285714  \n308   0.473684  0.210526  \n309   0.250000  0.150000  \n310   0.190476  0.142857  \n311   0.357143  0.232143  \n\n[1896 rows x 15 columns]",
      "text/html": "<div>\n<style scoped>\n    .dataframe tbody tr th:only-of-type {\n        vertical-align: middle;\n    }\n\n    .dataframe tbody tr th {\n        vertical-align: top;\n    }\n\n    .dataframe thead th {\n        text-align: right;\n    }\n</style>\n<table border=\"1\" class=\"dataframe\">\n  <thead>\n    <tr style=\"text-align: right;\">\n      <th></th>\n      <th>trade_date</th>\n      <th>IndexA</th>\n      <th>IndexB</th>\n      <th>Posts</th>\n      <th>Readings</th>\n      <th>Comments</th>\n      <th>ThumbUps</th>\n      <th>PosPosts</th>\n      <th>NeuPosts</th>\n      <th>NegPosts</th>\n      <th>PosRatio</th>\n      <th>NeuRatio</th>\n      <th>NegRatio</th>\n      <th>img_neg</th>\n      <th>tex_neg</th>\n    </tr>\n  </thead>\n  <tbody>\n    <tr>\n      <th>1720</th>\n      <td>20140102</td>\n      <td>NaN</td>\n      <td>0.000000</td>\n      <td>0.0</td>\n      <td>NaN</td>\n      <td>NaN</td>\n      <td>NaN</td>\n      <td>0.0</td>\n      <td>0.0</td>\n      <td>0.0</td>\n      <td>NaN</td>\n      <td>NaN</td>\n      <td>NaN</td>\n      <td>0.000000</td>\n      <td>0.000000</td>\n    </tr>\n    <tr>\n      <th>1721</th>\n      <td>20140103</td>\n      <td>0.000000</td>\n      <td>0.000000</td>\n      <td>2.0</td>\n      <td>107379.00</td>\n      <td>342.00</td>\n      <td>2.00</td>\n      <td>1.0</td>\n      <td>0.0</td>\n      <td>1.0</td>\n      <td>0.500000</td>\n      <td>0.000000</td>\n      <td>0.500000</td>\n      <td>0.000000</td>\n      <td>0.333333</td>\n    </tr>\n    <tr>\n      <th>1722</th>\n      <td>20140106</td>\n      <td>0.000000</td>\n      <td>0.000000</td>\n      <td>2.0</td>\n      <td>22652.00</td>\n      <td>47.00</td>\n      <td>0.00</td>\n      <td>1.0</td>\n      <td>0.0</td>\n      <td>1.0</td>\n      <td>0.500000</td>\n      <td>0.000000</td>\n      <td>0.500000</td>\n      <td>0.285714</td>\n      <td>0.142857</td>\n    </tr>\n    <tr>\n      <th>1723</th>\n      <td>20140107</td>\n      <td>NaN</td>\n      <td>0.000000</td>\n      <td>0.0</td>\n      <td>NaN</td>\n      <td>NaN</td>\n      <td>NaN</td>\n      <td>0.0</td>\n      <td>0.0</td>\n      <td>0.0</td>\n      <td>NaN</td>\n      <td>NaN</td>\n      <td>NaN</td>\n      <td>0.000000</td>\n      <td>0.333333</td>\n    </tr>\n    <tr>\n      <th>1724</th>\n      <td>20140108</td>\n      <td>NaN</td>\n      <td>0.000000</td>\n      <td>0.0</td>\n      <td>NaN</td>\n      <td>NaN</td>\n      <td>NaN</td>\n      <td>0.0</td>\n      <td>0.0</td>\n      <td>0.0</td>\n      <td>NaN</td>\n      <td>NaN</td>\n      <td>NaN</td>\n      <td>0.333333</td>\n      <td>0.000000</td>\n    </tr>\n    <tr>\n      <th>...</th>\n      <td>...</td>\n      <td>...</td>\n      <td>...</td>\n      <td>...</td>\n      <td>...</td>\n      <td>...</td>\n      <td>...</td>\n      <td>...</td>\n      <td>...</td>\n      <td>...</td>\n      <td>...</td>\n      <td>...</td>\n      <td>...</td>\n      <td>...</td>\n      <td>...</td>\n    </tr>\n    <tr>\n      <th>307</th>\n      <td>20211012</td>\n      <td>-0.229368</td>\n      <td>-0.467035</td>\n      <td>120497.0</td>\n      <td>26442508.27</td>\n      <td>273224.20</td>\n      <td>172338.87</td>\n      <td>42169.0</td>\n      <td>11057.0</td>\n      <td>67271.0</td>\n      <td>0.349959</td>\n      <td>0.091762</td>\n      <td>0.558279</td>\n      <td>0.238095</td>\n      <td>0.285714</td>\n    </tr>\n    <tr>\n      <th>308</th>\n      <td>20211013</td>\n      <td>-0.226023</td>\n      <td>-0.459981</td>\n      <td>123178.0</td>\n      <td>27651587.71</td>\n      <td>288526.17</td>\n      <td>177561.46</td>\n      <td>43256.0</td>\n      <td>11402.0</td>\n      <td>68520.0</td>\n      <td>0.351167</td>\n      <td>0.092565</td>\n      <td>0.556268</td>\n      <td>0.473684</td>\n      <td>0.210526</td>\n    </tr>\n    <tr>\n      <th>309</th>\n      <td>20211014</td>\n      <td>-0.188129</td>\n      <td>-0.380788</td>\n      <td>135718.0</td>\n      <td>30212375.19</td>\n      <td>303991.93</td>\n      <td>188185.02</td>\n      <td>50036.0</td>\n      <td>12457.0</td>\n      <td>73225.0</td>\n      <td>0.368676</td>\n      <td>0.091786</td>\n      <td>0.539538</td>\n      <td>0.250000</td>\n      <td>0.150000</td>\n    </tr>\n    <tr>\n      <th>310</th>\n      <td>20211015</td>\n      <td>-0.268408</td>\n      <td>-0.550281</td>\n      <td>96804.0</td>\n      <td>19564087.44</td>\n      <td>218796.43</td>\n      <td>121423.77</td>\n      <td>32133.0</td>\n      <td>8960.0</td>\n      <td>55711.0</td>\n      <td>0.331939</td>\n      <td>0.092558</td>\n      <td>0.575503</td>\n      <td>0.190476</td>\n      <td>0.142857</td>\n    </tr>\n    <tr>\n      <th>311</th>\n      <td>20211018</td>\n      <td>NaN</td>\n      <td>0.000000</td>\n      <td>0.0</td>\n      <td>NaN</td>\n      <td>NaN</td>\n      <td>NaN</td>\n      <td>0.0</td>\n      <td>0.0</td>\n      <td>0.0</td>\n      <td>NaN</td>\n      <td>NaN</td>\n      <td>NaN</td>\n      <td>0.357143</td>\n      <td>0.232143</td>\n    </tr>\n  </tbody>\n</table>\n<p>1896 rows × 15 columns</p>\n</div>"
     },
     "execution_count": 10,
     "metadata": {},
     "output_type": "execute_result"
    }
   ],
   "source": [
    "def cal_investor_sentiment_tdate() -> pd.DataFrame:\n",
    "    \"\"\"\n",
    "    :return:合并了媒体情绪和投资者情绪, 按照交易日聚合\n",
    "    \"\"\"\n",
    "\n",
    "    # 映射,多了一列trade_date\n",
    "    df_forum = cudf.merge(extract_pdate_forumsent(), extract_map_date(), on='p_date', how='left')\n",
    "\n",
    "    # 去重\n",
    "    df_forum = df_forum.groupby(['p_date', 'Stockcode']).first().reset_index()\n",
    "\n",
    "    # 计算每日总量\n",
    "    df_forum.eval(\n",
    "            \"\"\"\n",
    "            TotalPosts = PositivePosts+NeutralPosts+NegativePosts\n",
    "            TotalReadings = AvgReadings*TotalPosts\n",
    "            TotalComments = AvgComments*TotalPosts\n",
    "            TotalThumbUps = AvgThumbUps*TotalPosts\n",
    "            \"\"\", inplace=True)\n",
    "\n",
    "    # 汇总每天的注意力数据 加总\n",
    "    for col in ['TotalPosts', 'TotalReadings', 'TotalComments', 'TotalThumbUps',\n",
    "                'PositivePosts', 'NeutralPosts', 'NegativePosts']:\n",
    "        df_forum['day' + col] = df_forum.groupby('trade_date')[col].transform('sum')\n",
    "\n",
    "    # 计算每日情绪 平均\n",
    "    df_forum['SentIndexA'] = df_forum.groupby(['trade_date'])['PositiveSentIndexA'].transform('mean')\n",
    "    df_forum['SentIndexB'] = df_forum.groupby(['trade_date'])['PositiveSentIndexB'].transform('mean')\n",
    "\n",
    "    # 时间序列数据\n",
    "\n",
    "    df_forum = df_forum.groupby(['trade_date']).first()[\n",
    "        ['SentIndexA', 'SentIndexB',\n",
    "         'dayTotalPosts', 'dayTotalReadings', 'dayTotalComments', 'dayTotalThumbUps',\n",
    "         'dayPositivePosts', 'dayNeutralPosts', 'dayNegativePosts',\n",
    "         ]].reset_index()\n",
    "\n",
    "    # 方便Stata命名\n",
    "    df_forum.columns = ['trade_date',\n",
    "                        'IndexA', 'IndexB',\n",
    "                        'Posts', 'Readings', 'Comments', 'ThumbUps',\n",
    "                        'PosPosts', 'NeuPosts', 'NegPosts',\n",
    "                        ]\n",
    "    # 重新计算情绪\n",
    "    df_forum.eval(\n",
    "            \"\"\"\n",
    "            IndexA = (PosPosts-NegPosts)/(PosPosts+NegPosts)\n",
    "            IndexB = (1.0+PosPosts)/(1.0+NegPosts)\n",
    "            PosRatio = PosPosts/Posts\n",
    "            NeuRatio = NeuPosts/Posts\n",
    "            NegRatio = NegPosts/Posts\n",
    "            \"\"\", inplace=True)\n",
    "    df_forum['IndexB'] = np.log(df_forum['IndexB'])\n",
    "\n",
    "    # 导出\n",
    "    df_forum.set_index(['trade_date']).sort_index().to_parquet(DATASETS_PATH + 'FORUM_SENT_TDATE_CSMAR.parquet')\n",
    "\n",
    "    # 合并媒体情绪\n",
    "    df_merge = cudf.merge(extract_tdate_mediasent(), df_forum, on='trade_date', how='right').sort_values('trade_date')\n",
    "\n",
    "    return df_merge.to_pandas().astype(dtype={'trade_date': 'str'})\n",
    "\n",
    "\n",
    "df_ols_tdate = cal_investor_sentiment_tdate()\n",
    "df_ols_tdate"
   ],
   "metadata": {
    "collapsed": false
   }
  },
  {
   "cell_type": "markdown",
   "source": [
    "## 3.媒体情绪对投资者情绪的影响"
   ],
   "metadata": {
    "collapsed": false
   }
  },
  {
   "cell_type": "markdown",
   "source": [
    "### 描述性统计"
   ],
   "metadata": {
    "collapsed": false
   }
  },
  {
   "cell_type": "code",
   "execution_count": null,
   "outputs": [],
   "source": [
    "\n",
    "def cal_sum_table(df_origin: pd.DataFrame) -> pd.DataFrame:\n",
    "    \"\"\"\n",
    "    描述性统计专用\n",
    "    :return: 按照年份聚合\n",
    "    \"\"\"\n",
    "\n",
    "    df_sum = df_origin.copy()\n",
    "    df_sum['year'] = (df_sum['p_date'].str[:-4]).astype('int')\n",
    "\n",
    "    # 聚合年份\n",
    "    df_sum = pd.concat([df_sum.groupby('year')[['Posts', 'Readings', 'Comments', 'ThumbUps']].sum(True),\n",
    "                        df_sum.groupby('year')[['Age', 'NegRatio', 'NeuRatio', 'PosRatio']].mean(True)], axis=1).query(\n",
    "            \"year<=2021\")\n",
    "\n",
    "    # 计算增长率\n",
    "    df_sum = df_sum.join(((df_sum / df_sum.shift(1)) - 1) * 100, rsuffix='Yoy').fillna(0).reset_index()\n",
    "    return df_sum\n",
    "\n",
    "\n",
    "df_ols_pdate_sum = cal_sum_table(df_ols_pdate)\n",
    "df_ols_pdate_sum"
   ],
   "metadata": {
    "collapsed": false
   }
  },
  {
   "cell_type": "code",
   "execution_count": null,
   "outputs": [],
   "source": [
    "# @formatter:off"
   ],
   "metadata": {
    "collapsed": false
   }
  },
  {
   "cell_type": "code",
   "execution_count": null,
   "outputs": [],
   "source": [
    "%%stata -d df_ols_pdate_sum -force\n",
    "sum"
   ],
   "metadata": {
    "collapsed": false
   }
  },
  {
   "cell_type": "markdown",
   "source": [
    "注意力图片"
   ],
   "metadata": {
    "collapsed": false
   }
  },
  {
   "cell_type": "code",
   "execution_count": null,
   "outputs": [],
   "source": [
    "%%stata -d df_ols_pdate_sum -force -qui -nogr\n",
    "\n",
    "//Posts\n",
    "twoway bar Posts year,  yscale(log axis(1)) ylabel( 300 \"300\" 3000000 \"3M\" 30000000 \"30M\",axis(1)) ///\n",
    "yaxis(1) ytitle(\"Total\", axis(1)) ///\n",
    "barwidth(.9) fintensity(inten0) lcolor(black) || ///\n",
    "line PostsYoy year,  ylabel(10 \"10\" 40000 \"40000\",axis(2)) ///\n",
    "yaxis(2) ytitle(\"YoY (%)\", axis(2)) lwidth(thick) ///\n",
    "name(Posts,replace) scheme(sj) legend(off)  title(\"Posts\") xtitle(\"Year\")\n",
    "\n",
    "//Readings\n",
    "twoway bar Readings year,  yscale(log axis(1)) ylabel(  1500000 \"10M\" 60000000000 \"60B\",axis(1)) ///\n",
    "yaxis(1) ytitle(\"Total\", axis(1)) ///\n",
    "barwidth(.9) fintensity(inten0) lcolor(black) || ///\n",
    "line ReadingsYoy year,  ///\n",
    "yaxis(2) ytitle(\"YoY (%)\", axis(2)) lwidth(thick) ///\n",
    "name(Readings,replace) scheme(sj) legend(off)  title(\"Readings\") xtitle(\"Year\")\n",
    "\n",
    "//Comments\n",
    "twoway bar Comments year,  yscale(log axis(1)) ylabel(  20000 \"20K\" 200000000 \"200M\",axis(1)) ///\n",
    "yaxis(1) ytitle(\"Total\", axis(1)) ///\n",
    "barwidth(.9) fintensity(inten0) lcolor(black) || ///\n",
    "line CommentsYoy year,  ///\n",
    "yaxis(2) ytitle(\"YoY (%)\", axis(2)) lwidth(thick) ///\n",
    "name(Comments,replace) scheme(sj) legend(off)  title(\"Comments\") xtitle(\"Year\")\n",
    "\n",
    "//ThumbUps\n",
    "twoway bar ThumbUps year,  yscale(log axis(1)) ylabel(  1000 \"1K\" 200000000 \"200M\",axis(1)) ///\n",
    "yaxis(1) ytitle(\"Total\", axis(1)) ///\n",
    "barwidth(.9) fintensity(inten0) lcolor(black) || ///\n",
    "line ThumbUpsYoy year,  ///\n",
    "yaxis(2) ytitle(\"YoY (%)\", axis(2)) lwidth(thick) ///\n",
    "name(ThumbUps,replace) scheme(sj) legend(off)  title(\"ThumbUps\") xtitle(\"Year\")\n"
   ],
   "metadata": {
    "collapsed": false
   }
  },
  {
   "cell_type": "markdown",
   "source": [
    "情绪图片"
   ],
   "metadata": {
    "collapsed": false
   }
  },
  {
   "cell_type": "code",
   "execution_count": null,
   "outputs": [],
   "source": [
    "%%stata -d df_ols_pdate -force -gw 12in -gh 6in  -qui -nogr\n",
    "\n",
    "//设定时间序列\n",
    "ge dt = date(p_date, \"YMD\")\n",
    "ge year=year(dt)\n",
    "format dt %tdCCYYNNDD\n",
    "tsset dt\n",
    "\n",
    "//缩尾\n",
    "winsor2 IndexA IndexB , cut(0.5 99.5)  replace\n",
    "\n",
    "//投资者情绪折线图\n",
    "twoway bar IndexB dt ,name(time_change,replace) ///\n",
    "xtitle(Date,margin(medium)) xlabel(, labgap(medium)) ///\n",
    "ytitle(Investor Sentiment) ylabel(, nogrid) scheme(sj)\n",
    "\n",
    "//投资者情绪分布图\n",
    "histogram IndexB, name(distribution,replace) ///\n",
    "xtitle(Investor Sentiment,margin(medium)) xlabel(, labgap(medium)) ///\n",
    "ylabel(, nogrid)  scheme(sj) ///\n",
    "normal normopts(lpattern(dash))"
   ],
   "metadata": {
    "collapsed": false
   }
  },
  {
   "cell_type": "markdown",
   "source": [
    "股吧关注度和互动图片合成"
   ],
   "metadata": {
    "collapsed": false
   }
  },
  {
   "cell_type": "code",
   "execution_count": null,
   "outputs": [],
   "source": [
    "%%stata  -gw 12in -gh 8in\n",
    "graph combine Posts Readings Comments ThumbUps , name(Attention,replace)  scale(0.5) scheme(sj)"
   ],
   "metadata": {
    "collapsed": false
   }
  },
  {
   "cell_type": "markdown",
   "source": [
    "股吧情绪时间序列和分布"
   ],
   "metadata": {
    "collapsed": false
   }
  },
  {
   "cell_type": "code",
   "execution_count": null,
   "outputs": [],
   "source": [
    "%%stata -gw 12in -gh 5in\n",
    "graph combine time_change distribution, name(c2,replace) scale(0.5)  scheme(sj)"
   ],
   "metadata": {
    "collapsed": false
   }
  },
  {
   "cell_type": "markdown",
   "source": [
    "### 线性回归分析-发布日期"
   ],
   "metadata": {
    "collapsed": false
   }
  },
  {
   "cell_type": "markdown",
   "source": [
    "#### 模型设定"
   ],
   "metadata": {
    "collapsed": false
   }
  },
  {
   "cell_type": "code",
   "execution_count": null,
   "outputs": [],
   "source": [
    "%%stata -d df_ols_pdate -force -qui\n",
    "//设定时间序列\n",
    "ge time=_n\n",
    "tsset time\n",
    "\n",
    "//缩尾\n",
    "winsor2 IndexA IndexB Posts Readings Comments ThumbUps NegPosts NeuPosts PosPosts, cut(1 99)  replace\n",
    "winsor2 Age, cut(1 100) trim replace\n",
    "\n",
    "//外生变量\n",
    "ge dt = date(p_date, \"YMD\")\n",
    "format dt %tdCCYYNNDD\n",
    "ge year=year(dt)\n",
    "\n",
    "//生成变量\n",
    "ge img_pos=1-img_neg\n",
    "\n",
    "//变量对数处理\n",
    "ge NonNegRatio=1-NegRatio\n",
    "foreach var in Posts Readings Comments ThumbUps NegPosts NeuPosts PosPosts {\n",
    "    ge ln`var'=ln(`var')\n",
    "}"
   ],
   "metadata": {
    "collapsed": false
   }
  },
  {
   "cell_type": "markdown",
   "source": [
    "#### 基准回归\n",
    "!查看基准回归结果"
   ],
   "metadata": {
    "collapsed": false
   }
  },
  {
   "cell_type": "code",
   "execution_count": null,
   "outputs": [],
   "source": [
    "%%stata\n",
    "\n",
    "//清除\n",
    "est clear\n",
    "\n",
    "//图像情绪回归\n",
    "rename(img_neg) (media_neg)\n",
    "eststo: qui reg IndexB L.media_neg L.lnPosts L.lnReadings L.lnComments L.lnThumbUps i.year,r\n",
    "eststo: qui reg IndexA L.media_neg L.lnPosts L.lnReadings L.lnComments L.lnThumbUps i.year,r\n",
    "rename(media_neg) (img_neg)\n",
    "\n",
    "//文本情绪回归\n",
    "rename(tex_neg) (media_neg)\n",
    "eststo: qui reg IndexB L.media_neg L.lnPosts L.lnReadings L.lnComments L.lnThumbUps i.year,r\n",
    "eststo: qui reg IndexA L.media_neg L.lnPosts L.lnReadings L.lnComments L.lnThumbUps i.year,r\n",
    "rename(media_neg) (tex_neg)\n",
    "\n",
    "//显示固定效应\n",
    "estadd local Year \"Yes\" : *\n",
    "\n",
    "//输出回归结果\n",
    "esttab using Investor-Sentiment/outputs/media_to_investor_base ,r type ///\n",
    "keep(L.*) ///\n",
    "star(* 0.1 ** 0.05 *** 0.01) ///\n",
    "stats( Year r2_a N, fmt(%3s %12.2f %12.0f)) ///\n",
    "title(\"Table MediaSent to InvestorSent\") mtitle(\"InvestorSent A\" \"InvestorSent B\" \"InvestorSent A\" \"InvestorSent B\") ///\n",
    "mgroups(\"img_neg\" \"tex_neg\", pattern(1 0 1 0 )) ///\n",
    "nogaps  b(%12.4f)"
   ],
   "metadata": {
    "collapsed": false
   }
  },
  {
   "cell_type": "markdown",
   "source": [
    "#### 注意力效应回归\n",
    "媒体情绪通过投资者关注度,影响投资者情绪"
   ],
   "metadata": {
    "collapsed": false
   }
  },
  {
   "cell_type": "code",
   "execution_count": null,
   "outputs": [],
   "source": [
    "%%stata\n",
    "//清除\n",
    "est clear\n",
    "\n",
    "//图像情绪回归\n",
    "eststo: qui reg IndexB L.lnPosts L.img_neg i.year ,r\n",
    "eststo: qui reg IndexB L.lnPosts c.L.lnReadings#c.L.img_neg i.year,r\n",
    "eststo: qui reg IndexB L.lnPosts c.L.lnComments#c.L.img_neg i.year,r\n",
    "eststo: qui reg IndexB L.lnPosts c.L.lnThumbUps#c.L.img_neg i.year,r\n",
    "\n",
    "//增加固定效应\n",
    "estadd local Year \"Yes\" : *\n",
    "\n",
    "//输出回归结果\n",
    "esttab using Investor-Sentiment/outputs/media_to_investor_inter ,r type ///\n",
    "keep(*L.*) ///\n",
    "star(* 0.1 ** 0.05 *** 0.01) ///\n",
    "stats( Year r2_a N, fmt(%3s %12.2f %12.0f)) ///\n",
    "title(\"Table Investor Attention\") ///\n",
    "nogaps compress b(%12.4f)"
   ],
   "metadata": {
    "collapsed": false
   }
  },
  {
   "cell_type": "markdown",
   "source": [
    "#### 情绪非对称效应回归"
   ],
   "metadata": {
    "collapsed": false
   }
  },
  {
   "cell_type": "code",
   "execution_count": null,
   "outputs": [],
   "source": [
    "%%stata\n",
    "//清除\n",
    "est clear\n",
    "\n",
    "//图像情绪回归 积极,消极和中立的异质影响\n",
    "eststo: qui reg IndexB L.lnPosts L.img_neg  i.year ,r\n",
    "eststo: qui reg IndexB L.lnPosts c.L.img_neg#c.L.NegRatio  i.year ,r\n",
    "eststo: qui reg IndexB L.lnPosts c.L.img_neg#c.L.PosRatio  i.year ,r\n",
    "\n",
    "//增加固定效应\n",
    "estadd local Year \"Yes\" : *\n",
    "\n",
    "//输出回归结果\n",
    "esttab using Investor-Sentiment/outputs/media_to_investor_nonsymmetry ,r type ///\n",
    "keep(*L*.*) ///\n",
    "star(* 0.1 ** 0.05 *** 0.01) ///\n",
    "stats( Year r2_a N, fmt(%3s %12.2f %12.0f)) ///\n",
    "title(\"Table Investor Non-symmetry\") ///\n",
    "nogaps b(%12.4f)"
   ],
   "metadata": {
    "collapsed": false
   }
  },
  {
   "cell_type": "markdown",
   "source": [
    "#### 年龄异质性回归(不稳健)"
   ],
   "metadata": {
    "collapsed": false
   }
  },
  {
   "cell_type": "code",
   "execution_count": null,
   "outputs": [],
   "source": [
    "%%stata\n",
    "//清除\n",
    "est clear\n",
    "\n",
    "//图像情绪回归 按年龄分组\n",
    "eststo: qui reg IndexB L.lnPosts c.L.img_neg#c.L.lnPosts  i.year if Age<3.151351 ,r\n",
    "eststo: qui reg IndexB L.lnPosts c.L.img_neg#c.L.NegRatio  i.year if Age<3.151351 ,r\n",
    "\n",
    "eststo: qui reg IndexB L.lnPosts c.L.img_neg#c.L.lnPosts i.year if Age>=3.151351 ,r\n",
    "eststo: qui reg IndexB L.lnPosts c.L.img_neg#c.L.NegRatio i.year if Age>=3.151351 ,r\n",
    "\n",
    "eststo: qui reg IndexB L.lnPosts c.L.img_neg#c.L.lnPosts i.year if Age>=3.151351 ,r\n",
    "eststo: qui reg IndexB L.lnPosts c.L.img_neg#c.L.NegRatio i.year if Age>=3.151351 ,r\n",
    "\n",
    "//增加固定效应\n",
    "estadd local Year \"Yes\" : *\n",
    "\n",
    "//输出回归结果//\n",
    "esttab using Investor-Sentiment/outputs/media_to_investor_age ,r type ///\n",
    "keep(*L*.*) ///\n",
    "star(* 0.1 ** 0.05 *** 0.01) ///\n",
    "stats( Year r2_a N, fmt(%3s %12.2f %12.0f)) ///\n",
    "title(\"Table Investor Age\") ///\n",
    "mgroups(\"Low Age\" \"High Age\", pattern(1 0 1 0 )) ///\n",
    "nogaps b(%12.4f)"
   ],
   "metadata": {
    "collapsed": false
   }
  },
  {
   "cell_type": "markdown",
   "source": [
    " ### 线性回归分析-交易日期"
   ],
   "metadata": {
    "collapsed": false
   }
  },
  {
   "cell_type": "markdown",
   "source": [
    "#### 模型设定 -t"
   ],
   "metadata": {
    "collapsed": false
   }
  },
  {
   "cell_type": "code",
   "execution_count": null,
   "outputs": [],
   "source": [
    "%%stata -d df_ols_tdate -force -qui\n",
    "//设定时间序列\n",
    "ge time=_n\n",
    "tsset time\n",
    "\n",
    "//缩尾\n",
    "winsor2 IndexA IndexB Posts Readings Comments ThumbUps NegPosts NeuPosts PosPosts, cut(1 99)  replace\n",
    "\n",
    "//外生变量\n",
    "ge dt = date(trade_date, \"YMD\")\n",
    "format dt %tdCCYYNNDD\n",
    "ge year=year(dt)\n",
    "\n",
    "//生成变量\n",
    "ge img_pos=1-img_neg\n",
    "\n",
    "//变量对数处理\n",
    "foreach var in Posts Readings Comments ThumbUps NegPosts NeuPosts PosPosts {\n",
    "    ge ln`var'=ln(`var')\n",
    "}"
   ],
   "metadata": {
    "collapsed": false
   }
  },
  {
   "cell_type": "markdown",
   "source": [
    "#### 基准回归 -t"
   ],
   "metadata": {
    "collapsed": false
   }
  },
  {
   "cell_type": "code",
   "execution_count": null,
   "outputs": [],
   "source": [
    "%%stata\n",
    "\n",
    "//清除\n",
    "est clear\n",
    "\n",
    "//图像情绪回归\n",
    "rename(img_neg) (media_neg)\n",
    "eststo: qui reg IndexB L.media_neg L.lnPosts L.lnReadings L.lnComments L.lnThumbUps i.year,r\n",
    "eststo: qui reg IndexA L.media_neg L.lnPosts L.lnReadings L.lnComments L.lnThumbUps i.year,r\n",
    "rename(media_neg) (img_neg)\n",
    "\n",
    "//文本情绪回归\n",
    "rename(tex_neg) (media_neg)\n",
    "eststo: qui reg IndexB L.media_neg L.lnPosts L.lnReadings L.lnComments L.lnThumbUps i.year,r\n",
    "eststo: qui reg IndexA L.media_neg L.lnPosts L.lnReadings L.lnComments L.lnThumbUps i.year,r\n",
    "rename(media_neg) (tex_neg)\n",
    "\n",
    "//显示固定效应\n",
    "estadd local Year \"Yes\" : *\n",
    "\n",
    "//输出回归结果\n",
    "esttab using Investor-Sentiment/outputs/media_to_investor_base ,r type ///\n",
    "keep(L.*) ///\n",
    "star(* 0.1 ** 0.05 *** 0.01) ///\n",
    "stats( Year r2_a N, fmt(%3s %12.2f %12.0f)) ///\n",
    "title(\"Table MediaSent to InvestorSent\") mtitle(\"InvestorSent A\" \"InvestorSent B\" \"InvestorSent A\" \"InvestorSent B\") ///\n",
    "mgroups(\"img_neg\" \"tex_neg\", pattern(1 0 1 0 )) ///\n",
    "nogaps  b(%12.4f)"
   ],
   "metadata": {
    "collapsed": false
   }
  },
  {
   "cell_type": "markdown",
   "source": [
    "## 4.投资者情绪对股票市场的影响"
   ],
   "metadata": {
    "collapsed": false
   }
  },
  {
   "cell_type": "code",
   "execution_count": null,
   "outputs": [],
   "source": [
    "# %%stata -d df_var -force\n",
    "# est clear\n",
    "#\n",
    "# //设定面板数据\n",
    "# encode ts_code,gen(id)\n",
    "# xtset id time\n",
    "#\n",
    "# //增加固定效应\n",
    "# ge dt = date(trade_date, \"YMD\")\n",
    "# format dt %tdCCYYNNDD\n",
    "# ge year=year(dt)\n",
    "#\n",
    "# //增加平方项\n",
    "# ge close_chg_s=close_chg*close_chg\n",
    "#\n",
    "# //分组VAR回归\n",
    "# by id, sort : eststo: qui var close_chg IndexB close_chg_s, lags(1/5) exog(year)\n",
    "#\n",
    "# esttab , keep(close_chg:L*.IndexB) nogaps compress b(%12.4f) star(* 0.1 ** 0.05 *** 0.01)"
   ],
   "metadata": {
    "collapsed": false
   }
  },
  {
   "cell_type": "markdown",
   "source": [
    "## 弃用代码"
   ],
   "metadata": {
    "collapsed": false
   }
  },
  {
   "cell_type": "markdown",
   "source": [
    "### 发布日情绪(弃用)"
   ],
   "metadata": {
    "collapsed": false
   }
  },
  {
   "cell_type": "markdown",
   "source": [
    "### 合并和映射(弃用)"
   ],
   "metadata": {
    "collapsed": false
   }
  },
  {
   "cell_type": "code",
   "execution_count": null,
   "outputs": [],
   "source": [
    "def cal_investor_sentiment_pdate_old(df: cudf.DataFrame, a, b, c, d) -> cudf.DataFrame:\n",
    "    \"\"\"\n",
    "    计算加权投资者情绪,旧的版本\n",
    "    \"\"\"\n",
    "\n",
    "    # 每日总量\n",
    "    df['DayTotalPosts'] = df.groupby(['PostDate', ])['TotalPosts'].transform('sum')\n",
    "    df['DayAvgReadings'] = df.groupby(['PostDate', ])['AvgReadings'].transform('sum')\n",
    "    df['DayAvgComments'] = df.groupby(['PostDate', ])['AvgComments'].transform('sum')\n",
    "    df['DayAvgPositThumbUps'] = df.groupby(['PostDate', ])['AvgPositThumbUps'].transform('sum')\n",
    "\n",
    "    # 加权因子总量\n",
    "    df['DayTotalPostsFactor'] = df['TotalPosts'] / df['DayTotalPosts']\n",
    "    df['DayAvgReadingsFactor'] = df['AvgReadings'] / df['DayAvgReadings']\n",
    "    df['DayAvgCommentsFactor'] = df['AvgComments'] / df['DayAvgComments']\n",
    "    df['DayAvgPositThumbUpsFactor'] = df['AvgPositThumbUps'] / df['DayAvgPositThumbUps']\n",
    "\n",
    "    # 个股加权情绪因子\n",
    "    df['PositiveSentIndexAFactor'] = (\n",
    "            (df['DayTotalPostsFactor'] * a + df['DayAvgReadingsFactor'] * b +\n",
    "             df['DayAvgCommentsFactor'] * c + df['DayAvgPositThumbUpsFactor'] * d)\n",
    "            * df['PositiveSentIndexA']\n",
    "    )\n",
    "\n",
    "    df['PositiveSentIndexBFactor'] = (\n",
    "            (df['DayTotalPostsFactor'] * a + df['DayAvgReadingsFactor'] * b +\n",
    "             df['DayAvgCommentsFactor'] * c + df['DayAvgPositThumbUpsFactor'] * d)\n",
    "            * df['PositiveSentIndexB']\n",
    "    )\n",
    "\n",
    "    # 每日情绪因子\n",
    "    df['DayPositiveSentIndexA'] = df.groupby(['PostDate'])['PositiveSentIndexAFactor'].transform('sum')\n",
    "    df['DayPositiveSentIndexB'] = df.groupby(['PostDate'])['PositiveSentIndexBFactor'].transform('sum')\n",
    "\n",
    "    # 转换为时间序列数据\n",
    "    df_time = df.groupby(['PostDate', ], as_index=False).first()[\n",
    "        ['PostDate', 'DayPositiveSentIndexA', 'DayPositiveSentIndexB',\n",
    "         'DayTotalPosts', 'DayAvgReadings', 'DayAvgComments', 'DayAvgPositThumbUps']]\n",
    "    df_time.columns = ['p_date', 'IndexA', 'IndexB', 'Posts', 'Readings', 'Comments', 'ThumbUps']\n",
    "    return df_time\n",
    "\n",
    "# cal_investor_sentiment(df_forum, A, B, C, D)"
   ],
   "metadata": {
    "collapsed": false
   }
  },
  {
   "cell_type": "code",
   "execution_count": null,
   "outputs": [],
   "source": [
    "def merge_tdate_media_investor_ex(ex_coff) -> cudf.DataFrame:\n",
    "    \"\"\"\n",
    "    考虑了衰减系数\n",
    "    :return:\n",
    "    \"\"\"\n",
    "    df_map = cudf.merge(\n",
    "            cal_investor_sentiment(df_forum, A2, B2, C2, D2),\n",
    "            extract_map_date(),\n",
    "            on=['p_date'], how='left'\n",
    "\n",
    "    ).set_index(['trade_date', 'p_date']).sort_index().reset_index()\n",
    "\n",
    "    # 计算序号\n",
    "    df_map['distance'] = df_map.groupby('trade_date')['p_date'].rank()\n",
    "\n",
    "    # 指数化衰减\n",
    "    df_map['distance_ex'] = np.exp(df_map['distance'] / ex_coff)\n",
    "    df_map['ex_total'] = df_map.groupby('trade_date')['distance_ex'].transform('sum')\n",
    "    df_map['ex_factor'] = df_map['distance_ex'] / df_map['ex_total']\n",
    "\n",
    "    # 衰减\n",
    "    df_map = df_map.set_index(['trade_date', 'p_date'])\n",
    "    for col in df_map.columns: df_map[col] = df_map[col] * df_map['ex_factor']\n",
    "    df_map = df_map.reset_index()\n",
    "\n",
    "    # 计算平均指标 这里应该要衰减\n",
    "    df_map['IndexA'] = df_map.groupby('trade_date', as_index=False)['IndexA'].transform('mean')\n",
    "    df_map['IndexB'] = df_map.groupby('trade_date', as_index=False)['IndexB'].transform('mean')\n",
    "    df_map['Posts'] = df_map.groupby('trade_date', as_index=False)['Posts'].transform('mean')\n",
    "    df_map['Readings'] = df_map.groupby('trade_date', as_index=False)['Readings'].transform('mean')\n",
    "    df_map['Comments'] = df_map.groupby('trade_date', as_index=False)['Comments'].transform('mean')\n",
    "    df_map['ThumbUps'] = df_map.groupby('trade_date', as_index=False)['ThumbUps'].transform('mean')\n",
    "\n",
    "    # 时间序列\n",
    "    df_map = df_map.groupby('trade_date').first().sort_index().reset_index()\n",
    "\n",
    "    # 合并\n",
    "    df_merge = cudf.merge(Loader().get_time_series().reset_index(), df_map, on='trade_date', how='left')\n",
    "\n",
    "    # 单位\n",
    "    df_merge['Readings'] = df_merge['Readings'] / 100\n",
    "\n",
    "    return df_merge.set_index('trade_date').sort_index().reset_index()\n",
    "\n",
    "\n",
    "def merge_tdate_media_investor() -> cudf.DataFrame:\n",
    "    \"\"\"\n",
    "    合并论坛和媒体情绪,交易日期\n",
    "    \"\"\"\n",
    "    df_map = cudf.merge(\n",
    "            cal_investor_sentiment(df_forum, A2, B2, C2, D2),\n",
    "            extract_map_date(),\n",
    "            on=['p_date'], how='left'\n",
    "\n",
    "    )\n",
    "\n",
    "    # 计算平均指标 这里应该要衰减\n",
    "    df_map['IndexA'] = df_map.groupby('trade_date', as_index=False)['IndexA'].transform('mean')\n",
    "    df_map['IndexB'] = df_map.groupby('trade_date', as_index=False)['IndexB'].transform('mean')\n",
    "    df_map['Posts'] = df_map.groupby('trade_date', as_index=False)['Posts'].transform('mean')\n",
    "    df_map['Readings'] = df_map.groupby('trade_date', as_index=False)['Readings'].transform('mean')\n",
    "    df_map['Comments'] = df_map.groupby('trade_date', as_index=False)['Comments'].transform('mean')\n",
    "    df_map['ThumbUps'] = df_map.groupby('trade_date', as_index=False)['ThumbUps'].transform('mean')\n",
    "\n",
    "    # 时间序列\n",
    "    df_map = df_map.groupby('trade_date').first().sort_index().reset_index()\n",
    "\n",
    "    # 合并\n",
    "    df_merge = cudf.merge(Loader().get_time_series().reset_index(), df_map, on='trade_date', how='left')\n",
    "\n",
    "    return df_merge.set_index('trade_date').sort_index().reset_index()\n",
    "\n",
    "\n",
    "def merge_pdate_media_investor() -> cudf.DataFrame:\n",
    "    \"\"\"\n",
    "    发布日期定义的合并\n",
    "    :return:\n",
    "    \"\"\"\n",
    "    # 合并\n",
    "    df_merge = cudf.merge(extract_pdate_mediasent(), cal_investor_sentiment(df_forum, A, B, C, D), on='p_date',\n",
    "                          how='left')\n",
    "\n",
    "    # 改名字方便变量\n",
    "    return df_merge.rename(columns={'p_date': 'trade_date'}).set_index('trade_date').sort_index().reset_index()"
   ],
   "metadata": {
    "collapsed": false
   }
  }
 ],
 "metadata": {
  "kernelspec": {
   "name": "stata",
   "language": "python",
   "display_name": "Stata"
  },
  "language_info": {
   "codemirror_mode": {
    "name": "ipython",
    "version": 2
   },
   "file_extension": ".py",
   "mimetype": "text/x-python",
   "name": "python",
   "nbconvert_exporter": "python",
   "pygments_lexer": "ipython2",
   "version": "2.7.6"
  }
 },
 "nbformat": 4,
 "nbformat_minor": 0
}
