{
 "cells": [
  {
   "cell_type": "markdown",
   "source": [
    "# 投资者情绪专题\n",
    "使用所有的数据进行加总"
   ],
   "metadata": {
    "collapsed": false
   }
  },
  {
   "cell_type": "markdown",
   "source": [
    "## 数据准备"
   ],
   "metadata": {
    "collapsed": false
   }
  },
  {
   "cell_type": "code",
   "execution_count": null,
   "metadata": {
    "collapsed": true
   },
   "outputs": [],
   "source": [
    "import sys\n",
    "import os\n",
    "import cudf  #CUDA计算\n",
    "import pandas as pd\n",
    "\n",
    "# 自行编写的包\n",
    "sys.path.append('/home/ubuntu/notebook/Investor-Sentiment')\n",
    "sys.path.append('/usr/local/stata17/utilities')\n",
    "\n",
    "# Stata\n",
    "from pystata import config  # noqa\n",
    "\n",
    "config.init('mp')\n",
    "# ------------------------------数据集路径----------------------------------#\n",
    "DATASETS_PATH = '/data/DataSets/investor_sentiment/'"
   ]
  },
  {
   "cell_type": "markdown",
   "source": [
    "合并Excel"
   ],
   "metadata": {
    "collapsed": false
   }
  },
  {
   "cell_type": "code",
   "execution_count": null,
   "outputs": [],
   "source": [
    "def excel_transform():\n",
    "    \"\"\"\n",
    "    转换excel\n",
    "    :return:\n",
    "    \"\"\"\n",
    "\n",
    "    import multiprocessing as mp\n",
    "\n",
    "    file_path = '/home/ubuntu/notebook/DataSets/FORUM_SENT/'\n",
    "    pool = mp.Pool(10)\n",
    "\n",
    "    # 任务函数\n",
    "    def myfunc(name):\n",
    "        df = pd.read_excel(file_path + name, header=0, engine='openpyxl', skiprows=[1, 2], dtype={'Stockcode': 'str', 'PostDate': 'str'})\n",
    "        out_name = file_path + name[:-5] + '.parquet'\n",
    "        df.to_parquet(out_name)\n",
    "        return {name: out_name}\n",
    "\n",
    "    results = [pool.apply_async(myfunc, args=(name,)) for name in os.listdir(file_path) if '.xlsx' in name]\n",
    "    results = [p.get() for p in results]\n",
    "    return results\n",
    "\n",
    "\n",
    "def merge_parquet():\n",
    "    df_merge = pd.DataFrame()\n",
    "    for i in os.listdir(file_path):\n",
    "        if '.parquet' in i:\n",
    "            df_merge = pd.concat([df_merge, pd.read_parquet(file_path + i)])\n",
    "    df_merge.to_parquet('/data/DataSets/investor_sentiment/FORUM_SENT.parquet')"
   ],
   "metadata": {
    "collapsed": false
   }
  }
 ],
 "metadata": {
  "kernelspec": {
   "name": "stata",
   "language": "python",
   "display_name": "Stata"
  },
  "language_info": {
   "codemirror_mode": {
    "name": "ipython",
    "version": 2
   },
   "file_extension": ".py",
   "mimetype": "text/x-python",
   "name": "python",
   "nbconvert_exporter": "python",
   "pygments_lexer": "ipython2",
   "version": "2.7.6"
  }
 },
 "nbformat": 4,
 "nbformat_minor": 0
}
