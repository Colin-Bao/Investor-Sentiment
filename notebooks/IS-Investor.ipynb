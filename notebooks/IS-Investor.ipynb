{
 "cells": [
  {
   "cell_type": "markdown",
   "source": [
    "# 投资者情绪专题"
   ],
   "metadata": {
    "collapsed": false
   }
  },
  {
   "cell_type": "markdown",
   "source": [
    "## 数据准备"
   ],
   "metadata": {
    "collapsed": false
   }
  },
  {
   "cell_type": "code",
   "execution_count": 1,
   "metadata": {
    "collapsed": true
   },
   "outputs": [
    {
     "name": "stdout",
     "output_type": "stream",
     "text": [
      "\n",
      "  ___  ____  ____  ____  ____ ©\n",
      " /__    /   ____/   /   ____/      17.0\n",
      "___/   /   /___/   /   /___/       MP—Parallel Edition\n",
      "\n",
      " Statistics and Data Science       Copyright 1985-2021 StataCorp LLC\n",
      "                                   StataCorp\n",
      "                                   4905 Lakeway Drive\n",
      "                                   College Station, Texas 77845 USA\n",
      "                                   800-STATA-PC        https://www.stata.com\n",
      "                                   979-696-4600        stata@stata.com\n",
      "\n",
      "Stata license: Single-user 8-core , expiring  1 Jan 2025\n",
      "Serial number: 501709301094\n",
      "  Licensed to: Colin's Stata\n",
      "               Love U\n",
      "\n",
      "Notes:\n",
      "      1. Unicode is supported; see help unicode_advice.\n",
      "      2. More than 2 billion observations are allowed; see help obs_advice.\n",
      "      3. Maximum number of variables is set to 5,000; see help set_maxvar.\n"
     ]
    }
   ],
   "source": [
    "import sys\n",
    "import os\n",
    "import cudf  #CUDA计算\n",
    "import pandas as pd\n",
    "\n",
    "# 自行编写的包\n",
    "sys.path.append('/home/ubuntu/notebook/Investor-Sentiment')\n",
    "sys.path.append('/usr/local/stata17/utilities')\n",
    "\n",
    "# Stata\n",
    "from pystata import config  # noqa\n",
    "\n",
    "config.init('mp')\n",
    "# ------------------------------数据集路径----------------------------------#\n",
    "DATASETS_PATH = '/data/DataSets/investor_sentiment/'"
   ]
  },
  {
   "cell_type": "code",
   "execution_count": 2,
   "outputs": [],
   "source": [
    "df = (\n",
    "        cudf.read_parquet(\n",
    "                DATASETS_PATH + 'FORUM_SENT_TRANS.parquet',\n",
    "                columns=['PostDate', 'Stockcode', 'PostSource', 'PositiveSentIndexA', 'PositiveSentIndexB', 'TotalPosts', 'AvgReadings',\n",
    "                         'AvgComments', 'AvgPositThumbUps'])\n",
    "        .query(\"PostDate>=20131231 \")\n",
    "\n",
    ")"
   ],
   "metadata": {
    "collapsed": false
   }
  },
  {
   "cell_type": "code",
   "execution_count": 3,
   "outputs": [
    {
     "data": {
      "text/plain": "                    PostSource  PositiveSentIndexA  PositiveSentIndexB  \\\nPostDate Stockcode                                                       \n20131231 000030.SZ           1                 NaN                 NaN   \n         000030.SZ           1                 NaN                 NaN   \n         000034.SZ           1                 NaN                 NaN   \n         000034.SZ           1                 NaN                 NaN   \n         000043.SZ           1                 NaN                 NaN   \n...                        ...                 ...                 ...   \n20211016 900948.SH           1                 NaN                 NaN   \n         900952.SH           1                 NaN                 NaN   \n         900953.SH           1                 NaN                 NaN   \n         900955.SH           1                 NaN                 NaN   \n         900957.SH           1                 NaN                 NaN   \n\n                    TotalPosts  AvgReadings  AvgComments  AvgPositThumbUps  \nPostDate Stockcode                                                          \n20131231 000030.SZ           0          NaN          NaN               NaN  \n         000030.SZ           0          NaN          NaN               NaN  \n         000034.SZ           0          NaN          NaN               NaN  \n         000034.SZ           0          NaN          NaN               NaN  \n         000043.SZ           0          NaN          NaN               NaN  \n...                        ...          ...          ...               ...  \n20211016 900948.SH           0          NaN          NaN               NaN  \n         900952.SH           0          NaN          NaN               NaN  \n         900953.SH           0          NaN          NaN               NaN  \n         900955.SH           0          NaN          NaN               NaN  \n         900957.SH           0          NaN          NaN               NaN  \n\n[11846404 rows x 7 columns]",
      "text/html": "<div>\n<style scoped>\n    .dataframe tbody tr th:only-of-type {\n        vertical-align: middle;\n    }\n\n    .dataframe tbody tr th {\n        vertical-align: top;\n    }\n\n    .dataframe thead th {\n        text-align: right;\n    }\n</style>\n<table border=\"1\" class=\"dataframe\">\n  <thead>\n    <tr style=\"text-align: right;\">\n      <th></th>\n      <th></th>\n      <th>PostSource</th>\n      <th>PositiveSentIndexA</th>\n      <th>PositiveSentIndexB</th>\n      <th>TotalPosts</th>\n      <th>AvgReadings</th>\n      <th>AvgComments</th>\n      <th>AvgPositThumbUps</th>\n    </tr>\n    <tr>\n      <th>PostDate</th>\n      <th>Stockcode</th>\n      <th></th>\n      <th></th>\n      <th></th>\n      <th></th>\n      <th></th>\n      <th></th>\n      <th></th>\n    </tr>\n  </thead>\n  <tbody>\n    <tr>\n      <th rowspan=\"5\" valign=\"top\">20131231</th>\n      <th>000030.SZ</th>\n      <td>1</td>\n      <td>NaN</td>\n      <td>NaN</td>\n      <td>0</td>\n      <td>NaN</td>\n      <td>NaN</td>\n      <td>NaN</td>\n    </tr>\n    <tr>\n      <th>000030.SZ</th>\n      <td>1</td>\n      <td>NaN</td>\n      <td>NaN</td>\n      <td>0</td>\n      <td>NaN</td>\n      <td>NaN</td>\n      <td>NaN</td>\n    </tr>\n    <tr>\n      <th>000034.SZ</th>\n      <td>1</td>\n      <td>NaN</td>\n      <td>NaN</td>\n      <td>0</td>\n      <td>NaN</td>\n      <td>NaN</td>\n      <td>NaN</td>\n    </tr>\n    <tr>\n      <th>000034.SZ</th>\n      <td>1</td>\n      <td>NaN</td>\n      <td>NaN</td>\n      <td>0</td>\n      <td>NaN</td>\n      <td>NaN</td>\n      <td>NaN</td>\n    </tr>\n    <tr>\n      <th>000043.SZ</th>\n      <td>1</td>\n      <td>NaN</td>\n      <td>NaN</td>\n      <td>0</td>\n      <td>NaN</td>\n      <td>NaN</td>\n      <td>NaN</td>\n    </tr>\n    <tr>\n      <th>...</th>\n      <th>...</th>\n      <td>...</td>\n      <td>...</td>\n      <td>...</td>\n      <td>...</td>\n      <td>...</td>\n      <td>...</td>\n      <td>...</td>\n    </tr>\n    <tr>\n      <th rowspan=\"5\" valign=\"top\">20211016</th>\n      <th>900948.SH</th>\n      <td>1</td>\n      <td>NaN</td>\n      <td>NaN</td>\n      <td>0</td>\n      <td>NaN</td>\n      <td>NaN</td>\n      <td>NaN</td>\n    </tr>\n    <tr>\n      <th>900952.SH</th>\n      <td>1</td>\n      <td>NaN</td>\n      <td>NaN</td>\n      <td>0</td>\n      <td>NaN</td>\n      <td>NaN</td>\n      <td>NaN</td>\n    </tr>\n    <tr>\n      <th>900953.SH</th>\n      <td>1</td>\n      <td>NaN</td>\n      <td>NaN</td>\n      <td>0</td>\n      <td>NaN</td>\n      <td>NaN</td>\n      <td>NaN</td>\n    </tr>\n    <tr>\n      <th>900955.SH</th>\n      <td>1</td>\n      <td>NaN</td>\n      <td>NaN</td>\n      <td>0</td>\n      <td>NaN</td>\n      <td>NaN</td>\n      <td>NaN</td>\n    </tr>\n    <tr>\n      <th>900957.SH</th>\n      <td>1</td>\n      <td>NaN</td>\n      <td>NaN</td>\n      <td>0</td>\n      <td>NaN</td>\n      <td>NaN</td>\n      <td>NaN</td>\n    </tr>\n  </tbody>\n</table>\n<p>11846404 rows × 7 columns</p>\n</div>"
     },
     "execution_count": 3,
     "metadata": {},
     "output_type": "execute_result"
    }
   ],
   "source": [
    "df.set_index(['PostDate', 'Stockcode']).sort_index().to_pandas()"
   ],
   "metadata": {
    "collapsed": false
   }
  },
  {
   "cell_type": "markdown",
   "source": [
    "## 指标计算"
   ],
   "metadata": {
    "collapsed": false
   }
  },
  {
   "cell_type": "markdown",
   "source": [
    "计算加权影响力,参数为影响力系数,点赞评论阅读"
   ],
   "metadata": {
    "collapsed": false
   }
  },
  {
   "cell_type": "code",
   "execution_count": 4,
   "outputs": [
    {
     "data": {
      "text/plain": "          DayPositiveSentIndexA  DayPositiveSentIndexB  DayTotalPosts  \\\nPostDate                                                                \n20131231               0.000000               0.000000              0   \n20140101               0.000000               0.000000              0   \n20140102               0.000000               0.000000              0   \n20140103               0.000000               0.000000              0   \n20140104               0.000000               0.000000              0   \n...                         ...                    ...            ...   \n20211012               0.000000               0.000000             11   \n20211013              -0.600000              -1.098612             10   \n20211014              -0.500000              -0.847298              8   \n20211015              -0.666667              -1.098612              6   \n20211016               0.000000               0.000000              0   \n\n          DayAvgReadings  DayAvgComments  DayAvgPositThumbUps  \nPostDate                                                       \n20131231            0.00            0.00                  0.0  \n20140101            0.00            0.00                  0.0  \n20140102            0.00            0.00                  0.0  \n20140103       203374.00          674.00                  0.0  \n20140104            0.00            0.00                  0.0  \n...                  ...             ...                  ...  \n20211012          145.91            1.27                  0.0  \n20211013          189.60            1.20                  4.0  \n20211014          158.13            2.00                  0.5  \n20211015          115.33            2.50                  2.0  \n20211016            0.00            0.00                  0.0  \n\n[2847 rows x 6 columns]",
      "text/html": "<div>\n<style scoped>\n    .dataframe tbody tr th:only-of-type {\n        vertical-align: middle;\n    }\n\n    .dataframe tbody tr th {\n        vertical-align: top;\n    }\n\n    .dataframe thead th {\n        text-align: right;\n    }\n</style>\n<table border=\"1\" class=\"dataframe\">\n  <thead>\n    <tr style=\"text-align: right;\">\n      <th></th>\n      <th>DayPositiveSentIndexA</th>\n      <th>DayPositiveSentIndexB</th>\n      <th>DayTotalPosts</th>\n      <th>DayAvgReadings</th>\n      <th>DayAvgComments</th>\n      <th>DayAvgPositThumbUps</th>\n    </tr>\n    <tr>\n      <th>PostDate</th>\n      <th></th>\n      <th></th>\n      <th></th>\n      <th></th>\n      <th></th>\n      <th></th>\n    </tr>\n  </thead>\n  <tbody>\n    <tr>\n      <th>20131231</th>\n      <td>0.000000</td>\n      <td>0.000000</td>\n      <td>0</td>\n      <td>0.00</td>\n      <td>0.00</td>\n      <td>0.0</td>\n    </tr>\n    <tr>\n      <th>20140101</th>\n      <td>0.000000</td>\n      <td>0.000000</td>\n      <td>0</td>\n      <td>0.00</td>\n      <td>0.00</td>\n      <td>0.0</td>\n    </tr>\n    <tr>\n      <th>20140102</th>\n      <td>0.000000</td>\n      <td>0.000000</td>\n      <td>0</td>\n      <td>0.00</td>\n      <td>0.00</td>\n      <td>0.0</td>\n    </tr>\n    <tr>\n      <th>20140103</th>\n      <td>0.000000</td>\n      <td>0.000000</td>\n      <td>0</td>\n      <td>203374.00</td>\n      <td>674.00</td>\n      <td>0.0</td>\n    </tr>\n    <tr>\n      <th>20140104</th>\n      <td>0.000000</td>\n      <td>0.000000</td>\n      <td>0</td>\n      <td>0.00</td>\n      <td>0.00</td>\n      <td>0.0</td>\n    </tr>\n    <tr>\n      <th>...</th>\n      <td>...</td>\n      <td>...</td>\n      <td>...</td>\n      <td>...</td>\n      <td>...</td>\n      <td>...</td>\n    </tr>\n    <tr>\n      <th>20211012</th>\n      <td>0.000000</td>\n      <td>0.000000</td>\n      <td>11</td>\n      <td>145.91</td>\n      <td>1.27</td>\n      <td>0.0</td>\n    </tr>\n    <tr>\n      <th>20211013</th>\n      <td>-0.600000</td>\n      <td>-1.098612</td>\n      <td>10</td>\n      <td>189.60</td>\n      <td>1.20</td>\n      <td>4.0</td>\n    </tr>\n    <tr>\n      <th>20211014</th>\n      <td>-0.500000</td>\n      <td>-0.847298</td>\n      <td>8</td>\n      <td>158.13</td>\n      <td>2.00</td>\n      <td>0.5</td>\n    </tr>\n    <tr>\n      <th>20211015</th>\n      <td>-0.666667</td>\n      <td>-1.098612</td>\n      <td>6</td>\n      <td>115.33</td>\n      <td>2.50</td>\n      <td>2.0</td>\n    </tr>\n    <tr>\n      <th>20211016</th>\n      <td>0.000000</td>\n      <td>0.000000</td>\n      <td>0</td>\n      <td>0.00</td>\n      <td>0.00</td>\n      <td>0.0</td>\n    </tr>\n  </tbody>\n</table>\n<p>2847 rows × 6 columns</p>\n</div>"
     },
     "execution_count": 4,
     "metadata": {},
     "output_type": "execute_result"
    }
   ],
   "source": [
    "# 每日总量\n",
    "df['DayTotalPosts'] = df.groupby(['PostDate', 'Stockcode'])['TotalPosts'].transform('sum')\n",
    "df['DayAvgReadings'] = df.groupby(['PostDate', 'Stockcode'])['AvgReadings'].transform('sum')\n",
    "df['DayAvgComments'] = df.groupby(['PostDate', 'Stockcode'])['AvgComments'].transform('sum')\n",
    "df['DayAvgPositThumbUps'] = df.groupby(['PostDate', 'Stockcode'])['AvgPositThumbUps'].transform('sum')\n",
    "\n",
    "# 加权因子总量\n",
    "df['DayTotalPostsFactor'] = df['TotalPosts'] / df['DayTotalPosts']\n",
    "df['DayAvgReadingsFactor'] = df['AvgReadings'] / df['DayAvgReadings']\n",
    "df['DayAvgCommentsFactor'] = df['AvgComments'] / df['DayAvgComments']\n",
    "df['DayAvgPositThumbUpsFactor'] = df['AvgPositThumbUps'] / df['DayAvgPositThumbUps']\n",
    "\n",
    "# 个股加权情绪因子\n",
    "df['PositiveSentIndexAFactor'] = (\n",
    "        (df['DayTotalPostsFactor'] * 0.15 + df['DayAvgReadingsFactor'] * 0.5 +\n",
    "         df['DayAvgCommentsFactor'] * 0.2 + df['DayAvgPositThumbUpsFactor'] * 0.15)\n",
    "        * df['PositiveSentIndexA']\n",
    ")\n",
    "\n",
    "df['PositiveSentIndexBFactor'] = (\n",
    "        (df['DayTotalPostsFactor'] * 0.15 + df['DayAvgReadingsFactor'] * 0.5 +\n",
    "         df['DayAvgCommentsFactor'] * 0.2 + df['DayAvgPositThumbUpsFactor'] * 0.15)\n",
    "        * df['PositiveSentIndexB']\n",
    ")\n",
    "\n",
    "# 每日情绪因子\n",
    "df['DayPositiveSentIndexA'] = df.groupby(['PostDate', 'Stockcode'])['PositiveSentIndexAFactor'].transform('sum')\n",
    "df['DayPositiveSentIndexB'] = df.groupby(['PostDate', 'Stockcode'])['PositiveSentIndexBFactor'].transform('sum')\n",
    "\n",
    "# 转换为时间序列数据\n",
    "df = df.groupby(['PostDate', ]).first()[\n",
    "        ['DayPositiveSentIndexA', 'DayPositiveSentIndexB',\n",
    "         'DayTotalPosts', 'DayAvgReadings', 'DayAvgComments', 'DayAvgPositThumbUps']].fillna(0)\n",
    "\n",
    "df.to_pandas()"
   ],
   "metadata": {
    "collapsed": false
   }
  },
  {
   "cell_type": "code",
   "execution_count": 4,
   "outputs": [],
   "source": [],
   "metadata": {
    "collapsed": false
   }
  }
 ],
 "metadata": {
  "kernelspec": {
   "name": "stata",
   "language": "python",
   "display_name": "Stata"
  },
  "language_info": {
   "codemirror_mode": {
    "name": "ipython",
    "version": 2
   },
   "file_extension": ".py",
   "mimetype": "text/x-python",
   "name": "python",
   "nbconvert_exporter": "python",
   "pygments_lexer": "ipython2",
   "version": "2.7.6"
  }
 },
 "nbformat": 4,
 "nbformat_minor": 0
}
