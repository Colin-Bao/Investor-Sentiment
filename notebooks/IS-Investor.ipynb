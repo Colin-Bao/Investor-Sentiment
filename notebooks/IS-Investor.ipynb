{
 "cells": [
  {
   "cell_type": "markdown",
   "source": [
    "# 投资者情绪专题\n",
    "使用所有的数据进行加总"
   ],
   "metadata": {
    "collapsed": false
   }
  },
  {
   "cell_type": "markdown",
   "source": [
    "## 数据准备"
   ],
   "metadata": {
    "collapsed": false
   }
  },
  {
   "cell_type": "code",
   "execution_count": 1,
   "metadata": {
    "collapsed": true
   },
   "outputs": [
    {
     "name": "stdout",
     "output_type": "stream",
     "text": [
      "\n",
      "  ___  ____  ____  ____  ____ ©\n",
      " /__    /   ____/   /   ____/      17.0\n",
      "___/   /   /___/   /   /___/       MP—Parallel Edition\n",
      "\n",
      " Statistics and Data Science       Copyright 1985-2021 StataCorp LLC\n",
      "                                   StataCorp\n",
      "                                   4905 Lakeway Drive\n",
      "                                   College Station, Texas 77845 USA\n",
      "                                   800-STATA-PC        https://www.stata.com\n",
      "                                   979-696-4600        stata@stata.com\n",
      "\n",
      "Stata license: Single-user 8-core , expiring  1 Jan 2025\n",
      "Serial number: 501709301094\n",
      "  Licensed to: Colin's Stata\n",
      "               Love U\n",
      "\n",
      "Notes:\n",
      "      1. Unicode is supported; see help unicode_advice.\n",
      "      2. More than 2 billion observations are allowed; see help obs_advice.\n",
      "      3. Maximum number of variables is set to 5,000; see help set_maxvar.\n"
     ]
    }
   ],
   "source": [
    "import sys\n",
    "import os\n",
    "import cudf  #CUDA计算\n",
    "import pandas as pd\n",
    "\n",
    "# 自行编写的包\n",
    "sys.path.append('/home/ubuntu/notebook/Investor-Sentiment')\n",
    "sys.path.append('/usr/local/stata17/utilities')\n",
    "\n",
    "# Stata\n",
    "from pystata import config  # noqa\n",
    "\n",
    "config.init('mp')\n",
    "# ------------------------------数据集路径----------------------------------#\n",
    "DATASETS_PATH = '/data/DataSets/investor_sentiment/'"
   ]
  },
  {
   "cell_type": "code",
   "execution_count": 2,
   "outputs": [],
   "source": [
    "df = cudf.read_parquet(DATASETS_PATH + 'FORUM_SENT_TRANS.parquet')"
   ],
   "metadata": {
    "collapsed": false
   }
  },
  {
   "cell_type": "code",
   "execution_count": 5,
   "outputs": [
    {
     "data": {
      "text/plain": "                    PostSource  AvgPosterAttention  AvgPosterFans  TotalPosts  \\\nPostDate Stockcode                                                              \n20100113 600166.SH           1                 NaN            NaN           1   \n20100114 600166.SH           1                 NaN            NaN           0   \n20100115 600166.SH           1                 NaN            NaN           0   \n20100116 600166.SH           1                 NaN            NaN           0   \n20100117 600166.SH           1                 NaN            NaN           0   \n...                        ...                 ...            ...         ...   \n20211016 900948.SH           1                 NaN            NaN           0   \n         900952.SH           1                 NaN            NaN           0   \n         900953.SH           1                 NaN            NaN           0   \n         900955.SH           1                 NaN            NaN           0   \n         900957.SH           1                 NaN            NaN           0   \n\n                    PositivePosts  NeutralPosts  NegativePosts  AvgWords  \\\nPostDate Stockcode                                                         \n20100113 600166.SH            1.0             0            0.0    1716.0   \n20100114 600166.SH            0.0             0            0.0       NaN   \n20100115 600166.SH            0.0             0            0.0       NaN   \n20100116 600166.SH            0.0             0            0.0       NaN   \n20100117 600166.SH            0.0             0            0.0       NaN   \n...                           ...           ...            ...       ...   \n20211016 900948.SH            0.0             0            0.0       NaN   \n         900952.SH            0.0             0            0.0       NaN   \n         900953.SH            0.0             0            0.0       NaN   \n         900955.SH            0.0             0            0.0       NaN   \n         900957.SH            0.0             0            0.0       NaN   \n\n                    AvgReadings  AvgComments  ...  AvgBullUserBarAge  \\\nPostDate Stockcode                            ...                      \n20100113 600166.SH          1.0          0.0  ...                NaN   \n20100114 600166.SH          NaN          NaN  ...                NaN   \n20100115 600166.SH          NaN          NaN  ...                NaN   \n20100116 600166.SH          NaN          NaN  ...                NaN   \n20100117 600166.SH          NaN          NaN  ...                NaN   \n...                         ...          ...  ...                ...   \n20211016 900948.SH          NaN          NaN  ...                NaN   \n         900952.SH          NaN          NaN  ...                NaN   \n         900953.SH          NaN          NaN  ...                NaN   \n         900955.SH          NaN          NaN  ...                NaN   \n         900957.SH          NaN          NaN  ...                NaN   \n\n                    AvgBullUserInfluIndex  AvgBullUserPosts  \\\nPostDate Stockcode                                            \n20100113 600166.SH                    NaN               NaN   \n20100114 600166.SH                    NaN               NaN   \n20100115 600166.SH                    NaN               NaN   \n20100116 600166.SH                    NaN               NaN   \n20100117 600166.SH                    NaN               NaN   \n...                                   ...               ...   \n20211016 900948.SH                    NaN               NaN   \n         900952.SH                    NaN               NaN   \n         900953.SH                    NaN               NaN   \n         900955.SH                    NaN               NaN   \n         900957.SH                    NaN               NaN   \n\n                    AvgBullUserComments  AvgBearUserBarAge  \\\nPostDate Stockcode                                           \n20100113 600166.SH                  NaN                NaN   \n20100114 600166.SH                  NaN                NaN   \n20100115 600166.SH                  NaN                NaN   \n20100116 600166.SH                  NaN                NaN   \n20100117 600166.SH                  NaN                NaN   \n...                                 ...                ...   \n20211016 900948.SH                  NaN                NaN   \n         900952.SH                  NaN                NaN   \n         900953.SH                  NaN                NaN   \n         900955.SH                  NaN                NaN   \n         900957.SH                  NaN                NaN   \n\n                    AvgBearUserInfluIndex  AvgBearUserPosts  \\\nPostDate Stockcode                                            \n20100113 600166.SH                    NaN               NaN   \n20100114 600166.SH                    NaN               NaN   \n20100115 600166.SH                    NaN               NaN   \n20100116 600166.SH                    NaN               NaN   \n20100117 600166.SH                    NaN               NaN   \n...                                   ...               ...   \n20211016 900948.SH                    NaN               NaN   \n         900952.SH                    NaN               NaN   \n         900953.SH                    NaN               NaN   \n         900955.SH                    NaN               NaN   \n         900957.SH                    NaN               NaN   \n\n                    AvgBearUserComments  BullishSentIndexA  BullishSentIndexB  \nPostDate Stockcode                                                             \n20100113 600166.SH                  NaN                NaN                NaN  \n20100114 600166.SH                  NaN                NaN                NaN  \n20100115 600166.SH                  NaN                NaN                NaN  \n20100116 600166.SH                  NaN                NaN                NaN  \n20100117 600166.SH                  NaN                NaN                NaN  \n...                                 ...                ...                ...  \n20211016 900948.SH                  NaN                NaN                NaN  \n         900952.SH                  NaN                NaN                NaN  \n         900953.SH                  NaN                NaN                NaN  \n         900955.SH                  NaN                NaN                NaN  \n         900957.SH                  NaN                NaN                NaN  \n\n[12016546 rows x 63 columns]",
      "text/html": "<div>\n<style scoped>\n    .dataframe tbody tr th:only-of-type {\n        vertical-align: middle;\n    }\n\n    .dataframe tbody tr th {\n        vertical-align: top;\n    }\n\n    .dataframe thead th {\n        text-align: right;\n    }\n</style>\n<table border=\"1\" class=\"dataframe\">\n  <thead>\n    <tr style=\"text-align: right;\">\n      <th></th>\n      <th></th>\n      <th>PostSource</th>\n      <th>AvgPosterAttention</th>\n      <th>AvgPosterFans</th>\n      <th>TotalPosts</th>\n      <th>PositivePosts</th>\n      <th>NeutralPosts</th>\n      <th>NegativePosts</th>\n      <th>AvgWords</th>\n      <th>AvgReadings</th>\n      <th>AvgComments</th>\n      <th>...</th>\n      <th>AvgBullUserBarAge</th>\n      <th>AvgBullUserInfluIndex</th>\n      <th>AvgBullUserPosts</th>\n      <th>AvgBullUserComments</th>\n      <th>AvgBearUserBarAge</th>\n      <th>AvgBearUserInfluIndex</th>\n      <th>AvgBearUserPosts</th>\n      <th>AvgBearUserComments</th>\n      <th>BullishSentIndexA</th>\n      <th>BullishSentIndexB</th>\n    </tr>\n    <tr>\n      <th>PostDate</th>\n      <th>Stockcode</th>\n      <th></th>\n      <th></th>\n      <th></th>\n      <th></th>\n      <th></th>\n      <th></th>\n      <th></th>\n      <th></th>\n      <th></th>\n      <th></th>\n      <th></th>\n      <th></th>\n      <th></th>\n      <th></th>\n      <th></th>\n      <th></th>\n      <th></th>\n      <th></th>\n      <th></th>\n      <th></th>\n      <th></th>\n    </tr>\n  </thead>\n  <tbody>\n    <tr>\n      <th>20100113</th>\n      <th>600166.SH</th>\n      <td>1</td>\n      <td>NaN</td>\n      <td>NaN</td>\n      <td>1</td>\n      <td>1.0</td>\n      <td>0</td>\n      <td>0.0</td>\n      <td>1716.0</td>\n      <td>1.0</td>\n      <td>0.0</td>\n      <td>...</td>\n      <td>NaN</td>\n      <td>NaN</td>\n      <td>NaN</td>\n      <td>NaN</td>\n      <td>NaN</td>\n      <td>NaN</td>\n      <td>NaN</td>\n      <td>NaN</td>\n      <td>NaN</td>\n      <td>NaN</td>\n    </tr>\n    <tr>\n      <th>20100114</th>\n      <th>600166.SH</th>\n      <td>1</td>\n      <td>NaN</td>\n      <td>NaN</td>\n      <td>0</td>\n      <td>0.0</td>\n      <td>0</td>\n      <td>0.0</td>\n      <td>NaN</td>\n      <td>NaN</td>\n      <td>NaN</td>\n      <td>...</td>\n      <td>NaN</td>\n      <td>NaN</td>\n      <td>NaN</td>\n      <td>NaN</td>\n      <td>NaN</td>\n      <td>NaN</td>\n      <td>NaN</td>\n      <td>NaN</td>\n      <td>NaN</td>\n      <td>NaN</td>\n    </tr>\n    <tr>\n      <th>20100115</th>\n      <th>600166.SH</th>\n      <td>1</td>\n      <td>NaN</td>\n      <td>NaN</td>\n      <td>0</td>\n      <td>0.0</td>\n      <td>0</td>\n      <td>0.0</td>\n      <td>NaN</td>\n      <td>NaN</td>\n      <td>NaN</td>\n      <td>...</td>\n      <td>NaN</td>\n      <td>NaN</td>\n      <td>NaN</td>\n      <td>NaN</td>\n      <td>NaN</td>\n      <td>NaN</td>\n      <td>NaN</td>\n      <td>NaN</td>\n      <td>NaN</td>\n      <td>NaN</td>\n    </tr>\n    <tr>\n      <th>20100116</th>\n      <th>600166.SH</th>\n      <td>1</td>\n      <td>NaN</td>\n      <td>NaN</td>\n      <td>0</td>\n      <td>0.0</td>\n      <td>0</td>\n      <td>0.0</td>\n      <td>NaN</td>\n      <td>NaN</td>\n      <td>NaN</td>\n      <td>...</td>\n      <td>NaN</td>\n      <td>NaN</td>\n      <td>NaN</td>\n      <td>NaN</td>\n      <td>NaN</td>\n      <td>NaN</td>\n      <td>NaN</td>\n      <td>NaN</td>\n      <td>NaN</td>\n      <td>NaN</td>\n    </tr>\n    <tr>\n      <th>20100117</th>\n      <th>600166.SH</th>\n      <td>1</td>\n      <td>NaN</td>\n      <td>NaN</td>\n      <td>0</td>\n      <td>0.0</td>\n      <td>0</td>\n      <td>0.0</td>\n      <td>NaN</td>\n      <td>NaN</td>\n      <td>NaN</td>\n      <td>...</td>\n      <td>NaN</td>\n      <td>NaN</td>\n      <td>NaN</td>\n      <td>NaN</td>\n      <td>NaN</td>\n      <td>NaN</td>\n      <td>NaN</td>\n      <td>NaN</td>\n      <td>NaN</td>\n      <td>NaN</td>\n    </tr>\n    <tr>\n      <th>...</th>\n      <th>...</th>\n      <td>...</td>\n      <td>...</td>\n      <td>...</td>\n      <td>...</td>\n      <td>...</td>\n      <td>...</td>\n      <td>...</td>\n      <td>...</td>\n      <td>...</td>\n      <td>...</td>\n      <td>...</td>\n      <td>...</td>\n      <td>...</td>\n      <td>...</td>\n      <td>...</td>\n      <td>...</td>\n      <td>...</td>\n      <td>...</td>\n      <td>...</td>\n      <td>...</td>\n      <td>...</td>\n    </tr>\n    <tr>\n      <th rowspan=\"5\" valign=\"top\">20211016</th>\n      <th>900948.SH</th>\n      <td>1</td>\n      <td>NaN</td>\n      <td>NaN</td>\n      <td>0</td>\n      <td>0.0</td>\n      <td>0</td>\n      <td>0.0</td>\n      <td>NaN</td>\n      <td>NaN</td>\n      <td>NaN</td>\n      <td>...</td>\n      <td>NaN</td>\n      <td>NaN</td>\n      <td>NaN</td>\n      <td>NaN</td>\n      <td>NaN</td>\n      <td>NaN</td>\n      <td>NaN</td>\n      <td>NaN</td>\n      <td>NaN</td>\n      <td>NaN</td>\n    </tr>\n    <tr>\n      <th>900952.SH</th>\n      <td>1</td>\n      <td>NaN</td>\n      <td>NaN</td>\n      <td>0</td>\n      <td>0.0</td>\n      <td>0</td>\n      <td>0.0</td>\n      <td>NaN</td>\n      <td>NaN</td>\n      <td>NaN</td>\n      <td>...</td>\n      <td>NaN</td>\n      <td>NaN</td>\n      <td>NaN</td>\n      <td>NaN</td>\n      <td>NaN</td>\n      <td>NaN</td>\n      <td>NaN</td>\n      <td>NaN</td>\n      <td>NaN</td>\n      <td>NaN</td>\n    </tr>\n    <tr>\n      <th>900953.SH</th>\n      <td>1</td>\n      <td>NaN</td>\n      <td>NaN</td>\n      <td>0</td>\n      <td>0.0</td>\n      <td>0</td>\n      <td>0.0</td>\n      <td>NaN</td>\n      <td>NaN</td>\n      <td>NaN</td>\n      <td>...</td>\n      <td>NaN</td>\n      <td>NaN</td>\n      <td>NaN</td>\n      <td>NaN</td>\n      <td>NaN</td>\n      <td>NaN</td>\n      <td>NaN</td>\n      <td>NaN</td>\n      <td>NaN</td>\n      <td>NaN</td>\n    </tr>\n    <tr>\n      <th>900955.SH</th>\n      <td>1</td>\n      <td>NaN</td>\n      <td>NaN</td>\n      <td>0</td>\n      <td>0.0</td>\n      <td>0</td>\n      <td>0.0</td>\n      <td>NaN</td>\n      <td>NaN</td>\n      <td>NaN</td>\n      <td>...</td>\n      <td>NaN</td>\n      <td>NaN</td>\n      <td>NaN</td>\n      <td>NaN</td>\n      <td>NaN</td>\n      <td>NaN</td>\n      <td>NaN</td>\n      <td>NaN</td>\n      <td>NaN</td>\n      <td>NaN</td>\n    </tr>\n    <tr>\n      <th>900957.SH</th>\n      <td>1</td>\n      <td>NaN</td>\n      <td>NaN</td>\n      <td>0</td>\n      <td>0.0</td>\n      <td>0</td>\n      <td>0.0</td>\n      <td>NaN</td>\n      <td>NaN</td>\n      <td>NaN</td>\n      <td>...</td>\n      <td>NaN</td>\n      <td>NaN</td>\n      <td>NaN</td>\n      <td>NaN</td>\n      <td>NaN</td>\n      <td>NaN</td>\n      <td>NaN</td>\n      <td>NaN</td>\n      <td>NaN</td>\n      <td>NaN</td>\n    </tr>\n  </tbody>\n</table>\n<p>12016546 rows × 63 columns</p>\n</div>"
     },
     "execution_count": 5,
     "metadata": {},
     "output_type": "execute_result"
    }
   ],
   "source": [
    "df.set_index(['PostDate', 'Stockcode']).sort_index().to_pandas()"
   ],
   "metadata": {
    "collapsed": false
   }
  }
 ],
 "metadata": {
  "kernelspec": {
   "name": "stata",
   "language": "python",
   "display_name": "Stata"
  },
  "language_info": {
   "codemirror_mode": {
    "name": "ipython",
    "version": 2
   },
   "file_extension": ".py",
   "mimetype": "text/x-python",
   "name": "python",
   "nbconvert_exporter": "python",
   "pygments_lexer": "ipython2",
   "version": "2.7.6"
  }
 },
 "nbformat": 4,
 "nbformat_minor": 0
}
