{
 "cells": [
  {
   "cell_type": "markdown",
   "source": [
    "# 投资者情绪专题\n",
    "使用所有的数据进行加总"
   ],
   "metadata": {
    "collapsed": false
   }
  },
  {
   "cell_type": "markdown",
   "source": [
    "## 数据准备"
   ],
   "metadata": {
    "collapsed": false
   }
  },
  {
   "cell_type": "code",
   "execution_count": 1,
   "metadata": {
    "collapsed": true
   },
   "outputs": [
    {
     "name": "stdout",
     "output_type": "stream",
     "text": [
      "\n",
      "  ___  ____  ____  ____  ____ ©\n",
      " /__    /   ____/   /   ____/      17.0\n",
      "___/   /   /___/   /   /___/       MP—Parallel Edition\n",
      "\n",
      " Statistics and Data Science       Copyright 1985-2021 StataCorp LLC\n",
      "                                   StataCorp\n",
      "                                   4905 Lakeway Drive\n",
      "                                   College Station, Texas 77845 USA\n",
      "                                   800-STATA-PC        https://www.stata.com\n",
      "                                   979-696-4600        stata@stata.com\n",
      "\n",
      "Stata license: Single-user 8-core , expiring  1 Jan 2025\n",
      "Serial number: 501709301094\n",
      "  Licensed to: Colin's Stata\n",
      "               Love U\n",
      "\n",
      "Notes:\n",
      "      1. Unicode is supported; see help unicode_advice.\n",
      "      2. More than 2 billion observations are allowed; see help obs_advice.\n",
      "      3. Maximum number of variables is set to 5,000; see help set_maxvar.\n"
     ]
    }
   ],
   "source": [
    "import sys\n",
    "import os\n",
    "import cudf  #CUDA计算\n",
    "import pandas as pd\n",
    "\n",
    "# 自行编写的包\n",
    "sys.path.append('/home/ubuntu/notebook/Investor-Sentiment')\n",
    "sys.path.append('/usr/local/stata17/utilities')\n",
    "\n",
    "# Stata\n",
    "from pystata import config  # noqa\n",
    "\n",
    "config.init('mp')\n",
    "# ------------------------------数据集路径----------------------------------#\n",
    "DATASETS_PATH = '/data/DataSets/investor_sentiment/'"
   ]
  },
  {
   "cell_type": "code",
   "execution_count": 2,
   "outputs": [],
   "source": [
    "df = (\n",
    "        cudf.read_parquet(\n",
    "                DATASETS_PATH + 'FORUM_SENT_TRANS.parquet',\n",
    "                columns=['PostDate', 'Stockcode', 'PostSource', 'PositiveSentIndexA', 'PositiveSentIndexB', 'TotalPosts', 'AvgReadings',\n",
    "                         'AvgComments', 'AvgPositThumbUps'])\n",
    "        .query(\"PostDate>=20131231\")\n",
    "\n",
    ")"
   ],
   "metadata": {
    "collapsed": false
   }
  },
  {
   "cell_type": "code",
   "execution_count": 3,
   "outputs": [
    {
     "data": {
      "text/plain": "                    PostSource  PositiveSentIndexB  TotalPosts  AvgReadings  \\\nPostDate Stockcode                                                            \n20131231 000030.SZ           1                 NaN           0          NaN   \n         000030.SZ           1                 NaN           0          NaN   \n         000034.SZ           1                 NaN           0          NaN   \n         000034.SZ           1                 NaN           0          NaN   \n         000043.SZ           1                 NaN           0          NaN   \n...                        ...                 ...         ...          ...   \n20211016 900948.SH           1                 NaN           0          NaN   \n         900952.SH           1                 NaN           0          NaN   \n         900953.SH           1                 NaN           0          NaN   \n         900955.SH           1                 NaN           0          NaN   \n         900957.SH           1                 NaN           0          NaN   \n\n                    AvgComments  AvgPositThumbUps  \nPostDate Stockcode                                 \n20131231 000030.SZ          NaN               NaN  \n         000030.SZ          NaN               NaN  \n         000034.SZ          NaN               NaN  \n         000034.SZ          NaN               NaN  \n         000043.SZ          NaN               NaN  \n...                         ...               ...  \n20211016 900948.SH          NaN               NaN  \n         900952.SH          NaN               NaN  \n         900953.SH          NaN               NaN  \n         900955.SH          NaN               NaN  \n         900957.SH          NaN               NaN  \n\n[11846404 rows x 6 columns]",
      "text/html": "<div>\n<style scoped>\n    .dataframe tbody tr th:only-of-type {\n        vertical-align: middle;\n    }\n\n    .dataframe tbody tr th {\n        vertical-align: top;\n    }\n\n    .dataframe thead th {\n        text-align: right;\n    }\n</style>\n<table border=\"1\" class=\"dataframe\">\n  <thead>\n    <tr style=\"text-align: right;\">\n      <th></th>\n      <th></th>\n      <th>PostSource</th>\n      <th>PositiveSentIndexB</th>\n      <th>TotalPosts</th>\n      <th>AvgReadings</th>\n      <th>AvgComments</th>\n      <th>AvgPositThumbUps</th>\n    </tr>\n    <tr>\n      <th>PostDate</th>\n      <th>Stockcode</th>\n      <th></th>\n      <th></th>\n      <th></th>\n      <th></th>\n      <th></th>\n      <th></th>\n    </tr>\n  </thead>\n  <tbody>\n    <tr>\n      <th rowspan=\"5\" valign=\"top\">20131231</th>\n      <th>000030.SZ</th>\n      <td>1</td>\n      <td>NaN</td>\n      <td>0</td>\n      <td>NaN</td>\n      <td>NaN</td>\n      <td>NaN</td>\n    </tr>\n    <tr>\n      <th>000030.SZ</th>\n      <td>1</td>\n      <td>NaN</td>\n      <td>0</td>\n      <td>NaN</td>\n      <td>NaN</td>\n      <td>NaN</td>\n    </tr>\n    <tr>\n      <th>000034.SZ</th>\n      <td>1</td>\n      <td>NaN</td>\n      <td>0</td>\n      <td>NaN</td>\n      <td>NaN</td>\n      <td>NaN</td>\n    </tr>\n    <tr>\n      <th>000034.SZ</th>\n      <td>1</td>\n      <td>NaN</td>\n      <td>0</td>\n      <td>NaN</td>\n      <td>NaN</td>\n      <td>NaN</td>\n    </tr>\n    <tr>\n      <th>000043.SZ</th>\n      <td>1</td>\n      <td>NaN</td>\n      <td>0</td>\n      <td>NaN</td>\n      <td>NaN</td>\n      <td>NaN</td>\n    </tr>\n    <tr>\n      <th>...</th>\n      <th>...</th>\n      <td>...</td>\n      <td>...</td>\n      <td>...</td>\n      <td>...</td>\n      <td>...</td>\n      <td>...</td>\n    </tr>\n    <tr>\n      <th rowspan=\"5\" valign=\"top\">20211016</th>\n      <th>900948.SH</th>\n      <td>1</td>\n      <td>NaN</td>\n      <td>0</td>\n      <td>NaN</td>\n      <td>NaN</td>\n      <td>NaN</td>\n    </tr>\n    <tr>\n      <th>900952.SH</th>\n      <td>1</td>\n      <td>NaN</td>\n      <td>0</td>\n      <td>NaN</td>\n      <td>NaN</td>\n      <td>NaN</td>\n    </tr>\n    <tr>\n      <th>900953.SH</th>\n      <td>1</td>\n      <td>NaN</td>\n      <td>0</td>\n      <td>NaN</td>\n      <td>NaN</td>\n      <td>NaN</td>\n    </tr>\n    <tr>\n      <th>900955.SH</th>\n      <td>1</td>\n      <td>NaN</td>\n      <td>0</td>\n      <td>NaN</td>\n      <td>NaN</td>\n      <td>NaN</td>\n    </tr>\n    <tr>\n      <th>900957.SH</th>\n      <td>1</td>\n      <td>NaN</td>\n      <td>0</td>\n      <td>NaN</td>\n      <td>NaN</td>\n      <td>NaN</td>\n    </tr>\n  </tbody>\n</table>\n<p>11846404 rows × 6 columns</p>\n</div>"
     },
     "execution_count": 3,
     "metadata": {},
     "output_type": "execute_result"
    }
   ],
   "source": [
    "df.set_index(['PostDate', 'Stockcode']).sort_index().to_pandas()"
   ],
   "metadata": {
    "collapsed": false
   }
  },
  {
   "cell_type": "markdown",
   "source": [
    "## 指标计算"
   ],
   "metadata": {
    "collapsed": false
   }
  },
  {
   "cell_type": "markdown",
   "source": [
    "计算加权影响力"
   ],
   "metadata": {
    "collapsed": false
   }
  },
  {
   "cell_type": "code",
   "execution_count": 4,
   "outputs": [
    {
     "data": {
      "text/plain": "                    PostSource PositiveSentIndexB  TotalPosts AvgReadings  \\\nPostDate Stockcode                                                          \n20131231 000030.SZ           1               <NA>           0        <NA>   \n         000030.SZ           1               <NA>           0        <NA>   \n         000034.SZ           1               <NA>           0        <NA>   \n         000034.SZ           1               <NA>           0        <NA>   \n         000043.SZ           1               <NA>           0        <NA>   \n...                        ...                ...         ...         ...   \n20211016 900948.SH           1               <NA>           0        <NA>   \n         900952.SH           1               <NA>           0        <NA>   \n         900953.SH           1               <NA>           0        <NA>   \n         900955.SH           1               <NA>           0        <NA>   \n         900957.SH           1               <NA>           0        <NA>   \n\n                   AvgComments AvgPositThumbUps  DayTotalPosts DayAvgReadings  \\\nPostDate Stockcode                                                              \n20131231 000030.SZ        <NA>             <NA>              0           <NA>   \n         000030.SZ        <NA>             <NA>              0           <NA>   \n         000034.SZ        <NA>             <NA>              0           <NA>   \n         000034.SZ        <NA>             <NA>              0           <NA>   \n         000043.SZ        <NA>             <NA>              0           <NA>   \n...                        ...              ...            ...            ...   \n20211016 900948.SH        <NA>             <NA>              0           <NA>   \n         900952.SH        <NA>             <NA>              0           <NA>   \n         900953.SH        <NA>             <NA>              0           <NA>   \n         900955.SH        <NA>             <NA>              0           <NA>   \n         900957.SH        <NA>             <NA>              0           <NA>   \n\n                   DayAvgComments DayAvgPositThumbUps  DayTotalPostsFactor  \\\nPostDate Stockcode                                                           \n20131231 000030.SZ           <NA>                <NA>                  NaN   \n         000030.SZ           <NA>                <NA>                  NaN   \n         000034.SZ           <NA>                <NA>                  NaN   \n         000034.SZ           <NA>                <NA>                  NaN   \n         000043.SZ           <NA>                <NA>                  NaN   \n...                           ...                 ...                  ...   \n20211016 900948.SH           <NA>                <NA>                  NaN   \n         900952.SH           <NA>                <NA>                  NaN   \n         900953.SH           <NA>                <NA>                  NaN   \n         900955.SH           <NA>                <NA>                  NaN   \n         900957.SH           <NA>                <NA>                  NaN   \n\n                   DayAvgReadingsFactor DayAvgCommentsFactor  \\\nPostDate Stockcode                                             \n20131231 000030.SZ                 <NA>                 <NA>   \n         000030.SZ                 <NA>                 <NA>   \n         000034.SZ                 <NA>                 <NA>   \n         000034.SZ                 <NA>                 <NA>   \n         000043.SZ                 <NA>                 <NA>   \n...                                 ...                  ...   \n20211016 900948.SH                 <NA>                 <NA>   \n         900952.SH                 <NA>                 <NA>   \n         900953.SH                 <NA>                 <NA>   \n         900955.SH                 <NA>                 <NA>   \n         900957.SH                 <NA>                 <NA>   \n\n                   DayAvgPositThumbUpsFactor  \nPostDate Stockcode                            \n20131231 000030.SZ                      <NA>  \n         000030.SZ                      <NA>  \n         000034.SZ                      <NA>  \n         000034.SZ                      <NA>  \n         000043.SZ                      <NA>  \n...                                      ...  \n20211016 900948.SH                      <NA>  \n         900952.SH                      <NA>  \n         900953.SH                      <NA>  \n         900955.SH                      <NA>  \n         900957.SH                      <NA>  \n\n[11846404 rows x 14 columns]",
      "text/html": "<div>\n<style scoped>\n    .dataframe tbody tr th:only-of-type {\n        vertical-align: middle;\n    }\n\n    .dataframe tbody tr th {\n        vertical-align: top;\n    }\n\n    .dataframe thead th {\n        text-align: right;\n    }\n</style>\n<table border=\"1\" class=\"dataframe\">\n  <thead>\n    <tr style=\"text-align: right;\">\n      <th></th>\n      <th></th>\n      <th>PostSource</th>\n      <th>PositiveSentIndexB</th>\n      <th>TotalPosts</th>\n      <th>AvgReadings</th>\n      <th>AvgComments</th>\n      <th>AvgPositThumbUps</th>\n      <th>DayTotalPosts</th>\n      <th>DayAvgReadings</th>\n      <th>DayAvgComments</th>\n      <th>DayAvgPositThumbUps</th>\n      <th>DayTotalPostsFactor</th>\n      <th>DayAvgReadingsFactor</th>\n      <th>DayAvgCommentsFactor</th>\n      <th>DayAvgPositThumbUpsFactor</th>\n    </tr>\n    <tr>\n      <th>PostDate</th>\n      <th>Stockcode</th>\n      <th></th>\n      <th></th>\n      <th></th>\n      <th></th>\n      <th></th>\n      <th></th>\n      <th></th>\n      <th></th>\n      <th></th>\n      <th></th>\n      <th></th>\n      <th></th>\n      <th></th>\n      <th></th>\n    </tr>\n  </thead>\n  <tbody>\n    <tr>\n      <th rowspan=\"5\" valign=\"top\">20131231</th>\n      <th>000030.SZ</th>\n      <td>1</td>\n      <td>&lt;NA&gt;</td>\n      <td>0</td>\n      <td>&lt;NA&gt;</td>\n      <td>&lt;NA&gt;</td>\n      <td>&lt;NA&gt;</td>\n      <td>0</td>\n      <td>&lt;NA&gt;</td>\n      <td>&lt;NA&gt;</td>\n      <td>&lt;NA&gt;</td>\n      <td>NaN</td>\n      <td>&lt;NA&gt;</td>\n      <td>&lt;NA&gt;</td>\n      <td>&lt;NA&gt;</td>\n    </tr>\n    <tr>\n      <th>000030.SZ</th>\n      <td>1</td>\n      <td>&lt;NA&gt;</td>\n      <td>0</td>\n      <td>&lt;NA&gt;</td>\n      <td>&lt;NA&gt;</td>\n      <td>&lt;NA&gt;</td>\n      <td>0</td>\n      <td>&lt;NA&gt;</td>\n      <td>&lt;NA&gt;</td>\n      <td>&lt;NA&gt;</td>\n      <td>NaN</td>\n      <td>&lt;NA&gt;</td>\n      <td>&lt;NA&gt;</td>\n      <td>&lt;NA&gt;</td>\n    </tr>\n    <tr>\n      <th>000034.SZ</th>\n      <td>1</td>\n      <td>&lt;NA&gt;</td>\n      <td>0</td>\n      <td>&lt;NA&gt;</td>\n      <td>&lt;NA&gt;</td>\n      <td>&lt;NA&gt;</td>\n      <td>0</td>\n      <td>&lt;NA&gt;</td>\n      <td>&lt;NA&gt;</td>\n      <td>&lt;NA&gt;</td>\n      <td>NaN</td>\n      <td>&lt;NA&gt;</td>\n      <td>&lt;NA&gt;</td>\n      <td>&lt;NA&gt;</td>\n    </tr>\n    <tr>\n      <th>000034.SZ</th>\n      <td>1</td>\n      <td>&lt;NA&gt;</td>\n      <td>0</td>\n      <td>&lt;NA&gt;</td>\n      <td>&lt;NA&gt;</td>\n      <td>&lt;NA&gt;</td>\n      <td>0</td>\n      <td>&lt;NA&gt;</td>\n      <td>&lt;NA&gt;</td>\n      <td>&lt;NA&gt;</td>\n      <td>NaN</td>\n      <td>&lt;NA&gt;</td>\n      <td>&lt;NA&gt;</td>\n      <td>&lt;NA&gt;</td>\n    </tr>\n    <tr>\n      <th>000043.SZ</th>\n      <td>1</td>\n      <td>&lt;NA&gt;</td>\n      <td>0</td>\n      <td>&lt;NA&gt;</td>\n      <td>&lt;NA&gt;</td>\n      <td>&lt;NA&gt;</td>\n      <td>0</td>\n      <td>&lt;NA&gt;</td>\n      <td>&lt;NA&gt;</td>\n      <td>&lt;NA&gt;</td>\n      <td>NaN</td>\n      <td>&lt;NA&gt;</td>\n      <td>&lt;NA&gt;</td>\n      <td>&lt;NA&gt;</td>\n    </tr>\n    <tr>\n      <th>...</th>\n      <th>...</th>\n      <td>...</td>\n      <td>...</td>\n      <td>...</td>\n      <td>...</td>\n      <td>...</td>\n      <td>...</td>\n      <td>...</td>\n      <td>...</td>\n      <td>...</td>\n      <td>...</td>\n      <td>...</td>\n      <td>...</td>\n      <td>...</td>\n      <td>...</td>\n    </tr>\n    <tr>\n      <th rowspan=\"5\" valign=\"top\">20211016</th>\n      <th>900948.SH</th>\n      <td>1</td>\n      <td>&lt;NA&gt;</td>\n      <td>0</td>\n      <td>&lt;NA&gt;</td>\n      <td>&lt;NA&gt;</td>\n      <td>&lt;NA&gt;</td>\n      <td>0</td>\n      <td>&lt;NA&gt;</td>\n      <td>&lt;NA&gt;</td>\n      <td>&lt;NA&gt;</td>\n      <td>NaN</td>\n      <td>&lt;NA&gt;</td>\n      <td>&lt;NA&gt;</td>\n      <td>&lt;NA&gt;</td>\n    </tr>\n    <tr>\n      <th>900952.SH</th>\n      <td>1</td>\n      <td>&lt;NA&gt;</td>\n      <td>0</td>\n      <td>&lt;NA&gt;</td>\n      <td>&lt;NA&gt;</td>\n      <td>&lt;NA&gt;</td>\n      <td>0</td>\n      <td>&lt;NA&gt;</td>\n      <td>&lt;NA&gt;</td>\n      <td>&lt;NA&gt;</td>\n      <td>NaN</td>\n      <td>&lt;NA&gt;</td>\n      <td>&lt;NA&gt;</td>\n      <td>&lt;NA&gt;</td>\n    </tr>\n    <tr>\n      <th>900953.SH</th>\n      <td>1</td>\n      <td>&lt;NA&gt;</td>\n      <td>0</td>\n      <td>&lt;NA&gt;</td>\n      <td>&lt;NA&gt;</td>\n      <td>&lt;NA&gt;</td>\n      <td>0</td>\n      <td>&lt;NA&gt;</td>\n      <td>&lt;NA&gt;</td>\n      <td>&lt;NA&gt;</td>\n      <td>NaN</td>\n      <td>&lt;NA&gt;</td>\n      <td>&lt;NA&gt;</td>\n      <td>&lt;NA&gt;</td>\n    </tr>\n    <tr>\n      <th>900955.SH</th>\n      <td>1</td>\n      <td>&lt;NA&gt;</td>\n      <td>0</td>\n      <td>&lt;NA&gt;</td>\n      <td>&lt;NA&gt;</td>\n      <td>&lt;NA&gt;</td>\n      <td>0</td>\n      <td>&lt;NA&gt;</td>\n      <td>&lt;NA&gt;</td>\n      <td>&lt;NA&gt;</td>\n      <td>NaN</td>\n      <td>&lt;NA&gt;</td>\n      <td>&lt;NA&gt;</td>\n      <td>&lt;NA&gt;</td>\n    </tr>\n    <tr>\n      <th>900957.SH</th>\n      <td>1</td>\n      <td>&lt;NA&gt;</td>\n      <td>0</td>\n      <td>&lt;NA&gt;</td>\n      <td>&lt;NA&gt;</td>\n      <td>&lt;NA&gt;</td>\n      <td>0</td>\n      <td>&lt;NA&gt;</td>\n      <td>&lt;NA&gt;</td>\n      <td>&lt;NA&gt;</td>\n      <td>NaN</td>\n      <td>&lt;NA&gt;</td>\n      <td>&lt;NA&gt;</td>\n      <td>&lt;NA&gt;</td>\n    </tr>\n  </tbody>\n</table>\n<p>11846404 rows × 14 columns</p>\n</div>"
     },
     "execution_count": 4,
     "metadata": {},
     "output_type": "execute_result"
    }
   ],
   "source": [
    "# 每日总量\n",
    "df['DayTotalPosts'] = df.groupby(['PostDate', 'Stockcode'])['TotalPosts'].transform('sum')\n",
    "df['DayAvgReadings'] = df.groupby(['PostDate', 'Stockcode'])['AvgReadings'].transform('sum')\n",
    "df['DayAvgComments'] = df.groupby(['PostDate', 'Stockcode'])['AvgComments'].transform('sum')\n",
    "df['DayAvgPositThumbUps'] = df.groupby(['PostDate', 'Stockcode'])['AvgPositThumbUps'].transform('sum')\n",
    "\n",
    "# 加权因子总量\n",
    "df['DayTotalPostsFactor'] = df['TotalPosts'] / df['DayTotalPosts']\n",
    "df['DayAvgReadingsFactor'] = df['AvgReadings'] / df['DayAvgReadings']\n",
    "df['DayAvgCommentsFactor'] = df['AvgComments'] / df['DayAvgComments']\n",
    "df['DayAvgPositThumbUpsFactor'] = df['AvgPositThumbUps'] / df['DayAvgPositThumbUps']\n",
    "\n",
    "# 加权情绪因子\n",
    "df['PositiveSentIndexAFactor'] = df['DayTotalPostsFactor'] * df['PositiveSentIndexA']\n",
    "\n",
    "df.set_index(['PostDate', 'Stockcode']).sort_index()"
   ],
   "metadata": {
    "collapsed": false
   }
  }
 ],
 "metadata": {
  "kernelspec": {
   "name": "stata",
   "language": "python",
   "display_name": "Stata"
  },
  "language_info": {
   "codemirror_mode": {
    "name": "ipython",
    "version": 2
   },
   "file_extension": ".py",
   "mimetype": "text/x-python",
   "name": "python",
   "nbconvert_exporter": "python",
   "pygments_lexer": "ipython2",
   "version": "2.7.6"
  }
 },
 "nbformat": 4,
 "nbformat_minor": 0
}
