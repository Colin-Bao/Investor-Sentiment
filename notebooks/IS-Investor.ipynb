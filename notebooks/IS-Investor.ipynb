{
 "cells": [
  {
   "cell_type": "markdown",
   "source": [
    "# 投资者情绪专题"
   ],
   "metadata": {
    "collapsed": false
   }
  },
  {
   "cell_type": "markdown",
   "source": [
    "## 数据准备"
   ],
   "metadata": {
    "collapsed": false
   }
  },
  {
   "cell_type": "code",
   "execution_count": 1,
   "metadata": {
    "collapsed": true
   },
   "outputs": [
    {
     "name": "stdout",
     "output_type": "stream",
     "text": [
      "\n",
      "  ___  ____  ____  ____  ____ ©\n",
      " /__    /   ____/   /   ____/      17.0\n",
      "___/   /   /___/   /   /___/       MP—Parallel Edition\n",
      "\n",
      " Statistics and Data Science       Copyright 1985-2021 StataCorp LLC\n",
      "                                   StataCorp\n",
      "                                   4905 Lakeway Drive\n",
      "                                   College Station, Texas 77845 USA\n",
      "                                   800-STATA-PC        https://www.stata.com\n",
      "                                   979-696-4600        stata@stata.com\n",
      "\n",
      "Stata license: Single-user 8-core , expiring  1 Jan 2025\n",
      "Serial number: 501709301094\n",
      "  Licensed to: Colin's Stata\n",
      "               Love U\n",
      "\n",
      "Notes:\n",
      "      1. Unicode is supported; see help unicode_advice.\n",
      "      2. More than 2 billion observations are allowed; see help obs_advice.\n",
      "      3. Maximum number of variables is set to 5,000; see help set_maxvar.\n"
     ]
    }
   ],
   "source": [
    "import sys\n",
    "import os\n",
    "import cudf  #CUDA计算\n",
    "import pandas as pd\n",
    "\n",
    "# 自行编写的包\n",
    "sys.path.append('/home/ubuntu/notebook/Investor-Sentiment')\n",
    "sys.path.append('/usr/local/stata17/utilities')\n",
    "\n",
    "# Stata\n",
    "from pystata import config  # noqa\n",
    "\n",
    "config.init('mp')\n",
    "# ------------------------------数据集路径----------------------------------#\n",
    "DATASETS_PATH = '/data/DataSets/investor_sentiment/'"
   ]
  },
  {
   "cell_type": "markdown",
   "source": [
    "合并excel"
   ],
   "metadata": {
    "collapsed": false
   }
  },
  {
   "cell_type": "code",
   "execution_count": null,
   "outputs": [
    {
     "name": "stderr",
     "output_type": "stream",
     "text": [
      "/usr/local/miniconda3/envs/Stata/lib/python3.9/site-packages/openpyxl/styles/stylesheet.py:226: UserWarning: Workbook contains no default style, apply openpyxl's default\n",
      "  warn(\"Workbook contains no default style, apply openpyxl's default\")\n"
     ]
    }
   ],
   "source": [
    "file_path = '/home/ubuntu/notebook/DataSets/FORUM_SENT/'\n",
    "df_merge = pd.DataFrame()\n",
    "for i in os.listdir(file_path):\n",
    "    if '.xlsx' in i:\n",
    "        df_merge = pd.concat([df_merge, pd.read_excel(file_path + i)])\n",
    "        break\n",
    "df_merge"
   ],
   "metadata": {
    "collapsed": false,
    "pycharm": {
     "is_executing": true
    }
   }
  },
  {
   "cell_type": "code",
   "execution_count": null,
   "outputs": [],
   "source": [],
   "metadata": {
    "collapsed": false,
    "pycharm": {
     "is_executing": true
    }
   }
  }
 ],
 "metadata": {
  "kernelspec": {
   "name": "stata",
   "language": "python",
   "display_name": "Stata"
  },
  "language_info": {
   "codemirror_mode": {
    "name": "ipython",
    "version": 2
   },
   "file_extension": ".py",
   "mimetype": "text/x-python",
   "name": "python",
   "nbconvert_exporter": "python",
   "pygments_lexer": "ipython2",
   "version": "2.7.6"
  }
 },
 "nbformat": 4,
 "nbformat_minor": 0
}
