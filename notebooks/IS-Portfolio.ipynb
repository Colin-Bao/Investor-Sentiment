{
 "cells": [
  {
   "cell_type": "markdown",
   "source": [
    "# 投资组合专题"
   ],
   "metadata": {
    "collapsed": false
   }
  },
  {
   "cell_type": "code",
   "execution_count": 1,
   "outputs": [
    {
     "name": "stdout",
     "output_type": "stream",
     "text": [
      "\n",
      "  ___  ____  ____  ____  ____ ®\n",
      " /__    /   ____/   /   ____/      17.0\n",
      "___/   /   /___/   /   /___/       MP—Parallel Edition\n",
      "\n",
      " Statistics and Data Science       Copyright 1985-2021 StataCorp LLC\n",
      "                                   StataCorp\n",
      "                                   4905 Lakeway Drive\n",
      "                                   College Station, Texas 77845 USA\n",
      "                                   800-STATA-PC        https://www.stata.com\n",
      "                                   979-696-4600        stata@stata.com\n",
      "\n",
      "Stata license: Single-user 8-core , expiring  1 Jan 2025\n",
      "Serial number: 501709301094\n",
      "  Licensed to: Colin's Stata 17 MP\n",
      "               Love you\n",
      "\n",
      "Notes:\n",
      "      1. Unicode is supported; see help unicode_advice.\n",
      "      2. More than 2 billion observations are allowed; see help obs_advice.\n",
      "      3. Maximum number of variables is set to 5,000; see help set_maxvar.\n"
     ]
    }
   ],
   "source": [
    "import sys\n",
    "import pandas as pd\n",
    "import numpy as np\n",
    "\n",
    "# 自行编写的包\n",
    "sys.path.append('/home/ubuntu/notebooks/pycharm_projects/Investor-Sentiment')\n",
    "sys.path.append('/usr/local/stata17/utilities')\n",
    "\n",
    "# Stata\n",
    "from pystata import config\n",
    "\n",
    "config.init('mp')"
   ],
   "metadata": {
    "collapsed": false
   }
  },
  {
   "cell_type": "code",
   "execution_count": 2,
   "outputs": [
    {
     "data": {
      "text/plain": "      Unnamed: 0  trade_date    ts_code  CON_YEAR        CON_OR        CON_NP  \\\n0              7    20140102  000985.SH      2014  3.034892e+09  27421.678403   \n1             18    20140103  000985.SH      2014  3.033876e+09  27421.601209   \n2             29    20140106  000985.SH      2014  3.033345e+09  27412.012060   \n3             40    20140107  000985.SH      2014  3.028546e+09  27384.608096   \n4             51    20140108  000985.SH      2014  3.028892e+09  27355.547003   \n...          ...         ...        ...       ...           ...           ...   \n1939       21350    20211227  000985.SH      2021  6.389869e+09  53799.927579   \n1940       21361    20211228  000985.SH      2021  6.391559e+09  53788.880275   \n1941       21372    20211229  000985.SH      2021  6.389955e+09  53725.674838   \n1942       21383    20211230  000985.SH      2021  6.390729e+09  53695.625032   \n1943       21394    20211231  000985.SH      2021  6.389440e+09  53655.694957   \n\n      CON_EPS        CON_NA  CON_PB  CON_PS  ...    NIPO_R    RIPO_R  \\\n0      0.6857  2.017385e+09  1.3334  0.8863  ... -0.993200 -0.429099   \n1      0.6857  2.017584e+09  1.3213  0.8787  ... -0.993200 -0.429099   \n2      0.6854  2.027389e+09  1.2895  0.8619  ... -0.993200 -0.429099   \n3      0.6846  2.027386e+09  1.2917  0.8647  ... -0.993200 -0.429099   \n4      0.6838  2.028490e+09  1.2935  0.8663  ... -0.993200 -0.429099   \n...       ...           ...     ...     ...  ...       ...       ...   \n1939   0.7131  5.236956e+09  1.7835  1.4617  ... -0.044895 -0.374305   \n1940   0.7129  5.237495e+09  1.7933  1.4695  ...  2.955105 -0.346122   \n1941   0.7120  5.237052e+09  1.7779  1.4571  ... -1.044895 -0.453585   \n1942   0.7116  5.236812e+09  1.7905  1.4672  ...  1.955105 -0.193822   \n1943   0.7111  5.237010e+09  1.7997  1.4751  ... -0.044895 -0.012409   \n\n           SR_R  l1_TURN_R    lnPD_R  SENT_INDEX_R  SENT_INDEX_EX  \\\n0     15.745780  -0.003943 -0.208500     -1.191905      -0.571980   \n1     15.745780  -0.004333 -0.208500     -1.182604      -0.598652   \n2     15.745780  -0.003813 -0.208500     -1.175354      -0.623006   \n3     15.745780  -0.003643 -0.208500     -1.172984      -0.644795   \n4     15.745780  -0.004513 -0.208500     -1.185114      -0.664723   \n...         ...        ...       ...           ...            ...   \n1939  -2.832969   0.001832  0.097983      0.390557       1.170102   \n1940  -2.832969   0.000582  0.097983      1.186737       1.127746   \n1941  -2.832969   0.000302  0.097983      0.013389       1.149856   \n1942  -2.832969   0.000072  0.097983      0.972127       1.079838   \n1943  -2.832969   0.000102  0.097983      0.720920       1.088991   \n\n      SENT_INDEX_DEX  SENT_INDEX_R_EX  SENT_INDEX_R_DEX  \n0          -0.588495        -0.435412         -0.451046  \n1          -0.588830        -0.502679         -0.452930  \n2          -0.589509        -0.563137         -0.455863  \n3          -0.590505        -0.617575         -0.459753  \n4          -0.591815        -0.666961         -0.464538  \n...              ...              ...               ...  \n1939        1.302731         0.960139          1.050876  \n1940        1.298598         0.909492          1.046500  \n1941        1.293518         0.934144          1.040757  \n1942        1.288670         0.852272          1.035358  \n1943        1.283711         0.862929          1.029868  \n\n[1944 rows x 71 columns]",
      "text/html": "<div>\n<style scoped>\n    .dataframe tbody tr th:only-of-type {\n        vertical-align: middle;\n    }\n\n    .dataframe tbody tr th {\n        vertical-align: top;\n    }\n\n    .dataframe thead th {\n        text-align: right;\n    }\n</style>\n<table border=\"1\" class=\"dataframe\">\n  <thead>\n    <tr style=\"text-align: right;\">\n      <th></th>\n      <th>Unnamed: 0</th>\n      <th>trade_date</th>\n      <th>ts_code</th>\n      <th>CON_YEAR</th>\n      <th>CON_OR</th>\n      <th>CON_NP</th>\n      <th>CON_EPS</th>\n      <th>CON_NA</th>\n      <th>CON_PB</th>\n      <th>CON_PS</th>\n      <th>...</th>\n      <th>NIPO_R</th>\n      <th>RIPO_R</th>\n      <th>SR_R</th>\n      <th>l1_TURN_R</th>\n      <th>lnPD_R</th>\n      <th>SENT_INDEX_R</th>\n      <th>SENT_INDEX_EX</th>\n      <th>SENT_INDEX_DEX</th>\n      <th>SENT_INDEX_R_EX</th>\n      <th>SENT_INDEX_R_DEX</th>\n    </tr>\n  </thead>\n  <tbody>\n    <tr>\n      <th>0</th>\n      <td>7</td>\n      <td>20140102</td>\n      <td>000985.SH</td>\n      <td>2014</td>\n      <td>3.034892e+09</td>\n      <td>27421.678403</td>\n      <td>0.6857</td>\n      <td>2.017385e+09</td>\n      <td>1.3334</td>\n      <td>0.8863</td>\n      <td>...</td>\n      <td>-0.993200</td>\n      <td>-0.429099</td>\n      <td>15.745780</td>\n      <td>-0.003943</td>\n      <td>-0.208500</td>\n      <td>-1.191905</td>\n      <td>-0.571980</td>\n      <td>-0.588495</td>\n      <td>-0.435412</td>\n      <td>-0.451046</td>\n    </tr>\n    <tr>\n      <th>1</th>\n      <td>18</td>\n      <td>20140103</td>\n      <td>000985.SH</td>\n      <td>2014</td>\n      <td>3.033876e+09</td>\n      <td>27421.601209</td>\n      <td>0.6857</td>\n      <td>2.017584e+09</td>\n      <td>1.3213</td>\n      <td>0.8787</td>\n      <td>...</td>\n      <td>-0.993200</td>\n      <td>-0.429099</td>\n      <td>15.745780</td>\n      <td>-0.004333</td>\n      <td>-0.208500</td>\n      <td>-1.182604</td>\n      <td>-0.598652</td>\n      <td>-0.588830</td>\n      <td>-0.502679</td>\n      <td>-0.452930</td>\n    </tr>\n    <tr>\n      <th>2</th>\n      <td>29</td>\n      <td>20140106</td>\n      <td>000985.SH</td>\n      <td>2014</td>\n      <td>3.033345e+09</td>\n      <td>27412.012060</td>\n      <td>0.6854</td>\n      <td>2.027389e+09</td>\n      <td>1.2895</td>\n      <td>0.8619</td>\n      <td>...</td>\n      <td>-0.993200</td>\n      <td>-0.429099</td>\n      <td>15.745780</td>\n      <td>-0.003813</td>\n      <td>-0.208500</td>\n      <td>-1.175354</td>\n      <td>-0.623006</td>\n      <td>-0.589509</td>\n      <td>-0.563137</td>\n      <td>-0.455863</td>\n    </tr>\n    <tr>\n      <th>3</th>\n      <td>40</td>\n      <td>20140107</td>\n      <td>000985.SH</td>\n      <td>2014</td>\n      <td>3.028546e+09</td>\n      <td>27384.608096</td>\n      <td>0.6846</td>\n      <td>2.027386e+09</td>\n      <td>1.2917</td>\n      <td>0.8647</td>\n      <td>...</td>\n      <td>-0.993200</td>\n      <td>-0.429099</td>\n      <td>15.745780</td>\n      <td>-0.003643</td>\n      <td>-0.208500</td>\n      <td>-1.172984</td>\n      <td>-0.644795</td>\n      <td>-0.590505</td>\n      <td>-0.617575</td>\n      <td>-0.459753</td>\n    </tr>\n    <tr>\n      <th>4</th>\n      <td>51</td>\n      <td>20140108</td>\n      <td>000985.SH</td>\n      <td>2014</td>\n      <td>3.028892e+09</td>\n      <td>27355.547003</td>\n      <td>0.6838</td>\n      <td>2.028490e+09</td>\n      <td>1.2935</td>\n      <td>0.8663</td>\n      <td>...</td>\n      <td>-0.993200</td>\n      <td>-0.429099</td>\n      <td>15.745780</td>\n      <td>-0.004513</td>\n      <td>-0.208500</td>\n      <td>-1.185114</td>\n      <td>-0.664723</td>\n      <td>-0.591815</td>\n      <td>-0.666961</td>\n      <td>-0.464538</td>\n    </tr>\n    <tr>\n      <th>...</th>\n      <td>...</td>\n      <td>...</td>\n      <td>...</td>\n      <td>...</td>\n      <td>...</td>\n      <td>...</td>\n      <td>...</td>\n      <td>...</td>\n      <td>...</td>\n      <td>...</td>\n      <td>...</td>\n      <td>...</td>\n      <td>...</td>\n      <td>...</td>\n      <td>...</td>\n      <td>...</td>\n      <td>...</td>\n      <td>...</td>\n      <td>...</td>\n      <td>...</td>\n      <td>...</td>\n    </tr>\n    <tr>\n      <th>1939</th>\n      <td>21350</td>\n      <td>20211227</td>\n      <td>000985.SH</td>\n      <td>2021</td>\n      <td>6.389869e+09</td>\n      <td>53799.927579</td>\n      <td>0.7131</td>\n      <td>5.236956e+09</td>\n      <td>1.7835</td>\n      <td>1.4617</td>\n      <td>...</td>\n      <td>-0.044895</td>\n      <td>-0.374305</td>\n      <td>-2.832969</td>\n      <td>0.001832</td>\n      <td>0.097983</td>\n      <td>0.390557</td>\n      <td>1.170102</td>\n      <td>1.302731</td>\n      <td>0.960139</td>\n      <td>1.050876</td>\n    </tr>\n    <tr>\n      <th>1940</th>\n      <td>21361</td>\n      <td>20211228</td>\n      <td>000985.SH</td>\n      <td>2021</td>\n      <td>6.391559e+09</td>\n      <td>53788.880275</td>\n      <td>0.7129</td>\n      <td>5.237495e+09</td>\n      <td>1.7933</td>\n      <td>1.4695</td>\n      <td>...</td>\n      <td>2.955105</td>\n      <td>-0.346122</td>\n      <td>-2.832969</td>\n      <td>0.000582</td>\n      <td>0.097983</td>\n      <td>1.186737</td>\n      <td>1.127746</td>\n      <td>1.298598</td>\n      <td>0.909492</td>\n      <td>1.046500</td>\n    </tr>\n    <tr>\n      <th>1941</th>\n      <td>21372</td>\n      <td>20211229</td>\n      <td>000985.SH</td>\n      <td>2021</td>\n      <td>6.389955e+09</td>\n      <td>53725.674838</td>\n      <td>0.7120</td>\n      <td>5.237052e+09</td>\n      <td>1.7779</td>\n      <td>1.4571</td>\n      <td>...</td>\n      <td>-1.044895</td>\n      <td>-0.453585</td>\n      <td>-2.832969</td>\n      <td>0.000302</td>\n      <td>0.097983</td>\n      <td>0.013389</td>\n      <td>1.149856</td>\n      <td>1.293518</td>\n      <td>0.934144</td>\n      <td>1.040757</td>\n    </tr>\n    <tr>\n      <th>1942</th>\n      <td>21383</td>\n      <td>20211230</td>\n      <td>000985.SH</td>\n      <td>2021</td>\n      <td>6.390729e+09</td>\n      <td>53695.625032</td>\n      <td>0.7116</td>\n      <td>5.236812e+09</td>\n      <td>1.7905</td>\n      <td>1.4672</td>\n      <td>...</td>\n      <td>1.955105</td>\n      <td>-0.193822</td>\n      <td>-2.832969</td>\n      <td>0.000072</td>\n      <td>0.097983</td>\n      <td>0.972127</td>\n      <td>1.079838</td>\n      <td>1.288670</td>\n      <td>0.852272</td>\n      <td>1.035358</td>\n    </tr>\n    <tr>\n      <th>1943</th>\n      <td>21394</td>\n      <td>20211231</td>\n      <td>000985.SH</td>\n      <td>2021</td>\n      <td>6.389440e+09</td>\n      <td>53655.694957</td>\n      <td>0.7111</td>\n      <td>5.237010e+09</td>\n      <td>1.7997</td>\n      <td>1.4751</td>\n      <td>...</td>\n      <td>-0.044895</td>\n      <td>-0.012409</td>\n      <td>-2.832969</td>\n      <td>0.000102</td>\n      <td>0.097983</td>\n      <td>0.720920</td>\n      <td>1.088991</td>\n      <td>1.283711</td>\n      <td>0.862929</td>\n      <td>1.029868</td>\n    </tr>\n  </tbody>\n</table>\n<p>1944 rows × 71 columns</p>\n</div>"
     },
     "execution_count": 2,
     "metadata": {},
     "output_type": "execute_result"
    }
   ],
   "source": [
    "df_data = pd.read_csv('/data/DataSets/investor_sentiment/FINAL_DATA_2014_2021.csv')\n",
    "df_data"
   ],
   "metadata": {
    "collapsed": false
   }
  },
  {
   "cell_type": "markdown",
   "source": [
    "## MA-多空策略"
   ],
   "metadata": {
    "collapsed": false
   }
  },
  {
   "cell_type": "code",
   "execution_count": 48,
   "metadata": {
    "collapsed": true
   },
   "outputs": [
    {
     "data": {
      "text/plain": "      trade_date    ts_code  mv_shareindex  mdd_shareindex img_neg_mv_ma_5  \\\n1206    20181217  000985.SH       0.998586       -0.141405        0.998215   \n1207    20181218  000985.SH       0.990405       -0.819247        0.990038   \n1208    20181219  000985.SH       0.978085       -1.243940        1.002353   \n1209    20181220  000985.SH       0.976226       -1.243940        1.000447   \n1210    20181221  000985.SH       0.966645       -1.243940        0.990629   \n...          ...        ...            ...             ...             ...   \n1939    20211227  000985.SH       1.641510       -8.183736        1.629029   \n1940    20211228  000985.SH       1.653273       -8.183736        1.617356   \n1941    20211229  000985.SH       1.638211       -8.183736        1.602622   \n1942    20211230  000985.SH       1.652119       -8.183736        1.589016   \n1943    20211231  000985.SH       1.661731       -8.183736        1.579772   \n\n     img_neg_mdd_ma_5 tex_neg_mv_ma_5 tex_neg_mdd_ma_5 SENT_INDEX_mv_ma_5  \\\n1206        -3.119619        0.946975        -3.119619           0.970662   \n1207        -3.119619        0.954733        -3.119619            0.96271   \n1208        -3.119619        0.942857        -3.119619           0.950734   \n1209        -3.119619        0.941064        -3.119619           0.948927   \n1210        -3.119619        0.931828        -3.119619           0.939614   \n...               ...             ...              ...                ...   \n1939        -6.666832        0.818046        -8.183736           1.155046   \n1940        -6.666832        0.823907        -8.183736           1.146769   \n1941        -6.666832        0.831413        -8.183736           1.157216   \n1942        -6.666832        0.824355        -8.183736           1.147391   \n1943        -6.666832        0.819559        -8.183736           1.140716   \n\n     SENT_INDEX_mdd_ma_5  ... SENT_INDEX_R_mv_ma_15 SENT_INDEX_R_mdd_ma_15  \\\n1206           -3.119619  ...              0.970662              -3.119619   \n1207           -3.119619  ...               0.96271              -3.119619   \n1208           -3.119619  ...              0.950734              -3.119619   \n1209           -3.119619  ...              0.948927              -3.119619   \n1210           -3.119619  ...              0.939614              -3.119619   \n...                  ...  ...                   ...                    ...   \n1939           -6.666832  ...              1.345123              -6.666832   \n1940           -6.666832  ...              1.335485              -6.666832   \n1941           -6.666832  ...              1.347651              -6.666832   \n1942           -6.666832  ...              1.359092              -6.666832   \n1943           -6.666832  ...              1.351186              -6.666832   \n\n     img_neg_mv_ma_20 img_neg_mdd_ma_20 tex_neg_mv_ma_20 tex_neg_mdd_ma_20  \\\n1206         0.970662         -3.119619         0.970662         -3.119619   \n1207          0.96271         -3.119619         0.978614         -3.119619   \n1208         0.974685         -3.119619         0.966441         -3.119619   \n1209         0.972832         -3.119619         0.964603         -3.119619   \n1210          0.98238         -3.119619         0.955136         -3.119619   \n...               ...               ...              ...               ...   \n1939         1.130841         -6.666832         0.765333         -8.183736   \n1940         1.122737         -6.666832         0.770817         -8.183736   \n1941         1.112509         -6.666832         0.777839         -8.183736   \n1942         1.103064         -6.666832         0.771236         -8.183736   \n1943         1.096647         -6.666832         0.766749         -8.183736   \n\n     SENT_INDEX_mv_ma_20 SENT_INDEX_mdd_ma_20 SENT_INDEX_R_mv_ma_20  \\\n1206            0.970662            -3.119619              0.970662   \n1207             0.96271            -3.119619               0.96271   \n1208            0.950734            -3.119619              0.950734   \n1209            0.948927            -3.119619              0.948927   \n1210            0.939614            -3.119619              0.939614   \n...                  ...                  ...                   ...   \n1939             1.23279            -6.666832              1.354292   \n1940            1.223956            -6.666832              1.344587   \n1941            1.235106            -6.666832              1.356836   \n1942            1.224621            -6.666832              1.368355   \n1943            1.217496            -6.666832              1.360395   \n\n     SENT_INDEX_R_mdd_ma_20  \n1206              -3.119619  \n1207              -3.119619  \n1208              -3.119619  \n1209              -3.119619  \n1210              -3.119619  \n...                     ...  \n1939              -6.666832  \n1940              -6.666832  \n1941              -6.666832  \n1942              -6.666832  \n1943              -6.666832  \n\n[738 rows x 36 columns]",
      "text/html": "<div>\n<style scoped>\n    .dataframe tbody tr th:only-of-type {\n        vertical-align: middle;\n    }\n\n    .dataframe tbody tr th {\n        vertical-align: top;\n    }\n\n    .dataframe thead th {\n        text-align: right;\n    }\n</style>\n<table border=\"1\" class=\"dataframe\">\n  <thead>\n    <tr style=\"text-align: right;\">\n      <th></th>\n      <th>trade_date</th>\n      <th>ts_code</th>\n      <th>mv_shareindex</th>\n      <th>mdd_shareindex</th>\n      <th>img_neg_mv_ma_5</th>\n      <th>img_neg_mdd_ma_5</th>\n      <th>tex_neg_mv_ma_5</th>\n      <th>tex_neg_mdd_ma_5</th>\n      <th>SENT_INDEX_mv_ma_5</th>\n      <th>SENT_INDEX_mdd_ma_5</th>\n      <th>...</th>\n      <th>SENT_INDEX_R_mv_ma_15</th>\n      <th>SENT_INDEX_R_mdd_ma_15</th>\n      <th>img_neg_mv_ma_20</th>\n      <th>img_neg_mdd_ma_20</th>\n      <th>tex_neg_mv_ma_20</th>\n      <th>tex_neg_mdd_ma_20</th>\n      <th>SENT_INDEX_mv_ma_20</th>\n      <th>SENT_INDEX_mdd_ma_20</th>\n      <th>SENT_INDEX_R_mv_ma_20</th>\n      <th>SENT_INDEX_R_mdd_ma_20</th>\n    </tr>\n  </thead>\n  <tbody>\n    <tr>\n      <th>1206</th>\n      <td>20181217</td>\n      <td>000985.SH</td>\n      <td>0.998586</td>\n      <td>-0.141405</td>\n      <td>0.998215</td>\n      <td>-3.119619</td>\n      <td>0.946975</td>\n      <td>-3.119619</td>\n      <td>0.970662</td>\n      <td>-3.119619</td>\n      <td>...</td>\n      <td>0.970662</td>\n      <td>-3.119619</td>\n      <td>0.970662</td>\n      <td>-3.119619</td>\n      <td>0.970662</td>\n      <td>-3.119619</td>\n      <td>0.970662</td>\n      <td>-3.119619</td>\n      <td>0.970662</td>\n      <td>-3.119619</td>\n    </tr>\n    <tr>\n      <th>1207</th>\n      <td>20181218</td>\n      <td>000985.SH</td>\n      <td>0.990405</td>\n      <td>-0.819247</td>\n      <td>0.990038</td>\n      <td>-3.119619</td>\n      <td>0.954733</td>\n      <td>-3.119619</td>\n      <td>0.96271</td>\n      <td>-3.119619</td>\n      <td>...</td>\n      <td>0.96271</td>\n      <td>-3.119619</td>\n      <td>0.96271</td>\n      <td>-3.119619</td>\n      <td>0.978614</td>\n      <td>-3.119619</td>\n      <td>0.96271</td>\n      <td>-3.119619</td>\n      <td>0.96271</td>\n      <td>-3.119619</td>\n    </tr>\n    <tr>\n      <th>1208</th>\n      <td>20181219</td>\n      <td>000985.SH</td>\n      <td>0.978085</td>\n      <td>-1.243940</td>\n      <td>1.002353</td>\n      <td>-3.119619</td>\n      <td>0.942857</td>\n      <td>-3.119619</td>\n      <td>0.950734</td>\n      <td>-3.119619</td>\n      <td>...</td>\n      <td>0.950734</td>\n      <td>-3.119619</td>\n      <td>0.974685</td>\n      <td>-3.119619</td>\n      <td>0.966441</td>\n      <td>-3.119619</td>\n      <td>0.950734</td>\n      <td>-3.119619</td>\n      <td>0.950734</td>\n      <td>-3.119619</td>\n    </tr>\n    <tr>\n      <th>1209</th>\n      <td>20181220</td>\n      <td>000985.SH</td>\n      <td>0.976226</td>\n      <td>-1.243940</td>\n      <td>1.000447</td>\n      <td>-3.119619</td>\n      <td>0.941064</td>\n      <td>-3.119619</td>\n      <td>0.948927</td>\n      <td>-3.119619</td>\n      <td>...</td>\n      <td>0.948927</td>\n      <td>-3.119619</td>\n      <td>0.972832</td>\n      <td>-3.119619</td>\n      <td>0.964603</td>\n      <td>-3.119619</td>\n      <td>0.948927</td>\n      <td>-3.119619</td>\n      <td>0.948927</td>\n      <td>-3.119619</td>\n    </tr>\n    <tr>\n      <th>1210</th>\n      <td>20181221</td>\n      <td>000985.SH</td>\n      <td>0.966645</td>\n      <td>-1.243940</td>\n      <td>0.990629</td>\n      <td>-3.119619</td>\n      <td>0.931828</td>\n      <td>-3.119619</td>\n      <td>0.939614</td>\n      <td>-3.119619</td>\n      <td>...</td>\n      <td>0.939614</td>\n      <td>-3.119619</td>\n      <td>0.98238</td>\n      <td>-3.119619</td>\n      <td>0.955136</td>\n      <td>-3.119619</td>\n      <td>0.939614</td>\n      <td>-3.119619</td>\n      <td>0.939614</td>\n      <td>-3.119619</td>\n    </tr>\n    <tr>\n      <th>...</th>\n      <td>...</td>\n      <td>...</td>\n      <td>...</td>\n      <td>...</td>\n      <td>...</td>\n      <td>...</td>\n      <td>...</td>\n      <td>...</td>\n      <td>...</td>\n      <td>...</td>\n      <td>...</td>\n      <td>...</td>\n      <td>...</td>\n      <td>...</td>\n      <td>...</td>\n      <td>...</td>\n      <td>...</td>\n      <td>...</td>\n      <td>...</td>\n      <td>...</td>\n      <td>...</td>\n    </tr>\n    <tr>\n      <th>1939</th>\n      <td>20211227</td>\n      <td>000985.SH</td>\n      <td>1.641510</td>\n      <td>-8.183736</td>\n      <td>1.629029</td>\n      <td>-6.666832</td>\n      <td>0.818046</td>\n      <td>-8.183736</td>\n      <td>1.155046</td>\n      <td>-6.666832</td>\n      <td>...</td>\n      <td>1.345123</td>\n      <td>-6.666832</td>\n      <td>1.130841</td>\n      <td>-6.666832</td>\n      <td>0.765333</td>\n      <td>-8.183736</td>\n      <td>1.23279</td>\n      <td>-6.666832</td>\n      <td>1.354292</td>\n      <td>-6.666832</td>\n    </tr>\n    <tr>\n      <th>1940</th>\n      <td>20211228</td>\n      <td>000985.SH</td>\n      <td>1.653273</td>\n      <td>-8.183736</td>\n      <td>1.617356</td>\n      <td>-6.666832</td>\n      <td>0.823907</td>\n      <td>-8.183736</td>\n      <td>1.146769</td>\n      <td>-6.666832</td>\n      <td>...</td>\n      <td>1.335485</td>\n      <td>-6.666832</td>\n      <td>1.122737</td>\n      <td>-6.666832</td>\n      <td>0.770817</td>\n      <td>-8.183736</td>\n      <td>1.223956</td>\n      <td>-6.666832</td>\n      <td>1.344587</td>\n      <td>-6.666832</td>\n    </tr>\n    <tr>\n      <th>1941</th>\n      <td>20211229</td>\n      <td>000985.SH</td>\n      <td>1.638211</td>\n      <td>-8.183736</td>\n      <td>1.602622</td>\n      <td>-6.666832</td>\n      <td>0.831413</td>\n      <td>-8.183736</td>\n      <td>1.157216</td>\n      <td>-6.666832</td>\n      <td>...</td>\n      <td>1.347651</td>\n      <td>-6.666832</td>\n      <td>1.112509</td>\n      <td>-6.666832</td>\n      <td>0.777839</td>\n      <td>-8.183736</td>\n      <td>1.235106</td>\n      <td>-6.666832</td>\n      <td>1.356836</td>\n      <td>-6.666832</td>\n    </tr>\n    <tr>\n      <th>1942</th>\n      <td>20211230</td>\n      <td>000985.SH</td>\n      <td>1.652119</td>\n      <td>-8.183736</td>\n      <td>1.589016</td>\n      <td>-6.666832</td>\n      <td>0.824355</td>\n      <td>-8.183736</td>\n      <td>1.147391</td>\n      <td>-6.666832</td>\n      <td>...</td>\n      <td>1.359092</td>\n      <td>-6.666832</td>\n      <td>1.103064</td>\n      <td>-6.666832</td>\n      <td>0.771236</td>\n      <td>-8.183736</td>\n      <td>1.224621</td>\n      <td>-6.666832</td>\n      <td>1.368355</td>\n      <td>-6.666832</td>\n    </tr>\n    <tr>\n      <th>1943</th>\n      <td>20211231</td>\n      <td>000985.SH</td>\n      <td>1.661731</td>\n      <td>-8.183736</td>\n      <td>1.579772</td>\n      <td>-6.666832</td>\n      <td>0.819559</td>\n      <td>-8.183736</td>\n      <td>1.140716</td>\n      <td>-6.666832</td>\n      <td>...</td>\n      <td>1.351186</td>\n      <td>-6.666832</td>\n      <td>1.096647</td>\n      <td>-6.666832</td>\n      <td>0.766749</td>\n      <td>-8.183736</td>\n      <td>1.217496</td>\n      <td>-6.666832</td>\n      <td>1.360395</td>\n      <td>-6.666832</td>\n    </tr>\n  </tbody>\n</table>\n<p>738 rows × 36 columns</p>\n</div>"
     },
     "execution_count": 48,
     "metadata": {},
     "output_type": "execute_result"
    }
   ],
   "source": [
    "def ma_strategy(df, factor_list, window_list):\n",
    "    \"\"\"\n",
    "    用均值策略作为买入卖出信号\n",
    "    :param df: 因子数据\n",
    "    :param factor_list: 待选决策因子\n",
    "    :param window_list: 待选决策窗口\n",
    "    :return:\n",
    "    \"\"\"\n",
    "    out_list = []\n",
    "    # 循环因子和窗口\n",
    "    for w in window_list:\n",
    "        for f in factor_list:\n",
    "            # MA均值计算\n",
    "            df[f'{f}_ma_{w}'] = (df['img_neg'].rolling(w).mean())\n",
    "\n",
    "            # 形成投资信号\n",
    "            df[f'{f}_sell_signal_ma_{w}'] = df[f] >= df[f'{f}_ma_{w}']\n",
    "            df[f'{f}_sell_signal_ma_{w}'] = df[f'{f}_sell_signal_ma_{w}'].shift(1)  # 向前移动一天,使用历史信息\n",
    "\n",
    "            # 卖空指数操作\n",
    "            df[f'{f}_return_ma_{w}'] = np.where(df[f'{f}_sell_signal_ma_{w}'], -1 * (df[f'{f}_sell_signal_ma_{w}'] * df['close_chg']),\n",
    "                                                df['close_chg'])\n",
    "\n",
    "            # 计算累积市值\n",
    "            df[f'{f}_mv_ma_{w}'] = ((df[f'{f}_return_ma_{w}'] + 100) / 100).cumprod(axis=0)\n",
    "\n",
    "            # 计算最大回撤\n",
    "            df[f'{f}_mdd_ma_{w}'] = df[f'{f}_return_ma_{w}'].cummin(axis=0)\n",
    "\n",
    "            # 输出值列表\n",
    "            out_list += [f'{f}_mv_ma_{w}', f'{f}_mdd_ma_{w}']\n",
    "\n",
    "    # 去掉空行(MA行)\n",
    "    df.dropna(axis=0, inplace=True)\n",
    "\n",
    "    # 对比基准\n",
    "    df['mv_shareindex'] = ((df['close_chg'] + 100) / 100).cumprod(axis=0)\n",
    "    df['mdd_shareindex'] = df['close_chg'].cummin(axis=0)\n",
    "\n",
    "    return df[['trade_date', 'ts_code', 'mv_shareindex', 'mdd_shareindex'] + out_list]\n",
    "\n",
    "\n",
    "#ma策略\n",
    "ma_strategy(df_data, ['img_neg', 'tex_neg', 'SENT_INDEX', 'SENT_INDEX_R'], [5, 10, 15, 20])\n"
   ]
  },
  {
   "cell_type": "code",
   "execution_count": null,
   "outputs": [],
   "source": [],
   "metadata": {
    "collapsed": false
   }
  }
 ],
 "metadata": {
  "kernelspec": {
   "name": "pytorch",
   "language": "python",
   "display_name": "Rapids"
  },
  "language_info": {
   "codemirror_mode": {
    "name": "ipython",
    "version": 2
   },
   "file_extension": ".py",
   "mimetype": "text/x-python",
   "name": "python",
   "nbconvert_exporter": "python",
   "pygments_lexer": "ipython2",
   "version": "2.7.6"
  }
 },
 "nbformat": 4,
 "nbformat_minor": 0
}
