{
 "cells": [
  {
   "cell_type": "markdown",
   "source": [
    "# 投资组合专题"
   ],
   "metadata": {
    "collapsed": false
   }
  },
  {
   "cell_type": "code",
   "execution_count": 1,
   "outputs": [
    {
     "name": "stdout",
     "output_type": "stream",
     "text": [
      "\n",
      "  ___  ____  ____  ____  ____ ®\n",
      " /__    /   ____/   /   ____/      17.0\n",
      "___/   /   /___/   /   /___/       MP—Parallel Edition\n",
      "\n",
      " Statistics and Data Science       Copyright 1985-2021 StataCorp LLC\n",
      "                                   StataCorp\n",
      "                                   4905 Lakeway Drive\n",
      "                                   College Station, Texas 77845 USA\n",
      "                                   800-STATA-PC        https://www.stata.com\n",
      "                                   979-696-4600        stata@stata.com\n",
      "\n",
      "Stata license: Single-user 8-core , expiring  1 Jan 2025\n",
      "Serial number: 501709301094\n",
      "  Licensed to: Colin's Stata 17 MP\n",
      "               Love you\n",
      "\n",
      "Notes:\n",
      "      1. Unicode is supported; see help unicode_advice.\n",
      "      2. More than 2 billion observations are allowed; see help obs_advice.\n",
      "      3. Maximum number of variables is set to 5,000; see help set_maxvar.\n"
     ]
    }
   ],
   "source": [
    "import sys\n",
    "import pandas as pd\n",
    "import numpy as np\n",
    "\n",
    "# 自行编写的包\n",
    "sys.path.append('/home/ubuntu/notebooks/pycharm_projects/Investor-Sentiment')\n",
    "sys.path.append('/usr/local/stata17/utilities')\n",
    "\n",
    "# Stata\n",
    "from pystata import config\n",
    "\n",
    "# GPA\n",
    "config.init('mp')"
   ],
   "metadata": {
    "collapsed": false
   }
  },
  {
   "cell_type": "code",
   "execution_count": 2,
   "outputs": [
    {
     "data": {
      "text/plain": "      Unnamed: 0  trade_date    ts_code  CON_YEAR        CON_OR        CON_NP  \\\n0              7    20140102  000985.SH      2014  3.034892e+09  27421.678403   \n1             18    20140103  000985.SH      2014  3.033876e+09  27421.601209   \n2             29    20140106  000985.SH      2014  3.033345e+09  27412.012060   \n3             40    20140107  000985.SH      2014  3.028546e+09  27384.608096   \n4             51    20140108  000985.SH      2014  3.028892e+09  27355.547003   \n...          ...         ...        ...       ...           ...           ...   \n1939       21350    20211227  000985.SH      2021  6.389869e+09  53799.927579   \n1940       21361    20211228  000985.SH      2021  6.391559e+09  53788.880275   \n1941       21372    20211229  000985.SH      2021  6.389955e+09  53725.674838   \n1942       21383    20211230  000985.SH      2021  6.390729e+09  53695.625032   \n1943       21394    20211231  000985.SH      2021  6.389440e+09  53655.694957   \n\n      CON_EPS        CON_NA  CON_PB  CON_PS  ...    NIPO_R    RIPO_R  \\\n0      0.6857  2.017385e+09  1.3334  0.8863  ... -0.993200 -0.429099   \n1      0.6857  2.017584e+09  1.3213  0.8787  ... -0.993200 -0.429099   \n2      0.6854  2.027389e+09  1.2895  0.8619  ... -0.993200 -0.429099   \n3      0.6846  2.027386e+09  1.2917  0.8647  ... -0.993200 -0.429099   \n4      0.6838  2.028490e+09  1.2935  0.8663  ... -0.993200 -0.429099   \n...       ...           ...     ...     ...  ...       ...       ...   \n1939   0.7131  5.236956e+09  1.7835  1.4617  ... -0.044895 -0.374305   \n1940   0.7129  5.237495e+09  1.7933  1.4695  ...  2.955105 -0.346122   \n1941   0.7120  5.237052e+09  1.7779  1.4571  ... -1.044895 -0.453585   \n1942   0.7116  5.236812e+09  1.7905  1.4672  ...  1.955105 -0.193822   \n1943   0.7111  5.237010e+09  1.7997  1.4751  ... -0.044895 -0.012409   \n\n           SR_R  l1_TURN_R    lnPD_R  SENT_INDEX_R  SENT_INDEX_EX  \\\n0     15.745780  -0.003943 -0.208500     -1.191905      -0.571980   \n1     15.745780  -0.004333 -0.208500     -1.182604      -0.598652   \n2     15.745780  -0.003813 -0.208500     -1.175354      -0.623006   \n3     15.745780  -0.003643 -0.208500     -1.172984      -0.644795   \n4     15.745780  -0.004513 -0.208500     -1.185114      -0.664723   \n...         ...        ...       ...           ...            ...   \n1939  -2.832969   0.001832  0.097983      0.390557       1.170102   \n1940  -2.832969   0.000582  0.097983      1.186737       1.127746   \n1941  -2.832969   0.000302  0.097983      0.013389       1.149856   \n1942  -2.832969   0.000072  0.097983      0.972127       1.079838   \n1943  -2.832969   0.000102  0.097983      0.720920       1.088991   \n\n      SENT_INDEX_DEX  SENT_INDEX_R_EX  SENT_INDEX_R_DEX  \n0          -0.588495        -0.435412         -0.451046  \n1          -0.588830        -0.502679         -0.452930  \n2          -0.589509        -0.563137         -0.455863  \n3          -0.590505        -0.617575         -0.459753  \n4          -0.591815        -0.666961         -0.464538  \n...              ...              ...               ...  \n1939        1.302731         0.960139          1.050876  \n1940        1.298598         0.909492          1.046500  \n1941        1.293518         0.934144          1.040757  \n1942        1.288670         0.852272          1.035358  \n1943        1.283711         0.862929          1.029868  \n\n[1944 rows x 71 columns]",
      "text/html": "<div>\n<style scoped>\n    .dataframe tbody tr th:only-of-type {\n        vertical-align: middle;\n    }\n\n    .dataframe tbody tr th {\n        vertical-align: top;\n    }\n\n    .dataframe thead th {\n        text-align: right;\n    }\n</style>\n<table border=\"1\" class=\"dataframe\">\n  <thead>\n    <tr style=\"text-align: right;\">\n      <th></th>\n      <th>Unnamed: 0</th>\n      <th>trade_date</th>\n      <th>ts_code</th>\n      <th>CON_YEAR</th>\n      <th>CON_OR</th>\n      <th>CON_NP</th>\n      <th>CON_EPS</th>\n      <th>CON_NA</th>\n      <th>CON_PB</th>\n      <th>CON_PS</th>\n      <th>...</th>\n      <th>NIPO_R</th>\n      <th>RIPO_R</th>\n      <th>SR_R</th>\n      <th>l1_TURN_R</th>\n      <th>lnPD_R</th>\n      <th>SENT_INDEX_R</th>\n      <th>SENT_INDEX_EX</th>\n      <th>SENT_INDEX_DEX</th>\n      <th>SENT_INDEX_R_EX</th>\n      <th>SENT_INDEX_R_DEX</th>\n    </tr>\n  </thead>\n  <tbody>\n    <tr>\n      <th>0</th>\n      <td>7</td>\n      <td>20140102</td>\n      <td>000985.SH</td>\n      <td>2014</td>\n      <td>3.034892e+09</td>\n      <td>27421.678403</td>\n      <td>0.6857</td>\n      <td>2.017385e+09</td>\n      <td>1.3334</td>\n      <td>0.8863</td>\n      <td>...</td>\n      <td>-0.993200</td>\n      <td>-0.429099</td>\n      <td>15.745780</td>\n      <td>-0.003943</td>\n      <td>-0.208500</td>\n      <td>-1.191905</td>\n      <td>-0.571980</td>\n      <td>-0.588495</td>\n      <td>-0.435412</td>\n      <td>-0.451046</td>\n    </tr>\n    <tr>\n      <th>1</th>\n      <td>18</td>\n      <td>20140103</td>\n      <td>000985.SH</td>\n      <td>2014</td>\n      <td>3.033876e+09</td>\n      <td>27421.601209</td>\n      <td>0.6857</td>\n      <td>2.017584e+09</td>\n      <td>1.3213</td>\n      <td>0.8787</td>\n      <td>...</td>\n      <td>-0.993200</td>\n      <td>-0.429099</td>\n      <td>15.745780</td>\n      <td>-0.004333</td>\n      <td>-0.208500</td>\n      <td>-1.182604</td>\n      <td>-0.598652</td>\n      <td>-0.588830</td>\n      <td>-0.502679</td>\n      <td>-0.452930</td>\n    </tr>\n    <tr>\n      <th>2</th>\n      <td>29</td>\n      <td>20140106</td>\n      <td>000985.SH</td>\n      <td>2014</td>\n      <td>3.033345e+09</td>\n      <td>27412.012060</td>\n      <td>0.6854</td>\n      <td>2.027389e+09</td>\n      <td>1.2895</td>\n      <td>0.8619</td>\n      <td>...</td>\n      <td>-0.993200</td>\n      <td>-0.429099</td>\n      <td>15.745780</td>\n      <td>-0.003813</td>\n      <td>-0.208500</td>\n      <td>-1.175354</td>\n      <td>-0.623006</td>\n      <td>-0.589509</td>\n      <td>-0.563137</td>\n      <td>-0.455863</td>\n    </tr>\n    <tr>\n      <th>3</th>\n      <td>40</td>\n      <td>20140107</td>\n      <td>000985.SH</td>\n      <td>2014</td>\n      <td>3.028546e+09</td>\n      <td>27384.608096</td>\n      <td>0.6846</td>\n      <td>2.027386e+09</td>\n      <td>1.2917</td>\n      <td>0.8647</td>\n      <td>...</td>\n      <td>-0.993200</td>\n      <td>-0.429099</td>\n      <td>15.745780</td>\n      <td>-0.003643</td>\n      <td>-0.208500</td>\n      <td>-1.172984</td>\n      <td>-0.644795</td>\n      <td>-0.590505</td>\n      <td>-0.617575</td>\n      <td>-0.459753</td>\n    </tr>\n    <tr>\n      <th>4</th>\n      <td>51</td>\n      <td>20140108</td>\n      <td>000985.SH</td>\n      <td>2014</td>\n      <td>3.028892e+09</td>\n      <td>27355.547003</td>\n      <td>0.6838</td>\n      <td>2.028490e+09</td>\n      <td>1.2935</td>\n      <td>0.8663</td>\n      <td>...</td>\n      <td>-0.993200</td>\n      <td>-0.429099</td>\n      <td>15.745780</td>\n      <td>-0.004513</td>\n      <td>-0.208500</td>\n      <td>-1.185114</td>\n      <td>-0.664723</td>\n      <td>-0.591815</td>\n      <td>-0.666961</td>\n      <td>-0.464538</td>\n    </tr>\n    <tr>\n      <th>...</th>\n      <td>...</td>\n      <td>...</td>\n      <td>...</td>\n      <td>...</td>\n      <td>...</td>\n      <td>...</td>\n      <td>...</td>\n      <td>...</td>\n      <td>...</td>\n      <td>...</td>\n      <td>...</td>\n      <td>...</td>\n      <td>...</td>\n      <td>...</td>\n      <td>...</td>\n      <td>...</td>\n      <td>...</td>\n      <td>...</td>\n      <td>...</td>\n      <td>...</td>\n      <td>...</td>\n    </tr>\n    <tr>\n      <th>1939</th>\n      <td>21350</td>\n      <td>20211227</td>\n      <td>000985.SH</td>\n      <td>2021</td>\n      <td>6.389869e+09</td>\n      <td>53799.927579</td>\n      <td>0.7131</td>\n      <td>5.236956e+09</td>\n      <td>1.7835</td>\n      <td>1.4617</td>\n      <td>...</td>\n      <td>-0.044895</td>\n      <td>-0.374305</td>\n      <td>-2.832969</td>\n      <td>0.001832</td>\n      <td>0.097983</td>\n      <td>0.390557</td>\n      <td>1.170102</td>\n      <td>1.302731</td>\n      <td>0.960139</td>\n      <td>1.050876</td>\n    </tr>\n    <tr>\n      <th>1940</th>\n      <td>21361</td>\n      <td>20211228</td>\n      <td>000985.SH</td>\n      <td>2021</td>\n      <td>6.391559e+09</td>\n      <td>53788.880275</td>\n      <td>0.7129</td>\n      <td>5.237495e+09</td>\n      <td>1.7933</td>\n      <td>1.4695</td>\n      <td>...</td>\n      <td>2.955105</td>\n      <td>-0.346122</td>\n      <td>-2.832969</td>\n      <td>0.000582</td>\n      <td>0.097983</td>\n      <td>1.186737</td>\n      <td>1.127746</td>\n      <td>1.298598</td>\n      <td>0.909492</td>\n      <td>1.046500</td>\n    </tr>\n    <tr>\n      <th>1941</th>\n      <td>21372</td>\n      <td>20211229</td>\n      <td>000985.SH</td>\n      <td>2021</td>\n      <td>6.389955e+09</td>\n      <td>53725.674838</td>\n      <td>0.7120</td>\n      <td>5.237052e+09</td>\n      <td>1.7779</td>\n      <td>1.4571</td>\n      <td>...</td>\n      <td>-1.044895</td>\n      <td>-0.453585</td>\n      <td>-2.832969</td>\n      <td>0.000302</td>\n      <td>0.097983</td>\n      <td>0.013389</td>\n      <td>1.149856</td>\n      <td>1.293518</td>\n      <td>0.934144</td>\n      <td>1.040757</td>\n    </tr>\n    <tr>\n      <th>1942</th>\n      <td>21383</td>\n      <td>20211230</td>\n      <td>000985.SH</td>\n      <td>2021</td>\n      <td>6.390729e+09</td>\n      <td>53695.625032</td>\n      <td>0.7116</td>\n      <td>5.236812e+09</td>\n      <td>1.7905</td>\n      <td>1.4672</td>\n      <td>...</td>\n      <td>1.955105</td>\n      <td>-0.193822</td>\n      <td>-2.832969</td>\n      <td>0.000072</td>\n      <td>0.097983</td>\n      <td>0.972127</td>\n      <td>1.079838</td>\n      <td>1.288670</td>\n      <td>0.852272</td>\n      <td>1.035358</td>\n    </tr>\n    <tr>\n      <th>1943</th>\n      <td>21394</td>\n      <td>20211231</td>\n      <td>000985.SH</td>\n      <td>2021</td>\n      <td>6.389440e+09</td>\n      <td>53655.694957</td>\n      <td>0.7111</td>\n      <td>5.237010e+09</td>\n      <td>1.7997</td>\n      <td>1.4751</td>\n      <td>...</td>\n      <td>-0.044895</td>\n      <td>-0.012409</td>\n      <td>-2.832969</td>\n      <td>0.000102</td>\n      <td>0.097983</td>\n      <td>0.720920</td>\n      <td>1.088991</td>\n      <td>1.283711</td>\n      <td>0.862929</td>\n      <td>1.029868</td>\n    </tr>\n  </tbody>\n</table>\n<p>1944 rows × 71 columns</p>\n</div>"
     },
     "execution_count": 2,
     "metadata": {},
     "output_type": "execute_result"
    }
   ],
   "source": [
    "df_data = pd.read_csv('/data/DataSets/investor_sentiment/FINAL_DATA_2014_2021.csv')\n",
    "df_data"
   ],
   "metadata": {
    "collapsed": false
   }
  },
  {
   "cell_type": "markdown",
   "source": [
    "## MA-多空策略"
   ],
   "metadata": {
    "collapsed": false
   }
  },
  {
   "cell_type": "code",
   "execution_count": 13,
   "metadata": {
    "collapsed": true
   },
   "outputs": [
    {
     "data": {
      "text/plain": "      trade_date    ts_code  mv_shareindex img_neg_mv_ma_5 img_neg_mdd_ma_5  \\\n114     20140624  000985.SH       1.005968         0.97348        -3.472673   \n115     20140625  000985.SH       1.000909        0.978376        -3.472673   \n116     20140626  000985.SH       1.011837        0.967694        -3.472673   \n117     20140627  000985.SH       1.015974        0.963738        -3.472673   \n118     20140630  000985.SH       1.024543        0.971867        -3.472673   \n...          ...        ...            ...             ...              ...   \n1939    20211227  000985.SH       2.101280        4.492784        -8.187696   \n1940    20211228  000985.SH       2.116337         4.46059        -8.187696   \n1941    20211229  000985.SH       2.097057        4.419954        -8.187696   \n1942    20211230  000985.SH       2.114861         4.38243        -8.187696   \n1943    20211231  000985.SH       2.127164        4.356935        -8.187696   \n\n     tex_neg_mv_ma_5 tex_neg_mdd_ma_5 SENT_INDEX_mv_ma_5 SENT_INDEX_mdd_ma_5  \\\n114         1.035729        -3.472673            1.00771           -3.472673   \n115         1.040939        -3.472673           1.002641           -3.472673   \n116         1.052304        -3.472673           1.013589           -3.472673   \n117         1.056607        -3.472673           1.017733           -3.472673   \n118         1.047694        -3.472673           1.026317           -3.472673   \n...              ...              ...                ...                 ...   \n1939        0.607613        -8.187696           1.265764           -8.187696   \n1940        0.611967        -8.187696           1.256693           -8.187696   \n1941        0.617542        -8.187696           1.268142           -8.187696   \n1942        0.612299        -8.187696           1.257376           -8.187696   \n1943        0.608737        -8.187696           1.250061           -8.187696   \n\n     SENT_INDEX_R_mv_ma_5  ... SENT_INDEX_R_mv_ma_15 SENT_INDEX_R_mdd_ma_15  \\\n114               1.00771  ...               1.00771              -3.472673   \n115              1.002641  ...              1.002641              -3.472673   \n116              1.013589  ...              1.013589              -3.472673   \n117              1.009445  ...              1.009445              -3.472673   \n118              1.017959  ...              1.017959              -3.472673   \n...                   ...  ...                   ...                    ...   \n1939             2.143179  ...              1.922442              -8.187696   \n1940             2.127822  ...              1.908667              -8.187696   \n1941             2.147206  ...              1.926055              -8.187696   \n1942             2.165435  ...              1.942406              -8.187696   \n1943             2.152838  ...              1.931106              -8.187696   \n\n     img_neg_mv_ma_20 img_neg_mdd_ma_20 tex_neg_mv_ma_20 tex_neg_mdd_ma_20  \\\n114           1.00771         -3.472673          1.00771         -3.472673   \n115          1.012778         -3.472673         1.012778         -3.472673   \n116           1.00172         -3.472673         1.023836         -3.472673   \n117          0.997625         -3.472673         1.028022         -3.472673   \n118           1.00604         -3.472673         1.019351         -3.472673   \n...               ...               ...              ...               ...   \n1939         2.618814         -8.187696         0.471174         -8.187696   \n1940         2.600048         -8.187696          0.47455         -8.187696   \n1941         2.576361         -8.187696         0.478874         -8.187696   \n1942         2.554489         -8.187696         0.474808         -8.187696   \n1943         2.539628         -8.187696         0.472046         -8.187696   \n\n     SENT_INDEX_mv_ma_20 SENT_INDEX_mdd_ma_20 SENT_INDEX_R_mv_ma_20  \\\n114              1.00771            -3.472673               1.00771   \n115             1.002641            -3.472673              1.002641   \n116             1.013589            -3.472673              1.013589   \n117             1.009445            -3.472673              1.009445   \n118             1.017959            -3.472673              1.017959   \n...                  ...                  ...                   ...   \n1939              1.5538            -8.187696              1.964329   \n1940            1.542666            -8.187696              1.950253   \n1941            1.556719            -8.187696               1.96802   \n1942            1.543503            -8.187696              1.984728   \n1943            1.534524            -8.187696              1.973182   \n\n     SENT_INDEX_R_mdd_ma_20  \n114               -3.472673  \n115               -3.472673  \n116               -3.472673  \n117               -3.472673  \n118               -3.472673  \n...                     ...  \n1939              -8.187696  \n1940              -8.187696  \n1941              -8.187696  \n1942              -8.187696  \n1943              -8.187696  \n\n[1830 rows x 35 columns]",
      "text/html": "<div>\n<style scoped>\n    .dataframe tbody tr th:only-of-type {\n        vertical-align: middle;\n    }\n\n    .dataframe tbody tr th {\n        vertical-align: top;\n    }\n\n    .dataframe thead th {\n        text-align: right;\n    }\n</style>\n<table border=\"1\" class=\"dataframe\">\n  <thead>\n    <tr style=\"text-align: right;\">\n      <th></th>\n      <th>trade_date</th>\n      <th>ts_code</th>\n      <th>mv_shareindex</th>\n      <th>img_neg_mv_ma_5</th>\n      <th>img_neg_mdd_ma_5</th>\n      <th>tex_neg_mv_ma_5</th>\n      <th>tex_neg_mdd_ma_5</th>\n      <th>SENT_INDEX_mv_ma_5</th>\n      <th>SENT_INDEX_mdd_ma_5</th>\n      <th>SENT_INDEX_R_mv_ma_5</th>\n      <th>...</th>\n      <th>SENT_INDEX_R_mv_ma_15</th>\n      <th>SENT_INDEX_R_mdd_ma_15</th>\n      <th>img_neg_mv_ma_20</th>\n      <th>img_neg_mdd_ma_20</th>\n      <th>tex_neg_mv_ma_20</th>\n      <th>tex_neg_mdd_ma_20</th>\n      <th>SENT_INDEX_mv_ma_20</th>\n      <th>SENT_INDEX_mdd_ma_20</th>\n      <th>SENT_INDEX_R_mv_ma_20</th>\n      <th>SENT_INDEX_R_mdd_ma_20</th>\n    </tr>\n  </thead>\n  <tbody>\n    <tr>\n      <th>114</th>\n      <td>20140624</td>\n      <td>000985.SH</td>\n      <td>1.005968</td>\n      <td>0.97348</td>\n      <td>-3.472673</td>\n      <td>1.035729</td>\n      <td>-3.472673</td>\n      <td>1.00771</td>\n      <td>-3.472673</td>\n      <td>1.00771</td>\n      <td>...</td>\n      <td>1.00771</td>\n      <td>-3.472673</td>\n      <td>1.00771</td>\n      <td>-3.472673</td>\n      <td>1.00771</td>\n      <td>-3.472673</td>\n      <td>1.00771</td>\n      <td>-3.472673</td>\n      <td>1.00771</td>\n      <td>-3.472673</td>\n    </tr>\n    <tr>\n      <th>115</th>\n      <td>20140625</td>\n      <td>000985.SH</td>\n      <td>1.000909</td>\n      <td>0.978376</td>\n      <td>-3.472673</td>\n      <td>1.040939</td>\n      <td>-3.472673</td>\n      <td>1.002641</td>\n      <td>-3.472673</td>\n      <td>1.002641</td>\n      <td>...</td>\n      <td>1.002641</td>\n      <td>-3.472673</td>\n      <td>1.012778</td>\n      <td>-3.472673</td>\n      <td>1.012778</td>\n      <td>-3.472673</td>\n      <td>1.002641</td>\n      <td>-3.472673</td>\n      <td>1.002641</td>\n      <td>-3.472673</td>\n    </tr>\n    <tr>\n      <th>116</th>\n      <td>20140626</td>\n      <td>000985.SH</td>\n      <td>1.011837</td>\n      <td>0.967694</td>\n      <td>-3.472673</td>\n      <td>1.052304</td>\n      <td>-3.472673</td>\n      <td>1.013589</td>\n      <td>-3.472673</td>\n      <td>1.013589</td>\n      <td>...</td>\n      <td>1.013589</td>\n      <td>-3.472673</td>\n      <td>1.00172</td>\n      <td>-3.472673</td>\n      <td>1.023836</td>\n      <td>-3.472673</td>\n      <td>1.013589</td>\n      <td>-3.472673</td>\n      <td>1.013589</td>\n      <td>-3.472673</td>\n    </tr>\n    <tr>\n      <th>117</th>\n      <td>20140627</td>\n      <td>000985.SH</td>\n      <td>1.015974</td>\n      <td>0.963738</td>\n      <td>-3.472673</td>\n      <td>1.056607</td>\n      <td>-3.472673</td>\n      <td>1.017733</td>\n      <td>-3.472673</td>\n      <td>1.009445</td>\n      <td>...</td>\n      <td>1.009445</td>\n      <td>-3.472673</td>\n      <td>0.997625</td>\n      <td>-3.472673</td>\n      <td>1.028022</td>\n      <td>-3.472673</td>\n      <td>1.009445</td>\n      <td>-3.472673</td>\n      <td>1.009445</td>\n      <td>-3.472673</td>\n    </tr>\n    <tr>\n      <th>118</th>\n      <td>20140630</td>\n      <td>000985.SH</td>\n      <td>1.024543</td>\n      <td>0.971867</td>\n      <td>-3.472673</td>\n      <td>1.047694</td>\n      <td>-3.472673</td>\n      <td>1.026317</td>\n      <td>-3.472673</td>\n      <td>1.017959</td>\n      <td>...</td>\n      <td>1.017959</td>\n      <td>-3.472673</td>\n      <td>1.00604</td>\n      <td>-3.472673</td>\n      <td>1.019351</td>\n      <td>-3.472673</td>\n      <td>1.017959</td>\n      <td>-3.472673</td>\n      <td>1.017959</td>\n      <td>-3.472673</td>\n    </tr>\n    <tr>\n      <th>...</th>\n      <td>...</td>\n      <td>...</td>\n      <td>...</td>\n      <td>...</td>\n      <td>...</td>\n      <td>...</td>\n      <td>...</td>\n      <td>...</td>\n      <td>...</td>\n      <td>...</td>\n      <td>...</td>\n      <td>...</td>\n      <td>...</td>\n      <td>...</td>\n      <td>...</td>\n      <td>...</td>\n      <td>...</td>\n      <td>...</td>\n      <td>...</td>\n      <td>...</td>\n      <td>...</td>\n    </tr>\n    <tr>\n      <th>1939</th>\n      <td>20211227</td>\n      <td>000985.SH</td>\n      <td>2.101280</td>\n      <td>4.492784</td>\n      <td>-8.187696</td>\n      <td>0.607613</td>\n      <td>-8.187696</td>\n      <td>1.265764</td>\n      <td>-8.187696</td>\n      <td>2.143179</td>\n      <td>...</td>\n      <td>1.922442</td>\n      <td>-8.187696</td>\n      <td>2.618814</td>\n      <td>-8.187696</td>\n      <td>0.471174</td>\n      <td>-8.187696</td>\n      <td>1.5538</td>\n      <td>-8.187696</td>\n      <td>1.964329</td>\n      <td>-8.187696</td>\n    </tr>\n    <tr>\n      <th>1940</th>\n      <td>20211228</td>\n      <td>000985.SH</td>\n      <td>2.116337</td>\n      <td>4.46059</td>\n      <td>-8.187696</td>\n      <td>0.611967</td>\n      <td>-8.187696</td>\n      <td>1.256693</td>\n      <td>-8.187696</td>\n      <td>2.127822</td>\n      <td>...</td>\n      <td>1.908667</td>\n      <td>-8.187696</td>\n      <td>2.600048</td>\n      <td>-8.187696</td>\n      <td>0.47455</td>\n      <td>-8.187696</td>\n      <td>1.542666</td>\n      <td>-8.187696</td>\n      <td>1.950253</td>\n      <td>-8.187696</td>\n    </tr>\n    <tr>\n      <th>1941</th>\n      <td>20211229</td>\n      <td>000985.SH</td>\n      <td>2.097057</td>\n      <td>4.419954</td>\n      <td>-8.187696</td>\n      <td>0.617542</td>\n      <td>-8.187696</td>\n      <td>1.268142</td>\n      <td>-8.187696</td>\n      <td>2.147206</td>\n      <td>...</td>\n      <td>1.926055</td>\n      <td>-8.187696</td>\n      <td>2.576361</td>\n      <td>-8.187696</td>\n      <td>0.478874</td>\n      <td>-8.187696</td>\n      <td>1.556719</td>\n      <td>-8.187696</td>\n      <td>1.96802</td>\n      <td>-8.187696</td>\n    </tr>\n    <tr>\n      <th>1942</th>\n      <td>20211230</td>\n      <td>000985.SH</td>\n      <td>2.114861</td>\n      <td>4.38243</td>\n      <td>-8.187696</td>\n      <td>0.612299</td>\n      <td>-8.187696</td>\n      <td>1.257376</td>\n      <td>-8.187696</td>\n      <td>2.165435</td>\n      <td>...</td>\n      <td>1.942406</td>\n      <td>-8.187696</td>\n      <td>2.554489</td>\n      <td>-8.187696</td>\n      <td>0.474808</td>\n      <td>-8.187696</td>\n      <td>1.543503</td>\n      <td>-8.187696</td>\n      <td>1.984728</td>\n      <td>-8.187696</td>\n    </tr>\n    <tr>\n      <th>1943</th>\n      <td>20211231</td>\n      <td>000985.SH</td>\n      <td>2.127164</td>\n      <td>4.356935</td>\n      <td>-8.187696</td>\n      <td>0.608737</td>\n      <td>-8.187696</td>\n      <td>1.250061</td>\n      <td>-8.187696</td>\n      <td>2.152838</td>\n      <td>...</td>\n      <td>1.931106</td>\n      <td>-8.187696</td>\n      <td>2.539628</td>\n      <td>-8.187696</td>\n      <td>0.472046</td>\n      <td>-8.187696</td>\n      <td>1.534524</td>\n      <td>-8.187696</td>\n      <td>1.973182</td>\n      <td>-8.187696</td>\n    </tr>\n  </tbody>\n</table>\n<p>1830 rows × 35 columns</p>\n</div>"
     },
     "execution_count": 13,
     "metadata": {},
     "output_type": "execute_result"
    }
   ],
   "source": [
    "def ma_strategy(df, factor_list, window_list):\n",
    "    \"\"\"\n",
    "    用均值策略作为买入卖出信号\n",
    "    :param df: 因子数据\n",
    "    :param factor_list: 待选决策因子\n",
    "    :param window_list: 待选决策窗口\n",
    "    :return:\n",
    "    \"\"\"\n",
    "    out_list = []\n",
    "    # 循环因子和窗口\n",
    "    for w in window_list:\n",
    "        for f in factor_list:\n",
    "            # 排序\n",
    "            df = df.sort_values('trade_date')\n",
    "\n",
    "            # MA均值计算\n",
    "            df[f'{f}_ma_{w}'] = (df['img_neg'].rolling(w).mean())\n",
    "\n",
    "            # 形成投资信号\n",
    "            df[f'{f}_sell_signal_ma_{w}'] = df[f] >= df[f'{f}_ma_{w}']\n",
    "            df[f'{f}_sell_signal_ma_{w}'] = df[f'{f}_sell_signal_ma_{w}'].shift(1)  # 向前移动一天,使用历史信息\n",
    "\n",
    "            # 卖空指数操作\n",
    "            df[f'{f}_return_ma_{w}'] = np.where(df[f'{f}_sell_signal_ma_{w}'], -1 * (df[f'{f}_sell_signal_ma_{w}'] * df['close_chg']),\n",
    "                                                df['close_chg'])\n",
    "\n",
    "            # 计算累积市值\n",
    "            df[f'{f}_mv_ma_{w}'] = ((df[f'{f}_return_ma_{w}'] + 100) / 100).cumprod(axis=0)\n",
    "\n",
    "            # 输出值列表\n",
    "            out_list += [f'{f}_mv_ma_{w}', f'{f}_mdd_ma_{w}']\n",
    "\n",
    "    # 去掉空行(MA行)\n",
    "    df.dropna(axis=0, inplace=True)\n",
    "\n",
    "    # 对比基准\n",
    "    df['mv_shareindex'] = ((df['close_chg'] + 100) / 100).cumprod(axis=0)\n",
    "\n",
    "    return df[['trade_date', 'ts_code', 'mv_shareindex', ] + out_list]\n",
    "\n",
    "\n",
    "ma_strategy(df_data, ['img_neg', 'tex_neg', 'SENT_INDEX', 'SENT_INDEX_R'], [5, 10, 15, 20])\n"
   ]
  },
  {
   "cell_type": "code",
   "execution_count": 4,
   "outputs": [
    {
     "data": {
      "text/plain": "      trade_date    ts_code  mv_shareindex  mdd_shareindex  sharp_shareindex  \\\n38      20140304  000985.SH       0.998806       -0.119353          0.515628   \n39      20140305  000985.SH       0.993038       -0.577564          0.515628   \n40      20140306  000985.SH       0.995065       -0.577564          0.515628   \n41      20140307  000985.SH       0.992266       -0.577564          0.515628   \n42      20140310  000985.SH       0.957808       -3.472673          0.515628   \n...          ...        ...            ...             ...               ...   \n1939    20211227  000985.SH       2.022546       -8.187696          0.515628   \n1940    20211228  000985.SH       2.037039       -8.187696          0.515628   \n1941    20211229  000985.SH       2.018482       -8.187696          0.515628   \n1942    20211230  000985.SH       2.035618       -8.187696          0.515628   \n1943    20211231  000985.SH       2.047460       -8.187696          0.515628   \n\n     img_neg_mv_ma_5 img_neg_mdd_ma_5  img_neg_sharp_ma_5  img_neg_kama_ma_5  \\\n38          1.060409        -1.390642             0.91447          -2.648137   \n39          1.054285        -1.390642             0.91447          -2.648137   \n40          1.056437        -1.390642             0.91447          -2.648137   \n41          1.059408        -1.390642             0.91447          -2.648137   \n42          1.022618        -3.472673             0.91447          -2.648137   \n...              ...              ...                 ...                ...   \n1939        4.405193        -8.187696             0.91447          -2.648137   \n1940        4.373627        -8.187696             0.91447          -2.648137   \n1941        4.333783        -8.187696             0.91447          -2.648137   \n1942         4.29699        -8.187696             0.91447          -2.648137   \n1943        4.271993        -8.187696             0.91447          -2.648137   \n\n     tex_neg_mv_ma_5  ... tex_neg_sharp_ma_20  tex_neg_kama_ma_20  \\\n38           1.05796  ...           -0.333287            0.966535   \n39           1.05185  ...           -0.333287            0.966535   \n40          1.049703  ...           -0.333287            0.966535   \n41           1.04675  ...           -0.333287            0.966535   \n42            1.0104  ...           -0.333287            0.966535   \n...              ...  ...                 ...                 ...   \n1939        0.571006  ...           -0.333287            0.966535   \n1940        0.575098  ...           -0.333287            0.966535   \n1941        0.580337  ...           -0.333287            0.966535   \n1942         0.57541  ...           -0.333287            0.966535   \n1943        0.572063  ...           -0.333287            0.966535   \n\n      SENT_INDEX_mv_ma_20 SENT_INDEX_mdd_ma_20 SENT_INDEX_sharp_ma_20  \\\n38               1.011265            -3.206304               0.338528   \n39               1.005424            -3.206304               0.338528   \n40               1.007476            -3.206304               0.338528   \n41               1.004643            -3.206304               0.338528   \n42               0.969755            -3.472673               0.338528   \n...                   ...                  ...                    ...   \n1939             1.511618            -8.187696               0.338528   \n1940             1.500786            -8.187696               0.338528   \n1941             1.514458            -8.187696               0.338528   \n1942             1.501601            -8.187696               0.338528   \n1943             1.492865            -8.187696               0.338528   \n\n      SENT_INDEX_kama_ma_20  SENT_INDEX_R_mv_ma_20 SENT_INDEX_R_mdd_ma_20  \\\n38                -0.981727               1.011265              -3.206304   \n39                -0.981727               1.005424              -3.206304   \n40                -0.981727               1.007476              -3.206304   \n41                -0.981727               1.004643              -3.206304   \n42                -0.981727               0.969755              -3.472673   \n...                     ...                    ...                    ...   \n1939              -0.981727               1.911002              -8.187696   \n1940              -0.981727               1.897308              -8.187696   \n1941              -0.981727               1.914592              -8.187696   \n1942              -0.981727               1.930847              -8.187696   \n1943              -0.981727               1.919614              -8.187696   \n\n     SENT_INDEX_R_sharp_ma_20  SENT_INDEX_R_kama_ma_20  \n38                   0.476251                -1.380813  \n39                   0.476251                -1.380813  \n40                   0.476251                -1.380813  \n41                   0.476251                -1.380813  \n42                   0.476251                -1.380813  \n...                       ...                      ...  \n1939                 0.476251                -1.380813  \n1940                 0.476251                -1.380813  \n1941                 0.476251                -1.380813  \n1942                 0.476251                -1.380813  \n1943                 0.476251                -1.380813  \n\n[1906 rows x 69 columns]",
      "text/html": "<div>\n<style scoped>\n    .dataframe tbody tr th:only-of-type {\n        vertical-align: middle;\n    }\n\n    .dataframe tbody tr th {\n        vertical-align: top;\n    }\n\n    .dataframe thead th {\n        text-align: right;\n    }\n</style>\n<table border=\"1\" class=\"dataframe\">\n  <thead>\n    <tr style=\"text-align: right;\">\n      <th></th>\n      <th>trade_date</th>\n      <th>ts_code</th>\n      <th>mv_shareindex</th>\n      <th>mdd_shareindex</th>\n      <th>sharp_shareindex</th>\n      <th>img_neg_mv_ma_5</th>\n      <th>img_neg_mdd_ma_5</th>\n      <th>img_neg_sharp_ma_5</th>\n      <th>img_neg_kama_ma_5</th>\n      <th>tex_neg_mv_ma_5</th>\n      <th>...</th>\n      <th>tex_neg_sharp_ma_20</th>\n      <th>tex_neg_kama_ma_20</th>\n      <th>SENT_INDEX_mv_ma_20</th>\n      <th>SENT_INDEX_mdd_ma_20</th>\n      <th>SENT_INDEX_sharp_ma_20</th>\n      <th>SENT_INDEX_kama_ma_20</th>\n      <th>SENT_INDEX_R_mv_ma_20</th>\n      <th>SENT_INDEX_R_mdd_ma_20</th>\n      <th>SENT_INDEX_R_sharp_ma_20</th>\n      <th>SENT_INDEX_R_kama_ma_20</th>\n    </tr>\n  </thead>\n  <tbody>\n    <tr>\n      <th>38</th>\n      <td>20140304</td>\n      <td>000985.SH</td>\n      <td>0.998806</td>\n      <td>-0.119353</td>\n      <td>0.515628</td>\n      <td>1.060409</td>\n      <td>-1.390642</td>\n      <td>0.91447</td>\n      <td>-2.648137</td>\n      <td>1.05796</td>\n      <td>...</td>\n      <td>-0.333287</td>\n      <td>0.966535</td>\n      <td>1.011265</td>\n      <td>-3.206304</td>\n      <td>0.338528</td>\n      <td>-0.981727</td>\n      <td>1.011265</td>\n      <td>-3.206304</td>\n      <td>0.476251</td>\n      <td>-1.380813</td>\n    </tr>\n    <tr>\n      <th>39</th>\n      <td>20140305</td>\n      <td>000985.SH</td>\n      <td>0.993038</td>\n      <td>-0.577564</td>\n      <td>0.515628</td>\n      <td>1.054285</td>\n      <td>-1.390642</td>\n      <td>0.91447</td>\n      <td>-2.648137</td>\n      <td>1.05185</td>\n      <td>...</td>\n      <td>-0.333287</td>\n      <td>0.966535</td>\n      <td>1.005424</td>\n      <td>-3.206304</td>\n      <td>0.338528</td>\n      <td>-0.981727</td>\n      <td>1.005424</td>\n      <td>-3.206304</td>\n      <td>0.476251</td>\n      <td>-1.380813</td>\n    </tr>\n    <tr>\n      <th>40</th>\n      <td>20140306</td>\n      <td>000985.SH</td>\n      <td>0.995065</td>\n      <td>-0.577564</td>\n      <td>0.515628</td>\n      <td>1.056437</td>\n      <td>-1.390642</td>\n      <td>0.91447</td>\n      <td>-2.648137</td>\n      <td>1.049703</td>\n      <td>...</td>\n      <td>-0.333287</td>\n      <td>0.966535</td>\n      <td>1.007476</td>\n      <td>-3.206304</td>\n      <td>0.338528</td>\n      <td>-0.981727</td>\n      <td>1.007476</td>\n      <td>-3.206304</td>\n      <td>0.476251</td>\n      <td>-1.380813</td>\n    </tr>\n    <tr>\n      <th>41</th>\n      <td>20140307</td>\n      <td>000985.SH</td>\n      <td>0.992266</td>\n      <td>-0.577564</td>\n      <td>0.515628</td>\n      <td>1.059408</td>\n      <td>-1.390642</td>\n      <td>0.91447</td>\n      <td>-2.648137</td>\n      <td>1.04675</td>\n      <td>...</td>\n      <td>-0.333287</td>\n      <td>0.966535</td>\n      <td>1.004643</td>\n      <td>-3.206304</td>\n      <td>0.338528</td>\n      <td>-0.981727</td>\n      <td>1.004643</td>\n      <td>-3.206304</td>\n      <td>0.476251</td>\n      <td>-1.380813</td>\n    </tr>\n    <tr>\n      <th>42</th>\n      <td>20140310</td>\n      <td>000985.SH</td>\n      <td>0.957808</td>\n      <td>-3.472673</td>\n      <td>0.515628</td>\n      <td>1.022618</td>\n      <td>-3.472673</td>\n      <td>0.91447</td>\n      <td>-2.648137</td>\n      <td>1.0104</td>\n      <td>...</td>\n      <td>-0.333287</td>\n      <td>0.966535</td>\n      <td>0.969755</td>\n      <td>-3.472673</td>\n      <td>0.338528</td>\n      <td>-0.981727</td>\n      <td>0.969755</td>\n      <td>-3.472673</td>\n      <td>0.476251</td>\n      <td>-1.380813</td>\n    </tr>\n    <tr>\n      <th>...</th>\n      <td>...</td>\n      <td>...</td>\n      <td>...</td>\n      <td>...</td>\n      <td>...</td>\n      <td>...</td>\n      <td>...</td>\n      <td>...</td>\n      <td>...</td>\n      <td>...</td>\n      <td>...</td>\n      <td>...</td>\n      <td>...</td>\n      <td>...</td>\n      <td>...</td>\n      <td>...</td>\n      <td>...</td>\n      <td>...</td>\n      <td>...</td>\n      <td>...</td>\n      <td>...</td>\n    </tr>\n    <tr>\n      <th>1939</th>\n      <td>20211227</td>\n      <td>000985.SH</td>\n      <td>2.022546</td>\n      <td>-8.187696</td>\n      <td>0.515628</td>\n      <td>4.405193</td>\n      <td>-8.187696</td>\n      <td>0.91447</td>\n      <td>-2.648137</td>\n      <td>0.571006</td>\n      <td>...</td>\n      <td>-0.333287</td>\n      <td>0.966535</td>\n      <td>1.511618</td>\n      <td>-8.187696</td>\n      <td>0.338528</td>\n      <td>-0.981727</td>\n      <td>1.911002</td>\n      <td>-8.187696</td>\n      <td>0.476251</td>\n      <td>-1.380813</td>\n    </tr>\n    <tr>\n      <th>1940</th>\n      <td>20211228</td>\n      <td>000985.SH</td>\n      <td>2.037039</td>\n      <td>-8.187696</td>\n      <td>0.515628</td>\n      <td>4.373627</td>\n      <td>-8.187696</td>\n      <td>0.91447</td>\n      <td>-2.648137</td>\n      <td>0.575098</td>\n      <td>...</td>\n      <td>-0.333287</td>\n      <td>0.966535</td>\n      <td>1.500786</td>\n      <td>-8.187696</td>\n      <td>0.338528</td>\n      <td>-0.981727</td>\n      <td>1.897308</td>\n      <td>-8.187696</td>\n      <td>0.476251</td>\n      <td>-1.380813</td>\n    </tr>\n    <tr>\n      <th>1941</th>\n      <td>20211229</td>\n      <td>000985.SH</td>\n      <td>2.018482</td>\n      <td>-8.187696</td>\n      <td>0.515628</td>\n      <td>4.333783</td>\n      <td>-8.187696</td>\n      <td>0.91447</td>\n      <td>-2.648137</td>\n      <td>0.580337</td>\n      <td>...</td>\n      <td>-0.333287</td>\n      <td>0.966535</td>\n      <td>1.514458</td>\n      <td>-8.187696</td>\n      <td>0.338528</td>\n      <td>-0.981727</td>\n      <td>1.914592</td>\n      <td>-8.187696</td>\n      <td>0.476251</td>\n      <td>-1.380813</td>\n    </tr>\n    <tr>\n      <th>1942</th>\n      <td>20211230</td>\n      <td>000985.SH</td>\n      <td>2.035618</td>\n      <td>-8.187696</td>\n      <td>0.515628</td>\n      <td>4.29699</td>\n      <td>-8.187696</td>\n      <td>0.91447</td>\n      <td>-2.648137</td>\n      <td>0.57541</td>\n      <td>...</td>\n      <td>-0.333287</td>\n      <td>0.966535</td>\n      <td>1.501601</td>\n      <td>-8.187696</td>\n      <td>0.338528</td>\n      <td>-0.981727</td>\n      <td>1.930847</td>\n      <td>-8.187696</td>\n      <td>0.476251</td>\n      <td>-1.380813</td>\n    </tr>\n    <tr>\n      <th>1943</th>\n      <td>20211231</td>\n      <td>000985.SH</td>\n      <td>2.047460</td>\n      <td>-8.187696</td>\n      <td>0.515628</td>\n      <td>4.271993</td>\n      <td>-8.187696</td>\n      <td>0.91447</td>\n      <td>-2.648137</td>\n      <td>0.572063</td>\n      <td>...</td>\n      <td>-0.333287</td>\n      <td>0.966535</td>\n      <td>1.492865</td>\n      <td>-8.187696</td>\n      <td>0.338528</td>\n      <td>-0.981727</td>\n      <td>1.919614</td>\n      <td>-8.187696</td>\n      <td>0.476251</td>\n      <td>-1.380813</td>\n    </tr>\n  </tbody>\n</table>\n<p>1906 rows × 69 columns</p>\n</div>"
     },
     "execution_count": 4,
     "metadata": {},
     "output_type": "execute_result"
    }
   ],
   "source": [
    "def ma_strategy(df, factor_list, window_list):\n",
    "    \"\"\"\n",
    "    用均值策略作为买入卖出信号\n",
    "    :param df: 因子数据\n",
    "    :param factor_list: 待选决策因子\n",
    "    :param window_list: 待选决策窗口\n",
    "    :return:\n",
    "    \"\"\"\n",
    "    out_list = []\n",
    "    # 循环因子和窗口\n",
    "    for w in window_list:\n",
    "        for f in factor_list:\n",
    "            # 排序\n",
    "            df.sort_values('trade_date', inplace=True)\n",
    "            # MA均值计算\n",
    "            df[f'{f}_ma_{w}'] = (df['img_neg'].rolling(w).mean())\n",
    "\n",
    "            # 形成投资信号\n",
    "            df[f'{f}_sell_signal_ma_{w}'] = df[f] >= df[f'{f}_ma_{w}']\n",
    "            df[f'{f}_sell_signal_ma_{w}'] = df[f'{f}_sell_signal_ma_{w}'].shift(1)  # 向前移动一天,使用历史信息\n",
    "\n",
    "            # 卖空指数操作\n",
    "            df[f'{f}_return_ma_{w}'] = np.where(df[f'{f}_sell_signal_ma_{w}'], -1 * (df[f'{f}_sell_signal_ma_{w}'] * df['close_chg']),\n",
    "                                                df['close_chg'])\n",
    "\n",
    "            # 计算累积市值\n",
    "            df[f'{f}_mv_ma_{w}'] = ((df[f'{f}_return_ma_{w}'] + 100) / 100).cumprod(axis=0)\n",
    "\n",
    "            # 计算最大回撤\n",
    "            df[f'{f}_mdd_ma_{w}'] = df[f'{f}_return_ma_{w}'].cummin(axis=0)\n",
    "\n",
    "            # 计算夏普比率\n",
    "            df[f'{f}_sharp_ma_{w}'] = (df[f'{f}_return_ma_{w}'].mean()) / df[f'{f}_return_ma_{w}'].std(ddof=0) * np.sqrt(250)\n",
    "\n",
    "            # 卡玛比率\n",
    "            df[f'{f}_kama_ma_{w}'] = (df[f'{f}_return_ma_{w}'].mean() * 250) / (df[f'{f}_mdd_ma_{w}'].min())\n",
    "\n",
    "            # 输出值列表\n",
    "            out_list += [f'{f}_mv_ma_{w}', f'{f}_mdd_ma_{w}', f'{f}_sharp_ma_{w}', f'{f}_kama_ma_{w}']\n",
    "\n",
    "    # 去掉空行(MA行)\n",
    "    df.dropna(axis=0, inplace=True)\n",
    "\n",
    "    # 对比基准\n",
    "    df['mv_shareindex'] = ((df['close_chg'] + 100) / 100).cumprod(axis=0)\n",
    "    df['mdd_shareindex'] = df['close_chg'].cummin(axis=0)\n",
    "    df['sharp_shareindex'] = (df['close_chg'].mean()) / df['close_chg'].std(ddof=0) * np.sqrt(250)\n",
    "\n",
    "    return df[['trade_date', 'ts_code', 'mv_shareindex', 'mdd_shareindex', 'sharp_shareindex'] + out_list]\n",
    "\n",
    "\n",
    "#ma策略\n",
    "ma_strategy(df_data, ['img_neg', 'tex_neg', 'SENT_INDEX', 'SENT_INDEX_R'], [5, 10, 15, 20])\n"
   ],
   "metadata": {
    "collapsed": false
   }
  },
  {
   "cell_type": "code",
   "execution_count": null,
   "outputs": [],
   "source": [],
   "metadata": {
    "collapsed": false
   }
  }
 ],
 "metadata": {
  "kernelspec": {
   "name": "pytorch",
   "language": "python",
   "display_name": "Rapids"
  },
  "language_info": {
   "codemirror_mode": {
    "name": "ipython",
    "version": 2
   },
   "file_extension": ".py",
   "mimetype": "text/x-python",
   "name": "python",
   "nbconvert_exporter": "python",
   "pygments_lexer": "ipython2",
   "version": "2.7.6"
  }
 },
 "nbformat": 4,
 "nbformat_minor": 0
}
