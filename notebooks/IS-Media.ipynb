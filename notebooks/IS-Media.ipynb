{
 "cells": [
  {
   "cell_type": "markdown",
   "source": [
    "# 媒体情绪专题"
   ],
   "metadata": {
    "collapsed": false
   }
  },
  {
   "cell_type": "markdown",
   "source": [
    "## 1.数据准备\n",
    "风险偏好\n",
    "事件"
   ],
   "metadata": {
    "collapsed": false
   }
  },
  {
   "cell_type": "code",
   "execution_count": 1,
   "outputs": [
    {
     "name": "stdout",
     "output_type": "stream",
     "text": [
      "\n",
      "  ___  ____  ____  ____  ____ ©\n",
      " /__    /   ____/   /   ____/      17.0\n",
      "___/   /   /___/   /   /___/       MP—Parallel Edition\n",
      "\n",
      " Statistics and Data Science       Copyright 1985-2021 StataCorp LLC\n",
      "                                   StataCorp\n",
      "                                   4905 Lakeway Drive\n",
      "                                   College Station, Texas 77845 USA\n",
      "                                   800-STATA-PC        https://www.stata.com\n",
      "                                   979-696-4600        stata@stata.com\n",
      "\n",
      "Stata license: Single-user 8-core , expiring  1 Jan 2025\n",
      "Serial number: 501709301094\n",
      "  Licensed to: Colin's Stata\n",
      "               Love U\n",
      "\n",
      "Notes:\n",
      "      1. Unicode is supported; see help unicode_advice.\n",
      "      2. More than 2 billion observations are allowed; see help obs_advice.\n",
      "      3. Maximum number of variables is set to 5,000; see help set_maxvar.\n"
     ]
    }
   ],
   "source": [
    "import sys\n",
    "import os\n",
    "import numpy as np\n",
    "import cudf  #CUDA计算\n",
    "import pandas as pd\n",
    "\n",
    "# 自行编写的包\n",
    "sys.path.append('/home/ubuntu/notebook/Investor-Sentiment')\n",
    "sys.path.append('/usr/local/stata17/utilities')\n",
    "\n",
    "# 多核 groupby Apply\n",
    "# from pandarallel import pandarallel\n",
    "\n",
    "# 数据库\n",
    "from utils.sql import DB\n",
    "from loader.findata_loader import DownLoader\n",
    "from loader.findata_loader import Loader\n",
    "\n",
    "# 统计工具\n",
    "# from statsmodels.regression.rolling import RollingOLS  #滚动回归\n",
    "# from statsmodels.regression.linear_model import OLS  #OLS回归\n",
    "# Stata\n",
    "from pystata import config\n",
    "\n",
    "config.init('mp')\n",
    "\n",
    "# ------------------------------数据集路径----------------------------------#\n",
    "DATASETS_PATH = '/data/DataSets/investor_sentiment/'"
   ],
   "metadata": {
    "collapsed": false
   }
  },
  {
   "cell_type": "markdown",
   "source": [
    "### 1.1 下载和合并面板数据"
   ],
   "metadata": {
    "collapsed": false
   }
  },
  {
   "cell_type": "code",
   "execution_count": 2,
   "outputs": [
    {
     "name": "stderr",
     "output_type": "stream",
     "text": [
      "  0%|          | 0/5039 [00:00<?, ?it/s]\n",
      "  0%|          | 0/5039 [00:00<?, ?it/s]\u001B[A\n",
      "100%|██████████| 5039/5039 [00:00<00:00, 31654.72it/s]\u001B[A\n"
     ]
    },
    {
     "ename": "KeyboardInterrupt",
     "evalue": "",
     "output_type": "error",
     "traceback": [
      "\u001B[0;31m---------------------------------------------------------------------------\u001B[0m",
      "\u001B[0;31mKeyboardInterrupt\u001B[0m                         Traceback (most recent call last)",
      "Cell \u001B[0;32mIn [2], line 2\u001B[0m\n\u001B[1;32m      1\u001B[0m \u001B[38;5;66;03m# 数据集:个股K线面板数据,个股基本面数据\u001B[39;00m\n\u001B[0;32m----> 2\u001B[0m \u001B[43mDownLoader\u001B[49m\u001B[43m(\u001B[49m\u001B[43m)\u001B[49m\u001B[38;5;241;43m.\u001B[39;49m\u001B[43mload_data\u001B[49m\u001B[43m(\u001B[49m\u001B[43m)\u001B[49m\n\u001B[1;32m      4\u001B[0m data_loader \u001B[38;5;241m=\u001B[39m Loader()\n",
      "File \u001B[0;32m~/notebook/Investor-Sentiment/loader/findata_loader.py:251\u001B[0m, in \u001B[0;36mDownLoader.load_data\u001B[0;34m(self)\u001B[0m\n\u001B[1;32m    245\u001B[0m         \u001B[38;5;28;01mif\u001B[39;00m \u001B[38;5;129;01mnot\u001B[39;00m os\u001B[38;5;241m.\u001B[39mpath\u001B[38;5;241m.\u001B[39mexists(\u001B[38;5;124mf\u001B[39m\u001B[38;5;124m'\u001B[39m\u001B[38;5;124m/data/DataSets/investor_sentiment/\u001B[39m\u001B[38;5;132;01m{\u001B[39;00mpanel_table\u001B[38;5;132;01m}\u001B[39;00m\u001B[38;5;124m.parquet\u001B[39m\u001B[38;5;124m'\u001B[39m):\n\u001B[1;32m    246\u001B[0m             (pd\u001B[38;5;241m.\u001B[39mread_sql_table(panel_table, \u001B[38;5;28mself\u001B[39m\u001B[38;5;241m.\u001B[39mENGINE, \u001B[38;5;124m'\u001B[39m\u001B[38;5;124mFIN_PANEL_DATA\u001B[39m\u001B[38;5;124m'\u001B[39m)\n\u001B[1;32m    247\u001B[0m              \u001B[38;5;241m.\u001B[39mastype(dtype\u001B[38;5;241m=\u001B[39m{\u001B[38;5;124m'\u001B[39m\u001B[38;5;124mts_code\u001B[39m\u001B[38;5;124m'\u001B[39m: \u001B[38;5;124m'\u001B[39m\u001B[38;5;124mcategory\u001B[39m\u001B[38;5;124m'\u001B[39m, \u001B[38;5;124m'\u001B[39m\u001B[38;5;124mtrade_date\u001B[39m\u001B[38;5;124m'\u001B[39m: \u001B[38;5;124m'\u001B[39m\u001B[38;5;124muint32\u001B[39m\u001B[38;5;124m'\u001B[39m, })\n\u001B[1;32m    248\u001B[0m              \u001B[38;5;241m.\u001B[39mset_index([\u001B[38;5;124m'\u001B[39m\u001B[38;5;124mtrade_date\u001B[39m\u001B[38;5;124m'\u001B[39m, \u001B[38;5;124m'\u001B[39m\u001B[38;5;124mts_code\u001B[39m\u001B[38;5;124m'\u001B[39m])\n\u001B[1;32m    249\u001B[0m              \u001B[38;5;241m.\u001B[39mto_parquet(\u001B[38;5;124mf\u001B[39m\u001B[38;5;124m'\u001B[39m\u001B[38;5;124m/data/DataSets/investor_sentiment/\u001B[39m\u001B[38;5;132;01m{\u001B[39;00mpanel_table\u001B[38;5;132;01m}\u001B[39;00m\u001B[38;5;124m.parquet\u001B[39m\u001B[38;5;124m'\u001B[39m, engine\u001B[38;5;241m=\u001B[39m\u001B[38;5;124m'\u001B[39m\u001B[38;5;124mpyarrow\u001B[39m\u001B[38;5;124m'\u001B[39m, index\u001B[38;5;241m=\u001B[39m\u001B[38;5;28;01mTrue\u001B[39;00m))\n\u001B[0;32m--> 251\u001B[0m \u001B[43mload_daily_data\u001B[49m\u001B[43m(\u001B[49m\u001B[43m)\u001B[49m\n\u001B[1;32m    252\u001B[0m merge_panel_data()\n\u001B[1;32m    253\u001B[0m transform_parquet()\n",
      "File \u001B[0;32m~/notebook/Investor-Sentiment/loader/findata_loader.py:215\u001B[0m, in \u001B[0;36mDownLoader.load_data.<locals>.load_daily_data\u001B[0;34m()\u001B[0m\n\u001B[1;32m    213\u001B[0m \u001B[38;5;28;01mdef\u001B[39;00m \u001B[38;5;21mload_daily_data\u001B[39m():\n\u001B[1;32m    214\u001B[0m     \u001B[38;5;66;03m# A股K线数据\u001B[39;00m\n\u001B[0;32m--> 215\u001B[0m     \u001B[38;5;28;43mself\u001B[39;49m\u001B[38;5;241;43m.\u001B[39;49m\u001B[43mload_daily_data\u001B[49m\u001B[43m(\u001B[49m\u001B[38;5;124;43m'\u001B[39;49m\u001B[38;5;124;43mpro_bar_e\u001B[39;49m\u001B[38;5;124;43m'\u001B[39;49m\u001B[43m,\u001B[49m\u001B[43m \u001B[49m\u001B[38;5;124;43m'\u001B[39;49m\u001B[38;5;124;43mFIN_DAILY_BAR\u001B[39;49m\u001B[38;5;124;43m'\u001B[39;49m\u001B[43m)\u001B[49m\n\u001B[1;32m    216\u001B[0m     \u001B[38;5;66;03m# A股基本面数据\u001B[39;00m\n\u001B[1;32m    217\u001B[0m     \u001B[38;5;28mself\u001B[39m\u001B[38;5;241m.\u001B[39mload_daily_data(\u001B[38;5;124m'\u001B[39m\u001B[38;5;124mpro_bar_i\u001B[39m\u001B[38;5;124m'\u001B[39m, \u001B[38;5;124m'\u001B[39m\u001B[38;5;124mFIN_DAILY_INDEX\u001B[39m\u001B[38;5;124m'\u001B[39m)\n",
      "File \u001B[0;32m~/notebook/Investor-Sentiment/loader/findata_loader.py:138\u001B[0m, in \u001B[0;36mDownLoader.load_daily_data\u001B[0;34m(self, daily_api, to_schema)\u001B[0m\n\u001B[1;32m    135\u001B[0m         \u001B[38;5;28mprint\u001B[39m(e)\n\u001B[1;32m    137\u001B[0m \u001B[38;5;66;03m# 迭代下载\u001B[39;00m\n\u001B[0;32m--> 138\u001B[0m \u001B[38;5;28;43mself\u001B[39;49m\u001B[38;5;241;43m.\u001B[39;49m\u001B[43mstart_multi_task\u001B[49m\u001B[43m(\u001B[49m\u001B[43mload_code\u001B[49m\u001B[43m,\u001B[49m\u001B[43m \u001B[49m\u001B[43mget_code_list\u001B[49m\u001B[43m(\u001B[49m\u001B[43m)\u001B[49m\u001B[43m)\u001B[49m\n",
      "File \u001B[0;32m~/notebook/Investor-Sentiment/loader/findata_loader.py:62\u001B[0m, in \u001B[0;36mDownLoader.start_multi_task\u001B[0;34m(self, func, task_list)\u001B[0m\n\u001B[1;32m     60\u001B[0m futures \u001B[38;5;241m=\u001B[39m [executor\u001B[38;5;241m.\u001B[39msubmit(func, task) \u001B[38;5;28;01mfor\u001B[39;00m task \u001B[38;5;129;01min\u001B[39;00m tqdm(task_list)]\n\u001B[1;32m     61\u001B[0m \u001B[38;5;28;01mfor\u001B[39;00m future \u001B[38;5;129;01min\u001B[39;00m futures:\n\u001B[0;32m---> 62\u001B[0m     future\u001B[38;5;241m.\u001B[39madd_done_callback(progress_indicator)\n",
      "File \u001B[0;32m/usr/local/miniconda3/envs/Stata/lib/python3.9/concurrent/futures/_base.py:637\u001B[0m, in \u001B[0;36mExecutor.__exit__\u001B[0;34m(self, exc_type, exc_val, exc_tb)\u001B[0m\n\u001B[1;32m    636\u001B[0m \u001B[38;5;28;01mdef\u001B[39;00m \u001B[38;5;21m__exit__\u001B[39m(\u001B[38;5;28mself\u001B[39m, exc_type, exc_val, exc_tb):\n\u001B[0;32m--> 637\u001B[0m     \u001B[38;5;28;43mself\u001B[39;49m\u001B[38;5;241;43m.\u001B[39;49m\u001B[43mshutdown\u001B[49m\u001B[43m(\u001B[49m\u001B[43mwait\u001B[49m\u001B[38;5;241;43m=\u001B[39;49m\u001B[38;5;28;43;01mTrue\u001B[39;49;00m\u001B[43m)\u001B[49m\n\u001B[1;32m    638\u001B[0m     \u001B[38;5;28;01mreturn\u001B[39;00m \u001B[38;5;28;01mFalse\u001B[39;00m\n",
      "File \u001B[0;32m/usr/local/miniconda3/envs/Stata/lib/python3.9/concurrent/futures/thread.py:235\u001B[0m, in \u001B[0;36mThreadPoolExecutor.shutdown\u001B[0;34m(self, wait, cancel_futures)\u001B[0m\n\u001B[1;32m    233\u001B[0m \u001B[38;5;28;01mif\u001B[39;00m wait:\n\u001B[1;32m    234\u001B[0m     \u001B[38;5;28;01mfor\u001B[39;00m t \u001B[38;5;129;01min\u001B[39;00m \u001B[38;5;28mself\u001B[39m\u001B[38;5;241m.\u001B[39m_threads:\n\u001B[0;32m--> 235\u001B[0m         \u001B[43mt\u001B[49m\u001B[38;5;241;43m.\u001B[39;49m\u001B[43mjoin\u001B[49m\u001B[43m(\u001B[49m\u001B[43m)\u001B[49m\n",
      "File \u001B[0;32m/usr/local/miniconda3/envs/Stata/lib/python3.9/threading.py:1060\u001B[0m, in \u001B[0;36mThread.join\u001B[0;34m(self, timeout)\u001B[0m\n\u001B[1;32m   1057\u001B[0m     \u001B[38;5;28;01mraise\u001B[39;00m \u001B[38;5;167;01mRuntimeError\u001B[39;00m(\u001B[38;5;124m\"\u001B[39m\u001B[38;5;124mcannot join current thread\u001B[39m\u001B[38;5;124m\"\u001B[39m)\n\u001B[1;32m   1059\u001B[0m \u001B[38;5;28;01mif\u001B[39;00m timeout \u001B[38;5;129;01mis\u001B[39;00m \u001B[38;5;28;01mNone\u001B[39;00m:\n\u001B[0;32m-> 1060\u001B[0m     \u001B[38;5;28;43mself\u001B[39;49m\u001B[38;5;241;43m.\u001B[39;49m\u001B[43m_wait_for_tstate_lock\u001B[49m\u001B[43m(\u001B[49m\u001B[43m)\u001B[49m\n\u001B[1;32m   1061\u001B[0m \u001B[38;5;28;01melse\u001B[39;00m:\n\u001B[1;32m   1062\u001B[0m     \u001B[38;5;66;03m# the behavior of a negative timeout isn't documented, but\u001B[39;00m\n\u001B[1;32m   1063\u001B[0m     \u001B[38;5;66;03m# historically .join(timeout=x) for x<0 has acted as if timeout=0\u001B[39;00m\n\u001B[1;32m   1064\u001B[0m     \u001B[38;5;28mself\u001B[39m\u001B[38;5;241m.\u001B[39m_wait_for_tstate_lock(timeout\u001B[38;5;241m=\u001B[39m\u001B[38;5;28mmax\u001B[39m(timeout, \u001B[38;5;241m0\u001B[39m))\n",
      "File \u001B[0;32m/usr/local/miniconda3/envs/Stata/lib/python3.9/threading.py:1080\u001B[0m, in \u001B[0;36mThread._wait_for_tstate_lock\u001B[0;34m(self, block, timeout)\u001B[0m\n\u001B[1;32m   1077\u001B[0m     \u001B[38;5;28;01mreturn\u001B[39;00m\n\u001B[1;32m   1079\u001B[0m \u001B[38;5;28;01mtry\u001B[39;00m:\n\u001B[0;32m-> 1080\u001B[0m     \u001B[38;5;28;01mif\u001B[39;00m \u001B[43mlock\u001B[49m\u001B[38;5;241;43m.\u001B[39;49m\u001B[43macquire\u001B[49m\u001B[43m(\u001B[49m\u001B[43mblock\u001B[49m\u001B[43m,\u001B[49m\u001B[43m \u001B[49m\u001B[43mtimeout\u001B[49m\u001B[43m)\u001B[49m:\n\u001B[1;32m   1081\u001B[0m         lock\u001B[38;5;241m.\u001B[39mrelease()\n\u001B[1;32m   1082\u001B[0m         \u001B[38;5;28mself\u001B[39m\u001B[38;5;241m.\u001B[39m_stop()\n",
      "\u001B[0;31mKeyboardInterrupt\u001B[0m: "
     ]
    }
   ],
   "source": [
    "# 数据集:个股K线面板数据,个股基本面数据\n",
    "DownLoader().load_data()\n",
    "\n",
    "data_loader = Loader()"
   ],
   "metadata": {
    "collapsed": false
   }
  },
  {
   "cell_type": "markdown",
   "source": [
    "其他时间序列数据源"
   ],
   "metadata": {
    "collapsed": false
   }
  },
  {
   "cell_type": "markdown",
   "source": [
    "#### 指数盈利预测面板数据"
   ],
   "metadata": {
    "collapsed": false
   }
  },
  {
   "cell_type": "code",
   "execution_count": null,
   "outputs": [],
   "source": [
    "data_loader.get_conidx_panel()"
   ],
   "metadata": {
    "collapsed": false
   }
  },
  {
   "cell_type": "markdown",
   "source": [
    "#### A股基本面面板数据"
   ],
   "metadata": {
    "collapsed": false
   }
  },
  {
   "cell_type": "code",
   "execution_count": null,
   "outputs": [],
   "source": [
    "data_loader.get_ashare_panel()"
   ],
   "metadata": {
    "collapsed": false
   }
  },
  {
   "cell_type": "markdown",
   "source": [
    "#### 指数基本面面板数据"
   ],
   "metadata": {
    "collapsed": false
   }
  },
  {
   "cell_type": "code",
   "execution_count": null,
   "outputs": [],
   "source": [
    "data_loader.get_index_panel()"
   ],
   "metadata": {
    "collapsed": false
   }
  },
  {
   "cell_type": "markdown",
   "source": [
    "#### 时间序列数据"
   ],
   "metadata": {
    "collapsed": false
   }
  },
  {
   "cell_type": "code",
   "execution_count": null,
   "outputs": [],
   "source": [
    "data_loader.get_time_series()"
   ],
   "metadata": {
    "collapsed": false
   }
  },
  {
   "cell_type": "code",
   "execution_count": null,
   "outputs": [],
   "source": [
    "# @formatter:on"
   ],
   "metadata": {
    "collapsed": false
   }
  },
  {
   "cell_type": "markdown",
   "source": [
    "## 3.截面效应分析"
   ],
   "metadata": {
    "collapsed": false
   }
  },
  {
   "cell_type": "markdown",
   "source": [
    "#### 3.1 计算面板数据的异质波动率"
   ],
   "metadata": {
    "collapsed": false
   }
  },
  {
   "cell_type": "markdown",
   "source": [
    "提取用于回归的数据"
   ],
   "metadata": {
    "collapsed": false
   }
  },
  {
   "cell_type": "code",
   "execution_count": null,
   "outputs": [],
   "source": [
    "data_loader.get_cross_panel_reg()"
   ],
   "metadata": {
    "collapsed": false
   }
  },
  {
   "cell_type": "code",
   "execution_count": null,
   "outputs": [],
   "source": [
    "# 滚动OLS回归求异质波动率\n",
    "def roll_idvol(df_code: pd.DataFrame, ols_window: int, var_ma: int) -> pd.DataFrame:\n",
    "    try:\n",
    "        # 估计参数\n",
    "        model_ols = RollingOLS(endog=df_code[['Y']], exog=df_code[['CONST', 'X']], window=ols_window)\n",
    "        df_para = model_ols.fit().params.rename(columns={'CONST': 'Alpha', 'X': 'Beta'})\n",
    "\n",
    "        # 预测残差 已经对齐了\n",
    "        df_con = pd.concat([df_code, df_para], axis=1, join='inner')\n",
    "        df_con['Residual'] = df_con['Alpha'] + df_con['Beta'] * df_con['X'] - df_con['Y']\n",
    "\n",
    "        # 计算月波动率\n",
    "        df_con['Idvol'] = df_con['Residual'].rolling(var_ma).var(ddof=1)\n",
    "        return df_con[['share_return', 'total_mv', 'Idvol']]\n",
    "    except (IndexError, ValueError): return pd.DataFrame(columns=['trade_date', 'ts_code']).set_index(['trade_date', 'ts_code'])\n",
    "\n",
    "\n",
    "# 分组计算\n",
    "def cal_panel_ols():\n",
    "    df_panel = data_loader.get_cross_panel_reg()\n",
    "    # 定义回归变量 CAPM回归: (rm-rf)=a+b*(RM-rf)\n",
    "    df_panel['Y'] = df_panel['share_return'] - df_panel['riskfree_return']\n",
    "    df_panel['CONST'] = 1  # 带截距项回归\n",
    "    df_panel['X'] = df_panel['shareindex_return'] - df_panel['riskfree_return']\n",
    "\n",
    "    # 多线程加速\n",
    "    pandarallel.initialize(progress_bar=True)\n",
    "    df_out = (df_panel.groupby(level=['ts_code'])[['share_return', 'total_mv', 'Y', 'CONST', 'X']]\n",
    "              .parallel_apply(lambda x: roll_idvol(x, 5, 30)).droplevel(2)\n",
    "              )\n",
    "    # 保存\n",
    "    df_out.to_parquet(f'{DATASETS_PATH}ASHARE_OLS_PANEL.parquet', engine='pyarrow', index=True)\n",
    "\n",
    "\n",
    "# 计算滚动回归\n",
    "if not os.path.exists(f'{DATASETS_PATH}ASHARE_OLS_PANEL.parquet'): cal_panel_ols()\n",
    "\n",
    "# 加载滚动回归的面板数据集\n",
    "df_ols_panel = (\n",
    "        cudf.read_parquet(f'{DATASETS_PATH}ASHARE_OLS_PANEL.parquet').reset_index().set_index(['trade_date', 'ts_code']).sort_index()\n",
    "        .rename(columns={'Idvol': 'idvol'})\n",
    ")\n",
    "df_ols_panel"
   ],
   "metadata": {
    "collapsed": false
   }
  },
  {
   "cell_type": "markdown",
   "source": [
    "### 3.2 面板数据分组"
   ],
   "metadata": {
    "collapsed": false
   }
  },
  {
   "cell_type": "code",
   "execution_count": null,
   "outputs": [],
   "source": [
    "# 参数阈值\n",
    "QUANTILE = 0.5\n",
    "\n",
    "\n",
    "# 面板数据分组\n",
    "def group_ols_panel(df, group_col: str):\n",
    "    \"\"\"\n",
    "    :param df:\n",
    "    :param group_col:分组变量\n",
    "    \"\"\"\n",
    "    # 分组\n",
    "    df[f'{group_col}_split'] = df[group_col].groupby(level=['trade_date']).transform(lambda x: x.quantile(QUANTILE))\n",
    "    df[f'{group_col}_group'] = np.where(df[group_col].to_pandas() >= df[f'{group_col}_split'].to_pandas(),\n",
    "                                        f'{group_col}_high', f'{group_col}_low')\n",
    "    # 重新设定分组索引\n",
    "    df = df.reset_index().set_index(['trade_date', f'{group_col}_group', 'ts_code']).sort_index()\n",
    "\n",
    "    # 求组中市值加权系数\n",
    "    df[f'{group_col}_mv_ratio'] = df['total_mv'] / df.groupby(level=['trade_date', f'{group_col}_group'])['total_mv'].transform('sum')\n",
    "\n",
    "    # 求组中回报\n",
    "    df[f'{group_col}_vw_return'] = df[f'{group_col}_mv_ratio'] * df['share_return']\n",
    "    df[f'{group_col}_group_return'] = (df.groupby(level=['trade_date', f'{group_col}_group'])[f'{group_col}_vw_return']\n",
    "                                       .transform('sum'))\n",
    "\n",
    "    # 重置索引\n",
    "    return df.reset_index(f'{group_col}_group')\n",
    "\n",
    "\n",
    "# 循环分组,最后处理成时间序列数据\n",
    "def group_cols(df, columns: list):\n",
    "    # 用于分组\n",
    "    df_temp = df\n",
    "\n",
    "    # 求组中市值加权回报\n",
    "    for col in columns: df_temp = group_ols_panel(df_temp, col)\n",
    "\n",
    "    # 筛选\n",
    "    df_temp = df_temp[[i + '_group' for i in columns] + [i + '_group_return' for i in columns]]\n",
    "\n",
    "    # 保留唯一的组合 2^N\n",
    "    df_time_panel = (df_temp.reset_index().groupby(['trade_date'] + [i + '_group' for i in columns]).first())\n",
    "\n",
    "    # 转为时间序列数据\n",
    "    df_time = cudf.DataFrame()\n",
    "    for col in columns: df_time = cudf.concat([df_time,\n",
    "                                               df_time_panel.groupby(level=['trade_date', f'{col}_group']).first().reset_index()\n",
    "                                              .pivot(index='trade_date', columns=f'{col}_group', values=f'{col}_group_return')],\n",
    "                                              join=\"left\", axis=1, sort=True)\n",
    "    # 高减低\n",
    "    # for col in columns: df_time[f'{col}_mid'] = df_time[f'{col}_high'] - df_time[f'{col}_low']\n",
    "\n",
    "    return df_time\n",
    "\n",
    "\n",
    "df_group_time = group_cols(df_ols_panel, ['total_mv', 'idvol'])\n",
    "df_group_time"
   ],
   "metadata": {
    "collapsed": false
   }
  },
  {
   "cell_type": "markdown",
   "source": [
    "## 4. VAR模型分析"
   ],
   "metadata": {
    "collapsed": false
   }
  },
  {
   "cell_type": "markdown",
   "source": [
    "### 4.1 回归前数据处理"
   ],
   "metadata": {
    "collapsed": false
   }
  },
  {
   "cell_type": "code",
   "execution_count": null,
   "outputs": [],
   "source": [
    "# 增加用于回归的市场指数\n",
    "df_time_join = (\n",
    "        cudf.concat([get_time_series().drop(columns='riskfree_return'), df_group_time,\n",
    "                     # 指数数据\n",
    "                     cudf.from_pandas(get_index_panel()[['shareindex_return']].to_pandas().query(\"ts_code == '000001.SH'\")\n",
    "                                      .reset_index('ts_code', drop=True).rename(columns={'shareindex_return': 'idx_000001'})),\n",
    "                     # 指数数据\n",
    "                     cudf.from_pandas(get_index_panel()[['shareindex_return']].to_pandas().query(\"ts_code == '000300.SH'\")\n",
    "                                      .reset_index('ts_code', drop=True).rename(columns={'shareindex_return': 'idx_000300'})),\n",
    "                     # 指数数据\n",
    "                     cudf.from_pandas(get_index_panel()[['shareindex_return']].to_pandas().query(\"ts_code == '000016.SH'\")\n",
    "                                      .reset_index('ts_code', drop=True).rename(columns={'shareindex_return': 'idx_000016'})),\n",
    "                     # 指数数据\n",
    "                     cudf.from_pandas(get_index_panel()[['shareindex_return']].to_pandas().query(\"ts_code == '399300.SZ'\")\n",
    "                                      .reset_index('ts_code', drop=True).rename(columns={'shareindex_return': 'idx_399300'})),\n",
    "                     ], sort=True, axis=1\n",
    "                    ).dropna(axis=0).to_pandas()\n",
    ")\n",
    "df_time_join"
   ],
   "metadata": {
    "collapsed": false
   }
  },
  {
   "cell_type": "code",
   "execution_count": null,
   "outputs": [],
   "source": [
    "# 增加平方项\n",
    "def add_square_column(df): return pd.concat([df, df.pow(2).add_suffix('_s')], axis=1)\n",
    "\n",
    "\n",
    "# 增加日期虚拟变量\n",
    "def add_dummy_column(df, column: str):\n",
    "    df_weekday = pd.get_dummies(pd.to_datetime(df[column], format='%Y%m%d').dt.weekday, prefix='weekday', drop_first=True)\n",
    "    df_month = pd.get_dummies(pd.to_datetime(df[column], format='%Y%m%d').dt.month, prefix='month', drop_first=True)\n",
    "    return pd.concat([df, df_weekday, df_month], axis=1)\n",
    "\n",
    "\n",
    "# 处理好的用于回归的数据\n",
    "df_series_ols = add_dummy_column(add_square_column(df_time_join).reset_index(), 'trade_date')\n",
    "df_series_ols\n"
   ],
   "metadata": {
    "collapsed": false
   }
  },
  {
   "cell_type": "markdown",
   "source": [
    "### 4.2 回归结果"
   ],
   "metadata": {
    "collapsed": false
   }
  },
  {
   "cell_type": "markdown",
   "source": [],
   "metadata": {
    "collapsed": false
   }
  },
  {
   "cell_type": "code",
   "execution_count": null,
   "outputs": [],
   "source": [
    "# @formatter:off"
   ],
   "metadata": {
    "collapsed": false
   }
  },
  {
   "cell_type": "code",
   "execution_count": null,
   "outputs": [],
   "source": [
    "%%stata -d df_series_ols -force\n",
    "/*{*/\n",
    "//描述性统计\n",
    "logout, save(Outputs/Table_Sum)  replace: ///\n",
    "tabstat *_neg idx_* *_high *_low, s(N sd mean p50 min max ) f(%12.4f) c(s)"
   ],
   "metadata": {
    "collapsed": false
   }
  },
  {
   "cell_type": "markdown",
   "source": [
    "#### 4.2.1 主要股票市场"
   ],
   "metadata": {
    "collapsed": false
   }
  },
  {
   "cell_type": "code",
   "execution_count": null,
   "outputs": [],
   "source": [
    "%%stata -d df_series_ols -force -nogr\n",
    "\n",
    "//时间设定\n",
    "ge time = _n\n",
    "tsset time\n",
    "est clear\n",
    "\n",
    "//VAR回归\n",
    "foreach var in idx_000001 idx_000300 idx_000016 idx_399300    {\n",
    "\n",
    "    rename(`var' `var'_s) (return return_s)\n",
    "    eststo: qui var return img_neg return_s, lags(1/5) exog(month_* weekday_*)\n",
    "    estadd local Month \"Yes\", replace\n",
    "    estadd local Weekday \"Yes\", replace\n",
    "\n",
    "    //绘图\n",
    "    irf creat var, set(Outputs/`var'_img ,replace) step(5)\n",
    "    irf graph oirf, impulse(img_neg) response(return) lstep(0) ustep(5) name(`var'_img,replace)  ///\n",
    "    byopts(note(\"\")) byopts(legend(off)) xtitle(, size(small) margin(zero)) ///\n",
    "    ysc(r(-0.15,0.15)) yline(0) ylabel(#2) ytitle(return, size(small) margin(zero)) scheme(sj)\n",
    "\n",
    "    rename(return return_s) (`var' `var'_s)\n",
    "}\n",
    "/*{*/\n",
    "//输出\n",
    "esttab , keep(return:L*.img_neg) ///\n",
    "star(* 0.1 ** 0.05 *** 0.01) ///\n",
    "stats( Month Weekday  r2_1 N, fmt(%3s %3s %12.4f %12.0f)) b(%12.4f) ///\n",
    "title(\"Table1 Main Market\") mtitle(\"000001.SH\" \"000300.SH\" \"000016.SH\" \"399300.SZ\")  nogap"
   ],
   "metadata": {
    "collapsed": false
   }
  },
  {
   "cell_type": "markdown",
   "source": [
    "脉冲响应曲线"
   ],
   "metadata": {
    "collapsed": false
   }
  },
  {
   "cell_type": "code",
   "execution_count": null,
   "outputs": [],
   "source": [
    "%%stata\n",
    "graph combine idx_000001_img idx_000016_img idx_000300_img idx_399300_img, ///\n",
    "xcommon ycommon name(combine_img, replace) scheme(sj)"
   ],
   "metadata": {
    "collapsed": false
   }
  },
  {
   "cell_type": "markdown",
   "source": [
    "#### 4.2.2 套利限制"
   ],
   "metadata": {
    "collapsed": false
   }
  },
  {
   "cell_type": "code",
   "execution_count": null,
   "outputs": [],
   "source": [
    "%%stata -d df_series_ols -force\n",
    "\n",
    "//时间设定\n",
    "ge time = _n\n",
    "tsset time\n",
    "est clear\n",
    "\n",
    "//VAR回归\n",
    "foreach var in total_mv_high total_mv_low  idvol_high idvol_low {\n",
    "    rename(`var' `var'_s) (return return_s)\n",
    "\n",
    "    eststo: qui var return img_neg return_s, lags(1/5) exog(month_* weekday_*)\n",
    "    estadd local Month \"Yes\", replace\n",
    "    estadd local Weekday \"Yes\", replace\n",
    "\n",
    "    rename(return return_s) (`var' `var'_s)\n",
    "}\n",
    "\n",
    "//输出\n",
    "esttab , keep(return:L*.img_neg) ///\n",
    "star(* 0.1 ** 0.05 *** 0.01) ///\n",
    "stats( Month Weekday  r2_1 N, fmt(%3s %3s %12.4f %12.0f)) b(%12.4f) ///\n",
    "title(\"Table1 Arbitrage Limit\") mtitle(\"HIGH\" \"LOW\" \"HIGH\" \"LOW\")  nogap ///\n",
    "mgroups(\"Market Value\" \"Idiosyncratic Volatility\", pattern(1 0 1 0) ) showtabs"
   ],
   "metadata": {
    "collapsed": false
   }
  },
  {
   "cell_type": "markdown",
   "source": [
    "## 5. 按照观测窗口构造投资策略(暂时不做)"
   ],
   "metadata": {
    "collapsed": false
   }
  },
  {
   "cell_type": "code",
   "execution_count": null,
   "outputs": [],
   "source": [
    "def ma_strategy(df, factor_list, window_list):\n",
    "    \"\"\"\n",
    "    用均值策略作为买入卖出信号\n",
    "    :param df: 因子数据\n",
    "    :param factor_list: 待选决策因子\n",
    "    :param window_list: 待选决策窗口\n",
    "    :return:\n",
    "    \"\"\"\n",
    "    out_list = []\n",
    "    # 循环因子和窗口\n",
    "    for w in window_list:\n",
    "        for f in factor_list:\n",
    "            # MA均值计算\n",
    "            df[f'{f}_ma_{w}'] = (df['img_neg'].rolling(w).mean())\n",
    "\n",
    "            # 形成投资信号\n",
    "            df[f'{f}_sell_signal_ma_{w}'] = df[f] >= df[f'{f}_ma_{w}']\n",
    "            df[f'{f}_sell_signal_ma_{w}'] = df[f'{f}_sell_signal_ma_{w}'].shift(1)  # 向前移动一天,使用历史信息\n",
    "\n",
    "            # 卖空指数操作\n",
    "            df[f'{f}_return_ma_{w}'] = np.where(df[f'{f}_sell_signal_ma_{w}'], -1 * (df[f'{f}_sell_signal_ma_{w}'] * df['close_chg']),\n",
    "                                                df['close_chg'])\n",
    "\n",
    "            # 计算累积市值\n",
    "            df[f'{f}_mv_ma_{w}'] = ((df[f'{f}_return_ma_{w}'] + 100) / 100).cumprod(axis=0)\n",
    "\n",
    "            # 计算最大回撤\n",
    "            df[f'{f}_mdd_ma_{w}'] = df[f'{f}_return_ma_{w}'].cummin(axis=0)\n",
    "\n",
    "            # 计算夏普比率\n",
    "            df[f'{f}_sharp_ma_{w}'] = (df[f'{f}_return_ma_{w}'].mean()) / df[f'{f}_return_ma_{w}'].std(ddof=0) * np.sqrt(250)\n",
    "\n",
    "            # 卡玛比率\n",
    "            df[f'{f}_kama_ma_{w}'] = (df[f'{f}_return_ma_{w}'].mean() * 250) / (df[f'{f}_mdd_ma_{w}'].min())\n",
    "\n",
    "            # 输出值列表\n",
    "            out_list += [f'{f}_mv_ma_{w}', f'{f}_mdd_ma_{w}', f'{f}_sharp_ma_{w}', f'{f}_kama_ma_{w}']\n",
    "\n",
    "    # 去掉空行(MA行)\n",
    "    df.dropna(axis=0, inplace=True)\n",
    "\n",
    "    # 对比基准\n",
    "    df['mv_shareindex'] = ((df['close_chg'] + 100) / 100).cumprod(axis=0)\n",
    "    df['mdd_shareindex'] = df['close_chg'].cummin(axis=0)\n",
    "    df['sharp_shareindex'] = (df['close_chg'].mean()) / df['close_chg'].std(ddof=0) * np.sqrt(250)\n",
    "\n",
    "    return df[['trade_date', 'ts_code', 'mv_shareindex', 'mdd_shareindex', 'sharp_shareindex'] + out_list]\n",
    "\n",
    "\n",
    "#ma策略\n",
    "ma_strategy(df_data, ['img_neg', 'tex_neg', 'SENT_INDEX', 'SENT_INDEX_R'], [5, 10, 15, 20])\n"
   ],
   "metadata": {
    "collapsed": false
   }
  }
 ],
 "metadata": {
  "kernelspec": {
   "name": "pytorch",
   "language": "python",
   "display_name": "Rapids"
  },
  "language_info": {
   "codemirror_mode": {
    "name": "ipython",
    "version": 2
   },
   "file_extension": ".py",
   "mimetype": "text/x-python",
   "name": "python",
   "nbconvert_exporter": "python",
   "pygments_lexer": "ipython2",
   "version": "2.7.6"
  }
 },
 "nbformat": 4,
 "nbformat_minor": 0
}
