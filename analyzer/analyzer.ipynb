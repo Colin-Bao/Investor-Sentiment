{
 "cells": [
  {
   "cell_type": "markdown",
   "source": [
    "# 情绪对股票市场的影响"
   ],
   "metadata": {
    "collapsed": false
   }
  },
  {
   "cell_type": "markdown",
   "source": [
    "## 1.数据准备\n",
    "风险偏好\n",
    "事件"
   ],
   "metadata": {
    "collapsed": false
   }
  },
  {
   "cell_type": "code",
   "execution_count": 1,
   "outputs": [
    {
     "name": "stdout",
     "output_type": "stream",
     "text": [
      "\n",
      "  ___  ____  ____  ____  ____ ©\n",
      " /__    /   ____/   /   ____/      17.0\n",
      "___/   /   /___/   /   /___/       MP—Parallel Edition\n",
      "\n",
      " Statistics and Data Science       Copyright 1985-2021 StataCorp LLC\n",
      "                                   StataCorp\n",
      "                                   4905 Lakeway Drive\n",
      "                                   College Station, Texas 77845 USA\n",
      "                                   800-STATA-PC        https://www.stata.com\n",
      "                                   979-696-4600        stata@stata.com\n",
      "\n",
      "Stata license: Single-user 8-core , expiring  1 Jan 2025\n",
      "Serial number: 501709301094\n",
      "  Licensed to: Colin's Stata\n",
      "               Love U\n",
      "\n",
      "Notes:\n",
      "      1. Unicode is supported; see help unicode_advice.\n",
      "      2. More than 2 billion observations are allowed; see help obs_advice.\n",
      "      3. Maximum number of variables is set to 5,000; see help set_maxvar.\n"
     ]
    }
   ],
   "source": [
    "import sys\n",
    "import os\n",
    "import numpy as np\n",
    "import cudf  #CUDA计算\n",
    "import pandas as pd\n",
    "\n",
    "sys.path.append('/home/ubuntu/notebook/Investor-Sentiment')\n",
    "sys.path.append('/usr/local/stata17/utilities')\n",
    "from pystata import config  #Stata\n",
    "from statsmodels.regression.rolling import RollingOLS  #滚动回归\n",
    "from pandarallel import pandarallel  #多线程groupby Apply\n",
    "\n",
    "config.init('mp')\n",
    "\n",
    "# ------------------------------数据集路径----------------------------------#\n",
    "DATASETS_PATH = './DataSets/'"
   ],
   "metadata": {
    "collapsed": false
   }
  },
  {
   "cell_type": "markdown",
   "source": [
    "### 1.1 下载和合并面板数据"
   ],
   "metadata": {
    "collapsed": false
   }
  },
  {
   "cell_type": "code",
   "execution_count": 2,
   "outputs": [],
   "source": [
    "# 下载数据\n",
    "def load_data():\n",
    "    # 数据集:个股K线面板数据,个股基本面数据\n",
    "    data_list = ['ASHARE_BAR_PANEL.parquet', 'ASHARE_BASIC_PANEL.parquet']\n",
    "    from loader.findata_loader import DownLoader\n",
    "    if not set(data_list).issubset(os.listdir('./DataSets/')): DownLoader(MAX_CORE=10).load_data()\n",
    "\n",
    "\n",
    "load_data()"
   ],
   "metadata": {
    "collapsed": false
   }
  },
  {
   "cell_type": "code",
   "execution_count": null,
   "outputs": [],
   "source": [
    "# 提取面板数据\n",
    "def extract_panel():\n",
    "    # 个股K线数据\n",
    "    df_bar = (\n",
    "            cudf.read_parquet('./DataSets/ASHARE_BAR_PANEL.parquet', columns=['trade_date', 'ts_code', 'pct_chg'])\n",
    "            .rename(columns={'pct_chg': 'share_return'})\n",
    "    )\n",
    "\n",
    "    # 个股基本面数据\n",
    "    df_basic = cudf.read_parquet('./DataSets/ASHARE_BASIC_PANEL.parquet', columns=['trade_date', 'ts_code', 'total_mv'])\n",
    "\n",
    "    # 合并\n",
    "    df_p = cudf.concat([df_bar, df_basic], join=\"left\", axis=1, sort=True)\n",
    "\n",
    "    # 压缩数据\n",
    "    df_p.index.levels[1].astype('category', inplace=True)\n",
    "\n",
    "    return df_p\n",
    "\n",
    "\n",
    "# 提取时间序列数据\n",
    "def extract_time_series():\n",
    "    # 股指数据\n",
    "    from utils.sql import DB\n",
    "    db_loader = DB()\n",
    "    df_share_index = (\n",
    "            pd.read_sql_table('399300.SZ', db_loader.ENGINE, 'FIN_DAILY_INDEX', columns=['trade_date', 'pct_chg'])\n",
    "            .astype(dtype={'trade_date': 'uint32'}).set_index('trade_date').rename(columns={'pct_chg': 'shareindex_return'})\n",
    "    )\n",
    "\n",
    "    # shibor数据\n",
    "    df_shibor = (\n",
    "            pd.read_sql_table('SHIBOR', db_loader.ENGINE, 'FIN_DAILY_INDEX', columns=['trade_date', '3m'])\n",
    "            .astype(dtype={'trade_date': 'uint32'}).set_index('trade_date').rename(columns={'3m': 'riskfree_return'}) / 360\n",
    "    )\n",
    "\n",
    "    # 情绪数据\n",
    "    df_sent = pd.concat(\n",
    "            [pd.read_sql_table('IMG_SENT', db_loader.ENGINE, 'SENT_DAILY').astype(dtype={'trade_date': 'uint32'})\n",
    "             .set_index('trade_date').rename(columns={'neg_index': 'img_neg'}),\n",
    "             pd.read_sql_table('TEX_SENT', db_loader.ENGINE, 'SENT_DAILY').astype(dtype={'trade_date': 'uint32'})\n",
    "             .set_index('trade_date').rename(columns={'neg_index': 'tex_neg'})\n",
    "             ], axis=1\n",
    "    )\n",
    "\n",
    "    return (cudf.from_pandas(pd.concat([df_share_index, df_shibor], join=\"inner\", axis=1, sort=True)),\n",
    "            pd.concat([df_sent, df_share_index, df_shibor], join=\"inner\", axis=1, sort=True))\n",
    "\n",
    "\n",
    "# 合并数据\n",
    "def extract_merge():\n",
    "    df_p = extract_panel()\n",
    "    df_t, _ = extract_time_series()\n",
    "    df_m = cudf.merge(\n",
    "            left=df_p.reset_index(), right=df_t.reset_index(), left_on='trade_date', right_on='trade_date', how=\"left\",\n",
    "            sort=True\n",
    "    )\n",
    "    return df_m.set_index(['trade_date', 'ts_code']).sort_index(ascending=[True, True])\n",
    "\n",
    "\n",
    "df_panel = extract_merge()\n",
    "_, df_time_series = extract_time_series()\n",
    "\n",
    "# 数据筛选\n",
    "df_panel = df_panel[df_panel.index.get_level_values('trade_date') >= 20140101].to_pandas()\n",
    "df_panel"
   ],
   "metadata": {
    "collapsed": false,
    "pycharm": {
     "is_executing": true
    }
   }
  },
  {
   "cell_type": "markdown",
   "source": [
    "## 2.构造截面异质波动率与市值高低组合"
   ],
   "metadata": {
    "collapsed": false
   }
  },
  {
   "cell_type": "markdown",
   "source": [
    "#### 2.1 计算面板数据的异质波动率IDVOL"
   ],
   "metadata": {
    "collapsed": false
   }
  },
  {
   "cell_type": "code",
   "execution_count": null,
   "outputs": [],
   "source": [
    "# 滚动OLS回归求异质波动率\n",
    "def roll_idvol(df_code: pd.DataFrame, ols_window: int, var_ma: int) -> pd.DataFrame:\n",
    "    try:\n",
    "        # 估计参数\n",
    "        model_ols = RollingOLS(endog=df_code[['Y']], exog=df_code[['CONST', 'X']], window=ols_window)\n",
    "        df_para = model_ols.fit().params.rename(columns={'CONST': 'Alpha', 'X': 'Beta'})\n",
    "\n",
    "        # 预测残差 已经对齐了\n",
    "        df_con = pd.concat([df_code, df_para], axis=1, join='inner')\n",
    "        df_con['Residual'] = df_con['Alpha'] + df_con['Beta'] * df_con['X'] - df_con['Y']\n",
    "\n",
    "        # 计算月波动率\n",
    "        df_con['Idvol'] = df_con['Residual'].rolling(var_ma).var(ddof=1)\n",
    "        return df_con[['share_return', 'total_mv', 'Idvol']]\n",
    "    except (IndexError, ValueError): return pd.DataFrame(columns=['trade_date', 'ts_code']).set_index(['trade_date', 'ts_code'])\n",
    "\n",
    "\n",
    "# 分组计算\n",
    "def cal_panel_ols():\n",
    "    # 定义回归变量 CAPM回归: (rm-rf)=a+b*(RM-rf)\n",
    "    df_panel['Y'] = df_panel['share_return'] - df_panel['riskfree_return']\n",
    "    df_panel['CONST'] = 1  # 带截距项回归\n",
    "    df_panel['X'] = df_panel['shareindex_return'] - df_panel['riskfree_return']\n",
    "\n",
    "    # 多线程加速\n",
    "    pandarallel.initialize(progress_bar=True)\n",
    "    df_out = (df_panel.groupby(level=['ts_code'])[['share_return', 'total_mv', 'Y', 'CONST', 'X']]\n",
    "              .parallel_apply(lambda x: roll_idvol(x, 5, 30)).droplevel(2)\n",
    "              )\n",
    "\n",
    "    # 保存\n",
    "    df_out.to_parquet(f'{DATASETS_PATH}ASHARE_OLS_PANEL.parquet', engine='pyarrow', index=True)\n",
    "\n",
    "\n",
    "# 计算滚动回归\n",
    "if not os.path.exists(f'{DATASETS_PATH}ASHARE_OLS_PANEL.parquet'): cal_panel_ols()\n",
    "\n",
    "# 加载滚动回归的面板数据集\n",
    "df_ols_panel = (\n",
    "        cudf.read_parquet(f'{DATASETS_PATH}ASHARE_OLS_PANEL.parquet').reset_index().set_index(['trade_date', 'ts_code']).sort_index()\n",
    "        .rename(columns={'Idvol': 'idvol'})\n",
    ")\n",
    "df_ols_panel"
   ],
   "metadata": {
    "collapsed": false,
    "pycharm": {
     "is_executing": true
    }
   }
  },
  {
   "cell_type": "markdown",
   "source": [
    "### 2.2 面板数据分组"
   ],
   "metadata": {
    "collapsed": false
   }
  },
  {
   "cell_type": "code",
   "execution_count": null,
   "outputs": [],
   "source": [
    "# 参数阈值\n",
    "QUANTILE = 0.5\n",
    "\n",
    "\n",
    "# 面板数据分组\n",
    "def group_ols_panel(df, group_col: str):\n",
    "    \"\"\"\n",
    "    :param df:\n",
    "    :param group_col:分组变量\n",
    "    \"\"\"\n",
    "    # 分组\n",
    "    df[f'{group_col}_split'] = df[group_col].groupby(level=['trade_date']).transform(lambda x: x.quantile(QUANTILE))\n",
    "    df[f'{group_col}_group'] = np.where(df[group_col].to_pandas() >= df[f'{group_col}_split'].to_pandas(),\n",
    "                                        f'{group_col}_high', f'{group_col}_low')\n",
    "    # 重新设定分组索引\n",
    "    df = df.reset_index().set_index(['trade_date', f'{group_col}_group', 'ts_code']).sort_index()\n",
    "\n",
    "    # 求组中市值加权系数\n",
    "    df[f'{group_col}_mv_ratio'] = df['total_mv'] / df.groupby(level=['trade_date', f'{group_col}_group'])['total_mv'].transform('sum')\n",
    "\n",
    "    # 求组中回报\n",
    "    df[f'{group_col}_vw_return'] = df[f'{group_col}_mv_ratio'] * df['share_return']\n",
    "    df[f'{group_col}_group_return'] = (df.groupby(level=['trade_date', f'{group_col}_group'])[f'{group_col}_vw_return']\n",
    "                                       .transform('sum'))\n",
    "\n",
    "    # 重置索引\n",
    "    return df.reset_index(f'{group_col}_group')\n",
    "\n",
    "\n",
    "# 循环分组,最后处理成时间序列数据\n",
    "def group_cols(df, columns: list):\n",
    "    # 用于分组\n",
    "    df_temp = df\n",
    "\n",
    "    # 求组中市值加权回报\n",
    "    for col in columns: df_temp = group_ols_panel(df_temp, col)\n",
    "\n",
    "    # 筛选\n",
    "    df_temp = df_temp[[i + '_group' for i in columns] + [i + '_group_return' for i in columns]]\n",
    "\n",
    "    # 保留唯一的组合 2^N\n",
    "    df_time_panel = (df_temp.reset_index().groupby(['trade_date'] + [i + '_group' for i in columns]).first())\n",
    "\n",
    "    # 转为时间序列数据\n",
    "    df_time = cudf.DataFrame()\n",
    "    for col in columns: df_time = cudf.concat([df_time,\n",
    "                                               df_time_panel.groupby(level=['trade_date', f'{col}_group']).first().reset_index()\n",
    "                                              .pivot(index='trade_date', columns=f'{col}_group', values=f'{col}_group_return')],\n",
    "                                              join=\"left\", axis=1, sort=True)\n",
    "    # 高减低\n",
    "    # for col in columns: df_time[f'{col}_mid'] = df_time[f'{col}_high'] - df_time[f'{col}_low']\n",
    "\n",
    "    return df_time\n",
    "\n",
    "\n",
    "df_group_time = group_cols(df_ols_panel, ['total_mv', 'idvol'])\n",
    "df_group_time"
   ],
   "metadata": {
    "collapsed": false,
    "pycharm": {
     "is_executing": true
    }
   }
  },
  {
   "cell_type": "code",
   "execution_count": null,
   "outputs": [],
   "source": [
    "# 合并其他时间序列数据\n",
    "df_series_join = (cudf.concat([cudf.from_pandas(df_time_series), df_group_time], join=\"left\", axis=1, sort=True).dropna(axis=0)\n",
    "                  .reset_index().set_index(['trade_date', 'img_neg', 'tex_neg']).drop(columns='riskfree_return').to_pandas())\n",
    "\n",
    "df_series_join"
   ],
   "metadata": {
    "collapsed": false,
    "pycharm": {
     "is_executing": true
    }
   }
  },
  {
   "cell_type": "markdown",
   "source": [
    "## 3. VAR模型分析"
   ],
   "metadata": {
    "collapsed": false
   }
  },
  {
   "cell_type": "markdown",
   "source": [
    "### 3.1 回归前数据处理"
   ],
   "metadata": {
    "collapsed": false
   }
  },
  {
   "cell_type": "code",
   "execution_count": null,
   "outputs": [],
   "source": [
    "# 增加平方项\n",
    "def add_square_column(df): return pd.concat([df, df.pow(2).add_suffix('_s')], axis=1)\n",
    "\n",
    "\n",
    "# 增加日期虚拟变量\n",
    "def add_dummy_column(df, column: str):\n",
    "    df_weekday = pd.get_dummies(pd.to_datetime(df[column], format='%Y%m%d').dt.weekday, prefix='weekday', drop_first=True)\n",
    "    df_month = pd.get_dummies(pd.to_datetime(df[column], format='%Y%m%d').dt.month, prefix='month', drop_first=True)\n",
    "    return pd.concat([df, df_weekday, df_month], axis=1)\n",
    "\n",
    "\n",
    "# 处理好的用于回归的数据\n",
    "df_series_ols = add_dummy_column(add_square_column(df_series_join).reset_index(), 'trade_date')\n",
    "df_series_ols\n",
    "# @formatter:off"
   ],
   "metadata": {
    "collapsed": false,
    "pycharm": {
     "is_executing": true
    }
   }
  },
  {
   "cell_type": "markdown",
   "source": [
    "### 3.2 回归结果"
   ],
   "metadata": {
    "collapsed": false
   }
  },
  {
   "cell_type": "markdown",
   "source": [],
   "metadata": {
    "collapsed": false
   }
  },
  {
   "cell_type": "code",
   "execution_count": null,
   "outputs": [],
   "source": [
    "%%stata -d df_series_ols -force\n",
    "//描述性统计\n",
    "logout, save(Outputs/Table_Sum)  replace: ///\n",
    "tabstat *_neg *_return *_high *_low, s(N sd mean p50 min max ) f(%12.4f) c(s)"
   ],
   "metadata": {
    "collapsed": false,
    "pycharm": {
     "is_executing": true
    }
   }
  },
  {
   "cell_type": "code",
   "execution_count": null,
   "outputs": [],
   "source": [
    "%%stata -d df_series_ols -force\n",
    "//时间设定\n",
    "ge time = _n\n",
    "tsset time\n",
    "est clear\n",
    "\n",
    "//VAR回归\n",
    "foreach var in total_mv_high total_mv_low  idvol_high idvol_low {\n",
    "    rename(`var' `var'_s) (return return_s)\n",
    "\n",
    "    eststo: qui var return img_neg return, lags(1/5) exog(month_* weekday_*)\n",
    "    estadd local Month \"Yes\", replace\n",
    "    estadd local Weekday \"Yes\", replace\n",
    "\n",
    "    rename(return return_s) (`var' `var'_s)\n",
    "}\n",
    "\n",
    "//输出\n",
    "esttab , keep(return:L*.img_neg) ///\n",
    "star(* 0.1 ** 0.05 *** 0.01) ///\n",
    "stats( Month Weekday  r2_1 N, fmt(%3s %3s %12.4f %12.0f)) b(%12.4f) ///\n",
    "title(\"Table1 Arbitrage Limit\") mtitle(\"HIGH\" \"LOW\" \"HIGH\" \"LOW\")  nogap ///\n",
    "mgroups(\"Market Value\" \"Idiosyncratic Volatility\", pattern(1 0 1 0) ) showtabs"
   ],
   "metadata": {
    "collapsed": false,
    "pycharm": {
     "is_executing": true
    }
   }
  },
  {
   "cell_type": "markdown",
   "source": [
    "## 4. 按照观测窗口构造投资策略(暂时不做)"
   ],
   "metadata": {
    "collapsed": false
   }
  },
  {
   "cell_type": "code",
   "execution_count": null,
   "outputs": [],
   "source": [
    "def cal_return(df, ma):\n",
    "    df[f'img_neg_m{ma}'] = (df['img_neg'].rolling(ma).mean())\n",
    "\n",
    "    # 历史均值K\n",
    "    df['sell_signal'] = df['img_neg'] >= df[f'img_neg_m{ma}']\n",
    "    df['sell_signal'] = df['sell_signal'].shift(1)\n",
    "\n",
    "    # 高于均值投资\n",
    "    df['img_return'] = np.where(df['sell_signal'], -1*(df['sell_signal']*df['HIGH']), df['shareindex_return'])\n",
    "\n",
    "    # 去掉空行\n",
    "    df.dropna(axis=0, inplace=True)\n",
    "\n",
    "    # 换算\n",
    "    df['mv_shareindex'] = ((df['shareindex_return'] + 100)/100)\n",
    "    df['mv_img'] = ((df['img_return'] + 100)/100)\n",
    "    df['mv_shareindex'] = df['mv_shareindex'].cumprod(axis=0)\n",
    "    df['mv_img'] = df['mv_img'].cumprod(axis=0)\n",
    "\n",
    "    return df.rename(columns={'mv_img': f'mv_img_{ma}'})\n",
    "\n",
    "\n",
    "def start():\n",
    "    df_in = df_series\n",
    "    for i in [5, ]:\n",
    "        df_in = cal_return(df_in, i)\n",
    "\n",
    "    return df_in\n",
    "\n",
    "# start()"
   ],
   "metadata": {
    "collapsed": false,
    "pycharm": {
     "is_executing": true
    }
   }
  }
 ],
 "metadata": {
  "kernelspec": {
   "name": "stata",
   "language": "python",
   "display_name": "Stata"
  },
  "language_info": {
   "codemirror_mode": {
    "name": "ipython",
    "version": 2
   },
   "file_extension": ".py",
   "mimetype": "text/x-python",
   "name": "python",
   "nbconvert_exporter": "python",
   "pygments_lexer": "ipython2",
   "version": "2.7.6"
  }
 },
 "nbformat": 4,
 "nbformat_minor": 0
}
