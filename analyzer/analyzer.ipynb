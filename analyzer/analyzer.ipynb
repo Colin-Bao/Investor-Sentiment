{
 "cells": [
  {
   "cell_type": "markdown",
   "source": [
    "# 情绪投资策略(2014-2022年全A股市场)"
   ],
   "metadata": {
    "collapsed": false
   }
  },
  {
   "cell_type": "markdown",
   "source": [
    "## 1.数据准备"
   ],
   "metadata": {
    "collapsed": false
   }
  },
  {
   "cell_type": "code",
   "execution_count": 1,
   "outputs": [
    {
     "name": "stdout",
     "output_type": "stream",
     "text": [
      "\n",
      "  ___  ____  ____  ____  ____ ©\n",
      " /__    /   ____/   /   ____/      17.0\n",
      "___/   /   /___/   /   /___/       MP—Parallel Edition\n",
      "\n",
      " Statistics and Data Science       Copyright 1985-2021 StataCorp LLC\n",
      "                                   StataCorp\n",
      "                                   4905 Lakeway Drive\n",
      "                                   College Station, Texas 77845 USA\n",
      "                                   800-STATA-PC        https://www.stata.com\n",
      "                                   979-696-4600        stata@stata.com\n",
      "\n",
      "Stata license: Single-user 8-core , expiring  1 Jan 2025\n",
      "Serial number: 501709301094\n",
      "  Licensed to: Colin's Stata\n",
      "               Love U\n",
      "\n",
      "Notes:\n",
      "      1. Unicode is supported; see help unicode_advice.\n",
      "      2. More than 2 billion observations are allowed; see help obs_advice.\n",
      "      3. Maximum number of variables is set to 5,000; see help set_maxvar.\n"
     ]
    }
   ],
   "source": [
    "import sys\n",
    "import os\n",
    "import numpy as np\n",
    "import cudf  #CUDA计算\n",
    "import pandas as pd\n",
    "\n",
    "sys.path.append('/home/ubuntu/notebook/Investor-Sentiment')\n",
    "sys.path.append('/usr/local/stata17/utilities')\n",
    "from pystata import config  #Stata\n",
    "from statsmodels.regression.rolling import RollingOLS  #滚动回归\n",
    "from pandarallel import pandarallel  #多线程groupby Apply\n",
    "\n",
    "config.init('mp')"
   ],
   "metadata": {
    "collapsed": false
   }
  },
  {
   "cell_type": "markdown",
   "source": [
    "### 1.1 下载和合并面板数据"
   ],
   "metadata": {
    "collapsed": false
   }
  },
  {
   "cell_type": "code",
   "execution_count": 2,
   "outputs": [
    {
     "name": "stdout",
     "output_type": "stream",
     "text": [
      "CPU times: user 72.5 ms, sys: 10.6 ms, total: 83.2 ms\n",
      "Wall time: 82.1 ms\n"
     ]
    }
   ],
   "source": [
    "%%time\n",
    "\n",
    "# 下载数据\n",
    "def load_data():\n",
    "    # 数据集:个股K线面板数据,个股基本面数据\n",
    "    data_list = ['ASHARE_BAR_PANEL.parquet', 'ASHARE_BASIC_PANEL.parquet']\n",
    "    from loader.findata_loader import DownLoader\n",
    "    if not set(data_list).issubset(os.listdir('./DataSets/')): DownLoader(MAX_CORE=10).load_data()\n",
    "\n",
    "\n",
    "load_data()"
   ],
   "metadata": {
    "collapsed": false
   }
  },
  {
   "cell_type": "code",
   "execution_count": 10,
   "outputs": [
    {
     "name": "stdout",
     "output_type": "stream",
     "text": [
      "CPU times: user 1.01 s, sys: 852 ms, total: 1.86 s\n",
      "Wall time: 1.87 s\n"
     ]
    }
   ],
   "source": [
    "%%time\n",
    "\n",
    "# 提取面板数据\n",
    "def extract_panel():\n",
    "    # 个股K线数据\n",
    "    df_bar = (\n",
    "        cudf.read_parquet('./DataSets/ASHARE_BAR_PANEL.parquet', columns=['trade_date', 'ts_code', 'pct_chg'])\n",
    "        .rename(columns={'pct_chg': 'share_return'})\n",
    "    )\n",
    "\n",
    "    # 个股基本面数据\n",
    "    df_basic = cudf.read_parquet('./DataSets/ASHARE_BASIC_PANEL.parquet', columns=['trade_date', 'ts_code', 'total_mv'])\n",
    "\n",
    "    # 合并\n",
    "    df_p = cudf.concat([df_bar, df_basic], join=\"left\", axis=1, sort=True)\n",
    "\n",
    "    # 压缩数据\n",
    "    df_p.index.levels[1].astype('category', inplace=True)\n",
    "\n",
    "    return df_p\n",
    "\n",
    "\n",
    "# 提取时间序列数据\n",
    "def extract_time_series():\n",
    "    # 股指数据\n",
    "    from utils.sql import DB\n",
    "    db_loader = DB()\n",
    "    df_share_index = (\n",
    "        pd.read_sql_table('399300.SZ', db_loader.ENGINE, 'FIN_DAILY_INDEX', columns=['trade_date', 'pct_chg'])\n",
    "        .astype(dtype={'trade_date': 'uint32'}).set_index('trade_date').rename(columns={'pct_chg': 'shareindex_return'})\n",
    "    )\n",
    "\n",
    "    # shibor数据\n",
    "    df_shibor = (\n",
    "            pd.read_sql_table('SHIBOR', db_loader.ENGINE, 'FIN_DAILY_INDEX', columns=['trade_date', '3m'])\n",
    "            .astype(dtype={'trade_date': 'uint32'}).set_index('trade_date').rename(columns={'3m': 'riskfree_return'})/360\n",
    "    )\n",
    "\n",
    "    # 情绪数据\n",
    "    df_sent = pd.concat(\n",
    "        [pd.read_sql_table('IMG_SENT', db_loader.ENGINE, 'SENT_DAILY').astype(dtype={'trade_date': 'uint32'})\n",
    "         .set_index('trade_date').rename(columns={'neg_index': 'img_neg'}),\n",
    "         pd.read_sql_table('TEX_SENT', db_loader.ENGINE, 'SENT_DAILY').astype(dtype={'trade_date': 'uint32'})\n",
    "         .set_index('trade_date').rename(columns={'neg_index': 'tex_neg'})\n",
    "         ], axis=1\n",
    "    )\n",
    "\n",
    "    return (cudf.from_pandas(pd.concat([df_share_index, df_shibor], join=\"inner\", axis=1, sort=True)),\n",
    "            pd.concat([df_sent, df_share_index, df_shibor], join=\"inner\", axis=1, sort=True))\n",
    "\n",
    "\n",
    "# 合并数据\n",
    "def extract_merge():\n",
    "    df_p = extract_panel()\n",
    "    df_t, _ = extract_time_series()\n",
    "    df_m = cudf.merge(\n",
    "        left=df_p.reset_index(), right=df_t.reset_index(), left_on='trade_date', right_on='trade_date', how=\"left\", sort=True\n",
    "    )\n",
    "    return df_m.set_index(['trade_date', 'ts_code']).sort_index(ascending=[True, True])\n",
    "\n",
    "\n",
    "df_panel = extract_merge()\n",
    "_, df_time_series = extract_time_series()"
   ],
   "metadata": {
    "collapsed": false
   }
  },
  {
   "cell_type": "markdown",
   "source": [
    "### 1.2 筛选和清洗数据"
   ],
   "metadata": {
    "collapsed": false
   }
  },
  {
   "cell_type": "code",
   "execution_count": 11,
   "outputs": [
    {
     "data": {
      "text/plain": "                      share_return     total_mv  shareindex_return  \\\ntrade_date ts_code                                                   \n20140102   000001.SZ       -0.1641  10025372.09            -0.3454   \n           000002.SZ       -0.4972   8799966.25            -0.3454   \n           000004.SZ        1.3734   99176.4638            -0.3454   \n           000005.SZ       -0.4000  227669.0681            -0.3454   \n           000006.SZ       -1.2164  657447.5874            -0.3454   \n...                            ...          ...                ...   \n20221130   872374.BJ       -1.7259         <NA>             0.1199   \n20221201   301290.SZ       -8.7349  485640.3232             1.0831   \n           301311.SZ       12.7436     541440.0             1.0831   \n           870199.BJ       -3.1447     149842.0             1.0831   \n           872374.BJ        0.2066         <NA>             1.0831   \n\n                      riskfree_return  \ntrade_date ts_code                     \n20140102   000001.SZ         0.015460  \n           000002.SZ         0.015460  \n           000004.SZ         0.015460  \n           000005.SZ         0.015460  \n           000006.SZ         0.015460  \n...                               ...  \n20221130   872374.BJ         0.006092  \n20221201   301290.SZ         0.006103  \n           301311.SZ         0.006103  \n           870199.BJ         0.006103  \n           872374.BJ         0.006103  \n\n[7143120 rows x 4 columns]",
      "text/html": "<div>\n<style scoped>\n    .dataframe tbody tr th:only-of-type {\n        vertical-align: middle;\n    }\n\n    .dataframe tbody tr th {\n        vertical-align: top;\n    }\n\n    .dataframe thead th {\n        text-align: right;\n    }\n</style>\n<table border=\"1\" class=\"dataframe\">\n  <thead>\n    <tr style=\"text-align: right;\">\n      <th></th>\n      <th></th>\n      <th>share_return</th>\n      <th>total_mv</th>\n      <th>shareindex_return</th>\n      <th>riskfree_return</th>\n    </tr>\n    <tr>\n      <th>trade_date</th>\n      <th>ts_code</th>\n      <th></th>\n      <th></th>\n      <th></th>\n      <th></th>\n    </tr>\n  </thead>\n  <tbody>\n    <tr>\n      <th rowspan=\"5\" valign=\"top\">20140102</th>\n      <th>000001.SZ</th>\n      <td>-0.1641</td>\n      <td>10025372.09</td>\n      <td>-0.3454</td>\n      <td>0.015460</td>\n    </tr>\n    <tr>\n      <th>000002.SZ</th>\n      <td>-0.4972</td>\n      <td>8799966.25</td>\n      <td>-0.3454</td>\n      <td>0.015460</td>\n    </tr>\n    <tr>\n      <th>000004.SZ</th>\n      <td>1.3734</td>\n      <td>99176.4638</td>\n      <td>-0.3454</td>\n      <td>0.015460</td>\n    </tr>\n    <tr>\n      <th>000005.SZ</th>\n      <td>-0.4000</td>\n      <td>227669.0681</td>\n      <td>-0.3454</td>\n      <td>0.015460</td>\n    </tr>\n    <tr>\n      <th>000006.SZ</th>\n      <td>-1.2164</td>\n      <td>657447.5874</td>\n      <td>-0.3454</td>\n      <td>0.015460</td>\n    </tr>\n    <tr>\n      <th>...</th>\n      <th>...</th>\n      <td>...</td>\n      <td>...</td>\n      <td>...</td>\n      <td>...</td>\n    </tr>\n    <tr>\n      <th>20221130</th>\n      <th>872374.BJ</th>\n      <td>-1.7259</td>\n      <td>&lt;NA&gt;</td>\n      <td>0.1199</td>\n      <td>0.006092</td>\n    </tr>\n    <tr>\n      <th rowspan=\"4\" valign=\"top\">20221201</th>\n      <th>301290.SZ</th>\n      <td>-8.7349</td>\n      <td>485640.3232</td>\n      <td>1.0831</td>\n      <td>0.006103</td>\n    </tr>\n    <tr>\n      <th>301311.SZ</th>\n      <td>12.7436</td>\n      <td>541440.0</td>\n      <td>1.0831</td>\n      <td>0.006103</td>\n    </tr>\n    <tr>\n      <th>870199.BJ</th>\n      <td>-3.1447</td>\n      <td>149842.0</td>\n      <td>1.0831</td>\n      <td>0.006103</td>\n    </tr>\n    <tr>\n      <th>872374.BJ</th>\n      <td>0.2066</td>\n      <td>&lt;NA&gt;</td>\n      <td>1.0831</td>\n      <td>0.006103</td>\n    </tr>\n  </tbody>\n</table>\n<p>7143120 rows × 4 columns</p>\n</div>"
     },
     "execution_count": 11,
     "metadata": {},
     "output_type": "execute_result"
    }
   ],
   "source": [
    "df_panel = df_panel[df_panel.index.get_level_values('trade_date') >= 20140101]\n",
    "df_panel"
   ],
   "metadata": {
    "collapsed": false
   }
  },
  {
   "cell_type": "markdown",
   "source": [
    "## 2.构造截面异质波动率与市值高低组合"
   ],
   "metadata": {
    "collapsed": false
   }
  },
  {
   "cell_type": "markdown",
   "source": [
    "#### 2.1 计算面板数据的异质波动率IDVOL"
   ],
   "metadata": {
    "collapsed": false
   }
  },
  {
   "cell_type": "code",
   "execution_count": 29,
   "outputs": [
    {
     "name": "stderr",
     "output_type": "stream",
     "text": [
      "/usr/local/miniconda3/envs/Stata/lib/python3.9/site-packages/cudf/core/groupby/groupby.py:758: UserWarning: GroupBy.apply() performance scales poorly with number of groups. Got 2680 groups.\n",
      "  warnings.warn(\n"
     ]
    },
    {
     "name": "stdout",
     "output_type": "stream",
     "text": [
      "CPU times: user 3min 9s, sys: 1min, total: 4min 9s\n",
      "Wall time: 2min 7s\n"
     ]
    },
    {
     "data": {
      "text/plain": "                      share_return      total_mv        Idvol\ntrade_date ts_code                                           \n20140102   000001.SZ       -0.1641  1.002537e+07         <NA>\n20140103   000001.SZ       -2.4524  9.779451e+06         <NA>\n20140106   000001.SZ       -2.1804  9.566320e+06         <NA>\n20140107   000001.SZ       -0.3428  9.533530e+06         <NA>\n20140108   000001.SZ        1.1192  9.640096e+06         <NA>\n...                            ...           ...          ...\n20151028   603998.SH       -3.0001  5.224250e+05  3.805418467\n20151029   603998.SH        1.0850  5.280943e+05  3.111689124\n20151030   603998.SH        1.3155  5.350392e+05  3.173017989\n20151102   603998.SH        1.2185  5.415589e+05  3.141213307\n20151103   603998.SH        4.2129  5.643778e+05  2.607093637\n\n[999998 rows x 3 columns]",
      "text/html": "<div>\n<style scoped>\n    .dataframe tbody tr th:only-of-type {\n        vertical-align: middle;\n    }\n\n    .dataframe tbody tr th {\n        vertical-align: top;\n    }\n\n    .dataframe thead th {\n        text-align: right;\n    }\n</style>\n<table border=\"1\" class=\"dataframe\">\n  <thead>\n    <tr style=\"text-align: right;\">\n      <th></th>\n      <th></th>\n      <th>share_return</th>\n      <th>total_mv</th>\n      <th>Idvol</th>\n    </tr>\n    <tr>\n      <th>trade_date</th>\n      <th>ts_code</th>\n      <th></th>\n      <th></th>\n      <th></th>\n    </tr>\n  </thead>\n  <tbody>\n    <tr>\n      <th>20140102</th>\n      <th>000001.SZ</th>\n      <td>-0.1641</td>\n      <td>1.002537e+07</td>\n      <td>&lt;NA&gt;</td>\n    </tr>\n    <tr>\n      <th>20140103</th>\n      <th>000001.SZ</th>\n      <td>-2.4524</td>\n      <td>9.779451e+06</td>\n      <td>&lt;NA&gt;</td>\n    </tr>\n    <tr>\n      <th>20140106</th>\n      <th>000001.SZ</th>\n      <td>-2.1804</td>\n      <td>9.566320e+06</td>\n      <td>&lt;NA&gt;</td>\n    </tr>\n    <tr>\n      <th>20140107</th>\n      <th>000001.SZ</th>\n      <td>-0.3428</td>\n      <td>9.533530e+06</td>\n      <td>&lt;NA&gt;</td>\n    </tr>\n    <tr>\n      <th>20140108</th>\n      <th>000001.SZ</th>\n      <td>1.1192</td>\n      <td>9.640096e+06</td>\n      <td>&lt;NA&gt;</td>\n    </tr>\n    <tr>\n      <th>...</th>\n      <th>...</th>\n      <td>...</td>\n      <td>...</td>\n      <td>...</td>\n    </tr>\n    <tr>\n      <th>20151028</th>\n      <th>603998.SH</th>\n      <td>-3.0001</td>\n      <td>5.224250e+05</td>\n      <td>3.805418467</td>\n    </tr>\n    <tr>\n      <th>20151029</th>\n      <th>603998.SH</th>\n      <td>1.0850</td>\n      <td>5.280943e+05</td>\n      <td>3.111689124</td>\n    </tr>\n    <tr>\n      <th>20151030</th>\n      <th>603998.SH</th>\n      <td>1.3155</td>\n      <td>5.350392e+05</td>\n      <td>3.173017989</td>\n    </tr>\n    <tr>\n      <th>20151102</th>\n      <th>603998.SH</th>\n      <td>1.2185</td>\n      <td>5.415589e+05</td>\n      <td>3.141213307</td>\n    </tr>\n    <tr>\n      <th>20151103</th>\n      <th>603998.SH</th>\n      <td>4.2129</td>\n      <td>5.643778e+05</td>\n      <td>2.607093637</td>\n    </tr>\n  </tbody>\n</table>\n<p>999998 rows × 3 columns</p>\n</div>"
     },
     "execution_count": 29,
     "metadata": {},
     "output_type": "execute_result"
    }
   ],
   "source": [
    "%%time\n",
    "\n",
    "# 滚动OLS回归求异质波动率\n",
    "def roll_idvol(df_code: pd.DataFrame, ols_window: int, var_ma: int) -> pd.DataFrame:\n",
    "    try:\n",
    "        # 估计参数\n",
    "        model_ols = RollingOLS(endog=df_code[['Y']].to_pandas(), exog=df_code[['CONST', 'X']].to_pandas(), window=ols_window)\n",
    "        df_para = model_ols.fit().params.rename(columns={'CONST': 'Alpha', 'X': 'Beta'})\n",
    "\n",
    "        # 预测残差 已经对齐了\n",
    "        df_con = cudf.concat([df_code, cudf.from_pandas(df_para)], axis=1, join='inner')\n",
    "        df_con['Residual'] = df_con['Alpha'] + df_con['Beta']*df_con['X'] - df_con['Y']\n",
    "\n",
    "        # 计算月波动率\n",
    "        df_con['Idvol'] = df_con['Residual'].rolling(var_ma).var(ddof=1)\n",
    "        return df_con[['share_return', 'total_mv', 'Idvol']]\n",
    "\n",
    "    except IndexError:\n",
    "        return cudf.DataFrame(columns=['trade_date', 'ts_code']).set_index(['trade_date', 'ts_code'])\n",
    "\n",
    "\n",
    "# 分组计算\n",
    "def cal_panel_ols():\n",
    "    # 定义回归变量 CAPM回归: (rm-rf)=a+b*(RM-rf)\n",
    "    df_panel['Y'] = df_panel['share_return'] - df_panel['riskfree_return']\n",
    "    df_panel['CONST'] = 1  # 带截距项回归\n",
    "    df_panel['X'] = df_panel['shareindex_return'] - df_panel['riskfree_return']\n",
    "\n",
    "    # 多线程加速\n",
    "    # pandarallel.initialize(progress_bar=True)\n",
    "    df_out = (\n",
    "        df_panel.groupby(level=['ts_code'])[['share_return', 'total_mv', 'Y', 'CONST', 'X']]\n",
    "        .apply(lambda x: roll_idvol(x, 5, 30))\n",
    "    )\n",
    "    return df_out\n",
    "    # 保存\n",
    "\n",
    "\n",
    "#\n",
    "cal_panel_ols()"
   ],
   "metadata": {
    "collapsed": false
   }
  },
  {
   "cell_type": "code",
   "execution_count": null,
   "outputs": [],
   "source": [
    "%%time\n",
    "\n",
    "# 滚动OLS回归求异质波动率\n",
    "def roll_idvol(df_code: pd.DataFrame, ols_window: int, var_ma: int) -> pd.DataFrame:\n",
    "    try:\n",
    "        # 估计参数\n",
    "        model_ols = RollingOLS(endog=df_code[['Y']], exog=df_code[['CONST', 'X']], window=ols_window)\n",
    "        df_para = model_ols.fit().params.rename(columns={'CONST': 'Alpha', 'X': 'Beta'})\n",
    "\n",
    "        # 预测残差 已经对齐了\n",
    "        df_con = pd.concat([df_code, df_para], axis=1, join='inner')\n",
    "        df_con['Residual'] = df_con['Alpha'] + df_con['Beta']*df_con['X'] - df_con['Y']\n",
    "\n",
    "        # 计算月波动率\n",
    "        df_con['Idvol'] = df_con['Residual'].rolling(var_ma).apply(lambda x: np.var(x, ddof=1))\n",
    "        return df_con[['share_return', 'total_mv', 'Idvol']]\n",
    "\n",
    "    except Exception as e:\n",
    "        print(e)\n",
    "        return pd.DataFrame(columns=['trade_date', 'ts_code']).set_index(['trade_date', 'ts_code'])\n",
    "\n",
    "\n",
    "# 分组计算\n",
    "def cal_panel_ols():\n",
    "    # 定义回归变量 CAPM回归: (rm-rf)=a+b*(RM-rf)\n",
    "    df_panel['Y'] = df_panel['share_return'] - df_panel['riskfree_return']\n",
    "    df_panel['CONST'] = 1  # 带截距项回归\n",
    "    df_panel['X'] = df_panel['shareindex_return'] - df_panel['riskfree_return']\n",
    "\n",
    "    # 多线程加速\n",
    "    pandarallel.initialize(progress_bar=True)\n",
    "    df_out = (\n",
    "        df_panel.groupby(level=['ts_code'])[['share_return', 'total_mv', 'Y', 'CONST', 'X']]\n",
    "        .parallel_apply(lambda x: roll_idvol(x, 5, 30)).droplevel(2)\n",
    "    )\n",
    "\n",
    "    # 保存\n",
    "    df_out.to_parquet('./DataSets/ASHARE_OLS_PANEL.parquet', engine='pyarrow', index=True)\n",
    "\n",
    "\n",
    "#\n",
    "if not os.path.exists('./DataSets/ASHARE_OLS_PANEL.parquet'):\n",
    "    cal_panel_ols()"
   ],
   "metadata": {
    "collapsed": false
   }
  },
  {
   "cell_type": "markdown",
   "source": [
    "### 2.2 面板数据异质波动率分组"
   ],
   "metadata": {
    "collapsed": false
   }
  },
  {
   "cell_type": "markdown",
   "source": [
    "上面的面板数据计算完成后,从这里开始运行"
   ],
   "metadata": {
    "collapsed": false
   }
  },
  {
   "cell_type": "code",
   "execution_count": 31,
   "outputs": [
    {
     "name": "stdout",
     "output_type": "stream",
     "text": [
      "CPU times: user 123 ms, sys: 87.3 ms, total: 210 ms\n",
      "Wall time: 209 ms\n"
     ]
    },
    {
     "data": {
      "text/plain": "                      share_return      total_mv        Idvol\ntrade_date ts_code                                           \n20140102   000001.SZ       -0.1641  1.002537e+07         <NA>\n           000002.SZ       -0.4972  8.799966e+06         <NA>\n           000004.SZ        1.3734  9.917646e+04         <NA>\n           000005.SZ       -0.4000  2.276691e+05         <NA>\n           000006.SZ       -1.2164  6.574476e+05         <NA>\n...                            ...           ...          ...\n20221128   873122.BJ       -2.0158  1.259199e+05  19.27363078\n           873169.BJ       -1.5198  5.443271e+04  1.319910083\n           873223.BJ       -0.2660  5.898188e+04  0.730762806\n           873339.BJ       -0.5093  1.290394e+05         <NA>\n           873527.BJ        0.0000  5.445873e+04         <NA>\n\n[7136670 rows x 3 columns]",
      "text/html": "<div>\n<style scoped>\n    .dataframe tbody tr th:only-of-type {\n        vertical-align: middle;\n    }\n\n    .dataframe tbody tr th {\n        vertical-align: top;\n    }\n\n    .dataframe thead th {\n        text-align: right;\n    }\n</style>\n<table border=\"1\" class=\"dataframe\">\n  <thead>\n    <tr style=\"text-align: right;\">\n      <th></th>\n      <th></th>\n      <th>share_return</th>\n      <th>total_mv</th>\n      <th>Idvol</th>\n    </tr>\n    <tr>\n      <th>trade_date</th>\n      <th>ts_code</th>\n      <th></th>\n      <th></th>\n      <th></th>\n    </tr>\n  </thead>\n  <tbody>\n    <tr>\n      <th rowspan=\"5\" valign=\"top\">20140102</th>\n      <th>000001.SZ</th>\n      <td>-0.1641</td>\n      <td>1.002537e+07</td>\n      <td>&lt;NA&gt;</td>\n    </tr>\n    <tr>\n      <th>000002.SZ</th>\n      <td>-0.4972</td>\n      <td>8.799966e+06</td>\n      <td>&lt;NA&gt;</td>\n    </tr>\n    <tr>\n      <th>000004.SZ</th>\n      <td>1.3734</td>\n      <td>9.917646e+04</td>\n      <td>&lt;NA&gt;</td>\n    </tr>\n    <tr>\n      <th>000005.SZ</th>\n      <td>-0.4000</td>\n      <td>2.276691e+05</td>\n      <td>&lt;NA&gt;</td>\n    </tr>\n    <tr>\n      <th>000006.SZ</th>\n      <td>-1.2164</td>\n      <td>6.574476e+05</td>\n      <td>&lt;NA&gt;</td>\n    </tr>\n    <tr>\n      <th>...</th>\n      <th>...</th>\n      <td>...</td>\n      <td>...</td>\n      <td>...</td>\n    </tr>\n    <tr>\n      <th rowspan=\"5\" valign=\"top\">20221128</th>\n      <th>873122.BJ</th>\n      <td>-2.0158</td>\n      <td>1.259199e+05</td>\n      <td>19.27363078</td>\n    </tr>\n    <tr>\n      <th>873169.BJ</th>\n      <td>-1.5198</td>\n      <td>5.443271e+04</td>\n      <td>1.319910083</td>\n    </tr>\n    <tr>\n      <th>873223.BJ</th>\n      <td>-0.2660</td>\n      <td>5.898188e+04</td>\n      <td>0.730762806</td>\n    </tr>\n    <tr>\n      <th>873339.BJ</th>\n      <td>-0.5093</td>\n      <td>1.290394e+05</td>\n      <td>&lt;NA&gt;</td>\n    </tr>\n    <tr>\n      <th>873527.BJ</th>\n      <td>0.0000</td>\n      <td>5.445873e+04</td>\n      <td>&lt;NA&gt;</td>\n    </tr>\n  </tbody>\n</table>\n<p>7136670 rows × 3 columns</p>\n</div>"
     },
     "execution_count": 31,
     "metadata": {},
     "output_type": "execute_result"
    }
   ],
   "source": [
    "%%time\n",
    "QUANTILE = 0.5\n",
    "df_ols_panel = cudf.read_parquet('./DataSets/ASHARE_OLS_PANEL.parquet').reset_index().set_index(['trade_date', 'ts_code']).sort_index()\n",
    "df_ols_panel"
   ],
   "metadata": {
    "collapsed": false
   }
  },
  {
   "cell_type": "code",
   "execution_count": 32,
   "outputs": [
    {
     "name": "stdout",
     "output_type": "stream",
     "text": [
      "CPU times: user 3.08 s, sys: 985 ms, total: 4.07 s\n",
      "Wall time: 4.07 s\n"
     ]
    },
    {
     "data": {
      "text/plain": "                                  share_return      total_mv        Idvol  \\\ntrade_date idvol_group ts_code                                              \n20140102   LOW         000001.SZ       -0.1641  1.002537e+07         <NA>   \n                       000002.SZ       -0.4972  8.799966e+06         <NA>   \n                       000004.SZ        1.3734  9.917646e+04         <NA>   \n                       000005.SZ       -0.4000  2.276691e+05         <NA>   \n                       000006.SZ       -1.2164  6.574476e+05         <NA>   \n...                                        ...           ...          ...   \n20221128   LOW         872925.BJ       -0.3987  7.386323e+04  1.366920583   \n                       873169.BJ       -1.5198  5.443271e+04  1.319910083   \n                       873223.BJ       -0.2660  5.898188e+04  0.730762806   \n                       873339.BJ       -0.5093  1.290394e+05         <NA>   \n                       873527.BJ        0.0000  5.445873e+04         <NA>   \n\n                                    idvol_top  mv_ratio  idvol_vw_ratio  \\\ntrade_date idvol_group ts_code                                            \n20140102   LOW         000001.SZ         <NA>  0.003834       -0.000629   \n                       000002.SZ         <NA>  0.003365       -0.001673   \n                       000004.SZ         <NA>  0.000038        0.000052   \n                       000005.SZ         <NA>  0.000087       -0.000035   \n                       000006.SZ         <NA>  0.000251       -0.000306   \n...                                       ...       ...             ...   \n20221128   LOW         872925.BJ  2.944717594  0.000013       -0.000005   \n                       873169.BJ  2.944717594  0.000010       -0.000015   \n                       873223.BJ  2.944717594  0.000011       -0.000003   \n                       873339.BJ  2.944717594  0.000023       -0.000012   \n                       873527.BJ  2.944717594  0.000010        0.000000   \n\n                                  idvol_group_return  \ntrade_date idvol_group ts_code                        \n20140102   LOW         000001.SZ            0.104007  \n                       000002.SZ            0.104007  \n                       000004.SZ            0.104007  \n                       000005.SZ            0.104007  \n                       000006.SZ            0.104007  \n...                                              ...  \n20221128   LOW         872925.BJ           -0.769940  \n                       873169.BJ           -0.769940  \n                       873223.BJ           -0.769940  \n                       873339.BJ           -0.769940  \n                       873527.BJ           -0.769940  \n\n[7136670 rows x 7 columns]",
      "text/html": "<div>\n<style scoped>\n    .dataframe tbody tr th:only-of-type {\n        vertical-align: middle;\n    }\n\n    .dataframe tbody tr th {\n        vertical-align: top;\n    }\n\n    .dataframe thead th {\n        text-align: right;\n    }\n</style>\n<table border=\"1\" class=\"dataframe\">\n  <thead>\n    <tr style=\"text-align: right;\">\n      <th></th>\n      <th></th>\n      <th></th>\n      <th>share_return</th>\n      <th>total_mv</th>\n      <th>Idvol</th>\n      <th>idvol_top</th>\n      <th>mv_ratio</th>\n      <th>idvol_vw_ratio</th>\n      <th>idvol_group_return</th>\n    </tr>\n    <tr>\n      <th>trade_date</th>\n      <th>idvol_group</th>\n      <th>ts_code</th>\n      <th></th>\n      <th></th>\n      <th></th>\n      <th></th>\n      <th></th>\n      <th></th>\n      <th></th>\n    </tr>\n  </thead>\n  <tbody>\n    <tr>\n      <th rowspan=\"5\" valign=\"top\">20140102</th>\n      <th rowspan=\"5\" valign=\"top\">LOW</th>\n      <th>000001.SZ</th>\n      <td>-0.1641</td>\n      <td>1.002537e+07</td>\n      <td>&lt;NA&gt;</td>\n      <td>&lt;NA&gt;</td>\n      <td>0.003834</td>\n      <td>-0.000629</td>\n      <td>0.104007</td>\n    </tr>\n    <tr>\n      <th>000002.SZ</th>\n      <td>-0.4972</td>\n      <td>8.799966e+06</td>\n      <td>&lt;NA&gt;</td>\n      <td>&lt;NA&gt;</td>\n      <td>0.003365</td>\n      <td>-0.001673</td>\n      <td>0.104007</td>\n    </tr>\n    <tr>\n      <th>000004.SZ</th>\n      <td>1.3734</td>\n      <td>9.917646e+04</td>\n      <td>&lt;NA&gt;</td>\n      <td>&lt;NA&gt;</td>\n      <td>0.000038</td>\n      <td>0.000052</td>\n      <td>0.104007</td>\n    </tr>\n    <tr>\n      <th>000005.SZ</th>\n      <td>-0.4000</td>\n      <td>2.276691e+05</td>\n      <td>&lt;NA&gt;</td>\n      <td>&lt;NA&gt;</td>\n      <td>0.000087</td>\n      <td>-0.000035</td>\n      <td>0.104007</td>\n    </tr>\n    <tr>\n      <th>000006.SZ</th>\n      <td>-1.2164</td>\n      <td>6.574476e+05</td>\n      <td>&lt;NA&gt;</td>\n      <td>&lt;NA&gt;</td>\n      <td>0.000251</td>\n      <td>-0.000306</td>\n      <td>0.104007</td>\n    </tr>\n    <tr>\n      <th>...</th>\n      <th>...</th>\n      <th>...</th>\n      <td>...</td>\n      <td>...</td>\n      <td>...</td>\n      <td>...</td>\n      <td>...</td>\n      <td>...</td>\n      <td>...</td>\n    </tr>\n    <tr>\n      <th rowspan=\"5\" valign=\"top\">20221128</th>\n      <th rowspan=\"5\" valign=\"top\">LOW</th>\n      <th>872925.BJ</th>\n      <td>-0.3987</td>\n      <td>7.386323e+04</td>\n      <td>1.366920583</td>\n      <td>2.944717594</td>\n      <td>0.000013</td>\n      <td>-0.000005</td>\n      <td>-0.769940</td>\n    </tr>\n    <tr>\n      <th>873169.BJ</th>\n      <td>-1.5198</td>\n      <td>5.443271e+04</td>\n      <td>1.319910083</td>\n      <td>2.944717594</td>\n      <td>0.000010</td>\n      <td>-0.000015</td>\n      <td>-0.769940</td>\n    </tr>\n    <tr>\n      <th>873223.BJ</th>\n      <td>-0.2660</td>\n      <td>5.898188e+04</td>\n      <td>0.730762806</td>\n      <td>2.944717594</td>\n      <td>0.000011</td>\n      <td>-0.000003</td>\n      <td>-0.769940</td>\n    </tr>\n    <tr>\n      <th>873339.BJ</th>\n      <td>-0.5093</td>\n      <td>1.290394e+05</td>\n      <td>&lt;NA&gt;</td>\n      <td>2.944717594</td>\n      <td>0.000023</td>\n      <td>-0.000012</td>\n      <td>-0.769940</td>\n    </tr>\n    <tr>\n      <th>873527.BJ</th>\n      <td>0.0000</td>\n      <td>5.445873e+04</td>\n      <td>&lt;NA&gt;</td>\n      <td>2.944717594</td>\n      <td>0.000010</td>\n      <td>0.000000</td>\n      <td>-0.769940</td>\n    </tr>\n  </tbody>\n</table>\n<p>7136670 rows × 7 columns</p>\n</div>"
     },
     "execution_count": 32,
     "metadata": {},
     "output_type": "execute_result"
    }
   ],
   "source": [
    "%%time\n",
    "\n",
    "# 分组\n",
    "df_ols_panel['idvol_top'] = df_ols_panel['Idvol'].groupby(level=['trade_date']).transform(lambda x: x.quantile(QUANTILE))\n",
    "df_ols_panel['idvol_group'] = np.where(df_ols_panel['Idvol'].to_pandas() >= df_ols_panel['idvol_top'].to_pandas(), \"HIGH\", \"LOW\")\n",
    "df_ols_panel = df_ols_panel.reset_index().set_index(['trade_date', 'idvol_group', 'ts_code']).sort_index()\n",
    "\n",
    "# 求组中市值加权系数,并求回报\n",
    "df_ols_panel['mv_ratio'] = (\n",
    "        df_ols_panel['total_mv']/df_ols_panel.groupby(level=['trade_date', 'idvol_group'])['total_mv'].transform('sum'))\n",
    "\n",
    "# 求组中回报\n",
    "df_ols_panel['idvol_vw_ratio'] = df_ols_panel['mv_ratio']*df_ols_panel['share_return']\n",
    "df_ols_panel['idvol_group_return'] = (df_ols_panel.groupby(level=['trade_date', 'idvol_group'])['idvol_vw_ratio'].transform('sum'))\n",
    "df_ols_panel"
   ],
   "metadata": {
    "collapsed": false
   }
  },
  {
   "cell_type": "code",
   "execution_count": null,
   "outputs": [],
   "source": [
    "# 提取分组数据\n",
    "df_ols_panel = df_ols_panel[['idvol_group_return']].to_pandas().droplevel('ts_code')\n",
    "df_ols_panel = df_ols_panel[~df_ols_panel.index.duplicated(keep='last')]\n",
    "# 转为时间序列数据\n",
    "df_series = (df_ols_panel.reset_index().pivot(index='trade_date', columns='idvol_group', values='idvol_group_return'))\n",
    "# 合并其他时间序列数据\n",
    "df_series = df_series.join(df_time_series, how='inner').dropna(axis=0).reset_index()\n",
    "df_series"
   ],
   "metadata": {
    "collapsed": false
   }
  },
  {
   "cell_type": "markdown",
   "source": [
    "## 3.VAR模型分析"
   ],
   "metadata": {
    "collapsed": false
   }
  },
  {
   "cell_type": "markdown",
   "source": [
    "### 3.1 回归前数据处理"
   ],
   "metadata": {
    "collapsed": false
   }
  },
  {
   "cell_type": "code",
   "execution_count": 5,
   "outputs": [
    {
     "ename": "NameError",
     "evalue": "name 'df_series' is not defined",
     "output_type": "error",
     "traceback": [
      "\u001B[0;31m---------------------------------------------------------------------------\u001B[0m",
      "\u001B[0;31mNameError\u001B[0m                                 Traceback (most recent call last)",
      "Cell \u001B[0;32mIn [5], line 12\u001B[0m\n\u001B[1;32m      8\u001B[0m     df_month \u001B[38;5;241m=\u001B[39m pd\u001B[38;5;241m.\u001B[39mget_dummies(pd\u001B[38;5;241m.\u001B[39mto_datetime(df[dummy_column], \u001B[38;5;28mformat\u001B[39m\u001B[38;5;241m=\u001B[39m\u001B[38;5;124m'\u001B[39m\u001B[38;5;124m%\u001B[39m\u001B[38;5;124mY\u001B[39m\u001B[38;5;124m%\u001B[39m\u001B[38;5;124mm\u001B[39m\u001B[38;5;132;01m%d\u001B[39;00m\u001B[38;5;124m'\u001B[39m)\u001B[38;5;241m.\u001B[39mdt\u001B[38;5;241m.\u001B[39mmonth, prefix\u001B[38;5;241m=\u001B[39m\u001B[38;5;124m'\u001B[39m\u001B[38;5;124mmonth\u001B[39m\u001B[38;5;124m'\u001B[39m, drop_first\u001B[38;5;241m=\u001B[39m\u001B[38;5;28;01mTrue\u001B[39;00m)\n\u001B[1;32m      9\u001B[0m     \u001B[38;5;28;01mreturn\u001B[39;00m pd\u001B[38;5;241m.\u001B[39mconcat([df, df_weekday, df_month], axis\u001B[38;5;241m=\u001B[39m\u001B[38;5;241m1\u001B[39m)\n\u001B[0;32m---> 12\u001B[0m df_series_ols \u001B[38;5;241m=\u001B[39m add_dummy_column(add_square_column(\u001B[43mdf_series\u001B[49m, [\u001B[38;5;124m'\u001B[39m\u001B[38;5;124mshareindex_return\u001B[39m\u001B[38;5;124m'\u001B[39m]), \u001B[38;5;124m'\u001B[39m\u001B[38;5;124mtrade_date\u001B[39m\u001B[38;5;124m'\u001B[39m)\n\u001B[1;32m     13\u001B[0m df_series_ols\n",
      "\u001B[0;31mNameError\u001B[0m: name 'df_series' is not defined"
     ]
    }
   ],
   "source": [
    "# 增加平方项\n",
    "def add_square_column(df, square_column: list): return pd.concat([df, df[square_column].pow(2).add_suffix('_s')], axis=1)\n",
    "\n",
    "\n",
    "# 增加日期虚拟变量\n",
    "def add_dummy_column(df, dummy_column: str):\n",
    "    df_weekday = pd.get_dummies(pd.to_datetime(df[dummy_column], format='%Y%m%d').dt.weekday, prefix='weekday', drop_first=True)\n",
    "    df_month = pd.get_dummies(pd.to_datetime(df[dummy_column], format='%Y%m%d').dt.month, prefix='month', drop_first=True)\n",
    "    return pd.concat([df, df_weekday, df_month], axis=1)\n",
    "\n",
    "\n",
    "df_series_ols = add_dummy_column(add_square_column(df_series, ['shareindex_return']), 'trade_date')\n",
    "df_series_ols"
   ],
   "metadata": {
    "collapsed": false
   }
  },
  {
   "cell_type": "markdown",
   "source": [
    "### 3.2 回归结果"
   ],
   "metadata": {
    "collapsed": false
   }
  },
  {
   "cell_type": "code",
   "execution_count": null,
   "outputs": [],
   "source": [
    "%%stata -d df_series_ols -force\n",
    "sum"
   ],
   "metadata": {
    "collapsed": false
   }
  },
  {
   "cell_type": "code",
   "execution_count": 3,
   "outputs": [],
   "source": [
    "%%stata?"
   ],
   "metadata": {
    "collapsed": false
   }
  },
  {
   "cell_type": "code",
   "execution_count": 4,
   "outputs": [
    {
     "ename": "NameError",
     "evalue": "name 'df_series_ols' is not defined",
     "output_type": "error",
     "traceback": [
      "\u001B[0;31m---------------------------------------------------------------------------\u001B[0m",
      "\u001B[0;31mKeyError\u001B[0m                                  Traceback (most recent call last)",
      "File \u001B[0;32m/usr/local/stata17/utilities/pystata/ipython/stpymagic.py:201\u001B[0m, in \u001B[0;36mPyStataMagic.stata\u001B[0;34m(self, line, cell, local_ns)\u001B[0m\n\u001B[1;32m    200\u001B[0m \u001B[38;5;28;01mtry\u001B[39;00m:\n\u001B[0;32m--> 201\u001B[0m     val \u001B[38;5;241m=\u001B[39m \u001B[43mlocal_ns\u001B[49m\u001B[43m[\u001B[49m\u001B[43mdata\u001B[49m\u001B[43m]\u001B[49m\n\u001B[1;32m    202\u001B[0m \u001B[38;5;28;01mexcept\u001B[39;00m \u001B[38;5;167;01mKeyError\u001B[39;00m:\n",
      "\u001B[0;31mKeyError\u001B[0m: 'df_series_ols'",
      "\nDuring handling of the above exception, another exception occurred:\n",
      "\u001B[0;31mKeyError\u001B[0m                                  Traceback (most recent call last)",
      "File \u001B[0;32m/usr/local/stata17/utilities/pystata/ipython/stpymagic.py:204\u001B[0m, in \u001B[0;36mPyStataMagic.stata\u001B[0;34m(self, line, cell, local_ns)\u001B[0m\n\u001B[1;32m    203\u001B[0m \u001B[38;5;28;01mtry\u001B[39;00m:\n\u001B[0;32m--> 204\u001B[0m     val \u001B[38;5;241m=\u001B[39m \u001B[38;5;28;43mself\u001B[39;49m\u001B[38;5;241;43m.\u001B[39;49m\u001B[43mshell\u001B[49m\u001B[38;5;241;43m.\u001B[39;49m\u001B[43muser_ns\u001B[49m\u001B[43m[\u001B[49m\u001B[43mdata\u001B[49m\u001B[43m]\u001B[49m\n\u001B[1;32m    205\u001B[0m \u001B[38;5;28;01mexcept\u001B[39;00m \u001B[38;5;167;01mKeyError\u001B[39;00m:\n",
      "\u001B[0;31mKeyError\u001B[0m: 'df_series_ols'",
      "\nDuring handling of the above exception, another exception occurred:\n",
      "\u001B[0;31mNameError\u001B[0m                                 Traceback (most recent call last)",
      "Cell \u001B[0;32mIn [4], line 1\u001B[0m\n\u001B[0;32m----> 1\u001B[0m \u001B[43mget_ipython\u001B[49m\u001B[43m(\u001B[49m\u001B[43m)\u001B[49m\u001B[38;5;241;43m.\u001B[39;49m\u001B[43mrun_cell_magic\u001B[49m\u001B[43m(\u001B[49m\u001B[38;5;124;43m'\u001B[39;49m\u001B[38;5;124;43mstata\u001B[39;49m\u001B[38;5;124;43m'\u001B[39;49m\u001B[43m,\u001B[49m\u001B[43m \u001B[49m\u001B[38;5;124;43m'\u001B[39;49m\u001B[38;5;124;43m-d df_series_ols -force  -ret DICTIONARY\u001B[39;49m\u001B[38;5;124;43m'\u001B[39;49m\u001B[43m,\u001B[49m\u001B[43m \u001B[49m\u001B[38;5;124;43m'\u001B[39;49m\u001B[38;5;124;43m# @formatter:off\u001B[39;49m\u001B[38;5;130;43;01m\\n\u001B[39;49;00m\u001B[38;5;124;43mge time = _n\u001B[39;49m\u001B[38;5;130;43;01m\\n\u001B[39;49;00m\u001B[38;5;124;43mtsset time\u001B[39;49m\u001B[38;5;130;43;01m\\n\u001B[39;49;00m\u001B[38;5;124;43mvar shareindex_return img_neg shareindex_return_s, lags(1/5) exog(month_*weekday_*)\u001B[39;49m\u001B[38;5;130;43;01m\\n\u001B[39;49;00m\u001B[38;5;124;43m# @formatter:on\u001B[39;49m\u001B[38;5;130;43;01m\\n\u001B[39;49;00m\u001B[38;5;124;43m'\u001B[39;49m\u001B[43m)\u001B[49m\n",
      "File \u001B[0;32m/usr/local/miniconda3/envs/Stata/lib/python3.9/site-packages/IPython/core/interactiveshell.py:2417\u001B[0m, in \u001B[0;36mInteractiveShell.run_cell_magic\u001B[0;34m(self, magic_name, line, cell)\u001B[0m\n\u001B[1;32m   2415\u001B[0m \u001B[38;5;28;01mwith\u001B[39;00m \u001B[38;5;28mself\u001B[39m\u001B[38;5;241m.\u001B[39mbuiltin_trap:\n\u001B[1;32m   2416\u001B[0m     args \u001B[38;5;241m=\u001B[39m (magic_arg_s, cell)\n\u001B[0;32m-> 2417\u001B[0m     result \u001B[38;5;241m=\u001B[39m \u001B[43mfn\u001B[49m\u001B[43m(\u001B[49m\u001B[38;5;241;43m*\u001B[39;49m\u001B[43margs\u001B[49m\u001B[43m,\u001B[49m\u001B[43m \u001B[49m\u001B[38;5;241;43m*\u001B[39;49m\u001B[38;5;241;43m*\u001B[39;49m\u001B[43mkwargs\u001B[49m\u001B[43m)\u001B[49m\n\u001B[1;32m   2418\u001B[0m \u001B[38;5;28;01mreturn\u001B[39;00m result\n",
      "File \u001B[0;32m/usr/local/stata17/utilities/pystata/ipython/stpymagic.py:206\u001B[0m, in \u001B[0;36mPyStataMagic.stata\u001B[0;34m(self, line, cell, local_ns)\u001B[0m\n\u001B[1;32m    204\u001B[0m         val \u001B[38;5;241m=\u001B[39m \u001B[38;5;28mself\u001B[39m\u001B[38;5;241m.\u001B[39mshell\u001B[38;5;241m.\u001B[39muser_ns[data]\n\u001B[1;32m    205\u001B[0m     \u001B[38;5;28;01mexcept\u001B[39;00m \u001B[38;5;167;01mKeyError\u001B[39;00m:\n\u001B[0;32m--> 206\u001B[0m         \u001B[38;5;28;01mraise\u001B[39;00m \u001B[38;5;167;01mNameError\u001B[39;00m(\u001B[38;5;124m\"\u001B[39m\u001B[38;5;124mname \u001B[39m\u001B[38;5;124m'\u001B[39m\u001B[38;5;132;01m%s\u001B[39;00m\u001B[38;5;124m'\u001B[39m\u001B[38;5;124m is not defined\u001B[39m\u001B[38;5;124m\"\u001B[39m \u001B[38;5;241m%\u001B[39m data)\n\u001B[1;32m    209\u001B[0m input_dtype \u001B[38;5;241m=\u001B[39m _get_input_type(val)\n\u001B[1;32m    210\u001B[0m \u001B[38;5;28;01mif\u001B[39;00m input_dtype \u001B[38;5;241m>\u001B[39m \u001B[38;5;241m0\u001B[39m:\n",
      "\u001B[0;31mNameError\u001B[0m: name 'df_series_ols' is not defined"
     ]
    }
   ],
   "source": [
    "%%stata -d df_series_ols -force  -ret DICTIONARY\n",
    "# @formatter:off\n",
    "ge time = _n\n",
    "tsset time\n",
    "var shareindex_return img_neg shareindex_return_s, lags(1/5) exog(month_*weekday_*)\n",
    "# @formatter:on"
   ],
   "metadata": {
    "collapsed": false
   }
  },
  {
   "cell_type": "code",
   "execution_count": null,
   "outputs": [],
   "source": [
    "DICTIONARY"
   ],
   "metadata": {
    "collapsed": false
   }
  },
  {
   "cell_type": "markdown",
   "source": [
    "## 4.按照观测窗口构造投资策略"
   ],
   "metadata": {
    "collapsed": false
   }
  },
  {
   "cell_type": "code",
   "execution_count": null,
   "outputs": [],
   "source": [
    "def cal_return(df, ma):\n",
    "    df[f'img_neg_m{ma}'] = (df['img_neg'].rolling(ma).mean())\n",
    "\n",
    "    # 历史均值\n",
    "    df['sell_signal'] = df['img_neg'] >= df[f'img_neg_m{ma}']\n",
    "    df['sell_signal'] = df['sell_signal'].shift(1)\n",
    "\n",
    "    # 高于均值投资\n",
    "    df['img_return'] = np.where(df['sell_signal'], -1*(df['sell_signal']*df['HIGH']), df['shareindex_return'])\n",
    "\n",
    "    # 去掉空行\n",
    "    df.dropna(axis=0, inplace=True)\n",
    "\n",
    "    # 换算\n",
    "    df['mv_shareindex'] = ((df['shareindex_return'] + 100)/100)\n",
    "    df['mv_img'] = ((df['img_return'] + 100)/100)\n",
    "    df['mv_shareindex'] = df['mv_shareindex'].cumprod(axis=0)\n",
    "    df['mv_img'] = df['mv_img'].cumprod(axis=0)\n",
    "\n",
    "    return df.rename(columns={'mv_img': f'mv_img_{ma}'})\n",
    "\n",
    "\n",
    "def start():\n",
    "    df_in = df_series\n",
    "    for i in [5, ]:\n",
    "        df_in = cal_return(df_in, i)\n",
    "\n",
    "    return df_in\n",
    "\n",
    "# start()"
   ],
   "metadata": {
    "collapsed": false
   }
  }
 ],
 "metadata": {
  "kernelspec": {
   "name": "stata",
   "language": "python",
   "display_name": "Stata"
  },
  "language_info": {
   "codemirror_mode": {
    "name": "ipython",
    "version": 2
   },
   "file_extension": ".py",
   "mimetype": "text/x-python",
   "name": "python",
   "nbconvert_exporter": "python",
   "pygments_lexer": "ipython2",
   "version": "2.7.6"
  }
 },
 "nbformat": 4,
 "nbformat_minor": 0
}
