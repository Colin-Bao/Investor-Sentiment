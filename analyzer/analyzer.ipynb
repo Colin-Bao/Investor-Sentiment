{
 "cells": [
  {
   "cell_type": "markdown",
   "source": [
    "# 情绪投资策略(2014-2022年全A股市场)"
   ],
   "metadata": {
    "collapsed": false
   }
  },
  {
   "cell_type": "markdown",
   "source": [
    "## 数据准备"
   ],
   "metadata": {
    "collapsed": false
   }
  },
  {
   "cell_type": "markdown",
   "source": [
    "### 1.1 加载面板数据"
   ],
   "metadata": {
    "collapsed": false
   }
  },
  {
   "cell_type": "code",
   "execution_count": 1,
   "outputs": [
    {
     "name": "stdout",
     "output_type": "stream",
     "text": [
      "CPU times: user 1.3 s, sys: 788 ms, total: 2.09 s\n",
      "Wall time: 1.55 s\n"
     ]
    }
   ],
   "source": [
    "%%time\n",
    "import sys\n",
    "import os\n",
    "import numpy as np\n",
    "import cudf\n",
    "import pandas as pd\n",
    "\n",
    "sys.path.append('/home/ubuntu/notebook/Investor-Sentiment')\n",
    "\n",
    "\n",
    "def load_data():\n",
    "    # 数据集:个股K线面板数据,个股基本面数据\n",
    "    data_list = ['ASHARE_BAR_PANEL.parquet', 'ASHARE_BASIC_PANEL.parquet']\n",
    "    if not set(data_list).issubset(os.listdir('./DataSets/')):\n",
    "        from loader.findata_loader import DownLoader\n",
    "        DownLoader(MAX_CORE=10).load_data()\n",
    "\n",
    "\n",
    "load_data()"
   ],
   "metadata": {
    "collapsed": false
   }
  },
  {
   "cell_type": "code",
   "execution_count": 2,
   "outputs": [
    {
     "name": "stdout",
     "output_type": "stream",
     "text": [
      "CPU times: user 2.04 s, sys: 1.24 s, total: 3.28 s\n",
      "Wall time: 3.29 s\n"
     ]
    }
   ],
   "source": [
    "%%time\n",
    "\n",
    "def extract_panel():\n",
    "    # 个股K线数据\n",
    "    df_bar = (cudf.read_parquet('./DataSets/ASHARE_BAR_PANEL.parquet', columns=['trade_date', 'ts_code', 'pct_chg'])\n",
    "              .rename(columns={'pct_chg': 'share_return'}))\n",
    "\n",
    "    # 个股基本面数据\n",
    "    df_basic = cudf.read_parquet('./DataSets/ASHARE_BASIC_PANEL.parquet', columns=['trade_date', 'ts_code', 'total_mv'])\n",
    "\n",
    "    # 合并\n",
    "    df_p = cudf.concat([df_bar, df_basic], join=\"left\", axis=1, sort=True)\n",
    "\n",
    "    # 压缩数据\n",
    "    df_p.index.levels[1].astype('category', inplace=True)\n",
    "    return df_p\n",
    "\n",
    "\n",
    "def extract_time_series():\n",
    "    # 股指数据\n",
    "    from utils.sql import DB\n",
    "    db_loader = DB()\n",
    "    df_share_index = (\n",
    "        pd.read_sql_table('399300.SZ', db_loader.ENGINE, 'FIN_DAILY_INDEX', columns=['trade_date', 'pct_chg'])\n",
    "        .astype(dtype={'trade_date': 'uint32'}).set_index('trade_date')\n",
    "        .rename(columns={'pct_chg': 'shareindex_return'}))\n",
    "\n",
    "    # shibor数据\n",
    "    df_shibor = (pd.read_sql_table('SHIBOR', db_loader.ENGINE, 'FIN_DAILY_INDEX', columns=['trade_date', '3m'])\n",
    "                 .astype(dtype={'trade_date': 'uint32'}).set_index('trade_date')\n",
    "                 .rename(columns={'3m': 'riskfree_return'})/360)\n",
    "\n",
    "    # 情绪数据\n",
    "    df_sent = pd.concat([pd.read_sql_table('IMG_SENT', db_loader.ENGINE, 'SENT_DAILY').astype(dtype={'trade_date': 'uint32'})\n",
    "                        .set_index('trade_date').rename(columns={'neg_index': 'img_neg'}),\n",
    "                         pd.read_sql_table('TEX_SENT', db_loader.ENGINE, 'SENT_DAILY').astype(dtype={'trade_date': 'uint32'})\n",
    "                        .set_index('trade_date').rename(columns={'neg_index': 'tex_neg'})], axis=1)\n",
    "    return (\n",
    "        cudf.from_pandas(pd.concat([df_share_index, df_shibor], join=\"inner\", axis=1, sort=True)),\n",
    "        pd.concat([df_sent, df_share_index, df_shibor], join=\"inner\", axis=1, sort=True))\n",
    "\n",
    "\n",
    "def extract_merge():\n",
    "    df_p = extract_panel()\n",
    "    df_t, _ = extract_time_series()\n",
    "    df_m = cudf.merge(left=df_p.reset_index(), right=df_t.reset_index(),\n",
    "                      left_on='trade_date', right_on='trade_date', how=\"left\",\n",
    "                      sort=True)\n",
    "    return df_m.set_index(['trade_date', 'ts_code']).sort_index(ascending=[True, True])\n",
    "\n",
    "\n",
    "df_panel = extract_merge()\n",
    "_, df_time_series = extract_time_series()"
   ],
   "metadata": {
    "collapsed": false
   }
  },
  {
   "cell_type": "markdown",
   "source": [
    "### 1.2 筛选和清洗数据"
   ],
   "metadata": {
    "collapsed": false
   }
  },
  {
   "cell_type": "code",
   "execution_count": 3,
   "outputs": [
    {
     "data": {
      "text/plain": "                      share_return      total_mv  shareindex_return  \\\ntrade_date ts_code                                                    \n20140102   000001.SZ       -0.1641  1.002537e+07            -0.3454   \n           000002.SZ       -0.4972  8.799966e+06            -0.3454   \n           000004.SZ        1.3734  9.917646e+04            -0.3454   \n           000005.SZ       -0.4000  2.276691e+05            -0.3454   \n           000006.SZ       -1.2164  6.574476e+05            -0.3454   \n...                            ...           ...                ...   \n20221130   872374.BJ       -1.7259           NaN             0.1199   \n20221201   301290.SZ       -8.7349  4.856403e+05             1.0831   \n           301311.SZ       12.7436  5.414400e+05             1.0831   \n           870199.BJ       -3.1447  1.498420e+05             1.0831   \n           872374.BJ        0.2066           NaN             1.0831   \n\n                      riskfree_return  \ntrade_date ts_code                     \n20140102   000001.SZ         0.015460  \n           000002.SZ         0.015460  \n           000004.SZ         0.015460  \n           000005.SZ         0.015460  \n           000006.SZ         0.015460  \n...                               ...  \n20221130   872374.BJ         0.006092  \n20221201   301290.SZ         0.006103  \n           301311.SZ         0.006103  \n           870199.BJ         0.006103  \n           872374.BJ         0.006103  \n\n[7143120 rows x 4 columns]",
      "text/html": "<div>\n<style scoped>\n    .dataframe tbody tr th:only-of-type {\n        vertical-align: middle;\n    }\n\n    .dataframe tbody tr th {\n        vertical-align: top;\n    }\n\n    .dataframe thead th {\n        text-align: right;\n    }\n</style>\n<table border=\"1\" class=\"dataframe\">\n  <thead>\n    <tr style=\"text-align: right;\">\n      <th></th>\n      <th></th>\n      <th>share_return</th>\n      <th>total_mv</th>\n      <th>shareindex_return</th>\n      <th>riskfree_return</th>\n    </tr>\n    <tr>\n      <th>trade_date</th>\n      <th>ts_code</th>\n      <th></th>\n      <th></th>\n      <th></th>\n      <th></th>\n    </tr>\n  </thead>\n  <tbody>\n    <tr>\n      <th rowspan=\"5\" valign=\"top\">20140102</th>\n      <th>000001.SZ</th>\n      <td>-0.1641</td>\n      <td>1.002537e+07</td>\n      <td>-0.3454</td>\n      <td>0.015460</td>\n    </tr>\n    <tr>\n      <th>000002.SZ</th>\n      <td>-0.4972</td>\n      <td>8.799966e+06</td>\n      <td>-0.3454</td>\n      <td>0.015460</td>\n    </tr>\n    <tr>\n      <th>000004.SZ</th>\n      <td>1.3734</td>\n      <td>9.917646e+04</td>\n      <td>-0.3454</td>\n      <td>0.015460</td>\n    </tr>\n    <tr>\n      <th>000005.SZ</th>\n      <td>-0.4000</td>\n      <td>2.276691e+05</td>\n      <td>-0.3454</td>\n      <td>0.015460</td>\n    </tr>\n    <tr>\n      <th>000006.SZ</th>\n      <td>-1.2164</td>\n      <td>6.574476e+05</td>\n      <td>-0.3454</td>\n      <td>0.015460</td>\n    </tr>\n    <tr>\n      <th>...</th>\n      <th>...</th>\n      <td>...</td>\n      <td>...</td>\n      <td>...</td>\n      <td>...</td>\n    </tr>\n    <tr>\n      <th>20221130</th>\n      <th>872374.BJ</th>\n      <td>-1.7259</td>\n      <td>NaN</td>\n      <td>0.1199</td>\n      <td>0.006092</td>\n    </tr>\n    <tr>\n      <th rowspan=\"4\" valign=\"top\">20221201</th>\n      <th>301290.SZ</th>\n      <td>-8.7349</td>\n      <td>4.856403e+05</td>\n      <td>1.0831</td>\n      <td>0.006103</td>\n    </tr>\n    <tr>\n      <th>301311.SZ</th>\n      <td>12.7436</td>\n      <td>5.414400e+05</td>\n      <td>1.0831</td>\n      <td>0.006103</td>\n    </tr>\n    <tr>\n      <th>870199.BJ</th>\n      <td>-3.1447</td>\n      <td>1.498420e+05</td>\n      <td>1.0831</td>\n      <td>0.006103</td>\n    </tr>\n    <tr>\n      <th>872374.BJ</th>\n      <td>0.2066</td>\n      <td>NaN</td>\n      <td>1.0831</td>\n      <td>0.006103</td>\n    </tr>\n  </tbody>\n</table>\n<p>7143120 rows × 4 columns</p>\n</div>"
     },
     "execution_count": 3,
     "metadata": {},
     "output_type": "execute_result"
    }
   ],
   "source": [
    "df_panel = df_panel[df_panel.index.get_level_values('trade_date') >= 20140101].to_pandas()\n",
    "df_panel"
   ],
   "metadata": {
    "collapsed": false
   }
  },
  {
   "cell_type": "markdown",
   "source": [
    "## 2.构造截面异质波动率与市值高低组合"
   ],
   "metadata": {
    "collapsed": false
   }
  },
  {
   "cell_type": "markdown",
   "source": [
    "#### 2.1 计算面板数据的异质波动率IDVOL"
   ],
   "metadata": {
    "collapsed": false
   }
  },
  {
   "cell_type": "code",
   "execution_count": 4,
   "outputs": [
    {
     "name": "stdout",
     "output_type": "stream",
     "text": [
      "CPU times: user 275 ms, sys: 15.5 ms, total: 290 ms\n",
      "Wall time: 289 ms\n"
     ]
    }
   ],
   "source": [
    "%%time\n",
    "from statsmodels.regression.rolling import RollingOLS\n",
    "# 多线程分组计算\n",
    "from pandarallel import pandarallel\n",
    "\n",
    "\n",
    "def roll_idvol(df_code: pd.DataFrame, ols_window: int, var_ma: int) -> pd.DataFrame:\n",
    "    \"\"\"\n",
    "    滚动OLS回归求异质波动率\n",
    "    \"\"\"\n",
    "    try:\n",
    "        # 索引\n",
    "        # 估计参数\n",
    "        model_ols = RollingOLS(endog=df_code[['Y']], exog=df_code[['CONST', 'X']], window=ols_window, )\n",
    "        df_para = model_ols.fit().params.rename(columns={'CONST': 'Alpha', 'X': 'Beta'})\n",
    "        # 预测残差 已经对齐了\n",
    "        df_con = pd.concat([df_code, df_para], axis=1, join='inner')\n",
    "        df_con['Residual'] = df_con['Alpha'] + df_con['Beta']*df_con['X'] - df_con['Y']\n",
    "        # 计算月波动率\n",
    "        df_con['Idvol'] = df_con['Residual'].rolling(var_ma).apply(lambda x: np.var(x, ddof=1))\n",
    "        return df_con[['share_return', 'total_mv', 'Idvol']]\n",
    "\n",
    "    except Exception as e:\n",
    "        print(e)\n",
    "        return pd.DataFrame(columns=['trade_date', 'ts_code']).set_index(['trade_date', 'ts_code'])\n",
    "\n",
    "\n",
    "def cal_panel_ols():\n",
    "    # 定义回归变量 CAPM回归: (rm-rf)=a+b*(RM-rf)\n",
    "    df_panel['Y'] = df_panel['share_return'] - df_panel['riskfree_return']\n",
    "    df_panel['CONST'] = 1  # 带截距项回归\n",
    "    df_panel['X'] = df_panel['shareindex_return'] - df_panel['riskfree_return']\n",
    "\n",
    "    # 多线程加速\n",
    "    pandarallel.initialize(progress_bar=True)\n",
    "    df_out = (df_panel.groupby(level=['ts_code'])[['share_return', 'total_mv', 'Y', 'CONST', 'X']]\n",
    "              .parallel_apply(lambda x: roll_idvol(x, 5, 30)).droplevel(2))\n",
    "    # 保存\n",
    "    df_out.to_parquet('./DataSets/ASHARE_OLS_PANEL.parquet', engine='pyarrow', index=True)\n",
    "\n",
    "\n",
    "#\n",
    "if not os.path.exists('./DataSets/ASHARE_OLS_PANEL.parquet'):\n",
    "    cal_panel_ols()"
   ],
   "metadata": {
    "collapsed": false
   }
  },
  {
   "cell_type": "markdown",
   "source": [
    "### 2.2 按照异质波动率分组"
   ],
   "metadata": {
    "collapsed": false
   }
  },
  {
   "cell_type": "markdown",
   "source": [
    "上面的面板数据计算完成后,从这里开始运行"
   ],
   "metadata": {
    "collapsed": false
   }
  },
  {
   "cell_type": "code",
   "execution_count": 10,
   "outputs": [
    {
     "data": {
      "text/plain": "                      share_return      total_mv        Idvol\ntrade_date ts_code                                           \n20140102   000001.SZ       -0.1641  1.002537e+07         <NA>\n           000002.SZ       -0.4972  8.799966e+06         <NA>\n           000004.SZ        1.3734  9.917646e+04         <NA>\n           000005.SZ       -0.4000  2.276691e+05         <NA>\n           000006.SZ       -1.2164  6.574476e+05         <NA>\n...                            ...           ...          ...\n20221128   873122.BJ       -2.0158  1.259199e+05  19.27363078\n           873169.BJ       -1.5198  5.443271e+04  1.319910083\n           873223.BJ       -0.2660  5.898188e+04  0.730762806\n           873339.BJ       -0.5093  1.290394e+05         <NA>\n           873527.BJ        0.0000  5.445873e+04         <NA>\n\n[7136670 rows x 3 columns]",
      "text/html": "<div>\n<style scoped>\n    .dataframe tbody tr th:only-of-type {\n        vertical-align: middle;\n    }\n\n    .dataframe tbody tr th {\n        vertical-align: top;\n    }\n\n    .dataframe thead th {\n        text-align: right;\n    }\n</style>\n<table border=\"1\" class=\"dataframe\">\n  <thead>\n    <tr style=\"text-align: right;\">\n      <th></th>\n      <th></th>\n      <th>share_return</th>\n      <th>total_mv</th>\n      <th>Idvol</th>\n    </tr>\n    <tr>\n      <th>trade_date</th>\n      <th>ts_code</th>\n      <th></th>\n      <th></th>\n      <th></th>\n    </tr>\n  </thead>\n  <tbody>\n    <tr>\n      <th rowspan=\"5\" valign=\"top\">20140102</th>\n      <th>000001.SZ</th>\n      <td>-0.1641</td>\n      <td>1.002537e+07</td>\n      <td>&lt;NA&gt;</td>\n    </tr>\n    <tr>\n      <th>000002.SZ</th>\n      <td>-0.4972</td>\n      <td>8.799966e+06</td>\n      <td>&lt;NA&gt;</td>\n    </tr>\n    <tr>\n      <th>000004.SZ</th>\n      <td>1.3734</td>\n      <td>9.917646e+04</td>\n      <td>&lt;NA&gt;</td>\n    </tr>\n    <tr>\n      <th>000005.SZ</th>\n      <td>-0.4000</td>\n      <td>2.276691e+05</td>\n      <td>&lt;NA&gt;</td>\n    </tr>\n    <tr>\n      <th>000006.SZ</th>\n      <td>-1.2164</td>\n      <td>6.574476e+05</td>\n      <td>&lt;NA&gt;</td>\n    </tr>\n    <tr>\n      <th>...</th>\n      <th>...</th>\n      <td>...</td>\n      <td>...</td>\n      <td>...</td>\n    </tr>\n    <tr>\n      <th rowspan=\"5\" valign=\"top\">20221128</th>\n      <th>873122.BJ</th>\n      <td>-2.0158</td>\n      <td>1.259199e+05</td>\n      <td>19.27363078</td>\n    </tr>\n    <tr>\n      <th>873169.BJ</th>\n      <td>-1.5198</td>\n      <td>5.443271e+04</td>\n      <td>1.319910083</td>\n    </tr>\n    <tr>\n      <th>873223.BJ</th>\n      <td>-0.2660</td>\n      <td>5.898188e+04</td>\n      <td>0.730762806</td>\n    </tr>\n    <tr>\n      <th>873339.BJ</th>\n      <td>-0.5093</td>\n      <td>1.290394e+05</td>\n      <td>&lt;NA&gt;</td>\n    </tr>\n    <tr>\n      <th>873527.BJ</th>\n      <td>0.0000</td>\n      <td>5.445873e+04</td>\n      <td>&lt;NA&gt;</td>\n    </tr>\n  </tbody>\n</table>\n<p>7136670 rows × 3 columns</p>\n</div>"
     },
     "execution_count": 10,
     "metadata": {},
     "output_type": "execute_result"
    }
   ],
   "source": [
    "import pandas as pd\n",
    "import numpy as np\n",
    "import cudf\n",
    "\n",
    "QUANTILE = 0.5\n",
    "df_ols_panel = cudf.read_parquet('./DataSets/ASHARE_OLS_PANEL.parquet').reset_index().set_index(['trade_date', 'ts_code']).sort_index()\n",
    "df_ols_panel"
   ],
   "metadata": {
    "collapsed": false
   }
  },
  {
   "cell_type": "code",
   "execution_count": 11,
   "outputs": [
    {
     "name": "stdout",
     "output_type": "stream",
     "text": [
      "CPU times: user 3.07 s, sys: 987 ms, total: 4.05 s\n",
      "Wall time: 4.06 s\n"
     ]
    },
    {
     "data": {
      "text/plain": "                                  share_return      total_mv        Idvol  \\\ntrade_date idvol_group ts_code                                              \n20140102   LOW         000001.SZ       -0.1641  1.002537e+07         <NA>   \n                       000002.SZ       -0.4972  8.799966e+06         <NA>   \n                       000004.SZ        1.3734  9.917646e+04         <NA>   \n                       000005.SZ       -0.4000  2.276691e+05         <NA>   \n                       000006.SZ       -1.2164  6.574476e+05         <NA>   \n...                                        ...           ...          ...   \n20221128   LOW         872925.BJ       -0.3987  7.386323e+04  1.366920583   \n                       873169.BJ       -1.5198  5.443271e+04  1.319910083   \n                       873223.BJ       -0.2660  5.898188e+04  0.730762806   \n                       873339.BJ       -0.5093  1.290394e+05         <NA>   \n                       873527.BJ        0.0000  5.445873e+04         <NA>   \n\n                                    idvol_top  mv_ratio  idvol_vw_ratio  \\\ntrade_date idvol_group ts_code                                            \n20140102   LOW         000001.SZ         <NA>  0.003834       -0.000629   \n                       000002.SZ         <NA>  0.003365       -0.001673   \n                       000004.SZ         <NA>  0.000038        0.000052   \n                       000005.SZ         <NA>  0.000087       -0.000035   \n                       000006.SZ         <NA>  0.000251       -0.000306   \n...                                       ...       ...             ...   \n20221128   LOW         872925.BJ  2.944717594  0.000013       -0.000005   \n                       873169.BJ  2.944717594  0.000010       -0.000015   \n                       873223.BJ  2.944717594  0.000011       -0.000003   \n                       873339.BJ  2.944717594  0.000023       -0.000012   \n                       873527.BJ  2.944717594  0.000010        0.000000   \n\n                                  idvol_group_return  \ntrade_date idvol_group ts_code                        \n20140102   LOW         000001.SZ            0.104007  \n                       000002.SZ            0.104007  \n                       000004.SZ            0.104007  \n                       000005.SZ            0.104007  \n                       000006.SZ            0.104007  \n...                                              ...  \n20221128   LOW         872925.BJ           -0.769940  \n                       873169.BJ           -0.769940  \n                       873223.BJ           -0.769940  \n                       873339.BJ           -0.769940  \n                       873527.BJ           -0.769940  \n\n[7136670 rows x 7 columns]",
      "text/html": "<div>\n<style scoped>\n    .dataframe tbody tr th:only-of-type {\n        vertical-align: middle;\n    }\n\n    .dataframe tbody tr th {\n        vertical-align: top;\n    }\n\n    .dataframe thead th {\n        text-align: right;\n    }\n</style>\n<table border=\"1\" class=\"dataframe\">\n  <thead>\n    <tr style=\"text-align: right;\">\n      <th></th>\n      <th></th>\n      <th></th>\n      <th>share_return</th>\n      <th>total_mv</th>\n      <th>Idvol</th>\n      <th>idvol_top</th>\n      <th>mv_ratio</th>\n      <th>idvol_vw_ratio</th>\n      <th>idvol_group_return</th>\n    </tr>\n    <tr>\n      <th>trade_date</th>\n      <th>idvol_group</th>\n      <th>ts_code</th>\n      <th></th>\n      <th></th>\n      <th></th>\n      <th></th>\n      <th></th>\n      <th></th>\n      <th></th>\n    </tr>\n  </thead>\n  <tbody>\n    <tr>\n      <th rowspan=\"5\" valign=\"top\">20140102</th>\n      <th rowspan=\"5\" valign=\"top\">LOW</th>\n      <th>000001.SZ</th>\n      <td>-0.1641</td>\n      <td>1.002537e+07</td>\n      <td>&lt;NA&gt;</td>\n      <td>&lt;NA&gt;</td>\n      <td>0.003834</td>\n      <td>-0.000629</td>\n      <td>0.104007</td>\n    </tr>\n    <tr>\n      <th>000002.SZ</th>\n      <td>-0.4972</td>\n      <td>8.799966e+06</td>\n      <td>&lt;NA&gt;</td>\n      <td>&lt;NA&gt;</td>\n      <td>0.003365</td>\n      <td>-0.001673</td>\n      <td>0.104007</td>\n    </tr>\n    <tr>\n      <th>000004.SZ</th>\n      <td>1.3734</td>\n      <td>9.917646e+04</td>\n      <td>&lt;NA&gt;</td>\n      <td>&lt;NA&gt;</td>\n      <td>0.000038</td>\n      <td>0.000052</td>\n      <td>0.104007</td>\n    </tr>\n    <tr>\n      <th>000005.SZ</th>\n      <td>-0.4000</td>\n      <td>2.276691e+05</td>\n      <td>&lt;NA&gt;</td>\n      <td>&lt;NA&gt;</td>\n      <td>0.000087</td>\n      <td>-0.000035</td>\n      <td>0.104007</td>\n    </tr>\n    <tr>\n      <th>000006.SZ</th>\n      <td>-1.2164</td>\n      <td>6.574476e+05</td>\n      <td>&lt;NA&gt;</td>\n      <td>&lt;NA&gt;</td>\n      <td>0.000251</td>\n      <td>-0.000306</td>\n      <td>0.104007</td>\n    </tr>\n    <tr>\n      <th>...</th>\n      <th>...</th>\n      <th>...</th>\n      <td>...</td>\n      <td>...</td>\n      <td>...</td>\n      <td>...</td>\n      <td>...</td>\n      <td>...</td>\n      <td>...</td>\n    </tr>\n    <tr>\n      <th rowspan=\"5\" valign=\"top\">20221128</th>\n      <th rowspan=\"5\" valign=\"top\">LOW</th>\n      <th>872925.BJ</th>\n      <td>-0.3987</td>\n      <td>7.386323e+04</td>\n      <td>1.366920583</td>\n      <td>2.944717594</td>\n      <td>0.000013</td>\n      <td>-0.000005</td>\n      <td>-0.769940</td>\n    </tr>\n    <tr>\n      <th>873169.BJ</th>\n      <td>-1.5198</td>\n      <td>5.443271e+04</td>\n      <td>1.319910083</td>\n      <td>2.944717594</td>\n      <td>0.000010</td>\n      <td>-0.000015</td>\n      <td>-0.769940</td>\n    </tr>\n    <tr>\n      <th>873223.BJ</th>\n      <td>-0.2660</td>\n      <td>5.898188e+04</td>\n      <td>0.730762806</td>\n      <td>2.944717594</td>\n      <td>0.000011</td>\n      <td>-0.000003</td>\n      <td>-0.769940</td>\n    </tr>\n    <tr>\n      <th>873339.BJ</th>\n      <td>-0.5093</td>\n      <td>1.290394e+05</td>\n      <td>&lt;NA&gt;</td>\n      <td>2.944717594</td>\n      <td>0.000023</td>\n      <td>-0.000012</td>\n      <td>-0.769940</td>\n    </tr>\n    <tr>\n      <th>873527.BJ</th>\n      <td>0.0000</td>\n      <td>5.445873e+04</td>\n      <td>&lt;NA&gt;</td>\n      <td>2.944717594</td>\n      <td>0.000010</td>\n      <td>0.000000</td>\n      <td>-0.769940</td>\n    </tr>\n  </tbody>\n</table>\n<p>7136670 rows × 7 columns</p>\n</div>"
     },
     "execution_count": 11,
     "metadata": {},
     "output_type": "execute_result"
    }
   ],
   "source": [
    "%%time\n",
    "\n",
    "# 分组\n",
    "df_ols_panel['idvol_top'] = df_ols_panel['Idvol'].groupby(level=['trade_date']).transform(lambda x: x.quantile(QUANTILE))\n",
    "df_ols_panel['idvol_group'] = np.where(df_ols_panel['Idvol'].to_pandas() >= df_ols_panel['idvol_top'].to_pandas(), \"HIGH\", \"LOW\")\n",
    "df_ols_panel = df_ols_panel.reset_index().set_index(['trade_date', 'idvol_group', 'ts_code']).sort_index()\n",
    "\n",
    "# 求组中市值加权系数,并求回报\n",
    "df_ols_panel['mv_ratio'] = (df_ols_panel['total_mv']/df_ols_panel\n",
    "                            .groupby(level=['trade_date', 'idvol_group'])['total_mv'].transform('sum'))\n",
    "# 求组中回报\n",
    "df_ols_panel['idvol_vw_ratio'] = df_ols_panel['mv_ratio']*df_ols_panel['share_return']\n",
    "df_ols_panel['idvol_group_return'] = (df_ols_panel.groupby(level=['trade_date', 'idvol_group'])['idvol_vw_ratio'].transform('sum'))\n",
    "\n",
    "df_ols_panel"
   ],
   "metadata": {
    "collapsed": false
   }
  },
  {
   "cell_type": "code",
   "execution_count": 12,
   "outputs": [
    {
     "data": {
      "text/plain": "                HIGH       LOW   img_neg   tex_neg  shareindex_return  \\\ntrade_date                                                              \n20140225   -4.016731 -1.827917  0.000000  0.000000            -2.5559   \n20140226    0.985354  0.193332  0.666667  0.000000             0.2547   \n20140227   -0.781264  0.026462  0.000000  0.000000            -0.4297   \n20140228    1.174221  0.582117  0.333333  0.666667             1.1542   \n20140303    1.989484  0.722860  0.333333  0.333333             0.5231   \n...              ...       ...       ...       ...                ...   \n20220621   -0.810936  0.125217  0.238095  0.285714            -0.1124   \n20220622   -0.807400 -1.345733  0.227273  0.227273            -1.2702   \n20220623    2.629145  1.459178  0.363636  0.363636             1.7153   \n20220624    1.323591  0.901009  0.200000  0.300000             1.1716   \n20220627    1.406000  0.762883  0.200000  0.133333             1.1261   \n\n            riskfree_return  \ntrade_date                   \n20140225           0.015440  \n20140226           0.015393  \n20140227           0.015378  \n20140228           0.015358  \n20140303           0.015331  \n...                     ...  \n20220621           0.005556  \n20220622           0.005556  \n20220623           0.005556  \n20220624           0.005556  \n20220627           0.005556  \n\n[2031 rows x 6 columns]",
      "text/html": "<div>\n<style scoped>\n    .dataframe tbody tr th:only-of-type {\n        vertical-align: middle;\n    }\n\n    .dataframe tbody tr th {\n        vertical-align: top;\n    }\n\n    .dataframe thead th {\n        text-align: right;\n    }\n</style>\n<table border=\"1\" class=\"dataframe\">\n  <thead>\n    <tr style=\"text-align: right;\">\n      <th></th>\n      <th>HIGH</th>\n      <th>LOW</th>\n      <th>img_neg</th>\n      <th>tex_neg</th>\n      <th>shareindex_return</th>\n      <th>riskfree_return</th>\n    </tr>\n    <tr>\n      <th>trade_date</th>\n      <th></th>\n      <th></th>\n      <th></th>\n      <th></th>\n      <th></th>\n      <th></th>\n    </tr>\n  </thead>\n  <tbody>\n    <tr>\n      <th>20140225</th>\n      <td>-4.016731</td>\n      <td>-1.827917</td>\n      <td>0.000000</td>\n      <td>0.000000</td>\n      <td>-2.5559</td>\n      <td>0.015440</td>\n    </tr>\n    <tr>\n      <th>20140226</th>\n      <td>0.985354</td>\n      <td>0.193332</td>\n      <td>0.666667</td>\n      <td>0.000000</td>\n      <td>0.2547</td>\n      <td>0.015393</td>\n    </tr>\n    <tr>\n      <th>20140227</th>\n      <td>-0.781264</td>\n      <td>0.026462</td>\n      <td>0.000000</td>\n      <td>0.000000</td>\n      <td>-0.4297</td>\n      <td>0.015378</td>\n    </tr>\n    <tr>\n      <th>20140228</th>\n      <td>1.174221</td>\n      <td>0.582117</td>\n      <td>0.333333</td>\n      <td>0.666667</td>\n      <td>1.1542</td>\n      <td>0.015358</td>\n    </tr>\n    <tr>\n      <th>20140303</th>\n      <td>1.989484</td>\n      <td>0.722860</td>\n      <td>0.333333</td>\n      <td>0.333333</td>\n      <td>0.5231</td>\n      <td>0.015331</td>\n    </tr>\n    <tr>\n      <th>...</th>\n      <td>...</td>\n      <td>...</td>\n      <td>...</td>\n      <td>...</td>\n      <td>...</td>\n      <td>...</td>\n    </tr>\n    <tr>\n      <th>20220621</th>\n      <td>-0.810936</td>\n      <td>0.125217</td>\n      <td>0.238095</td>\n      <td>0.285714</td>\n      <td>-0.1124</td>\n      <td>0.005556</td>\n    </tr>\n    <tr>\n      <th>20220622</th>\n      <td>-0.807400</td>\n      <td>-1.345733</td>\n      <td>0.227273</td>\n      <td>0.227273</td>\n      <td>-1.2702</td>\n      <td>0.005556</td>\n    </tr>\n    <tr>\n      <th>20220623</th>\n      <td>2.629145</td>\n      <td>1.459178</td>\n      <td>0.363636</td>\n      <td>0.363636</td>\n      <td>1.7153</td>\n      <td>0.005556</td>\n    </tr>\n    <tr>\n      <th>20220624</th>\n      <td>1.323591</td>\n      <td>0.901009</td>\n      <td>0.200000</td>\n      <td>0.300000</td>\n      <td>1.1716</td>\n      <td>0.005556</td>\n    </tr>\n    <tr>\n      <th>20220627</th>\n      <td>1.406000</td>\n      <td>0.762883</td>\n      <td>0.200000</td>\n      <td>0.133333</td>\n      <td>1.1261</td>\n      <td>0.005556</td>\n    </tr>\n  </tbody>\n</table>\n<p>2031 rows × 6 columns</p>\n</div>"
     },
     "execution_count": 12,
     "metadata": {},
     "output_type": "execute_result"
    }
   ],
   "source": [
    "# 提取分组数据\n",
    "df_ols_panel = df_ols_panel[['idvol_group_return']].to_pandas().droplevel('ts_code')\n",
    "df_ols_panel = df_ols_panel[~df_ols_panel.index.duplicated(keep='last')]\n",
    "# 转为时间序列数据\n",
    "df_series = (df_ols_panel.reset_index()\n",
    "             .pivot(index='trade_date', columns='idvol_group', values='idvol_group_return'))\n",
    "# 合并其他时间序列数据\n",
    "df_series = df_series.join(df_time_series, how='inner').dropna(axis=0)\n",
    "df_series"
   ],
   "metadata": {
    "collapsed": false
   }
  },
  {
   "cell_type": "markdown",
   "source": [
    "## 3.按照观测窗口构造投资策略"
   ],
   "metadata": {
    "collapsed": false
   }
  },
  {
   "cell_type": "code",
   "execution_count": 8,
   "outputs": [],
   "source": [
    "def cal_return(df, MA):\n",
    "    df[f'img_neg_m{MA}'] = (df['img_neg'].rolling(MA).mean())\n",
    "\n",
    "    # 历史均值\n",
    "    df['is_ma_img'] = (df['img_neg'] >= df[f'img_neg_m{MA}'])\n",
    "    df['is_ma_img'] = df['is_ma_img'].shift(1)\n",
    "\n",
    "    # 高于均值投资\n",
    "    df['img_return'] = np.where(df['is_ma_img'], -1*(df['is_ma_img']*df['HIGH']), df['index_return'])\n",
    "\n",
    "    # 换算\n",
    "    df.dropna(axis=0, inplace=True)\n",
    "\n",
    "    df['mv_csi300'] = (df['index_return'] + 100)/100\n",
    "    df['mv_img'] = (df['img_return'] + 100)/100\n",
    "\n",
    "    df['mv_csi300'] = df['mv_csi300'].cumprod(axis=0)\n",
    "    df['mv_img'] = df['mv_img'].cumprod(axis=0)\n",
    "\n",
    "    return df.rename(columns={'mv_img': f'mv_img_{MA}'})\n",
    "\n",
    "\n",
    "def start():\n",
    "    df_in = df_series\n",
    "    for i in [5]:\n",
    "        df_in = cal_return(df_in, i)\n",
    "    df_in = df_in[[i for i in df_in.columns if 'mv_' in i]]\n"
   ],
   "metadata": {
    "collapsed": false
   }
  }
 ],
 "metadata": {
  "kernelspec": {
   "name": "stata",
   "language": "python",
   "display_name": "Stata"
  },
  "language_info": {
   "codemirror_mode": {
    "name": "ipython",
    "version": 2
   },
   "file_extension": ".py",
   "mimetype": "text/x-python",
   "name": "python",
   "nbconvert_exporter": "python",
   "pygments_lexer": "ipython2",
   "version": "2.7.6"
  }
 },
 "nbformat": 4,
 "nbformat_minor": 0
}
