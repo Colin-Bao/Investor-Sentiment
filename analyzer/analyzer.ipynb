{
 "cells": [
  {
   "cell_type": "markdown",
   "source": [
    "# 情绪对股票市场的影响"
   ],
   "metadata": {
    "collapsed": false
   }
  },
  {
   "cell_type": "markdown",
   "source": [
    "## 1.数据准备\n",
    "风险偏好\n",
    "事件"
   ],
   "metadata": {
    "collapsed": false
   }
  },
  {
   "cell_type": "code",
   "execution_count": 1,
   "outputs": [
    {
     "name": "stdout",
     "output_type": "stream",
     "text": [
      "\n",
      "  ___  ____  ____  ____  ____ ©\n",
      " /__    /   ____/   /   ____/      17.0\n",
      "___/   /   /___/   /   /___/       MP—Parallel Edition\n",
      "\n",
      " Statistics and Data Science       Copyright 1985-2021 StataCorp LLC\n",
      "                                   StataCorp\n",
      "                                   4905 Lakeway Drive\n",
      "                                   College Station, Texas 77845 USA\n",
      "                                   800-STATA-PC        https://www.stata.com\n",
      "                                   979-696-4600        stata@stata.com\n",
      "\n",
      "Stata license: Single-user 8-core , expiring  1 Jan 2025\n",
      "Serial number: 501709301094\n",
      "  Licensed to: Colin's Stata\n",
      "               Love U\n",
      "\n",
      "Notes:\n",
      "      1. Unicode is supported; see help unicode_advice.\n",
      "      2. More than 2 billion observations are allowed; see help obs_advice.\n",
      "      3. Maximum number of variables is set to 5,000; see help set_maxvar.\n"
     ]
    }
   ],
   "source": [
    "import sys\n",
    "import os\n",
    "import numpy as np\n",
    "import cudf  #CUDA计算\n",
    "import pandas as pd\n",
    "\n",
    "sys.path.append('/home/ubuntu/notebook/Investor-Sentiment')\n",
    "sys.path.append('/usr/local/stata17/utilities')\n",
    "from pystata import config  #Stata\n",
    "from statsmodels.regression.rolling import RollingOLS  #滚动回归\n",
    "from statsmodels.regression.linear_model import OLS  #OLS回归\n",
    "from pandarallel import pandarallel  #多线程groupby Apply\n",
    "import matplotlib.pyplot as plt\n",
    "\n",
    "# 数据库\n",
    "from utils.sql import DB\n",
    "from loader.findata_loader import DownLoader\n",
    "\n",
    "# Stata\n",
    "config.init('mp')\n",
    "\n",
    "# ------------------------------数据集路径----------------------------------#\n",
    "DATASETS_PATH = '/data/DataSets/investor_sentiment/'"
   ],
   "metadata": {
    "collapsed": false
   }
  },
  {
   "cell_type": "markdown",
   "source": [
    "### 1.1 下载和合并面板数据"
   ],
   "metadata": {
    "collapsed": false
   }
  },
  {
   "cell_type": "code",
   "execution_count": 2,
   "outputs": [
    {
     "name": "stderr",
     "output_type": "stream",
     "text": [
      "0it [00:00, ?it/s]\n",
      "0it [00:00, ?it/s]\u001B[A\n",
      "\n",
      "0it [00:00, ?it/s]\u001B[A\n",
      "0it [00:00, ?it/s]\n",
      "0it [00:00, ?it/s]\n",
      "\n",
      "0it [00:00, ?it/s]\u001B[A\n",
      "\n",
      "0it [00:00, ?it/s]\u001B[A\n",
      "0it [00:00, ?it/s]\n",
      "0it [00:00, ?it/s]\n",
      "\n",
      "0it [00:00, ?it/s]\u001B[A\n",
      "0it [00:00, ?it/s]\n"
     ]
    }
   ],
   "source": [
    "# 数据集:个股K线面板数据,个股基本面数据\n",
    "def load_data(): DownLoader(MAX_CORE=10).load_data()\n",
    "\n",
    "\n",
    "load_data()"
   ],
   "metadata": {
    "collapsed": false
   }
  },
  {
   "cell_type": "markdown",
   "source": [
    "其他时间序列数据源"
   ],
   "metadata": {
    "collapsed": false
   }
  },
  {
   "cell_type": "markdown",
   "source": [
    "#### 指数盈利预测面板数据"
   ],
   "metadata": {
    "collapsed": false
   }
  },
  {
   "cell_type": "code",
   "execution_count": 2,
   "outputs": [
    {
     "data": {
      "text/plain": "                      CON_YEAR        CON_OR        CON_NP  CON_EPS  \\\ntrade_date ts_code                                                    \n20131231   000002.SH      2013  2.150299e+09  1.996171e+08   0.6183   \n           000010.SH      2013  1.616497e+09  1.803029e+08   0.7227   \n           000015.SH      2013  9.223393e+08  1.402562e+08   0.7359   \n           000016.SH      2013  1.095701e+09  1.190502e+08   0.7747   \n           000067.SH      2013  1.304862e+08  7.875350e+06   0.5807   \n...                        ...           ...           ...      ...   \n20221028   399312.SZ      2022  3.583564e+09  3.023053e+08   1.1050   \n           399313.SZ      2022  2.848629e+09  3.164494e+08   1.1574   \n           399317.SZ      2022  7.321688e+09  5.934493e+08   0.7403   \n           000985.SH      2022  7.224144e+09  5.840384e+08   0.7555   \n           000688.SH      2022  6.009689e+07  7.351126e+06   1.0083   \n\n                            CON_NA  CON_PB  CON_PS   CON_PE  CON_PEG  CON_ROE  \\\ntrade_date ts_code                                                              \n20131231   000002.SH  1.407965e+09  1.2913  0.8455   9.1078   0.5689    14.18   \n           000010.SH  1.156060e+09  1.1894  0.8506   7.6264   0.5842    15.60   \n           000015.SH  8.384264e+08  1.0141  0.9219   6.0624   0.5667    16.73   \n           000016.SH  7.548906e+08  1.1679  0.8046   7.4054   0.5799    15.77   \n           000067.SH  6.214941e+07  2.2588  1.0758  17.8255   0.9922    12.67   \n...                            ...     ...     ...      ...      ...      ...   \n20221028   399312.SZ  2.454648e+09  1.4467  0.9909  11.7465   0.7619    12.32   \n           399313.SZ  2.754211e+09  0.9901  0.9572   8.6169   0.7773    11.49   \n           399317.SZ  5.905421e+09  1.2950  1.0445  12.8868   0.7655    10.05   \n           000985.SH  5.825681e+09  1.3191  1.0637  13.1574   0.7802    10.03   \n           000688.SH  6.128843e+07  4.1037  4.1850  34.2135   0.9417    11.99   \n\n                      CON_OR_YOY  CON_NP_YOY  CON_NPCGRATE_2Y  CON_PEI  \ntrade_date ts_code                                                      \n20131231   000002.SH        9.89       18.25          16.0105  78.4365  \n           000010.SH        8.21       13.78          13.0548  80.9011  \n           000015.SH        5.53       11.24          10.6985  83.8420  \n           000016.SH        7.24       13.37          12.7691  81.7573  \n           000067.SH       12.46       16.76          17.9659  61.4964  \n...                          ...         ...              ...      ...  \n20221028   399312.SZ       15.04       15.51          15.4183  94.5570  \n           399313.SZ       14.36       10.80          11.0863  94.4014  \n           399317.SZ       10.82       15.55          16.8354  80.5216  \n           000985.SH       10.96       15.11          16.8637  80.1858  \n           000688.SH       43.95       46.41          36.3298  98.5569  \n\n[43510 rows x 14 columns]",
      "text/html": "<div>\n<style scoped>\n    .dataframe tbody tr th:only-of-type {\n        vertical-align: middle;\n    }\n\n    .dataframe tbody tr th {\n        vertical-align: top;\n    }\n\n    .dataframe thead th {\n        text-align: right;\n    }\n</style>\n<table border=\"1\" class=\"dataframe\">\n  <thead>\n    <tr style=\"text-align: right;\">\n      <th></th>\n      <th></th>\n      <th>CON_YEAR</th>\n      <th>CON_OR</th>\n      <th>CON_NP</th>\n      <th>CON_EPS</th>\n      <th>CON_NA</th>\n      <th>CON_PB</th>\n      <th>CON_PS</th>\n      <th>CON_PE</th>\n      <th>CON_PEG</th>\n      <th>CON_ROE</th>\n      <th>CON_OR_YOY</th>\n      <th>CON_NP_YOY</th>\n      <th>CON_NPCGRATE_2Y</th>\n      <th>CON_PEI</th>\n    </tr>\n    <tr>\n      <th>trade_date</th>\n      <th>ts_code</th>\n      <th></th>\n      <th></th>\n      <th></th>\n      <th></th>\n      <th></th>\n      <th></th>\n      <th></th>\n      <th></th>\n      <th></th>\n      <th></th>\n      <th></th>\n      <th></th>\n      <th></th>\n      <th></th>\n    </tr>\n  </thead>\n  <tbody>\n    <tr>\n      <th rowspan=\"5\" valign=\"top\">20131231</th>\n      <th>000002.SH</th>\n      <td>2013</td>\n      <td>2.150299e+09</td>\n      <td>1.996171e+08</td>\n      <td>0.6183</td>\n      <td>1.407965e+09</td>\n      <td>1.2913</td>\n      <td>0.8455</td>\n      <td>9.1078</td>\n      <td>0.5689</td>\n      <td>14.18</td>\n      <td>9.89</td>\n      <td>18.25</td>\n      <td>16.0105</td>\n      <td>78.4365</td>\n    </tr>\n    <tr>\n      <th>000010.SH</th>\n      <td>2013</td>\n      <td>1.616497e+09</td>\n      <td>1.803029e+08</td>\n      <td>0.7227</td>\n      <td>1.156060e+09</td>\n      <td>1.1894</td>\n      <td>0.8506</td>\n      <td>7.6264</td>\n      <td>0.5842</td>\n      <td>15.60</td>\n      <td>8.21</td>\n      <td>13.78</td>\n      <td>13.0548</td>\n      <td>80.9011</td>\n    </tr>\n    <tr>\n      <th>000015.SH</th>\n      <td>2013</td>\n      <td>9.223393e+08</td>\n      <td>1.402562e+08</td>\n      <td>0.7359</td>\n      <td>8.384264e+08</td>\n      <td>1.0141</td>\n      <td>0.9219</td>\n      <td>6.0624</td>\n      <td>0.5667</td>\n      <td>16.73</td>\n      <td>5.53</td>\n      <td>11.24</td>\n      <td>10.6985</td>\n      <td>83.8420</td>\n    </tr>\n    <tr>\n      <th>000016.SH</th>\n      <td>2013</td>\n      <td>1.095701e+09</td>\n      <td>1.190502e+08</td>\n      <td>0.7747</td>\n      <td>7.548906e+08</td>\n      <td>1.1679</td>\n      <td>0.8046</td>\n      <td>7.4054</td>\n      <td>0.5799</td>\n      <td>15.77</td>\n      <td>7.24</td>\n      <td>13.37</td>\n      <td>12.7691</td>\n      <td>81.7573</td>\n    </tr>\n    <tr>\n      <th>000067.SH</th>\n      <td>2013</td>\n      <td>1.304862e+08</td>\n      <td>7.875350e+06</td>\n      <td>0.5807</td>\n      <td>6.214941e+07</td>\n      <td>2.2588</td>\n      <td>1.0758</td>\n      <td>17.8255</td>\n      <td>0.9922</td>\n      <td>12.67</td>\n      <td>12.46</td>\n      <td>16.76</td>\n      <td>17.9659</td>\n      <td>61.4964</td>\n    </tr>\n    <tr>\n      <th>...</th>\n      <th>...</th>\n      <td>...</td>\n      <td>...</td>\n      <td>...</td>\n      <td>...</td>\n      <td>...</td>\n      <td>...</td>\n      <td>...</td>\n      <td>...</td>\n      <td>...</td>\n      <td>...</td>\n      <td>...</td>\n      <td>...</td>\n      <td>...</td>\n      <td>...</td>\n    </tr>\n    <tr>\n      <th rowspan=\"5\" valign=\"top\">20221028</th>\n      <th>399312.SZ</th>\n      <td>2022</td>\n      <td>3.583564e+09</td>\n      <td>3.023053e+08</td>\n      <td>1.1050</td>\n      <td>2.454648e+09</td>\n      <td>1.4467</td>\n      <td>0.9909</td>\n      <td>11.7465</td>\n      <td>0.7619</td>\n      <td>12.32</td>\n      <td>15.04</td>\n      <td>15.51</td>\n      <td>15.4183</td>\n      <td>94.5570</td>\n    </tr>\n    <tr>\n      <th>399313.SZ</th>\n      <td>2022</td>\n      <td>2.848629e+09</td>\n      <td>3.164494e+08</td>\n      <td>1.1574</td>\n      <td>2.754211e+09</td>\n      <td>0.9901</td>\n      <td>0.9572</td>\n      <td>8.6169</td>\n      <td>0.7773</td>\n      <td>11.49</td>\n      <td>14.36</td>\n      <td>10.80</td>\n      <td>11.0863</td>\n      <td>94.4014</td>\n    </tr>\n    <tr>\n      <th>399317.SZ</th>\n      <td>2022</td>\n      <td>7.321688e+09</td>\n      <td>5.934493e+08</td>\n      <td>0.7403</td>\n      <td>5.905421e+09</td>\n      <td>1.2950</td>\n      <td>1.0445</td>\n      <td>12.8868</td>\n      <td>0.7655</td>\n      <td>10.05</td>\n      <td>10.82</td>\n      <td>15.55</td>\n      <td>16.8354</td>\n      <td>80.5216</td>\n    </tr>\n    <tr>\n      <th>000985.SH</th>\n      <td>2022</td>\n      <td>7.224144e+09</td>\n      <td>5.840384e+08</td>\n      <td>0.7555</td>\n      <td>5.825681e+09</td>\n      <td>1.3191</td>\n      <td>1.0637</td>\n      <td>13.1574</td>\n      <td>0.7802</td>\n      <td>10.03</td>\n      <td>10.96</td>\n      <td>15.11</td>\n      <td>16.8637</td>\n      <td>80.1858</td>\n    </tr>\n    <tr>\n      <th>000688.SH</th>\n      <td>2022</td>\n      <td>6.009689e+07</td>\n      <td>7.351126e+06</td>\n      <td>1.0083</td>\n      <td>6.128843e+07</td>\n      <td>4.1037</td>\n      <td>4.1850</td>\n      <td>34.2135</td>\n      <td>0.9417</td>\n      <td>11.99</td>\n      <td>43.95</td>\n      <td>46.41</td>\n      <td>36.3298</td>\n      <td>98.5569</td>\n    </tr>\n  </tbody>\n</table>\n<p>43510 rows × 14 columns</p>\n</div>"
     },
     "execution_count": 2,
     "metadata": {},
     "output_type": "execute_result"
    }
   ],
   "source": [
    "def get_conidx_panel() -> cudf.DataFrame:\n",
    "    \"\"\"\n",
    "    返回指数一致预期面板数据\n",
    "    :return: 面板数据\n",
    "    \"\"\"\n",
    "    df = cudf.read_parquet(DATASETS_PATH + 'CON_FORECAST_IDX.parquet')\n",
    "    # 筛选研究样本\n",
    "    df['CON_DATE'] = df['CON_DATE'].dt.strftime('%Y%m%d')\n",
    "\n",
    "    # 格式处理\n",
    "    df = df.astype(dtype={'CON_DATE': 'uint32', 'CON_YEAR': 'uint32'})\n",
    "\n",
    "    # 筛选样本期 短期预期 选择指数样本\n",
    "    df = df[(df['CON_DATE'] >= 20131231) & ((df['CON_DATE'] // 10000) == df['CON_YEAR'])\n",
    "            & ((df['INDEX_CODE'].str[:1] == '0') | (df['INDEX_CODE'].str[:1] == '3'))]\n",
    "\n",
    "    # 改列名\n",
    "    df['INDEX_CODE'] = (np.where(df['INDEX_CODE'].to_pandas().str[:1] == '0',\n",
    "                                 df['INDEX_CODE'].to_pandas() + '.SH',\n",
    "                                 df['INDEX_CODE'].to_pandas() + '.SZ'))\n",
    "\n",
    "    # 方便合并\n",
    "    df = df.rename(columns={'CON_DATE': 'trade_date', 'INDEX_CODE': 'ts_code'}).set_index(['trade_date', 'ts_code'])\n",
    "\n",
    "    # 删掉不要的\n",
    "    return df.drop(columns=['index', 'ID', 'ENTRYTIME', 'ENTRYTIME', 'UPDATETIME', 'TMSTAMP', 'INDEX_NAME'])\n",
    "\n",
    "\n",
    "get_conidx_panel()"
   ],
   "metadata": {
    "collapsed": false
   }
  },
  {
   "cell_type": "markdown",
   "source": [
    "#### A股基本面面板数据"
   ],
   "metadata": {
    "collapsed": false
   }
  },
  {
   "cell_type": "code",
   "execution_count": 3,
   "outputs": [
    {
     "data": {
      "text/plain": "                      share_return     total_mv\ntrade_date ts_code                             \n20140102   000001.SZ       -0.1641  10025372.09\n           000002.SZ       -0.4972   8799966.25\n           000004.SZ        1.3734   99176.4638\n           000005.SZ       -0.4000  227669.0681\n           000006.SZ       -1.2164  657447.5874\n...                            ...          ...\n20221130   872374.BJ       -1.7259         <NA>\n20221201   301290.SZ       -8.7349  485640.3232\n           301311.SZ       12.7436     541440.0\n           870199.BJ       -3.1447     149842.0\n           872374.BJ        0.2066         <NA>\n\n[7143120 rows x 2 columns]",
      "text/html": "<div>\n<style scoped>\n    .dataframe tbody tr th:only-of-type {\n        vertical-align: middle;\n    }\n\n    .dataframe tbody tr th {\n        vertical-align: top;\n    }\n\n    .dataframe thead th {\n        text-align: right;\n    }\n</style>\n<table border=\"1\" class=\"dataframe\">\n  <thead>\n    <tr style=\"text-align: right;\">\n      <th></th>\n      <th></th>\n      <th>share_return</th>\n      <th>total_mv</th>\n    </tr>\n    <tr>\n      <th>trade_date</th>\n      <th>ts_code</th>\n      <th></th>\n      <th></th>\n    </tr>\n  </thead>\n  <tbody>\n    <tr>\n      <th rowspan=\"5\" valign=\"top\">20140102</th>\n      <th>000001.SZ</th>\n      <td>-0.1641</td>\n      <td>10025372.09</td>\n    </tr>\n    <tr>\n      <th>000002.SZ</th>\n      <td>-0.4972</td>\n      <td>8799966.25</td>\n    </tr>\n    <tr>\n      <th>000004.SZ</th>\n      <td>1.3734</td>\n      <td>99176.4638</td>\n    </tr>\n    <tr>\n      <th>000005.SZ</th>\n      <td>-0.4000</td>\n      <td>227669.0681</td>\n    </tr>\n    <tr>\n      <th>000006.SZ</th>\n      <td>-1.2164</td>\n      <td>657447.5874</td>\n    </tr>\n    <tr>\n      <th>...</th>\n      <th>...</th>\n      <td>...</td>\n      <td>...</td>\n    </tr>\n    <tr>\n      <th>20221130</th>\n      <th>872374.BJ</th>\n      <td>-1.7259</td>\n      <td>&lt;NA&gt;</td>\n    </tr>\n    <tr>\n      <th rowspan=\"4\" valign=\"top\">20221201</th>\n      <th>301290.SZ</th>\n      <td>-8.7349</td>\n      <td>485640.3232</td>\n    </tr>\n    <tr>\n      <th>301311.SZ</th>\n      <td>12.7436</td>\n      <td>541440.0</td>\n    </tr>\n    <tr>\n      <th>870199.BJ</th>\n      <td>-3.1447</td>\n      <td>149842.0</td>\n    </tr>\n    <tr>\n      <th>872374.BJ</th>\n      <td>0.2066</td>\n      <td>&lt;NA&gt;</td>\n    </tr>\n  </tbody>\n</table>\n<p>7143120 rows × 2 columns</p>\n</div>"
     },
     "execution_count": 3,
     "metadata": {},
     "output_type": "execute_result"
    }
   ],
   "source": [
    "def get_ashare_panel() -> cudf.DataFrame:\n",
    "    \"\"\"\n",
    "    返回A股面板数据 需要基本面的其他指标增加columns即可\n",
    "    :return:\n",
    "    \"\"\"\n",
    "    df = (\n",
    "            cudf.concat(\n",
    "                    [\n",
    "                            # A股K线数据\n",
    "                            cudf.read_parquet(f'{DATASETS_PATH}ASHARE_BAR_PANEL.parquet', columns=['trade_date', 'ts_code', 'pct_chg'])\n",
    "                            .rename(columns={'pct_chg': 'share_return'}),\n",
    "                            # A股基本面数据\n",
    "                            cudf.read_parquet(f'{DATASETS_PATH}ASHARE_BASIC_PANEL.parquet',\n",
    "                                              columns=['trade_date', 'ts_code', 'total_mv'])\n",
    "                    ],\n",
    "                    join=\"left\", axis=1, sort=True\n",
    "            ).query('trade_date>=20140101')\n",
    "\n",
    "    )\n",
    "    return df\n",
    "\n",
    "\n",
    "get_ashare_panel()"
   ],
   "metadata": {
    "collapsed": false
   }
  },
  {
   "cell_type": "markdown",
   "source": [
    "#### 指数基本面面板数据"
   ],
   "metadata": {
    "collapsed": false
   }
  },
  {
   "cell_type": "code",
   "execution_count": 4,
   "outputs": [
    {
     "data": {
      "text/plain": "                     shareindex_return      total_mv   total_share     pe  \\\ntrade_date ts_code                                                          \n20140102   000001.SH           -0.3115  1.816591e+13  3.233397e+12  10.71   \n           000016.SH           -0.8688  8.764339e+12  1.536462e+12   8.35   \n           000300.SH           -0.3454  1.724706e+13  2.880502e+12   9.79   \n           000905.SH            0.4905  3.684081e+12  4.173544e+11  31.71   \n           399001.SZ           -0.0911  1.809932e+12  1.431701e+11  16.19   \n...                                ...           ...           ...    ...   \n20221207   000016.SH           -0.5288  1.798471e+13  1.586560e+12  10.08   \n           000300.SH           -0.2459  4.800432e+13  4.012892e+12  12.06   \n           000905.SH           -0.1167  1.237585e+13  1.360448e+12  20.31   \n           399001.SZ             0.175  2.251881e+13  1.292449e+12  25.40   \n           399300.SZ              <NA>  4.800432e+13  4.012892e+12  12.06   \n\n                      pe_ttm  \ntrade_date ts_code            \n20140102   000001.SH    9.64  \n           000016.SH    7.51  \n           000300.SH    8.89  \n           000905.SH   28.78  \n           399001.SZ   14.84  \n...                      ...  \n20221207   000016.SH    9.57  \n           000300.SH   11.55  \n           000905.SH   23.74  \n           399001.SZ   26.56  \n           399300.SZ   11.55  \n\n[13050 rows x 5 columns]",
      "text/html": "<div>\n<style scoped>\n    .dataframe tbody tr th:only-of-type {\n        vertical-align: middle;\n    }\n\n    .dataframe tbody tr th {\n        vertical-align: top;\n    }\n\n    .dataframe thead th {\n        text-align: right;\n    }\n</style>\n<table border=\"1\" class=\"dataframe\">\n  <thead>\n    <tr style=\"text-align: right;\">\n      <th></th>\n      <th></th>\n      <th>shareindex_return</th>\n      <th>total_mv</th>\n      <th>total_share</th>\n      <th>pe</th>\n      <th>pe_ttm</th>\n    </tr>\n    <tr>\n      <th>trade_date</th>\n      <th>ts_code</th>\n      <th></th>\n      <th></th>\n      <th></th>\n      <th></th>\n      <th></th>\n    </tr>\n  </thead>\n  <tbody>\n    <tr>\n      <th rowspan=\"5\" valign=\"top\">20140102</th>\n      <th>000001.SH</th>\n      <td>-0.3115</td>\n      <td>1.816591e+13</td>\n      <td>3.233397e+12</td>\n      <td>10.71</td>\n      <td>9.64</td>\n    </tr>\n    <tr>\n      <th>000016.SH</th>\n      <td>-0.8688</td>\n      <td>8.764339e+12</td>\n      <td>1.536462e+12</td>\n      <td>8.35</td>\n      <td>7.51</td>\n    </tr>\n    <tr>\n      <th>000300.SH</th>\n      <td>-0.3454</td>\n      <td>1.724706e+13</td>\n      <td>2.880502e+12</td>\n      <td>9.79</td>\n      <td>8.89</td>\n    </tr>\n    <tr>\n      <th>000905.SH</th>\n      <td>0.4905</td>\n      <td>3.684081e+12</td>\n      <td>4.173544e+11</td>\n      <td>31.71</td>\n      <td>28.78</td>\n    </tr>\n    <tr>\n      <th>399001.SZ</th>\n      <td>-0.0911</td>\n      <td>1.809932e+12</td>\n      <td>1.431701e+11</td>\n      <td>16.19</td>\n      <td>14.84</td>\n    </tr>\n    <tr>\n      <th>...</th>\n      <th>...</th>\n      <td>...</td>\n      <td>...</td>\n      <td>...</td>\n      <td>...</td>\n      <td>...</td>\n    </tr>\n    <tr>\n      <th rowspan=\"5\" valign=\"top\">20221207</th>\n      <th>000016.SH</th>\n      <td>-0.5288</td>\n      <td>1.798471e+13</td>\n      <td>1.586560e+12</td>\n      <td>10.08</td>\n      <td>9.57</td>\n    </tr>\n    <tr>\n      <th>000300.SH</th>\n      <td>-0.2459</td>\n      <td>4.800432e+13</td>\n      <td>4.012892e+12</td>\n      <td>12.06</td>\n      <td>11.55</td>\n    </tr>\n    <tr>\n      <th>000905.SH</th>\n      <td>-0.1167</td>\n      <td>1.237585e+13</td>\n      <td>1.360448e+12</td>\n      <td>20.31</td>\n      <td>23.74</td>\n    </tr>\n    <tr>\n      <th>399001.SZ</th>\n      <td>0.175</td>\n      <td>2.251881e+13</td>\n      <td>1.292449e+12</td>\n      <td>25.40</td>\n      <td>26.56</td>\n    </tr>\n    <tr>\n      <th>399300.SZ</th>\n      <td>&lt;NA&gt;</td>\n      <td>4.800432e+13</td>\n      <td>4.012892e+12</td>\n      <td>12.06</td>\n      <td>11.55</td>\n    </tr>\n  </tbody>\n</table>\n<p>13050 rows × 5 columns</p>\n</div>"
     },
     "execution_count": 4,
     "metadata": {},
     "output_type": "execute_result"
    }
   ],
   "source": [
    "def get_index_panel() -> cudf.DataFrame:\n",
    "    \"\"\"\n",
    "    返回指数面板数据 需要基本面的其他指标增加columns即可\n",
    "    :return:\n",
    "    \"\"\"\n",
    "    df = (\n",
    "            cudf.concat(\n",
    "                    [\n",
    "                            # 指数K线数据\n",
    "                            cudf.read_parquet(f'{DATASETS_PATH}IDX_BAR_PANEL.parquet', columns=['trade_date', 'ts_code', 'pct_chg'])\n",
    "                            .rename(columns={'pct_chg': 'shareindex_return'}),\n",
    "                            # 指数基本面数据\n",
    "                            cudf.read_parquet(f'{DATASETS_PATH}IDX_BASIC_PANEL.parquet',\n",
    "                                              columns=['trade_date', 'ts_code', 'total_mv', 'total_share', 'pe', 'pe_ttm']),\n",
    "                    ],\n",
    "                    join=\"left\", axis=1, sort=True\n",
    "            ).query('trade_date>=20140101')\n",
    "\n",
    "    )\n",
    "    return df\n",
    "\n",
    "\n",
    "get_index_panel()"
   ],
   "metadata": {
    "collapsed": false
   }
  },
  {
   "cell_type": "markdown",
   "source": [
    "#### 时间序列数据"
   ],
   "metadata": {
    "collapsed": false
   }
  },
  {
   "cell_type": "code",
   "execution_count": 5,
   "outputs": [
    {
     "data": {
      "text/plain": "             img_neg   tex_neg  riskfree_return\ntrade_date                                     \n20140102         0.0       0.0         0.015460\n20140103         0.0  0.333333         0.015461\n20140106    0.285714  0.142857         0.015481\n20140107         0.0  0.333333         0.015489\n20140108    0.333333       0.0         0.015506\n...              ...       ...              ...\n20221125        <NA>      <NA>         0.006078\n20221128        <NA>      <NA>         0.006069\n20221129        <NA>      <NA>         0.006072\n20221130        <NA>      <NA>         0.006092\n20221201        <NA>      <NA>         0.006103\n\n[2204 rows x 3 columns]",
      "text/html": "<div>\n<style scoped>\n    .dataframe tbody tr th:only-of-type {\n        vertical-align: middle;\n    }\n\n    .dataframe tbody tr th {\n        vertical-align: top;\n    }\n\n    .dataframe thead th {\n        text-align: right;\n    }\n</style>\n<table border=\"1\" class=\"dataframe\">\n  <thead>\n    <tr style=\"text-align: right;\">\n      <th></th>\n      <th>img_neg</th>\n      <th>tex_neg</th>\n      <th>riskfree_return</th>\n    </tr>\n    <tr>\n      <th>trade_date</th>\n      <th></th>\n      <th></th>\n      <th></th>\n    </tr>\n  </thead>\n  <tbody>\n    <tr>\n      <th>20140102</th>\n      <td>0.0</td>\n      <td>0.0</td>\n      <td>0.015460</td>\n    </tr>\n    <tr>\n      <th>20140103</th>\n      <td>0.0</td>\n      <td>0.333333</td>\n      <td>0.015461</td>\n    </tr>\n    <tr>\n      <th>20140106</th>\n      <td>0.285714</td>\n      <td>0.142857</td>\n      <td>0.015481</td>\n    </tr>\n    <tr>\n      <th>20140107</th>\n      <td>0.0</td>\n      <td>0.333333</td>\n      <td>0.015489</td>\n    </tr>\n    <tr>\n      <th>20140108</th>\n      <td>0.333333</td>\n      <td>0.0</td>\n      <td>0.015506</td>\n    </tr>\n    <tr>\n      <th>...</th>\n      <td>...</td>\n      <td>...</td>\n      <td>...</td>\n    </tr>\n    <tr>\n      <th>20221125</th>\n      <td>&lt;NA&gt;</td>\n      <td>&lt;NA&gt;</td>\n      <td>0.006078</td>\n    </tr>\n    <tr>\n      <th>20221128</th>\n      <td>&lt;NA&gt;</td>\n      <td>&lt;NA&gt;</td>\n      <td>0.006069</td>\n    </tr>\n    <tr>\n      <th>20221129</th>\n      <td>&lt;NA&gt;</td>\n      <td>&lt;NA&gt;</td>\n      <td>0.006072</td>\n    </tr>\n    <tr>\n      <th>20221130</th>\n      <td>&lt;NA&gt;</td>\n      <td>&lt;NA&gt;</td>\n      <td>0.006092</td>\n    </tr>\n    <tr>\n      <th>20221201</th>\n      <td>&lt;NA&gt;</td>\n      <td>&lt;NA&gt;</td>\n      <td>0.006103</td>\n    </tr>\n  </tbody>\n</table>\n<p>2204 rows × 3 columns</p>\n</div>"
     },
     "execution_count": 5,
     "metadata": {},
     "output_type": "execute_result"
    }
   ],
   "source": [
    "def get_time_series() -> cudf.DataFrame:\n",
    "    \"\"\"\n",
    "    返回情绪,无风险收益\n",
    "    :return:\n",
    "    \"\"\"\n",
    "    df = (cudf.concat(\n",
    "            [\n",
    "                    # 情绪数据\n",
    "                    cudf.from_pandas(\n",
    "                            pd.concat(\n",
    "                                    [pd.read_sql_table('IMG_SENT', DB().ENGINE, 'SENT_DAILY').astype(dtype={'trade_date': 'uint32'})\n",
    "                                     .set_index('trade_date').rename(columns={'neg_index': 'img_neg'}),\n",
    "\n",
    "                                     pd.read_sql_table('TEX_SENT', DB().ENGINE, 'SENT_DAILY').astype(dtype={'trade_date': 'uint32'})\n",
    "                                     .set_index('trade_date').rename(columns={'neg_index': 'tex_neg'})\n",
    "                                     ], axis=1\n",
    "                            )),\n",
    "                    # SHIBOR数据\n",
    "                    cudf.from_pandas((pd.read_sql_table('SHIBOR', DB().ENGINE, 'FIN_DAILY_MACRO', columns=['trade_date', '3m'])\n",
    "                                      .astype(dtype={'trade_date': 'uint32'}).set_index('trade_date')\n",
    "                                      .rename(columns={'3m': 'riskfree_return'}) / 360))\n",
    "            ],\n",
    "            axis=1, sort=True))\n",
    "\n",
    "    return df\n",
    "\n",
    "\n",
    "get_time_series()"
   ],
   "metadata": {
    "collapsed": false
   }
  },
  {
   "cell_type": "markdown",
   "source": [
    "## 2.多群体视角下的情绪分析"
   ],
   "metadata": {
    "collapsed": false
   }
  },
  {
   "cell_type": "markdown",
   "source": [
    "先求出Profit,再用每日的变动解释,\n",
    "先用000300.SH"
   ],
   "metadata": {
    "collapsed": false
   }
  },
  {
   "cell_type": "code",
   "execution_count": 6,
   "outputs": [],
   "source": [
    "df_te2 = cudf.read_parquet('/data/DataSets/investor_sentiment/IDX_PANEL_PROFIT.parquet').to_pandas().query(\"ts_code=='000300.SH'\")\n",
    "df_test = get_index_panel().to_pandas().query(\"ts_code=='000300.SH'\")"
   ],
   "metadata": {
    "collapsed": false
   }
  },
  {
   "cell_type": "code",
   "execution_count": null,
   "outputs": [],
   "source": [
    "# 求实际eps和预期eps\n",
    "df_index_panel = get_index_panel()\n",
    "# df_index_panel['eps_ttm'] = (df_index_panel['total_mv'] / df_index_panel['total_share']) / df_index_panel['pe_ttm']\n",
    "df_index_panel = df_index_panel[['pe_ttm', 'pe']]\n",
    "# df_index_panel\n",
    "\n",
    "# get_conidx_panel().to_pandas().query(\"ts_code=='000300.SZ'\")\n",
    "# pd.concat([df_index_panel.to_pandas(),\n",
    "#            get_conidx_panel().to_pandas()], axis=1\n",
    "#           )\n",
    "df_temp = cudf.merge(df_index_panel, get_conidx_panel(), on=['trade_date', 'ts_code'], how='left', sort=True).dropna(\n",
    "        axis=0).to_pandas()\n",
    "# df_temp[''] = df_temp['CON_PE'] - df_temp['pe_ttm']\n",
    "df_temp\n",
    "# @formatter:off"
   ],
   "metadata": {
    "collapsed": false
   }
  },
  {
   "cell_type": "code",
   "execution_count": null,
   "outputs": [],
   "source": [
    "%%stata -d df_temp -force\n",
    "reg pe_ttm CON_PE\n",
    "# @formatter:on"
   ],
   "metadata": {
    "collapsed": false
   }
  },
  {
   "cell_type": "markdown",
   "source": [
    "## 3.截面效应分析"
   ],
   "metadata": {
    "collapsed": false
   }
  },
  {
   "cell_type": "markdown",
   "source": [
    "#### 3.1 计算面板数据的异质波动率"
   ],
   "metadata": {
    "collapsed": false
   }
  },
  {
   "cell_type": "markdown",
   "source": [
    "提取用于回归的数据"
   ],
   "metadata": {
    "collapsed": false
   }
  },
  {
   "cell_type": "code",
   "execution_count": null,
   "outputs": [],
   "source": [
    "df_panel = (\n",
    "        cudf.merge(\n",
    "                # 增加用于回归的无风险利率\n",
    "                cudf.merge(get_ashare_panel(), get_time_series()[['riskfree_return']], on='trade_date', how='left', sort=True),\n",
    "                # 增加用于回归的市场指数\n",
    "                cudf.from_pandas(\n",
    "                        get_index_panel()[['shareindex_return']]\n",
    "                        .to_pandas().query(\"ts_code == '000300.SH'\").reset_index('ts_code', drop=True)\n",
    "                ),\n",
    "                on='trade_date', how='left', sort=True\n",
    "        ).to_pandas()\n",
    ")\n",
    "df_panel"
   ],
   "metadata": {
    "collapsed": false
   }
  },
  {
   "cell_type": "code",
   "execution_count": null,
   "outputs": [],
   "source": [
    "# 滚动OLS回归求异质波动率\n",
    "def roll_idvol(df_code: pd.DataFrame, ols_window: int, var_ma: int) -> pd.DataFrame:\n",
    "    try:\n",
    "        # 估计参数\n",
    "        model_ols = RollingOLS(endog=df_code[['Y']], exog=df_code[['CONST', 'X']], window=ols_window)\n",
    "        df_para = model_ols.fit().params.rename(columns={'CONST': 'Alpha', 'X': 'Beta'})\n",
    "\n",
    "        # 预测残差 已经对齐了\n",
    "        df_con = pd.concat([df_code, df_para], axis=1, join='inner')\n",
    "        df_con['Residual'] = df_con['Alpha'] + df_con['Beta'] * df_con['X'] - df_con['Y']\n",
    "\n",
    "        # 计算月波动率\n",
    "        df_con['Idvol'] = df_con['Residual'].rolling(var_ma).var(ddof=1)\n",
    "        return df_con[['share_return', 'total_mv', 'Idvol']]\n",
    "    except (IndexError, ValueError): return pd.DataFrame(columns=['trade_date', 'ts_code']).set_index(['trade_date', 'ts_code'])\n",
    "\n",
    "\n",
    "# 分组计算\n",
    "def cal_panel_ols():\n",
    "    # 定义回归变量 CAPM回归: (rm-rf)=a+b*(RM-rf)\n",
    "    df_panel['Y'] = df_panel['share_return'] - df_panel['riskfree_return']\n",
    "    df_panel['CONST'] = 1  # 带截距项回归\n",
    "    df_panel['X'] = df_panel['shareindex_return'] - df_panel['riskfree_return']\n",
    "\n",
    "    # 多线程加速\n",
    "    pandarallel.initialize(progress_bar=True)\n",
    "    df_out = (df_panel.groupby(level=['ts_code'])[['share_return', 'total_mv', 'Y', 'CONST', 'X']]\n",
    "              .parallel_apply(lambda x: roll_idvol(x, 5, 30)).droplevel(2)\n",
    "              )\n",
    "\n",
    "    # 保存\n",
    "    df_out.to_parquet(f'{DATASETS_PATH}ASHARE_OLS_PANEL.parquet', engine='pyarrow', index=True)\n",
    "\n",
    "\n",
    "# 计算滚动回归\n",
    "if not os.path.exists(f'{DATASETS_PATH}ASHARE_OLS_PANEL.parquet'): cal_panel_ols()\n",
    "\n",
    "# 加载滚动回归的面板数据集\n",
    "df_ols_panel = (\n",
    "        cudf.read_parquet(f'{DATASETS_PATH}ASHARE_OLS_PANEL.parquet').reset_index().set_index(['trade_date', 'ts_code']).sort_index()\n",
    "        .rename(columns={'Idvol': 'idvol'})\n",
    ")\n",
    "df_ols_panel"
   ],
   "metadata": {
    "collapsed": false
   }
  },
  {
   "cell_type": "markdown",
   "source": [
    "### 3.2 面板数据分组"
   ],
   "metadata": {
    "collapsed": false
   }
  },
  {
   "cell_type": "code",
   "execution_count": null,
   "outputs": [],
   "source": [
    "# 参数阈值\n",
    "QUANTILE = 0.5\n",
    "\n",
    "\n",
    "# 面板数据分组\n",
    "def group_ols_panel(df, group_col: str):\n",
    "    \"\"\"\n",
    "    :param df:\n",
    "    :param group_col:分组变量\n",
    "    \"\"\"\n",
    "    # 分组\n",
    "    df[f'{group_col}_split'] = df[group_col].groupby(level=['trade_date']).transform(lambda x: x.quantile(QUANTILE))\n",
    "    df[f'{group_col}_group'] = np.where(df[group_col].to_pandas() >= df[f'{group_col}_split'].to_pandas(),\n",
    "                                        f'{group_col}_high', f'{group_col}_low')\n",
    "    # 重新设定分组索引\n",
    "    df = df.reset_index().set_index(['trade_date', f'{group_col}_group', 'ts_code']).sort_index()\n",
    "\n",
    "    # 求组中市值加权系数\n",
    "    df[f'{group_col}_mv_ratio'] = df['total_mv'] / df.groupby(level=['trade_date', f'{group_col}_group'])['total_mv'].transform('sum')\n",
    "\n",
    "    # 求组中回报\n",
    "    df[f'{group_col}_vw_return'] = df[f'{group_col}_mv_ratio'] * df['share_return']\n",
    "    df[f'{group_col}_group_return'] = (df.groupby(level=['trade_date', f'{group_col}_group'])[f'{group_col}_vw_return']\n",
    "                                       .transform('sum'))\n",
    "\n",
    "    # 重置索引\n",
    "    return df.reset_index(f'{group_col}_group')\n",
    "\n",
    "\n",
    "# 循环分组,最后处理成时间序列数据\n",
    "def group_cols(df, columns: list):\n",
    "    # 用于分组\n",
    "    df_temp = df\n",
    "\n",
    "    # 求组中市值加权回报\n",
    "    for col in columns: df_temp = group_ols_panel(df_temp, col)\n",
    "\n",
    "    # 筛选\n",
    "    df_temp = df_temp[[i + '_group' for i in columns] + [i + '_group_return' for i in columns]]\n",
    "\n",
    "    # 保留唯一的组合 2^N\n",
    "    df_time_panel = (df_temp.reset_index().groupby(['trade_date'] + [i + '_group' for i in columns]).first())\n",
    "\n",
    "    # 转为时间序列数据\n",
    "    df_time = cudf.DataFrame()\n",
    "    for col in columns: df_time = cudf.concat([df_time,\n",
    "                                               df_time_panel.groupby(level=['trade_date', f'{col}_group']).first().reset_index()\n",
    "                                              .pivot(index='trade_date', columns=f'{col}_group', values=f'{col}_group_return')],\n",
    "                                              join=\"left\", axis=1, sort=True)\n",
    "    # 高减低\n",
    "    # for col in columns: df_time[f'{col}_mid'] = df_time[f'{col}_high'] - df_time[f'{col}_low']\n",
    "\n",
    "    return df_time\n",
    "\n",
    "\n",
    "df_group_time = group_cols(df_ols_panel, ['total_mv', 'idvol'])\n",
    "df_group_time"
   ],
   "metadata": {
    "collapsed": false
   }
  },
  {
   "cell_type": "markdown",
   "source": [
    "## 4. VAR模型分析"
   ],
   "metadata": {
    "collapsed": false
   }
  },
  {
   "cell_type": "markdown",
   "source": [
    "### 4.1 回归前数据处理"
   ],
   "metadata": {
    "collapsed": false
   }
  },
  {
   "cell_type": "code",
   "execution_count": null,
   "outputs": [],
   "source": [
    "# 增加用于回归的市场指数\n",
    "df_time_join = (\n",
    "        cudf.concat([get_time_series().drop(columns='riskfree_return'), df_group_time,\n",
    "                     # 指数数据\n",
    "                     cudf.from_pandas(get_index_panel()[['shareindex_return']].to_pandas().query(\"ts_code == '000001.SH'\")\n",
    "                                      .reset_index('ts_code', drop=True).rename(columns={'shareindex_return': 'idx_000001'})),\n",
    "                     # 指数数据\n",
    "                     cudf.from_pandas(get_index_panel()[['shareindex_return']].to_pandas().query(\"ts_code == '000300.SH'\")\n",
    "                                      .reset_index('ts_code', drop=True).rename(columns={'shareindex_return': 'idx_000300'})),\n",
    "                     # 指数数据\n",
    "                     cudf.from_pandas(get_index_panel()[['shareindex_return']].to_pandas().query(\"ts_code == '000016.SH'\")\n",
    "                                      .reset_index('ts_code', drop=True).rename(columns={'shareindex_return': 'idx_000016'})),\n",
    "                     # 指数数据\n",
    "                     cudf.from_pandas(get_index_panel()[['shareindex_return']].to_pandas().query(\"ts_code == '399300.SZ'\")\n",
    "                                      .reset_index('ts_code', drop=True).rename(columns={'shareindex_return': 'idx_399300'})),\n",
    "                     ], sort=True, axis=1\n",
    "                    ).dropna(axis=0).to_pandas()\n",
    ")\n",
    "df_time_join"
   ],
   "metadata": {
    "collapsed": false
   }
  },
  {
   "cell_type": "code",
   "execution_count": null,
   "outputs": [],
   "source": [
    "# 增加平方项\n",
    "def add_square_column(df): return pd.concat([df, df.pow(2).add_suffix('_s')], axis=1)\n",
    "\n",
    "\n",
    "# 增加日期虚拟变量\n",
    "def add_dummy_column(df, column: str):\n",
    "    df_weekday = pd.get_dummies(pd.to_datetime(df[column], format='%Y%m%d').dt.weekday, prefix='weekday', drop_first=True)\n",
    "    df_month = pd.get_dummies(pd.to_datetime(df[column], format='%Y%m%d').dt.month, prefix='month', drop_first=True)\n",
    "    return pd.concat([df, df_weekday, df_month], axis=1)\n",
    "\n",
    "\n",
    "# 处理好的用于回归的数据\n",
    "df_series_ols = add_dummy_column(add_square_column(df_time_join).reset_index(), 'trade_date')\n",
    "df_series_ols\n",
    "# @formatter:off"
   ],
   "metadata": {
    "collapsed": false
   }
  },
  {
   "cell_type": "markdown",
   "source": [
    "### 4.2 回归结果"
   ],
   "metadata": {
    "collapsed": false
   }
  },
  {
   "cell_type": "markdown",
   "source": [],
   "metadata": {
    "collapsed": false
   }
  },
  {
   "cell_type": "code",
   "execution_count": null,
   "outputs": [],
   "source": [
    "%%stata -d df_series_ols -force\n",
    "//描述性统计\n",
    "logout, save(Outputs/Table_Sum)  replace: ///\n",
    "tabstat *_neg idx_* *_high *_low, s(N sd mean p50 min max ) f(%12.4f) c(s)"
   ],
   "metadata": {
    "collapsed": false
   }
  },
  {
   "cell_type": "markdown",
   "source": [
    "#### 4.2.1 主要股票市场"
   ],
   "metadata": {
    "collapsed": false
   }
  },
  {
   "cell_type": "code",
   "execution_count": null,
   "outputs": [],
   "source": [
    "%%stata -d df_series_ols -force -nogr\n",
    "//时间设定\n",
    "ge time = _n\n",
    "tsset time\n",
    "est clear\n",
    "\n",
    "//VAR回归\n",
    "foreach var in idx_000001 idx_000300 idx_000016 idx_399300    {\n",
    "    rename(`var' `var'_s) (return return_s)\n",
    "\n",
    "    eststo: qui var return img_neg return_s, lags(1/5) exog(month_* weekday_*)\n",
    "    estadd local Month \"Yes\", replace\n",
    "    estadd local Weekday \"Yes\", replace\n",
    "\n",
    "    //绘图\n",
    "    irf creat var, set(Outputs/`var'_img ,replace) step(5)\n",
    "    irf graph oirf, impulse(img_neg) response(return) lstep(0) ustep(5) name(`var'_img,replace)  ///\n",
    "    byopts(note(\"\")) byopts(legend(off)) xtitle(, size(small) margin(zero)) ///\n",
    "    ysc(r(-0.15,0.15)) yline(0) ylabel(#2) ytitle(return, size(small) margin(zero)) scheme(sj)\n",
    "\n",
    "    rename(return return_s) (`var' `var'_s)\n",
    "}\n",
    "\n",
    "//输出\n",
    "esttab , keep(return:L*.img_neg) ///\n",
    "star(* 0.1 ** 0.05 *** 0.01) ///\n",
    "stats( Month Weekday  r2_1 N, fmt(%3s %3s %12.4f %12.0f)) b(%12.4f) ///\n",
    "title(\"Table1 Main Market\") mtitle(\"000001.SH\" \"000300.SH\" \"000016.SH\" \"399300.SZ\")  nogap"
   ],
   "metadata": {
    "collapsed": false
   }
  },
  {
   "cell_type": "markdown",
   "source": [
    "脉冲响应曲线"
   ],
   "metadata": {
    "collapsed": false
   }
  },
  {
   "cell_type": "code",
   "execution_count": null,
   "outputs": [],
   "source": [
    "%%stata\n",
    "graph combine idx_000001_img idx_000016_img idx_000300_img idx_399300_img, ///\n",
    "xcommon ycommon name(combine_img, replace) scheme(sj)"
   ],
   "metadata": {
    "collapsed": false
   }
  },
  {
   "cell_type": "markdown",
   "source": [
    "#### 4.2.2 套利限制"
   ],
   "metadata": {
    "collapsed": false
   }
  },
  {
   "cell_type": "code",
   "execution_count": null,
   "outputs": [],
   "source": [
    "%%stata -d df_series_ols -force\n",
    "//时间设定\n",
    "ge time = _n\n",
    "tsset time\n",
    "est clear\n",
    "\n",
    "//VAR回归\n",
    "foreach var in total_mv_high total_mv_low  idvol_high idvol_low {\n",
    "    rename(`var' `var'_s) (return return_s)\n",
    "\n",
    "    eststo: qui var return img_neg return_s, lags(1/5) exog(month_* weekday_*)\n",
    "    estadd local Month \"Yes\", replace\n",
    "    estadd local Weekday \"Yes\", replace\n",
    "\n",
    "    rename(return return_s) (`var' `var'_s)\n",
    "}\n",
    "\n",
    "//输出\n",
    "esttab , keep(return:L*.img_neg) ///\n",
    "star(* 0.1 ** 0.05 *** 0.01) ///\n",
    "stats( Month Weekday  r2_1 N, fmt(%3s %3s %12.4f %12.0f)) b(%12.4f) ///\n",
    "title(\"Table1 Arbitrage Limit\") mtitle(\"HIGH\" \"LOW\" \"HIGH\" \"LOW\")  nogap ///\n",
    "mgroups(\"Market Value\" \"Idiosyncratic Volatility\", pattern(1 0 1 0) ) showtabs"
   ],
   "metadata": {
    "collapsed": false
   }
  },
  {
   "cell_type": "markdown",
   "source": [
    "## 5. 按照观测窗口构造投资策略(暂时不做)"
   ],
   "metadata": {
    "collapsed": false
   }
  },
  {
   "cell_type": "code",
   "execution_count": null,
   "outputs": [],
   "source": [
    "def cal_return(df, ma):\n",
    "    df[f'img_neg_m{ma}'] = (df['img_neg'].rolling(ma).mean())\n",
    "\n",
    "    # 历史均值K\n",
    "    df['sell_signal'] = df['img_neg'] >= df[f'img_neg_m{ma}']\n",
    "    df['sell_signal'] = df['sell_signal'].shift(1)\n",
    "\n",
    "    # 高于均值投资\n",
    "    df['img_return'] = np.where(df['sell_signal'], -1*(df['sell_signal']*df['HIGH']), df['shareindex_return'])\n",
    "\n",
    "    # 去掉空行\n",
    "    df.dropna(axis=0, inplace=True)\n",
    "\n",
    "    # 换算\n",
    "    df['mv_shareindex'] = ((df['shareindex_return'] + 100)/100)\n",
    "    df['mv_img'] = ((df['img_return'] + 100)/100)\n",
    "    df['mv_shareindex'] = df['mv_shareindex'].cumprod(axis=0)\n",
    "    df['mv_img'] = df['mv_img'].cumprod(axis=0)\n",
    "\n",
    "    return df.rename(columns={'mv_img': f'mv_img_{ma}'})\n",
    "\n",
    "\n",
    "def start():\n",
    "    df_in = df_series\n",
    "    for i in [5, ]:\n",
    "        df_in = cal_return(df_in, i)\n",
    "\n",
    "    return df_in\n",
    "\n",
    "# start()"
   ],
   "metadata": {
    "collapsed": false
   }
  }
 ],
 "metadata": {
  "kernelspec": {
   "name": "stata",
   "language": "python",
   "display_name": "Stata"
  },
  "language_info": {
   "codemirror_mode": {
    "name": "ipython",
    "version": 2
   },
   "file_extension": ".py",
   "mimetype": "text/x-python",
   "name": "python",
   "nbconvert_exporter": "python",
   "pygments_lexer": "ipython2",
   "version": "2.7.6"
  }
 },
 "nbformat": 4,
 "nbformat_minor": 0
}
