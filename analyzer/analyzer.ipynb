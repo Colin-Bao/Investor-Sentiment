{
 "cells": [
  {
   "cell_type": "markdown",
   "source": [
    "# 情绪投资策略(2014-2022年全A股市场)"
   ],
   "metadata": {
    "collapsed": false
   }
  },
  {
   "cell_type": "markdown",
   "source": [
    "## 1.数据准备"
   ],
   "metadata": {
    "collapsed": false
   }
  },
  {
   "cell_type": "code",
   "execution_count": 1,
   "outputs": [
    {
     "name": "stdout",
     "output_type": "stream",
     "text": [
      "\n",
      "  ___  ____  ____  ____  ____ ©\n",
      " /__    /   ____/   /   ____/      17.0\n",
      "___/   /   /___/   /   /___/       MP—Parallel Edition\n",
      "\n",
      " Statistics and Data Science       Copyright 1985-2021 StataCorp LLC\n",
      "                                   StataCorp\n",
      "                                   4905 Lakeway Drive\n",
      "                                   College Station, Texas 77845 USA\n",
      "                                   800-STATA-PC        https://www.stata.com\n",
      "                                   979-696-4600        stata@stata.com\n",
      "\n",
      "Stata license: Single-user 8-core , expiring  1 Jan 2025\n",
      "Serial number: 501709301094\n",
      "  Licensed to: Colin's Stata\n",
      "               Love U\n",
      "\n",
      "Notes:\n",
      "      1. Unicode is supported; see help unicode_advice.\n",
      "      2. More than 2 billion observations are allowed; see help obs_advice.\n",
      "      3. Maximum number of variables is set to 5,000; see help set_maxvar.\n"
     ]
    }
   ],
   "source": [
    "import sys\n",
    "import os\n",
    "import numpy as np\n",
    "import cudf  #CUDA计算\n",
    "import pandas as pd\n",
    "\n",
    "sys.path.append('/home/ubuntu/notebook/Investor-Sentiment')\n",
    "sys.path.append('/usr/local/stata17/utilities')\n",
    "from pystata import config  #Stata\n",
    "from statsmodels.regression.rolling import RollingOLS  #滚动回归\n",
    "from pandarallel import pandarallel  #多线程groupby Apply\n",
    "\n",
    "config.init('mp')\n",
    "\n",
    "# ------------------------------数据集路径----------------------------------#\n",
    "DATASETS_PATH = './DataSets/'"
   ],
   "metadata": {
    "collapsed": false
   }
  },
  {
   "cell_type": "markdown",
   "source": [
    "### 1.1 下载和合并面板数据"
   ],
   "metadata": {
    "collapsed": false
   }
  },
  {
   "cell_type": "code",
   "execution_count": 2,
   "outputs": [
    {
     "name": "stdout",
     "output_type": "stream",
     "text": [
      "CPU times: user 80.2 ms, sys: 2.35 ms, total: 82.6 ms\n",
      "Wall time: 87.2 ms\n"
     ]
    }
   ],
   "source": [
    "%%time\n",
    "\n",
    "# 下载数据\n",
    "def load_data():\n",
    "    # 数据集:个股K线面板数据,个股基本面数据\n",
    "    data_list = ['ASHARE_BAR_PANEL.parquet', 'ASHARE_BASIC_PANEL.parquet']\n",
    "    from loader.findata_loader import DownLoader\n",
    "    if not set(data_list).issubset(os.listdir('./DataSets/')): DownLoader(MAX_CORE=10).load_data()\n",
    "\n",
    "\n",
    "load_data()"
   ],
   "metadata": {
    "collapsed": false
   }
  },
  {
   "cell_type": "code",
   "execution_count": 3,
   "outputs": [
    {
     "name": "stdout",
     "output_type": "stream",
     "text": [
      "CPU times: user 2.99 s, sys: 1.63 s, total: 4.62 s\n",
      "Wall time: 4.63 s\n"
     ]
    },
    {
     "data": {
      "text/plain": "                      share_return      total_mv  shareindex_return  \\\ntrade_date ts_code                                                    \n20140102   000001.SZ       -0.1641  1.002537e+07            -0.3454   \n           000002.SZ       -0.4972  8.799966e+06            -0.3454   \n           000004.SZ        1.3734  9.917646e+04            -0.3454   \n           000005.SZ       -0.4000  2.276691e+05            -0.3454   \n           000006.SZ       -1.2164  6.574476e+05            -0.3454   \n...                            ...           ...                ...   \n20221130   872374.BJ       -1.7259           NaN             0.1199   \n20221201   301290.SZ       -8.7349  4.856403e+05             1.0831   \n           301311.SZ       12.7436  5.414400e+05             1.0831   \n           870199.BJ       -3.1447  1.498420e+05             1.0831   \n           872374.BJ        0.2066           NaN             1.0831   \n\n                      riskfree_return  \ntrade_date ts_code                     \n20140102   000001.SZ         0.015460  \n           000002.SZ         0.015460  \n           000004.SZ         0.015460  \n           000005.SZ         0.015460  \n           000006.SZ         0.015460  \n...                               ...  \n20221130   872374.BJ         0.006092  \n20221201   301290.SZ         0.006103  \n           301311.SZ         0.006103  \n           870199.BJ         0.006103  \n           872374.BJ         0.006103  \n\n[7143120 rows x 4 columns]",
      "text/html": "<div>\n<style scoped>\n    .dataframe tbody tr th:only-of-type {\n        vertical-align: middle;\n    }\n\n    .dataframe tbody tr th {\n        vertical-align: top;\n    }\n\n    .dataframe thead th {\n        text-align: right;\n    }\n</style>\n<table border=\"1\" class=\"dataframe\">\n  <thead>\n    <tr style=\"text-align: right;\">\n      <th></th>\n      <th></th>\n      <th>share_return</th>\n      <th>total_mv</th>\n      <th>shareindex_return</th>\n      <th>riskfree_return</th>\n    </tr>\n    <tr>\n      <th>trade_date</th>\n      <th>ts_code</th>\n      <th></th>\n      <th></th>\n      <th></th>\n      <th></th>\n    </tr>\n  </thead>\n  <tbody>\n    <tr>\n      <th rowspan=\"5\" valign=\"top\">20140102</th>\n      <th>000001.SZ</th>\n      <td>-0.1641</td>\n      <td>1.002537e+07</td>\n      <td>-0.3454</td>\n      <td>0.015460</td>\n    </tr>\n    <tr>\n      <th>000002.SZ</th>\n      <td>-0.4972</td>\n      <td>8.799966e+06</td>\n      <td>-0.3454</td>\n      <td>0.015460</td>\n    </tr>\n    <tr>\n      <th>000004.SZ</th>\n      <td>1.3734</td>\n      <td>9.917646e+04</td>\n      <td>-0.3454</td>\n      <td>0.015460</td>\n    </tr>\n    <tr>\n      <th>000005.SZ</th>\n      <td>-0.4000</td>\n      <td>2.276691e+05</td>\n      <td>-0.3454</td>\n      <td>0.015460</td>\n    </tr>\n    <tr>\n      <th>000006.SZ</th>\n      <td>-1.2164</td>\n      <td>6.574476e+05</td>\n      <td>-0.3454</td>\n      <td>0.015460</td>\n    </tr>\n    <tr>\n      <th>...</th>\n      <th>...</th>\n      <td>...</td>\n      <td>...</td>\n      <td>...</td>\n      <td>...</td>\n    </tr>\n    <tr>\n      <th>20221130</th>\n      <th>872374.BJ</th>\n      <td>-1.7259</td>\n      <td>NaN</td>\n      <td>0.1199</td>\n      <td>0.006092</td>\n    </tr>\n    <tr>\n      <th rowspan=\"4\" valign=\"top\">20221201</th>\n      <th>301290.SZ</th>\n      <td>-8.7349</td>\n      <td>4.856403e+05</td>\n      <td>1.0831</td>\n      <td>0.006103</td>\n    </tr>\n    <tr>\n      <th>301311.SZ</th>\n      <td>12.7436</td>\n      <td>5.414400e+05</td>\n      <td>1.0831</td>\n      <td>0.006103</td>\n    </tr>\n    <tr>\n      <th>870199.BJ</th>\n      <td>-3.1447</td>\n      <td>1.498420e+05</td>\n      <td>1.0831</td>\n      <td>0.006103</td>\n    </tr>\n    <tr>\n      <th>872374.BJ</th>\n      <td>0.2066</td>\n      <td>NaN</td>\n      <td>1.0831</td>\n      <td>0.006103</td>\n    </tr>\n  </tbody>\n</table>\n<p>7143120 rows × 4 columns</p>\n</div>"
     },
     "execution_count": 3,
     "metadata": {},
     "output_type": "execute_result"
    }
   ],
   "source": [
    "%%time\n",
    "\n",
    "# 提取面板数据\n",
    "def extract_panel():\n",
    "    # 个股K线数据\n",
    "    df_bar = (\n",
    "        cudf.read_parquet('./DataSets/ASHARE_BAR_PANEL.parquet', columns=['trade_date', 'ts_code', 'pct_chg'])\n",
    "        .rename(columns={'pct_chg': 'share_return'})\n",
    "    )\n",
    "\n",
    "    # 个股基本面数据\n",
    "    df_basic = cudf.read_parquet('./DataSets/ASHARE_BASIC_PANEL.parquet', columns=['trade_date', 'ts_code', 'total_mv'])\n",
    "\n",
    "    # 合并\n",
    "    df_p = cudf.concat([df_bar, df_basic], join=\"left\", axis=1, sort=True)\n",
    "\n",
    "    # 压缩数据\n",
    "    df_p.index.levels[1].astype('category', inplace=True)\n",
    "\n",
    "    return df_p\n",
    "\n",
    "\n",
    "# 提取时间序列数据\n",
    "def extract_time_series():\n",
    "    # 股指数据\n",
    "    from utils.sql import DB\n",
    "    db_loader = DB()\n",
    "    df_share_index = (\n",
    "        pd.read_sql_table('399300.SZ', db_loader.ENGINE, 'FIN_DAILY_INDEX', columns=['trade_date', 'pct_chg'])\n",
    "        .astype(dtype={'trade_date': 'uint32'}).set_index('trade_date').rename(columns={'pct_chg': 'shareindex_return'})\n",
    "    )\n",
    "\n",
    "    # shibor数据\n",
    "    df_shibor = (\n",
    "            pd.read_sql_table('SHIBOR', db_loader.ENGINE, 'FIN_DAILY_INDEX', columns=['trade_date', '3m'])\n",
    "            .astype(dtype={'trade_date': 'uint32'}).set_index('trade_date').rename(columns={'3m': 'riskfree_return'})/360\n",
    "    )\n",
    "\n",
    "    # 情绪数据\n",
    "    df_sent = pd.concat(\n",
    "            [pd.read_sql_table('IMG_SENT', db_loader.ENGINE, 'SENT_DAILY').astype(dtype={'trade_date': 'uint32'})\n",
    "             .set_index('trade_date').rename(columns={'neg_index': 'img_neg'}),\n",
    "             pd.read_sql_table('TEX_SENT', db_loader.ENGINE, 'SENT_DAILY').astype(dtype={'trade_date': 'uint32'})\n",
    "             .set_index('trade_date').rename(columns={'neg_index': 'tex_neg'})\n",
    "             ], axis=1\n",
    "    )\n",
    "\n",
    "    return (cudf.from_pandas(pd.concat([df_share_index, df_shibor], join=\"inner\", axis=1, sort=True)),\n",
    "            pd.concat([df_sent, df_share_index, df_shibor], join=\"inner\", axis=1, sort=True))\n",
    "\n",
    "\n",
    "# 合并数据\n",
    "def extract_merge():\n",
    "    df_p = extract_panel()\n",
    "    df_t, _ = extract_time_series()\n",
    "    df_m = cudf.merge(\n",
    "            left=df_p.reset_index(), right=df_t.reset_index(), left_on='trade_date', right_on='trade_date', how=\"left\",\n",
    "            sort=True\n",
    "    )\n",
    "    return df_m.set_index(['trade_date', 'ts_code']).sort_index(ascending=[True, True])\n",
    "\n",
    "\n",
    "df_panel = extract_merge()\n",
    "_, df_time_series = extract_time_series()\n",
    "\n",
    "# 数据筛选\n",
    "df_panel = df_panel[df_panel.index.get_level_values('trade_date') >= 20140101].to_pandas()\n",
    "df_panel"
   ],
   "metadata": {
    "collapsed": false
   }
  },
  {
   "cell_type": "markdown",
   "source": [
    "## 2.构造截面异质波动率与市值高低组合"
   ],
   "metadata": {
    "collapsed": false
   }
  },
  {
   "cell_type": "markdown",
   "source": [
    "#### 2.1 计算面板数据的异质波动率IDVOL"
   ],
   "metadata": {
    "collapsed": false
   }
  },
  {
   "cell_type": "code",
   "execution_count": 4,
   "outputs": [
    {
     "name": "stdout",
     "output_type": "stream",
     "text": [
      "CPU times: user 121 ms, sys: 80.8 ms, total: 202 ms\n",
      "Wall time: 200 ms\n"
     ]
    },
    {
     "data": {
      "text/plain": "                      share_return      total_mv        Idvol\ntrade_date ts_code                                           \n20140102   000001.SZ       -0.1641  1.002537e+07         <NA>\n           000002.SZ       -0.4972  8.799966e+06         <NA>\n           000004.SZ        1.3734  9.917646e+04         <NA>\n           000005.SZ       -0.4000  2.276691e+05         <NA>\n           000006.SZ       -1.2164  6.574476e+05         <NA>\n...                            ...           ...          ...\n20221128   873122.BJ       -2.0158  1.259199e+05  19.27363078\n           873169.BJ       -1.5198  5.443271e+04  1.319910083\n           873223.BJ       -0.2660  5.898188e+04  0.730762806\n           873339.BJ       -0.5093  1.290394e+05         <NA>\n           873527.BJ        0.0000  5.445873e+04         <NA>\n\n[7136670 rows x 3 columns]",
      "text/html": "<div>\n<style scoped>\n    .dataframe tbody tr th:only-of-type {\n        vertical-align: middle;\n    }\n\n    .dataframe tbody tr th {\n        vertical-align: top;\n    }\n\n    .dataframe thead th {\n        text-align: right;\n    }\n</style>\n<table border=\"1\" class=\"dataframe\">\n  <thead>\n    <tr style=\"text-align: right;\">\n      <th></th>\n      <th></th>\n      <th>share_return</th>\n      <th>total_mv</th>\n      <th>Idvol</th>\n    </tr>\n    <tr>\n      <th>trade_date</th>\n      <th>ts_code</th>\n      <th></th>\n      <th></th>\n      <th></th>\n    </tr>\n  </thead>\n  <tbody>\n    <tr>\n      <th rowspan=\"5\" valign=\"top\">20140102</th>\n      <th>000001.SZ</th>\n      <td>-0.1641</td>\n      <td>1.002537e+07</td>\n      <td>&lt;NA&gt;</td>\n    </tr>\n    <tr>\n      <th>000002.SZ</th>\n      <td>-0.4972</td>\n      <td>8.799966e+06</td>\n      <td>&lt;NA&gt;</td>\n    </tr>\n    <tr>\n      <th>000004.SZ</th>\n      <td>1.3734</td>\n      <td>9.917646e+04</td>\n      <td>&lt;NA&gt;</td>\n    </tr>\n    <tr>\n      <th>000005.SZ</th>\n      <td>-0.4000</td>\n      <td>2.276691e+05</td>\n      <td>&lt;NA&gt;</td>\n    </tr>\n    <tr>\n      <th>000006.SZ</th>\n      <td>-1.2164</td>\n      <td>6.574476e+05</td>\n      <td>&lt;NA&gt;</td>\n    </tr>\n    <tr>\n      <th>...</th>\n      <th>...</th>\n      <td>...</td>\n      <td>...</td>\n      <td>...</td>\n    </tr>\n    <tr>\n      <th rowspan=\"5\" valign=\"top\">20221128</th>\n      <th>873122.BJ</th>\n      <td>-2.0158</td>\n      <td>1.259199e+05</td>\n      <td>19.27363078</td>\n    </tr>\n    <tr>\n      <th>873169.BJ</th>\n      <td>-1.5198</td>\n      <td>5.443271e+04</td>\n      <td>1.319910083</td>\n    </tr>\n    <tr>\n      <th>873223.BJ</th>\n      <td>-0.2660</td>\n      <td>5.898188e+04</td>\n      <td>0.730762806</td>\n    </tr>\n    <tr>\n      <th>873339.BJ</th>\n      <td>-0.5093</td>\n      <td>1.290394e+05</td>\n      <td>&lt;NA&gt;</td>\n    </tr>\n    <tr>\n      <th>873527.BJ</th>\n      <td>0.0000</td>\n      <td>5.445873e+04</td>\n      <td>&lt;NA&gt;</td>\n    </tr>\n  </tbody>\n</table>\n<p>7136670 rows × 3 columns</p>\n</div>"
     },
     "execution_count": 4,
     "metadata": {},
     "output_type": "execute_result"
    }
   ],
   "source": [
    "%%time\n",
    "\n",
    "# 滚动OLS回归求异质波动率\n",
    "def roll_idvol(df_code: pd.DataFrame, ols_window: int, var_ma: int) -> pd.DataFrame:\n",
    "    try:\n",
    "        # 估计参数\n",
    "        model_ols = RollingOLS(endog=df_code[['Y']], exog=df_code[['CONST', 'X']], window=ols_window)\n",
    "        df_para = model_ols.fit().params.rename(columns={'CONST': 'Alpha', 'X': 'Beta'})\n",
    "\n",
    "        # 预测残差 已经对齐了\n",
    "        df_con = pd.concat([df_code, df_para], axis=1, join='inner')\n",
    "        df_con['Residual'] = df_con['Alpha'] + df_con['Beta']*df_con['X'] - df_con['Y']\n",
    "\n",
    "        # 计算月波动率\n",
    "        df_con['Idvol'] = df_con['Residual'].rolling(var_ma).var(ddof=1)\n",
    "        return df_con[['share_return', 'total_mv', 'Idvol']]\n",
    "    except (IndexError, ValueError): return pd.DataFrame(columns=['trade_date', 'ts_code']).set_index(['trade_date', 'ts_code'])\n",
    "\n",
    "\n",
    "# 分组计算\n",
    "def cal_panel_ols():\n",
    "    # 定义回归变量 CAPM回归: (rm-rf)=a+b*(RM-rf)\n",
    "    df_panel['Y'] = df_panel['share_return'] - df_panel['riskfree_return']\n",
    "    df_panel['CONST'] = 1  # 带截距项回归\n",
    "    df_panel['X'] = df_panel['shareindex_return'] - df_panel['riskfree_return']\n",
    "\n",
    "    # 多线程加速\n",
    "    pandarallel.initialize(progress_bar=True)\n",
    "    df_out = (df_panel.groupby(level=['ts_code'])[['share_return', 'total_mv', 'Y', 'CONST', 'X']]\n",
    "              .parallel_apply(lambda x: roll_idvol(x, 5, 30)).droplevel(2)\n",
    "              )\n",
    "\n",
    "    # 保存\n",
    "    df_out.to_parquet(f'{DATASETS_PATH}ASHARE_OLS_PANEL.parquet', engine='pyarrow', index=True)\n",
    "\n",
    "\n",
    "# 计算滚动回归\n",
    "if not os.path.exists(f'{DATASETS_PATH}ASHARE_OLS_PANEL.parquet'): cal_panel_ols()\n",
    "\n",
    "# 加载滚动回归的面板数据集\n",
    "df_ols_panel = (\n",
    "    cudf.read_parquet(f'{DATASETS_PATH}ASHARE_OLS_PANEL.parquet').reset_index().set_index(['trade_date', 'ts_code']).sort_index()\n",
    ")\n",
    "df_ols_panel"
   ],
   "metadata": {
    "collapsed": false
   }
  },
  {
   "cell_type": "markdown",
   "source": [
    "### 2.2 面板数据异质波动率分组"
   ],
   "metadata": {
    "collapsed": false
   }
  },
  {
   "cell_type": "code",
   "execution_count": 5,
   "outputs": [
    {
     "name": "stdout",
     "output_type": "stream",
     "text": [
      "CPU times: user 3 s, sys: 1.04 s, total: 4.04 s\n",
      "Wall time: 4.04 s\n"
     ]
    },
    {
     "data": {
      "text/plain": "                                  share_return      total_mv        Idvol  \\\ntrade_date idvol_group ts_code                                              \n20140102   LOW         000001.SZ       -0.1641  1.002537e+07         <NA>   \n                       000002.SZ       -0.4972  8.799966e+06         <NA>   \n                       000004.SZ        1.3734  9.917646e+04         <NA>   \n                       000005.SZ       -0.4000  2.276691e+05         <NA>   \n                       000006.SZ       -1.2164  6.574476e+05         <NA>   \n...                                        ...           ...          ...   \n20221128   LOW         872925.BJ       -0.3987  7.386323e+04  1.366920583   \n                       873169.BJ       -1.5198  5.443271e+04  1.319910083   \n                       873223.BJ       -0.2660  5.898188e+04  0.730762806   \n                       873339.BJ       -0.5093  1.290394e+05         <NA>   \n                       873527.BJ        0.0000  5.445873e+04         <NA>   \n\n                                    idvol_top  mv_ratio  idvol_vw_ratio  \\\ntrade_date idvol_group ts_code                                            \n20140102   LOW         000001.SZ         <NA>  0.003834       -0.000629   \n                       000002.SZ         <NA>  0.003365       -0.001673   \n                       000004.SZ         <NA>  0.000038        0.000052   \n                       000005.SZ         <NA>  0.000087       -0.000035   \n                       000006.SZ         <NA>  0.000251       -0.000306   \n...                                       ...       ...             ...   \n20221128   LOW         872925.BJ  2.944717594  0.000013       -0.000005   \n                       873169.BJ  2.944717594  0.000010       -0.000015   \n                       873223.BJ  2.944717594  0.000011       -0.000003   \n                       873339.BJ  2.944717594  0.000023       -0.000012   \n                       873527.BJ  2.944717594  0.000010        0.000000   \n\n                                  idvol_group_return  \ntrade_date idvol_group ts_code                        \n20140102   LOW         000001.SZ            0.104007  \n                       000002.SZ            0.104007  \n                       000004.SZ            0.104007  \n                       000005.SZ            0.104007  \n                       000006.SZ            0.104007  \n...                                              ...  \n20221128   LOW         872925.BJ           -0.769940  \n                       873169.BJ           -0.769940  \n                       873223.BJ           -0.769940  \n                       873339.BJ           -0.769940  \n                       873527.BJ           -0.769940  \n\n[7136670 rows x 7 columns]",
      "text/html": "<div>\n<style scoped>\n    .dataframe tbody tr th:only-of-type {\n        vertical-align: middle;\n    }\n\n    .dataframe tbody tr th {\n        vertical-align: top;\n    }\n\n    .dataframe thead th {\n        text-align: right;\n    }\n</style>\n<table border=\"1\" class=\"dataframe\">\n  <thead>\n    <tr style=\"text-align: right;\">\n      <th></th>\n      <th></th>\n      <th></th>\n      <th>share_return</th>\n      <th>total_mv</th>\n      <th>Idvol</th>\n      <th>idvol_top</th>\n      <th>mv_ratio</th>\n      <th>idvol_vw_ratio</th>\n      <th>idvol_group_return</th>\n    </tr>\n    <tr>\n      <th>trade_date</th>\n      <th>idvol_group</th>\n      <th>ts_code</th>\n      <th></th>\n      <th></th>\n      <th></th>\n      <th></th>\n      <th></th>\n      <th></th>\n      <th></th>\n    </tr>\n  </thead>\n  <tbody>\n    <tr>\n      <th rowspan=\"5\" valign=\"top\">20140102</th>\n      <th rowspan=\"5\" valign=\"top\">LOW</th>\n      <th>000001.SZ</th>\n      <td>-0.1641</td>\n      <td>1.002537e+07</td>\n      <td>&lt;NA&gt;</td>\n      <td>&lt;NA&gt;</td>\n      <td>0.003834</td>\n      <td>-0.000629</td>\n      <td>0.104007</td>\n    </tr>\n    <tr>\n      <th>000002.SZ</th>\n      <td>-0.4972</td>\n      <td>8.799966e+06</td>\n      <td>&lt;NA&gt;</td>\n      <td>&lt;NA&gt;</td>\n      <td>0.003365</td>\n      <td>-0.001673</td>\n      <td>0.104007</td>\n    </tr>\n    <tr>\n      <th>000004.SZ</th>\n      <td>1.3734</td>\n      <td>9.917646e+04</td>\n      <td>&lt;NA&gt;</td>\n      <td>&lt;NA&gt;</td>\n      <td>0.000038</td>\n      <td>0.000052</td>\n      <td>0.104007</td>\n    </tr>\n    <tr>\n      <th>000005.SZ</th>\n      <td>-0.4000</td>\n      <td>2.276691e+05</td>\n      <td>&lt;NA&gt;</td>\n      <td>&lt;NA&gt;</td>\n      <td>0.000087</td>\n      <td>-0.000035</td>\n      <td>0.104007</td>\n    </tr>\n    <tr>\n      <th>000006.SZ</th>\n      <td>-1.2164</td>\n      <td>6.574476e+05</td>\n      <td>&lt;NA&gt;</td>\n      <td>&lt;NA&gt;</td>\n      <td>0.000251</td>\n      <td>-0.000306</td>\n      <td>0.104007</td>\n    </tr>\n    <tr>\n      <th>...</th>\n      <th>...</th>\n      <th>...</th>\n      <td>...</td>\n      <td>...</td>\n      <td>...</td>\n      <td>...</td>\n      <td>...</td>\n      <td>...</td>\n      <td>...</td>\n    </tr>\n    <tr>\n      <th rowspan=\"5\" valign=\"top\">20221128</th>\n      <th rowspan=\"5\" valign=\"top\">LOW</th>\n      <th>872925.BJ</th>\n      <td>-0.3987</td>\n      <td>7.386323e+04</td>\n      <td>1.366920583</td>\n      <td>2.944717594</td>\n      <td>0.000013</td>\n      <td>-0.000005</td>\n      <td>-0.769940</td>\n    </tr>\n    <tr>\n      <th>873169.BJ</th>\n      <td>-1.5198</td>\n      <td>5.443271e+04</td>\n      <td>1.319910083</td>\n      <td>2.944717594</td>\n      <td>0.000010</td>\n      <td>-0.000015</td>\n      <td>-0.769940</td>\n    </tr>\n    <tr>\n      <th>873223.BJ</th>\n      <td>-0.2660</td>\n      <td>5.898188e+04</td>\n      <td>0.730762806</td>\n      <td>2.944717594</td>\n      <td>0.000011</td>\n      <td>-0.000003</td>\n      <td>-0.769940</td>\n    </tr>\n    <tr>\n      <th>873339.BJ</th>\n      <td>-0.5093</td>\n      <td>1.290394e+05</td>\n      <td>&lt;NA&gt;</td>\n      <td>2.944717594</td>\n      <td>0.000023</td>\n      <td>-0.000012</td>\n      <td>-0.769940</td>\n    </tr>\n    <tr>\n      <th>873527.BJ</th>\n      <td>0.0000</td>\n      <td>5.445873e+04</td>\n      <td>&lt;NA&gt;</td>\n      <td>2.944717594</td>\n      <td>0.000010</td>\n      <td>0.000000</td>\n      <td>-0.769940</td>\n    </tr>\n  </tbody>\n</table>\n<p>7136670 rows × 7 columns</p>\n</div>"
     },
     "execution_count": 5,
     "metadata": {},
     "output_type": "execute_result"
    }
   ],
   "source": [
    "%%time\n",
    "\n",
    "# 参数阈值\n",
    "QUANTILE = 0.5\n",
    "\n",
    "\n",
    "# 面板数据分组\n",
    "def group_ols_panel(df):\n",
    "    # 分组\n",
    "    df['idvol_top'] = df['Idvol'].groupby(level=['trade_date']).transform(lambda x: x.quantile(QUANTILE))\n",
    "    df['idvol_group'] = np.where(df['Idvol'].to_pandas() >= df['idvol_top'].to_pandas(), \"HIGH\", \"LOW\")\n",
    "    df = df.reset_index().set_index(['trade_date', 'idvol_group', 'ts_code']).sort_index()\n",
    "\n",
    "    # 求组中市值加权系数,并求回报\n",
    "    df['mv_ratio'] = df['total_mv']/df.groupby(level=['trade_date', 'idvol_group'])['total_mv'].transform('sum')\n",
    "\n",
    "    # 求组中回报\n",
    "    df['idvol_vw_ratio'] = df['mv_ratio']*df['share_return']\n",
    "    df['idvol_group_return'] = (df.groupby(level=['trade_date', 'idvol_group'])['idvol_vw_ratio'].transform('sum'))\n",
    "\n",
    "    return df\n",
    "\n",
    "\n",
    "df_group_panel = group_ols_panel(df_ols_panel)\n",
    "df_group_panel"
   ],
   "metadata": {
    "collapsed": false
   }
  },
  {
   "cell_type": "code",
   "execution_count": 163,
   "outputs": [
    {
     "data": {
      "text/plain": "                              shareindex_return      HIGH       LOW\ntrade_date img_neg  tex_neg                                        \n20140225   0.000000 0.000000            -2.5559 -4.016731 -1.827917\n20140226   0.666667 0.000000             0.2547  0.985354  0.193332\n20140227   0.000000 0.000000            -0.4297 -0.781264  0.026462\n20140228   0.333333 0.666667             1.1542  1.174221  0.582117\n20140303   0.333333 0.333333             0.5231  1.989484  0.722860\n...                                         ...       ...       ...\n20220621   0.238095 0.285714            -0.1124 -0.810936  0.125217\n20220622   0.227273 0.227273            -1.2702 -0.807400 -1.345733\n20220623   0.363636 0.363636             1.7153  2.629145  1.459178\n20220624   0.200000 0.300000             1.1716  1.323591  0.901009\n20220627   0.200000 0.133333             1.1261  1.406000  0.762883\n\n[2031 rows x 3 columns]",
      "text/html": "<div>\n<style scoped>\n    .dataframe tbody tr th:only-of-type {\n        vertical-align: middle;\n    }\n\n    .dataframe tbody tr th {\n        vertical-align: top;\n    }\n\n    .dataframe thead th {\n        text-align: right;\n    }\n</style>\n<table border=\"1\" class=\"dataframe\">\n  <thead>\n    <tr style=\"text-align: right;\">\n      <th></th>\n      <th></th>\n      <th></th>\n      <th>shareindex_return</th>\n      <th>HIGH</th>\n      <th>LOW</th>\n    </tr>\n    <tr>\n      <th>trade_date</th>\n      <th>img_neg</th>\n      <th>tex_neg</th>\n      <th></th>\n      <th></th>\n      <th></th>\n    </tr>\n  </thead>\n  <tbody>\n    <tr>\n      <th>20140225</th>\n      <th>0.000000</th>\n      <th>0.000000</th>\n      <td>-2.5559</td>\n      <td>-4.016731</td>\n      <td>-1.827917</td>\n    </tr>\n    <tr>\n      <th>20140226</th>\n      <th>0.666667</th>\n      <th>0.000000</th>\n      <td>0.2547</td>\n      <td>0.985354</td>\n      <td>0.193332</td>\n    </tr>\n    <tr>\n      <th>20140227</th>\n      <th>0.000000</th>\n      <th>0.000000</th>\n      <td>-0.4297</td>\n      <td>-0.781264</td>\n      <td>0.026462</td>\n    </tr>\n    <tr>\n      <th>20140228</th>\n      <th>0.333333</th>\n      <th>0.666667</th>\n      <td>1.1542</td>\n      <td>1.174221</td>\n      <td>0.582117</td>\n    </tr>\n    <tr>\n      <th>20140303</th>\n      <th>0.333333</th>\n      <th>0.333333</th>\n      <td>0.5231</td>\n      <td>1.989484</td>\n      <td>0.722860</td>\n    </tr>\n    <tr>\n      <th>...</th>\n      <th>...</th>\n      <th>...</th>\n      <td>...</td>\n      <td>...</td>\n      <td>...</td>\n    </tr>\n    <tr>\n      <th>20220621</th>\n      <th>0.238095</th>\n      <th>0.285714</th>\n      <td>-0.1124</td>\n      <td>-0.810936</td>\n      <td>0.125217</td>\n    </tr>\n    <tr>\n      <th>20220622</th>\n      <th>0.227273</th>\n      <th>0.227273</th>\n      <td>-1.2702</td>\n      <td>-0.807400</td>\n      <td>-1.345733</td>\n    </tr>\n    <tr>\n      <th>20220623</th>\n      <th>0.363636</th>\n      <th>0.363636</th>\n      <td>1.7153</td>\n      <td>2.629145</td>\n      <td>1.459178</td>\n    </tr>\n    <tr>\n      <th>20220624</th>\n      <th>0.200000</th>\n      <th>0.300000</th>\n      <td>1.1716</td>\n      <td>1.323591</td>\n      <td>0.901009</td>\n    </tr>\n    <tr>\n      <th>20220627</th>\n      <th>0.200000</th>\n      <th>0.133333</th>\n      <td>1.1261</td>\n      <td>1.406000</td>\n      <td>0.762883</td>\n    </tr>\n  </tbody>\n</table>\n<p>2031 rows × 3 columns</p>\n</div>"
     },
     "execution_count": 163,
     "metadata": {},
     "output_type": "execute_result"
    }
   ],
   "source": [
    "# 转为时间序列数据\n",
    "df_series = (\n",
    "    df_group_panel[['idvol_group_return']].groupby(level=['trade_date', 'idvol_group']).first().reset_index()\n",
    "    .pivot(index='trade_date', columns='idvol_group', values='idvol_group_return').to_pandas()\n",
    ")\n",
    "\n",
    "# 合并其他时间序列数据\n",
    "df_series_join = (\n",
    "    df_time_series.join(df_series).dropna(axis=0).reset_index().set_index(['trade_date', 'img_neg', 'tex_neg'])\n",
    "    .drop(columns='riskfree_return')\n",
    ")\n",
    "\n",
    "df_series_join"
   ],
   "metadata": {
    "collapsed": false
   }
  },
  {
   "cell_type": "code",
   "execution_count": 158,
   "outputs": [
    {
     "data": {
      "text/plain": "                                     return              group\ntime trade_date img_neg  tex_neg                              \n0    20140225   0.000000 0.000000 -2.555900  shareindex_return\n1    20140226   0.666667 0.000000  0.254700  shareindex_return\n2    20140227   0.000000 0.000000 -0.429700  shareindex_return\n3    20140228   0.333333 0.666667  1.154200  shareindex_return\n4    20140303   0.333333 0.333333  0.523100  shareindex_return\n...                                     ...                ...\n2026 20220621   0.238095 0.285714  0.125217                LOW\n2027 20220622   0.227273 0.227273 -1.345733                LOW\n2028 20220623   0.363636 0.363636  1.459178                LOW\n2029 20220624   0.200000 0.300000  0.901009                LOW\n2030 20220627   0.200000 0.133333  0.762883                LOW\n\n[6093 rows x 2 columns]",
      "text/html": "<div>\n<style scoped>\n    .dataframe tbody tr th:only-of-type {\n        vertical-align: middle;\n    }\n\n    .dataframe tbody tr th {\n        vertical-align: top;\n    }\n\n    .dataframe thead th {\n        text-align: right;\n    }\n</style>\n<table border=\"1\" class=\"dataframe\">\n  <thead>\n    <tr style=\"text-align: right;\">\n      <th></th>\n      <th></th>\n      <th></th>\n      <th></th>\n      <th>return</th>\n      <th>group</th>\n    </tr>\n    <tr>\n      <th>time</th>\n      <th>trade_date</th>\n      <th>img_neg</th>\n      <th>tex_neg</th>\n      <th></th>\n      <th></th>\n    </tr>\n  </thead>\n  <tbody>\n    <tr>\n      <th>0</th>\n      <th>20140225</th>\n      <th>0.000000</th>\n      <th>0.000000</th>\n      <td>-2.555900</td>\n      <td>shareindex_return</td>\n    </tr>\n    <tr>\n      <th>1</th>\n      <th>20140226</th>\n      <th>0.666667</th>\n      <th>0.000000</th>\n      <td>0.254700</td>\n      <td>shareindex_return</td>\n    </tr>\n    <tr>\n      <th>2</th>\n      <th>20140227</th>\n      <th>0.000000</th>\n      <th>0.000000</th>\n      <td>-0.429700</td>\n      <td>shareindex_return</td>\n    </tr>\n    <tr>\n      <th>3</th>\n      <th>20140228</th>\n      <th>0.333333</th>\n      <th>0.666667</th>\n      <td>1.154200</td>\n      <td>shareindex_return</td>\n    </tr>\n    <tr>\n      <th>4</th>\n      <th>20140303</th>\n      <th>0.333333</th>\n      <th>0.333333</th>\n      <td>0.523100</td>\n      <td>shareindex_return</td>\n    </tr>\n    <tr>\n      <th>...</th>\n      <th>...</th>\n      <th>...</th>\n      <th>...</th>\n      <td>...</td>\n      <td>...</td>\n    </tr>\n    <tr>\n      <th>2026</th>\n      <th>20220621</th>\n      <th>0.238095</th>\n      <th>0.285714</th>\n      <td>0.125217</td>\n      <td>LOW</td>\n    </tr>\n    <tr>\n      <th>2027</th>\n      <th>20220622</th>\n      <th>0.227273</th>\n      <th>0.227273</th>\n      <td>-1.345733</td>\n      <td>LOW</td>\n    </tr>\n    <tr>\n      <th>2028</th>\n      <th>20220623</th>\n      <th>0.363636</th>\n      <th>0.363636</th>\n      <td>1.459178</td>\n      <td>LOW</td>\n    </tr>\n    <tr>\n      <th>2029</th>\n      <th>20220624</th>\n      <th>0.200000</th>\n      <th>0.300000</th>\n      <td>0.901009</td>\n      <td>LOW</td>\n    </tr>\n    <tr>\n      <th>2030</th>\n      <th>20220627</th>\n      <th>0.200000</th>\n      <th>0.133333</th>\n      <td>0.762883</td>\n      <td>LOW</td>\n    </tr>\n  </tbody>\n</table>\n<p>6093 rows × 2 columns</p>\n</div>"
     },
     "execution_count": 158,
     "metadata": {},
     "output_type": "execute_result"
    }
   ],
   "source": [
    "# 转为分组面板数据\n",
    "def transform_group_panel(df):\n",
    "    df_group = pd.DataFrame()\n",
    "    for col in df.columns.to_list():\n",
    "        df_col = df[[col]].rename(columns={col: 'return'})\n",
    "        df_col['group'] = col\n",
    "        df_group = pd.concat([df_group, df_col])\n",
    "    return df_group\n",
    "\n",
    "\n",
    "def transform():\n",
    "    df_series_join = (\n",
    "        df_series_join.reset_index().reset_index().rename(columns={'index': 'time'})\n",
    "        .set_index(['time', 'trade_date', 'img_neg', 'tex_neg'])\n",
    "    )\n",
    "\n",
    "    df_group_ols = transform_group_panel(df_series_join)\n",
    "\n",
    "# df_group_ols"
   ],
   "metadata": {
    "collapsed": false
   }
  },
  {
   "cell_type": "markdown",
   "source": [
    "|## 3.VAR模型分析"
   ],
   "metadata": {
    "collapsed": false
   }
  },
  {
   "cell_type": "markdown",
   "source": [
    "### 3.1 回归前数据处理"
   ],
   "metadata": {
    "collapsed": false
   }
  },
  {
   "cell_type": "code",
   "execution_count": 169,
   "outputs": [
    {
     "data": {
      "text/plain": "      trade_date   img_neg   tex_neg  shareindex_return      HIGH       LOW  \\\n0       20140225  0.000000  0.000000            -2.5559 -4.016731 -1.827917   \n1       20140226  0.666667  0.000000             0.2547  0.985354  0.193332   \n2       20140227  0.000000  0.000000            -0.4297 -0.781264  0.026462   \n3       20140228  0.333333  0.666667             1.1542  1.174221  0.582117   \n4       20140303  0.333333  0.333333             0.5231  1.989484  0.722860   \n...          ...       ...       ...                ...       ...       ...   \n2026    20220621  0.238095  0.285714            -0.1124 -0.810936  0.125217   \n2027    20220622  0.227273  0.227273            -1.2702 -0.807400 -1.345733   \n2028    20220623  0.363636  0.363636             1.7153  2.629145  1.459178   \n2029    20220624  0.200000  0.300000             1.1716  1.323591  0.901009   \n2030    20220627  0.200000  0.133333             1.1261  1.406000  0.762883   \n\n         LOW_s     HIGH_s  weekday_1  weekday_2  ...  month_3  month_4  \\\n0     3.341279  16.134125          1          0  ...        0        0   \n1     0.037377   0.970923          0          1  ...        0        0   \n2     0.000700   0.610373          0          0  ...        0        0   \n3     0.338860   1.378796          0          0  ...        0        0   \n4     0.522527   3.958047          0          0  ...        1        0   \n...        ...        ...        ...        ...  ...      ...      ...   \n2026  0.015679   0.657617          1          0  ...        0        0   \n2027  1.810997   0.651895          0          1  ...        0        0   \n2028  2.129201   6.912405          0          0  ...        0        0   \n2029  0.811817   1.751893          0          0  ...        0        0   \n2030  0.581991   1.976835          0          0  ...        0        0   \n\n      month_5  month_6  month_7  month_8  month_9  month_10  month_11  \\\n0           0        0        0        0        0         0         0   \n1           0        0        0        0        0         0         0   \n2           0        0        0        0        0         0         0   \n3           0        0        0        0        0         0         0   \n4           0        0        0        0        0         0         0   \n...       ...      ...      ...      ...      ...       ...       ...   \n2026        0        1        0        0        0         0         0   \n2027        0        1        0        0        0         0         0   \n2028        0        1        0        0        0         0         0   \n2029        0        1        0        0        0         0         0   \n2030        0        1        0        0        0         0         0   \n\n      month_12  \n0            0  \n1            0  \n2            0  \n3            0  \n4            0  \n...        ...  \n2026         0  \n2027         0  \n2028         0  \n2029         0  \n2030         0  \n\n[2031 rows x 23 columns]",
      "text/html": "<div>\n<style scoped>\n    .dataframe tbody tr th:only-of-type {\n        vertical-align: middle;\n    }\n\n    .dataframe tbody tr th {\n        vertical-align: top;\n    }\n\n    .dataframe thead th {\n        text-align: right;\n    }\n</style>\n<table border=\"1\" class=\"dataframe\">\n  <thead>\n    <tr style=\"text-align: right;\">\n      <th></th>\n      <th>trade_date</th>\n      <th>img_neg</th>\n      <th>tex_neg</th>\n      <th>shareindex_return</th>\n      <th>HIGH</th>\n      <th>LOW</th>\n      <th>LOW_s</th>\n      <th>HIGH_s</th>\n      <th>weekday_1</th>\n      <th>weekday_2</th>\n      <th>...</th>\n      <th>month_3</th>\n      <th>month_4</th>\n      <th>month_5</th>\n      <th>month_6</th>\n      <th>month_7</th>\n      <th>month_8</th>\n      <th>month_9</th>\n      <th>month_10</th>\n      <th>month_11</th>\n      <th>month_12</th>\n    </tr>\n  </thead>\n  <tbody>\n    <tr>\n      <th>0</th>\n      <td>20140225</td>\n      <td>0.000000</td>\n      <td>0.000000</td>\n      <td>-2.5559</td>\n      <td>-4.016731</td>\n      <td>-1.827917</td>\n      <td>3.341279</td>\n      <td>16.134125</td>\n      <td>1</td>\n      <td>0</td>\n      <td>...</td>\n      <td>0</td>\n      <td>0</td>\n      <td>0</td>\n      <td>0</td>\n      <td>0</td>\n      <td>0</td>\n      <td>0</td>\n      <td>0</td>\n      <td>0</td>\n      <td>0</td>\n    </tr>\n    <tr>\n      <th>1</th>\n      <td>20140226</td>\n      <td>0.666667</td>\n      <td>0.000000</td>\n      <td>0.2547</td>\n      <td>0.985354</td>\n      <td>0.193332</td>\n      <td>0.037377</td>\n      <td>0.970923</td>\n      <td>0</td>\n      <td>1</td>\n      <td>...</td>\n      <td>0</td>\n      <td>0</td>\n      <td>0</td>\n      <td>0</td>\n      <td>0</td>\n      <td>0</td>\n      <td>0</td>\n      <td>0</td>\n      <td>0</td>\n      <td>0</td>\n    </tr>\n    <tr>\n      <th>2</th>\n      <td>20140227</td>\n      <td>0.000000</td>\n      <td>0.000000</td>\n      <td>-0.4297</td>\n      <td>-0.781264</td>\n      <td>0.026462</td>\n      <td>0.000700</td>\n      <td>0.610373</td>\n      <td>0</td>\n      <td>0</td>\n      <td>...</td>\n      <td>0</td>\n      <td>0</td>\n      <td>0</td>\n      <td>0</td>\n      <td>0</td>\n      <td>0</td>\n      <td>0</td>\n      <td>0</td>\n      <td>0</td>\n      <td>0</td>\n    </tr>\n    <tr>\n      <th>3</th>\n      <td>20140228</td>\n      <td>0.333333</td>\n      <td>0.666667</td>\n      <td>1.1542</td>\n      <td>1.174221</td>\n      <td>0.582117</td>\n      <td>0.338860</td>\n      <td>1.378796</td>\n      <td>0</td>\n      <td>0</td>\n      <td>...</td>\n      <td>0</td>\n      <td>0</td>\n      <td>0</td>\n      <td>0</td>\n      <td>0</td>\n      <td>0</td>\n      <td>0</td>\n      <td>0</td>\n      <td>0</td>\n      <td>0</td>\n    </tr>\n    <tr>\n      <th>4</th>\n      <td>20140303</td>\n      <td>0.333333</td>\n      <td>0.333333</td>\n      <td>0.5231</td>\n      <td>1.989484</td>\n      <td>0.722860</td>\n      <td>0.522527</td>\n      <td>3.958047</td>\n      <td>0</td>\n      <td>0</td>\n      <td>...</td>\n      <td>1</td>\n      <td>0</td>\n      <td>0</td>\n      <td>0</td>\n      <td>0</td>\n      <td>0</td>\n      <td>0</td>\n      <td>0</td>\n      <td>0</td>\n      <td>0</td>\n    </tr>\n    <tr>\n      <th>...</th>\n      <td>...</td>\n      <td>...</td>\n      <td>...</td>\n      <td>...</td>\n      <td>...</td>\n      <td>...</td>\n      <td>...</td>\n      <td>...</td>\n      <td>...</td>\n      <td>...</td>\n      <td>...</td>\n      <td>...</td>\n      <td>...</td>\n      <td>...</td>\n      <td>...</td>\n      <td>...</td>\n      <td>...</td>\n      <td>...</td>\n      <td>...</td>\n      <td>...</td>\n      <td>...</td>\n    </tr>\n    <tr>\n      <th>2026</th>\n      <td>20220621</td>\n      <td>0.238095</td>\n      <td>0.285714</td>\n      <td>-0.1124</td>\n      <td>-0.810936</td>\n      <td>0.125217</td>\n      <td>0.015679</td>\n      <td>0.657617</td>\n      <td>1</td>\n      <td>0</td>\n      <td>...</td>\n      <td>0</td>\n      <td>0</td>\n      <td>0</td>\n      <td>1</td>\n      <td>0</td>\n      <td>0</td>\n      <td>0</td>\n      <td>0</td>\n      <td>0</td>\n      <td>0</td>\n    </tr>\n    <tr>\n      <th>2027</th>\n      <td>20220622</td>\n      <td>0.227273</td>\n      <td>0.227273</td>\n      <td>-1.2702</td>\n      <td>-0.807400</td>\n      <td>-1.345733</td>\n      <td>1.810997</td>\n      <td>0.651895</td>\n      <td>0</td>\n      <td>1</td>\n      <td>...</td>\n      <td>0</td>\n      <td>0</td>\n      <td>0</td>\n      <td>1</td>\n      <td>0</td>\n      <td>0</td>\n      <td>0</td>\n      <td>0</td>\n      <td>0</td>\n      <td>0</td>\n    </tr>\n    <tr>\n      <th>2028</th>\n      <td>20220623</td>\n      <td>0.363636</td>\n      <td>0.363636</td>\n      <td>1.7153</td>\n      <td>2.629145</td>\n      <td>1.459178</td>\n      <td>2.129201</td>\n      <td>6.912405</td>\n      <td>0</td>\n      <td>0</td>\n      <td>...</td>\n      <td>0</td>\n      <td>0</td>\n      <td>0</td>\n      <td>1</td>\n      <td>0</td>\n      <td>0</td>\n      <td>0</td>\n      <td>0</td>\n      <td>0</td>\n      <td>0</td>\n    </tr>\n    <tr>\n      <th>2029</th>\n      <td>20220624</td>\n      <td>0.200000</td>\n      <td>0.300000</td>\n      <td>1.1716</td>\n      <td>1.323591</td>\n      <td>0.901009</td>\n      <td>0.811817</td>\n      <td>1.751893</td>\n      <td>0</td>\n      <td>0</td>\n      <td>...</td>\n      <td>0</td>\n      <td>0</td>\n      <td>0</td>\n      <td>1</td>\n      <td>0</td>\n      <td>0</td>\n      <td>0</td>\n      <td>0</td>\n      <td>0</td>\n      <td>0</td>\n    </tr>\n    <tr>\n      <th>2030</th>\n      <td>20220627</td>\n      <td>0.200000</td>\n      <td>0.133333</td>\n      <td>1.1261</td>\n      <td>1.406000</td>\n      <td>0.762883</td>\n      <td>0.581991</td>\n      <td>1.976835</td>\n      <td>0</td>\n      <td>0</td>\n      <td>...</td>\n      <td>0</td>\n      <td>0</td>\n      <td>0</td>\n      <td>1</td>\n      <td>0</td>\n      <td>0</td>\n      <td>0</td>\n      <td>0</td>\n      <td>0</td>\n      <td>0</td>\n    </tr>\n  </tbody>\n</table>\n<p>2031 rows × 23 columns</p>\n</div>"
     },
     "execution_count": 169,
     "metadata": {},
     "output_type": "execute_result"
    }
   ],
   "source": [
    "# 增加平方项\n",
    "def add_square_column(df, square_column: list): return pd.concat([df, df[square_column].pow(2).add_suffix('_s')], axis=1)\n",
    "\n",
    "\n",
    "# 增加日期虚拟变量\n",
    "def add_dummy_column(df, column: str):\n",
    "    df_weekday = pd.get_dummies(pd.to_datetime(df[column], format='%Y%m%d').dt.weekday, prefix='weekday', drop_first=True)\n",
    "    df_month = pd.get_dummies(pd.to_datetime(df[column], format='%Y%m%d').dt.month, prefix='month', drop_first=True)\n",
    "    return pd.concat([df, df_weekday, df_month], axis=1)\n",
    "\n",
    "\n",
    "# 处理好的用于回归的数据\n",
    "df_series_ols = add_dummy_column(add_square_column(df_series_join.reset_index(), ['LOW', 'HIGH']), 'trade_date')\n",
    "df_series_ols\n",
    "# @formatter:off"
   ],
   "metadata": {
    "collapsed": false
   }
  },
  {
   "cell_type": "markdown",
   "source": [
    "### 3.2 回归结果"
   ],
   "metadata": {
    "collapsed": false
   }
  },
  {
   "cell_type": "markdown",
   "source": [],
   "metadata": {
    "collapsed": false
   }
  },
  {
   "cell_type": "code",
   "execution_count": null,
   "outputs": [],
   "source": [
    "%%stata -d df_series_ols -force\n",
    "//描述性统计\n",
    "//cd Outputs"
   ],
   "metadata": {
    "collapsed": false
   }
  },
  {
   "cell_type": "code",
   "execution_count": 208,
   "outputs": [
    {
     "name": "stdout",
     "output_type": "stream",
     "text": [
      "\n",
      ". \n",
      ". \n",
      ". //描述性统计\n",
      ". //cd Outputs\n",
      ". // outreg2 using Decriptive_statistics.doc, replace sum(log) title(Decriptive\n",
      ">  statistics)\n",
      ". \n",
      ". \n",
      ". //时间设定\n",
      ". ge time=_n\n",
      "\n",
      ". tsset time\n",
      "\n",
      "Time variable: time, 1 to 2031\n",
      "        Delta: 1 unit\n",
      "\n",
      ". est clear\n",
      "\n",
      ". \n",
      ". //VAR回归\n",
      ". \n",
      ". foreach var in LOW HIGH HIGH HIGH {\n",
      "  2.    rename (`var' `var'_s) (return return_s)\n",
      "  3.    eststo: qui var return img_neg return, lags(1/5) exog(month_* weekday_*\n",
      "> )\n",
      "  4.    estadd local Month \"Yes\",replace\n",
      "  5.    estadd local Weekday \"Yes\",replace\n",
      "  6.    rename  (return return_s) (`var' `var'_s)\n",
      "  7. }\n",
      "(est1 stored)\n",
      "\n",
      "added macro:\n",
      "              e(Month) : \"Yes\"\n",
      "\n",
      "added macro:\n",
      "            e(Weekday) : \"Yes\"\n",
      "(est2 stored)\n",
      "\n",
      "added macro:\n",
      "              e(Month) : \"Yes\"\n",
      "\n",
      "added macro:\n",
      "            e(Weekday) : \"Yes\"\n",
      "(est3 stored)\n",
      "\n",
      "added macro:\n",
      "              e(Month) : \"Yes\"\n",
      "\n",
      "added macro:\n",
      "            e(Weekday) : \"Yes\"\n",
      "(est4 stored)\n",
      "\n",
      "added macro:\n",
      "              e(Month) : \"Yes\"\n",
      "\n",
      "added macro:\n",
      "            e(Weekday) : \"Yes\"\n",
      "\n",
      ". \n",
      ". //输出\n",
      ". esttab , keep(return:L*.img_neg) ///\n",
      "> star( * 0.1 ** 0.05 *** 0.01) ///\n",
      "> stats( Month Weekday  r2_1 N, fmt(%3s %3s  %12.4f %12.0f)) b(%12.4f) ///\n",
      "> title(\"Table1 VAR\") mtitle(\"LOW\" \"HIGH\" \"HIGH\" \"LOW\")  nogap ///\n",
      "> mgroups(\"MV\" \"IDVOL\", pattern(1 0 1 0) span )\n",
      "\n",
      "Table1 VAR\n",
      "----------------------------------------------------------------------------\n",
      "             MV                              IDVOL                          \n",
      "                      (1)             (2)             (3)             (4)   \n",
      "                      LOW            HIGH            HIGH             LOW   \n",
      "----------------------------------------------------------------------------\n",
      "return                                                                      \n",
      "L.img_neg         -0.5131**       -0.7894**       -0.7894**       -0.7894** \n",
      "                  (-2.40)         (-2.50)         (-2.50)         (-2.50)   \n",
      "L2.img_neg         0.1095          0.1853          0.1853          0.1853   \n",
      "                   (0.51)          (0.58)          (0.58)          (0.58)   \n",
      "L3.img_neg         0.1765         -0.0439         -0.0439         -0.0439   \n",
      "                   (0.82)         (-0.14)         (-0.14)         (-0.14)   \n",
      "L4.img_neg         0.1149          0.0453          0.0453          0.0453   \n",
      "                   (0.54)          (0.14)          (0.14)          (0.14)   \n",
      "L5.img_neg        -0.5731***      -0.5091         -0.5091         -0.5091   \n",
      "                  (-2.68)         (-1.62)         (-1.62)         (-1.62)   \n",
      "----------------------------------------------------------------------------\n",
      "Month                 Yes             Yes             Yes             Yes   \n",
      "Weekday               Yes             Yes             Yes             Yes   \n",
      "r2_1               0.0151          0.0214          0.0214          0.0214   \n",
      "N                    2026            2026            2026            2026   \n",
      "----------------------------------------------------------------------------\n",
      "t statistics in parentheses\n",
      "* p<0.1, ** p<0.05, *** p<0.01\n",
      "\n",
      ". \n"
     ]
    }
   ],
   "source": [
    "%%stata -d df_series_ols -force\n",
    "\n",
    "\n",
    "//描述性统计\n",
    "//cd Outputs\n",
    "// outreg2 using Decriptive_statistics.doc, replace sum(log) title(Decriptive statistics)\n",
    "\n",
    "\n",
    "//时间设定\n",
    "ge time=_n\n",
    "tsset time\n",
    "est clear\n",
    "\n",
    "//VAR回归\n",
    "\n",
    "foreach var in LOW HIGH HIGH HIGH {\n",
    "   rename (`var' `var'_s) (return return_s)\n",
    "\n",
    "   eststo: qui var return img_neg return, lags(1/5) exog(month_* weekday_*)\n",
    "   estadd local Month \"Yes\",replace\n",
    "   estadd local Weekday \"Yes\",replace\n",
    "\n",
    "   rename  (return return_s) (`var' `var'_s)\n",
    "}\n",
    "\n",
    "//输出\n",
    "esttab , keep(return:L*.img_neg) ///\n",
    "star( * 0.1 ** 0.05 *** 0.01) ///\n",
    "stats( Month Weekday  r2_1 N, fmt(%3s %3s  %12.4f %12.0f)) b(%12.4f) ///\n",
    "title(\"Table1 VAR\") mtitle(\"LOW\" \"HIGH\" \"HIGH\" \"LOW\")  nogap ///\n",
    "mgroups(\"MV\" \"IDVOL\", pattern(1 0 1 0) span )"
   ],
   "metadata": {
    "collapsed": false
   }
  },
  {
   "cell_type": "markdown",
   "source": [
    "## 4.按照观测窗口构造投资策略"
   ],
   "metadata": {
    "collapsed": false
   }
  },
  {
   "cell_type": "code",
   "execution_count": 11,
   "outputs": [],
   "source": [
    "def cal_return(df, ma):\n",
    "    df[f'img_neg_m{ma}'] = (df['img_neg'].rolling(ma).mean())\n",
    "\n",
    "    # 历史均值\n",
    "    df['sell_signal'] = df['img_neg'] >= df[f'img_neg_m{ma}']\n",
    "    df['sell_signal'] = df['sell_signal'].shift(1)\n",
    "\n",
    "    # 高于均值投资\n",
    "    df['img_return'] = np.where(df['sell_signal'], -1*(df['sell_signal']*df['HIGH']), df['shareindex_return'])\n",
    "\n",
    "    # 去掉空行\n",
    "    df.dropna(axis=0, inplace=True)\n",
    "\n",
    "    # 换算\n",
    "    df['mv_shareindex'] = ((df['shareindex_return'] + 100)/100)\n",
    "    df['mv_img'] = ((df['img_return'] + 100)/100)\n",
    "    df['mv_shareindex'] = df['mv_shareindex'].cumprod(axis=0)\n",
    "    df['mv_img'] = df['mv_img'].cumprod(axis=0)\n",
    "\n",
    "    return df.rename(columns={'mv_img': f'mv_img_{ma}'})\n",
    "\n",
    "def start():\n",
    "    df_in = df_series\n",
    "    for i in [5, ]:\n",
    "        df_in = cal_return(df_in, i)\n",
    "\n",
    "    return df_in\n",
    "\n",
    "# start()"
   ],
   "metadata": {
    "collapsed": false
   }
  }
 ],
 "metadata": {
  "kernelspec": {
   "name": "stata",
   "language": "python",
   "display_name": "Stata"
  },
  "language_info": {
   "codemirror_mode": {
    "name": "ipython",
    "version": 2
   },
   "file_extension": ".py",
   "mimetype": "text/x-python",
   "name": "python",
   "nbconvert_exporter": "python",
   "pygments_lexer": "ipython2",
   "version": "2.7.6"
  }
 },
 "nbformat": 4,
 "nbformat_minor": 0
}
