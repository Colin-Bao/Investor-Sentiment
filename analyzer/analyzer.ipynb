{
 "cells": [
  {
   "cell_type": "markdown",
   "source": [
    "# 情绪投资策略(2014-2022年全A股市场)"
   ],
   "metadata": {
    "collapsed": false
   }
  },
  {
   "cell_type": "markdown",
   "source": [
    "## 1.数据准备"
   ],
   "metadata": {
    "collapsed": false
   }
  },
  {
   "cell_type": "markdown",
   "source": [
    "### 1.1 加载面板数据"
   ],
   "metadata": {
    "collapsed": false
   }
  },
  {
   "cell_type": "code",
   "execution_count": 3,
   "outputs": [
    {
     "name": "stdout",
     "output_type": "stream",
     "text": [
      "CPU times: user 862 µs, sys: 0 ns, total: 862 µs\n",
      "Wall time: 484 µs\n"
     ]
    }
   ],
   "source": [
    "%%time\n",
    "import sys\n",
    "import os\n",
    "import numpy as np\n",
    "import cudf\n",
    "import pandas as pd\n",
    "\n",
    "sys.path.append('/home/ubuntu/notebook/Investor-Sentiment')\n",
    "\n",
    "\n",
    "def load_data():\n",
    "    # 数据集:个股K线面板数据,个股基本面数据\n",
    "    data_list = ['ASHARE_BAR_PANEL.parquet', 'ASHARE_BASIC_PANEL.parquet']\n",
    "    if not set(data_list).issubset(os.listdir('./DataSets/')):\n",
    "        from loader.findata_loader import DownLoader\n",
    "        DownLoader(MAX_CORE=10).load_data()\n",
    "\n",
    "\n",
    "load_data()"
   ],
   "metadata": {
    "collapsed": false
   }
  },
  {
   "cell_type": "code",
   "execution_count": 5,
   "outputs": [
    {
     "name": "stdout",
     "output_type": "stream",
     "text": [
      "CPU times: user 2.13 s, sys: 1.18 s, total: 3.31 s\n",
      "Wall time: 3.33 s\n"
     ]
    }
   ],
   "source": [
    "%%time\n",
    "\n",
    "def extract_panel():\n",
    "    # 个股K线数据\n",
    "    df_bar = (\n",
    "        cudf.read_parquet('./DataSets/ASHARE_BAR_PANEL.parquet', columns=['trade_date', 'ts_code', 'pct_chg'])\n",
    "        .rename(columns={'pct_chg': 'share_return'})\n",
    "    )\n",
    "\n",
    "    # 个股基本面数据\n",
    "    df_basic = cudf.read_parquet('./DataSets/ASHARE_BASIC_PANEL.parquet', columns=['trade_date', 'ts_code', 'total_mv'])\n",
    "\n",
    "    # 合并\n",
    "    df_p = cudf.concat([df_bar, df_basic], join=\"left\", axis=1, sort=True)\n",
    "\n",
    "    # 压缩数据\n",
    "    df_p.index.levels[1].astype('category', inplace=True)\n",
    "    return df_p\n",
    "\n",
    "\n",
    "def extract_time_series():\n",
    "    # 股指数据\n",
    "    from utils.sql import DB\n",
    "    db_loader = DB()\n",
    "    df_share_index = (\n",
    "        pd.read_sql_table('399300.SZ', db_loader.ENGINE, 'FIN_DAILY_INDEX', columns=['trade_date', 'pct_chg'])\n",
    "        .astype(dtype={'trade_date': 'uint32'}).set_index('trade_date').rename(columns={'pct_chg': 'shareindex_return'})\n",
    "    )\n",
    "\n",
    "    # shibor数据\n",
    "    df_shibor = (\n",
    "            pd.read_sql_table('SHIBOR', db_loader.ENGINE, 'FIN_DAILY_INDEX', columns=['trade_date', '3m'])\n",
    "            .astype(dtype={'trade_date': 'uint32'}).set_index('trade_date').rename(columns={'3m': 'riskfree_return'})/360\n",
    "    )\n",
    "\n",
    "    # 情绪数据\n",
    "    df_sent = pd.concat(\n",
    "        [pd.read_sql_table('IMG_SENT', db_loader.ENGINE, 'SENT_DAILY').astype(dtype={'trade_date': 'uint32'})\n",
    "         .set_index('trade_date').rename(columns={'neg_index': 'img_neg'}),\n",
    "         pd.read_sql_table('TEX_SENT', db_loader.ENGINE, 'SENT_DAILY').astype(dtype={'trade_date': 'uint32'})\n",
    "         .set_index('trade_date').rename(columns={'neg_index': 'tex_neg'})\n",
    "         ], axis=1\n",
    "    )\n",
    "\n",
    "    return (cudf.from_pandas(pd.concat([df_share_index, df_shibor], join=\"inner\", axis=1, sort=True)),\n",
    "            pd.concat([df_sent, df_share_index, df_shibor], join=\"inner\", axis=1, sort=True))\n",
    "\n",
    "\n",
    "def extract_merge():\n",
    "    df_p = extract_panel()\n",
    "    df_t, _ = extract_time_series()\n",
    "    df_m = cudf.merge(\n",
    "        left=df_p.reset_index(), right=df_t.reset_index(), left_on='trade_date', right_on='trade_date', how=\"left\", sort=True\n",
    "    )\n",
    "    return df_m.set_index(['trade_date', 'ts_code']).sort_index(ascending=[True, True])\n",
    "\n",
    "\n",
    "df_panel = extract_merge()\n",
    "_, df_time_series = extract_time_series()"
   ],
   "metadata": {
    "collapsed": false
   }
  },
  {
   "cell_type": "markdown",
   "source": [
    "### 1.2 筛选和清洗数据"
   ],
   "metadata": {
    "collapsed": false
   }
  },
  {
   "cell_type": "code",
   "execution_count": 6,
   "outputs": [
    {
     "data": {
      "text/plain": "                      share_return      total_mv  shareindex_return  \\\ntrade_date ts_code                                                    \n20140102   000001.SZ       -0.1641  1.002537e+07            -0.3454   \n           000002.SZ       -0.4972  8.799966e+06            -0.3454   \n           000004.SZ        1.3734  9.917646e+04            -0.3454   \n           000005.SZ       -0.4000  2.276691e+05            -0.3454   \n           000006.SZ       -1.2164  6.574476e+05            -0.3454   \n...                            ...           ...                ...   \n20221130   872374.BJ       -1.7259           NaN             0.1199   \n20221201   301290.SZ       -8.7349  4.856403e+05             1.0831   \n           301311.SZ       12.7436  5.414400e+05             1.0831   \n           870199.BJ       -3.1447  1.498420e+05             1.0831   \n           872374.BJ        0.2066           NaN             1.0831   \n\n                      riskfree_return  \ntrade_date ts_code                     \n20140102   000001.SZ         0.015460  \n           000002.SZ         0.015460  \n           000004.SZ         0.015460  \n           000005.SZ         0.015460  \n           000006.SZ         0.015460  \n...                               ...  \n20221130   872374.BJ         0.006092  \n20221201   301290.SZ         0.006103  \n           301311.SZ         0.006103  \n           870199.BJ         0.006103  \n           872374.BJ         0.006103  \n\n[7143120 rows x 4 columns]",
      "text/html": "<div>\n<style scoped>\n    .dataframe tbody tr th:only-of-type {\n        vertical-align: middle;\n    }\n\n    .dataframe tbody tr th {\n        vertical-align: top;\n    }\n\n    .dataframe thead th {\n        text-align: right;\n    }\n</style>\n<table border=\"1\" class=\"dataframe\">\n  <thead>\n    <tr style=\"text-align: right;\">\n      <th></th>\n      <th></th>\n      <th>share_return</th>\n      <th>total_mv</th>\n      <th>shareindex_return</th>\n      <th>riskfree_return</th>\n    </tr>\n    <tr>\n      <th>trade_date</th>\n      <th>ts_code</th>\n      <th></th>\n      <th></th>\n      <th></th>\n      <th></th>\n    </tr>\n  </thead>\n  <tbody>\n    <tr>\n      <th rowspan=\"5\" valign=\"top\">20140102</th>\n      <th>000001.SZ</th>\n      <td>-0.1641</td>\n      <td>1.002537e+07</td>\n      <td>-0.3454</td>\n      <td>0.015460</td>\n    </tr>\n    <tr>\n      <th>000002.SZ</th>\n      <td>-0.4972</td>\n      <td>8.799966e+06</td>\n      <td>-0.3454</td>\n      <td>0.015460</td>\n    </tr>\n    <tr>\n      <th>000004.SZ</th>\n      <td>1.3734</td>\n      <td>9.917646e+04</td>\n      <td>-0.3454</td>\n      <td>0.015460</td>\n    </tr>\n    <tr>\n      <th>000005.SZ</th>\n      <td>-0.4000</td>\n      <td>2.276691e+05</td>\n      <td>-0.3454</td>\n      <td>0.015460</td>\n    </tr>\n    <tr>\n      <th>000006.SZ</th>\n      <td>-1.2164</td>\n      <td>6.574476e+05</td>\n      <td>-0.3454</td>\n      <td>0.015460</td>\n    </tr>\n    <tr>\n      <th>...</th>\n      <th>...</th>\n      <td>...</td>\n      <td>...</td>\n      <td>...</td>\n      <td>...</td>\n    </tr>\n    <tr>\n      <th>20221130</th>\n      <th>872374.BJ</th>\n      <td>-1.7259</td>\n      <td>NaN</td>\n      <td>0.1199</td>\n      <td>0.006092</td>\n    </tr>\n    <tr>\n      <th rowspan=\"4\" valign=\"top\">20221201</th>\n      <th>301290.SZ</th>\n      <td>-8.7349</td>\n      <td>4.856403e+05</td>\n      <td>1.0831</td>\n      <td>0.006103</td>\n    </tr>\n    <tr>\n      <th>301311.SZ</th>\n      <td>12.7436</td>\n      <td>5.414400e+05</td>\n      <td>1.0831</td>\n      <td>0.006103</td>\n    </tr>\n    <tr>\n      <th>870199.BJ</th>\n      <td>-3.1447</td>\n      <td>1.498420e+05</td>\n      <td>1.0831</td>\n      <td>0.006103</td>\n    </tr>\n    <tr>\n      <th>872374.BJ</th>\n      <td>0.2066</td>\n      <td>NaN</td>\n      <td>1.0831</td>\n      <td>0.006103</td>\n    </tr>\n  </tbody>\n</table>\n<p>7143120 rows × 4 columns</p>\n</div>"
     },
     "execution_count": 6,
     "metadata": {},
     "output_type": "execute_result"
    }
   ],
   "source": [
    "df_panel = df_panel[df_panel.index.get_level_values('trade_date') >= 20140101].to_pandas()\n",
    "df_panel"
   ],
   "metadata": {
    "collapsed": false
   }
  },
  {
   "cell_type": "markdown",
   "source": [
    "## 2.构造截面异质波动率与市值高低组合"
   ],
   "metadata": {
    "collapsed": false
   }
  },
  {
   "cell_type": "markdown",
   "source": [
    "#### 2.1 计算面板数据的异质波动率IDVOL"
   ],
   "metadata": {
    "collapsed": false
   }
  },
  {
   "cell_type": "code",
   "execution_count": 7,
   "outputs": [
    {
     "name": "stdout",
     "output_type": "stream",
     "text": [
      "CPU times: user 198 ms, sys: 7.56 ms, total: 205 ms\n",
      "Wall time: 204 ms\n"
     ]
    }
   ],
   "source": [
    "%%time\n",
    "from statsmodels.regression.rolling import RollingOLS\n",
    "# 多线程分组计算\n",
    "from pandarallel import pandarallel\n",
    "\n",
    "\n",
    "def roll_idvol(df_code: pd.DataFrame, ols_window: int, var_ma: int) -> pd.DataFrame:\n",
    "    \"\"\"\n",
    "    滚动OLS回归求异质波动率\n",
    "    \"\"\"\n",
    "    try:\n",
    "        # 估计参数\n",
    "        model_ols = RollingOLS(endog=df_code[['Y']], exog=df_code[['CONST', 'X']], window=ols_window, )\n",
    "        df_para = model_ols.fit().params.rename(columns={'CONST': 'Alpha', 'X': 'Beta'})\n",
    "\n",
    "        # 预测残差 已经对齐了\n",
    "        df_con = pd.concat([df_code, df_para], axis=1, join='inner')\n",
    "        df_con['Residual'] = df_con['Alpha'] + df_con['Beta']*df_con['X'] - df_con['Y']\n",
    "\n",
    "        # 计算月波动率\n",
    "        df_con['Idvol'] = df_con['Residual'].rolling(var_ma).apply(lambda x: np.var(x, ddof=1))\n",
    "        return df_con[['share_return', 'total_mv', 'Idvol']]\n",
    "\n",
    "    except Exception as e:\n",
    "        print(e)\n",
    "        return pd.DataFrame(columns=['trade_date', 'ts_code']).set_index(['trade_date', 'ts_code'])\n",
    "\n",
    "\n",
    "def cal_panel_ols():\n",
    "    # 定义回归变量 CAPM回归: (rm-rf)=a+b*(RM-rf)\n",
    "    df_panel['Y'] = df_panel['share_return'] - df_panel['riskfree_return']\n",
    "    df_panel['CONST'] = 1  # 带截距项回归\n",
    "    df_panel['X'] = df_panel['shareindex_return'] - df_panel['riskfree_return']\n",
    "\n",
    "    # 多线程加速\n",
    "    pandarallel.initialize(progress_bar=True)\n",
    "    df_out = (\n",
    "        df_panel.groupby(level=['ts_code'])[['share_return', 'total_mv', 'Y', 'CONST', 'X']]\n",
    "        .parallel_apply(lambda x: roll_idvol(x, 5, 30)).droplevel(2)\n",
    "    )\n",
    "    # 保存\n",
    "    df_out.to_parquet('./DataSets/ASHARE_OLS_PANEL.parquet', engine='pyarrow', index=True)\n",
    "\n",
    "\n",
    "#\n",
    "if not os.path.exists('./DataSets/ASHARE_OLS_PANEL.parquet'):\n",
    "    cal_panel_ols()"
   ],
   "metadata": {
    "collapsed": false
   }
  },
  {
   "cell_type": "markdown",
   "source": [
    "### 2.2 按照异质波动率分组"
   ],
   "metadata": {
    "collapsed": false
   }
  },
  {
   "cell_type": "markdown",
   "source": [
    "上面的面板数据计算完成后,从这里开始运行"
   ],
   "metadata": {
    "collapsed": false
   }
  },
  {
   "cell_type": "code",
   "execution_count": 8,
   "outputs": [
    {
     "data": {
      "text/plain": "                      share_return      total_mv        Idvol\ntrade_date ts_code                                           \n20140102   000001.SZ       -0.1641  1.002537e+07         <NA>\n           000002.SZ       -0.4972  8.799966e+06         <NA>\n           000004.SZ        1.3734  9.917646e+04         <NA>\n           000005.SZ       -0.4000  2.276691e+05         <NA>\n           000006.SZ       -1.2164  6.574476e+05         <NA>\n...                            ...           ...          ...\n20221128   873122.BJ       -2.0158  1.259199e+05  19.27363078\n           873169.BJ       -1.5198  5.443271e+04  1.319910083\n           873223.BJ       -0.2660  5.898188e+04  0.730762806\n           873339.BJ       -0.5093  1.290394e+05         <NA>\n           873527.BJ        0.0000  5.445873e+04         <NA>\n\n[7136670 rows x 3 columns]",
      "text/html": "<div>\n<style scoped>\n    .dataframe tbody tr th:only-of-type {\n        vertical-align: middle;\n    }\n\n    .dataframe tbody tr th {\n        vertical-align: top;\n    }\n\n    .dataframe thead th {\n        text-align: right;\n    }\n</style>\n<table border=\"1\" class=\"dataframe\">\n  <thead>\n    <tr style=\"text-align: right;\">\n      <th></th>\n      <th></th>\n      <th>share_return</th>\n      <th>total_mv</th>\n      <th>Idvol</th>\n    </tr>\n    <tr>\n      <th>trade_date</th>\n      <th>ts_code</th>\n      <th></th>\n      <th></th>\n      <th></th>\n    </tr>\n  </thead>\n  <tbody>\n    <tr>\n      <th rowspan=\"5\" valign=\"top\">20140102</th>\n      <th>000001.SZ</th>\n      <td>-0.1641</td>\n      <td>1.002537e+07</td>\n      <td>&lt;NA&gt;</td>\n    </tr>\n    <tr>\n      <th>000002.SZ</th>\n      <td>-0.4972</td>\n      <td>8.799966e+06</td>\n      <td>&lt;NA&gt;</td>\n    </tr>\n    <tr>\n      <th>000004.SZ</th>\n      <td>1.3734</td>\n      <td>9.917646e+04</td>\n      <td>&lt;NA&gt;</td>\n    </tr>\n    <tr>\n      <th>000005.SZ</th>\n      <td>-0.4000</td>\n      <td>2.276691e+05</td>\n      <td>&lt;NA&gt;</td>\n    </tr>\n    <tr>\n      <th>000006.SZ</th>\n      <td>-1.2164</td>\n      <td>6.574476e+05</td>\n      <td>&lt;NA&gt;</td>\n    </tr>\n    <tr>\n      <th>...</th>\n      <th>...</th>\n      <td>...</td>\n      <td>...</td>\n      <td>...</td>\n    </tr>\n    <tr>\n      <th rowspan=\"5\" valign=\"top\">20221128</th>\n      <th>873122.BJ</th>\n      <td>-2.0158</td>\n      <td>1.259199e+05</td>\n      <td>19.27363078</td>\n    </tr>\n    <tr>\n      <th>873169.BJ</th>\n      <td>-1.5198</td>\n      <td>5.443271e+04</td>\n      <td>1.319910083</td>\n    </tr>\n    <tr>\n      <th>873223.BJ</th>\n      <td>-0.2660</td>\n      <td>5.898188e+04</td>\n      <td>0.730762806</td>\n    </tr>\n    <tr>\n      <th>873339.BJ</th>\n      <td>-0.5093</td>\n      <td>1.290394e+05</td>\n      <td>&lt;NA&gt;</td>\n    </tr>\n    <tr>\n      <th>873527.BJ</th>\n      <td>0.0000</td>\n      <td>5.445873e+04</td>\n      <td>&lt;NA&gt;</td>\n    </tr>\n  </tbody>\n</table>\n<p>7136670 rows × 3 columns</p>\n</div>"
     },
     "execution_count": 8,
     "metadata": {},
     "output_type": "execute_result"
    }
   ],
   "source": [
    "import pandas as pd\n",
    "import numpy as np\n",
    "import cudf\n",
    "\n",
    "QUANTILE = 0.5\n",
    "df_ols_panel = cudf.read_parquet('./DataSets/ASHARE_OLS_PANEL.parquet').reset_index().set_index(['trade_date', 'ts_code']).sort_index()\n",
    "df_ols_panel"
   ],
   "metadata": {
    "collapsed": false
   }
  },
  {
   "cell_type": "code",
   "execution_count": 9,
   "outputs": [
    {
     "name": "stdout",
     "output_type": "stream",
     "text": [
      "CPU times: user 3.01 s, sys: 1.05 s, total: 4.06 s\n",
      "Wall time: 4.06 s\n"
     ]
    },
    {
     "data": {
      "text/plain": "                                  share_return      total_mv        Idvol  \\\ntrade_date idvol_group ts_code                                              \n20140102   LOW         000001.SZ       -0.1641  1.002537e+07         <NA>   \n                       000002.SZ       -0.4972  8.799966e+06         <NA>   \n                       000004.SZ        1.3734  9.917646e+04         <NA>   \n                       000005.SZ       -0.4000  2.276691e+05         <NA>   \n                       000006.SZ       -1.2164  6.574476e+05         <NA>   \n...                                        ...           ...          ...   \n20221128   LOW         872925.BJ       -0.3987  7.386323e+04  1.366920583   \n                       873169.BJ       -1.5198  5.443271e+04  1.319910083   \n                       873223.BJ       -0.2660  5.898188e+04  0.730762806   \n                       873339.BJ       -0.5093  1.290394e+05         <NA>   \n                       873527.BJ        0.0000  5.445873e+04         <NA>   \n\n                                    idvol_top  mv_ratio  idvol_vw_ratio  \\\ntrade_date idvol_group ts_code                                            \n20140102   LOW         000001.SZ         <NA>  0.003834       -0.000629   \n                       000002.SZ         <NA>  0.003365       -0.001673   \n                       000004.SZ         <NA>  0.000038        0.000052   \n                       000005.SZ         <NA>  0.000087       -0.000035   \n                       000006.SZ         <NA>  0.000251       -0.000306   \n...                                       ...       ...             ...   \n20221128   LOW         872925.BJ  2.944717594  0.000013       -0.000005   \n                       873169.BJ  2.944717594  0.000010       -0.000015   \n                       873223.BJ  2.944717594  0.000011       -0.000003   \n                       873339.BJ  2.944717594  0.000023       -0.000012   \n                       873527.BJ  2.944717594  0.000010        0.000000   \n\n                                  idvol_group_return  \ntrade_date idvol_group ts_code                        \n20140102   LOW         000001.SZ            0.104007  \n                       000002.SZ            0.104007  \n                       000004.SZ            0.104007  \n                       000005.SZ            0.104007  \n                       000006.SZ            0.104007  \n...                                              ...  \n20221128   LOW         872925.BJ           -0.769940  \n                       873169.BJ           -0.769940  \n                       873223.BJ           -0.769940  \n                       873339.BJ           -0.769940  \n                       873527.BJ           -0.769940  \n\n[7136670 rows x 7 columns]",
      "text/html": "<div>\n<style scoped>\n    .dataframe tbody tr th:only-of-type {\n        vertical-align: middle;\n    }\n\n    .dataframe tbody tr th {\n        vertical-align: top;\n    }\n\n    .dataframe thead th {\n        text-align: right;\n    }\n</style>\n<table border=\"1\" class=\"dataframe\">\n  <thead>\n    <tr style=\"text-align: right;\">\n      <th></th>\n      <th></th>\n      <th></th>\n      <th>share_return</th>\n      <th>total_mv</th>\n      <th>Idvol</th>\n      <th>idvol_top</th>\n      <th>mv_ratio</th>\n      <th>idvol_vw_ratio</th>\n      <th>idvol_group_return</th>\n    </tr>\n    <tr>\n      <th>trade_date</th>\n      <th>idvol_group</th>\n      <th>ts_code</th>\n      <th></th>\n      <th></th>\n      <th></th>\n      <th></th>\n      <th></th>\n      <th></th>\n      <th></th>\n    </tr>\n  </thead>\n  <tbody>\n    <tr>\n      <th rowspan=\"5\" valign=\"top\">20140102</th>\n      <th rowspan=\"5\" valign=\"top\">LOW</th>\n      <th>000001.SZ</th>\n      <td>-0.1641</td>\n      <td>1.002537e+07</td>\n      <td>&lt;NA&gt;</td>\n      <td>&lt;NA&gt;</td>\n      <td>0.003834</td>\n      <td>-0.000629</td>\n      <td>0.104007</td>\n    </tr>\n    <tr>\n      <th>000002.SZ</th>\n      <td>-0.4972</td>\n      <td>8.799966e+06</td>\n      <td>&lt;NA&gt;</td>\n      <td>&lt;NA&gt;</td>\n      <td>0.003365</td>\n      <td>-0.001673</td>\n      <td>0.104007</td>\n    </tr>\n    <tr>\n      <th>000004.SZ</th>\n      <td>1.3734</td>\n      <td>9.917646e+04</td>\n      <td>&lt;NA&gt;</td>\n      <td>&lt;NA&gt;</td>\n      <td>0.000038</td>\n      <td>0.000052</td>\n      <td>0.104007</td>\n    </tr>\n    <tr>\n      <th>000005.SZ</th>\n      <td>-0.4000</td>\n      <td>2.276691e+05</td>\n      <td>&lt;NA&gt;</td>\n      <td>&lt;NA&gt;</td>\n      <td>0.000087</td>\n      <td>-0.000035</td>\n      <td>0.104007</td>\n    </tr>\n    <tr>\n      <th>000006.SZ</th>\n      <td>-1.2164</td>\n      <td>6.574476e+05</td>\n      <td>&lt;NA&gt;</td>\n      <td>&lt;NA&gt;</td>\n      <td>0.000251</td>\n      <td>-0.000306</td>\n      <td>0.104007</td>\n    </tr>\n    <tr>\n      <th>...</th>\n      <th>...</th>\n      <th>...</th>\n      <td>...</td>\n      <td>...</td>\n      <td>...</td>\n      <td>...</td>\n      <td>...</td>\n      <td>...</td>\n      <td>...</td>\n    </tr>\n    <tr>\n      <th rowspan=\"5\" valign=\"top\">20221128</th>\n      <th rowspan=\"5\" valign=\"top\">LOW</th>\n      <th>872925.BJ</th>\n      <td>-0.3987</td>\n      <td>7.386323e+04</td>\n      <td>1.366920583</td>\n      <td>2.944717594</td>\n      <td>0.000013</td>\n      <td>-0.000005</td>\n      <td>-0.769940</td>\n    </tr>\n    <tr>\n      <th>873169.BJ</th>\n      <td>-1.5198</td>\n      <td>5.443271e+04</td>\n      <td>1.319910083</td>\n      <td>2.944717594</td>\n      <td>0.000010</td>\n      <td>-0.000015</td>\n      <td>-0.769940</td>\n    </tr>\n    <tr>\n      <th>873223.BJ</th>\n      <td>-0.2660</td>\n      <td>5.898188e+04</td>\n      <td>0.730762806</td>\n      <td>2.944717594</td>\n      <td>0.000011</td>\n      <td>-0.000003</td>\n      <td>-0.769940</td>\n    </tr>\n    <tr>\n      <th>873339.BJ</th>\n      <td>-0.5093</td>\n      <td>1.290394e+05</td>\n      <td>&lt;NA&gt;</td>\n      <td>2.944717594</td>\n      <td>0.000023</td>\n      <td>-0.000012</td>\n      <td>-0.769940</td>\n    </tr>\n    <tr>\n      <th>873527.BJ</th>\n      <td>0.0000</td>\n      <td>5.445873e+04</td>\n      <td>&lt;NA&gt;</td>\n      <td>2.944717594</td>\n      <td>0.000010</td>\n      <td>0.000000</td>\n      <td>-0.769940</td>\n    </tr>\n  </tbody>\n</table>\n<p>7136670 rows × 7 columns</p>\n</div>"
     },
     "execution_count": 9,
     "metadata": {},
     "output_type": "execute_result"
    }
   ],
   "source": [
    "%%time\n",
    "\n",
    "# 分组\n",
    "\n",
    "df_ols_panel['idvol_top'] = df_ols_panel['Idvol'].groupby(level=['trade_date']).transform(lambda x: x.quantile(QUANTILE))\n",
    "df_ols_panel['idvol_group'] = np.where(df_ols_panel['Idvol'].to_pandas() >= df_ols_panel['idvol_top'].to_pandas(), \"HIGH\", \"LOW\")\n",
    "df_ols_panel = df_ols_panel.reset_index().set_index(['trade_date', 'idvol_group', 'ts_code']).sort_index()\n",
    "\n",
    "# 求组中市值加权系数,并求回报\n",
    "df_ols_panel['mv_ratio'] = (\n",
    "        df_ols_panel['total_mv']/df_ols_panel.groupby(level=['trade_date', 'idvol_group'])['total_mv'].transfor('sum'))\n",
    "\n",
    "# 求组中回报\n",
    "df_ols_panel['idvol_vw_ratio'] = df_ols_panel['mv_ratio']*df_ols_panel['share_return']\n",
    "df_ols_panel['idvol_group_return'] = (df_ols_panel.groupby(level=['trade_date', 'idvol_group'])['idvol_vw_ratio'].transform('sum'))\n",
    "\n",
    "df_ols_panel"
   ],
   "metadata": {
    "collapsed": false
   }
  },
  {
   "cell_type": "code",
   "execution_count": 10,
   "outputs": [
    {
     "data": {
      "text/plain": "      trade_date      HIGH       LOW   img_neg   tex_neg  shareindex_return  \\\n0       20140225 -4.016731 -1.827917  0.000000  0.000000            -2.5559   \n1       20140226  0.985354  0.193332  0.666667  0.000000             0.2547   \n2       20140227 -0.781264  0.026462  0.000000  0.000000            -0.4297   \n3       20140228  1.174221  0.582117  0.333333  0.666667             1.1542   \n4       20140303  1.989484  0.722860  0.333333  0.333333             0.5231   \n...          ...       ...       ...       ...       ...                ...   \n2026    20220621 -0.810936  0.125217  0.238095  0.285714            -0.1124   \n2027    20220622 -0.807400 -1.345733  0.227273  0.227273            -1.2702   \n2028    20220623  2.629145  1.459178  0.363636  0.363636             1.7153   \n2029    20220624  1.323591  0.901009  0.200000  0.300000             1.1716   \n2030    20220627  1.406000  0.762883  0.200000  0.133333             1.1261   \n\n      riskfree_return  \n0            0.015440  \n1            0.015393  \n2            0.015378  \n3            0.015358  \n4            0.015331  \n...               ...  \n2026         0.005556  \n2027         0.005556  \n2028         0.005556  \n2029         0.005556  \n2030         0.005556  \n\n[2031 rows x 7 columns]",
      "text/html": "<div>\n<style scoped>\n    .dataframe tbody tr th:only-of-type {\n        vertical-align: middle;\n    }\n\n    .dataframe tbody tr th {\n        vertical-align: top;\n    }\n\n    .dataframe thead th {\n        text-align: right;\n    }\n</style>\n<table border=\"1\" class=\"dataframe\">\n  <thead>\n    <tr style=\"text-align: right;\">\n      <th></th>\n      <th>trade_date</th>\n      <th>HIGH</th>\n      <th>LOW</th>\n      <th>img_neg</th>\n      <th>tex_neg</th>\n      <th>shareindex_return</th>\n      <th>riskfree_return</th>\n    </tr>\n  </thead>\n  <tbody>\n    <tr>\n      <th>0</th>\n      <td>20140225</td>\n      <td>-4.016731</td>\n      <td>-1.827917</td>\n      <td>0.000000</td>\n      <td>0.000000</td>\n      <td>-2.5559</td>\n      <td>0.015440</td>\n    </tr>\n    <tr>\n      <th>1</th>\n      <td>20140226</td>\n      <td>0.985354</td>\n      <td>0.193332</td>\n      <td>0.666667</td>\n      <td>0.000000</td>\n      <td>0.2547</td>\n      <td>0.015393</td>\n    </tr>\n    <tr>\n      <th>2</th>\n      <td>20140227</td>\n      <td>-0.781264</td>\n      <td>0.026462</td>\n      <td>0.000000</td>\n      <td>0.000000</td>\n      <td>-0.4297</td>\n      <td>0.015378</td>\n    </tr>\n    <tr>\n      <th>3</th>\n      <td>20140228</td>\n      <td>1.174221</td>\n      <td>0.582117</td>\n      <td>0.333333</td>\n      <td>0.666667</td>\n      <td>1.1542</td>\n      <td>0.015358</td>\n    </tr>\n    <tr>\n      <th>4</th>\n      <td>20140303</td>\n      <td>1.989484</td>\n      <td>0.722860</td>\n      <td>0.333333</td>\n      <td>0.333333</td>\n      <td>0.5231</td>\n      <td>0.015331</td>\n    </tr>\n    <tr>\n      <th>...</th>\n      <td>...</td>\n      <td>...</td>\n      <td>...</td>\n      <td>...</td>\n      <td>...</td>\n      <td>...</td>\n      <td>...</td>\n    </tr>\n    <tr>\n      <th>2026</th>\n      <td>20220621</td>\n      <td>-0.810936</td>\n      <td>0.125217</td>\n      <td>0.238095</td>\n      <td>0.285714</td>\n      <td>-0.1124</td>\n      <td>0.005556</td>\n    </tr>\n    <tr>\n      <th>2027</th>\n      <td>20220622</td>\n      <td>-0.807400</td>\n      <td>-1.345733</td>\n      <td>0.227273</td>\n      <td>0.227273</td>\n      <td>-1.2702</td>\n      <td>0.005556</td>\n    </tr>\n    <tr>\n      <th>2028</th>\n      <td>20220623</td>\n      <td>2.629145</td>\n      <td>1.459178</td>\n      <td>0.363636</td>\n      <td>0.363636</td>\n      <td>1.7153</td>\n      <td>0.005556</td>\n    </tr>\n    <tr>\n      <th>2029</th>\n      <td>20220624</td>\n      <td>1.323591</td>\n      <td>0.901009</td>\n      <td>0.200000</td>\n      <td>0.300000</td>\n      <td>1.1716</td>\n      <td>0.005556</td>\n    </tr>\n    <tr>\n      <th>2030</th>\n      <td>20220627</td>\n      <td>1.406000</td>\n      <td>0.762883</td>\n      <td>0.200000</td>\n      <td>0.133333</td>\n      <td>1.1261</td>\n      <td>0.005556</td>\n    </tr>\n  </tbody>\n</table>\n<p>2031 rows × 7 columns</p>\n</div>"
     },
     "execution_count": 10,
     "metadata": {},
     "output_type": "execute_result"
    }
   ],
   "source": [
    "# 提取分组数据\n",
    "df_ols_panel = df_ols_panel[['idvol_group_return']].to_pandas().droplevel('ts_code')\n",
    "df_ols_panel = df_ols_panel[~df_ols_panel.index.duplicated(keep='last')]\n",
    "# 转为时间序列数据\n",
    "df_series = (df_ols_panel.reset_index().pivot(index='trade_date', columns='idvol_group', values='idvol_group_return'))\n",
    "# 合并其他时间序列数据\n",
    "df_series = df_series.join(df_time_series, how='inner').dropna(axis=0).reset_index()\n",
    "df_series"
   ],
   "metadata": {
    "collapsed": false
   }
  },
  {
   "cell_type": "markdown",
   "source": [
    "## 3.VAR模型分析"
   ],
   "metadata": {
    "collapsed": false
   }
  },
  {
   "cell_type": "markdown",
   "source": [
    "导入Stata"
   ],
   "metadata": {
    "collapsed": false
   }
  },
  {
   "cell_type": "code",
   "execution_count": 56,
   "outputs": [],
   "source": [
    "import sys\n",
    "\n",
    "sys.path.append('/usr/local/stata17/utilities')\n",
    "from pystata import config\n",
    "\n",
    "config.init('mp')"
   ],
   "metadata": {
    "collapsed": false
   }
  },
  {
   "cell_type": "markdown",
   "source": [
    "### 3.1 回归前数据处理"
   ],
   "metadata": {
    "collapsed": false
   }
  },
  {
   "cell_type": "code",
   "execution_count": 59,
   "outputs": [
    {
     "data": {
      "text/plain": "      trade_date      HIGH       LOW   img_neg   tex_neg  shareindex_return  \\\n0       20140225 -4.016731 -1.827917  0.000000  0.000000            -2.5559   \n1       20140226  0.985354  0.193332  0.666667  0.000000             0.2547   \n2       20140227 -0.781264  0.026462  0.000000  0.000000            -0.4297   \n3       20140228  1.174221  0.582117  0.333333  0.666667             1.1542   \n4       20140303  1.989484  0.722860  0.333333  0.333333             0.5231   \n...          ...       ...       ...       ...       ...                ...   \n2026    20220621 -0.810936  0.125217  0.238095  0.285714            -0.1124   \n2027    20220622 -0.807400 -1.345733  0.227273  0.227273            -1.2702   \n2028    20220623  2.629145  1.459178  0.363636  0.363636             1.7153   \n2029    20220624  1.323591  0.901009  0.200000  0.300000             1.1716   \n2030    20220627  1.406000  0.762883  0.200000  0.133333             1.1261   \n\n      riskfree_return  shareindex_return_s  weekday_1  weekday_2  ...  \\\n0            0.015440             6.532625          1          0  ...   \n1            0.015393             0.064872          0          1  ...   \n2            0.015378             0.184642          0          0  ...   \n3            0.015358             1.332178          0          0  ...   \n4            0.015331             0.273634          0          0  ...   \n...               ...                  ...        ...        ...  ...   \n2026         0.005556             0.012634          1          0  ...   \n2027         0.005556             1.613408          0          1  ...   \n2028         0.005556             2.942254          0          0  ...   \n2029         0.005556             1.372647          0          0  ...   \n2030         0.005556             1.268101          0          0  ...   \n\n      month_3  month_4  month_5  month_6  month_7  month_8  month_9  month_10  \\\n0           0        0        0        0        0        0        0         0   \n1           0        0        0        0        0        0        0         0   \n2           0        0        0        0        0        0        0         0   \n3           0        0        0        0        0        0        0         0   \n4           1        0        0        0        0        0        0         0   \n...       ...      ...      ...      ...      ...      ...      ...       ...   \n2026        0        0        0        1        0        0        0         0   \n2027        0        0        0        1        0        0        0         0   \n2028        0        0        0        1        0        0        0         0   \n2029        0        0        0        1        0        0        0         0   \n2030        0        0        0        1        0        0        0         0   \n\n      month_11  month_12  \n0            0         0  \n1            0         0  \n2            0         0  \n3            0         0  \n4            0         0  \n...        ...       ...  \n2026         0         0  \n2027         0         0  \n2028         0         0  \n2029         0         0  \n2030         0         0  \n\n[2031 rows x 23 columns]",
      "text/html": "<div>\n<style scoped>\n    .dataframe tbody tr th:only-of-type {\n        vertical-align: middle;\n    }\n\n    .dataframe tbody tr th {\n        vertical-align: top;\n    }\n\n    .dataframe thead th {\n        text-align: right;\n    }\n</style>\n<table border=\"1\" class=\"dataframe\">\n  <thead>\n    <tr style=\"text-align: right;\">\n      <th></th>\n      <th>trade_date</th>\n      <th>HIGH</th>\n      <th>LOW</th>\n      <th>img_neg</th>\n      <th>tex_neg</th>\n      <th>shareindex_return</th>\n      <th>riskfree_return</th>\n      <th>shareindex_return_s</th>\n      <th>weekday_1</th>\n      <th>weekday_2</th>\n      <th>...</th>\n      <th>month_3</th>\n      <th>month_4</th>\n      <th>month_5</th>\n      <th>month_6</th>\n      <th>month_7</th>\n      <th>month_8</th>\n      <th>month_9</th>\n      <th>month_10</th>\n      <th>month_11</th>\n      <th>month_12</th>\n    </tr>\n  </thead>\n  <tbody>\n    <tr>\n      <th>0</th>\n      <td>20140225</td>\n      <td>-4.016731</td>\n      <td>-1.827917</td>\n      <td>0.000000</td>\n      <td>0.000000</td>\n      <td>-2.5559</td>\n      <td>0.015440</td>\n      <td>6.532625</td>\n      <td>1</td>\n      <td>0</td>\n      <td>...</td>\n      <td>0</td>\n      <td>0</td>\n      <td>0</td>\n      <td>0</td>\n      <td>0</td>\n      <td>0</td>\n      <td>0</td>\n      <td>0</td>\n      <td>0</td>\n      <td>0</td>\n    </tr>\n    <tr>\n      <th>1</th>\n      <td>20140226</td>\n      <td>0.985354</td>\n      <td>0.193332</td>\n      <td>0.666667</td>\n      <td>0.000000</td>\n      <td>0.2547</td>\n      <td>0.015393</td>\n      <td>0.064872</td>\n      <td>0</td>\n      <td>1</td>\n      <td>...</td>\n      <td>0</td>\n      <td>0</td>\n      <td>0</td>\n      <td>0</td>\n      <td>0</td>\n      <td>0</td>\n      <td>0</td>\n      <td>0</td>\n      <td>0</td>\n      <td>0</td>\n    </tr>\n    <tr>\n      <th>2</th>\n      <td>20140227</td>\n      <td>-0.781264</td>\n      <td>0.026462</td>\n      <td>0.000000</td>\n      <td>0.000000</td>\n      <td>-0.4297</td>\n      <td>0.015378</td>\n      <td>0.184642</td>\n      <td>0</td>\n      <td>0</td>\n      <td>...</td>\n      <td>0</td>\n      <td>0</td>\n      <td>0</td>\n      <td>0</td>\n      <td>0</td>\n      <td>0</td>\n      <td>0</td>\n      <td>0</td>\n      <td>0</td>\n      <td>0</td>\n    </tr>\n    <tr>\n      <th>3</th>\n      <td>20140228</td>\n      <td>1.174221</td>\n      <td>0.582117</td>\n      <td>0.333333</td>\n      <td>0.666667</td>\n      <td>1.1542</td>\n      <td>0.015358</td>\n      <td>1.332178</td>\n      <td>0</td>\n      <td>0</td>\n      <td>...</td>\n      <td>0</td>\n      <td>0</td>\n      <td>0</td>\n      <td>0</td>\n      <td>0</td>\n      <td>0</td>\n      <td>0</td>\n      <td>0</td>\n      <td>0</td>\n      <td>0</td>\n    </tr>\n    <tr>\n      <th>4</th>\n      <td>20140303</td>\n      <td>1.989484</td>\n      <td>0.722860</td>\n      <td>0.333333</td>\n      <td>0.333333</td>\n      <td>0.5231</td>\n      <td>0.015331</td>\n      <td>0.273634</td>\n      <td>0</td>\n      <td>0</td>\n      <td>...</td>\n      <td>1</td>\n      <td>0</td>\n      <td>0</td>\n      <td>0</td>\n      <td>0</td>\n      <td>0</td>\n      <td>0</td>\n      <td>0</td>\n      <td>0</td>\n      <td>0</td>\n    </tr>\n    <tr>\n      <th>...</th>\n      <td>...</td>\n      <td>...</td>\n      <td>...</td>\n      <td>...</td>\n      <td>...</td>\n      <td>...</td>\n      <td>...</td>\n      <td>...</td>\n      <td>...</td>\n      <td>...</td>\n      <td>...</td>\n      <td>...</td>\n      <td>...</td>\n      <td>...</td>\n      <td>...</td>\n      <td>...</td>\n      <td>...</td>\n      <td>...</td>\n      <td>...</td>\n      <td>...</td>\n      <td>...</td>\n    </tr>\n    <tr>\n      <th>2026</th>\n      <td>20220621</td>\n      <td>-0.810936</td>\n      <td>0.125217</td>\n      <td>0.238095</td>\n      <td>0.285714</td>\n      <td>-0.1124</td>\n      <td>0.005556</td>\n      <td>0.012634</td>\n      <td>1</td>\n      <td>0</td>\n      <td>...</td>\n      <td>0</td>\n      <td>0</td>\n      <td>0</td>\n      <td>1</td>\n      <td>0</td>\n      <td>0</td>\n      <td>0</td>\n      <td>0</td>\n      <td>0</td>\n      <td>0</td>\n    </tr>\n    <tr>\n      <th>2027</th>\n      <td>20220622</td>\n      <td>-0.807400</td>\n      <td>-1.345733</td>\n      <td>0.227273</td>\n      <td>0.227273</td>\n      <td>-1.2702</td>\n      <td>0.005556</td>\n      <td>1.613408</td>\n      <td>0</td>\n      <td>1</td>\n      <td>...</td>\n      <td>0</td>\n      <td>0</td>\n      <td>0</td>\n      <td>1</td>\n      <td>0</td>\n      <td>0</td>\n      <td>0</td>\n      <td>0</td>\n      <td>0</td>\n      <td>0</td>\n    </tr>\n    <tr>\n      <th>2028</th>\n      <td>20220623</td>\n      <td>2.629145</td>\n      <td>1.459178</td>\n      <td>0.363636</td>\n      <td>0.363636</td>\n      <td>1.7153</td>\n      <td>0.005556</td>\n      <td>2.942254</td>\n      <td>0</td>\n      <td>0</td>\n      <td>...</td>\n      <td>0</td>\n      <td>0</td>\n      <td>0</td>\n      <td>1</td>\n      <td>0</td>\n      <td>0</td>\n      <td>0</td>\n      <td>0</td>\n      <td>0</td>\n      <td>0</td>\n    </tr>\n    <tr>\n      <th>2029</th>\n      <td>20220624</td>\n      <td>1.323591</td>\n      <td>0.901009</td>\n      <td>0.200000</td>\n      <td>0.300000</td>\n      <td>1.1716</td>\n      <td>0.005556</td>\n      <td>1.372647</td>\n      <td>0</td>\n      <td>0</td>\n      <td>...</td>\n      <td>0</td>\n      <td>0</td>\n      <td>0</td>\n      <td>1</td>\n      <td>0</td>\n      <td>0</td>\n      <td>0</td>\n      <td>0</td>\n      <td>0</td>\n      <td>0</td>\n    </tr>\n    <tr>\n      <th>2030</th>\n      <td>20220627</td>\n      <td>1.406000</td>\n      <td>0.762883</td>\n      <td>0.200000</td>\n      <td>0.133333</td>\n      <td>1.1261</td>\n      <td>0.005556</td>\n      <td>1.268101</td>\n      <td>0</td>\n      <td>0</td>\n      <td>...</td>\n      <td>0</td>\n      <td>0</td>\n      <td>0</td>\n      <td>1</td>\n      <td>0</td>\n      <td>0</td>\n      <td>0</td>\n      <td>0</td>\n      <td>0</td>\n      <td>0</td>\n    </tr>\n  </tbody>\n</table>\n<p>2031 rows × 23 columns</p>\n</div>"
     },
     "execution_count": 59,
     "metadata": {},
     "output_type": "execute_result"
    }
   ],
   "source": [
    "# 增加平方项\n",
    "def add_square_column(df, square_column: list): return pd.concat([df, df[square_column].pow(2).add_suffix('_s')], axis=1)\n",
    "\n",
    "\n",
    "# 增加日期虚拟变量\n",
    "def add_dummy_column(df, dummy_column: str):\n",
    "    df_weekday = pd.get_dummies(pd.to_datetime(df[dummy_column], format='%Y%m%d').dt.weekday, prefix='weekday', drop_first=True)\n",
    "    df_month = pd.get_dummies(pd.to_datetime(df[dummy_column], format='%Y%m%d').dt.month, prefix='month', drop_first=True)\n",
    "    return pd.concat([df, df_weekday, df_month], axis=1)\n",
    "\n",
    "\n",
    "df_series_ols = add_dummy_column(add_square_column(df_series, ['shareindex_return']), 'trade_date')\n",
    "df_series_ols"
   ],
   "metadata": {
    "collapsed": false
   }
  },
  {
   "cell_type": "markdown",
   "source": [
    "### 3.2 回归结果"
   ],
   "metadata": {
    "collapsed": false
   }
  },
  {
   "cell_type": "code",
   "execution_count": 68,
   "outputs": [
    {
     "name": "stdout",
     "output_type": "stream",
     "text": [
      "\n",
      "    Variable |        Obs        Mean    Std. dev.       Min        Max\n",
      "-------------+---------------------------------------------------------\n",
      "  trade_date |          0\n",
      "        HIGH |      2,031    .1532474    2.023544  -9.797337    10.0025\n",
      "         LOW |      2,031    .1080239    1.366127  -9.306147   6.817649\n",
      "     img_neg |      2,031    .2023428    .1434069          0          1\n",
      "     tex_neg |      2,031    .1959272    .1503333          0          1\n",
      "-------------+---------------------------------------------------------\n",
      "shareindex~n |      2,031    .0449656    1.455169    -8.7477     6.7147\n",
      "riskfree_r~n |      2,031    .0092248    .0027033   .0034861   .0154403\n",
      "shareindex~s |      2,031    2.118496    5.729061   6.40e-07   76.52226\n",
      "   weekday_1 |      2,031     .201871    .4014953          0          1\n",
      "   weekday_2 |      2,031    .2043328    .4033126          0          1\n",
      "-------------+---------------------------------------------------------\n",
      "   weekday_3 |      2,031     .201871    .4014953          0          1\n",
      "   weekday_4 |      2,031    .1979321    .3985388          0          1\n",
      "     month_2 |      2,031    .0659774    .2483036          0          1\n",
      "     month_3 |      2,031    .0984737    .2980274          0          1\n",
      "     month_4 |      2,031    .0886263    .2842736          0          1\n",
      "-------------+---------------------------------------------------------\n",
      "     month_5 |      2,031    .0876416    .2828425          0          1\n",
      "     month_6 |      2,031    .0891187    .2849851          0          1\n",
      "     month_7 |      2,031    .0876416    .2828425          0          1\n",
      "     month_8 |      2,031    .0866568    .2814008          0          1\n",
      "     month_9 |      2,031     .080256    .2717561          0          1\n",
      "-------------+---------------------------------------------------------\n",
      "    month_10 |      2,031    .0669621    .2500179          0          1\n",
      "    month_11 |      2,031     .084195    .2777484          0          1\n",
      "    month_12 |      2,031    .0871492     .282123          0          1\n"
     ]
    }
   ],
   "source": [
    "%%stata -d df_series_ols -force\n",
    "sum"
   ],
   "metadata": {
    "collapsed": false
   }
  },
  {
   "cell_type": "code",
   "execution_count": 69,
   "outputs": [
    {
     "name": "stdout",
     "output_type": "stream",
     "text": [
      "\n",
      ". ge time=_n\n",
      "\n",
      ". tsset time\n",
      "\n",
      "Time variable: time, 1 to 2031\n",
      "        Delta: 1 unit\n",
      "\n",
      ". var  shareindex_return img_neg shareindex_return_s, lags(1/5) exog(month_* we\n",
      "> ekday_*)\n",
      "\n",
      "Vector autoregression\n",
      "\n",
      "Sample: 6 thru 2031                             Number of obs     =      2,026\n",
      "Log likelihood =  -8652.016                     AIC               =    8.63279\n",
      "FPE            =   1.126557                     HQIC              =   8.727347\n",
      "Det(Sigma_ml)  =    1.02773                     SBIC              =   8.890482\n",
      "\n",
      "Equation           Parms      RMSE     R-sq      chi2     P>chi2\n",
      "----------------------------------------------------------------\n",
      "shareindex_ret~n     31      1.4458   0.0279   58.23526   0.0015\n",
      "img_neg              31     .141526   0.0352   73.88217   0.0000\n",
      "shareindex_ret~s     31     5.27437   0.1667   405.1603   0.0000\n",
      "----------------------------------------------------------------\n",
      "\n",
      "------------------------------------------------------------------------------\n",
      "             | Coefficient  Std. err.      z    P>|z|     [95% conf. interval]\n",
      "-------------+----------------------------------------------------------------\n",
      "shareindex~n |\n",
      "shareindex~n |\n",
      "         L1. |   .0376528   .0230147     1.64   0.102    -.0074552    .0827608\n",
      "         L2. |  -.0139241    .023089    -0.60   0.546    -.0591778    .0313295\n",
      "         L3. |   .0102094   .0232185     0.44   0.660    -.0352979    .0557168\n",
      "         L4. |   .0529582   .0229457     2.31   0.021     .0079855    .0979309\n",
      "         L5. |  -.0326511   .0228613    -1.43   0.153    -.0774585    .0121563\n",
      "             |\n",
      "     img_neg |\n",
      "         L1. |  -.5392611    .226898    -2.38   0.017    -.9839729   -.0945493\n",
      "         L2. |   .0852889   .2278982     0.37   0.708    -.3613834    .5319613\n",
      "         L3. |   .0523133    .226982     0.23   0.818    -.3925632    .4971898\n",
      "         L4. |   .1314495   .2270112     0.58   0.563    -.3134842    .5763832\n",
      "         L5. |    -.60806   .2264054    -2.69   0.007    -1.051806   -.1643136\n",
      "             |\n",
      "shareindex~s |\n",
      "         L1. |   .0065753   .0063354     1.04   0.299    -.0058418    .0189925\n",
      "         L2. |   .0214791   .0063177     3.40   0.001     .0090966    .0338616\n",
      "         L3. |  -.0066639     .00633    -1.05   0.292    -.0190704    .0057426\n",
      "         L4. |   .0038889   .0062881     0.62   0.536    -.0084356    .0162133\n",
      "         L5. |  -.0247871   .0062765    -3.95   0.000    -.0370889   -.0124853\n",
      "             |\n",
      "     month_2 |   .1656713   .1704691     0.97   0.331    -.1684421    .4997846\n",
      "     month_3 |   .1404032   .1535648     0.91   0.361    -.1605783    .4413847\n",
      "     month_4 |   .1988969   .1570908     1.27   0.205    -.1089954    .5067891\n",
      "     month_5 |   .1404383   .1575597     0.89   0.373    -.1683731    .4492497\n",
      "     month_6 |   .1498224   .1566826     0.96   0.339    -.1572699    .4569146\n",
      "     month_7 |   .1316315   .1575184     0.84   0.403    -.1770988    .4403618\n",
      "     month_8 |   .0782909   .1577714     0.50   0.620    -.2309354    .3875171\n",
      "     month_9 |   .1124268   .1609712     0.70   0.485    -.2030709    .4279245\n",
      "    month_10 |   .2302748   .1685652     1.37   0.172    -.1001069    .5606565\n",
      "    month_11 |   .2285144   .1593993     1.43   0.152    -.0839025    .5409314\n",
      "    month_12 |   .2854454   .1576244     1.81   0.070    -.0234928    .5943835\n",
      "   weekday_1 |   .0215082   .1026602     0.21   0.834     -.179702    .2227184\n",
      "   weekday_2 |   -.147498   .1032321    -1.43   0.153    -.3498293    .0548333\n",
      "   weekday_3 |  -.1738283   .1035621    -1.68   0.093    -.3768062    .0291496\n",
      "   weekday_4 |  -.0564922   .1032083    -0.55   0.584    -.2587768    .1457925\n",
      "       _cons |   .1368696   .1635539     0.84   0.403    -.1836901    .4574293\n",
      "-------------+----------------------------------------------------------------\n",
      "img_neg      |\n",
      "shareindex~n |\n",
      "         L1. |   -.001063   .0022529    -0.47   0.637    -.0054785    .0033526\n",
      "         L2. |   .0000782   .0022601     0.03   0.972    -.0043516     .004508\n",
      "         L3. |   .0005958   .0022728     0.26   0.793    -.0038589    .0050504\n",
      "         L4. |  -.0003055   .0022461    -0.14   0.892    -.0047078    .0040967\n",
      "         L5. |  -.0009317   .0022378    -0.42   0.677    -.0053178    .0034544\n",
      "             |\n",
      "     img_neg |\n",
      "         L1. |   .0852613   .0222106     3.84   0.000     .0417294    .1287932\n",
      "         L2. |   .0426609   .0223085     1.91   0.056     -.001063    .0863847\n",
      "         L3. |   .0996481   .0222188     4.48   0.000     .0561001    .1431961\n",
      "         L4. |  -.0018886   .0222216    -0.08   0.932    -.0454422    .0416651\n",
      "         L5. |   .0363759   .0221623     1.64   0.101    -.0070615    .0798133\n",
      "             |\n",
      "shareindex~s |\n",
      "         L1. |  -.0010591   .0006202    -1.71   0.088    -.0022746    .0001564\n",
      "         L2. |  -.0009957   .0006184    -1.61   0.107    -.0022078    .0002164\n",
      "         L3. |  -.0002315   .0006196    -0.37   0.709    -.0014459     .000983\n",
      "         L4. |   .0001668   .0006155     0.27   0.786    -.0010396    .0013732\n",
      "         L5. |   .0006327   .0006144     1.03   0.303    -.0005715    .0018369\n",
      "             |\n",
      "     month_2 |  -.0082722   .0166869    -0.50   0.620    -.0409779    .0244334\n",
      "     month_3 |  -.0103125   .0150321    -0.69   0.493     -.039775    .0191499\n",
      "     month_4 |  -.0013253   .0153773    -0.09   0.931    -.0314643    .0288136\n",
      "     month_5 |   .0091296   .0154232     0.59   0.554    -.0210993    .0393585\n",
      "     month_6 |  -.0081724   .0153373    -0.53   0.594     -.038233    .0218882\n",
      "     month_7 |   .0067532   .0154191     0.44   0.661    -.0234678    .0369742\n",
      "     month_8 |   .0111003   .0154439     0.72   0.472    -.0191692    .0413698\n",
      "     month_9 |  -.0043824   .0157571    -0.28   0.781    -.0352658     .026501\n",
      "    month_10 |   .0067785   .0165005     0.41   0.681    -.0255619    .0391189\n",
      "    month_11 |  -.0085852   .0156033    -0.55   0.582     -.039167    .0219967\n",
      "    month_12 |   .0030335   .0154295     0.20   0.844    -.0272078    .0332748\n",
      "   weekday_1 |   .0040007   .0100492     0.40   0.691    -.0156953    .0236968\n",
      "   weekday_2 |  -.0009281   .0101052    -0.09   0.927    -.0207339    .0188777\n",
      "   weekday_3 |  -.0061656   .0101375    -0.61   0.543    -.0260347    .0137035\n",
      "   weekday_4 |  -.0170139   .0101028    -1.68   0.092    -.0368151    .0027873\n",
      "       _cons |   .1567983   .0160099     9.79   0.000     .1254194    .1881772\n",
      "-------------+----------------------------------------------------------------\n",
      "shareindex~s |\n",
      "shareindex~n |\n",
      "         L1. |  -.3681429   .0839593    -4.38   0.000    -.5327001   -.2035857\n",
      "         L2. |  -.3081977   .0842304    -3.66   0.000    -.4732862   -.1431091\n",
      "         L3. |  -.1064313   .0847027    -1.26   0.209    -.2724455    .0595829\n",
      "         L4. |  -.1893683   .0837075    -2.26   0.024    -.3534319   -.0253047\n",
      "         L5. |   .0547013   .0833998     0.66   0.512    -.1087592    .2181619\n",
      "             |\n",
      "     img_neg |\n",
      "         L1. |   .0274531   .8277403     0.03   0.974    -1.594888    1.649794\n",
      "         L2. |  -.2053611   .8313893    -0.25   0.805    -1.834854    1.424132\n",
      "         L3. |   .2700115   .8280467     0.33   0.744     -1.35293    1.892953\n",
      "         L4. |  -1.786595   .8281533    -2.16   0.031    -3.409745   -.1634442\n",
      "         L5. |   1.789058   .8259433     2.17   0.030     .1702391    3.407877\n",
      "             |\n",
      "shareindex~s |\n",
      "         L1. |   .0891654    .023112     3.86   0.000     .0438667     .134464\n",
      "         L2. |   .1283951   .0230475     5.57   0.000     .0832228    .1735674\n",
      "         L3. |   .1502347   .0230922     6.51   0.000     .1049748    .1954945\n",
      "         L4. |   .0931356   .0229395     4.06   0.000      .048175    .1380962\n",
      "         L5. |   .0586069   .0228973     2.56   0.010     .0137291    .1034848\n",
      "             |\n",
      "     month_2 |  -.0404579   .6218839    -0.07   0.948    -1.259328    1.178412\n",
      "     month_3 |  -.5125491   .5602157    -0.91   0.360    -1.610552    .5854534\n",
      "     month_4 |  -.7702842   .5730786    -1.34   0.179    -1.893498    .3529293\n",
      "     month_5 |  -.5187388   .5747894    -0.90   0.367    -1.645305    .6078277\n",
      "     month_6 |  -.2944625   .5715895    -0.52   0.606    -1.414757    .8258322\n",
      "     month_7 |  -.0966498   .5746384    -0.17   0.866     -1.22292    1.029621\n",
      "     month_8 |  -.2934816   .5755615    -0.51   0.610    -1.421561    .8345982\n",
      "     month_9 |  -1.033182   .5872345    -1.76   0.079    -2.184141    .1177764\n",
      "    month_10 |  -.6539178   .6149382    -1.06   0.288    -1.859174    .5513389\n",
      "    month_11 |  -.7623037   .5815004    -1.31   0.190    -1.902024    .3774163\n",
      "    month_12 |  -.6469648   .5750253    -1.13   0.261    -1.773994    .4800642\n",
      "   weekday_1 |  -1.470698   .3745117    -3.93   0.000    -2.204728   -.7366685\n",
      "   weekday_2 |  -1.934723   .3765983    -5.14   0.000    -2.672842   -1.196604\n",
      "   weekday_3 |    -1.4842    .377802    -3.93   0.000    -2.224679    -.743722\n",
      "   weekday_4 |   -1.37883   .3765116    -3.66   0.000    -2.116779   -.6408808\n",
      "       _cons |   2.781481   .5966565     4.66   0.000     1.612055    3.950906\n",
      "------------------------------------------------------------------------------\n",
      "\n",
      ". \n"
     ]
    }
   ],
   "source": [
    "%%stata -d df_series_ols -force\n",
    "# @formatter:off\n",
    "ge time = _n\n",
    "tsset time\n",
    "var shareindex_return img_neg shareindex_return_s, lags(1/5) exog(month_*weekday_*)\n",
    "# @formatter:on"
   ],
   "metadata": {
    "collapsed": false
   }
  },
  {
   "cell_type": "markdown",
   "source": [
    "## 4.按照观测窗口构造投资策略"
   ],
   "metadata": {
    "collapsed": false
   }
  },
  {
   "cell_type": "code",
   "execution_count": 14,
   "outputs": [],
   "source": [
    "def cal_return(df, ma):\n",
    "    df[f'img_neg_m{ma}'] = (df['img_neg'].rolling(ma).mean())\n",
    "\n",
    "    # 历史均值\n",
    "    df['sell_signal'] = (df['img_neg'] >= df[f'img_neg_m{ma}'])\n",
    "    df['sell_signal'] = df['sell_signal'].shift(1)\n",
    "\n",
    "    # 高于均值投资\n",
    "    df['img_return'] = np.where(df['sell_signal'], -1*(df['sell_signal']*df['HIGH']), df['shareindex_return'])\n",
    "\n",
    "    # 去掉空行\n",
    "    df.dropna(axis=0, inplace=True)\n",
    "\n",
    "    # 换算\n",
    "    df['mv_shareindex'] = ((df['shareindex_return'] + 100)/100)\n",
    "    df['mv_img'] = ((df['img_return'] + 100)/100)\n",
    "    df['mv_shareindex'] = df['mv_shareindex'].cumprod(axis=0)\n",
    "    df['mv_img'] = df['mv_img'].cumprod(axis=0)\n",
    "\n",
    "    return df.rename(columns={'mv_img': f'mv_img_{ma}'})\n",
    "\n",
    "\n",
    "def start():\n",
    "    df_in = df_series\n",
    "    for i in [5, ]:\n",
    "        df_in = cal_return(df_in, i)\n",
    "    return df_in\n",
    "\n",
    "# start()"
   ],
   "metadata": {
    "collapsed": false
   }
  }
 ],
 "metadata": {
  "kernelspec": {
   "name": "stata",
   "language": "python",
   "display_name": "Stata"
  },
  "language_info": {
   "codemirror_mode": {
    "name": "ipython",
    "version": 2
   },
   "file_extension": ".py",
   "mimetype": "text/x-python",
   "name": "python",
   "nbconvert_exporter": "python",
   "pygments_lexer": "ipython2",
   "version": "2.7.6"
  }
 },
 "nbformat": 4,
 "nbformat_minor": 0
}
