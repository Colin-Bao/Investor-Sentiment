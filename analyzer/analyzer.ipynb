{
 "cells": [
  {
   "cell_type": "markdown",
   "source": [
    "# 情绪对股票市场的影响"
   ],
   "metadata": {
    "collapsed": false
   }
  },
  {
   "cell_type": "markdown",
   "source": [
    "## 1.数据准备\n",
    "风险偏好\n",
    "事件"
   ],
   "metadata": {
    "collapsed": false
   }
  },
  {
   "cell_type": "code",
   "execution_count": 1,
   "outputs": [
    {
     "name": "stdout",
     "output_type": "stream",
     "text": [
      "\n",
      "  ___  ____  ____  ____  ____ ©\n",
      " /__    /   ____/   /   ____/      17.0\n",
      "___/   /   /___/   /   /___/       MP—Parallel Edition\n",
      "\n",
      " Statistics and Data Science       Copyright 1985-2021 StataCorp LLC\n",
      "                                   StataCorp\n",
      "                                   4905 Lakeway Drive\n",
      "                                   College Station, Texas 77845 USA\n",
      "                                   800-STATA-PC        https://www.stata.com\n",
      "                                   979-696-4600        stata@stata.com\n",
      "\n",
      "Stata license: Single-user 8-core , expiring  1 Jan 2025\n",
      "Serial number: 501709301094\n",
      "  Licensed to: Colin's Stata\n",
      "               Love U\n",
      "\n",
      "Notes:\n",
      "      1. Unicode is supported; see help unicode_advice.\n",
      "      2. More than 2 billion observations are allowed; see help obs_advice.\n",
      "      3. Maximum number of variables is set to 5,000; see help set_maxvar.\n"
     ]
    }
   ],
   "source": [
    "import sys\n",
    "import os\n",
    "import numpy as np\n",
    "import cudf  #CUDA计算\n",
    "import pandas as pd\n",
    "\n",
    "sys.path.append('/home/ubuntu/notebook/Investor-Sentiment')\n",
    "sys.path.append('/usr/local/stata17/utilities')\n",
    "from pystata import config  #Stata\n",
    "from statsmodels.regression.rolling import RollingOLS  #滚动回归\n",
    "from pandarallel import pandarallel  #多线程groupby Apply\n",
    "\n",
    "config.init('mp')\n",
    "\n",
    "# ------------------------------数据集路径----------------------------------#\n",
    "DATASETS_PATH = './DataSets/'"
   ],
   "metadata": {
    "collapsed": false
   }
  },
  {
   "cell_type": "markdown",
   "source": [
    "### 1.1 下载和合并面板数据"
   ],
   "metadata": {
    "collapsed": false
   }
  },
  {
   "cell_type": "code",
   "execution_count": 2,
   "outputs": [],
   "source": [
    "# 下载数据\n",
    "def load_data():\n",
    "    # 数据集:个股K线面板数据,个股基本面数据\n",
    "    data_list = ['ASHARE_BAR_PANEL.parquet', 'ASHARE_BASIC_PANEL.parquet']\n",
    "    from loader.findata_loader import DownLoader\n",
    "    if not set(data_list).issubset(os.listdir('./DataSets/')): DownLoader(MAX_CORE=10).load_data()\n",
    "\n",
    "\n",
    "load_data()"
   ],
   "metadata": {
    "collapsed": false
   }
  },
  {
   "cell_type": "code",
   "execution_count": 3,
   "outputs": [
    {
     "data": {
      "text/plain": "                      share_return      total_mv  shareindex_return  \\\ntrade_date ts_code                                                    \n20140102   000001.SZ       -0.1641  1.002537e+07            -0.3454   \n           000002.SZ       -0.4972  8.799966e+06            -0.3454   \n           000004.SZ        1.3734  9.917646e+04            -0.3454   \n           000005.SZ       -0.4000  2.276691e+05            -0.3454   \n           000006.SZ       -1.2164  6.574476e+05            -0.3454   \n...                            ...           ...                ...   \n20221130   872374.BJ       -1.7259           NaN             0.1199   \n20221201   301290.SZ       -8.7349  4.856403e+05             1.0831   \n           301311.SZ       12.7436  5.414400e+05             1.0831   \n           870199.BJ       -3.1447  1.498420e+05             1.0831   \n           872374.BJ        0.2066           NaN             1.0831   \n\n                      riskfree_return  \ntrade_date ts_code                     \n20140102   000001.SZ         0.015460  \n           000002.SZ         0.015460  \n           000004.SZ         0.015460  \n           000005.SZ         0.015460  \n           000006.SZ         0.015460  \n...                               ...  \n20221130   872374.BJ         0.006092  \n20221201   301290.SZ         0.006103  \n           301311.SZ         0.006103  \n           870199.BJ         0.006103  \n           872374.BJ         0.006103  \n\n[7143120 rows x 4 columns]",
      "text/html": "<div>\n<style scoped>\n    .dataframe tbody tr th:only-of-type {\n        vertical-align: middle;\n    }\n\n    .dataframe tbody tr th {\n        vertical-align: top;\n    }\n\n    .dataframe thead th {\n        text-align: right;\n    }\n</style>\n<table border=\"1\" class=\"dataframe\">\n  <thead>\n    <tr style=\"text-align: right;\">\n      <th></th>\n      <th></th>\n      <th>share_return</th>\n      <th>total_mv</th>\n      <th>shareindex_return</th>\n      <th>riskfree_return</th>\n    </tr>\n    <tr>\n      <th>trade_date</th>\n      <th>ts_code</th>\n      <th></th>\n      <th></th>\n      <th></th>\n      <th></th>\n    </tr>\n  </thead>\n  <tbody>\n    <tr>\n      <th rowspan=\"5\" valign=\"top\">20140102</th>\n      <th>000001.SZ</th>\n      <td>-0.1641</td>\n      <td>1.002537e+07</td>\n      <td>-0.3454</td>\n      <td>0.015460</td>\n    </tr>\n    <tr>\n      <th>000002.SZ</th>\n      <td>-0.4972</td>\n      <td>8.799966e+06</td>\n      <td>-0.3454</td>\n      <td>0.015460</td>\n    </tr>\n    <tr>\n      <th>000004.SZ</th>\n      <td>1.3734</td>\n      <td>9.917646e+04</td>\n      <td>-0.3454</td>\n      <td>0.015460</td>\n    </tr>\n    <tr>\n      <th>000005.SZ</th>\n      <td>-0.4000</td>\n      <td>2.276691e+05</td>\n      <td>-0.3454</td>\n      <td>0.015460</td>\n    </tr>\n    <tr>\n      <th>000006.SZ</th>\n      <td>-1.2164</td>\n      <td>6.574476e+05</td>\n      <td>-0.3454</td>\n      <td>0.015460</td>\n    </tr>\n    <tr>\n      <th>...</th>\n      <th>...</th>\n      <td>...</td>\n      <td>...</td>\n      <td>...</td>\n      <td>...</td>\n    </tr>\n    <tr>\n      <th>20221130</th>\n      <th>872374.BJ</th>\n      <td>-1.7259</td>\n      <td>NaN</td>\n      <td>0.1199</td>\n      <td>0.006092</td>\n    </tr>\n    <tr>\n      <th rowspan=\"4\" valign=\"top\">20221201</th>\n      <th>301290.SZ</th>\n      <td>-8.7349</td>\n      <td>4.856403e+05</td>\n      <td>1.0831</td>\n      <td>0.006103</td>\n    </tr>\n    <tr>\n      <th>301311.SZ</th>\n      <td>12.7436</td>\n      <td>5.414400e+05</td>\n      <td>1.0831</td>\n      <td>0.006103</td>\n    </tr>\n    <tr>\n      <th>870199.BJ</th>\n      <td>-3.1447</td>\n      <td>1.498420e+05</td>\n      <td>1.0831</td>\n      <td>0.006103</td>\n    </tr>\n    <tr>\n      <th>872374.BJ</th>\n      <td>0.2066</td>\n      <td>NaN</td>\n      <td>1.0831</td>\n      <td>0.006103</td>\n    </tr>\n  </tbody>\n</table>\n<p>7143120 rows × 4 columns</p>\n</div>"
     },
     "execution_count": 3,
     "metadata": {},
     "output_type": "execute_result"
    }
   ],
   "source": [
    "# 提取面板数据\n",
    "def extract_panel():\n",
    "    # 个股K线数据\n",
    "    df_bar = (\n",
    "            cudf.read_parquet('./DataSets/ASHARE_BAR_PANEL.parquet', columns=['trade_date', 'ts_code', 'pct_chg'])\n",
    "            .rename(columns={'pct_chg': 'share_return'})\n",
    "    )\n",
    "\n",
    "    # 个股基本面数据\n",
    "    df_basic = cudf.read_parquet('./DataSets/ASHARE_BASIC_PANEL.parquet', columns=['trade_date', 'ts_code', 'total_mv'])\n",
    "\n",
    "    # 合并\n",
    "    df_p = cudf.concat([df_bar, df_basic], join=\"left\", axis=1, sort=True)\n",
    "\n",
    "    # 压缩数据\n",
    "    df_p.index.levels[1].astype('category', inplace=True)\n",
    "\n",
    "    return df_p\n",
    "\n",
    "\n",
    "# 提取时间序列数据\n",
    "def extract_time_series():\n",
    "    # 股指数据\n",
    "    from utils.sql import DB\n",
    "    db_loader = DB()\n",
    "    df_share_index = (\n",
    "            pd.read_sql_table('399300.SZ', db_loader.ENGINE, 'FIN_DAILY_INDEX', columns=['trade_date', 'pct_chg'])\n",
    "            .astype(dtype={'trade_date': 'uint32'}).set_index('trade_date').rename(columns={'pct_chg': 'shareindex_return'})\n",
    "    )\n",
    "\n",
    "    # shibor数据\n",
    "    df_shibor = (\n",
    "            pd.read_sql_table('SHIBOR', db_loader.ENGINE, 'FIN_DAILY_INDEX', columns=['trade_date', '3m'])\n",
    "            .astype(dtype={'trade_date': 'uint32'}).set_index('trade_date').rename(columns={'3m': 'riskfree_return'}) / 360\n",
    "    )\n",
    "\n",
    "    # 情绪数据\n",
    "    df_sent = pd.concat(\n",
    "            [pd.read_sql_table('IMG_SENT', db_loader.ENGINE, 'SENT_DAILY').astype(dtype={'trade_date': 'uint32'})\n",
    "             .set_index('trade_date').rename(columns={'neg_index': 'img_neg'}),\n",
    "             pd.read_sql_table('TEX_SENT', db_loader.ENGINE, 'SENT_DAILY').astype(dtype={'trade_date': 'uint32'})\n",
    "             .set_index('trade_date').rename(columns={'neg_index': 'tex_neg'})\n",
    "             ], axis=1\n",
    "    )\n",
    "\n",
    "    return (cudf.from_pandas(pd.concat([df_share_index, df_shibor], join=\"inner\", axis=1, sort=True)),\n",
    "            pd.concat([df_sent, df_share_index, df_shibor], join=\"inner\", axis=1, sort=True))\n",
    "\n",
    "\n",
    "# 合并数据\n",
    "def extract_merge():\n",
    "    df_p = extract_panel()\n",
    "    df_t, _ = extract_time_series()\n",
    "    df_m = cudf.merge(\n",
    "            left=df_p.reset_index(), right=df_t.reset_index(), left_on='trade_date', right_on='trade_date', how=\"left\",\n",
    "            sort=True\n",
    "    )\n",
    "    return df_m.set_index(['trade_date', 'ts_code']).sort_index(ascending=[True, True])\n",
    "\n",
    "\n",
    "df_panel = extract_merge()\n",
    "_, df_time_series = extract_time_series()\n",
    "\n",
    "# 数据筛选\n",
    "df_panel = df_panel[df_panel.index.get_level_values('trade_date') >= 20140101].to_pandas()\n",
    "df_panel"
   ],
   "metadata": {
    "collapsed": false
   }
  },
  {
   "cell_type": "markdown",
   "source": [
    "## 2.构造截面异质波动率与市值高低组合"
   ],
   "metadata": {
    "collapsed": false
   }
  },
  {
   "cell_type": "markdown",
   "source": [
    "#### 2.1 计算面板数据的异质波动率IDVOL"
   ],
   "metadata": {
    "collapsed": false
   }
  },
  {
   "cell_type": "code",
   "execution_count": 4,
   "outputs": [
    {
     "data": {
      "text/plain": "                      share_return      total_mv        idvol\ntrade_date ts_code                                           \n20140102   000001.SZ       -0.1641  1.002537e+07         <NA>\n           000002.SZ       -0.4972  8.799966e+06         <NA>\n           000004.SZ        1.3734  9.917646e+04         <NA>\n           000005.SZ       -0.4000  2.276691e+05         <NA>\n           000006.SZ       -1.2164  6.574476e+05         <NA>\n...                            ...           ...          ...\n20221128   873122.BJ       -2.0158  1.259199e+05  19.27363078\n           873169.BJ       -1.5198  5.443271e+04  1.319910083\n           873223.BJ       -0.2660  5.898188e+04  0.730762806\n           873339.BJ       -0.5093  1.290394e+05         <NA>\n           873527.BJ        0.0000  5.445873e+04         <NA>\n\n[7136670 rows x 3 columns]",
      "text/html": "<div>\n<style scoped>\n    .dataframe tbody tr th:only-of-type {\n        vertical-align: middle;\n    }\n\n    .dataframe tbody tr th {\n        vertical-align: top;\n    }\n\n    .dataframe thead th {\n        text-align: right;\n    }\n</style>\n<table border=\"1\" class=\"dataframe\">\n  <thead>\n    <tr style=\"text-align: right;\">\n      <th></th>\n      <th></th>\n      <th>share_return</th>\n      <th>total_mv</th>\n      <th>idvol</th>\n    </tr>\n    <tr>\n      <th>trade_date</th>\n      <th>ts_code</th>\n      <th></th>\n      <th></th>\n      <th></th>\n    </tr>\n  </thead>\n  <tbody>\n    <tr>\n      <th rowspan=\"5\" valign=\"top\">20140102</th>\n      <th>000001.SZ</th>\n      <td>-0.1641</td>\n      <td>1.002537e+07</td>\n      <td>&lt;NA&gt;</td>\n    </tr>\n    <tr>\n      <th>000002.SZ</th>\n      <td>-0.4972</td>\n      <td>8.799966e+06</td>\n      <td>&lt;NA&gt;</td>\n    </tr>\n    <tr>\n      <th>000004.SZ</th>\n      <td>1.3734</td>\n      <td>9.917646e+04</td>\n      <td>&lt;NA&gt;</td>\n    </tr>\n    <tr>\n      <th>000005.SZ</th>\n      <td>-0.4000</td>\n      <td>2.276691e+05</td>\n      <td>&lt;NA&gt;</td>\n    </tr>\n    <tr>\n      <th>000006.SZ</th>\n      <td>-1.2164</td>\n      <td>6.574476e+05</td>\n      <td>&lt;NA&gt;</td>\n    </tr>\n    <tr>\n      <th>...</th>\n      <th>...</th>\n      <td>...</td>\n      <td>...</td>\n      <td>...</td>\n    </tr>\n    <tr>\n      <th rowspan=\"5\" valign=\"top\">20221128</th>\n      <th>873122.BJ</th>\n      <td>-2.0158</td>\n      <td>1.259199e+05</td>\n      <td>19.27363078</td>\n    </tr>\n    <tr>\n      <th>873169.BJ</th>\n      <td>-1.5198</td>\n      <td>5.443271e+04</td>\n      <td>1.319910083</td>\n    </tr>\n    <tr>\n      <th>873223.BJ</th>\n      <td>-0.2660</td>\n      <td>5.898188e+04</td>\n      <td>0.730762806</td>\n    </tr>\n    <tr>\n      <th>873339.BJ</th>\n      <td>-0.5093</td>\n      <td>1.290394e+05</td>\n      <td>&lt;NA&gt;</td>\n    </tr>\n    <tr>\n      <th>873527.BJ</th>\n      <td>0.0000</td>\n      <td>5.445873e+04</td>\n      <td>&lt;NA&gt;</td>\n    </tr>\n  </tbody>\n</table>\n<p>7136670 rows × 3 columns</p>\n</div>"
     },
     "execution_count": 4,
     "metadata": {},
     "output_type": "execute_result"
    }
   ],
   "source": [
    "# 滚动OLS回归求异质波动率\n",
    "def roll_idvol(df_code: pd.DataFrame, ols_window: int, var_ma: int) -> pd.DataFrame:\n",
    "    try:\n",
    "        # 估计参数\n",
    "        model_ols = RollingOLS(endog=df_code[['Y']], exog=df_code[['CONST', 'X']], window=ols_window)\n",
    "        df_para = model_ols.fit().params.rename(columns={'CONST': 'Alpha', 'X': 'Beta'})\n",
    "\n",
    "        # 预测残差 已经对齐了\n",
    "        df_con = pd.concat([df_code, df_para], axis=1, join='inner')\n",
    "        df_con['Residual'] = df_con['Alpha'] + df_con['Beta'] * df_con['X'] - df_con['Y']\n",
    "\n",
    "        # 计算月波动率\n",
    "        df_con['Idvol'] = df_con['Residual'].rolling(var_ma).var(ddof=1)\n",
    "        return df_con[['share_return', 'total_mv', 'Idvol']]\n",
    "    except (IndexError, ValueError): return pd.DataFrame(columns=['trade_date', 'ts_code']).set_index(['trade_date', 'ts_code'])\n",
    "\n",
    "\n",
    "# 分组计算\n",
    "def cal_panel_ols():\n",
    "    # 定义回归变量 CAPM回归: (rm-rf)=a+b*(RM-rf)\n",
    "    df_panel['Y'] = df_panel['share_return'] - df_panel['riskfree_return']\n",
    "    df_panel['CONST'] = 1  # 带截距项回归\n",
    "    df_panel['X'] = df_panel['shareindex_return'] - df_panel['riskfree_return']\n",
    "\n",
    "    # 多线程加速\n",
    "    pandarallel.initialize(progress_bar=True)\n",
    "    df_out = (df_panel.groupby(level=['ts_code'])[['share_return', 'total_mv', 'Y', 'CONST', 'X']]\n",
    "              .parallel_apply(lambda x: roll_idvol(x, 5, 30)).droplevel(2)\n",
    "              )\n",
    "\n",
    "    # 保存\n",
    "    df_out.to_parquet(f'{DATASETS_PATH}ASHARE_OLS_PANEL.parquet', engine='pyarrow', index=True)\n",
    "\n",
    "\n",
    "# 计算滚动回归\n",
    "if not os.path.exists(f'{DATASETS_PATH}ASHARE_OLS_PANEL.parquet'): cal_panel_ols()\n",
    "\n",
    "# 加载滚动回归的面板数据集\n",
    "df_ols_panel = (\n",
    "        cudf.read_parquet(f'{DATASETS_PATH}ASHARE_OLS_PANEL.parquet').reset_index().set_index(['trade_date', 'ts_code']).sort_index()\n",
    "        .rename(columns={'Idvol': 'idvol'})\n",
    ")\n",
    "df_ols_panel"
   ],
   "metadata": {
    "collapsed": false
   }
  },
  {
   "cell_type": "markdown",
   "source": [
    "### 2.2 面板数据分组"
   ],
   "metadata": {
    "collapsed": false
   }
  },
  {
   "cell_type": "code",
   "execution_count": 5,
   "outputs": [
    {
     "data": {
      "text/plain": "            total_mv_high  total_mv_low    idvol_high  idvol_low  \\\ntrade_date                                                         \n20140102        -0.029777      1.234774          <NA>   0.104007   \n20140103        -0.948489     -0.507487          <NA>  -0.901783   \n20140106        -1.720405     -3.189046          <NA>  -1.873938   \n20140107         0.126427      0.776833          <NA>   0.194875   \n20140108         0.180407      0.311129          <NA>   0.194233   \n...                   ...           ...           ...        ...   \n20221122        -0.116407     -1.269097  -1.561919643   0.606623   \n20221123         0.154271     -0.994226  -0.214573764   0.214863   \n20221124        -0.120901      0.448208   0.347296284  -0.313833   \n20221125         0.272927     -1.030933  -1.125605363   0.870568   \n20221128        -0.654846     -0.472253  -0.400996936  -0.769940   \n\n            total_mv_mid     idvol_mid  \ntrade_date                              \n20140102       -1.264551          <NA>  \n20140103       -0.441002          <NA>  \n20140106        1.468642          <NA>  \n20140107       -0.650406          <NA>  \n20140108       -0.130722          <NA>  \n...                  ...           ...  \n20221122        1.152690  -2.168542227  \n20221123        1.148497  -0.429437007  \n20221124       -0.569109   0.661128982  \n20221125        1.303859  -1.996173477  \n20221128       -0.182592   0.368943332  \n\n[2168 rows x 6 columns]",
      "text/html": "<div>\n<style scoped>\n    .dataframe tbody tr th:only-of-type {\n        vertical-align: middle;\n    }\n\n    .dataframe tbody tr th {\n        vertical-align: top;\n    }\n\n    .dataframe thead th {\n        text-align: right;\n    }\n</style>\n<table border=\"1\" class=\"dataframe\">\n  <thead>\n    <tr style=\"text-align: right;\">\n      <th></th>\n      <th>total_mv_high</th>\n      <th>total_mv_low</th>\n      <th>idvol_high</th>\n      <th>idvol_low</th>\n      <th>total_mv_mid</th>\n      <th>idvol_mid</th>\n    </tr>\n    <tr>\n      <th>trade_date</th>\n      <th></th>\n      <th></th>\n      <th></th>\n      <th></th>\n      <th></th>\n      <th></th>\n    </tr>\n  </thead>\n  <tbody>\n    <tr>\n      <th>20140102</th>\n      <td>-0.029777</td>\n      <td>1.234774</td>\n      <td>&lt;NA&gt;</td>\n      <td>0.104007</td>\n      <td>-1.264551</td>\n      <td>&lt;NA&gt;</td>\n    </tr>\n    <tr>\n      <th>20140103</th>\n      <td>-0.948489</td>\n      <td>-0.507487</td>\n      <td>&lt;NA&gt;</td>\n      <td>-0.901783</td>\n      <td>-0.441002</td>\n      <td>&lt;NA&gt;</td>\n    </tr>\n    <tr>\n      <th>20140106</th>\n      <td>-1.720405</td>\n      <td>-3.189046</td>\n      <td>&lt;NA&gt;</td>\n      <td>-1.873938</td>\n      <td>1.468642</td>\n      <td>&lt;NA&gt;</td>\n    </tr>\n    <tr>\n      <th>20140107</th>\n      <td>0.126427</td>\n      <td>0.776833</td>\n      <td>&lt;NA&gt;</td>\n      <td>0.194875</td>\n      <td>-0.650406</td>\n      <td>&lt;NA&gt;</td>\n    </tr>\n    <tr>\n      <th>20140108</th>\n      <td>0.180407</td>\n      <td>0.311129</td>\n      <td>&lt;NA&gt;</td>\n      <td>0.194233</td>\n      <td>-0.130722</td>\n      <td>&lt;NA&gt;</td>\n    </tr>\n    <tr>\n      <th>...</th>\n      <td>...</td>\n      <td>...</td>\n      <td>...</td>\n      <td>...</td>\n      <td>...</td>\n      <td>...</td>\n    </tr>\n    <tr>\n      <th>20221122</th>\n      <td>-0.116407</td>\n      <td>-1.269097</td>\n      <td>-1.561919643</td>\n      <td>0.606623</td>\n      <td>1.152690</td>\n      <td>-2.168542227</td>\n    </tr>\n    <tr>\n      <th>20221123</th>\n      <td>0.154271</td>\n      <td>-0.994226</td>\n      <td>-0.214573764</td>\n      <td>0.214863</td>\n      <td>1.148497</td>\n      <td>-0.429437007</td>\n    </tr>\n    <tr>\n      <th>20221124</th>\n      <td>-0.120901</td>\n      <td>0.448208</td>\n      <td>0.347296284</td>\n      <td>-0.313833</td>\n      <td>-0.569109</td>\n      <td>0.661128982</td>\n    </tr>\n    <tr>\n      <th>20221125</th>\n      <td>0.272927</td>\n      <td>-1.030933</td>\n      <td>-1.125605363</td>\n      <td>0.870568</td>\n      <td>1.303859</td>\n      <td>-1.996173477</td>\n    </tr>\n    <tr>\n      <th>20221128</th>\n      <td>-0.654846</td>\n      <td>-0.472253</td>\n      <td>-0.400996936</td>\n      <td>-0.769940</td>\n      <td>-0.182592</td>\n      <td>0.368943332</td>\n    </tr>\n  </tbody>\n</table>\n<p>2168 rows × 6 columns</p>\n</div>"
     },
     "execution_count": 5,
     "metadata": {},
     "output_type": "execute_result"
    }
   ],
   "source": [
    "# 参数阈值\n",
    "QUANTILE = 0.5\n",
    "\n",
    "\n",
    "# 面板数据分组\n",
    "def group_ols_panel(df, group_col: str):\n",
    "    \"\"\"\n",
    "    :param df:\n",
    "    :param group_col:分组变量\n",
    "    \"\"\"\n",
    "    # 分组\n",
    "    df[f'{group_col}_split'] = df[group_col].groupby(level=['trade_date']).transform(lambda x: x.quantile(QUANTILE))\n",
    "    df[f'{group_col}_group'] = np.where(df[group_col].to_pandas() >= df[f'{group_col}_split'].to_pandas(),\n",
    "                                        f'{group_col}_high', f'{group_col}_low')\n",
    "    # 重新设定分组索引\n",
    "    df = df.reset_index().set_index(['trade_date', f'{group_col}_group', 'ts_code']).sort_index()\n",
    "\n",
    "    # 求组中市值加权系数\n",
    "    df[f'{group_col}_mv_ratio'] = df['total_mv'] / df.groupby(level=['trade_date', f'{group_col}_group'])['total_mv'].transform('sum')\n",
    "\n",
    "    # 求组中回报\n",
    "    df[f'{group_col}_vw_return'] = df[f'{group_col}_mv_ratio'] * df['share_return']\n",
    "    df[f'{group_col}_group_return'] = (df.groupby(level=['trade_date', f'{group_col}_group'])[f'{group_col}_vw_return']\n",
    "                                       .transform('sum'))\n",
    "\n",
    "    # 重置索引\n",
    "    return df.reset_index(f'{group_col}_group')\n",
    "\n",
    "\n",
    "# 循环分组,最后处理成时间序列数据\n",
    "def group_cols(df, columns: list):\n",
    "    # 用于分组\n",
    "    df_temp = df\n",
    "\n",
    "    # 求组中市值加权回报\n",
    "    for col in columns: df_temp = group_ols_panel(df_temp, col)\n",
    "\n",
    "    # 筛选\n",
    "    df_temp = df_temp[[i + '_group' for i in columns] + [i + '_group_return' for i in columns]]\n",
    "\n",
    "    # 保留唯一的组合 2^N\n",
    "    df_time_panel = (df_temp.reset_index().groupby(['trade_date'] + [i + '_group' for i in columns]).first())\n",
    "\n",
    "    # 转为时间序列数据\n",
    "    df_time = cudf.DataFrame()\n",
    "    for col in columns: df_time = cudf.concat([df_time,\n",
    "                                               df_time_panel.groupby(level=['trade_date', f'{col}_group']).first().reset_index()\n",
    "                                              .pivot(index='trade_date', columns=f'{col}_group', values=f'{col}_group_return')],\n",
    "                                              join=\"left\", axis=1, sort=True)\n",
    "    # 高减低\n",
    "    # for col in columns: df_time[f'{col}_mid'] = df_time[f'{col}_high'] - df_time[f'{col}_low']\n",
    "\n",
    "    return df_time\n",
    "\n",
    "\n",
    "df_group_time = group_cols(df_ols_panel, ['total_mv', 'idvol'])\n",
    "df_group_time"
   ],
   "metadata": {
    "collapsed": false
   }
  },
  {
   "cell_type": "code",
   "execution_count": 6,
   "outputs": [
    {
     "data": {
      "text/plain": "                              shareindex_return  total_mv_high  total_mv_low  \\\ntrade_date img_neg  tex_neg                                                    \n20140225   0.000000 0.000000            -2.5559      -2.337306     -4.150488   \n20140226   0.666667 0.000000             0.2547       0.410470      0.766131   \n20140227   0.000000 0.000000            -0.4297      -0.088160     -1.421645   \n20140228   0.333333 0.666667             1.1542       0.715555      1.268451   \n20140303   0.333333 0.333333             0.5231       0.988762      2.331365   \n...                                         ...            ...           ...   \n20220621   0.238095 0.285714            -0.1124      -0.203363     -0.226754   \n20220622   0.227273 0.227273            -1.2702      -1.148589     -1.143000   \n20220623   0.363636 0.363636             1.7153       1.881314      1.879633   \n20220624   0.200000 0.300000             1.1716       1.051734      1.063412   \n20220627   0.200000 0.133333             1.1261       0.990796      0.897052   \n\n                              idvol_high  idvol_low  total_mv_mid  idvol_mid  \ntrade_date img_neg  tex_neg                                                   \n20140225   0.000000 0.000000   -4.016731  -1.827917      1.813182  -2.188814  \n20140226   0.666667 0.000000    0.985354   0.193332     -0.355661   0.792023  \n20140227   0.000000 0.000000   -0.781264   0.026462      1.333485  -0.807726  \n20140228   0.333333 0.666667    1.174221   0.582117     -0.552896   0.592105  \n20140303   0.333333 0.333333    1.989484   0.722860     -1.342603   1.266624  \n...                                  ...        ...           ...        ...  \n20220621   0.238095 0.285714   -0.810936   0.125217      0.023391  -0.936153  \n20220622   0.227273 0.227273   -0.807400  -1.345733     -0.005589   0.538332  \n20220623   0.363636 0.363636    2.629145   1.459178      0.001681   1.169967  \n20220624   0.200000 0.300000    1.323591   0.901009     -0.011678   0.422582  \n20220627   0.200000 0.133333    1.406000   0.762883      0.093743   0.643116  \n\n[2031 rows x 7 columns]",
      "text/html": "<div>\n<style scoped>\n    .dataframe tbody tr th:only-of-type {\n        vertical-align: middle;\n    }\n\n    .dataframe tbody tr th {\n        vertical-align: top;\n    }\n\n    .dataframe thead th {\n        text-align: right;\n    }\n</style>\n<table border=\"1\" class=\"dataframe\">\n  <thead>\n    <tr style=\"text-align: right;\">\n      <th></th>\n      <th></th>\n      <th></th>\n      <th>shareindex_return</th>\n      <th>total_mv_high</th>\n      <th>total_mv_low</th>\n      <th>idvol_high</th>\n      <th>idvol_low</th>\n      <th>total_mv_mid</th>\n      <th>idvol_mid</th>\n    </tr>\n    <tr>\n      <th>trade_date</th>\n      <th>img_neg</th>\n      <th>tex_neg</th>\n      <th></th>\n      <th></th>\n      <th></th>\n      <th></th>\n      <th></th>\n      <th></th>\n      <th></th>\n    </tr>\n  </thead>\n  <tbody>\n    <tr>\n      <th>20140225</th>\n      <th>0.000000</th>\n      <th>0.000000</th>\n      <td>-2.5559</td>\n      <td>-2.337306</td>\n      <td>-4.150488</td>\n      <td>-4.016731</td>\n      <td>-1.827917</td>\n      <td>1.813182</td>\n      <td>-2.188814</td>\n    </tr>\n    <tr>\n      <th>20140226</th>\n      <th>0.666667</th>\n      <th>0.000000</th>\n      <td>0.2547</td>\n      <td>0.410470</td>\n      <td>0.766131</td>\n      <td>0.985354</td>\n      <td>0.193332</td>\n      <td>-0.355661</td>\n      <td>0.792023</td>\n    </tr>\n    <tr>\n      <th>20140227</th>\n      <th>0.000000</th>\n      <th>0.000000</th>\n      <td>-0.4297</td>\n      <td>-0.088160</td>\n      <td>-1.421645</td>\n      <td>-0.781264</td>\n      <td>0.026462</td>\n      <td>1.333485</td>\n      <td>-0.807726</td>\n    </tr>\n    <tr>\n      <th>20140228</th>\n      <th>0.333333</th>\n      <th>0.666667</th>\n      <td>1.1542</td>\n      <td>0.715555</td>\n      <td>1.268451</td>\n      <td>1.174221</td>\n      <td>0.582117</td>\n      <td>-0.552896</td>\n      <td>0.592105</td>\n    </tr>\n    <tr>\n      <th>20140303</th>\n      <th>0.333333</th>\n      <th>0.333333</th>\n      <td>0.5231</td>\n      <td>0.988762</td>\n      <td>2.331365</td>\n      <td>1.989484</td>\n      <td>0.722860</td>\n      <td>-1.342603</td>\n      <td>1.266624</td>\n    </tr>\n    <tr>\n      <th>...</th>\n      <th>...</th>\n      <th>...</th>\n      <td>...</td>\n      <td>...</td>\n      <td>...</td>\n      <td>...</td>\n      <td>...</td>\n      <td>...</td>\n      <td>...</td>\n    </tr>\n    <tr>\n      <th>20220621</th>\n      <th>0.238095</th>\n      <th>0.285714</th>\n      <td>-0.1124</td>\n      <td>-0.203363</td>\n      <td>-0.226754</td>\n      <td>-0.810936</td>\n      <td>0.125217</td>\n      <td>0.023391</td>\n      <td>-0.936153</td>\n    </tr>\n    <tr>\n      <th>20220622</th>\n      <th>0.227273</th>\n      <th>0.227273</th>\n      <td>-1.2702</td>\n      <td>-1.148589</td>\n      <td>-1.143000</td>\n      <td>-0.807400</td>\n      <td>-1.345733</td>\n      <td>-0.005589</td>\n      <td>0.538332</td>\n    </tr>\n    <tr>\n      <th>20220623</th>\n      <th>0.363636</th>\n      <th>0.363636</th>\n      <td>1.7153</td>\n      <td>1.881314</td>\n      <td>1.879633</td>\n      <td>2.629145</td>\n      <td>1.459178</td>\n      <td>0.001681</td>\n      <td>1.169967</td>\n    </tr>\n    <tr>\n      <th>20220624</th>\n      <th>0.200000</th>\n      <th>0.300000</th>\n      <td>1.1716</td>\n      <td>1.051734</td>\n      <td>1.063412</td>\n      <td>1.323591</td>\n      <td>0.901009</td>\n      <td>-0.011678</td>\n      <td>0.422582</td>\n    </tr>\n    <tr>\n      <th>20220627</th>\n      <th>0.200000</th>\n      <th>0.133333</th>\n      <td>1.1261</td>\n      <td>0.990796</td>\n      <td>0.897052</td>\n      <td>1.406000</td>\n      <td>0.762883</td>\n      <td>0.093743</td>\n      <td>0.643116</td>\n    </tr>\n  </tbody>\n</table>\n<p>2031 rows × 7 columns</p>\n</div>"
     },
     "execution_count": 6,
     "metadata": {},
     "output_type": "execute_result"
    }
   ],
   "source": [
    "# 合并其他时间序列数据\n",
    "df_series_join = (cudf.concat([cudf.from_pandas(df_time_series), df_group_time], join=\"left\", axis=1, sort=True).dropna(axis=0)\n",
    "                  .reset_index().set_index(['trade_date', 'img_neg', 'tex_neg']).drop(columns='riskfree_return').to_pandas())\n",
    "\n",
    "df_series_join"
   ],
   "metadata": {
    "collapsed": false
   }
  },
  {
   "cell_type": "markdown",
   "source": [
    "## 3. VAR模型分析"
   ],
   "metadata": {
    "collapsed": false
   }
  },
  {
   "cell_type": "markdown",
   "source": [
    "### 3.1 回归前数据处理"
   ],
   "metadata": {
    "collapsed": false
   }
  },
  {
   "cell_type": "code",
   "execution_count": 7,
   "outputs": [
    {
     "data": {
      "text/plain": "      trade_date   img_neg   tex_neg  shareindex_return  total_mv_high  \\\n0       20140225  0.000000  0.000000            -2.5559      -2.337306   \n1       20140226  0.666667  0.000000             0.2547       0.410470   \n2       20140227  0.000000  0.000000            -0.4297      -0.088160   \n3       20140228  0.333333  0.666667             1.1542       0.715555   \n4       20140303  0.333333  0.333333             0.5231       0.988762   \n...          ...       ...       ...                ...            ...   \n2026    20220621  0.238095  0.285714            -0.1124      -0.203363   \n2027    20220622  0.227273  0.227273            -1.2702      -1.148589   \n2028    20220623  0.363636  0.363636             1.7153       1.881314   \n2029    20220624  0.200000  0.300000             1.1716       1.051734   \n2030    20220627  0.200000  0.133333             1.1261       0.990796   \n\n      total_mv_low  idvol_high  idvol_low  total_mv_mid  idvol_mid  ...  \\\n0        -4.150488   -4.016731  -1.827917      1.813182  -2.188814  ...   \n1         0.766131    0.985354   0.193332     -0.355661   0.792023  ...   \n2        -1.421645   -0.781264   0.026462      1.333485  -0.807726  ...   \n3         1.268451    1.174221   0.582117     -0.552896   0.592105  ...   \n4         2.331365    1.989484   0.722860     -1.342603   1.266624  ...   \n...            ...         ...        ...           ...        ...  ...   \n2026     -0.226754   -0.810936   0.125217      0.023391  -0.936153  ...   \n2027     -1.143000   -0.807400  -1.345733     -0.005589   0.538332  ...   \n2028      1.879633    2.629145   1.459178      0.001681   1.169967  ...   \n2029      1.063412    1.323591   0.901009     -0.011678   0.422582  ...   \n2030      0.897052    1.406000   0.762883      0.093743   0.643116  ...   \n\n      month_3  month_4  month_5  month_6  month_7  month_8  month_9  month_10  \\\n0           0        0        0        0        0        0        0         0   \n1           0        0        0        0        0        0        0         0   \n2           0        0        0        0        0        0        0         0   \n3           0        0        0        0        0        0        0         0   \n4           1        0        0        0        0        0        0         0   \n...       ...      ...      ...      ...      ...      ...      ...       ...   \n2026        0        0        0        1        0        0        0         0   \n2027        0        0        0        1        0        0        0         0   \n2028        0        0        0        1        0        0        0         0   \n2029        0        0        0        1        0        0        0         0   \n2030        0        0        0        1        0        0        0         0   \n\n      month_11  month_12  \n0            0         0  \n1            0         0  \n2            0         0  \n3            0         0  \n4            0         0  \n...        ...       ...  \n2026         0         0  \n2027         0         0  \n2028         0         0  \n2029         0         0  \n2030         0         0  \n\n[2031 rows x 32 columns]",
      "text/html": "<div>\n<style scoped>\n    .dataframe tbody tr th:only-of-type {\n        vertical-align: middle;\n    }\n\n    .dataframe tbody tr th {\n        vertical-align: top;\n    }\n\n    .dataframe thead th {\n        text-align: right;\n    }\n</style>\n<table border=\"1\" class=\"dataframe\">\n  <thead>\n    <tr style=\"text-align: right;\">\n      <th></th>\n      <th>trade_date</th>\n      <th>img_neg</th>\n      <th>tex_neg</th>\n      <th>shareindex_return</th>\n      <th>total_mv_high</th>\n      <th>total_mv_low</th>\n      <th>idvol_high</th>\n      <th>idvol_low</th>\n      <th>total_mv_mid</th>\n      <th>idvol_mid</th>\n      <th>...</th>\n      <th>month_3</th>\n      <th>month_4</th>\n      <th>month_5</th>\n      <th>month_6</th>\n      <th>month_7</th>\n      <th>month_8</th>\n      <th>month_9</th>\n      <th>month_10</th>\n      <th>month_11</th>\n      <th>month_12</th>\n    </tr>\n  </thead>\n  <tbody>\n    <tr>\n      <th>0</th>\n      <td>20140225</td>\n      <td>0.000000</td>\n      <td>0.000000</td>\n      <td>-2.5559</td>\n      <td>-2.337306</td>\n      <td>-4.150488</td>\n      <td>-4.016731</td>\n      <td>-1.827917</td>\n      <td>1.813182</td>\n      <td>-2.188814</td>\n      <td>...</td>\n      <td>0</td>\n      <td>0</td>\n      <td>0</td>\n      <td>0</td>\n      <td>0</td>\n      <td>0</td>\n      <td>0</td>\n      <td>0</td>\n      <td>0</td>\n      <td>0</td>\n    </tr>\n    <tr>\n      <th>1</th>\n      <td>20140226</td>\n      <td>0.666667</td>\n      <td>0.000000</td>\n      <td>0.2547</td>\n      <td>0.410470</td>\n      <td>0.766131</td>\n      <td>0.985354</td>\n      <td>0.193332</td>\n      <td>-0.355661</td>\n      <td>0.792023</td>\n      <td>...</td>\n      <td>0</td>\n      <td>0</td>\n      <td>0</td>\n      <td>0</td>\n      <td>0</td>\n      <td>0</td>\n      <td>0</td>\n      <td>0</td>\n      <td>0</td>\n      <td>0</td>\n    </tr>\n    <tr>\n      <th>2</th>\n      <td>20140227</td>\n      <td>0.000000</td>\n      <td>0.000000</td>\n      <td>-0.4297</td>\n      <td>-0.088160</td>\n      <td>-1.421645</td>\n      <td>-0.781264</td>\n      <td>0.026462</td>\n      <td>1.333485</td>\n      <td>-0.807726</td>\n      <td>...</td>\n      <td>0</td>\n      <td>0</td>\n      <td>0</td>\n      <td>0</td>\n      <td>0</td>\n      <td>0</td>\n      <td>0</td>\n      <td>0</td>\n      <td>0</td>\n      <td>0</td>\n    </tr>\n    <tr>\n      <th>3</th>\n      <td>20140228</td>\n      <td>0.333333</td>\n      <td>0.666667</td>\n      <td>1.1542</td>\n      <td>0.715555</td>\n      <td>1.268451</td>\n      <td>1.174221</td>\n      <td>0.582117</td>\n      <td>-0.552896</td>\n      <td>0.592105</td>\n      <td>...</td>\n      <td>0</td>\n      <td>0</td>\n      <td>0</td>\n      <td>0</td>\n      <td>0</td>\n      <td>0</td>\n      <td>0</td>\n      <td>0</td>\n      <td>0</td>\n      <td>0</td>\n    </tr>\n    <tr>\n      <th>4</th>\n      <td>20140303</td>\n      <td>0.333333</td>\n      <td>0.333333</td>\n      <td>0.5231</td>\n      <td>0.988762</td>\n      <td>2.331365</td>\n      <td>1.989484</td>\n      <td>0.722860</td>\n      <td>-1.342603</td>\n      <td>1.266624</td>\n      <td>...</td>\n      <td>1</td>\n      <td>0</td>\n      <td>0</td>\n      <td>0</td>\n      <td>0</td>\n      <td>0</td>\n      <td>0</td>\n      <td>0</td>\n      <td>0</td>\n      <td>0</td>\n    </tr>\n    <tr>\n      <th>...</th>\n      <td>...</td>\n      <td>...</td>\n      <td>...</td>\n      <td>...</td>\n      <td>...</td>\n      <td>...</td>\n      <td>...</td>\n      <td>...</td>\n      <td>...</td>\n      <td>...</td>\n      <td>...</td>\n      <td>...</td>\n      <td>...</td>\n      <td>...</td>\n      <td>...</td>\n      <td>...</td>\n      <td>...</td>\n      <td>...</td>\n      <td>...</td>\n      <td>...</td>\n      <td>...</td>\n    </tr>\n    <tr>\n      <th>2026</th>\n      <td>20220621</td>\n      <td>0.238095</td>\n      <td>0.285714</td>\n      <td>-0.1124</td>\n      <td>-0.203363</td>\n      <td>-0.226754</td>\n      <td>-0.810936</td>\n      <td>0.125217</td>\n      <td>0.023391</td>\n      <td>-0.936153</td>\n      <td>...</td>\n      <td>0</td>\n      <td>0</td>\n      <td>0</td>\n      <td>1</td>\n      <td>0</td>\n      <td>0</td>\n      <td>0</td>\n      <td>0</td>\n      <td>0</td>\n      <td>0</td>\n    </tr>\n    <tr>\n      <th>2027</th>\n      <td>20220622</td>\n      <td>0.227273</td>\n      <td>0.227273</td>\n      <td>-1.2702</td>\n      <td>-1.148589</td>\n      <td>-1.143000</td>\n      <td>-0.807400</td>\n      <td>-1.345733</td>\n      <td>-0.005589</td>\n      <td>0.538332</td>\n      <td>...</td>\n      <td>0</td>\n      <td>0</td>\n      <td>0</td>\n      <td>1</td>\n      <td>0</td>\n      <td>0</td>\n      <td>0</td>\n      <td>0</td>\n      <td>0</td>\n      <td>0</td>\n    </tr>\n    <tr>\n      <th>2028</th>\n      <td>20220623</td>\n      <td>0.363636</td>\n      <td>0.363636</td>\n      <td>1.7153</td>\n      <td>1.881314</td>\n      <td>1.879633</td>\n      <td>2.629145</td>\n      <td>1.459178</td>\n      <td>0.001681</td>\n      <td>1.169967</td>\n      <td>...</td>\n      <td>0</td>\n      <td>0</td>\n      <td>0</td>\n      <td>1</td>\n      <td>0</td>\n      <td>0</td>\n      <td>0</td>\n      <td>0</td>\n      <td>0</td>\n      <td>0</td>\n    </tr>\n    <tr>\n      <th>2029</th>\n      <td>20220624</td>\n      <td>0.200000</td>\n      <td>0.300000</td>\n      <td>1.1716</td>\n      <td>1.051734</td>\n      <td>1.063412</td>\n      <td>1.323591</td>\n      <td>0.901009</td>\n      <td>-0.011678</td>\n      <td>0.422582</td>\n      <td>...</td>\n      <td>0</td>\n      <td>0</td>\n      <td>0</td>\n      <td>1</td>\n      <td>0</td>\n      <td>0</td>\n      <td>0</td>\n      <td>0</td>\n      <td>0</td>\n      <td>0</td>\n    </tr>\n    <tr>\n      <th>2030</th>\n      <td>20220627</td>\n      <td>0.200000</td>\n      <td>0.133333</td>\n      <td>1.1261</td>\n      <td>0.990796</td>\n      <td>0.897052</td>\n      <td>1.406000</td>\n      <td>0.762883</td>\n      <td>0.093743</td>\n      <td>0.643116</td>\n      <td>...</td>\n      <td>0</td>\n      <td>0</td>\n      <td>0</td>\n      <td>1</td>\n      <td>0</td>\n      <td>0</td>\n      <td>0</td>\n      <td>0</td>\n      <td>0</td>\n      <td>0</td>\n    </tr>\n  </tbody>\n</table>\n<p>2031 rows × 32 columns</p>\n</div>"
     },
     "execution_count": 7,
     "metadata": {},
     "output_type": "execute_result"
    }
   ],
   "source": [
    "# 增加平方项\n",
    "def add_square_column(df): return pd.concat([df, df.pow(2).add_suffix('_s')], axis=1)\n",
    "\n",
    "\n",
    "# 增加日期虚拟变量\n",
    "def add_dummy_column(df, column: str):\n",
    "    df_weekday = pd.get_dummies(pd.to_datetime(df[column], format='%Y%m%d').dt.weekday, prefix='weekday', drop_first=True)\n",
    "    df_month = pd.get_dummies(pd.to_datetime(df[column], format='%Y%m%d').dt.month, prefix='month', drop_first=True)\n",
    "    return pd.concat([df, df_weekday, df_month], axis=1)\n",
    "\n",
    "\n",
    "# 处理好的用于回归的数据\n",
    "df_series_ols = add_dummy_column(add_square_column(df_series_join).reset_index(), 'trade_date')\n",
    "df_series_ols\n",
    "# @formatter:off"
   ],
   "metadata": {
    "collapsed": false
   }
  },
  {
   "cell_type": "markdown",
   "source": [
    "### 3.2 回归结果"
   ],
   "metadata": {
    "collapsed": false
   }
  },
  {
   "cell_type": "markdown",
   "source": [],
   "metadata": {
    "collapsed": false
   }
  },
  {
   "cell_type": "code",
   "execution_count": 8,
   "outputs": [
    {
     "name": "stdout",
     "output_type": "stream",
     "text": [
      "\n",
      ". //描述性统计\n",
      ". tabstat *_neg *_return *_high *_low, s(N sd mean p50 min max ) f(%12.4f) c(s)\n",
      "\n",
      "    Variable |            N           SD         Mean          p50          Min\n",
      "-------------+-----------------------------------------------------------------\n",
      "     img_neg |    2031.0000       0.1434       0.2023       0.2143       0.0000\n",
      "     tex_neg |    2031.0000       0.1503       0.1959       0.1951       0.0000\n",
      "shareindex~n |    2031.0000       1.4552       0.0450       0.0647      -8.7477\n",
      "total_mv_h~h |    2031.0000       1.4624       0.1258       0.1484      -9.3874\n",
      "  idvol_high |    2031.0000       2.0235       0.1532       0.2627      -9.7973\n",
      "total_mv_low |    2031.0000       2.0224       0.0890       0.2190      -9.7716\n",
      "   idvol_low |    2031.0000       1.3661       0.1080       0.1252      -9.3061\n",
      "-------------------------------------------------------------------------------\n",
      "\n",
      "    Variable |          Max\n",
      "-------------+-------------\n",
      "     img_neg |       1.0000\n",
      "     tex_neg |       1.0000\n",
      "shareindex~n |       6.7147\n",
      "total_mv_h~h |       7.3110\n",
      "  idvol_high |      10.0025\n",
      "total_mv_low |       9.8115\n",
      "   idvol_low |       6.8176\n",
      "---------------------------\n",
      "\n",
      ". \n"
     ]
    }
   ],
   "source": [
    "%%stata -d df_series_ols -force\n",
    "//描述性统计\n",
    "tabstat *_neg *_return *_high *_low, s(N sd mean p50 min max ) f(%12.4f) c(s)"
   ],
   "metadata": {
    "collapsed": false
   }
  },
  {
   "cell_type": "code",
   "execution_count": 12,
   "outputs": [
    {
     "name": "stdout",
     "output_type": "stream",
     "text": [
      "\n",
      ". //时间设定\n",
      ". ge time = _n\n",
      "\n",
      ". tsset time\n",
      "\n",
      "Time variable: time, 1 to 2031\n",
      "        Delta: 1 unit\n",
      "\n",
      ". est clear\n",
      "\n",
      ". \n",
      ". //VAR回归\n",
      ". foreach var in total_mv_high total_mv_low  idvol_high idvol_low {\n",
      "  2.     rename(`var' `var'_s) (return return_s)\n",
      "  3. \n",
      ".     eststo: qui var return img_neg return, lags(1/5) exog(month_* weekday_*)\n",
      "  4.     estadd local Month \"Yes\", replace\n",
      "  5.     estadd local Weekday \"Yes\", replace\n",
      "  6. \n",
      ".     rename(return return_s) (`var' `var'_s)\n",
      "  7. }\n",
      "(est1 stored)\n",
      "\n",
      "added macro:\n",
      "              e(Month) : \"Yes\"\n",
      "\n",
      "added macro:\n",
      "            e(Weekday) : \"Yes\"\n",
      "(est2 stored)\n",
      "\n",
      "added macro:\n",
      "              e(Month) : \"Yes\"\n",
      "\n",
      "added macro:\n",
      "            e(Weekday) : \"Yes\"\n",
      "(est3 stored)\n",
      "\n",
      "added macro:\n",
      "              e(Month) : \"Yes\"\n",
      "\n",
      "added macro:\n",
      "            e(Weekday) : \"Yes\"\n",
      "(est4 stored)\n",
      "\n",
      "added macro:\n",
      "              e(Month) : \"Yes\"\n",
      "\n",
      "added macro:\n",
      "            e(Weekday) : \"Yes\"\n",
      "\n",
      ". \n",
      ". //输出\n",
      ". esttab, keep(return:L*.img_neg) ///\n",
      "> star(* 0.1 ** 0.05 *** 0.01) ///\n",
      "> stats( Month Weekday  r2_1 N, fmt(%3s %3s %12.4f %12.0f)) b(%12.4f) ///\n",
      "> title(\"Table1 Arbitrage Limit\") mtitle(\"HIGH\" \"LOW\" \"HIGH\" \"LOW\")  nogap ///\n",
      "> mgroups(\"Market Value\" \"Idiosyncratic Volatility\", pattern(1 0 1 0) )\n",
      "\n",
      "Table1 Arbitrage Limit\n",
      "----------------------------------------------------------------------------\n",
      "             Market Value                    Idiosyncra~y                   \n",
      "                      (1)             (2)             (3)             (4)   \n",
      "                     HIGH             LOW            HIGH             LOW   \n",
      "----------------------------------------------------------------------------\n",
      "return                                                                      \n",
      "L.img_neg         -0.5600**       -0.7827**       -0.7894**       -0.5131** \n",
      "                  (-2.44)         (-2.49)         (-2.50)         (-2.40)   \n",
      "L2.img_neg         0.1057          0.3151          0.1853          0.1095   \n",
      "                   (0.46)          (1.00)          (0.58)          (0.51)   \n",
      "L3.img_neg         0.0944          0.2115         -0.0439          0.1765   \n",
      "                   (0.41)          (0.67)         (-0.14)          (0.82)   \n",
      "L4.img_neg         0.1218         -0.0642          0.0453          0.1149   \n",
      "                   (0.53)         (-0.20)          (0.14)          (0.54)   \n",
      "L5.img_neg        -0.5411**       -0.5222*        -0.5091         -0.5731***\n",
      "                  (-2.37)         (-1.67)         (-1.62)         (-2.68)   \n",
      "----------------------------------------------------------------------------\n",
      "Month                 Yes             Yes             Yes             Yes   \n",
      "Weekday               Yes             Yes             Yes             Yes   \n",
      "r2_1               0.0152          0.0311          0.0214          0.0151   \n",
      "N                    2026            2026            2026            2026   \n",
      "----------------------------------------------------------------------------\n",
      "t statistics in parentheses\n",
      "* p<0.1, ** p<0.05, *** p<0.01\n",
      "\n",
      ". \n"
     ]
    }
   ],
   "source": [
    "%%stata -d df_series_ols -force\n",
    "//时间设定\n",
    "ge time = _n\n",
    "tsset time\n",
    "est clear\n",
    "\n",
    "//VAR回归\n",
    "foreach var in total_mv_high total_mv_low  idvol_high idvol_low {\n",
    "    rename(`var' `var'_s) (return return_s)\n",
    "\n",
    "    eststo: qui var return img_neg return, lags(1/5) exog(month_* weekday_*)\n",
    "    estadd local Month \"Yes\", replace\n",
    "    estadd local Weekday \"Yes\", replace\n",
    "\n",
    "    rename(return return_s) (`var' `var'_s)\n",
    "}\n",
    "\n",
    "//输出\n",
    "esttab, keep(return:L*.img_neg) ///\n",
    "star(* 0.1 ** 0.05 *** 0.01) ///\n",
    "stats( Month Weekday  r2_1 N, fmt(%3s %3s %12.4f %12.0f)) b(%12.4f) ///\n",
    "title(\"Table1 Arbitrage Limit\") mtitle(\"HIGH\" \"LOW\" \"HIGH\" \"LOW\")  nogap ///\n",
    "mgroups(\"Market Value\" \"Idiosyncratic Volatility\", pattern(1 0 1 0) )"
   ],
   "metadata": {
    "collapsed": false
   }
  },
  {
   "cell_type": "markdown",
   "source": [
    "## 4. 按照观测窗口构造投资策略(暂时不做)"
   ],
   "metadata": {
    "collapsed": false
   }
  },
  {
   "cell_type": "code",
   "execution_count": 10,
   "outputs": [],
   "source": [
    "def cal_return(df, ma):\n",
    "    df[f'img_neg_m{ma}'] = (df['img_neg'].rolling(ma).mean())\n",
    "\n",
    "    # 历史均值K\n",
    "    df['sell_signal'] = df['img_neg'] >= df[f'img_neg_m{ma}']\n",
    "    df['sell_signal'] = df['sell_signal'].shift(1)\n",
    "\n",
    "    # 高于均值投资\n",
    "    df['img_return'] = np.where(df['sell_signal'], -1*(df['sell_signal']*df['HIGH']), df['shareindex_return'])\n",
    "\n",
    "    # 去掉空行\n",
    "    df.dropna(axis=0, inplace=True)\n",
    "\n",
    "    # 换算\n",
    "    df['mv_shareindex'] = ((df['shareindex_return'] + 100)/100)\n",
    "    df['mv_img'] = ((df['img_return'] + 100)/100)\n",
    "    df['mv_shareindex'] = df['mv_shareindex'].cumprod(axis=0)\n",
    "    df['mv_img'] = df['mv_img'].cumprod(axis=0)\n",
    "\n",
    "    return df.rename(columns={'mv_img': f'mv_img_{ma}'})\n",
    "\n",
    "\n",
    "def start():\n",
    "    df_in = df_series\n",
    "    for i in [5, ]:\n",
    "        df_in = cal_return(df_in, i)\n",
    "\n",
    "    return df_in\n",
    "\n",
    "# start()"
   ],
   "metadata": {
    "collapsed": false
   }
  }
 ],
 "metadata": {
  "kernelspec": {
   "name": "stata",
   "language": "python",
   "display_name": "Stata"
  },
  "language_info": {
   "codemirror_mode": {
    "name": "ipython",
    "version": 2
   },
   "file_extension": ".py",
   "mimetype": "text/x-python",
   "name": "python",
   "nbconvert_exporter": "python",
   "pygments_lexer": "ipython2",
   "version": "2.7.6"
  }
 },
 "nbformat": 4,
 "nbformat_minor": 0
}
