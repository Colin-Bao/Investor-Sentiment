{
 "cells": [
  {
   "cell_type": "markdown",
   "source": [
    "# 情绪投资策略(2014-2022年全A股市场)"
   ],
   "metadata": {
    "collapsed": false
   }
  },
  {
   "cell_type": "markdown",
   "source": [
    "## 1.数据准备"
   ],
   "metadata": {
    "collapsed": false
   }
  },
  {
   "cell_type": "code",
   "execution_count": 1,
   "outputs": [
    {
     "name": "stdout",
     "output_type": "stream",
     "text": [
      "\n",
      "  ___  ____  ____  ____  ____ ©\n",
      " /__    /   ____/   /   ____/      17.0\n",
      "___/   /   /___/   /   /___/       MP—Parallel Edition\n",
      "\n",
      " Statistics and Data Science       Copyright 1985-2021 StataCorp LLC\n",
      "                                   StataCorp\n",
      "                                   4905 Lakeway Drive\n",
      "                                   College Station, Texas 77845 USA\n",
      "                                   800-STATA-PC        https://www.stata.com\n",
      "                                   979-696-4600        stata@stata.com\n",
      "\n",
      "Stata license: Single-user 8-core , expiring  1 Jan 2025\n",
      "Serial number: 501709301094\n",
      "  Licensed to: Colin's Stata\n",
      "               Love U\n",
      "\n",
      "Notes:\n",
      "      1. Unicode is supported; see help unicode_advice.\n",
      "      2. More than 2 billion observations are allowed; see help obs_advice.\n",
      "      3. Maximum number of variables is set to 5,000; see help set_maxvar.\n"
     ]
    }
   ],
   "source": [
    "import sys\n",
    "import os\n",
    "import numpy as np\n",
    "import cudf  #CUDA计算\n",
    "import pandas as pd\n",
    "\n",
    "sys.path.append('/home/ubuntu/notebook/Investor-Sentiment')\n",
    "sys.path.append('/usr/local/stata17/utilities')\n",
    "from pystata import config  #Stata\n",
    "from statsmodels.regression.rolling import RollingOLS  #滚动回归\n",
    "from pandarallel import pandarallel  #多线程groupby Apply\n",
    "\n",
    "config.init('mp')\n",
    "\n",
    "# ------------------------------数据集路径----------------------------------#\n",
    "DATASETS_PATH = './DataSets/'"
   ],
   "metadata": {
    "collapsed": false
   }
  },
  {
   "cell_type": "markdown",
   "source": [
    "### 1.1 下载和合并面板数据"
   ],
   "metadata": {
    "collapsed": false
   }
  },
  {
   "cell_type": "code",
   "execution_count": 2,
   "outputs": [
    {
     "name": "stdout",
     "output_type": "stream",
     "text": [
      "CPU times: user 74 ms, sys: 8.87 ms, total: 82.9 ms\n",
      "Wall time: 82 ms\n"
     ]
    }
   ],
   "source": [
    "%%time\n",
    "\n",
    "# 下载数据\n",
    "def load_data():\n",
    "    # 数据集:个股K线面板数据,个股基本面数据\n",
    "    data_list = ['ASHARE_BAR_PANEL.parquet', 'ASHARE_BASIC_PANEL.parquet']\n",
    "    from loader.findata_loader import DownLoader\n",
    "    if not set(data_list).issubset(os.listdir('./DataSets/')): DownLoader(MAX_CORE=10).load_data()\n",
    "\n",
    "\n",
    "load_data()"
   ],
   "metadata": {
    "collapsed": false
   }
  },
  {
   "cell_type": "code",
   "execution_count": 3,
   "outputs": [
    {
     "name": "stdout",
     "output_type": "stream",
     "text": [
      "CPU times: user 3.05 s, sys: 1.59 s, total: 4.64 s\n",
      "Wall time: 4.65 s\n"
     ]
    },
    {
     "data": {
      "text/plain": "                      share_return      total_mv  shareindex_return  \\\ntrade_date ts_code                                                    \n20140102   000001.SZ       -0.1641  1.002537e+07            -0.3454   \n           000002.SZ       -0.4972  8.799966e+06            -0.3454   \n           000004.SZ        1.3734  9.917646e+04            -0.3454   \n           000005.SZ       -0.4000  2.276691e+05            -0.3454   \n           000006.SZ       -1.2164  6.574476e+05            -0.3454   \n...                            ...           ...                ...   \n20221130   872374.BJ       -1.7259           NaN             0.1199   \n20221201   301290.SZ       -8.7349  4.856403e+05             1.0831   \n           301311.SZ       12.7436  5.414400e+05             1.0831   \n           870199.BJ       -3.1447  1.498420e+05             1.0831   \n           872374.BJ        0.2066           NaN             1.0831   \n\n                      riskfree_return  \ntrade_date ts_code                     \n20140102   000001.SZ         0.015460  \n           000002.SZ         0.015460  \n           000004.SZ         0.015460  \n           000005.SZ         0.015460  \n           000006.SZ         0.015460  \n...                               ...  \n20221130   872374.BJ         0.006092  \n20221201   301290.SZ         0.006103  \n           301311.SZ         0.006103  \n           870199.BJ         0.006103  \n           872374.BJ         0.006103  \n\n[7143120 rows x 4 columns]",
      "text/html": "<div>\n<style scoped>\n    .dataframe tbody tr th:only-of-type {\n        vertical-align: middle;\n    }\n\n    .dataframe tbody tr th {\n        vertical-align: top;\n    }\n\n    .dataframe thead th {\n        text-align: right;\n    }\n</style>\n<table border=\"1\" class=\"dataframe\">\n  <thead>\n    <tr style=\"text-align: right;\">\n      <th></th>\n      <th></th>\n      <th>share_return</th>\n      <th>total_mv</th>\n      <th>shareindex_return</th>\n      <th>riskfree_return</th>\n    </tr>\n    <tr>\n      <th>trade_date</th>\n      <th>ts_code</th>\n      <th></th>\n      <th></th>\n      <th></th>\n      <th></th>\n    </tr>\n  </thead>\n  <tbody>\n    <tr>\n      <th rowspan=\"5\" valign=\"top\">20140102</th>\n      <th>000001.SZ</th>\n      <td>-0.1641</td>\n      <td>1.002537e+07</td>\n      <td>-0.3454</td>\n      <td>0.015460</td>\n    </tr>\n    <tr>\n      <th>000002.SZ</th>\n      <td>-0.4972</td>\n      <td>8.799966e+06</td>\n      <td>-0.3454</td>\n      <td>0.015460</td>\n    </tr>\n    <tr>\n      <th>000004.SZ</th>\n      <td>1.3734</td>\n      <td>9.917646e+04</td>\n      <td>-0.3454</td>\n      <td>0.015460</td>\n    </tr>\n    <tr>\n      <th>000005.SZ</th>\n      <td>-0.4000</td>\n      <td>2.276691e+05</td>\n      <td>-0.3454</td>\n      <td>0.015460</td>\n    </tr>\n    <tr>\n      <th>000006.SZ</th>\n      <td>-1.2164</td>\n      <td>6.574476e+05</td>\n      <td>-0.3454</td>\n      <td>0.015460</td>\n    </tr>\n    <tr>\n      <th>...</th>\n      <th>...</th>\n      <td>...</td>\n      <td>...</td>\n      <td>...</td>\n      <td>...</td>\n    </tr>\n    <tr>\n      <th>20221130</th>\n      <th>872374.BJ</th>\n      <td>-1.7259</td>\n      <td>NaN</td>\n      <td>0.1199</td>\n      <td>0.006092</td>\n    </tr>\n    <tr>\n      <th rowspan=\"4\" valign=\"top\">20221201</th>\n      <th>301290.SZ</th>\n      <td>-8.7349</td>\n      <td>4.856403e+05</td>\n      <td>1.0831</td>\n      <td>0.006103</td>\n    </tr>\n    <tr>\n      <th>301311.SZ</th>\n      <td>12.7436</td>\n      <td>5.414400e+05</td>\n      <td>1.0831</td>\n      <td>0.006103</td>\n    </tr>\n    <tr>\n      <th>870199.BJ</th>\n      <td>-3.1447</td>\n      <td>1.498420e+05</td>\n      <td>1.0831</td>\n      <td>0.006103</td>\n    </tr>\n    <tr>\n      <th>872374.BJ</th>\n      <td>0.2066</td>\n      <td>NaN</td>\n      <td>1.0831</td>\n      <td>0.006103</td>\n    </tr>\n  </tbody>\n</table>\n<p>7143120 rows × 4 columns</p>\n</div>"
     },
     "execution_count": 3,
     "metadata": {},
     "output_type": "execute_result"
    }
   ],
   "source": [
    "%%time\n",
    "\n",
    "# 提取面板数据\n",
    "def extract_panel():\n",
    "    # 个股K线数据\n",
    "    df_bar = (\n",
    "        cudf.read_parquet('./DataSets/ASHARE_BAR_PANEL.parquet', columns=['trade_date', 'ts_code', 'pct_chg'])\n",
    "        .rename(columns={'pct_chg': 'share_return'})\n",
    "    )\n",
    "\n",
    "    # 个股基本面数据\n",
    "    df_basic = cudf.read_parquet('./DataSets/ASHARE_BASIC_PANEL.parquet', columns=['trade_date', 'ts_code', 'total_mv'])\n",
    "\n",
    "    # 合并\n",
    "    df_p = cudf.concat([df_bar, df_basic], join=\"left\", axis=1, sort=True)\n",
    "\n",
    "    # 压缩数据\n",
    "    df_p.index.levels[1].astype('category', inplace=True)\n",
    "\n",
    "    return df_p\n",
    "\n",
    "\n",
    "# 提取时间序列数据\n",
    "def extract_time_series():\n",
    "    # 股指数据\n",
    "    from utils.sql import DB\n",
    "    db_loader = DB()\n",
    "    df_share_index = (\n",
    "        pd.read_sql_table('399300.SZ', db_loader.ENGINE, 'FIN_DAILY_INDEX', columns=['trade_date', 'pct_chg'])\n",
    "        .astype(dtype={'trade_date': 'uint32'}).set_index('trade_date').rename(columns={'pct_chg': 'shareindex_return'})\n",
    "    )\n",
    "\n",
    "    # shibor数据\n",
    "    df_shibor = (\n",
    "            pd.read_sql_table('SHIBOR', db_loader.ENGINE, 'FIN_DAILY_INDEX', columns=['trade_date', '3m'])\n",
    "            .astype(dtype={'trade_date': 'uint32'}).set_index('trade_date').rename(columns={'3m': 'riskfree_return'})/360\n",
    "    )\n",
    "\n",
    "    # 情绪数据\n",
    "    df_sent = pd.concat(\n",
    "            [pd.read_sql_table('IMG_SENT', db_loader.ENGINE, 'SENT_DAILY').astype(dtype={'trade_date': 'uint32'})\n",
    "             .set_index('trade_date').rename(columns={'neg_index': 'img_neg'}),\n",
    "             pd.read_sql_table('TEX_SENT', db_loader.ENGINE, 'SENT_DAILY').astype(dtype={'trade_date': 'uint32'})\n",
    "             .set_index('trade_date').rename(columns={'neg_index': 'tex_neg'})\n",
    "             ], axis=1\n",
    "    )\n",
    "\n",
    "    return (cudf.from_pandas(pd.concat([df_share_index, df_shibor], join=\"inner\", axis=1, sort=True)),\n",
    "            pd.concat([df_sent, df_share_index, df_shibor], join=\"inner\", axis=1, sort=True))\n",
    "\n",
    "\n",
    "# 合并数据\n",
    "def extract_merge():\n",
    "    df_p = extract_panel()\n",
    "    df_t, _ = extract_time_series()\n",
    "    df_m = cudf.merge(\n",
    "            left=df_p.reset_index(), right=df_t.reset_index(), left_on='trade_date', right_on='trade_date', how=\"left\",\n",
    "            sort=True\n",
    "    )\n",
    "    return df_m.set_index(['trade_date', 'ts_code']).sort_index(ascending=[True, True])\n",
    "\n",
    "\n",
    "df_panel = extract_merge()\n",
    "_, df_time_series = extract_time_series()\n",
    "\n",
    "# 数据筛选\n",
    "df_panel = df_panel[df_panel.index.get_level_values('trade_date') >= 20140101].to_pandas()\n",
    "df_panel"
   ],
   "metadata": {
    "collapsed": false
   }
  },
  {
   "cell_type": "markdown",
   "source": [
    "## 2.构造截面异质波动率与市值高低组合"
   ],
   "metadata": {
    "collapsed": false
   }
  },
  {
   "cell_type": "markdown",
   "source": [
    "#### 2.1 计算面板数据的异质波动率IDVOL"
   ],
   "metadata": {
    "collapsed": false
   }
  },
  {
   "cell_type": "code",
   "execution_count": 4,
   "outputs": [
    {
     "name": "stdout",
     "output_type": "stream",
     "text": [
      "CPU times: user 101 ms, sys: 100 ms, total: 201 ms\n",
      "Wall time: 200 ms\n"
     ]
    },
    {
     "data": {
      "text/plain": "                      share_return      total_mv        Idvol\ntrade_date ts_code                                           \n20140102   000001.SZ       -0.1641  1.002537e+07         <NA>\n           000002.SZ       -0.4972  8.799966e+06         <NA>\n           000004.SZ        1.3734  9.917646e+04         <NA>\n           000005.SZ       -0.4000  2.276691e+05         <NA>\n           000006.SZ       -1.2164  6.574476e+05         <NA>\n...                            ...           ...          ...\n20221128   873122.BJ       -2.0158  1.259199e+05  19.27363078\n           873169.BJ       -1.5198  5.443271e+04  1.319910083\n           873223.BJ       -0.2660  5.898188e+04  0.730762806\n           873339.BJ       -0.5093  1.290394e+05         <NA>\n           873527.BJ        0.0000  5.445873e+04         <NA>\n\n[7136670 rows x 3 columns]",
      "text/html": "<div>\n<style scoped>\n    .dataframe tbody tr th:only-of-type {\n        vertical-align: middle;\n    }\n\n    .dataframe tbody tr th {\n        vertical-align: top;\n    }\n\n    .dataframe thead th {\n        text-align: right;\n    }\n</style>\n<table border=\"1\" class=\"dataframe\">\n  <thead>\n    <tr style=\"text-align: right;\">\n      <th></th>\n      <th></th>\n      <th>share_return</th>\n      <th>total_mv</th>\n      <th>Idvol</th>\n    </tr>\n    <tr>\n      <th>trade_date</th>\n      <th>ts_code</th>\n      <th></th>\n      <th></th>\n      <th></th>\n    </tr>\n  </thead>\n  <tbody>\n    <tr>\n      <th rowspan=\"5\" valign=\"top\">20140102</th>\n      <th>000001.SZ</th>\n      <td>-0.1641</td>\n      <td>1.002537e+07</td>\n      <td>&lt;NA&gt;</td>\n    </tr>\n    <tr>\n      <th>000002.SZ</th>\n      <td>-0.4972</td>\n      <td>8.799966e+06</td>\n      <td>&lt;NA&gt;</td>\n    </tr>\n    <tr>\n      <th>000004.SZ</th>\n      <td>1.3734</td>\n      <td>9.917646e+04</td>\n      <td>&lt;NA&gt;</td>\n    </tr>\n    <tr>\n      <th>000005.SZ</th>\n      <td>-0.4000</td>\n      <td>2.276691e+05</td>\n      <td>&lt;NA&gt;</td>\n    </tr>\n    <tr>\n      <th>000006.SZ</th>\n      <td>-1.2164</td>\n      <td>6.574476e+05</td>\n      <td>&lt;NA&gt;</td>\n    </tr>\n    <tr>\n      <th>...</th>\n      <th>...</th>\n      <td>...</td>\n      <td>...</td>\n      <td>...</td>\n    </tr>\n    <tr>\n      <th rowspan=\"5\" valign=\"top\">20221128</th>\n      <th>873122.BJ</th>\n      <td>-2.0158</td>\n      <td>1.259199e+05</td>\n      <td>19.27363078</td>\n    </tr>\n    <tr>\n      <th>873169.BJ</th>\n      <td>-1.5198</td>\n      <td>5.443271e+04</td>\n      <td>1.319910083</td>\n    </tr>\n    <tr>\n      <th>873223.BJ</th>\n      <td>-0.2660</td>\n      <td>5.898188e+04</td>\n      <td>0.730762806</td>\n    </tr>\n    <tr>\n      <th>873339.BJ</th>\n      <td>-0.5093</td>\n      <td>1.290394e+05</td>\n      <td>&lt;NA&gt;</td>\n    </tr>\n    <tr>\n      <th>873527.BJ</th>\n      <td>0.0000</td>\n      <td>5.445873e+04</td>\n      <td>&lt;NA&gt;</td>\n    </tr>\n  </tbody>\n</table>\n<p>7136670 rows × 3 columns</p>\n</div>"
     },
     "execution_count": 4,
     "metadata": {},
     "output_type": "execute_result"
    }
   ],
   "source": [
    "%%time\n",
    "\n",
    "# 滚动OLS回归求异质波动率\n",
    "def roll_idvol(df_code: pd.DataFrame, ols_window: int, var_ma: int) -> pd.DataFrame:\n",
    "    try:\n",
    "        # 估计参数\n",
    "        model_ols = RollingOLS(endog=df_code[['Y']], exog=df_code[['CONST', 'X']], window=ols_window)\n",
    "        df_para = model_ols.fit().params.rename(columns={'CONST': 'Alpha', 'X': 'Beta'})\n",
    "\n",
    "        # 预测残差 已经对齐了\n",
    "        df_con = pd.concat([df_code, df_para], axis=1, join='inner')\n",
    "        df_con['Residual'] = df_con['Alpha'] + df_con['Beta']*df_con['X'] - df_con['Y']\n",
    "\n",
    "        # 计算月波动率\n",
    "        df_con['Idvol'] = df_con['Residual'].rolling(var_ma).var(ddof=1)\n",
    "        return df_con[['share_return', 'total_mv', 'Idvol']]\n",
    "    except (IndexError, ValueError): return pd.DataFrame(columns=['trade_date', 'ts_code']).set_index(['trade_date', 'ts_code'])\n",
    "\n",
    "\n",
    "# 分组计算\n",
    "def cal_panel_ols():\n",
    "    # 定义回归变量 CAPM回归: (rm-rf)=a+b*(RM-rf)\n",
    "    df_panel['Y'] = df_panel['share_return'] - df_panel['riskfree_return']\n",
    "    df_panel['CONST'] = 1  # 带截距项回归\n",
    "    df_panel['X'] = df_panel['shareindex_return'] - df_panel['riskfree_return']\n",
    "\n",
    "    # 多线程加速\n",
    "    pandarallel.initialize(progress_bar=True)\n",
    "    df_out = (df_panel.groupby(level=['ts_code'])[['share_return', 'total_mv', 'Y', 'CONST', 'X']]\n",
    "              .parallel_apply(lambda x: roll_idvol(x, 5, 30)).droplevel(2)\n",
    "              )\n",
    "\n",
    "    # 保存\n",
    "    df_out.to_parquet(f'{DATASETS_PATH}ASHARE_OLS_PANEL.parquet', engine='pyarrow', index=True)\n",
    "\n",
    "\n",
    "# 计算滚动回归\n",
    "if not os.path.exists(f'{DATASETS_PATH}ASHARE_OLS_PANEL.parquet'): cal_panel_ols()\n",
    "\n",
    "# 加载滚动回归的面板数据集\n",
    "df_ols_panel = (\n",
    "    cudf.read_parquet(f'{DATASETS_PATH}ASHARE_OLS_PANEL.parquet').reset_index().set_index(['trade_date', 'ts_code']).sort_index()\n",
    ")\n",
    "df_ols_panel"
   ],
   "metadata": {
    "collapsed": false
   }
  },
  {
   "cell_type": "markdown",
   "source": [
    "### 2.2 面板数据异质波动率分组"
   ],
   "metadata": {
    "collapsed": false
   }
  },
  {
   "cell_type": "code",
   "execution_count": 5,
   "outputs": [
    {
     "name": "stdout",
     "output_type": "stream",
     "text": [
      "CPU times: user 3.09 s, sys: 1.02 s, total: 4.11 s\n",
      "Wall time: 4.11 s\n"
     ]
    },
    {
     "data": {
      "text/plain": "                                  share_return      total_mv        Idvol  \\\ntrade_date idvol_group ts_code                                              \n20140102   LOW         000001.SZ       -0.1641  1.002537e+07         <NA>   \n                       000002.SZ       -0.4972  8.799966e+06         <NA>   \n                       000004.SZ        1.3734  9.917646e+04         <NA>   \n                       000005.SZ       -0.4000  2.276691e+05         <NA>   \n                       000006.SZ       -1.2164  6.574476e+05         <NA>   \n...                                        ...           ...          ...   \n20221128   LOW         872925.BJ       -0.3987  7.386323e+04  1.366920583   \n                       873169.BJ       -1.5198  5.443271e+04  1.319910083   \n                       873223.BJ       -0.2660  5.898188e+04  0.730762806   \n                       873339.BJ       -0.5093  1.290394e+05         <NA>   \n                       873527.BJ        0.0000  5.445873e+04         <NA>   \n\n                                    idvol_top  mv_ratio  idvol_vw_ratio  \\\ntrade_date idvol_group ts_code                                            \n20140102   LOW         000001.SZ         <NA>  0.003834       -0.000629   \n                       000002.SZ         <NA>  0.003365       -0.001673   \n                       000004.SZ         <NA>  0.000038        0.000052   \n                       000005.SZ         <NA>  0.000087       -0.000035   \n                       000006.SZ         <NA>  0.000251       -0.000306   \n...                                       ...       ...             ...   \n20221128   LOW         872925.BJ  2.944717594  0.000013       -0.000005   \n                       873169.BJ  2.944717594  0.000010       -0.000015   \n                       873223.BJ  2.944717594  0.000011       -0.000003   \n                       873339.BJ  2.944717594  0.000023       -0.000012   \n                       873527.BJ  2.944717594  0.000010        0.000000   \n\n                                  idvol_group_return  \ntrade_date idvol_group ts_code                        \n20140102   LOW         000001.SZ            0.104007  \n                       000002.SZ            0.104007  \n                       000004.SZ            0.104007  \n                       000005.SZ            0.104007  \n                       000006.SZ            0.104007  \n...                                              ...  \n20221128   LOW         872925.BJ           -0.769940  \n                       873169.BJ           -0.769940  \n                       873223.BJ           -0.769940  \n                       873339.BJ           -0.769940  \n                       873527.BJ           -0.769940  \n\n[7136670 rows x 7 columns]",
      "text/html": "<div>\n<style scoped>\n    .dataframe tbody tr th:only-of-type {\n        vertical-align: middle;\n    }\n\n    .dataframe tbody tr th {\n        vertical-align: top;\n    }\n\n    .dataframe thead th {\n        text-align: right;\n    }\n</style>\n<table border=\"1\" class=\"dataframe\">\n  <thead>\n    <tr style=\"text-align: right;\">\n      <th></th>\n      <th></th>\n      <th></th>\n      <th>share_return</th>\n      <th>total_mv</th>\n      <th>Idvol</th>\n      <th>idvol_top</th>\n      <th>mv_ratio</th>\n      <th>idvol_vw_ratio</th>\n      <th>idvol_group_return</th>\n    </tr>\n    <tr>\n      <th>trade_date</th>\n      <th>idvol_group</th>\n      <th>ts_code</th>\n      <th></th>\n      <th></th>\n      <th></th>\n      <th></th>\n      <th></th>\n      <th></th>\n      <th></th>\n    </tr>\n  </thead>\n  <tbody>\n    <tr>\n      <th rowspan=\"5\" valign=\"top\">20140102</th>\n      <th rowspan=\"5\" valign=\"top\">LOW</th>\n      <th>000001.SZ</th>\n      <td>-0.1641</td>\n      <td>1.002537e+07</td>\n      <td>&lt;NA&gt;</td>\n      <td>&lt;NA&gt;</td>\n      <td>0.003834</td>\n      <td>-0.000629</td>\n      <td>0.104007</td>\n    </tr>\n    <tr>\n      <th>000002.SZ</th>\n      <td>-0.4972</td>\n      <td>8.799966e+06</td>\n      <td>&lt;NA&gt;</td>\n      <td>&lt;NA&gt;</td>\n      <td>0.003365</td>\n      <td>-0.001673</td>\n      <td>0.104007</td>\n    </tr>\n    <tr>\n      <th>000004.SZ</th>\n      <td>1.3734</td>\n      <td>9.917646e+04</td>\n      <td>&lt;NA&gt;</td>\n      <td>&lt;NA&gt;</td>\n      <td>0.000038</td>\n      <td>0.000052</td>\n      <td>0.104007</td>\n    </tr>\n    <tr>\n      <th>000005.SZ</th>\n      <td>-0.4000</td>\n      <td>2.276691e+05</td>\n      <td>&lt;NA&gt;</td>\n      <td>&lt;NA&gt;</td>\n      <td>0.000087</td>\n      <td>-0.000035</td>\n      <td>0.104007</td>\n    </tr>\n    <tr>\n      <th>000006.SZ</th>\n      <td>-1.2164</td>\n      <td>6.574476e+05</td>\n      <td>&lt;NA&gt;</td>\n      <td>&lt;NA&gt;</td>\n      <td>0.000251</td>\n      <td>-0.000306</td>\n      <td>0.104007</td>\n    </tr>\n    <tr>\n      <th>...</th>\n      <th>...</th>\n      <th>...</th>\n      <td>...</td>\n      <td>...</td>\n      <td>...</td>\n      <td>...</td>\n      <td>...</td>\n      <td>...</td>\n      <td>...</td>\n    </tr>\n    <tr>\n      <th rowspan=\"5\" valign=\"top\">20221128</th>\n      <th rowspan=\"5\" valign=\"top\">LOW</th>\n      <th>872925.BJ</th>\n      <td>-0.3987</td>\n      <td>7.386323e+04</td>\n      <td>1.366920583</td>\n      <td>2.944717594</td>\n      <td>0.000013</td>\n      <td>-0.000005</td>\n      <td>-0.769940</td>\n    </tr>\n    <tr>\n      <th>873169.BJ</th>\n      <td>-1.5198</td>\n      <td>5.443271e+04</td>\n      <td>1.319910083</td>\n      <td>2.944717594</td>\n      <td>0.000010</td>\n      <td>-0.000015</td>\n      <td>-0.769940</td>\n    </tr>\n    <tr>\n      <th>873223.BJ</th>\n      <td>-0.2660</td>\n      <td>5.898188e+04</td>\n      <td>0.730762806</td>\n      <td>2.944717594</td>\n      <td>0.000011</td>\n      <td>-0.000003</td>\n      <td>-0.769940</td>\n    </tr>\n    <tr>\n      <th>873339.BJ</th>\n      <td>-0.5093</td>\n      <td>1.290394e+05</td>\n      <td>&lt;NA&gt;</td>\n      <td>2.944717594</td>\n      <td>0.000023</td>\n      <td>-0.000012</td>\n      <td>-0.769940</td>\n    </tr>\n    <tr>\n      <th>873527.BJ</th>\n      <td>0.0000</td>\n      <td>5.445873e+04</td>\n      <td>&lt;NA&gt;</td>\n      <td>2.944717594</td>\n      <td>0.000010</td>\n      <td>0.000000</td>\n      <td>-0.769940</td>\n    </tr>\n  </tbody>\n</table>\n<p>7136670 rows × 7 columns</p>\n</div>"
     },
     "execution_count": 5,
     "metadata": {},
     "output_type": "execute_result"
    }
   ],
   "source": [
    "%%time\n",
    "\n",
    "# 参数阈值\n",
    "QUANTILE = 0.5\n",
    "\n",
    "\n",
    "# 面板数据分组\n",
    "def group_ols_panel(df):\n",
    "    # 分组\n",
    "    df['idvol_top'] = df['Idvol'].groupby(level=['trade_date']).transform(lambda x: x.quantile(QUANTILE))\n",
    "    df['idvol_group'] = np.where(df['Idvol'].to_pandas() >= df['idvol_top'].to_pandas(), \"HIGH\", \"LOW\")\n",
    "    df = df.reset_index().set_index(['trade_date', 'idvol_group', 'ts_code']).sort_index()\n",
    "\n",
    "    # 求组中市值加权系数,并求回报\n",
    "    df['mv_ratio'] = df['total_mv']/df.groupby(level=['trade_date', 'idvol_group'])['total_mv'].transform('sum')\n",
    "\n",
    "    # 求组中回报\n",
    "    df['idvol_vw_ratio'] = df['mv_ratio']*df['share_return']\n",
    "    df['idvol_group_return'] = (df.groupby(level=['trade_date', 'idvol_group'])['idvol_vw_ratio'].transform('sum'))\n",
    "\n",
    "    return df\n",
    "\n",
    "\n",
    "df_group_panel = group_ols_panel(df_ols_panel)\n",
    "df_group_panel"
   ],
   "metadata": {
    "collapsed": false
   }
  },
  {
   "cell_type": "code",
   "execution_count": 6,
   "outputs": [
    {
     "data": {
      "text/plain": "      trade_date   img_neg   tex_neg  shareindex_return  riskfree_return  \\\n0       20140225  0.000000  0.000000            -2.5559         0.015440   \n1       20140226  0.666667  0.000000             0.2547         0.015393   \n2       20140227  0.000000  0.000000            -0.4297         0.015378   \n3       20140228  0.333333  0.666667             1.1542         0.015358   \n4       20140303  0.333333  0.333333             0.5231         0.015331   \n...          ...       ...       ...                ...              ...   \n2026    20220621  0.238095  0.285714            -0.1124         0.005556   \n2027    20220622  0.227273  0.227273            -1.2702         0.005556   \n2028    20220623  0.363636  0.363636             1.7153         0.005556   \n2029    20220624  0.200000  0.300000             1.1716         0.005556   \n2030    20220627  0.200000  0.133333             1.1261         0.005556   \n\n          HIGH       LOW  \n0    -4.016731 -1.827917  \n1     0.985354  0.193332  \n2    -0.781264  0.026462  \n3     1.174221  0.582117  \n4     1.989484  0.722860  \n...        ...       ...  \n2026 -0.810936  0.125217  \n2027 -0.807400 -1.345733  \n2028  2.629145  1.459178  \n2029  1.323591  0.901009  \n2030  1.406000  0.762883  \n\n[2031 rows x 7 columns]",
      "text/html": "<div>\n<style scoped>\n    .dataframe tbody tr th:only-of-type {\n        vertical-align: middle;\n    }\n\n    .dataframe tbody tr th {\n        vertical-align: top;\n    }\n\n    .dataframe thead th {\n        text-align: right;\n    }\n</style>\n<table border=\"1\" class=\"dataframe\">\n  <thead>\n    <tr style=\"text-align: right;\">\n      <th></th>\n      <th>trade_date</th>\n      <th>img_neg</th>\n      <th>tex_neg</th>\n      <th>shareindex_return</th>\n      <th>riskfree_return</th>\n      <th>HIGH</th>\n      <th>LOW</th>\n    </tr>\n  </thead>\n  <tbody>\n    <tr>\n      <th>0</th>\n      <td>20140225</td>\n      <td>0.000000</td>\n      <td>0.000000</td>\n      <td>-2.5559</td>\n      <td>0.015440</td>\n      <td>-4.016731</td>\n      <td>-1.827917</td>\n    </tr>\n    <tr>\n      <th>1</th>\n      <td>20140226</td>\n      <td>0.666667</td>\n      <td>0.000000</td>\n      <td>0.2547</td>\n      <td>0.015393</td>\n      <td>0.985354</td>\n      <td>0.193332</td>\n    </tr>\n    <tr>\n      <th>2</th>\n      <td>20140227</td>\n      <td>0.000000</td>\n      <td>0.000000</td>\n      <td>-0.4297</td>\n      <td>0.015378</td>\n      <td>-0.781264</td>\n      <td>0.026462</td>\n    </tr>\n    <tr>\n      <th>3</th>\n      <td>20140228</td>\n      <td>0.333333</td>\n      <td>0.666667</td>\n      <td>1.1542</td>\n      <td>0.015358</td>\n      <td>1.174221</td>\n      <td>0.582117</td>\n    </tr>\n    <tr>\n      <th>4</th>\n      <td>20140303</td>\n      <td>0.333333</td>\n      <td>0.333333</td>\n      <td>0.5231</td>\n      <td>0.015331</td>\n      <td>1.989484</td>\n      <td>0.722860</td>\n    </tr>\n    <tr>\n      <th>...</th>\n      <td>...</td>\n      <td>...</td>\n      <td>...</td>\n      <td>...</td>\n      <td>...</td>\n      <td>...</td>\n      <td>...</td>\n    </tr>\n    <tr>\n      <th>2026</th>\n      <td>20220621</td>\n      <td>0.238095</td>\n      <td>0.285714</td>\n      <td>-0.1124</td>\n      <td>0.005556</td>\n      <td>-0.810936</td>\n      <td>0.125217</td>\n    </tr>\n    <tr>\n      <th>2027</th>\n      <td>20220622</td>\n      <td>0.227273</td>\n      <td>0.227273</td>\n      <td>-1.2702</td>\n      <td>0.005556</td>\n      <td>-0.807400</td>\n      <td>-1.345733</td>\n    </tr>\n    <tr>\n      <th>2028</th>\n      <td>20220623</td>\n      <td>0.363636</td>\n      <td>0.363636</td>\n      <td>1.7153</td>\n      <td>0.005556</td>\n      <td>2.629145</td>\n      <td>1.459178</td>\n    </tr>\n    <tr>\n      <th>2029</th>\n      <td>20220624</td>\n      <td>0.200000</td>\n      <td>0.300000</td>\n      <td>1.1716</td>\n      <td>0.005556</td>\n      <td>1.323591</td>\n      <td>0.901009</td>\n    </tr>\n    <tr>\n      <th>2030</th>\n      <td>20220627</td>\n      <td>0.200000</td>\n      <td>0.133333</td>\n      <td>1.1261</td>\n      <td>0.005556</td>\n      <td>1.406000</td>\n      <td>0.762883</td>\n    </tr>\n  </tbody>\n</table>\n<p>2031 rows × 7 columns</p>\n</div>"
     },
     "execution_count": 6,
     "metadata": {},
     "output_type": "execute_result"
    }
   ],
   "source": [
    "# 转为时间序列数据\n",
    "df_series = (\n",
    "    df_group_panel[['idvol_group_return']].groupby(level=['trade_date', 'idvol_group']).first().reset_index()\n",
    "    .pivot(index='trade_date', columns='idvol_group', values='idvol_group_return').to_pandas()\n",
    ")\n",
    "\n",
    "# 合并其他时间序列数据\n",
    "df_series_join = df_time_series.join(df_series).dropna(axis=0).reset_index()\n",
    "df_series_join"
   ],
   "metadata": {
    "collapsed": false
   }
  },
  {
   "cell_type": "markdown",
   "source": [
    "## 3.VAR模型分析"
   ],
   "metadata": {
    "collapsed": false
   }
  },
  {
   "cell_type": "markdown",
   "source": [
    "### 3.1 回归前数据处理"
   ],
   "metadata": {
    "collapsed": false
   }
  },
  {
   "cell_type": "code",
   "execution_count": 7,
   "outputs": [
    {
     "data": {
      "text/plain": "      trade_date   img_neg   tex_neg  shareindex_return  riskfree_return  \\\n0       20140225  0.000000  0.000000            -2.5559         0.015440   \n1       20140226  0.666667  0.000000             0.2547         0.015393   \n2       20140227  0.000000  0.000000            -0.4297         0.015378   \n3       20140228  0.333333  0.666667             1.1542         0.015358   \n4       20140303  0.333333  0.333333             0.5231         0.015331   \n...          ...       ...       ...                ...              ...   \n2026    20220621  0.238095  0.285714            -0.1124         0.005556   \n2027    20220622  0.227273  0.227273            -1.2702         0.005556   \n2028    20220623  0.363636  0.363636             1.7153         0.005556   \n2029    20220624  0.200000  0.300000             1.1716         0.005556   \n2030    20220627  0.200000  0.133333             1.1261         0.005556   \n\n          HIGH       LOW  shareindex_return_s  weekday_1  weekday_2  ...  \\\n0    -4.016731 -1.827917             6.532625          1          0  ...   \n1     0.985354  0.193332             0.064872          0          1  ...   \n2    -0.781264  0.026462             0.184642          0          0  ...   \n3     1.174221  0.582117             1.332178          0          0  ...   \n4     1.989484  0.722860             0.273634          0          0  ...   \n...        ...       ...                  ...        ...        ...  ...   \n2026 -0.810936  0.125217             0.012634          1          0  ...   \n2027 -0.807400 -1.345733             1.613408          0          1  ...   \n2028  2.629145  1.459178             2.942254          0          0  ...   \n2029  1.323591  0.901009             1.372647          0          0  ...   \n2030  1.406000  0.762883             1.268101          0          0  ...   \n\n      month_3  month_4  month_5  month_6  month_7  month_8  month_9  month_10  \\\n0           0        0        0        0        0        0        0         0   \n1           0        0        0        0        0        0        0         0   \n2           0        0        0        0        0        0        0         0   \n3           0        0        0        0        0        0        0         0   \n4           1        0        0        0        0        0        0         0   \n...       ...      ...      ...      ...      ...      ...      ...       ...   \n2026        0        0        0        1        0        0        0         0   \n2027        0        0        0        1        0        0        0         0   \n2028        0        0        0        1        0        0        0         0   \n2029        0        0        0        1        0        0        0         0   \n2030        0        0        0        1        0        0        0         0   \n\n      month_11  month_12  \n0            0         0  \n1            0         0  \n2            0         0  \n3            0         0  \n4            0         0  \n...        ...       ...  \n2026         0         0  \n2027         0         0  \n2028         0         0  \n2029         0         0  \n2030         0         0  \n\n[2031 rows x 23 columns]",
      "text/html": "<div>\n<style scoped>\n    .dataframe tbody tr th:only-of-type {\n        vertical-align: middle;\n    }\n\n    .dataframe tbody tr th {\n        vertical-align: top;\n    }\n\n    .dataframe thead th {\n        text-align: right;\n    }\n</style>\n<table border=\"1\" class=\"dataframe\">\n  <thead>\n    <tr style=\"text-align: right;\">\n      <th></th>\n      <th>trade_date</th>\n      <th>img_neg</th>\n      <th>tex_neg</th>\n      <th>shareindex_return</th>\n      <th>riskfree_return</th>\n      <th>HIGH</th>\n      <th>LOW</th>\n      <th>shareindex_return_s</th>\n      <th>weekday_1</th>\n      <th>weekday_2</th>\n      <th>...</th>\n      <th>month_3</th>\n      <th>month_4</th>\n      <th>month_5</th>\n      <th>month_6</th>\n      <th>month_7</th>\n      <th>month_8</th>\n      <th>month_9</th>\n      <th>month_10</th>\n      <th>month_11</th>\n      <th>month_12</th>\n    </tr>\n  </thead>\n  <tbody>\n    <tr>\n      <th>0</th>\n      <td>20140225</td>\n      <td>0.000000</td>\n      <td>0.000000</td>\n      <td>-2.5559</td>\n      <td>0.015440</td>\n      <td>-4.016731</td>\n      <td>-1.827917</td>\n      <td>6.532625</td>\n      <td>1</td>\n      <td>0</td>\n      <td>...</td>\n      <td>0</td>\n      <td>0</td>\n      <td>0</td>\n      <td>0</td>\n      <td>0</td>\n      <td>0</td>\n      <td>0</td>\n      <td>0</td>\n      <td>0</td>\n      <td>0</td>\n    </tr>\n    <tr>\n      <th>1</th>\n      <td>20140226</td>\n      <td>0.666667</td>\n      <td>0.000000</td>\n      <td>0.2547</td>\n      <td>0.015393</td>\n      <td>0.985354</td>\n      <td>0.193332</td>\n      <td>0.064872</td>\n      <td>0</td>\n      <td>1</td>\n      <td>...</td>\n      <td>0</td>\n      <td>0</td>\n      <td>0</td>\n      <td>0</td>\n      <td>0</td>\n      <td>0</td>\n      <td>0</td>\n      <td>0</td>\n      <td>0</td>\n      <td>0</td>\n    </tr>\n    <tr>\n      <th>2</th>\n      <td>20140227</td>\n      <td>0.000000</td>\n      <td>0.000000</td>\n      <td>-0.4297</td>\n      <td>0.015378</td>\n      <td>-0.781264</td>\n      <td>0.026462</td>\n      <td>0.184642</td>\n      <td>0</td>\n      <td>0</td>\n      <td>...</td>\n      <td>0</td>\n      <td>0</td>\n      <td>0</td>\n      <td>0</td>\n      <td>0</td>\n      <td>0</td>\n      <td>0</td>\n      <td>0</td>\n      <td>0</td>\n      <td>0</td>\n    </tr>\n    <tr>\n      <th>3</th>\n      <td>20140228</td>\n      <td>0.333333</td>\n      <td>0.666667</td>\n      <td>1.1542</td>\n      <td>0.015358</td>\n      <td>1.174221</td>\n      <td>0.582117</td>\n      <td>1.332178</td>\n      <td>0</td>\n      <td>0</td>\n      <td>...</td>\n      <td>0</td>\n      <td>0</td>\n      <td>0</td>\n      <td>0</td>\n      <td>0</td>\n      <td>0</td>\n      <td>0</td>\n      <td>0</td>\n      <td>0</td>\n      <td>0</td>\n    </tr>\n    <tr>\n      <th>4</th>\n      <td>20140303</td>\n      <td>0.333333</td>\n      <td>0.333333</td>\n      <td>0.5231</td>\n      <td>0.015331</td>\n      <td>1.989484</td>\n      <td>0.722860</td>\n      <td>0.273634</td>\n      <td>0</td>\n      <td>0</td>\n      <td>...</td>\n      <td>1</td>\n      <td>0</td>\n      <td>0</td>\n      <td>0</td>\n      <td>0</td>\n      <td>0</td>\n      <td>0</td>\n      <td>0</td>\n      <td>0</td>\n      <td>0</td>\n    </tr>\n    <tr>\n      <th>...</th>\n      <td>...</td>\n      <td>...</td>\n      <td>...</td>\n      <td>...</td>\n      <td>...</td>\n      <td>...</td>\n      <td>...</td>\n      <td>...</td>\n      <td>...</td>\n      <td>...</td>\n      <td>...</td>\n      <td>...</td>\n      <td>...</td>\n      <td>...</td>\n      <td>...</td>\n      <td>...</td>\n      <td>...</td>\n      <td>...</td>\n      <td>...</td>\n      <td>...</td>\n      <td>...</td>\n    </tr>\n    <tr>\n      <th>2026</th>\n      <td>20220621</td>\n      <td>0.238095</td>\n      <td>0.285714</td>\n      <td>-0.1124</td>\n      <td>0.005556</td>\n      <td>-0.810936</td>\n      <td>0.125217</td>\n      <td>0.012634</td>\n      <td>1</td>\n      <td>0</td>\n      <td>...</td>\n      <td>0</td>\n      <td>0</td>\n      <td>0</td>\n      <td>1</td>\n      <td>0</td>\n      <td>0</td>\n      <td>0</td>\n      <td>0</td>\n      <td>0</td>\n      <td>0</td>\n    </tr>\n    <tr>\n      <th>2027</th>\n      <td>20220622</td>\n      <td>0.227273</td>\n      <td>0.227273</td>\n      <td>-1.2702</td>\n      <td>0.005556</td>\n      <td>-0.807400</td>\n      <td>-1.345733</td>\n      <td>1.613408</td>\n      <td>0</td>\n      <td>1</td>\n      <td>...</td>\n      <td>0</td>\n      <td>0</td>\n      <td>0</td>\n      <td>1</td>\n      <td>0</td>\n      <td>0</td>\n      <td>0</td>\n      <td>0</td>\n      <td>0</td>\n      <td>0</td>\n    </tr>\n    <tr>\n      <th>2028</th>\n      <td>20220623</td>\n      <td>0.363636</td>\n      <td>0.363636</td>\n      <td>1.7153</td>\n      <td>0.005556</td>\n      <td>2.629145</td>\n      <td>1.459178</td>\n      <td>2.942254</td>\n      <td>0</td>\n      <td>0</td>\n      <td>...</td>\n      <td>0</td>\n      <td>0</td>\n      <td>0</td>\n      <td>1</td>\n      <td>0</td>\n      <td>0</td>\n      <td>0</td>\n      <td>0</td>\n      <td>0</td>\n      <td>0</td>\n    </tr>\n    <tr>\n      <th>2029</th>\n      <td>20220624</td>\n      <td>0.200000</td>\n      <td>0.300000</td>\n      <td>1.1716</td>\n      <td>0.005556</td>\n      <td>1.323591</td>\n      <td>0.901009</td>\n      <td>1.372647</td>\n      <td>0</td>\n      <td>0</td>\n      <td>...</td>\n      <td>0</td>\n      <td>0</td>\n      <td>0</td>\n      <td>1</td>\n      <td>0</td>\n      <td>0</td>\n      <td>0</td>\n      <td>0</td>\n      <td>0</td>\n      <td>0</td>\n    </tr>\n    <tr>\n      <th>2030</th>\n      <td>20220627</td>\n      <td>0.200000</td>\n      <td>0.133333</td>\n      <td>1.1261</td>\n      <td>0.005556</td>\n      <td>1.406000</td>\n      <td>0.762883</td>\n      <td>1.268101</td>\n      <td>0</td>\n      <td>0</td>\n      <td>...</td>\n      <td>0</td>\n      <td>0</td>\n      <td>0</td>\n      <td>1</td>\n      <td>0</td>\n      <td>0</td>\n      <td>0</td>\n      <td>0</td>\n      <td>0</td>\n      <td>0</td>\n    </tr>\n  </tbody>\n</table>\n<p>2031 rows × 23 columns</p>\n</div>"
     },
     "execution_count": 7,
     "metadata": {},
     "output_type": "execute_result"
    }
   ],
   "source": [
    "# 增加平方项\n",
    "def add_square_column(df, square_column: list): return pd.concat([df, df[square_column].pow(2).add_suffix('_s')], axis=1)\n",
    "\n",
    "\n",
    "# 增加日期虚拟变量\n",
    "def add_dummy_column(df, dummy_column: str):\n",
    "    df_weekday = pd.get_dummies(pd.to_datetime(df[dummy_column], format='%Y%m%d').dt.weekday, prefix='weekday', drop_first=True)\n",
    "    df_month = pd.get_dummies(pd.to_datetime(df[dummy_column], format='%Y%m%d').dt.month, prefix='month', drop_first=True)\n",
    "    return pd.concat([df, df_weekday, df_month], axis=1)\n",
    "\n",
    "\n",
    "df_series_ols = add_dummy_column(add_square_column(df_series_join, ['shareindex_return']), 'trade_date')\n",
    "df_series_ols"
   ],
   "metadata": {
    "collapsed": false
   }
  },
  {
   "cell_type": "markdown",
   "source": [
    "### 3.2 回归结果"
   ],
   "metadata": {
    "collapsed": false
   }
  },
  {
   "cell_type": "code",
   "execution_count": 8,
   "outputs": [
    {
     "name": "stdout",
     "output_type": "stream",
     "text": [
      "\n",
      "    Variable |        Obs        Mean    Std. dev.       Min        Max\n",
      "-------------+---------------------------------------------------------\n",
      "  trade_date |          0\n",
      "     img_neg |      2,031    .2023428    .1434069          0          1\n",
      "     tex_neg |      2,031    .1959272    .1503333          0          1\n",
      "shareindex~n |      2,031    .0449656    1.455169    -8.7477     6.7147\n",
      "riskfree_r~n |      2,031    .0092248    .0027033   .0034861   .0154403\n",
      "-------------+---------------------------------------------------------\n",
      "        HIGH |      2,031    .1532474    2.023544  -9.797337    10.0025\n",
      "         LOW |      2,031    .1080239    1.366127  -9.306147   6.817649\n",
      "shareindex~s |      2,031    2.118496    5.729061   6.40e-07   76.52226\n",
      "   weekday_1 |      2,031     .201871    .4014953          0          1\n",
      "   weekday_2 |      2,031    .2043328    .4033126          0          1\n",
      "-------------+---------------------------------------------------------\n",
      "   weekday_3 |      2,031     .201871    .4014953          0          1\n",
      "   weekday_4 |      2,031    .1979321    .3985388          0          1\n",
      "     month_2 |      2,031    .0659774    .2483036          0          1\n",
      "     month_3 |      2,031    .0984737    .2980274          0          1\n",
      "     month_4 |      2,031    .0886263    .2842736          0          1\n",
      "-------------+---------------------------------------------------------\n",
      "     month_5 |      2,031    .0876416    .2828425          0          1\n",
      "     month_6 |      2,031    .0891187    .2849851          0          1\n",
      "     month_7 |      2,031    .0876416    .2828425          0          1\n",
      "     month_8 |      2,031    .0866568    .2814008          0          1\n",
      "     month_9 |      2,031     .080256    .2717561          0          1\n",
      "-------------+---------------------------------------------------------\n",
      "    month_10 |      2,031    .0669621    .2500179          0          1\n",
      "    month_11 |      2,031     .084195    .2777484          0          1\n",
      "    month_12 |      2,031    .0871492     .282123          0          1\n"
     ]
    }
   ],
   "source": [
    "%%stata -d df_series_ols -force\n",
    "sum"
   ],
   "metadata": {
    "collapsed": false
   }
  },
  {
   "cell_type": "code",
   "execution_count": 9,
   "outputs": [
    {
     "name": "stdout",
     "output_type": "stream",
     "text": [
      "Unknown #command\n",
      "\n"
     ]
    }
   ],
   "source": [
    "%%stata -d df_series_ols -force  -ret r_result -qui\n",
    "# @formatter:off\n",
    "ge time = _n\n",
    "tsset time\n",
    "var shareindex_return img_neg shareindex_return_s, lags(1/5) exog(month_* weekday_*)"
   ],
   "metadata": {
    "collapsed": false
   }
  },
  {
   "cell_type": "code",
   "execution_count": 11,
   "outputs": [],
   "source": [
    "beta_matrix = pd.DataFrame(r_result['r(table)'][[0, 3], :].T[5:10, :]).rename(columns={0:'coff',1:'p_value'})"
   ],
   "metadata": {
    "collapsed": false
   }
  },
  {
   "cell_type": "code",
   "execution_count": 12,
   "outputs": [
    {
     "name": "stderr",
     "output_type": "stream",
     "text": [
      "Exception in thread Stata:\n",
      "Traceback (most recent call last):\n",
      "  File \"/usr/local/miniconda3/envs/Stata/lib/python3.9/threading.py\", line 980, in _bootstrap_inner\n",
      "    self.run()\n",
      "  File \"/usr/local/stata17/utilities/pystata/core/stout.py\", line 169, in run\n",
      "    raise SystemError(output)\n",
      "SystemError: time variable not set, use tsset varname ...\n",
      "r(111);\n",
      "\n"
     ]
    }
   ],
   "source": [
    "%%stata -ret r_result -qui\n",
    "var HIGH img_neg shareindex_return_s, lags(1/5) exog(month_* weekday_*)"
   ],
   "metadata": {
    "collapsed": false
   }
  },
  {
   "cell_type": "code",
   "execution_count": null,
   "outputs": [],
   "source": [
    "beta_matrix=pd.concat([beta_matrix,pd.DataFrame(r_result['r(table)'][[0, 3], :].T[5:10, :])\n",
    "                      .rename(columns={0:'coff',1:'p_value'})],axis=1)"
   ],
   "metadata": {
    "collapsed": false
   }
  },
  {
   "cell_type": "markdown",
   "source": [
    "### 3.3 核心解释变量"
   ],
   "metadata": {
    "collapsed": false
   }
  },
  {
   "cell_type": "code",
   "execution_count": null,
   "outputs": [],
   "source": [
    "# @formatter:on\n",
    "beta_matrix"
   ],
   "metadata": {
    "collapsed": false
   }
  },
  {
   "cell_type": "markdown",
   "source": [
    "## 4.按照观测窗口构造投资策略"
   ],
   "metadata": {
    "collapsed": false
   }
  },
  {
   "cell_type": "code",
   "execution_count": null,
   "outputs": [],
   "source": [
    "def cal_return(df, ma):\n",
    "    df[f'img_neg_m{ma}'] = (df['img_neg'].rolling(ma).mean())\n",
    "\n",
    "    # 历史均值\n",
    "    df['sell_signal'] = df['img_neg'] >= df[f'img_neg_m{ma}']\n",
    "    df['sell_signal'] = df['sell_signal'].shift(1)\n",
    "\n",
    "    # 高于均值投资\n",
    "    df['img_return'] = np.where(df['sell_signal'], -1*(df['sell_signal']*df['HIGH']), df['shareindex_return'])\n",
    "\n",
    "    # 去掉空行\n",
    "    df.dropna(axis=0, inplace=True)\n",
    "\n",
    "    # 换算\n",
    "    df['mv_shareindex'] = ((df['shareindex_return'] + 100)/100)\n",
    "    df['mv_img'] = ((df['img_return'] + 100)/100)\n",
    "    df['mv_shareindex'] = df['mv_shareindex'].cumprod(axis=0)\n",
    "    df['mv_img'] = df['mv_img'].cumprod(axis=0)\n",
    "\n",
    "    return df.rename(columns={'mv_img': f'mv_img_{ma}'})\n",
    "\n",
    "\n",
    "def start():\n",
    "    df_in = df_series\n",
    "    for i in [5, ]:\n",
    "        df_in = cal_return(df_in, i)\n",
    "\n",
    "    return df_in\n",
    "\n",
    "# start()"
   ],
   "metadata": {
    "collapsed": false
   }
  }
 ],
 "metadata": {
  "kernelspec": {
   "name": "stata",
   "language": "python",
   "display_name": "Stata"
  },
  "language_info": {
   "codemirror_mode": {
    "name": "ipython",
    "version": 2
   },
   "file_extension": ".py",
   "mimetype": "text/x-python",
   "name": "python",
   "nbconvert_exporter": "python",
   "pygments_lexer": "ipython2",
   "version": "2.7.6"
  }
 },
 "nbformat": 4,
 "nbformat_minor": 0
}
